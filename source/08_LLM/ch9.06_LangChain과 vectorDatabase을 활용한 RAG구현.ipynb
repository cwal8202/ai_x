{
 "cells": [
  {
   "cell_type": "markdown",
   "id": "b3e6d21a",
   "metadata": {},
   "source": [
    "# RAG 절차\n",
    "- https://law.go.kr/법령/소득세법 에서 doc다운로드(hwp는 파이썬 못 읽음. pdf는 한글의 경우 짤림) 받아 파일형식을 docx로 변경\n",
    "\n",
    "1. 문서를 읽는다 (document_loader이용)\n",
    "2. 읽어온 문서를 쪼갠다(tiktoken 이용)\n",
    "    - 모델의 context window를 초과(128,000 context window)\n",
    "    - 문서가 길면(input이 길면), 비용과 시간이 오래 걸림\n",
    "3. 쪼갠 문서를 임베딩 -> vector database에 저장 -> chroma(local vector DB), pinecorn(클라우드vector DB)\n",
    "4. 질문과 vector Database의 유사도 검색\n",
    "5. 유사도 검색으로 가져온 문서를 LLM에 질문과 같이 전달하여 답변 생성"
   ]
  },
  {
   "cell_type": "code",
   "execution_count": null,
   "id": "38587a9d",
   "metadata": {},
   "outputs": [],
   "source": []
  },
  {
   "cell_type": "code",
   "execution_count": null,
   "id": "e35ab549",
   "metadata": {},
   "outputs": [],
   "source": []
  },
  {
   "cell_type": "code",
   "execution_count": null,
   "id": "15825290",
   "metadata": {},
   "outputs": [],
   "source": []
  }
 ],
 "metadata": {
  "kernelspec": {
   "display_name": "llm(ipykernel)",
   "language": "python",
   "name": "llm"
  },
  "language_info": {
   "codemirror_mode": {
    "name": "ipython",
    "version": 3
   },
   "file_extension": ".py",
   "mimetype": "text/x-python",
   "name": "python",
   "nbconvert_exporter": "python",
   "pygments_lexer": "ipython3",
   "version": "3.10.18"
  },
  "toc": {
   "base_numbering": 1,
   "nav_menu": {},
   "number_sections": false,
   "sideBar": true,
   "skip_h1_title": false,
   "title_cell": "Table of Contents",
   "title_sidebar": "Contents",
   "toc_cell": false,
   "toc_position": {},
   "toc_section_display": true,
   "toc_window_display": false
  }
 },
 "nbformat": 4,
 "nbformat_minor": 5
}
