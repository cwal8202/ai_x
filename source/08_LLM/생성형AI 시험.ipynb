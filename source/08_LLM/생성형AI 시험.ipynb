{
 "cells": [
  {
   "cell_type": "code",
   "execution_count": 1,
   "id": "daa78d65",
   "metadata": {},
   "outputs": [
    {
     "data": {
      "text/html": [
       "\n",
       "<style>\n",
       "div.container{width:86% !important;}\n",
       "div.cell.code_cell.rendered{width:100%;}\n",
       "div.CodeMirror {font-family:Consolas; font-size:15pt;}\n",
       "div.output {font-size:15pt; font-weight:bold;}\n",
       "div.input {font-family:Consolas; font-size:15pt;}\n",
       "div.prompt {min-width:70px;}\n",
       "div#toc-wrapper{padding-top:120px;}\n",
       "div.text_cell_render ul li{font-size:12pt;padding:5px;}\n",
       "table.dataframe{font-size:15px;}\n",
       "</style>\n"
      ],
      "text/plain": [
       "<IPython.core.display.HTML object>"
      ]
     },
     "metadata": {},
     "output_type": "display_data"
    }
   ],
   "source": [
    "from IPython.display import display, HTML\n",
    "display(HTML(\"\"\"\n",
    "<style>\n",
    "div.container{width:86% !important;}\n",
    "div.cell.code_cell.rendered{width:100%;}\n",
    "div.CodeMirror {font-family:Consolas; font-size:15pt;}\n",
    "div.output {font-size:15pt; font-weight:bold;}\n",
    "div.input {font-family:Consolas; font-size:15pt;}\n",
    "div.prompt {min-width:70px;}\n",
    "div#toc-wrapper{padding-top:120px;}\n",
    "div.text_cell_render ul li{font-size:12pt;padding:5px;}\n",
    "table.dataframe{font-size:15px;}\n",
    "</style>\n",
    "\"\"\"))"
   ]
  },
  {
   "cell_type": "markdown",
   "id": "f8804f90",
   "metadata": {},
   "source": [
    "# 생성형 AI 시험"
   ]
  },
  {
   "cell_type": "code",
   "execution_count": 2,
   "id": "ffa86873",
   "metadata": {},
   "outputs": [],
   "source": [
    "# llm 설정, 프롬프트 설정, 랭체인 결합\n",
    "#▪ 원하는 모델을 이용하여 나라를 입력하면 해당 나라의 가장 유명한 음식을 추천하는 렝체인을 구현(food_chain))\n",
    "# ▪ 음식을 입력하면 레시피를 생성하는 렝체인을 구현(recipe_chain)"
   ]
  },
  {
   "cell_type": "code",
   "execution_count": 3,
   "id": "69a44912",
   "metadata": {},
   "outputs": [],
   "source": [
    "# food_Chain 구현\n",
    "from langchain_ollama import ChatOllama\n",
    "from langchain_core.prompts import PromptTemplate\n",
    "from langchain_core.output_parsers import StrOutputParser\n",
    "llm = ChatOllama(model=\"llama3.2:1b\")\n",
    "# 명시적인 지시사항이 포함된 프롬프트\n",
    "prompt_template = PromptTemplate(\n",
    "    template = \"\"\"Guess the most famous traditional food from the following information: {information}\n",
    "    Return only the name of the food.\"\"\",\n",
    "    input_variables=[\"information\"]\n",
    ")\n",
    "output_parser = StrOutputParser()\n",
    "food_chain = prompt_template | llm | output_parser"
   ]
  },
  {
   "cell_type": "code",
   "execution_count": 4,
   "id": "06902d91",
   "metadata": {},
   "outputs": [],
   "source": [
    "# recipe_chain 구현\n",
    "prompt_template = PromptTemplate(\n",
    "    template = \"\"\"You are a professional chef.\n",
    "    Write a detailed recipe for the following food: \n",
    "    {food}\"\"\",\n",
    "    input_variables=[\"food\"]\n",
    ")\n",
    "output_parser = StrOutputParser()\n",
    "recipe_chain = prompt_template | llm | output_parser"
   ]
  },
  {
   "cell_type": "code",
   "execution_count": 5,
   "id": "8b535177",
   "metadata": {},
   "outputs": [
    {
     "data": {
      "text/plain": [
       "'Bibimbap, the iconic Korean rice bowl dish that has captured the hearts of foodies worldwide. As a professional chef, I\\'m excited to share with you a detailed recipe that will transport your taste buds to the bustling streets of Seoul.\\n\\n**Bibimbap Recipe**\\n\\n Servings: 4-6 people\\n\\n**Ingredients:**\\n\\nFor the Bibimbap rice:\\n\\n* 1 cup of white or brown Korean short-grain rice (also known as \"doenjang gurashi\" or \"Korean rice\")\\n* 2 cups of water\\n* 1 tablespoon of sesame oil\\n* 1 small onion, thinly sliced\\n* 2 cloves of garlic, minced\\n* 1 teaspoon of grated ginger\\n* 1/4 cup of kimchi, chopped (store-bought or homemade)\\n* 1/4 cup of bean sprouts\\n* 1/4 cup of diced zucchini\\n* 1/4 cup of diced carrots\\n* 1 tablespoon of toasted sesame seeds\\n* Salt and black pepper to taste\\n\\nFor the vegetables:\\n\\n* 1 cup of mixed vegetables (such as shiitake mushrooms, spinach, and bell peppers)\\n* 1/2 cup of diced cucumber\\n* 1/2 cup of diced avocado\\n* 1/4 cup of chopped cilantro\\n* 1/4 cup of chopped scallions\\n\\nFor the fried egg:\\n\\n* 2 eggs\\n* 1 tablespoon of vegetable oil\\n* Salt and black pepper to taste\\n\\n**Instructions:**\\n\\n**Step 1: Prepare the ingredients**\\n\\nRinse the rice in a fine-mesh strainer until the water runs clear. In a medium saucepan, combine the rice and water. Bring to a boil over high heat, then reduce the heat to low, cover, and simmer for 18-20 minutes or until the rice is cooked and fluffy.\\n\\nWhile the rice cooks, prepare the vegetables:\\n\\n* Slice the onion, garlic, and ginger.\\n* Chop the kimchi and bean sprouts.\\n* Dice the zucchini and carrots.\\n\\n**Step 2: Prepare the fried egg**\\n\\nHeat a non-stick pan over medium heat. Add the vegetable oil and swirl it around to coat the bottom of the pan. Crack an egg into the pan and cook until the whites are set and the yolks are cooked to your desired doneness.\\n\\nSeason with salt and black pepper to taste.\\n\\n**Step 3: Assemble the Bibimbap**\\n\\nTo assemble the dish, place a scoop of steaming hot rice in a bowl or individual bowls. Arrange the vegetables on top of the rice:\\n\\n* Mixed vegetables (such as shiitake mushrooms, spinach, and bell peppers)\\n* Diced cucumber\\n* Diced avocado\\n* Chopped cilantro\\n* Chopped scallions\\n\\nDrizzle the fried egg over the vegetables.\\n\\n**Step 4: Add the kimchi**\\n\\nAdd a spoonful of chopped kimchi on top of the vegetables. This is where the magic happens, folks!\\n\\nTo add an extra layer of flavor and texture, sprinkle toasted sesame seeds over the kimchi.\\n\\n**Step 5: Garnish with sesame oil and green onions**\\n\\nDrizzle a small amount of sesame oil over the dish to give it a rich and nutty flavor. Garnish with chopped green onions for added freshness.\\n\\n**Step 6: Serve and enjoy!**\\n\\nBibimbap is best served immediately, as the flavors are meant to meld together. Share with friends and family, or enjoy it solo – either way, this dish is sure to satisfy your cravings!\\n\\n**Tips and Variations:**\\n\\n* To make Bibimbap more substantial, add cooked beef, chicken, or tofu on top of the vegetables.\\n* For a vegan version, substitute the eggs with a tofu scramble or tempeh.\\n* Experiment with different types of kimchi, such as spicy Korean chili flakes (gochugaru) or sweet and sour kimchi.\\n\\nNow, go forth and create your own Bibimbap masterpieces!'"
      ]
     },
     "execution_count": 5,
     "metadata": {},
     "output_type": "execute_result"
    }
   ],
   "source": [
    "final_chain = {\"food\":food_chain} | recipe_chain\n",
    "final_chain.invoke({\"information\":\"korea\"})"
   ]
  }
 ],
 "metadata": {
  "kernelspec": {
   "display_name": "llm(ipykernel)",
   "language": "python",
   "name": "llm"
  },
  "language_info": {
   "codemirror_mode": {
    "name": "ipython",
    "version": 3
   },
   "file_extension": ".py",
   "mimetype": "text/x-python",
   "name": "python",
   "nbconvert_exporter": "python",
   "pygments_lexer": "ipython3",
   "version": "3.10.18"
  },
  "toc": {
   "base_numbering": 1,
   "nav_menu": {},
   "number_sections": false,
   "sideBar": true,
   "skip_h1_title": false,
   "title_cell": "Table of Contents",
   "title_sidebar": "Contents",
   "toc_cell": false,
   "toc_position": {},
   "toc_section_display": true,
   "toc_window_display": false
  }
 },
 "nbformat": 4,
 "nbformat_minor": 5
}
