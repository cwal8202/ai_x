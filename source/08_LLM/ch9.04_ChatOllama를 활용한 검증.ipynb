{
 "cells": [
  {
   "cell_type": "markdown",
   "id": "1375e4ab",
   "metadata": {},
   "source": [
    "# 1. 환경(패키지 및 환경변수)\n",
    "- pip install langchain-ollama\n",
    "- pip install langchain-community"
   ]
  },
  {
   "cell_type": "code",
   "execution_count": 2,
   "id": "1a4255f7",
   "metadata": {},
   "outputs": [
    {
     "name": "stdout",
     "output_type": "stream",
     "text": [
      "Note: you may need to restart the kernel to use updated packages.\n"
     ]
    }
   ],
   "source": [
    "%pip install -q langchain-community"
   ]
  },
  {
   "cell_type": "markdown",
   "id": "4338e71a",
   "metadata": {},
   "source": [
    "# 2. LLM 답변 생성\n",
    "- https://ollama.com/library/llama3.2\n",
    "- CMD에서 ollama pull llama3.2"
   ]
  },
  {
   "cell_type": "code",
   "execution_count": 6,
   "id": "7eeef28f",
   "metadata": {},
   "outputs": [],
   "source": [
    "from langchain_ollama import ChatOllama\n",
    "# from langchain_community.chat_models import ChatOllama\n",
    "llm = ChatOllama(model=\"llama3.2:1b\")\n",
    "ai_message = llm.invoke(\"2020년 월드 시리즈에서 누가 우승했나요?\")"
   ]
  },
  {
   "cell_type": "code",
   "execution_count": 7,
   "id": "7617aca9",
   "metadata": {},
   "outputs": [
    {
     "data": {
      "text/plain": [
       "AIMessage(content='2020 년 월드 시리즈는 NBA의 두 유일의 국제 시리즈입니다. 2020 년 시즌은由于 COVID-19 pandemic로 연기되었습니다. 이 시즌을 보는 데 많은 문제가있었습니다.\\n\\n이 seasons에서, 마일스 시노니 (Milwaukee Bucks)와 오스틴 레온 (Orlando Magic)는 우승을 차지했습니다.', additional_kwargs={}, response_metadata={'model': 'llama3.2:1b', 'created_at': '2025-07-29T06:00:49.582174Z', 'done': True, 'done_reason': 'stop', 'total_duration': 6979663700, 'load_duration': 1418877300, 'prompt_eval_count': 40, 'prompt_eval_duration': 638617700, 'eval_count': 84, 'eval_duration': 4920987200, 'model_name': 'llama3.2:1b'}, id='run--184a1897-1780-4482-b5de-a079e0705114-0', usage_metadata={'input_tokens': 40, 'output_tokens': 84, 'total_tokens': 124})"
      ]
     },
     "execution_count": 7,
     "metadata": {},
     "output_type": "execute_result"
    }
   ],
   "source": [
    "ai_message"
   ]
  },
  {
   "cell_type": "markdown",
   "id": "d89c1aca",
   "metadata": {},
   "source": [
    "# 3. 코렙에서 Ollama(exaone3.5:2.4b) 돌리기"
   ]
  },
  {
   "cell_type": "code",
   "execution_count": null,
   "id": "2f1d8bfa",
   "metadata": {},
   "outputs": [],
   "source": []
  },
  {
   "cell_type": "code",
   "execution_count": null,
   "id": "5ea85682",
   "metadata": {},
   "outputs": [],
   "source": []
  },
  {
   "cell_type": "code",
   "execution_count": null,
   "id": "e207cf9b",
   "metadata": {},
   "outputs": [],
   "source": []
  },
  {
   "cell_type": "code",
   "execution_count": null,
   "id": "d4f1a440",
   "metadata": {},
   "outputs": [],
   "source": []
  }
 ],
 "metadata": {
  "kernelspec": {
   "display_name": "llm(ipykernel)",
   "language": "python",
   "name": "llm"
  },
  "language_info": {
   "codemirror_mode": {
    "name": "ipython",
    "version": 3
   },
   "file_extension": ".py",
   "mimetype": "text/x-python",
   "name": "python",
   "nbconvert_exporter": "python",
   "pygments_lexer": "ipython3",
   "version": "3.10.18"
  },
  "toc": {
   "base_numbering": 1,
   "nav_menu": {},
   "number_sections": false,
   "sideBar": true,
   "skip_h1_title": false,
   "title_cell": "Table of Contents",
   "title_sidebar": "Contents",
   "toc_cell": false,
   "toc_position": {},
   "toc_section_display": true,
   "toc_window_display": false
  }
 },
 "nbformat": 4,
 "nbformat_minor": 5
}
