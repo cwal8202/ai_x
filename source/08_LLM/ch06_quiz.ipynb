{
 "cells": [
  {
   "cell_type": "code",
   "execution_count": 1,
   "id": "4476dacf",
   "metadata": {},
   "outputs": [
    {
     "data": {
      "text/html": [
       "\n",
       "<style>\n",
       "div.container{width:86% !important;}\n",
       "div.cell.code_cell.rendered{width:100%;}\n",
       "div.CodeMirror {font-family:Consolas; font-size:15pt;}\n",
       "div.output {font-size:15pt; font-weight:bold;}\n",
       "div.input {font-family:Consolas; font-size:15pt;}\n",
       "div.prompt {min-width:70px;}\n",
       "div#toc-wrapper{padding-top:120px;}\n",
       "div.text_cell_render ul li{font-size:12pt;padding:5px;}\n",
       "table.dataframe{font-size:15px;}\n",
       "</style>\n"
      ],
      "text/plain": [
       "<IPython.core.display.HTML object>"
      ]
     },
     "metadata": {},
     "output_type": "display_data"
    }
   ],
   "source": [
    "from IPython.display import display, HTML\n",
    "display(HTML(\"\"\"\n",
    "<style>\n",
    "div.container{width:86% !important;}\n",
    "div.cell.code_cell.rendered{width:100%;}\n",
    "div.CodeMirror {font-family:Consolas; font-size:15pt;}\n",
    "div.output {font-size:15pt; font-weight:bold;}\n",
    "div.input {font-family:Consolas; font-size:15pt;}\n",
    "div.prompt {min-width:70px;}\n",
    "div#toc-wrapper{padding-top:120px;}\n",
    "div.text_cell_render ul li{font-size:12pt;padding:5px;}\n",
    "table.dataframe{font-size:15px;}\n",
    "</style>\n",
    "\"\"\"))"
   ]
  },
  {
   "cell_type": "markdown",
   "id": "695e813a",
   "metadata": {},
   "source": [
    "## 6. Quiz\n",
    "1. 과제 개요\n",
    "교육생들은 OpenAI의 최신 API를 활용하여 주어진 텍스트 파일을 읽고, 내용을 요약한 후, 이를 음성 파일(MP3)로 변환하는 파이썬 프로그램을 개발해야 합니다.\n",
    "본 과제를 통해 학생들은 다음과 같은 핵심 기술을 학습할 수 있습니다.\n",
    "\n",
    "- OpenAI API를 활용한 텍스트 요약\n",
    "- OpenAI의 텍스트 음성 변환(TTS) 기능 적용\n",
    "- Python 환경에서 파일 입출력 처리\n",
    "- python-dotenv를 활용한 API 키 관리\n",
    "\n",
    "2. 요구 사항\n",
    "```\n",
    "a. 텍스트 파일 읽기: 프로그램은 지정된 텍스트 파일(ch06_quiz.txt)을 읽어와야 합니다.\n",
    "b. 텍스트 요약: OpenAI API를 사용하여 긴 텍스트를 70자 이내로 요약해야 합니다.\n",
    "c. 음성 변환: 요약된 내용을 OpenAI의 TTS(Text-to-Speech) API를 활용하여 음성데이터로 변환합니다.\n",
    "d. MP3 파일 저장: 생성된 음성 데이터를 ch06_quiz.mp3 파일로 저장해야 합니다.\n",
    "e. 환경변수 사용: API 키는 코드에 직접 포함하지 않고, .env 파일을 이용해 관리해야 합니다.\n",
    "f. 지정된 보이스 사용: OpenAI TTS에서 제공하는 특정 보이스(\"nova\")를 사용해야 합니다.\n",
    "```\n"
   ]
  },
  {
   "cell_type": "code",
   "execution_count": 5,
   "id": "4959e0d5",
   "metadata": {},
   "outputs": [],
   "source": [
    "from openai import OpenAI\n",
    "from dotenv import load_dotenv\n",
    "\n",
    "load_dotenv()\n",
    "client = OpenAI()"
   ]
  },
  {
   "cell_type": "markdown",
   "id": "33aee90c",
   "metadata": {},
   "source": [
    "### 텍스트 파일 읽기"
   ]
  },
  {
   "cell_type": "code",
   "execution_count": 34,
   "id": "289cc1b9",
   "metadata": {},
   "outputs": [
    {
     "data": {
      "text/plain": [
       "'인공지능(AI)은 인간이나 동물의 자연 지능과 달리 기계가 보여주는 지능을 의미합니다. 주요 AI 교재에서는 이를 \"지능형 에이전트\"의 연구로 정의하며, 이는 환경을 인식하고 목표를 달성하기 위해 행동하는 시스템을 의미합니다. AI의 대표적인 응용 분야로는 자연어 처리(NLP), 컴퓨터 비전, 로보틱스 등이 있습니다. 예를 들어, 자연어 처리는 사람의 언어를 이해하고 생성하는 기술로, 챗봇, 음성 비서, 자동 번역 시스템 등에 활용됩니다. 컴퓨터 비전은 이미지를 분석하고 이해하는 기술로, 얼굴 인식, 자율 주행 자동차, 의료 영상 진단 등에 사용됩니다. AI 기술의 발전은 산업과 일상생활에 큰 변화를 가져오고 있으며, 앞으로도 지속적인 연구와 개발을 통해 더 다양한 분야에서 활용될 것으로 기대됩니다.'"
      ]
     },
     "execution_count": 34,
     "metadata": {},
     "output_type": "execute_result"
    }
   ],
   "source": [
    "with open('data/ch06_quiz.txt', 'r', encoding='utf-8') as f :\n",
    "    text_list = f.readlines()\n",
    "text_list = [t.replace(\"\\n\", \"\") for t in text]\n",
    "text = \"\".join(text_list)\n",
    "text"
   ]
  },
  {
   "cell_type": "markdown",
   "id": "fdceac7f",
   "metadata": {},
   "source": [
    "### 텍스트 요약"
   ]
  },
  {
   "cell_type": "code",
   "execution_count": 35,
   "id": "26b6b6d1",
   "metadata": {},
   "outputs": [],
   "source": [
    "response = client.chat.completions.create(\n",
    "    model=\"gpt-4.1-nano\",\n",
    "    messages=[{\"role\":\"system\", \"content\":\"당신은 한글을 잘하는 전문가입니다. 입력된 내용을 50자로 요약하세요.\"},\n",
    "              {\"role\":\"user\", \"content\":text}]\n",
    ")"
   ]
  },
  {
   "cell_type": "code",
   "execution_count": 48,
   "id": "e345194b",
   "metadata": {},
   "outputs": [
    {
     "data": {
      "text/plain": [
       "'AI는 기계의 지능으로, 자연어 처리, 컴퓨터 비전 등 다양한 분야에 활용되고 있습니다.'"
      ]
     },
     "execution_count": 48,
     "metadata": {},
     "output_type": "execute_result"
    }
   ],
   "source": [
    "text_summary = response.choices[0].message.content\n",
    "text_summary"
   ]
  },
  {
   "cell_type": "markdown",
   "id": "fe0e261d",
   "metadata": {},
   "source": [
    "### 음성변환"
   ]
  },
  {
   "cell_type": "code",
   "execution_count": 50,
   "id": "65372ee8",
   "metadata": {},
   "outputs": [],
   "source": [
    "response_audio = client.audio.speech.create(\n",
    "    model=\"tts-1\",\n",
    "    voice=\"nova\",\n",
    "    input=text_summary,\n",
    "    speed=1.2\n",
    ")"
   ]
  },
  {
   "cell_type": "markdown",
   "id": "9111ad7c",
   "metadata": {},
   "source": [
    "### mp3 파일저장"
   ]
  },
  {
   "cell_type": "code",
   "execution_count": 51,
   "id": "51f37461",
   "metadata": {},
   "outputs": [],
   "source": [
    "summary_audio = response_audio.content\n",
    "with open('data/ch06_quiz.mp3', 'wb') as audio_file :\n",
    "    audio_file.write(summary_audio)"
   ]
  },
  {
   "cell_type": "code",
   "execution_count": null,
   "id": "e6da77a7",
   "metadata": {},
   "outputs": [],
   "source": []
  }
 ],
 "metadata": {
  "kernelspec": {
   "display_name": "llm(ipykernel)",
   "language": "python",
   "name": "llm"
  },
  "language_info": {
   "codemirror_mode": {
    "name": "ipython",
    "version": 3
   },
   "file_extension": ".py",
   "mimetype": "text/x-python",
   "name": "python",
   "nbconvert_exporter": "python",
   "pygments_lexer": "ipython3",
   "version": "3.10.18"
  },
  "toc": {
   "base_numbering": 1,
   "nav_menu": {},
   "number_sections": false,
   "sideBar": true,
   "skip_h1_title": false,
   "title_cell": "Table of Contents",
   "title_sidebar": "Contents",
   "toc_cell": false,
   "toc_position": {},
   "toc_section_display": true,
   "toc_window_display": false
  }
 },
 "nbformat": 4,
 "nbformat_minor": 5
}
