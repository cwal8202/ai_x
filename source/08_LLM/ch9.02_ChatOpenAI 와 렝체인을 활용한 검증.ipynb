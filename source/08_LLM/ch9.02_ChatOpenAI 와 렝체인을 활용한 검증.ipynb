{
 "cells": [
  {
   "cell_type": "markdown",
   "id": "899e1dc7",
   "metadata": {},
   "source": [
    "# 1. 환경(패키지 및 환경변수)\n",
    "- pip install openai langchain-openai"
   ]
  },
  {
   "cell_type": "code",
   "execution_count": 1,
   "id": "c3c0dfda",
   "metadata": {},
   "outputs": [
    {
     "data": {
      "text/plain": [
       "True"
      ]
     },
     "execution_count": 1,
     "metadata": {},
     "output_type": "execute_result"
    }
   ],
   "source": [
    "from dotenv import load_dotenv\n",
    "load_dotenv()"
   ]
  },
  {
   "cell_type": "markdown",
   "id": "f9fb83b1",
   "metadata": {},
   "source": [
    "# 2. LLM 답변 생성\n",
    "## 2.1 openAI SDK 를 선택\n",
    "- 세밀한 제어가 필요할 때, 성능 최적화가 중요할 때"
   ]
  },
  {
   "cell_type": "code",
   "execution_count": 3,
   "id": "90121e1c",
   "metadata": {},
   "outputs": [],
   "source": [
    "from openai import OpenAI\n",
    "client = OpenAI()\n",
    "response = client.chat.completions.create(\n",
    "    model = \"gpt-4.1-nano\",\n",
    "    messages = [\n",
    "        {\"role\":\"system\", \"content\":\"너는 친절하게 대답해 주는 비서야\"},\n",
    "        {\"role\":\"user\", \"content\":\"2020년 월드 시리즈 누가 우승했어?\"}\n",
    "    ]\n",
    ")"
   ]
  },
  {
   "cell_type": "code",
   "execution_count": 4,
   "id": "1df9e408",
   "metadata": {},
   "outputs": [
    {
     "data": {
      "text/plain": [
       "'2020년 월드 시리즈에서 우승한 팀은 로스앤젤레스 다저스입니다. 다저스는 텍사스 레인저스와의 시리즈에서 승리하여 7번째 월드 시리즈 우승을 차지했습니다.'"
      ]
     },
     "execution_count": 4,
     "metadata": {},
     "output_type": "execute_result"
    }
   ],
   "source": [
    "response.choices[0].message.content"
   ]
  },
  {
   "cell_type": "markdown",
   "id": "4a7a62d3",
   "metadata": {},
   "source": [
    "## 2.2 LangChain을 선택\n",
    "- 내부적으로 자동 메세지 셩태를 변환해 줌"
   ]
  },
  {
   "cell_type": "code",
   "execution_count": 7,
   "id": "72661bd6",
   "metadata": {},
   "outputs": [],
   "source": [
    "from langchain_openai import ChatOpenAI\n",
    "# .env OPEN_API_KEY가 등록\n",
    "llm = ChatOpenAI(\n",
    "    model = \"gpt-4.1-nano\" # 기본 모델 : gpt-3.5-turbo\n",
    ")\n",
    "ai_message = llm.invoke(\"2020년 월드 시리즈 누가 우승했나요?\")"
   ]
  },
  {
   "cell_type": "code",
   "execution_count": 8,
   "id": "6d229a36",
   "metadata": {},
   "outputs": [
    {
     "data": {
      "text/plain": [
       "'2020년 월드 시리즈는 로스앤젤레스 다저스가 우승했습니다. 다저스는 텍사스 레인저스를 4승 3패로 꺾고 챔피언에 올랐습니다. 이는 다저스의 7년 만의 우승이었으며, 1988년 이후 첫 우승이기도 합니다.'"
      ]
     },
     "execution_count": 8,
     "metadata": {},
     "output_type": "execute_result"
    }
   ],
   "source": [
    "ai_message.content"
   ]
  },
  {
   "cell_type": "code",
   "execution_count": null,
   "id": "31e3fc67",
   "metadata": {},
   "outputs": [],
   "source": []
  },
  {
   "cell_type": "code",
   "execution_count": null,
   "id": "9a9a07c5",
   "metadata": {},
   "outputs": [],
   "source": []
  },
  {
   "cell_type": "code",
   "execution_count": null,
   "id": "13fa3785",
   "metadata": {},
   "outputs": [],
   "source": []
  }
 ],
 "metadata": {
  "kernelspec": {
   "display_name": "llm(ipykernel)",
   "language": "python",
   "name": "llm"
  },
  "language_info": {
   "codemirror_mode": {
    "name": "ipython",
    "version": 3
   },
   "file_extension": ".py",
   "mimetype": "text/x-python",
   "name": "python",
   "nbconvert_exporter": "python",
   "pygments_lexer": "ipython3",
   "version": "3.10.18"
  },
  "toc": {
   "base_numbering": 1,
   "nav_menu": {},
   "number_sections": false,
   "sideBar": true,
   "skip_h1_title": false,
   "title_cell": "Table of Contents",
   "title_sidebar": "Contents",
   "toc_cell": false,
   "toc_position": {},
   "toc_section_display": true,
   "toc_window_display": false
  }
 },
 "nbformat": 4,
 "nbformat_minor": 5
}
