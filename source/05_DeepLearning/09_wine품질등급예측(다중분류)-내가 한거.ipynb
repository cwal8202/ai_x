{
 "cells": [
  {
   "cell_type": "code",
   "execution_count": 176,
   "id": "916b758d",
   "metadata": {},
   "outputs": [
    {
     "data": {
      "text/html": [
       "\n",
       "<style>\n",
       "div.container{width:86% !important;}\n",
       "div.cell.code_cell.rendered{width:100%;}\n",
       "div.CodeMirror {font-family:Consolas; font-size:15pt;}\n",
       "div.output {font-size:15pt; font-weight:bold;}\n",
       "div.input {font-family:Consolas; font-size:15pt;}\n",
       "div.prompt {min-width:70px;}\n",
       "div#toc-wrapper{padding-top:120px;}\n",
       "div.text_cell_render ul li{font-size:12pt;padding:5px;}\n",
       "table.dataframe{font-size:15px;}\n",
       "</style>\n"
      ],
      "text/plain": [
       "<IPython.core.display.HTML object>"
      ]
     },
     "metadata": {},
     "output_type": "display_data"
    }
   ],
   "source": [
    "from IPython.display import display, HTML\n",
    "display(HTML(\"\"\"\n",
    "<style>\n",
    "div.container{width:86% !important;}\n",
    "div.cell.code_cell.rendered{width:100%;}\n",
    "div.CodeMirror {font-family:Consolas; font-size:15pt;}\n",
    "div.output {font-size:15pt; font-weight:bold;}\n",
    "div.input {font-family:Consolas; font-size:15pt;}\n",
    "div.prompt {min-width:70px;}\n",
    "div#toc-wrapper{padding-top:120px;}\n",
    "div.text_cell_render ul li{font-size:12pt;padding:5px;}\n",
    "table.dataframe{font-size:15px;}\n",
    "</style>\n",
    "\"\"\"))"
   ]
  },
  {
   "cell_type": "code",
   "execution_count": 177,
   "id": "0bda28d6",
   "metadata": {},
   "outputs": [],
   "source": [
    "import numpy as np\n",
    "import pandas as pd\n",
    "from tensorflow.keras.utils import to_categorical # 원핫인코딩\n",
    "from tensorflow.keras.models import Sequential\n",
    "from tensorflow.keras.layers import Dense, Input, Dropout\n",
    "from matplotlib import pyplot as plt # 학습과정 loss와 acc 시각화\n",
    "from sklearn.metrics import confusion_matrix\n",
    "from sklearn.preprocessing import MinMaxScaler, StandardScaler\n",
    "from sklearn.model_selection import train_test_split\n",
    "from tensorflow.keras.callbacks import Callback, EarlyStopping, ModelCheckpoint\n",
    "# quiz에서는 scale 조정, train_test_split 등을 추가"
   ]
  },
  {
   "cell_type": "markdown",
   "id": "8b2d9bc4",
   "metadata": {},
   "source": [
    "- Red Wine 등급 예측\n",
    "1. 데이터 셋 확보\n",
    "    csv -> 결측치처리 -> 독립변수와 타겟변수 분리 -> 독립변수 스케일 조정,\n",
    "    -> 타겟변수의 원핫인코딩 -> 훈련셋과 테스트셋 분리(train_test_split이용 층화추출)\n",
    "2. 모델 구성(입력11, 출력 6 | 출력9) layer층 4\n",
    "3. 모델 학습 과정 설정\n",
    "4. 모델학습(callbacks이용)\n",
    "5. 모델 평가(그래프, 평가, 교차표)\n",
    "6. 모델저장 & 사용"
   ]
  },
  {
   "cell_type": "markdown",
   "id": "e4291216",
   "metadata": {},
   "source": [
    "# 1. 데이터 확보 & 전처리"
   ]
  },
  {
   "cell_type": "code",
   "execution_count": 178,
   "id": "76f27e42",
   "metadata": {},
   "outputs": [
    {
     "name": "stdout",
     "output_type": "stream",
     "text": [
      "5    681\n",
      "6    638\n",
      "7    199\n",
      "4     53\n",
      "8     18\n",
      "3     10\n",
      "Name: quality, dtype: int64\n"
     ]
    },
    {
     "data": {
      "text/plain": [
       "array([[0., 0., 0., 0., 0., 1., 0., 0., 0.],\n",
       "       [0., 0., 0., 0., 0., 1., 0., 0., 0.]], dtype=float32)"
      ]
     },
     "execution_count": 178,
     "metadata": {},
     "output_type": "execute_result"
    }
   ],
   "source": [
    "# 데이터 읽어오기\n",
    "# fixed acidity : 고정 산도\n",
    "# volatile acidity : 휘발성 산도\n",
    "# citric acid : 시트르산\n",
    "# residual sugar : 잔류 당분\n",
    "# chlorides : 염화물\n",
    "# free sulfur dioxide : 자유 이산화황\n",
    "# total sulfur dioxide : 총 이산화황\n",
    "# density : 밀도\n",
    "# pH\n",
    "# sulphates : 황산염\n",
    "# alcohol\n",
    "# quality : 0 ~ 10(높을 수록 좋은 품질)\n",
    "redwine = pd.read_csv('data/winequality-red.csv', sep=';')\n",
    "print(redwine['quality'].value_counts())\n",
    "X = redwine.iloc[:,:-1].values\n",
    "y = redwine.iloc[:,-1].values\n",
    "x_scaler = MinMaxScaler()\n",
    "scaled_X = x_scaler.fit_transform(X)\n",
    "scaled_X\n",
    "y_data = to_categorical(y)\n",
    "y_data[:2]"
   ]
  },
  {
   "cell_type": "code",
   "execution_count": 179,
   "id": "8f7274a5",
   "metadata": {},
   "outputs": [
    {
     "data": {
      "text/plain": [
       "((1119, 11), (480, 11), (1119, 9), (480, 9))"
      ]
     },
     "execution_count": 179,
     "metadata": {},
     "output_type": "execute_result"
    }
   ],
   "source": [
    "X_train, X_test, y_train, y_test = train_test_split(scaled_X, \n",
    "                                                    y_data,\n",
    "                                                    test_size=0.3,\n",
    "                                                    random_state=3,\n",
    "                                                    stratify=y_data\n",
    "                                                   )\n",
    "X_train.shape, X_test.shape, y_train.shape, y_test.shape"
   ]
  },
  {
   "cell_type": "markdown",
   "id": "5a749a68",
   "metadata": {},
   "source": [
    "# 2. 모델 구성"
   ]
  },
  {
   "cell_type": "code",
   "execution_count": 180,
   "id": "085c9bc2",
   "metadata": {},
   "outputs": [
    {
     "name": "stdout",
     "output_type": "stream",
     "text": [
      "Model: \"sequential_12\"\n",
      "_________________________________________________________________\n",
      " Layer (type)                Output Shape              Param #   \n",
      "=================================================================\n",
      " dense_45 (Dense)            (None, 64)                768       \n",
      "                                                                 \n",
      " dense_46 (Dense)            (None, 32)                2080      \n",
      "                                                                 \n",
      " dense_47 (Dense)            (None, 16)                528       \n",
      "                                                                 \n",
      " dense_48 (Dense)            (None, 9)                 153       \n",
      "                                                                 \n",
      "=================================================================\n",
      "Total params: 3,529\n",
      "Trainable params: 3,529\n",
      "Non-trainable params: 0\n",
      "_________________________________________________________________\n"
     ]
    }
   ],
   "source": [
    "model = Sequential()\n",
    "model.add(Dense(units=64,\n",
    "               input_dim=11,\n",
    "               activation='relu'))\n",
    "model.add(Dense(units=32, activation='relu'))\n",
    "model.add(Dense(units=16, activation='relu'))\n",
    "model.add(Dense(units=9, activation='softmax'))\n",
    "model.summary()"
   ]
  },
  {
   "cell_type": "markdown",
   "id": "ba01b5fd",
   "metadata": {},
   "source": [
    "# 3. 모델 구성"
   ]
  },
  {
   "cell_type": "code",
   "execution_count": 181,
   "id": "d738b2b3",
   "metadata": {},
   "outputs": [],
   "source": [
    "model.compile(loss='categorical_crossentropy', # sparse_categorical_crossentropy -> 원핫인코딩 안할 경우 사용\n",
    "             optimizer='nadam',\n",
    "             metrics=['accuracy'])\n",
    "earlystopping = EarlyStopping(monitor='val_accuracy',patience=30)\n",
    "\n",
    "# 모델 자동 저장 콜백\n",
    "import os\n",
    "model_save_folder = './model09/'\n",
    "if not os.path.exists(model_save_folder): # 폴더가 없으면 폴더 생성\n",
    "    os.mkdir(model_save_folder)\n",
    "file = model_save_folder + 'mnist-{epoch:03d}-val{val_accuracy:.4f}.h5'\n",
    "\n",
    "checkpoint = ModelCheckpoint(filepath=file,\n",
    "                            monitor='val_accuracy', # 모니터할 지표\n",
    "                            save_best_only=True, # 모니터링 지표가 개선된 경우만 저장\n",
    "                            mode = 'max', # 값이 클수록 저장\n",
    "                            verbose=1 # 저장시 로그 출력\n",
    "                            )"
   ]
  },
  {
   "cell_type": "markdown",
   "id": "441221ee",
   "metadata": {},
   "source": [
    "# 4. 모델 학습"
   ]
  },
  {
   "cell_type": "code",
   "execution_count": 182,
   "id": "c13a5890",
   "metadata": {},
   "outputs": [
    {
     "name": "stdout",
     "output_type": "stream",
     "text": [
      "Epoch 1/100\n",
      " 1/28 [>.............................] - ETA: 18s - loss: 2.1736 - accuracy: 0.0625\n",
      "Epoch 1: val_accuracy improved from -inf to 0.36607, saving model to ./model09\\mnist-001-val0.3661.h5\n",
      "28/28 [==============================] - 1s 8ms/step - loss: 1.9199 - accuracy: 0.3553 - val_loss: 1.6079 - val_accuracy: 0.3661\n",
      "Epoch 2/100\n",
      " 1/28 [>.............................] - ETA: 0s - loss: 1.6516 - accuracy: 0.5000\n",
      "Epoch 2: val_accuracy improved from 0.36607 to 0.57143, saving model to ./model09\\mnist-002-val0.5714.h5\n",
      "28/28 [==============================] - 0s 4ms/step - loss: 1.3450 - accuracy: 0.4369 - val_loss: 1.2697 - val_accuracy: 0.5714\n",
      "Epoch 3/100\n",
      "28/28 [==============================] - ETA: 0s - loss: 1.1986 - accuracy: 0.5173\n",
      "Epoch 3: val_accuracy did not improve from 0.57143\n",
      "28/28 [==============================] - 0s 3ms/step - loss: 1.1986 - accuracy: 0.5173 - val_loss: 1.2181 - val_accuracy: 0.5670\n",
      "Epoch 4/100\n",
      " 1/28 [>.............................] - ETA: 0s - loss: 1.2448 - accuracy: 0.3750\n",
      "Epoch 4: val_accuracy improved from 0.57143 to 0.58929, saving model to ./model09\\mnist-004-val0.5893.h5\n",
      "28/28 [==============================] - 0s 4ms/step - loss: 1.1575 - accuracy: 0.5609 - val_loss: 1.1828 - val_accuracy: 0.5893\n",
      "Epoch 5/100\n",
      " 1/28 [>.............................] - ETA: 0s - loss: 1.1821 - accuracy: 0.5000\n",
      "Epoch 5: val_accuracy did not improve from 0.58929\n",
      "28/28 [==============================] - 0s 3ms/step - loss: 1.1312 - accuracy: 0.5676 - val_loss: 1.1430 - val_accuracy: 0.5536\n",
      "Epoch 6/100\n",
      " 1/28 [>.............................] - ETA: 0s - loss: 1.1869 - accuracy: 0.5312\n",
      "Epoch 6: val_accuracy did not improve from 0.58929\n",
      "28/28 [==============================] - 0s 3ms/step - loss: 1.1018 - accuracy: 0.5676 - val_loss: 1.1146 - val_accuracy: 0.5893\n",
      "Epoch 7/100\n",
      " 1/28 [>.............................] - ETA: 0s - loss: 0.9270 - accuracy: 0.6250\n",
      "Epoch 7: val_accuracy did not improve from 0.58929\n",
      "28/28 [==============================] - 0s 3ms/step - loss: 1.0751 - accuracy: 0.5799 - val_loss: 1.0879 - val_accuracy: 0.5893\n",
      "Epoch 8/100\n",
      " 1/28 [>.............................] - ETA: 0s - loss: 1.0924 - accuracy: 0.6562\n",
      "Epoch 8: val_accuracy did not improve from 0.58929\n",
      "28/28 [==============================] - 0s 3ms/step - loss: 1.0548 - accuracy: 0.5788 - val_loss: 1.0701 - val_accuracy: 0.5893\n",
      "Epoch 9/100\n",
      " 1/28 [>.............................] - ETA: 0s - loss: 0.9924 - accuracy: 0.5938\n",
      "Epoch 9: val_accuracy did not improve from 0.58929\n",
      "28/28 [==============================] - 0s 3ms/step - loss: 1.0302 - accuracy: 0.5732 - val_loss: 1.0782 - val_accuracy: 0.5893\n",
      "Epoch 10/100\n",
      " 1/28 [>.............................] - ETA: 0s - loss: 0.9062 - accuracy: 0.5625\n",
      "Epoch 10: val_accuracy improved from 0.58929 to 0.60268, saving model to ./model09\\mnist-010-val0.6027.h5\n",
      "28/28 [==============================] - 0s 4ms/step - loss: 1.0186 - accuracy: 0.5888 - val_loss: 1.0374 - val_accuracy: 0.6027\n",
      "Epoch 11/100\n",
      " 1/28 [>.............................] - ETA: 0s - loss: 0.9117 - accuracy: 0.5625\n",
      "Epoch 11: val_accuracy improved from 0.60268 to 0.61161, saving model to ./model09\\mnist-011-val0.6116.h5\n",
      "28/28 [==============================] - 0s 3ms/step - loss: 1.0030 - accuracy: 0.5844 - val_loss: 1.0290 - val_accuracy: 0.6116\n",
      "Epoch 12/100\n",
      " 1/28 [>.............................] - ETA: 0s - loss: 0.9012 - accuracy: 0.6562\n",
      "Epoch 12: val_accuracy did not improve from 0.61161\n",
      "28/28 [==============================] - 0s 3ms/step - loss: 0.9944 - accuracy: 0.5911 - val_loss: 1.0206 - val_accuracy: 0.6027\n",
      "Epoch 13/100\n",
      " 1/28 [>.............................] - ETA: 0s - loss: 1.0260 - accuracy: 0.5938\n",
      "Epoch 13: val_accuracy did not improve from 0.61161\n",
      "28/28 [==============================] - 0s 3ms/step - loss: 0.9847 - accuracy: 0.5922 - val_loss: 1.0035 - val_accuracy: 0.5848\n",
      "Epoch 14/100\n",
      " 1/28 [>.............................] - ETA: 0s - loss: 0.8849 - accuracy: 0.5625\n",
      "Epoch 14: val_accuracy improved from 0.61161 to 0.61607, saving model to ./model09\\mnist-014-val0.6161.h5\n",
      "28/28 [==============================] - 0s 4ms/step - loss: 0.9773 - accuracy: 0.5966 - val_loss: 0.9959 - val_accuracy: 0.6161\n",
      "Epoch 15/100\n",
      "24/28 [========================>.....] - ETA: 0s - loss: 0.9660 - accuracy: 0.6016\n",
      "Epoch 15: val_accuracy did not improve from 0.61607\n",
      "28/28 [==============================] - 0s 3ms/step - loss: 0.9705 - accuracy: 0.6011 - val_loss: 0.9921 - val_accuracy: 0.6161\n",
      "Epoch 16/100\n",
      " 1/28 [>.............................] - ETA: 0s - loss: 1.0388 - accuracy: 0.5938\n",
      "Epoch 16: val_accuracy did not improve from 0.61607\n",
      "28/28 [==============================] - 0s 3ms/step - loss: 0.9684 - accuracy: 0.6000 - val_loss: 0.9816 - val_accuracy: 0.6116\n",
      "Epoch 17/100\n",
      " 1/28 [>.............................] - ETA: 0s - loss: 0.7877 - accuracy: 0.7812\n",
      "Epoch 17: val_accuracy did not improve from 0.61607\n",
      "28/28 [==============================] - 0s 3ms/step - loss: 0.9605 - accuracy: 0.6168 - val_loss: 0.9862 - val_accuracy: 0.6116\n",
      "Epoch 18/100\n",
      " 1/28 [>.............................] - ETA: 0s - loss: 0.8962 - accuracy: 0.5000\n",
      "Epoch 18: val_accuracy improved from 0.61607 to 0.62500, saving model to ./model09\\mnist-018-val0.6250.h5\n",
      "28/28 [==============================] - 0s 4ms/step - loss: 0.9612 - accuracy: 0.5978 - val_loss: 0.9839 - val_accuracy: 0.6250\n",
      "Epoch 19/100\n",
      " 1/28 [>.............................] - ETA: 0s - loss: 0.9734 - accuracy: 0.4688\n",
      "Epoch 19: val_accuracy did not improve from 0.62500\n",
      "28/28 [==============================] - 0s 3ms/step - loss: 0.9535 - accuracy: 0.6123 - val_loss: 0.9760 - val_accuracy: 0.6116\n",
      "Epoch 20/100\n",
      " 1/28 [>.............................] - ETA: 0s - loss: 1.0764 - accuracy: 0.5938\n",
      "Epoch 20: val_accuracy did not improve from 0.62500\n",
      "28/28 [==============================] - 0s 3ms/step - loss: 0.9481 - accuracy: 0.6101 - val_loss: 0.9673 - val_accuracy: 0.6205\n",
      "Epoch 21/100\n",
      " 1/28 [>.............................] - ETA: 0s - loss: 1.0763 - accuracy: 0.6562\n",
      "Epoch 21: val_accuracy did not improve from 0.62500\n",
      "28/28 [==============================] - 0s 3ms/step - loss: 0.9460 - accuracy: 0.6168 - val_loss: 0.9660 - val_accuracy: 0.6161\n",
      "Epoch 22/100\n",
      " 1/28 [>.............................] - ETA: 0s - loss: 0.9468 - accuracy: 0.6250\n",
      "Epoch 22: val_accuracy did not improve from 0.62500\n",
      "28/28 [==============================] - 0s 3ms/step - loss: 0.9443 - accuracy: 0.6156 - val_loss: 0.9609 - val_accuracy: 0.6116\n",
      "Epoch 23/100\n",
      " 1/28 [>.............................] - ETA: 0s - loss: 1.0552 - accuracy: 0.5938\n",
      "Epoch 23: val_accuracy did not improve from 0.62500\n",
      "28/28 [==============================] - 0s 3ms/step - loss: 0.9409 - accuracy: 0.6145 - val_loss: 0.9771 - val_accuracy: 0.6161\n",
      "Epoch 24/100\n",
      " 1/28 [>.............................] - ETA: 0s - loss: 0.8665 - accuracy: 0.5938\n",
      "Epoch 24: val_accuracy did not improve from 0.62500\n",
      "28/28 [==============================] - 0s 3ms/step - loss: 0.9380 - accuracy: 0.6179 - val_loss: 0.9703 - val_accuracy: 0.6161\n",
      "Epoch 25/100\n",
      " 1/28 [>.............................] - ETA: 0s - loss: 1.1438 - accuracy: 0.6250\n",
      "Epoch 25: val_accuracy did not improve from 0.62500\n",
      "28/28 [==============================] - 0s 3ms/step - loss: 0.9319 - accuracy: 0.6045 - val_loss: 0.9773 - val_accuracy: 0.6116\n",
      "Epoch 26/100\n",
      " 1/28 [>.............................] - ETA: 0s - loss: 1.0637 - accuracy: 0.6250\n",
      "Epoch 26: val_accuracy did not improve from 0.62500\n",
      "28/28 [==============================] - 0s 3ms/step - loss: 0.9354 - accuracy: 0.6134 - val_loss: 0.9544 - val_accuracy: 0.5982\n",
      "Epoch 27/100\n",
      " 1/28 [>.............................] - ETA: 0s - loss: 1.0447 - accuracy: 0.6250\n",
      "Epoch 27: val_accuracy did not improve from 0.62500\n",
      "28/28 [==============================] - 0s 3ms/step - loss: 0.9290 - accuracy: 0.6145 - val_loss: 0.9482 - val_accuracy: 0.6071\n",
      "Epoch 28/100\n",
      "26/28 [==========================>...] - ETA: 0s - loss: 0.9323 - accuracy: 0.6058\n",
      "Epoch 28: val_accuracy did not improve from 0.62500\n",
      "28/28 [==============================] - 0s 3ms/step - loss: 0.9240 - accuracy: 0.6078 - val_loss: 0.9538 - val_accuracy: 0.6205\n",
      "Epoch 29/100\n"
     ]
    },
    {
     "name": "stdout",
     "output_type": "stream",
     "text": [
      " 1/28 [>.............................] - ETA: 0s - loss: 1.4053 - accuracy: 0.4688\n",
      "Epoch 29: val_accuracy did not improve from 0.62500\n",
      "28/28 [==============================] - 0s 3ms/step - loss: 0.9242 - accuracy: 0.6179 - val_loss: 0.9499 - val_accuracy: 0.6071\n",
      "Epoch 30/100\n",
      " 1/28 [>.............................] - ETA: 0s - loss: 0.9777 - accuracy: 0.5312\n",
      "Epoch 30: val_accuracy did not improve from 0.62500\n",
      "28/28 [==============================] - 0s 3ms/step - loss: 0.9234 - accuracy: 0.6179 - val_loss: 0.9541 - val_accuracy: 0.6116\n",
      "Epoch 31/100\n",
      " 1/28 [>.............................] - ETA: 0s - loss: 0.7369 - accuracy: 0.7188\n",
      "Epoch 31: val_accuracy did not improve from 0.62500\n",
      "28/28 [==============================] - 0s 3ms/step - loss: 0.9206 - accuracy: 0.6056 - val_loss: 0.9420 - val_accuracy: 0.6161\n",
      "Epoch 32/100\n",
      " 1/28 [>.............................] - ETA: 0s - loss: 0.9429 - accuracy: 0.5625\n",
      "Epoch 32: val_accuracy did not improve from 0.62500\n",
      "28/28 [==============================] - 0s 3ms/step - loss: 0.9175 - accuracy: 0.6235 - val_loss: 0.9424 - val_accuracy: 0.6071\n",
      "Epoch 33/100\n",
      " 1/28 [>.............................] - ETA: 0s - loss: 0.8695 - accuracy: 0.6875\n",
      "Epoch 33: val_accuracy did not improve from 0.62500\n",
      "28/28 [==============================] - 0s 3ms/step - loss: 0.9142 - accuracy: 0.6201 - val_loss: 0.9399 - val_accuracy: 0.6161\n",
      "Epoch 34/100\n",
      " 1/28 [>.............................] - ETA: 0s - loss: 0.9091 - accuracy: 0.5312\n",
      "Epoch 34: val_accuracy did not improve from 0.62500\n",
      "28/28 [==============================] - 0s 3ms/step - loss: 0.9118 - accuracy: 0.6056 - val_loss: 0.9482 - val_accuracy: 0.6161\n",
      "Epoch 35/100\n",
      " 1/28 [>.............................] - ETA: 0s - loss: 0.7431 - accuracy: 0.7188\n",
      "Epoch 35: val_accuracy did not improve from 0.62500\n",
      "28/28 [==============================] - 0s 3ms/step - loss: 0.9111 - accuracy: 0.6257 - val_loss: 0.9369 - val_accuracy: 0.6161\n",
      "Epoch 36/100\n",
      " 1/28 [>.............................] - ETA: 0s - loss: 0.7550 - accuracy: 0.6875\n",
      "Epoch 36: val_accuracy did not improve from 0.62500\n",
      "28/28 [==============================] - 0s 2ms/step - loss: 0.9069 - accuracy: 0.6201 - val_loss: 0.9368 - val_accuracy: 0.6071\n",
      "Epoch 37/100\n",
      " 1/28 [>.............................] - ETA: 0s - loss: 0.7861 - accuracy: 0.7188\n",
      "Epoch 37: val_accuracy did not improve from 0.62500\n",
      "28/28 [==============================] - 0s 3ms/step - loss: 0.9049 - accuracy: 0.6246 - val_loss: 0.9400 - val_accuracy: 0.6027\n",
      "Epoch 38/100\n",
      " 1/28 [>.............................] - ETA: 0s - loss: 0.8558 - accuracy: 0.6875\n",
      "Epoch 38: val_accuracy did not improve from 0.62500\n",
      "28/28 [==============================] - 0s 3ms/step - loss: 0.9027 - accuracy: 0.6268 - val_loss: 0.9372 - val_accuracy: 0.6116\n",
      "Epoch 39/100\n",
      " 1/28 [>.............................] - ETA: 0s - loss: 0.7377 - accuracy: 0.6875\n",
      "Epoch 39: val_accuracy did not improve from 0.62500\n",
      "28/28 [==============================] - 0s 3ms/step - loss: 0.9026 - accuracy: 0.6168 - val_loss: 0.9601 - val_accuracy: 0.6205\n",
      "Epoch 40/100\n",
      " 1/28 [>.............................] - ETA: 0s - loss: 0.7462 - accuracy: 0.6562\n",
      "Epoch 40: val_accuracy did not improve from 0.62500\n",
      "28/28 [==============================] - 0s 3ms/step - loss: 0.9011 - accuracy: 0.6212 - val_loss: 0.9329 - val_accuracy: 0.6116\n",
      "Epoch 41/100\n",
      " 1/28 [>.............................] - ETA: 0s - loss: 0.9336 - accuracy: 0.5625\n",
      "Epoch 41: val_accuracy did not improve from 0.62500\n",
      "28/28 [==============================] - 0s 3ms/step - loss: 0.8986 - accuracy: 0.6257 - val_loss: 0.9428 - val_accuracy: 0.6116\n",
      "Epoch 42/100\n",
      " 1/28 [>.............................] - ETA: 0s - loss: 0.8665 - accuracy: 0.6250\n",
      "Epoch 42: val_accuracy did not improve from 0.62500\n",
      "28/28 [==============================] - 0s 3ms/step - loss: 0.8959 - accuracy: 0.6190 - val_loss: 0.9402 - val_accuracy: 0.6205\n",
      "Epoch 43/100\n",
      " 1/28 [>.............................] - ETA: 0s - loss: 0.8693 - accuracy: 0.6875\n",
      "Epoch 43: val_accuracy did not improve from 0.62500\n",
      "28/28 [==============================] - 0s 3ms/step - loss: 0.8933 - accuracy: 0.6291 - val_loss: 0.9387 - val_accuracy: 0.6116\n",
      "Epoch 44/100\n",
      " 1/28 [>.............................] - ETA: 0s - loss: 0.8504 - accuracy: 0.5938\n",
      "Epoch 44: val_accuracy improved from 0.62500 to 0.62946, saving model to ./model09\\mnist-044-val0.6295.h5\n",
      "28/28 [==============================] - 0s 4ms/step - loss: 0.8934 - accuracy: 0.6291 - val_loss: 0.9421 - val_accuracy: 0.6295\n",
      "Epoch 45/100\n",
      " 1/28 [>.............................] - ETA: 0s - loss: 0.9789 - accuracy: 0.5938\n",
      "Epoch 45: val_accuracy did not improve from 0.62946\n",
      "28/28 [==============================] - 0s 3ms/step - loss: 0.8911 - accuracy: 0.6257 - val_loss: 0.9316 - val_accuracy: 0.6161\n",
      "Epoch 46/100\n",
      " 1/28 [>.............................] - ETA: 0s - loss: 0.9713 - accuracy: 0.5938\n",
      "Epoch 46: val_accuracy did not improve from 0.62946\n",
      "28/28 [==============================] - 0s 3ms/step - loss: 0.8880 - accuracy: 0.6279 - val_loss: 0.9769 - val_accuracy: 0.6250\n",
      "Epoch 47/100\n",
      " 1/28 [>.............................] - ETA: 0s - loss: 1.1061 - accuracy: 0.6250\n",
      "Epoch 47: val_accuracy did not improve from 0.62946\n",
      "28/28 [==============================] - 0s 3ms/step - loss: 0.8863 - accuracy: 0.6268 - val_loss: 0.9371 - val_accuracy: 0.6205\n",
      "Epoch 48/100\n",
      " 1/28 [>.............................] - ETA: 0s - loss: 1.0331 - accuracy: 0.5000\n",
      "Epoch 48: val_accuracy did not improve from 0.62946\n",
      "28/28 [==============================] - 0s 3ms/step - loss: 0.8871 - accuracy: 0.6201 - val_loss: 0.9471 - val_accuracy: 0.6295\n",
      "Epoch 49/100\n",
      " 1/28 [>.............................] - ETA: 0s - loss: 1.0152 - accuracy: 0.6250\n",
      "Epoch 49: val_accuracy did not improve from 0.62946\n",
      "28/28 [==============================] - 0s 3ms/step - loss: 0.8906 - accuracy: 0.6223 - val_loss: 0.9407 - val_accuracy: 0.6250\n",
      "Epoch 50/100\n",
      " 1/28 [>.............................] - ETA: 0s - loss: 1.0905 - accuracy: 0.5938\n",
      "Epoch 50: val_accuracy did not improve from 0.62946\n",
      "28/28 [==============================] - 0s 3ms/step - loss: 0.8830 - accuracy: 0.6223 - val_loss: 0.9308 - val_accuracy: 0.6116\n",
      "Epoch 51/100\n",
      " 1/28 [>.............................] - ETA: 0s - loss: 0.6986 - accuracy: 0.6875\n",
      "Epoch 51: val_accuracy did not improve from 0.62946\n",
      "28/28 [==============================] - 0s 3ms/step - loss: 0.8815 - accuracy: 0.6257 - val_loss: 0.9586 - val_accuracy: 0.6161\n",
      "Epoch 52/100\n",
      " 1/28 [>.............................] - ETA: 0s - loss: 0.9949 - accuracy: 0.5625\n",
      "Epoch 52: val_accuracy did not improve from 0.62946\n",
      "28/28 [==============================] - 0s 3ms/step - loss: 0.8814 - accuracy: 0.6291 - val_loss: 0.9395 - val_accuracy: 0.6295\n",
      "Epoch 53/100\n",
      "23/28 [=======================>......] - ETA: 0s - loss: 0.8690 - accuracy: 0.6399\n",
      "Epoch 53: val_accuracy did not improve from 0.62946\n",
      "28/28 [==============================] - 0s 3ms/step - loss: 0.8791 - accuracy: 0.6313 - val_loss: 0.9319 - val_accuracy: 0.6250\n",
      "Epoch 54/100\n",
      " 1/28 [>.............................] - ETA: 0s - loss: 1.1246 - accuracy: 0.4688\n",
      "Epoch 54: val_accuracy did not improve from 0.62946\n",
      "28/28 [==============================] - 0s 3ms/step - loss: 0.8760 - accuracy: 0.6268 - val_loss: 0.9271 - val_accuracy: 0.6071\n",
      "Epoch 55/100\n",
      " 1/28 [>.............................] - ETA: 0s - loss: 0.9843 - accuracy: 0.4688\n",
      "Epoch 55: val_accuracy did not improve from 0.62946\n",
      "28/28 [==============================] - 0s 3ms/step - loss: 0.8729 - accuracy: 0.6391 - val_loss: 0.9358 - val_accuracy: 0.6071\n",
      "Epoch 56/100\n",
      " 1/28 [>.............................] - ETA: 0s - loss: 0.8030 - accuracy: 0.6562\n",
      "Epoch 56: val_accuracy did not improve from 0.62946\n",
      "28/28 [==============================] - 0s 3ms/step - loss: 0.8745 - accuracy: 0.6291 - val_loss: 0.9470 - val_accuracy: 0.6161\n",
      "Epoch 57/100\n",
      " 1/28 [>.............................] - ETA: 0s - loss: 0.6159 - accuracy: 0.7812\n",
      "Epoch 57: val_accuracy did not improve from 0.62946\n",
      "28/28 [==============================] - 0s 3ms/step - loss: 0.8720 - accuracy: 0.6291 - val_loss: 0.9446 - val_accuracy: 0.6295\n",
      "Epoch 58/100\n",
      " 1/28 [>.............................] - ETA: 0s - loss: 0.8970 - accuracy: 0.5938\n",
      "Epoch 58: val_accuracy did not improve from 0.62946\n"
     ]
    },
    {
     "name": "stdout",
     "output_type": "stream",
     "text": [
      "28/28 [==============================] - 0s 3ms/step - loss: 0.8702 - accuracy: 0.6413 - val_loss: 0.9393 - val_accuracy: 0.6250\n",
      "Epoch 59/100\n",
      "24/28 [========================>.....] - ETA: 0s - loss: 0.8867 - accuracy: 0.6224\n",
      "Epoch 59: val_accuracy did not improve from 0.62946\n",
      "28/28 [==============================] - 0s 4ms/step - loss: 0.8720 - accuracy: 0.6302 - val_loss: 0.9331 - val_accuracy: 0.6295\n",
      "Epoch 60/100\n",
      " 1/28 [>.............................] - ETA: 0s - loss: 0.6384 - accuracy: 0.8125\n",
      "Epoch 60: val_accuracy did not improve from 0.62946\n",
      "28/28 [==============================] - 0s 3ms/step - loss: 0.8694 - accuracy: 0.6212 - val_loss: 0.9544 - val_accuracy: 0.6161\n",
      "Epoch 61/100\n",
      " 1/28 [>.............................] - ETA: 0s - loss: 0.5939 - accuracy: 0.7500\n",
      "Epoch 61: val_accuracy did not improve from 0.62946\n",
      "28/28 [==============================] - 0s 3ms/step - loss: 0.8713 - accuracy: 0.6291 - val_loss: 0.9442 - val_accuracy: 0.6250\n",
      "Epoch 62/100\n",
      " 1/28 [>.............................] - ETA: 0s - loss: 0.8985 - accuracy: 0.5000\n",
      "Epoch 62: val_accuracy did not improve from 0.62946\n",
      "28/28 [==============================] - 0s 3ms/step - loss: 0.8661 - accuracy: 0.6369 - val_loss: 0.9276 - val_accuracy: 0.6116\n",
      "Epoch 63/100\n",
      " 1/28 [>.............................] - ETA: 0s - loss: 0.9952 - accuracy: 0.5312\n",
      "Epoch 63: val_accuracy did not improve from 0.62946\n",
      "28/28 [==============================] - 0s 3ms/step - loss: 0.8636 - accuracy: 0.6302 - val_loss: 0.9451 - val_accuracy: 0.6250\n",
      "Epoch 64/100\n",
      " 1/28 [>.............................] - ETA: 0s - loss: 0.9715 - accuracy: 0.5625\n",
      "Epoch 64: val_accuracy did not improve from 0.62946\n",
      "28/28 [==============================] - 0s 3ms/step - loss: 0.8607 - accuracy: 0.6335 - val_loss: 0.9553 - val_accuracy: 0.6116\n",
      "Epoch 65/100\n",
      "26/28 [==========================>...] - ETA: 0s - loss: 0.8705 - accuracy: 0.6226\n",
      "Epoch 65: val_accuracy did not improve from 0.62946\n",
      "28/28 [==============================] - 0s 3ms/step - loss: 0.8613 - accuracy: 0.6324 - val_loss: 0.9290 - val_accuracy: 0.6161\n",
      "Epoch 66/100\n",
      " 1/28 [>.............................] - ETA: 0s - loss: 1.0368 - accuracy: 0.5938\n",
      "Epoch 66: val_accuracy did not improve from 0.62946\n",
      "28/28 [==============================] - 0s 3ms/step - loss: 0.8587 - accuracy: 0.6358 - val_loss: 0.9261 - val_accuracy: 0.6161\n",
      "Epoch 67/100\n",
      " 1/28 [>.............................] - ETA: 0s - loss: 0.7792 - accuracy: 0.6562\n",
      "Epoch 67: val_accuracy did not improve from 0.62946\n",
      "28/28 [==============================] - 0s 3ms/step - loss: 0.8575 - accuracy: 0.6313 - val_loss: 0.9255 - val_accuracy: 0.6071\n",
      "Epoch 68/100\n",
      " 1/28 [>.............................] - ETA: 0s - loss: 0.8283 - accuracy: 0.5938\n",
      "Epoch 68: val_accuracy did not improve from 0.62946\n",
      "28/28 [==============================] - 0s 3ms/step - loss: 0.8584 - accuracy: 0.6313 - val_loss: 0.9412 - val_accuracy: 0.6071\n",
      "Epoch 69/100\n",
      " 1/28 [>.............................] - ETA: 0s - loss: 0.9709 - accuracy: 0.5938\n",
      "Epoch 69: val_accuracy did not improve from 0.62946\n",
      "28/28 [==============================] - 0s 3ms/step - loss: 0.8580 - accuracy: 0.6302 - val_loss: 0.9438 - val_accuracy: 0.6205\n",
      "Epoch 70/100\n",
      " 1/28 [>.............................] - ETA: 0s - loss: 0.9144 - accuracy: 0.6250\n",
      "Epoch 70: val_accuracy did not improve from 0.62946\n",
      "28/28 [==============================] - 0s 3ms/step - loss: 0.8546 - accuracy: 0.6358 - val_loss: 0.9608 - val_accuracy: 0.5938\n",
      "Epoch 71/100\n",
      " 1/28 [>.............................] - ETA: 0s - loss: 0.9932 - accuracy: 0.4688\n",
      "Epoch 71: val_accuracy did not improve from 0.62946\n",
      "28/28 [==============================] - 0s 3ms/step - loss: 0.8532 - accuracy: 0.6436 - val_loss: 0.9527 - val_accuracy: 0.6295\n",
      "Epoch 72/100\n",
      " 1/28 [>.............................] - ETA: 0s - loss: 0.9197 - accuracy: 0.6250\n",
      "Epoch 72: val_accuracy did not improve from 0.62946\n",
      "28/28 [==============================] - 0s 3ms/step - loss: 0.8535 - accuracy: 0.6223 - val_loss: 0.9324 - val_accuracy: 0.6250\n",
      "Epoch 73/100\n",
      " 1/28 [>.............................] - ETA: 0s - loss: 0.9128 - accuracy: 0.5625\n",
      "Epoch 73: val_accuracy did not improve from 0.62946\n",
      "28/28 [==============================] - 0s 3ms/step - loss: 0.8538 - accuracy: 0.6335 - val_loss: 0.9394 - val_accuracy: 0.6071\n",
      "Epoch 74/100\n",
      " 1/28 [>.............................] - ETA: 0s - loss: 0.8085 - accuracy: 0.6875\n",
      "Epoch 74: val_accuracy did not improve from 0.62946\n",
      "28/28 [==============================] - 0s 2ms/step - loss: 0.8521 - accuracy: 0.6402 - val_loss: 0.9307 - val_accuracy: 0.6027\n",
      "CPU times: total: 10.9 s\n",
      "Wall time: 7.04 s\n"
     ]
    }
   ],
   "source": [
    "%%time\n",
    "hist = model.fit(X_train, y_train,\n",
    "                epochs=100,\n",
    "                validation_split=0.2, # 검증데이터를 훈련데이터의 20%로 사용\n",
    "                verbose=1,\n",
    "                callbacks=[earlystopping, checkpoint])"
   ]
  },
  {
   "cell_type": "code",
   "execution_count": 183,
   "id": "7a82bea7",
   "metadata": {},
   "outputs": [
    {
     "data": {
      "text/plain": [
       "dict_keys(['loss', 'accuracy', 'val_loss', 'val_accuracy'])"
      ]
     },
     "execution_count": 183,
     "metadata": {},
     "output_type": "execute_result"
    }
   ],
   "source": [
    "hist.history.keys()"
   ]
  },
  {
   "cell_type": "code",
   "execution_count": 184,
   "id": "ffb900ce",
   "metadata": {},
   "outputs": [
    {
     "data": {
      "image/png": "[encoded data removed]",
      "text/plain": [
       "<Figure size 1200x600 with 2 Axes>"
      ]
     },
     "metadata": {},
     "output_type": "display_data"
    }
   ],
   "source": [
    "fig, loss_ax = plt.subplots(figsize=(12,6))\n",
    "loss_ax.plot(hist.history['loss'], 'y', label='train loss')\n",
    "loss_ax.plot(hist.history['val_loss'], 'r', label='val loss')\n",
    "acc_ax = loss_ax.twinx()\n",
    "acc_ax.plot(hist.history['accuracy'], 'g', label='train accuracy')\n",
    "acc_ax.plot(hist.history['val_accuracy'], 'b', label='val accuracy')\n",
    "loss_ax.set_xlabel('epochs')\n",
    "loss_ax.set_ylabel('loss')\n",
    "acc_ax.set_ylabel('accuracy')\n",
    "loss_ax.legend(loc='center right')\n",
    "acc_ax.legend()\n",
    "plt.show()"
   ]
  },
  {
   "cell_type": "code",
   "execution_count": 185,
   "id": "24f83fd3",
   "metadata": {},
   "outputs": [
    {
     "name": "stdout",
     "output_type": "stream",
     "text": [
      "5/5 [==============================] - 0s 2ms/step - loss: 0.9318 - accuracy: 0.6083\n",
      "loss : 0.9317783117294312\n",
      "accuracy : 0.6083333492279053\n"
     ]
    }
   ],
   "source": [
    "# 모델 평가하기\n",
    "loss_and_metrics = model.evaluate(X_test, y_test, batch_size=100, verbose=1)\n",
    "print('loss :', loss_and_metrics[0])\n",
    "print('accuracy :', loss_and_metrics[1])"
   ]
  },
  {
   "cell_type": "code",
   "execution_count": 186,
   "id": "72712b11",
   "metadata": {},
   "outputs": [],
   "source": [
    "# 모델 저장\n",
    "model.save('model/09_mnist.h5')"
   ]
  },
  {
   "cell_type": "code",
   "execution_count": null,
   "id": "983ac95e",
   "metadata": {},
   "outputs": [],
   "source": [
    "loss_and_metrics2 = model"
   ]
  }
 ],
 "metadata": {
  "kernelspec": {
   "display_name": "ml-dl-nlp",
   "language": "python",
   "name": "ml-dl-nlp"
  },
  "language_info": {
   "codemirror_mode": {
    "name": "ipython",
    "version": 3
   },
   "file_extension": ".py",
   "mimetype": "text/x-python",
   "name": "python",
   "nbconvert_exporter": "python",
   "pygments_lexer": "ipython3",
   "version": "3.10.18"
  },
  "toc": {
   "base_numbering": 1,
   "nav_menu": {},
   "number_sections": false,
   "sideBar": true,
   "skip_h1_title": false,
   "title_cell": "Table of Contents",
   "title_sidebar": "Contents",
   "toc_cell": false,
   "toc_position": {
    "height": "calc(100% - 180px)",
    "left": "10px",
    "top": "150px",
    "width": "245.6px"
   },
   "toc_section_display": true,
   "toc_window_display": true
  }
 },
 "nbformat": 4,
 "nbformat_minor": 5
}
