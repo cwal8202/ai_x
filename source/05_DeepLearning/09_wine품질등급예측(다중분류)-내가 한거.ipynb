{
 "cells": [
  {
   "cell_type": "code",
   "execution_count": 1,
   "id": "916b758d",
   "metadata": {},
   "outputs": [
    {
     "data": {
      "text/html": [
       "\n",
       "<style>\n",
       "div.container{width:86% !important;}\n",
       "div.cell.code_cell.rendered{width:100%;}\n",
       "div.CodeMirror {font-family:Consolas; font-size:15pt;}\n",
       "div.output {font-size:15pt; font-weight:bold;}\n",
       "div.input {font-family:Consolas; font-size:15pt;}\n",
       "div.prompt {min-width:70px;}\n",
       "div#toc-wrapper{padding-top:120px;}\n",
       "div.text_cell_render ul li{font-size:12pt;padding:5px;}\n",
       "table.dataframe{font-size:15px;}\n",
       "</style>\n"
      ],
      "text/plain": [
       "<IPython.core.display.HTML object>"
      ]
     },
     "metadata": {},
     "output_type": "display_data"
    }
   ],
   "source": [
    "from IPython.display import display, HTML\n",
    "display(HTML(\"\"\"\n",
    "<style>\n",
    "div.container{width:86% !important;}\n",
    "div.cell.code_cell.rendered{width:100%;}\n",
    "div.CodeMirror {font-family:Consolas; font-size:15pt;}\n",
    "div.output {font-size:15pt; font-weight:bold;}\n",
    "div.input {font-family:Consolas; font-size:15pt;}\n",
    "div.prompt {min-width:70px;}\n",
    "div#toc-wrapper{padding-top:120px;}\n",
    "div.text_cell_render ul li{font-size:12pt;padding:5px;}\n",
    "table.dataframe{font-size:15px;}\n",
    "</style>\n",
    "\"\"\"))"
   ]
  },
  {
   "cell_type": "code",
   "execution_count": 14,
   "id": "0bda28d6",
   "metadata": {},
   "outputs": [],
   "source": [
    "import numpy as np\n",
    "import pandas as pd\n",
    "from tensorflow.keras.utils import to_categorical # 원핫인코딩\n",
    "from tensorflow.keras.models import Sequential\n",
    "from tensorflow.keras.layers import Dense, Input, Dropout\n",
    "from matplotlib import pyplot as plt # 학습과정 loss와 acc 시각화\n",
    "from sklearn.metrics import confusion_matrix\n",
    "from sklearn.preprocessing import MinMaxScaler, StandardScaler\n",
    "from sklearn.model_selection import train_test_split\n",
    "from tensorflow.keras.callbacks import Callback, EarlyStopping, ModelCheckpoint\n",
    "from tensorflow.keras.models import load_model, save_model\n",
    "# quiz에서는 scale 조정, train_test_split 등을 추가"
   ]
  },
  {
   "cell_type": "markdown",
   "id": "8b2d9bc4",
   "metadata": {},
   "source": [
    "- Red Wine 등급 예측\n",
    "1. 데이터 셋 확보\n",
    "    csv -> 결측치처리 -> 독립변수와 타겟변수 분리 -> 독립변수 스케일 조정,\n",
    "    -> 타겟변수의 원핫인코딩 -> 훈련셋과 테스트셋 분리(train_test_split이용 층화추출)\n",
    "2. 모델 구성(입력11, 출력 6 | 출력9) layer층 4\n",
    "3. 모델 학습 과정 설정\n",
    "4. 모델학습(callbacks이용)\n",
    "5. 모델 평가(그래프, 평가, 교차표)\n",
    "6. 모델저장 & 사용"
   ]
  },
  {
   "cell_type": "markdown",
   "id": "e4291216",
   "metadata": {},
   "source": [
    "# 1. 데이터 확보 & 전처리"
   ]
  },
  {
   "cell_type": "code",
   "execution_count": 3,
   "id": "76f27e42",
   "metadata": {},
   "outputs": [
    {
     "name": "stdout",
     "output_type": "stream",
     "text": [
      "5    681\n",
      "6    638\n",
      "7    199\n",
      "4     53\n",
      "8     18\n",
      "3     10\n",
      "Name: quality, dtype: int64\n"
     ]
    },
    {
     "data": {
      "text/plain": [
       "array([[0., 0., 0., 0., 0., 1., 0., 0., 0.],\n",
       "       [0., 0., 0., 0., 0., 1., 0., 0., 0.]], dtype=float32)"
      ]
     },
     "execution_count": 3,
     "metadata": {},
     "output_type": "execute_result"
    }
   ],
   "source": [
    "# 데이터 읽어오기\n",
    "# fixed acidity : 고정 산도\n",
    "# volatile acidity : 휘발성 산도\n",
    "# citric acid : 시트르산\n",
    "# residual sugar : 잔류 당분\n",
    "# chlorides : 염화물\n",
    "# free sulfur dioxide : 자유 이산화황\n",
    "# total sulfur dioxide : 총 이산화황\n",
    "# density : 밀도\n",
    "# pH\n",
    "# sulphates : 황산염\n",
    "# alcohol\n",
    "# quality : 0 ~ 10(높을 수록 좋은 품질)\n",
    "redwine = pd.read_csv('data/winequality-red.csv', sep=';')\n",
    "print(redwine['quality'].value_counts())\n",
    "X = redwine.iloc[:,:-1].values\n",
    "y = redwine.iloc[:,-1].values\n",
    "x_scaler = MinMaxScaler()\n",
    "scaled_X = x_scaler.fit_transform(X)\n",
    "scaled_X\n",
    "y_data = to_categorical(y)\n",
    "y_data[:2]"
   ]
  },
  {
   "cell_type": "code",
   "execution_count": 4,
   "id": "8f7274a5",
   "metadata": {},
   "outputs": [
    {
     "data": {
      "text/plain": [
       "((1119, 11), (480, 11), (1119, 9), (480, 9))"
      ]
     },
     "execution_count": 4,
     "metadata": {},
     "output_type": "execute_result"
    }
   ],
   "source": [
    "X_train, X_test, y_train, y_test = train_test_split(scaled_X, \n",
    "                                                    y_data,\n",
    "                                                    test_size=0.3,\n",
    "                                                    random_state=3,\n",
    "                                                    stratify=y_data\n",
    "                                                   )\n",
    "X_train.shape, X_test.shape, y_train.shape, y_test.shape"
   ]
  },
  {
   "cell_type": "markdown",
   "id": "5a749a68",
   "metadata": {},
   "source": [
    "# 2. 모델 구성"
   ]
  },
  {
   "cell_type": "code",
   "execution_count": 5,
   "id": "085c9bc2",
   "metadata": {},
   "outputs": [
    {
     "name": "stdout",
     "output_type": "stream",
     "text": [
      "Model: \"sequential\"\n",
      "_________________________________________________________________\n",
      " Layer (type)                Output Shape              Param #   \n",
      "=================================================================\n",
      " dense (Dense)               (None, 64)                768       \n",
      "                                                                 \n",
      " dense_1 (Dense)             (None, 32)                2080      \n",
      "                                                                 \n",
      " dense_2 (Dense)             (None, 16)                528       \n",
      "                                                                 \n",
      " dense_3 (Dense)             (None, 9)                 153       \n",
      "                                                                 \n",
      "=================================================================\n",
      "Total params: 3,529\n",
      "Trainable params: 3,529\n",
      "Non-trainable params: 0\n",
      "_________________________________________________________________\n"
     ]
    }
   ],
   "source": [
    "model = Sequential()\n",
    "model.add(Dense(units=64,\n",
    "               input_dim=11,\n",
    "               activation='relu'))\n",
    "model.add(Dense(units=32, activation='relu'))\n",
    "model.add(Dense(units=16, activation='relu'))\n",
    "model.add(Dense(units=9, activation='softmax'))\n",
    "model.summary()"
   ]
  },
  {
   "cell_type": "markdown",
   "id": "ba01b5fd",
   "metadata": {},
   "source": [
    "# 3. 모델 구성"
   ]
  },
  {
   "cell_type": "code",
   "execution_count": 6,
   "id": "d738b2b3",
   "metadata": {},
   "outputs": [],
   "source": [
    "model.compile(loss='categorical_crossentropy', # sparse_categorical_crossentropy -> 원핫인코딩 안할 경우 사용\n",
    "             optimizer='nadam',\n",
    "             metrics=['accuracy'])\n",
    "earlystopping = EarlyStopping(monitor='val_accuracy',patience=30)\n",
    "\n",
    "# 모델 자동 저장 콜백\n",
    "import os\n",
    "model_save_folder = './model09/'\n",
    "if not os.path.exists(model_save_folder): # 폴더가 없으면 폴더 생성\n",
    "    os.mkdir(model_save_folder)\n",
    "file = model_save_folder + 'mnist-{epoch:03d}-val{val_accuracy:.4f}.h5'\n",
    "\n",
    "checkpoint = ModelCheckpoint(filepath=file,\n",
    "                            monitor='val_accuracy', # 모니터할 지표\n",
    "                            save_best_only=True, # 모니터링 지표가 개선된 경우만 저장\n",
    "                            mode = 'max', # 값이 클수록 저장\n",
    "                            verbose=1 # 저장시 로그 출력\n",
    "                            )"
   ]
  },
  {
   "cell_type": "markdown",
   "id": "441221ee",
   "metadata": {},
   "source": [
    "# 4. 모델 학습"
   ]
  },
  {
   "cell_type": "code",
   "execution_count": 7,
   "id": "c13a5890",
   "metadata": {},
   "outputs": [
    {
     "name": "stdout",
     "output_type": "stream",
     "text": [
      "Epoch 1/100\n",
      " 1/28 [>.............................] - ETA: 24s - loss: 2.1326 - accuracy: 0.1875\n",
      "Epoch 1: val_accuracy improved from -inf to 0.37054, saving model to ./model09\\mnist-001-val0.3705.h5\n",
      "28/28 [==============================] - 1s 10ms/step - loss: 1.9766 - accuracy: 0.3631 - val_loss: 1.7549 - val_accuracy: 0.3705\n",
      "Epoch 2/100\n",
      "28/28 [==============================] - ETA: 0s - loss: 1.5308 - accuracy: 0.4056\n",
      "Epoch 2: val_accuracy did not improve from 0.37054\n",
      "28/28 [==============================] - 0s 3ms/step - loss: 1.5308 - accuracy: 0.4056 - val_loss: 1.4415 - val_accuracy: 0.3705\n",
      "Epoch 3/100\n",
      " 1/28 [>.............................] - ETA: 0s - loss: 1.4305 - accuracy: 0.3125\n",
      "Epoch 3: val_accuracy improved from 0.37054 to 0.42411, saving model to ./model09\\mnist-003-val0.4241.h5\n",
      "28/28 [==============================] - 0s 3ms/step - loss: 1.2898 - accuracy: 0.4592 - val_loss: 1.3011 - val_accuracy: 0.4241\n",
      "Epoch 4/100\n",
      " 1/28 [>.............................] - ETA: 0s - loss: 1.3532 - accuracy: 0.3438\n",
      "Epoch 4: val_accuracy improved from 0.42411 to 0.55357, saving model to ./model09\\mnist-004-val0.5536.h5\n",
      "28/28 [==============================] - 0s 4ms/step - loss: 1.1988 - accuracy: 0.5263 - val_loss: 1.2201 - val_accuracy: 0.5536\n",
      "Epoch 5/100\n",
      " 1/28 [>.............................] - ETA: 0s - loss: 1.2260 - accuracy: 0.5312\n",
      "Epoch 5: val_accuracy improved from 0.55357 to 0.56250, saving model to ./model09\\mnist-005-val0.5625.h5\n",
      "28/28 [==============================] - 0s 3ms/step - loss: 1.1404 - accuracy: 0.5654 - val_loss: 1.1552 - val_accuracy: 0.5625\n",
      "Epoch 6/100\n",
      " 1/28 [>.............................] - ETA: 0s - loss: 1.2518 - accuracy: 0.5938\n",
      "Epoch 6: val_accuracy improved from 0.56250 to 0.59821, saving model to ./model09\\mnist-006-val0.5982.h5\n",
      "28/28 [==============================] - 0s 4ms/step - loss: 1.0936 - accuracy: 0.5564 - val_loss: 1.1166 - val_accuracy: 0.5982\n",
      "Epoch 7/100\n",
      " 1/28 [>.............................] - ETA: 0s - loss: 0.8755 - accuracy: 0.7188\n",
      "Epoch 7: val_accuracy did not improve from 0.59821\n",
      "28/28 [==============================] - 0s 3ms/step - loss: 1.0612 - accuracy: 0.5709 - val_loss: 1.0891 - val_accuracy: 0.5982\n",
      "Epoch 8/100\n",
      " 1/28 [>.............................] - ETA: 0s - loss: 1.2020 - accuracy: 0.3438\n",
      "Epoch 8: val_accuracy did not improve from 0.59821\n",
      "28/28 [==============================] - 0s 3ms/step - loss: 1.0392 - accuracy: 0.5743 - val_loss: 1.0660 - val_accuracy: 0.5848\n",
      "Epoch 9/100\n",
      " 1/28 [>.............................] - ETA: 0s - loss: 0.9846 - accuracy: 0.5000\n",
      "Epoch 9: val_accuracy did not improve from 0.59821\n",
      "28/28 [==============================] - 0s 3ms/step - loss: 1.0192 - accuracy: 0.5899 - val_loss: 1.0606 - val_accuracy: 0.5625\n",
      "Epoch 10/100\n",
      " 1/28 [>.............................] - ETA: 0s - loss: 0.9774 - accuracy: 0.6875\n",
      "Epoch 10: val_accuracy improved from 0.59821 to 0.61161, saving model to ./model09\\mnist-010-val0.6116.h5\n",
      "28/28 [==============================] - 0s 4ms/step - loss: 1.0086 - accuracy: 0.5810 - val_loss: 1.0531 - val_accuracy: 0.6116\n",
      "Epoch 11/100\n",
      " 1/28 [>.............................] - ETA: 0s - loss: 0.9310 - accuracy: 0.6562\n",
      "Epoch 11: val_accuracy did not improve from 0.61161\n",
      "28/28 [==============================] - 0s 3ms/step - loss: 1.0014 - accuracy: 0.5765 - val_loss: 1.0556 - val_accuracy: 0.5893\n",
      "Epoch 12/100\n",
      " 1/28 [>.............................] - ETA: 0s - loss: 0.9365 - accuracy: 0.7812\n",
      "Epoch 12: val_accuracy did not improve from 0.61161\n",
      "28/28 [==============================] - 0s 3ms/step - loss: 0.9978 - accuracy: 0.5911 - val_loss: 1.0241 - val_accuracy: 0.6027\n",
      "Epoch 13/100\n",
      " 1/28 [>.............................] - ETA: 0s - loss: 0.9017 - accuracy: 0.6875\n",
      "Epoch 13: val_accuracy did not improve from 0.61161\n",
      "28/28 [==============================] - 0s 3ms/step - loss: 0.9884 - accuracy: 0.5788 - val_loss: 1.0226 - val_accuracy: 0.6116\n",
      "Epoch 14/100\n",
      "26/28 [==========================>...] - ETA: 0s - loss: 0.9802 - accuracy: 0.6130\n",
      "Epoch 14: val_accuracy did not improve from 0.61161\n",
      "28/28 [==============================] - 0s 3ms/step - loss: 0.9800 - accuracy: 0.6078 - val_loss: 1.0106 - val_accuracy: 0.6116\n",
      "Epoch 15/100\n",
      " 1/28 [>.............................] - ETA: 0s - loss: 0.9173 - accuracy: 0.5625\n",
      "Epoch 15: val_accuracy did not improve from 0.61161\n",
      "28/28 [==============================] - 0s 3ms/step - loss: 0.9754 - accuracy: 0.6045 - val_loss: 1.0093 - val_accuracy: 0.6027\n",
      "Epoch 16/100\n",
      " 1/28 [>.............................] - ETA: 0s - loss: 1.0384 - accuracy: 0.5000\n",
      "Epoch 16: val_accuracy improved from 0.61161 to 0.61607, saving model to ./model09\\mnist-016-val0.6161.h5\n",
      "28/28 [==============================] - 0s 4ms/step - loss: 0.9700 - accuracy: 0.6067 - val_loss: 0.9959 - val_accuracy: 0.6161\n",
      "Epoch 17/100\n",
      "28/28 [==============================] - ETA: 0s - loss: 0.9711 - accuracy: 0.5944\n",
      "Epoch 17: val_accuracy did not improve from 0.61607\n",
      "28/28 [==============================] - 0s 3ms/step - loss: 0.9711 - accuracy: 0.5944 - val_loss: 0.9918 - val_accuracy: 0.6161\n",
      "Epoch 18/100\n",
      " 1/28 [>.............................] - ETA: 0s - loss: 0.7325 - accuracy: 0.7812\n",
      "Epoch 18: val_accuracy did not improve from 0.61607\n",
      "28/28 [==============================] - 0s 3ms/step - loss: 0.9650 - accuracy: 0.6179 - val_loss: 0.9934 - val_accuracy: 0.6071\n",
      "Epoch 19/100\n",
      " 1/28 [>.............................] - ETA: 0s - loss: 0.8533 - accuracy: 0.5625\n",
      "Epoch 19: val_accuracy did not improve from 0.61607\n",
      "28/28 [==============================] - 0s 3ms/step - loss: 0.9580 - accuracy: 0.6045 - val_loss: 0.9947 - val_accuracy: 0.6161\n",
      "Epoch 20/100\n",
      " 1/28 [>.............................] - ETA: 0s - loss: 0.9203 - accuracy: 0.5938\n",
      "Epoch 20: val_accuracy improved from 0.61607 to 0.62500, saving model to ./model09\\mnist-020-val0.6250.h5\n",
      "28/28 [==============================] - 0s 4ms/step - loss: 0.9555 - accuracy: 0.5989 - val_loss: 0.9837 - val_accuracy: 0.6250\n",
      "Epoch 21/100\n",
      " 1/28 [>.............................] - ETA: 0s - loss: 0.8177 - accuracy: 0.7500\n",
      "Epoch 21: val_accuracy improved from 0.62500 to 0.62946, saving model to ./model09\\mnist-021-val0.6295.h5\n",
      "28/28 [==============================] - 0s 4ms/step - loss: 0.9508 - accuracy: 0.6056 - val_loss: 0.9942 - val_accuracy: 0.6295\n",
      "Epoch 22/100\n",
      " 1/28 [>.............................] - ETA: 0s - loss: 0.7768 - accuracy: 0.7812\n",
      "Epoch 22: val_accuracy did not improve from 0.62946\n",
      "28/28 [==============================] - 0s 3ms/step - loss: 0.9482 - accuracy: 0.6067 - val_loss: 1.0202 - val_accuracy: 0.5938\n",
      "Epoch 23/100\n",
      " 1/28 [>.............................] - ETA: 0s - loss: 1.1690 - accuracy: 0.5312\n",
      "Epoch 23: val_accuracy did not improve from 0.62946\n",
      "28/28 [==============================] - 0s 3ms/step - loss: 0.9486 - accuracy: 0.6078 - val_loss: 0.9679 - val_accuracy: 0.6250\n",
      "Epoch 24/100\n",
      " 1/28 [>.............................] - ETA: 0s - loss: 1.1845 - accuracy: 0.4062\n",
      "Epoch 24: val_accuracy did not improve from 0.62946\n",
      "28/28 [==============================] - 0s 3ms/step - loss: 0.9501 - accuracy: 0.6056 - val_loss: 0.9662 - val_accuracy: 0.6295\n",
      "Epoch 25/100\n",
      " 1/28 [>.............................] - ETA: 0s - loss: 1.1674 - accuracy: 0.5938\n",
      "Epoch 25: val_accuracy did not improve from 0.62946\n",
      "28/28 [==============================] - 0s 3ms/step - loss: 0.9464 - accuracy: 0.6034 - val_loss: 0.9606 - val_accuracy: 0.6295\n",
      "Epoch 26/100\n",
      " 1/28 [>.............................] - ETA: 0s - loss: 0.7308 - accuracy: 0.6562\n",
      "Epoch 26: val_accuracy did not improve from 0.62946\n",
      "28/28 [==============================] - 0s 3ms/step - loss: 0.9397 - accuracy: 0.6022 - val_loss: 0.9575 - val_accuracy: 0.6295\n",
      "Epoch 27/100\n",
      "26/28 [==========================>...] - ETA: 0s - loss: 0.9293 - accuracy: 0.6082\n",
      "Epoch 27: val_accuracy improved from 0.62946 to 0.63393, saving model to ./model09\\mnist-027-val0.6339.h5\n",
      "28/28 [==============================] - 0s 4ms/step - loss: 0.9375 - accuracy: 0.6089 - val_loss: 0.9638 - val_accuracy: 0.6339\n",
      "Epoch 28/100\n",
      " 1/28 [>.............................] - ETA: 0s - loss: 0.8080 - accuracy: 0.6875\n",
      "Epoch 28: val_accuracy did not improve from 0.63393\n",
      "28/28 [==============================] - 0s 3ms/step - loss: 0.9343 - accuracy: 0.6112 - val_loss: 0.9494 - val_accuracy: 0.6205\n"
     ]
    },
    {
     "name": "stdout",
     "output_type": "stream",
     "text": [
      "Epoch 29/100\n",
      " 1/28 [>.............................] - ETA: 0s - loss: 0.8246 - accuracy: 0.6250\n",
      "Epoch 29: val_accuracy improved from 0.63393 to 0.65179, saving model to ./model09\\mnist-029-val0.6518.h5\n",
      "28/28 [==============================] - 0s 3ms/step - loss: 0.9300 - accuracy: 0.6134 - val_loss: 0.9579 - val_accuracy: 0.6518\n",
      "Epoch 30/100\n",
      " 1/28 [>.............................] - ETA: 0s - loss: 1.1736 - accuracy: 0.6250\n",
      "Epoch 30: val_accuracy did not improve from 0.65179\n",
      "28/28 [==============================] - 0s 3ms/step - loss: 0.9307 - accuracy: 0.6078 - val_loss: 0.9659 - val_accuracy: 0.6384\n",
      "Epoch 31/100\n",
      " 1/28 [>.............................] - ETA: 0s - loss: 0.8816 - accuracy: 0.5625\n",
      "Epoch 31: val_accuracy did not improve from 0.65179\n",
      "28/28 [==============================] - 0s 3ms/step - loss: 0.9251 - accuracy: 0.6078 - val_loss: 0.9427 - val_accuracy: 0.6116\n",
      "Epoch 32/100\n",
      " 1/28 [>.............................] - ETA: 0s - loss: 0.9872 - accuracy: 0.5625\n",
      "Epoch 32: val_accuracy did not improve from 0.65179\n",
      "28/28 [==============================] - 0s 3ms/step - loss: 0.9283 - accuracy: 0.6134 - val_loss: 0.9441 - val_accuracy: 0.6339\n",
      "Epoch 33/100\n",
      " 1/28 [>.............................] - ETA: 0s - loss: 0.9862 - accuracy: 0.5938\n",
      "Epoch 33: val_accuracy did not improve from 0.65179\n",
      "28/28 [==============================] - 0s 3ms/step - loss: 0.9239 - accuracy: 0.6179 - val_loss: 0.9495 - val_accuracy: 0.6429\n",
      "Epoch 34/100\n",
      " 1/28 [>.............................] - ETA: 0s - loss: 0.9108 - accuracy: 0.5625\n",
      "Epoch 34: val_accuracy did not improve from 0.65179\n",
      "28/28 [==============================] - 0s 3ms/step - loss: 0.9225 - accuracy: 0.6123 - val_loss: 0.9439 - val_accuracy: 0.6473\n",
      "Epoch 35/100\n",
      " 1/28 [>.............................] - ETA: 0s - loss: 0.9426 - accuracy: 0.5938\n",
      "Epoch 35: val_accuracy did not improve from 0.65179\n",
      "28/28 [==============================] - 0s 3ms/step - loss: 0.9203 - accuracy: 0.6201 - val_loss: 0.9389 - val_accuracy: 0.6429\n",
      "Epoch 36/100\n",
      " 1/28 [>.............................] - ETA: 0s - loss: 0.9069 - accuracy: 0.6562\n",
      "Epoch 36: val_accuracy did not improve from 0.65179\n",
      "28/28 [==============================] - 0s 3ms/step - loss: 0.9187 - accuracy: 0.6212 - val_loss: 0.9345 - val_accuracy: 0.6295\n",
      "Epoch 37/100\n",
      " 1/28 [>.............................] - ETA: 0s - loss: 1.0864 - accuracy: 0.5000\n",
      "Epoch 37: val_accuracy did not improve from 0.65179\n",
      "28/28 [==============================] - 0s 3ms/step - loss: 0.9172 - accuracy: 0.6089 - val_loss: 0.9349 - val_accuracy: 0.6384\n",
      "Epoch 38/100\n",
      " 1/28 [>.............................] - ETA: 0s - loss: 0.7936 - accuracy: 0.6562\n",
      "Epoch 38: val_accuracy did not improve from 0.65179\n",
      "28/28 [==============================] - 0s 3ms/step - loss: 0.9148 - accuracy: 0.6179 - val_loss: 0.9428 - val_accuracy: 0.6384\n",
      "Epoch 39/100\n",
      " 1/28 [>.............................] - ETA: 0s - loss: 0.7120 - accuracy: 0.6875\n",
      "Epoch 39: val_accuracy did not improve from 0.65179\n",
      "28/28 [==============================] - 0s 3ms/step - loss: 0.9120 - accuracy: 0.6279 - val_loss: 0.9388 - val_accuracy: 0.6518\n",
      "Epoch 40/100\n",
      " 1/28 [>.............................] - ETA: 0s - loss: 1.0088 - accuracy: 0.5312\n",
      "Epoch 40: val_accuracy did not improve from 0.65179\n",
      "28/28 [==============================] - 0s 3ms/step - loss: 0.9099 - accuracy: 0.6201 - val_loss: 0.9346 - val_accuracy: 0.6473\n",
      "Epoch 41/100\n",
      " 1/28 [>.............................] - ETA: 0s - loss: 0.6976 - accuracy: 0.7812\n",
      "Epoch 41: val_accuracy did not improve from 0.65179\n",
      "28/28 [==============================] - 0s 3ms/step - loss: 0.9086 - accuracy: 0.6246 - val_loss: 0.9307 - val_accuracy: 0.6250\n",
      "Epoch 42/100\n",
      " 1/28 [>.............................] - ETA: 0s - loss: 0.8172 - accuracy: 0.5312\n",
      "Epoch 42: val_accuracy did not improve from 0.65179\n",
      "28/28 [==============================] - 0s 3ms/step - loss: 0.9080 - accuracy: 0.6179 - val_loss: 0.9285 - val_accuracy: 0.6429\n",
      "Epoch 43/100\n",
      " 1/28 [>.............................] - ETA: 0s - loss: 1.0183 - accuracy: 0.6250\n",
      "Epoch 43: val_accuracy did not improve from 0.65179\n",
      "28/28 [==============================] - 0s 3ms/step - loss: 0.9078 - accuracy: 0.6190 - val_loss: 0.9286 - val_accuracy: 0.6429\n",
      "Epoch 44/100\n",
      " 1/28 [>.............................] - ETA: 0s - loss: 1.0280 - accuracy: 0.6250\n",
      "Epoch 44: val_accuracy did not improve from 0.65179\n",
      "28/28 [==============================] - 0s 3ms/step - loss: 0.9072 - accuracy: 0.6223 - val_loss: 0.9289 - val_accuracy: 0.6518\n",
      "Epoch 45/100\n",
      " 1/28 [>.............................] - ETA: 0s - loss: 0.8499 - accuracy: 0.6562\n",
      "Epoch 45: val_accuracy improved from 0.65179 to 0.66071, saving model to ./model09\\mnist-045-val0.6607.h5\n",
      "28/28 [==============================] - 0s 3ms/step - loss: 0.9071 - accuracy: 0.6235 - val_loss: 0.9354 - val_accuracy: 0.6607\n",
      "Epoch 46/100\n",
      " 1/28 [>.............................] - ETA: 0s - loss: 0.9188 - accuracy: 0.6875\n",
      "Epoch 46: val_accuracy did not improve from 0.66071\n",
      "28/28 [==============================] - 0s 3ms/step - loss: 0.9078 - accuracy: 0.6201 - val_loss: 0.9303 - val_accuracy: 0.6473\n",
      "Epoch 47/100\n",
      " 1/28 [>.............................] - ETA: 0s - loss: 0.7599 - accuracy: 0.7812\n",
      "Epoch 47: val_accuracy did not improve from 0.66071\n",
      "28/28 [==============================] - 0s 3ms/step - loss: 0.9023 - accuracy: 0.6201 - val_loss: 0.9333 - val_accuracy: 0.6473\n",
      "Epoch 48/100\n",
      " 1/28 [>.............................] - ETA: 0s - loss: 0.8149 - accuracy: 0.5625\n",
      "Epoch 48: val_accuracy did not improve from 0.66071\n",
      "28/28 [==============================] - 0s 3ms/step - loss: 0.8977 - accuracy: 0.6458 - val_loss: 0.9282 - val_accuracy: 0.6518\n",
      "Epoch 49/100\n",
      "28/28 [==============================] - ETA: 0s - loss: 0.8973 - accuracy: 0.6212\n",
      "Epoch 49: val_accuracy did not improve from 0.66071\n",
      "28/28 [==============================] - 0s 3ms/step - loss: 0.8973 - accuracy: 0.6212 - val_loss: 0.9426 - val_accuracy: 0.6473\n",
      "Epoch 50/100\n",
      " 1/28 [>.............................] - ETA: 0s - loss: 1.0971 - accuracy: 0.5625\n",
      "Epoch 50: val_accuracy did not improve from 0.66071\n",
      "28/28 [==============================] - 0s 3ms/step - loss: 0.9010 - accuracy: 0.6279 - val_loss: 0.9344 - val_accuracy: 0.6518\n",
      "Epoch 51/100\n",
      " 1/28 [>.............................] - ETA: 0s - loss: 0.5951 - accuracy: 0.7812\n",
      "Epoch 51: val_accuracy did not improve from 0.66071\n",
      "28/28 [==============================] - 0s 3ms/step - loss: 0.8959 - accuracy: 0.6235 - val_loss: 0.9261 - val_accuracy: 0.6518\n",
      "Epoch 52/100\n",
      " 1/28 [>.............................] - ETA: 0s - loss: 1.1359 - accuracy: 0.5312\n",
      "Epoch 52: val_accuracy did not improve from 0.66071\n",
      "28/28 [==============================] - 0s 3ms/step - loss: 0.8959 - accuracy: 0.6246 - val_loss: 0.9208 - val_accuracy: 0.6205\n",
      "Epoch 53/100\n",
      " 1/28 [>.............................] - ETA: 0s - loss: 1.0069 - accuracy: 0.5625\n",
      "Epoch 53: val_accuracy did not improve from 0.66071\n",
      "28/28 [==============================] - 0s 3ms/step - loss: 0.8949 - accuracy: 0.6279 - val_loss: 0.9354 - val_accuracy: 0.6473\n",
      "Epoch 54/100\n",
      " 1/28 [>.............................] - ETA: 0s - loss: 0.9819 - accuracy: 0.6250\n",
      "Epoch 54: val_accuracy did not improve from 0.66071\n",
      "28/28 [==============================] - 0s 3ms/step - loss: 0.8956 - accuracy: 0.6313 - val_loss: 0.9247 - val_accuracy: 0.6339\n",
      "Epoch 55/100\n",
      " 1/28 [>.............................] - ETA: 0s - loss: 0.8853 - accuracy: 0.6875\n",
      "Epoch 55: val_accuracy did not improve from 0.66071\n",
      "28/28 [==============================] - 0s 3ms/step - loss: 0.8926 - accuracy: 0.6201 - val_loss: 0.9251 - val_accuracy: 0.6518\n",
      "Epoch 56/100\n",
      " 1/28 [>.............................] - ETA: 0s - loss: 1.0168 - accuracy: 0.5312\n",
      "Epoch 56: val_accuracy did not improve from 0.66071\n",
      "28/28 [==============================] - 0s 3ms/step - loss: 0.8907 - accuracy: 0.6291 - val_loss: 0.9177 - val_accuracy: 0.6384\n",
      "Epoch 57/100\n",
      " 1/28 [>.............................] - ETA: 0s - loss: 1.0460 - accuracy: 0.5000\n",
      "Epoch 57: val_accuracy did not improve from 0.66071\n",
      "28/28 [==============================] - 0s 3ms/step - loss: 0.8916 - accuracy: 0.6313 - val_loss: 0.9207 - val_accuracy: 0.6518\n",
      "Epoch 58/100\n"
     ]
    },
    {
     "name": "stdout",
     "output_type": "stream",
     "text": [
      " 1/28 [>.............................] - ETA: 0s - loss: 0.7684 - accuracy: 0.6875\n",
      "Epoch 58: val_accuracy did not improve from 0.66071\n",
      "28/28 [==============================] - 0s 3ms/step - loss: 0.8901 - accuracy: 0.6335 - val_loss: 0.9209 - val_accuracy: 0.6473\n",
      "Epoch 59/100\n",
      " 1/28 [>.............................] - ETA: 0s - loss: 0.7173 - accuracy: 0.6875\n",
      "Epoch 59: val_accuracy did not improve from 0.66071\n",
      "28/28 [==============================] - 0s 3ms/step - loss: 0.8879 - accuracy: 0.6268 - val_loss: 0.9227 - val_accuracy: 0.6562\n",
      "Epoch 60/100\n",
      " 1/28 [>.............................] - ETA: 0s - loss: 0.9182 - accuracy: 0.6562\n",
      "Epoch 60: val_accuracy did not improve from 0.66071\n",
      "28/28 [==============================] - 0s 3ms/step - loss: 0.8878 - accuracy: 0.6369 - val_loss: 0.9374 - val_accuracy: 0.6518\n",
      "Epoch 61/100\n",
      " 1/28 [>.............................] - ETA: 0s - loss: 0.7738 - accuracy: 0.6875\n",
      "Epoch 61: val_accuracy did not improve from 0.66071\n",
      "28/28 [==============================] - 0s 3ms/step - loss: 0.8881 - accuracy: 0.6291 - val_loss: 0.9260 - val_accuracy: 0.6429\n",
      "Epoch 62/100\n",
      " 1/28 [>.............................] - ETA: 0s - loss: 0.7818 - accuracy: 0.7812\n",
      "Epoch 62: val_accuracy did not improve from 0.66071\n",
      "28/28 [==============================] - 0s 3ms/step - loss: 0.8843 - accuracy: 0.6391 - val_loss: 0.9238 - val_accuracy: 0.6473\n",
      "Epoch 63/100\n",
      " 1/28 [>.............................] - ETA: 0s - loss: 0.8665 - accuracy: 0.6875\n",
      "Epoch 63: val_accuracy did not improve from 0.66071\n",
      "28/28 [==============================] - 0s 3ms/step - loss: 0.8852 - accuracy: 0.6380 - val_loss: 0.9165 - val_accuracy: 0.6518\n",
      "Epoch 64/100\n",
      " 1/28 [>.............................] - ETA: 0s - loss: 1.1146 - accuracy: 0.5938\n",
      "Epoch 64: val_accuracy did not improve from 0.66071\n",
      "28/28 [==============================] - 0s 3ms/step - loss: 0.8840 - accuracy: 0.6358 - val_loss: 0.9297 - val_accuracy: 0.6429\n",
      "Epoch 65/100\n",
      " 1/28 [>.............................] - ETA: 0s - loss: 1.0313 - accuracy: 0.6250\n",
      "Epoch 65: val_accuracy did not improve from 0.66071\n",
      "28/28 [==============================] - 0s 3ms/step - loss: 0.8825 - accuracy: 0.6246 - val_loss: 0.9302 - val_accuracy: 0.6518\n",
      "Epoch 66/100\n",
      " 1/28 [>.............................] - ETA: 0s - loss: 0.7329 - accuracy: 0.7500\n",
      "Epoch 66: val_accuracy did not improve from 0.66071\n",
      "28/28 [==============================] - 0s 3ms/step - loss: 0.8853 - accuracy: 0.6391 - val_loss: 0.9268 - val_accuracy: 0.6429\n",
      "Epoch 67/100\n",
      " 1/28 [>.............................] - ETA: 0s - loss: 0.7405 - accuracy: 0.7188\n",
      "Epoch 67: val_accuracy did not improve from 0.66071\n",
      "28/28 [==============================] - 0s 3ms/step - loss: 0.8789 - accuracy: 0.6291 - val_loss: 0.9198 - val_accuracy: 0.6518\n",
      "Epoch 68/100\n",
      " 1/28 [>.............................] - ETA: 0s - loss: 0.9267 - accuracy: 0.4688\n",
      "Epoch 68: val_accuracy did not improve from 0.66071\n",
      "28/28 [==============================] - 0s 3ms/step - loss: 0.8763 - accuracy: 0.6346 - val_loss: 0.9219 - val_accuracy: 0.6518\n",
      "Epoch 69/100\n",
      " 1/28 [>.............................] - ETA: 0s - loss: 1.0954 - accuracy: 0.4688\n",
      "Epoch 69: val_accuracy did not improve from 0.66071\n",
      "28/28 [==============================] - 0s 3ms/step - loss: 0.8780 - accuracy: 0.6358 - val_loss: 0.9310 - val_accuracy: 0.6339\n",
      "Epoch 70/100\n",
      " 1/28 [>.............................] - ETA: 0s - loss: 0.7932 - accuracy: 0.6875\n",
      "Epoch 70: val_accuracy did not improve from 0.66071\n",
      "28/28 [==============================] - 0s 3ms/step - loss: 0.8756 - accuracy: 0.6369 - val_loss: 0.9261 - val_accuracy: 0.6518\n",
      "Epoch 71/100\n",
      " 1/28 [>.............................] - ETA: 0s - loss: 0.7827 - accuracy: 0.5938\n",
      "Epoch 71: val_accuracy did not improve from 0.66071\n",
      "28/28 [==============================] - 0s 3ms/step - loss: 0.8751 - accuracy: 0.6279 - val_loss: 0.9295 - val_accuracy: 0.6429\n",
      "Epoch 72/100\n",
      " 1/28 [>.............................] - ETA: 0s - loss: 0.7742 - accuracy: 0.7500\n",
      "Epoch 72: val_accuracy did not improve from 0.66071\n",
      "28/28 [==============================] - 0s 3ms/step - loss: 0.8737 - accuracy: 0.6358 - val_loss: 0.9170 - val_accuracy: 0.6562\n",
      "Epoch 73/100\n",
      "23/28 [=======================>......] - ETA: 0s - loss: 0.8874 - accuracy: 0.6250\n",
      "Epoch 73: val_accuracy did not improve from 0.66071\n",
      "28/28 [==============================] - 0s 4ms/step - loss: 0.8731 - accuracy: 0.6324 - val_loss: 0.9160 - val_accuracy: 0.6607\n",
      "Epoch 74/100\n",
      "27/28 [===========================>..] - ETA: 0s - loss: 0.8763 - accuracy: 0.6273\n",
      "Epoch 74: val_accuracy did not improve from 0.66071\n",
      "28/28 [==============================] - 0s 3ms/step - loss: 0.8744 - accuracy: 0.6302 - val_loss: 0.9165 - val_accuracy: 0.6518\n",
      "Epoch 75/100\n",
      "27/28 [===========================>..] - ETA: 0s - loss: 0.8798 - accuracy: 0.6296\n",
      "Epoch 75: val_accuracy did not improve from 0.66071\n",
      "28/28 [==============================] - 0s 3ms/step - loss: 0.8748 - accuracy: 0.6335 - val_loss: 0.9155 - val_accuracy: 0.6518\n",
      "CPU times: total: 11.7 s\n",
      "Wall time: 7.51 s\n"
     ]
    }
   ],
   "source": [
    "%%time\n",
    "hist = model.fit(X_train, y_train,\n",
    "                epochs=100,\n",
    "                validation_split=0.2, # 검증데이터를 훈련데이터의 20%로 사용\n",
    "                verbose=1,\n",
    "                callbacks=[earlystopping, checkpoint])"
   ]
  },
  {
   "cell_type": "code",
   "execution_count": 8,
   "id": "7a82bea7",
   "metadata": {},
   "outputs": [
    {
     "data": {
      "text/plain": [
       "dict_keys(['loss', 'accuracy', 'val_loss', 'val_accuracy'])"
      ]
     },
     "execution_count": 8,
     "metadata": {},
     "output_type": "execute_result"
    }
   ],
   "source": [
    "hist.history.keys()"
   ]
  },
  {
   "cell_type": "code",
   "execution_count": 9,
   "id": "ffb900ce",
   "metadata": {},
   "outputs": [
    {
     "data": {
      "image/png": "[encoded data removed]",
      "text/plain": [
       "<Figure size 1200x600 with 2 Axes>"
      ]
     },
     "metadata": {},
     "output_type": "display_data"
    }
   ],
   "source": [
    "fig, loss_ax = plt.subplots(figsize=(12,6))\n",
    "loss_ax.plot(hist.history['loss'], 'y', label='train loss')\n",
    "loss_ax.plot(hist.history['val_loss'], 'r', label='val loss')\n",
    "acc_ax = loss_ax.twinx()\n",
    "acc_ax.plot(hist.history['accuracy'], 'g', label='train accuracy')\n",
    "acc_ax.plot(hist.history['val_accuracy'], 'b', label='val accuracy')\n",
    "loss_ax.set_xlabel('epochs')\n",
    "loss_ax.set_ylabel('loss')\n",
    "acc_ax.set_ylabel('accuracy')\n",
    "loss_ax.legend(loc='center right')\n",
    "acc_ax.legend()\n",
    "plt.show()"
   ]
  },
  {
   "cell_type": "code",
   "execution_count": 30,
   "id": "24f83fd3",
   "metadata": {},
   "outputs": [
    {
     "name": "stdout",
     "output_type": "stream",
     "text": [
      "5/5 [==============================] - 0s 2ms/step - loss: 0.9207 - accuracy: 0.6104\n",
      "loss : 0.9206516146659851\n",
      "accuracy : 0.6104166507720947\n"
     ]
    }
   ],
   "source": [
    "# 모델 평가하기\n",
    "loss_and_metrics = model.evaluate(X_test, y_test, batch_size=100, verbose=1)\n",
    "print('loss :', loss_and_metrics[0])\n",
    "print('accuracy :', loss_and_metrics[1])"
   ]
  },
  {
   "cell_type": "code",
   "execution_count": 31,
   "id": "72712b11",
   "metadata": {},
   "outputs": [],
   "source": [
    "# 모델 저장\n",
    "model.save('model/09_mnist.h5')"
   ]
  },
  {
   "cell_type": "code",
   "execution_count": 32,
   "id": "983ac95e",
   "metadata": {},
   "outputs": [],
   "source": [
    "model2 = load_model('model09/mnist-045-val0.6607.h5')"
   ]
  },
  {
   "cell_type": "code",
   "execution_count": 33,
   "id": "cbcd7cf7",
   "metadata": {},
   "outputs": [
    {
     "name": "stdout",
     "output_type": "stream",
     "text": [
      "loss : 0.9336450099945068\n",
      "accuracy : 0.6041666865348816\n"
     ]
    }
   ],
   "source": [
    "loss_and_metrics2 = model2.evaluate(X_test, y_test, batch_size=32, verbose=0)\n",
    "print('loss :', loss_and_acc2[0])\n",
    "print('accuracy :', loss_and_acc2[1])"
   ]
  },
  {
   "cell_type": "code",
   "execution_count": 35,
   "id": "04b7dd4d",
   "metadata": {},
   "outputs": [
    {
     "name": "stdout",
     "output_type": "stream",
     "text": [
      "15/15 [==============================] - 0s 1ms/step\n"
     ]
    },
    {
     "data": {
      "text/html": [
       "<div>\n",
       "<style scoped>\n",
       "    .dataframe tbody tr th:only-of-type {\n",
       "        vertical-align: middle;\n",
       "    }\n",
       "\n",
       "    .dataframe tbody tr th {\n",
       "        vertical-align: top;\n",
       "    }\n",
       "\n",
       "    .dataframe thead th {\n",
       "        text-align: right;\n",
       "    }\n",
       "</style>\n",
       "<table border=\"1\" class=\"dataframe\">\n",
       "  <thead>\n",
       "    <tr style=\"text-align: right;\">\n",
       "      <th>predict</th>\n",
       "      <th>5</th>\n",
       "      <th>6</th>\n",
       "      <th>7</th>\n",
       "    </tr>\n",
       "    <tr>\n",
       "      <th>real</th>\n",
       "      <th></th>\n",
       "      <th></th>\n",
       "      <th></th>\n",
       "    </tr>\n",
       "  </thead>\n",
       "  <tbody>\n",
       "    <tr>\n",
       "      <th>3</th>\n",
       "      <td>2</td>\n",
       "      <td>1</td>\n",
       "      <td>0</td>\n",
       "    </tr>\n",
       "    <tr>\n",
       "      <th>4</th>\n",
       "      <td>13</td>\n",
       "      <td>3</td>\n",
       "      <td>0</td>\n",
       "    </tr>\n",
       "    <tr>\n",
       "      <th>5</th>\n",
       "      <td>166</td>\n",
       "      <td>37</td>\n",
       "      <td>1</td>\n",
       "    </tr>\n",
       "    <tr>\n",
       "      <th>6</th>\n",
       "      <td>76</td>\n",
       "      <td>106</td>\n",
       "      <td>10</td>\n",
       "    </tr>\n",
       "    <tr>\n",
       "      <th>7</th>\n",
       "      <td>5</td>\n",
       "      <td>34</td>\n",
       "      <td>21</td>\n",
       "    </tr>\n",
       "    <tr>\n",
       "      <th>8</th>\n",
       "      <td>0</td>\n",
       "      <td>2</td>\n",
       "      <td>3</td>\n",
       "    </tr>\n",
       "  </tbody>\n",
       "</table>\n",
       "</div>"
      ],
      "text/plain": [
       "predict    5    6   7\n",
       "real                 \n",
       "3          2    1   0\n",
       "4         13    3   0\n",
       "5        166   37   1\n",
       "6         76  106  10\n",
       "7          5   34  21\n",
       "8          0    2   3"
      ]
     },
     "execution_count": 35,
     "metadata": {},
     "output_type": "execute_result"
    }
   ],
   "source": [
    "# 성능 지표(crosstab)\n",
    "# Y_test : 0 0 1 0 0 0 (3등급, 4등급, 5등급, 6등급, 7등급, 8등급)\n",
    "y_origin = np.argmax(y_test, axis=1) # Y_test의 실제값(pd.getdummies)\n",
    "yhat = model.predict(X_test).argmax(axis=1) # 예측값\n",
    "pd.crosstab(y_origin, yhat, rownames=['real'], colnames=['predict'])"
   ]
  },
  {
   "cell_type": "code",
   "execution_count": 50,
   "id": "03a7d3af",
   "metadata": {},
   "outputs": [
    {
     "name": "stdout",
     "output_type": "stream",
     "text": [
      "1/1 [==============================] - 0s 19ms/step\n",
      "[5] 등급으로 예측함\n"
     ]
    }
   ],
   "source": [
    "# 6. 모델 사용하기\n",
    "input_data = np.array([6.9, 0.605, 0.12, 10.7, 0.073, 40.0, 83.0, 0.9993, 3.45, 0.52, 9.4])\n",
    "scaled_data = x_scaler.transform(input_data.reshape(1,11))\n",
    "print(np.argmax(model.predict(scaled_data), axis=1), '등급으로 예측함')"
   ]
  },
  {
   "cell_type": "code",
   "execution_count": null,
   "id": "bf3d0fa0",
   "metadata": {},
   "outputs": [],
   "source": []
  },
  {
   "cell_type": "code",
   "execution_count": null,
   "id": "2a980891",
   "metadata": {},
   "outputs": [],
   "source": []
  }
 ],
 "metadata": {
  "kernelspec": {
   "display_name": "ml-dl-nlp",
   "language": "python",
   "name": "ml-dl-nlp"
  },
  "language_info": {
   "codemirror_mode": {
    "name": "ipython",
    "version": 3
   },
   "file_extension": ".py",
   "mimetype": "text/x-python",
   "name": "python",
   "nbconvert_exporter": "python",
   "pygments_lexer": "ipython3",
   "version": "3.10.18"
  },
  "toc": {
   "base_numbering": 1,
   "nav_menu": {},
   "number_sections": false,
   "sideBar": true,
   "skip_h1_title": false,
   "title_cell": "Table of Contents",
   "title_sidebar": "Contents",
   "toc_cell": false,
   "toc_position": {
    "height": "calc(100% - 180px)",
    "left": "10px",
    "top": "150px",
    "width": "245.6px"
   },
   "toc_section_display": true,
   "toc_window_display": true
  }
 },
 "nbformat": 4,
 "nbformat_minor": 5
}
