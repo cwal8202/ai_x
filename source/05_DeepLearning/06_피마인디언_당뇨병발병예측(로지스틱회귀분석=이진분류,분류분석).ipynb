{
 "cells": [
  {
   "cell_type": "code",
   "execution_count": 229,
   "id": "b4114002",
   "metadata": {},
   "outputs": [
    {
     "data": {
      "text/html": [
       "\n",
       "<style>\n",
       "div.container{width:86% !important;}\n",
       "div.cell.code_cell.rendered{width:100%;}\n",
       "div.CodeMirror {font-family:Consolas; font-size:15pt;}\n",
       "div.output {font-size:15pt; font-weight:bold;}\n",
       "div.input {font-family:Consolas; font-size:15pt;}\n",
       "div.prompt {min-width:70px;}\n",
       "div#toc-wrapper{padding-top:120px;}\n",
       "div.text_cell_render ul li{font-size:12pt;padding:5px;}\n",
       "table.dataframe{font-size:15px;}\n",
       "</style>\n"
      ],
      "text/plain": [
       "<IPython.core.display.HTML object>"
      ]
     },
     "metadata": {},
     "output_type": "display_data"
    }
   ],
   "source": [
    "from IPython.display import display, HTML\n",
    "display(HTML(\"\"\"\n",
    "<style>\n",
    "div.container{width:86% !important;}\n",
    "div.cell.code_cell.rendered{width:100%;}\n",
    "div.CodeMirror {font-family:Consolas; font-size:15pt;}\n",
    "div.output {font-size:15pt; font-weight:bold;}\n",
    "div.input {font-family:Consolas; font-size:15pt;}\n",
    "div.prompt {min-width:70px;}\n",
    "div#toc-wrapper{padding-top:120px;}\n",
    "div.text_cell_render ul li{font-size:12pt;padding:5px;}\n",
    "table.dataframe{font-size:15px;}\n",
    "</style>\n",
    "\"\"\"))"
   ]
  },
  {
   "cell_type": "code",
   "execution_count": 230,
   "id": "f0c35bc7",
   "metadata": {},
   "outputs": [],
   "source": [
    "import numpy as np\n",
    "import pandas as pd\n",
    "import sys\n",
    "from tensorflow.keras import utils # utils.to_categorical 원핫인코딩\n",
    "from tensorflow.keras.models import Sequential\n",
    "from tensorflow.keras.layers import Dense, Input\n",
    "from matplotlib import pyplot as plt"
   ]
  },
  {
   "cell_type": "markdown",
   "id": "bbc6ea4d",
   "metadata": {},
   "source": [
    "# 로지스틱회귀분석(이진분류)\n",
    "## 1. 데이터셋 생성 & 전처리"
   ]
  },
  {
   "cell_type": "code",
   "execution_count": 231,
   "id": "296cc784",
   "metadata": {},
   "outputs": [
    {
     "name": "stdout",
     "output_type": "stream",
     "text": [
      "<class 'pandas.core.frame.DataFrame'>\n",
      "RangeIndex: 768 entries, 0 to 767\n",
      "Data columns (total 9 columns):\n",
      " #   Column  Non-Null Count  Dtype  \n",
      "---  ------  --------------  -----  \n",
      " 0   0       768 non-null    int64  \n",
      " 1   1       768 non-null    int64  \n",
      " 2   2       768 non-null    int64  \n",
      " 3   3       768 non-null    int64  \n",
      " 4   4       768 non-null    int64  \n",
      " 5   5       768 non-null    float64\n",
      " 6   6       768 non-null    float64\n",
      " 7   7       768 non-null    int64  \n",
      " 8   8       768 non-null    int64  \n",
      "dtypes: float64(2), int64(7)\n",
      "memory usage: 54.1 KB\n"
     ]
    }
   ],
   "source": [
    "df = pd.read_csv('data/pima-indians-diabetes.csv', \n",
    "                 comment='#',\n",
    "                 header=None)\n",
    "df.info() # 결측치 없음"
   ]
  },
  {
   "cell_type": "code",
   "execution_count": 232,
   "id": "e4b10173",
   "metadata": {},
   "outputs": [
    {
     "data": {
      "text/plain": [
       "0    500\n",
       "1    268\n",
       "Name: 8, dtype: int64"
      ]
     },
     "execution_count": 232,
     "metadata": {},
     "output_type": "execute_result"
    }
   ],
   "source": [
    "# 타겟 변수의 균형\n",
    "df.iloc[:,-1].value_counts()"
   ]
  },
  {
   "cell_type": "code",
   "execution_count": 233,
   "id": "fcad84c7",
   "metadata": {},
   "outputs": [
    {
     "data": {
      "text/html": [
       "<div>\n",
       "<style scoped>\n",
       "    .dataframe tbody tr th:only-of-type {\n",
       "        vertical-align: middle;\n",
       "    }\n",
       "\n",
       "    .dataframe tbody tr th {\n",
       "        vertical-align: top;\n",
       "    }\n",
       "\n",
       "    .dataframe thead th {\n",
       "        text-align: right;\n",
       "    }\n",
       "</style>\n",
       "<table border=\"1\" class=\"dataframe\">\n",
       "  <thead>\n",
       "    <tr style=\"text-align: right;\">\n",
       "      <th></th>\n",
       "      <th>0</th>\n",
       "      <th>1</th>\n",
       "      <th>2</th>\n",
       "      <th>3</th>\n",
       "      <th>4</th>\n",
       "      <th>5</th>\n",
       "      <th>6</th>\n",
       "      <th>7</th>\n",
       "      <th>8</th>\n",
       "    </tr>\n",
       "  </thead>\n",
       "  <tbody>\n",
       "    <tr>\n",
       "      <th>0</th>\n",
       "      <td>6</td>\n",
       "      <td>148</td>\n",
       "      <td>72</td>\n",
       "      <td>35</td>\n",
       "      <td>0</td>\n",
       "      <td>33.6</td>\n",
       "      <td>0.627</td>\n",
       "      <td>50</td>\n",
       "      <td>1</td>\n",
       "    </tr>\n",
       "    <tr>\n",
       "      <th>1</th>\n",
       "      <td>1</td>\n",
       "      <td>85</td>\n",
       "      <td>66</td>\n",
       "      <td>29</td>\n",
       "      <td>0</td>\n",
       "      <td>26.6</td>\n",
       "      <td>0.351</td>\n",
       "      <td>31</td>\n",
       "      <td>0</td>\n",
       "    </tr>\n",
       "    <tr>\n",
       "      <th>2</th>\n",
       "      <td>8</td>\n",
       "      <td>183</td>\n",
       "      <td>64</td>\n",
       "      <td>0</td>\n",
       "      <td>0</td>\n",
       "      <td>23.3</td>\n",
       "      <td>0.672</td>\n",
       "      <td>32</td>\n",
       "      <td>1</td>\n",
       "    </tr>\n",
       "    <tr>\n",
       "      <th>3</th>\n",
       "      <td>1</td>\n",
       "      <td>89</td>\n",
       "      <td>66</td>\n",
       "      <td>23</td>\n",
       "      <td>94</td>\n",
       "      <td>28.1</td>\n",
       "      <td>0.167</td>\n",
       "      <td>21</td>\n",
       "      <td>0</td>\n",
       "    </tr>\n",
       "    <tr>\n",
       "      <th>4</th>\n",
       "      <td>0</td>\n",
       "      <td>137</td>\n",
       "      <td>40</td>\n",
       "      <td>35</td>\n",
       "      <td>168</td>\n",
       "      <td>43.1</td>\n",
       "      <td>2.288</td>\n",
       "      <td>33</td>\n",
       "      <td>1</td>\n",
       "    </tr>\n",
       "  </tbody>\n",
       "</table>\n",
       "</div>"
      ],
      "text/plain": [
       "   0    1   2   3    4     5      6   7  8\n",
       "0  6  148  72  35    0  33.6  0.627  50  1\n",
       "1  1   85  66  29    0  26.6  0.351  31  0\n",
       "2  8  183  64   0    0  23.3  0.672  32  1\n",
       "3  1   89  66  23   94  28.1  0.167  21  0\n",
       "4  0  137  40  35  168  43.1  2.288  33  1"
      ]
     },
     "execution_count": 233,
     "metadata": {},
     "output_type": "execute_result"
    }
   ],
   "source": [
    "df.head()\n",
    "# X_data = df.iloc[,:-1].values"
   ]
  },
  {
   "cell_type": "code",
   "execution_count": 234,
   "id": "531e6393",
   "metadata": {},
   "outputs": [
    {
     "data": {
      "text/plain": [
       "(768, 9)"
      ]
     },
     "execution_count": 234,
     "metadata": {},
     "output_type": "execute_result"
    }
   ],
   "source": [
    "# csv 파일을 numpy 로 읽어오기 : np.loadtxt(결측치가없는경우), np.genfromtxt(결측치있을 경우)\n",
    "dataset = np.loadtxt('data/pima-indians-diabetes.csv', \n",
    "                    encoding='utf-8',\n",
    "                    delimiter=',')\n",
    "dataset.shape"
   ]
  },
  {
   "cell_type": "code",
   "execution_count": 235,
   "id": "bd9d990b",
   "metadata": {},
   "outputs": [
    {
     "data": {
      "text/plain": [
       "((700, 8), (700,), (68, 8), (68,))"
      ]
     },
     "execution_count": 235,
     "metadata": {},
     "output_type": "execute_result"
    }
   ],
   "source": [
    "# 데이터 분할 : 학습데이터셋(모델학습용)+시험데이터셋(모델평가용)\n",
    "X_train = dataset[:700, :-1]\n",
    "y_train = dataset[:700, -1]\n",
    "X_test  = dataset[700:, :-1]\n",
    "y_test  = dataset[700:, -1]\n",
    "X_train.shape, y_train.shape, X_test.shape, y_test.shape"
   ]
  },
  {
   "cell_type": "markdown",
   "id": "03bad56c",
   "metadata": {},
   "source": [
    "## 2. 모델 구성"
   ]
  },
  {
   "cell_type": "code",
   "execution_count": 209,
   "id": "57d8083e",
   "metadata": {},
   "outputs": [
    {
     "name": "stdout",
     "output_type": "stream",
     "text": [
      "Model: \"sequential_21\"\n",
      "_________________________________________________________________\n",
      " Layer (type)                Output Shape              Param #   \n",
      "=================================================================\n",
      " dense_78 (Dense)            (None, 32)                288       \n",
      "                                                                 \n",
      " dense_79 (Dense)            (None, 16)                528       \n",
      "                                                                 \n",
      " dense_80 (Dense)            (None, 1)                 17        \n",
      "                                                                 \n",
      "=================================================================\n",
      "Total params: 833\n",
      "Trainable params: 833\n",
      "Non-trainable params: 0\n",
      "_________________________________________________________________\n"
     ]
    }
   ],
   "source": [
    "model = Sequential()\n",
    "model.add(Input(shape=(8,)))\n",
    "model.add(Dense(units=32, activation='relu'))\n",
    "model.add(Dense(units=16, activation='relu'))\n",
    "model.add(Dense(units=1,  activation='sigmoid'))\n",
    "model.summary()"
   ]
  },
  {
   "cell_type": "markdown",
   "id": "b1fbdc98",
   "metadata": {},
   "source": [
    "## 3. 학습과정 설정"
   ]
  },
  {
   "cell_type": "code",
   "execution_count": 210,
   "id": "c5d31a66",
   "metadata": {},
   "outputs": [],
   "source": [
    "model.compile(loss='binary_crossentropy',\n",
    "             optimizer='adam',\n",
    "             metrics=['binary_accuracy'])"
   ]
  },
  {
   "cell_type": "markdown",
   "id": "a3a508af",
   "metadata": {},
   "source": [
    "## 4. 학습"
   ]
  },
  {
   "cell_type": "code",
   "execution_count": 211,
   "id": "6d742f5b",
   "metadata": {},
   "outputs": [
    {
     "name": "stdout",
     "output_type": "stream",
     "text": [
      "CPU times: total: 1.64 s\n",
      "Wall time: 1.18 s\n"
     ]
    }
   ],
   "source": [
    "%%time\n",
    "hist = model.fit(X_train, y_train, # 훈련데이터\n",
    "                epochs=200, # 학습횟수\n",
    "                batch_size=350, # 한번에 읽어들이는 데이터 양\n",
    "                # validation_data=(X_test, y_test), # 검증데이터\n",
    "                # validation_split=0.1, \n",
    "                verbose=0 # 학습 로그 출력 여부(0:출력X, 1:출력O, 2:출력자세히O)\n",
    "                )"
   ]
  },
  {
   "cell_type": "markdown",
   "id": "e7d9dbcf",
   "metadata": {},
   "source": [
    "## 5. 모델 평가하기(학습과정 보기, 평가, 혼동행렬)"
   ]
  },
  {
   "cell_type": "code",
   "execution_count": 212,
   "id": "73f0fd27",
   "metadata": {},
   "outputs": [
    {
     "data": {
      "text/plain": [
       "dict_keys(['loss', 'binary_accuracy'])"
      ]
     },
     "execution_count": 212,
     "metadata": {},
     "output_type": "execute_result"
    }
   ],
   "source": [
    "hist.history.keys()"
   ]
  },
  {
   "cell_type": "code",
   "execution_count": 213,
   "id": "9084e9a3",
   "metadata": {},
   "outputs": [
    {
     "data": {
      "text/plain": [
       "[<matplotlib.lines.Line2D at 0x295878aafb0>]"
      ]
     },
     "execution_count": 213,
     "metadata": {},
     "output_type": "execute_result"
    },
    {
     "data": {
      "image/png": "[encoded data removed]",
      "text/plain": [
       "<Figure size 1000x500 with 2 Axes>"
      ]
     },
     "metadata": {},
     "output_type": "display_data"
    }
   ],
   "source": [
    "# 학습과정 표시(학습데이터에 대한 loss와 accuracy)\n",
    "fig, loss_ax = plt.subplots(figsize=(10,5))\n",
    "loss_ax.plot(hist.history['loss'], 'r')\n",
    "acc_ax = loss_ax.twinx() # loss_ax와 x축을 공유하는 acc_ax\n",
    "acc_ax.plot(hist.history.get('binary_accuracy'), 'b')"
   ]
  },
  {
   "cell_type": "code",
   "execution_count": 214,
   "id": "1af985c4",
   "metadata": {},
   "outputs": [
    {
     "name": "stdout",
     "output_type": "stream",
     "text": [
      "22/22 [==============================] - 0s 2ms/step - loss: 0.5138 - binary_accuracy: 0.7643\n"
     ]
    },
    {
     "data": {
      "text/plain": [
       "[0.5138137936592102, 0.7642857432365417]"
      ]
     },
     "execution_count": 214,
     "metadata": {},
     "output_type": "execute_result"
    }
   ],
   "source": [
    "# 모델 평가(X)\n",
    "model.evaluate(X_train, y_train)"
   ]
  },
  {
   "cell_type": "code",
   "execution_count": 215,
   "id": "873ec3b2",
   "metadata": {},
   "outputs": [
    {
     "name": "stdout",
     "output_type": "stream",
     "text": [
      "3/3 [==============================] - 0s 2ms/step - loss: 0.6529 - binary_accuracy: 0.6471\n"
     ]
    },
    {
     "data": {
      "text/plain": [
       "[0.6528656482696533, 0.6470588445663452]"
      ]
     },
     "execution_count": 215,
     "metadata": {},
     "output_type": "execute_result"
    }
   ],
   "source": [
    "# 모델 평가(O)\n",
    "model.evaluate(X_test, y_test)"
   ]
  },
  {
   "cell_type": "markdown",
   "id": "6a3c19e2",
   "metadata": {},
   "source": [
    "## 혼동행렬\n",
    "- 테스트 데이터 셋의 실제값과 예측값으로 작성된 교차표"
   ]
  },
  {
   "cell_type": "code",
   "execution_count": 216,
   "id": "3d15de16",
   "metadata": {},
   "outputs": [
    {
     "data": {
      "text/plain": [
       "array([0., 1., 1., 0., 0.])"
      ]
     },
     "execution_count": 216,
     "metadata": {},
     "output_type": "execute_result"
    }
   ],
   "source": [
    "y_test[:5]"
   ]
  },
  {
   "cell_type": "code",
   "execution_count": 217,
   "id": "d6631e46",
   "metadata": {},
   "outputs": [
    {
     "name": "stdout",
     "output_type": "stream",
     "text": [
      "3/3 [==============================] - 0s 2ms/step\n"
     ]
    }
   ],
   "source": [
    "# 실제값 : y_test (68개)\n",
    "# 예측값\n",
    "y_hat = (model.predict(X_test)>=0.5).astype(float)"
   ]
  },
  {
   "cell_type": "code",
   "execution_count": 218,
   "id": "db8d031d",
   "metadata": {},
   "outputs": [
    {
     "name": "stdout",
     "output_type": "stream",
     "text": [
      "(68,) (68, 1)\n",
      "34 7\n",
      "17 10\n"
     ]
    }
   ],
   "source": [
    "TN = 0  # 0을 0으로 예측한 경우의 수(T)\n",
    "FP = 0  # 0을 1로 예측한 경우의 수(F)\n",
    "FN = 0  # 1을 0으로 예측한 경우의 수(F)\n",
    "TP = 0  # 1을 1로 예측한 경우의 수(T)\n",
    "print(y_test.shape, y_hat.shape)\n",
    "for y, h in zip(y_test, y_hat.reshape(-1)):\n",
    "    if y==0 and h==0:\n",
    "        TN += 1\n",
    "    elif y==0 and h==1:\n",
    "        FP += 1\n",
    "    elif y==1 and h==0:\n",
    "        FN += 1\n",
    "    else:\n",
    "        TP += 1\n",
    "print(TN, FP)\n",
    "print(FN, TP)"
   ]
  },
  {
   "cell_type": "code",
   "execution_count": 219,
   "id": "fc75db91",
   "metadata": {},
   "outputs": [
    {
     "data": {
      "text/html": [
       "<div>\n",
       "<style scoped>\n",
       "    .dataframe tbody tr th:only-of-type {\n",
       "        vertical-align: middle;\n",
       "    }\n",
       "\n",
       "    .dataframe tbody tr th {\n",
       "        vertical-align: top;\n",
       "    }\n",
       "\n",
       "    .dataframe thead th {\n",
       "        text-align: right;\n",
       "    }\n",
       "</style>\n",
       "<table border=\"1\" class=\"dataframe\">\n",
       "  <thead>\n",
       "    <tr style=\"text-align: right;\">\n",
       "      <th>예측값</th>\n",
       "      <th>0.0</th>\n",
       "      <th>1.0</th>\n",
       "    </tr>\n",
       "    <tr>\n",
       "      <th>실제값</th>\n",
       "      <th></th>\n",
       "      <th></th>\n",
       "    </tr>\n",
       "  </thead>\n",
       "  <tbody>\n",
       "    <tr>\n",
       "      <th>0.0</th>\n",
       "      <td>34</td>\n",
       "      <td>7</td>\n",
       "    </tr>\n",
       "    <tr>\n",
       "      <th>1.0</th>\n",
       "      <td>17</td>\n",
       "      <td>10</td>\n",
       "    </tr>\n",
       "  </tbody>\n",
       "</table>\n",
       "</div>"
      ],
      "text/plain": [
       "예측값  0.0  1.0\n",
       "실제값          \n",
       "0.0   34    7\n",
       "1.0   17   10"
      ]
     },
     "execution_count": 219,
     "metadata": {},
     "output_type": "execute_result"
    }
   ],
   "source": [
    "# 교차표\n",
    "ctab = pd.crosstab(y_test,   # 실제값\n",
    "                  y_hat.reshape(-1)) # 예측값\n",
    "ctab.index.name = '실제값'\n",
    "ctab.columns.name = '예측값'\n",
    "ctab\n",
    "pd.crosstab(y_test,   # 실제값\n",
    "            y_hat.reshape(-1), # 예측값\n",
    "            rownames=['실제값'],\n",
    "            colnames=['예측값']) "
   ]
  },
  {
   "cell_type": "code",
   "execution_count": 220,
   "id": "75ee0f4e",
   "metadata": {},
   "outputs": [
    {
     "data": {
      "text/plain": [
       "array([[34,  7],\n",
       "       [17, 10]], dtype=int64)"
      ]
     },
     "execution_count": 220,
     "metadata": {},
     "output_type": "execute_result"
    }
   ],
   "source": [
    "# 혼동행렬\n",
    "from sklearn.metrics import confusion_matrix\n",
    "confusion_matrix(y_test,\n",
    "                y_hat.reshape(-1))"
   ]
  },
  {
   "cell_type": "code",
   "execution_count": 221,
   "id": "1f4e18d7",
   "metadata": {},
   "outputs": [
    {
     "name": "stdout",
     "output_type": "stream",
     "text": [
      "accuracy : 0.6470588235294118\n",
      "recall : 0.37037037037037035\n",
      "precision : 0.5882352941176471\n"
     ]
    }
   ],
   "source": [
    "# accuracy\n",
    "print('accuracy :', (TN+TP)/(TN+FP+FN+TP))\n",
    "print('recall :', (TP)/(FN+TP))\n",
    "print('precision :', (TP)/(FP+TP))"
   ]
  },
  {
   "cell_type": "markdown",
   "id": "3a2e5e32",
   "metadata": {},
   "source": [
    "## 6. 모델 사용"
   ]
  },
  {
   "cell_type": "code",
   "execution_count": 222,
   "id": "0ae0cadd",
   "metadata": {},
   "outputs": [
    {
     "data": {
      "text/plain": [
       "array([  2.   , 122.   ,  76.   ,  27.   , 200.   ,  35.9  ,   0.483,\n",
       "        26.   ])"
      ]
     },
     "execution_count": 222,
     "metadata": {},
     "output_type": "execute_result"
    }
   ],
   "source": [
    "X_test[0]"
   ]
  },
  {
   "cell_type": "code",
   "execution_count": 223,
   "id": "32fa2e95",
   "metadata": {},
   "outputs": [
    {
     "name": "stdout",
     "output_type": "stream",
     "text": [
      "1/1 [==============================] - 0s 23ms/step\n"
     ]
    },
    {
     "data": {
      "text/plain": [
       "0"
      ]
     },
     "execution_count": 223,
     "metadata": {},
     "output_type": "execute_result"
    }
   ],
   "source": [
    "int(model.predict(np.array([[2, 122,76,27,200,35.9,0.483,26]]))>=0.5)"
   ]
  },
  {
   "cell_type": "code",
   "execution_count": 224,
   "id": "23918e82",
   "metadata": {},
   "outputs": [
    {
     "name": "stdout",
     "output_type": "stream",
     "text": [
      "1/1 [==============================] - 0s 43ms/step\n"
     ]
    },
    {
     "data": {
      "text/plain": [
       "array([[0],\n",
       "       [0]])"
      ]
     },
     "execution_count": 224,
     "metadata": {},
     "output_type": "execute_result"
    }
   ],
   "source": [
    "(model.predict([[2, 122,76,27,200,35.9,0.483,26],\n",
    "               [0, 122,76,27,200,35.9,0.483,26]])).astype(int)"
   ]
  },
  {
   "cell_type": "markdown",
   "id": "de2e3c95",
   "metadata": {},
   "source": [
    "# 분류분석\n",
    "1. 데이터셋 생성 및 전처리 : 훈련셋(600), 검증셋(100), 테스트셋(68)\n",
    "2. 모델 생성(input8, output 2) : 출력층 softmax(출력합을 1)\n",
    "    * model.summary() 파라미터 수와 메모리 확인\n",
    "3. 모델 학습과정 설정 : loss=\"categorical_crossentropy, metrics=['accuracy']\n",
    "4. 모델 학습 : 훈련셋과 검증셋\n",
    "5. 모델 평가 : 그래프(hist.history), 평가(테스트셋), 교차표(테스트셋)\n",
    "6. 모델 저장 및 사용 : predict결과에 argmax()\n",
    " [99.2, 0.8]"
   ]
  },
  {
   "cell_type": "markdown",
   "id": "bd03aaf0",
   "metadata": {},
   "source": [
    "## 1. 데이터 셋 생성 및 전저리"
   ]
  },
  {
   "cell_type": "code",
   "execution_count": 225,
   "id": "d4e40055",
   "metadata": {},
   "outputs": [
    {
     "data": {
      "text/plain": [
       "(768, 9)"
      ]
     },
     "execution_count": 225,
     "metadata": {},
     "output_type": "execute_result"
    }
   ],
   "source": [
    "dataset = np.loadtxt('data/pima-indians-diabetes.csv',\n",
    "                    encoding='utf-8',\n",
    "                    delimiter=',')\n",
    "dataset.shape"
   ]
  },
  {
   "cell_type": "code",
   "execution_count": 227,
   "id": "f8e68a04",
   "metadata": {},
   "outputs": [
    {
     "data": {
      "text/plain": [
       "((600, 8), (600,), (100, 8), (100,), (68, 8), (68,))"
      ]
     },
     "execution_count": 227,
     "metadata": {},
     "output_type": "execute_result"
    }
   ],
   "source": [
    "# 훈련셋(600), 검증셋(100), 테스트셋(68)\n",
    "X_train = dataset[:600, :-1]\n",
    "y_train = dataset[:600, -1]\n",
    "X_val = dataset[600:700, :-1]\n",
    "y_val = dataset[600:700, -1]\n",
    "X_test = dataset[700:, :-1]\n",
    "y_test = dataset[700:, -1]\n",
    "X_train.shape, y_train.shape, X_val.shape, y_val.shape, X_test.shape, y_test.shape"
   ]
  },
  {
   "cell_type": "code",
   "execution_count": 228,
   "id": "3fff247a",
   "metadata": {},
   "outputs": [
    {
     "name": "stdout",
     "output_type": "stream",
     "text": [
      "[1. 0. 1. 0. 1.]\n",
      "[[0. 1.]\n",
      " [1. 0.]\n",
      " [0. 1.]\n",
      " [1. 0.]\n",
      " [0. 1.]]\n"
     ]
    },
    {
     "data": {
      "text/plain": [
       "((600,), (600, 2), (100, 2), (68, 2))"
      ]
     },
     "execution_count": 228,
     "metadata": {},
     "output_type": "execute_result"
    }
   ],
   "source": [
    "# 타겟변수의 원핫인코딩(분류분석)\n",
    "print(y_train[:5])\n",
    "print(utils.to_categorical(y_train[:5]))\n",
    "Y_train = utils.to_categorical(y_train)\n",
    "Y_val   = utils.to_categorical(y_val)\n",
    "Y_test  = utils.to_categorical(y_test)\n",
    "y_train.shape, Y_train.shape, Y_val.shape, Y_test.shape"
   ]
  },
  {
   "cell_type": "markdown",
   "id": "22eb7739",
   "metadata": {},
   "source": [
    "## 2. 모델 생성(input8, target2)\n",
    "- 과적합 줄이는 단계 추가(dropout 추가)"
   ]
  },
  {
   "cell_type": "code",
   "execution_count": 169,
   "id": "7c174ed4",
   "metadata": {},
   "outputs": [
    {
     "name": "stdout",
     "output_type": "stream",
     "text": [
      "Model: \"sequential_20\"\n",
      "_________________________________________________________________\n",
      " Layer (type)                Output Shape              Param #   \n",
      "=================================================================\n",
      " dense_73 (Dense)            (None, 32)                288       \n",
      "                                                                 \n",
      " dropout_9 (Dropout)         (None, 32)                0         \n",
      "                                                                 \n",
      " dense_74 (Dense)            (None, 64)                2112      \n",
      "                                                                 \n",
      " dropout_10 (Dropout)        (None, 64)                0         \n",
      "                                                                 \n",
      " dense_75 (Dense)            (None, 16)                1040      \n",
      "                                                                 \n",
      " dropout_11 (Dropout)        (None, 16)                0         \n",
      "                                                                 \n",
      " dense_76 (Dense)            (None, 8)                 136       \n",
      "                                                                 \n",
      " dense_77 (Dense)            (None, 2)                 18        \n",
      "                                                                 \n",
      "=================================================================\n",
      "Total params: 3,594\n",
      "Trainable params: 3,594\n",
      "Non-trainable params: 0\n",
      "_________________________________________________________________\n"
     ]
    }
   ],
   "source": [
    "from tensorflow.keras.layers import Dropout\n",
    "model = Sequential()\n",
    "model.add(Input(shape=(8,)))\n",
    "model.add(Dense(units=32, activation='relu'))\n",
    "model.add(Dropout(0.2)) # 과적합을 해결하고자 두루뭉실하게 넘김\n",
    "model.add(Dense(units=64, activation='relu'))\n",
    "model.add(Dropout(0.1))\n",
    "model.add(Dense(units=16, activation='relu'))\n",
    "model.add(Dropout(0.2))\n",
    "model.add(Dense(units=8, activation='relu'))\n",
    "model.add(Dense(units=2, activation='softmax'))\n",
    "model.summary()"
   ]
  },
  {
   "cell_type": "markdown",
   "id": "a1098b54",
   "metadata": {},
   "source": [
    "## 3. 학습과정 설정"
   ]
  },
  {
   "cell_type": "code",
   "execution_count": 170,
   "id": "407032a5",
   "metadata": {},
   "outputs": [],
   "source": [
    "model.compile(loss='categorical_crossentropy',\n",
    "             optimizer='nadam',\n",
    "             metrics=['accuracy'])"
   ]
  },
  {
   "cell_type": "markdown",
   "id": "aa3909a9",
   "metadata": {},
   "source": [
    "## 4. 모델 학습"
   ]
  },
  {
   "cell_type": "code",
   "execution_count": 171,
   "id": "0f117402",
   "metadata": {},
   "outputs": [
    {
     "name": "stdout",
     "output_type": "stream",
     "text": [
      "Epoch 1/300\n",
      "19/19 [==============================] - 1s 11ms/step - loss: 4.2228 - accuracy: 0.4883 - val_loss: 1.3247 - val_accuracy: 0.5700\n",
      "Epoch 2/300\n",
      "19/19 [==============================] - 0s 4ms/step - loss: 2.1732 - accuracy: 0.5333 - val_loss: 0.7086 - val_accuracy: 0.5100\n",
      "Epoch 3/300\n",
      "19/19 [==============================] - 0s 4ms/step - loss: 1.6591 - accuracy: 0.5100 - val_loss: 0.6610 - val_accuracy: 0.6900\n",
      "Epoch 4/300\n",
      "19/19 [==============================] - 0s 3ms/step - loss: 1.2435 - accuracy: 0.5250 - val_loss: 0.7466 - val_accuracy: 0.5300\n",
      "Epoch 5/300\n",
      "19/19 [==============================] - 0s 3ms/step - loss: 0.8743 - accuracy: 0.5483 - val_loss: 0.6805 - val_accuracy: 0.6100\n",
      "Epoch 6/300\n",
      "19/19 [==============================] - 0s 4ms/step - loss: 0.7846 - accuracy: 0.6233 - val_loss: 0.6664 - val_accuracy: 0.6700\n",
      "Epoch 7/300\n",
      "19/19 [==============================] - 0s 3ms/step - loss: 0.7692 - accuracy: 0.6317 - val_loss: 0.6655 - val_accuracy: 0.6700\n",
      "Epoch 8/300\n",
      "19/19 [==============================] - 0s 4ms/step - loss: 0.7200 - accuracy: 0.6350 - val_loss: 0.6635 - val_accuracy: 0.6700\n",
      "Epoch 9/300\n",
      "19/19 [==============================] - 0s 3ms/step - loss: 0.7106 - accuracy: 0.6417 - val_loss: 0.6604 - val_accuracy: 0.6700\n",
      "Epoch 10/300\n",
      "19/19 [==============================] - 0s 3ms/step - loss: 0.6806 - accuracy: 0.6433 - val_loss: 0.6575 - val_accuracy: 0.6700\n",
      "Epoch 11/300\n",
      "19/19 [==============================] - 0s 3ms/step - loss: 0.7031 - accuracy: 0.6500 - val_loss: 0.6580 - val_accuracy: 0.6700\n",
      "Epoch 12/300\n",
      "19/19 [==============================] - 0s 3ms/step - loss: 0.6695 - accuracy: 0.6600 - val_loss: 0.6531 - val_accuracy: 0.6700\n",
      "Epoch 13/300\n",
      "19/19 [==============================] - 0s 3ms/step - loss: 0.6624 - accuracy: 0.6533 - val_loss: 0.6544 - val_accuracy: 0.6900\n",
      "Epoch 14/300\n",
      "19/19 [==============================] - 0s 4ms/step - loss: 0.6728 - accuracy: 0.6450 - val_loss: 0.6497 - val_accuracy: 0.6700\n",
      "Epoch 15/300\n",
      "19/19 [==============================] - 0s 3ms/step - loss: 0.6955 - accuracy: 0.6450 - val_loss: 0.6491 - val_accuracy: 0.6700\n",
      "Epoch 16/300\n",
      "19/19 [==============================] - 0s 3ms/step - loss: 0.6753 - accuracy: 0.6483 - val_loss: 0.6543 - val_accuracy: 0.6800\n",
      "Epoch 17/300\n",
      "19/19 [==============================] - 0s 3ms/step - loss: 0.6921 - accuracy: 0.6417 - val_loss: 0.6464 - val_accuracy: 0.6700\n",
      "Epoch 18/300\n",
      "19/19 [==============================] - 0s 4ms/step - loss: 0.6472 - accuracy: 0.6517 - val_loss: 0.6448 - val_accuracy: 0.6700\n",
      "Epoch 19/300\n",
      "19/19 [==============================] - 0s 3ms/step - loss: 0.6596 - accuracy: 0.6517 - val_loss: 0.6439 - val_accuracy: 0.6700\n",
      "Epoch 20/300\n",
      "19/19 [==============================] - 0s 3ms/step - loss: 0.6453 - accuracy: 0.6517 - val_loss: 0.6439 - val_accuracy: 0.6900\n",
      "Epoch 21/300\n",
      "19/19 [==============================] - 0s 3ms/step - loss: 0.6795 - accuracy: 0.6600 - val_loss: 0.6417 - val_accuracy: 0.6700\n",
      "Epoch 22/300\n",
      "19/19 [==============================] - 0s 4ms/step - loss: 0.6512 - accuracy: 0.6550 - val_loss: 0.6405 - val_accuracy: 0.6700\n",
      "Epoch 23/300\n",
      "19/19 [==============================] - 0s 4ms/step - loss: 0.6465 - accuracy: 0.6633 - val_loss: 0.6415 - val_accuracy: 0.6800\n",
      "Epoch 24/300\n",
      "19/19 [==============================] - 0s 4ms/step - loss: 0.6455 - accuracy: 0.6600 - val_loss: 0.6384 - val_accuracy: 0.6700\n",
      "Epoch 25/300\n",
      "19/19 [==============================] - 0s 4ms/step - loss: 0.6524 - accuracy: 0.6500 - val_loss: 0.6390 - val_accuracy: 0.6800\n",
      "Epoch 26/300\n",
      "19/19 [==============================] - 0s 4ms/step - loss: 0.6506 - accuracy: 0.6667 - val_loss: 0.6373 - val_accuracy: 0.6800\n",
      "Epoch 27/300\n",
      "19/19 [==============================] - 0s 4ms/step - loss: 0.6559 - accuracy: 0.6550 - val_loss: 0.6392 - val_accuracy: 0.6700\n",
      "Epoch 28/300\n",
      "19/19 [==============================] - 0s 3ms/step - loss: 0.6511 - accuracy: 0.6483 - val_loss: 0.6353 - val_accuracy: 0.6800\n",
      "Epoch 29/300\n",
      "19/19 [==============================] - 0s 3ms/step - loss: 0.6465 - accuracy: 0.6517 - val_loss: 0.6353 - val_accuracy: 0.6700\n",
      "Epoch 30/300\n",
      "19/19 [==============================] - 0s 4ms/step - loss: 0.6397 - accuracy: 0.6583 - val_loss: 0.6370 - val_accuracy: 0.6900\n",
      "Epoch 31/300\n",
      "19/19 [==============================] - 0s 4ms/step - loss: 0.6484 - accuracy: 0.6483 - val_loss: 0.6333 - val_accuracy: 0.6700\n",
      "Epoch 32/300\n",
      "19/19 [==============================] - 0s 4ms/step - loss: 0.6505 - accuracy: 0.6483 - val_loss: 0.6330 - val_accuracy: 0.6700\n",
      "Epoch 33/300\n",
      "19/19 [==============================] - 0s 3ms/step - loss: 0.6601 - accuracy: 0.6517 - val_loss: 0.6324 - val_accuracy: 0.6800\n",
      "Epoch 34/300\n",
      "19/19 [==============================] - 0s 4ms/step - loss: 0.6515 - accuracy: 0.6517 - val_loss: 0.6323 - val_accuracy: 0.6700\n",
      "Epoch 35/300\n",
      "19/19 [==============================] - 0s 3ms/step - loss: 0.6496 - accuracy: 0.6450 - val_loss: 0.6314 - val_accuracy: 0.6800\n",
      "Epoch 36/300\n",
      "19/19 [==============================] - 0s 4ms/step - loss: 0.6424 - accuracy: 0.6650 - val_loss: 0.6367 - val_accuracy: 0.6800\n",
      "Epoch 37/300\n",
      "19/19 [==============================] - 0s 4ms/step - loss: 0.6438 - accuracy: 0.6517 - val_loss: 0.6308 - val_accuracy: 0.6700\n",
      "Epoch 38/300\n",
      "19/19 [==============================] - 0s 3ms/step - loss: 0.6396 - accuracy: 0.6600 - val_loss: 0.6302 - val_accuracy: 0.6800\n",
      "Epoch 39/300\n",
      "19/19 [==============================] - 0s 4ms/step - loss: 0.6381 - accuracy: 0.6600 - val_loss: 0.6310 - val_accuracy: 0.6900\n",
      "Epoch 40/300\n",
      "19/19 [==============================] - 0s 3ms/step - loss: 0.6394 - accuracy: 0.6567 - val_loss: 0.6302 - val_accuracy: 0.6700\n",
      "Epoch 41/300\n",
      "19/19 [==============================] - 0s 4ms/step - loss: 0.6363 - accuracy: 0.6600 - val_loss: 0.6311 - val_accuracy: 0.6900\n",
      "Epoch 42/300\n",
      "19/19 [==============================] - 0s 4ms/step - loss: 0.6457 - accuracy: 0.6550 - val_loss: 0.6283 - val_accuracy: 0.6700\n",
      "Epoch 43/300\n",
      "19/19 [==============================] - 0s 3ms/step - loss: 0.6464 - accuracy: 0.6450 - val_loss: 0.6275 - val_accuracy: 0.6800\n",
      "Epoch 44/300\n",
      "19/19 [==============================] - 0s 4ms/step - loss: 0.6352 - accuracy: 0.6683 - val_loss: 0.6377 - val_accuracy: 0.6700\n",
      "Epoch 45/300\n",
      "19/19 [==============================] - 0s 3ms/step - loss: 0.6417 - accuracy: 0.6550 - val_loss: 0.6314 - val_accuracy: 0.6700\n",
      "Epoch 46/300\n",
      "19/19 [==============================] - 0s 3ms/step - loss: 0.6329 - accuracy: 0.6650 - val_loss: 0.6264 - val_accuracy: 0.6800\n",
      "Epoch 47/300\n",
      "19/19 [==============================] - 0s 3ms/step - loss: 0.6318 - accuracy: 0.6633 - val_loss: 0.6250 - val_accuracy: 0.6900\n",
      "Epoch 48/300\n",
      "19/19 [==============================] - 0s 4ms/step - loss: 0.6486 - accuracy: 0.6600 - val_loss: 0.6241 - val_accuracy: 0.6800\n",
      "Epoch 49/300\n",
      "19/19 [==============================] - 0s 4ms/step - loss: 0.6409 - accuracy: 0.6683 - val_loss: 0.6223 - val_accuracy: 0.6900\n",
      "Epoch 50/300\n",
      "19/19 [==============================] - 0s 3ms/step - loss: 0.6364 - accuracy: 0.6567 - val_loss: 0.6252 - val_accuracy: 0.6700\n",
      "Epoch 51/300\n",
      "19/19 [==============================] - 0s 3ms/step - loss: 0.6430 - accuracy: 0.6567 - val_loss: 0.6231 - val_accuracy: 0.6800\n",
      "Epoch 52/300\n",
      "19/19 [==============================] - 0s 4ms/step - loss: 0.6395 - accuracy: 0.6650 - val_loss: 0.6222 - val_accuracy: 0.6800\n",
      "Epoch 53/300\n",
      "19/19 [==============================] - 0s 3ms/step - loss: 0.6332 - accuracy: 0.6517 - val_loss: 0.6218 - val_accuracy: 0.7000\n",
      "Epoch 54/300\n",
      "19/19 [==============================] - 0s 4ms/step - loss: 0.6379 - accuracy: 0.6633 - val_loss: 0.6206 - val_accuracy: 0.6800\n",
      "Epoch 55/300\n",
      "19/19 [==============================] - 0s 3ms/step - loss: 0.6306 - accuracy: 0.6717 - val_loss: 0.6194 - val_accuracy: 0.6800\n",
      "Epoch 56/300\n",
      "19/19 [==============================] - 0s 3ms/step - loss: 0.6303 - accuracy: 0.6650 - val_loss: 0.6195 - val_accuracy: 0.6800\n",
      "Epoch 57/300\n",
      "19/19 [==============================] - 0s 4ms/step - loss: 0.6394 - accuracy: 0.6633 - val_loss: 0.6214 - val_accuracy: 0.6700\n",
      "Epoch 58/300\n",
      "19/19 [==============================] - 0s 4ms/step - loss: 0.6339 - accuracy: 0.6533 - val_loss: 0.6189 - val_accuracy: 0.6800\n"
     ]
    },
    {
     "name": "stdout",
     "output_type": "stream",
     "text": [
      "Epoch 59/300\n",
      "19/19 [==============================] - 0s 4ms/step - loss: 0.6316 - accuracy: 0.6617 - val_loss: 0.6172 - val_accuracy: 0.6800\n",
      "Epoch 60/300\n",
      "19/19 [==============================] - 0s 4ms/step - loss: 0.6374 - accuracy: 0.6483 - val_loss: 0.6168 - val_accuracy: 0.6800\n",
      "Epoch 61/300\n",
      "19/19 [==============================] - 0s 3ms/step - loss: 0.6240 - accuracy: 0.6650 - val_loss: 0.6170 - val_accuracy: 0.6800\n",
      "Epoch 62/300\n",
      "19/19 [==============================] - 0s 3ms/step - loss: 0.6291 - accuracy: 0.6633 - val_loss: 0.6162 - val_accuracy: 0.6800\n",
      "Epoch 63/300\n",
      "19/19 [==============================] - 0s 4ms/step - loss: 0.6307 - accuracy: 0.6567 - val_loss: 0.6154 - val_accuracy: 0.6800\n",
      "Epoch 64/300\n",
      "19/19 [==============================] - 0s 3ms/step - loss: 0.6281 - accuracy: 0.6600 - val_loss: 0.6157 - val_accuracy: 0.6800\n",
      "Epoch 65/300\n",
      "19/19 [==============================] - 0s 4ms/step - loss: 0.6283 - accuracy: 0.6700 - val_loss: 0.6090 - val_accuracy: 0.6900\n",
      "Epoch 66/300\n",
      "19/19 [==============================] - 0s 3ms/step - loss: 0.6289 - accuracy: 0.6600 - val_loss: 0.6089 - val_accuracy: 0.6900\n",
      "Epoch 67/300\n",
      "19/19 [==============================] - 0s 3ms/step - loss: 0.6202 - accuracy: 0.6783 - val_loss: 0.6097 - val_accuracy: 0.6900\n",
      "Epoch 68/300\n",
      "19/19 [==============================] - 0s 4ms/step - loss: 0.6194 - accuracy: 0.6633 - val_loss: 0.6066 - val_accuracy: 0.7000\n",
      "Epoch 69/300\n",
      "19/19 [==============================] - 0s 5ms/step - loss: 0.6183 - accuracy: 0.6800 - val_loss: 0.6065 - val_accuracy: 0.7100\n",
      "Epoch 70/300\n",
      "19/19 [==============================] - 0s 3ms/step - loss: 0.6146 - accuracy: 0.6717 - val_loss: 0.6054 - val_accuracy: 0.7000\n",
      "Epoch 71/300\n",
      "19/19 [==============================] - 0s 3ms/step - loss: 0.6345 - accuracy: 0.6683 - val_loss: 0.6068 - val_accuracy: 0.7100\n",
      "Epoch 72/300\n",
      "19/19 [==============================] - 0s 3ms/step - loss: 0.6278 - accuracy: 0.6633 - val_loss: 0.6066 - val_accuracy: 0.6900\n",
      "Epoch 73/300\n",
      "19/19 [==============================] - 0s 4ms/step - loss: 0.6181 - accuracy: 0.6650 - val_loss: 0.6054 - val_accuracy: 0.7100\n",
      "Epoch 74/300\n",
      "19/19 [==============================] - 0s 3ms/step - loss: 0.6212 - accuracy: 0.6717 - val_loss: 0.6067 - val_accuracy: 0.7000\n",
      "Epoch 75/300\n",
      "19/19 [==============================] - 0s 3ms/step - loss: 0.6084 - accuracy: 0.6767 - val_loss: 0.6039 - val_accuracy: 0.7200\n",
      "Epoch 76/300\n",
      "19/19 [==============================] - 0s 3ms/step - loss: 0.6093 - accuracy: 0.6867 - val_loss: 0.5994 - val_accuracy: 0.7200\n",
      "Epoch 77/300\n",
      "19/19 [==============================] - 0s 4ms/step - loss: 0.6179 - accuracy: 0.6833 - val_loss: 0.6001 - val_accuracy: 0.7200\n",
      "Epoch 78/300\n",
      "19/19 [==============================] - 0s 4ms/step - loss: 0.6042 - accuracy: 0.6950 - val_loss: 0.6001 - val_accuracy: 0.7200\n",
      "Epoch 79/300\n",
      "19/19 [==============================] - 0s 3ms/step - loss: 0.6174 - accuracy: 0.6767 - val_loss: 0.6015 - val_accuracy: 0.7100\n",
      "Epoch 80/300\n",
      "19/19 [==============================] - 0s 3ms/step - loss: 0.6187 - accuracy: 0.6667 - val_loss: 0.6021 - val_accuracy: 0.7000\n",
      "Epoch 81/300\n",
      "19/19 [==============================] - 0s 3ms/step - loss: 0.6153 - accuracy: 0.6733 - val_loss: 0.5966 - val_accuracy: 0.7200\n",
      "Epoch 82/300\n",
      "19/19 [==============================] - 0s 3ms/step - loss: 0.6116 - accuracy: 0.6717 - val_loss: 0.5959 - val_accuracy: 0.7200\n",
      "Epoch 83/300\n",
      "19/19 [==============================] - 0s 3ms/step - loss: 0.6169 - accuracy: 0.6733 - val_loss: 0.5994 - val_accuracy: 0.7000\n",
      "Epoch 84/300\n",
      "19/19 [==============================] - 0s 3ms/step - loss: 0.6227 - accuracy: 0.6700 - val_loss: 0.5975 - val_accuracy: 0.7000\n",
      "Epoch 85/300\n",
      "19/19 [==============================] - 0s 3ms/step - loss: 0.6031 - accuracy: 0.6850 - val_loss: 0.5937 - val_accuracy: 0.7500\n",
      "Epoch 86/300\n",
      "19/19 [==============================] - 0s 3ms/step - loss: 0.6138 - accuracy: 0.6700 - val_loss: 0.5963 - val_accuracy: 0.7200\n",
      "Epoch 87/300\n",
      "19/19 [==============================] - 0s 4ms/step - loss: 0.6145 - accuracy: 0.6900 - val_loss: 0.5947 - val_accuracy: 0.7100\n",
      "Epoch 88/300\n",
      "19/19 [==============================] - 0s 3ms/step - loss: 0.6141 - accuracy: 0.6850 - val_loss: 0.5938 - val_accuracy: 0.7200\n",
      "Epoch 89/300\n",
      "19/19 [==============================] - 0s 3ms/step - loss: 0.6133 - accuracy: 0.6717 - val_loss: 0.5952 - val_accuracy: 0.7100\n",
      "Epoch 90/300\n",
      "19/19 [==============================] - 0s 3ms/step - loss: 0.6231 - accuracy: 0.6817 - val_loss: 0.5917 - val_accuracy: 0.7300\n",
      "Epoch 91/300\n",
      "19/19 [==============================] - 0s 4ms/step - loss: 0.6074 - accuracy: 0.6900 - val_loss: 0.5905 - val_accuracy: 0.7200\n",
      "Epoch 92/300\n",
      "19/19 [==============================] - 0s 3ms/step - loss: 0.6120 - accuracy: 0.6767 - val_loss: 0.5906 - val_accuracy: 0.7200\n",
      "Epoch 93/300\n",
      "19/19 [==============================] - 0s 4ms/step - loss: 0.5999 - accuracy: 0.6850 - val_loss: 0.5846 - val_accuracy: 0.7500\n",
      "Epoch 94/300\n",
      "19/19 [==============================] - 0s 3ms/step - loss: 0.5929 - accuracy: 0.7017 - val_loss: 0.5885 - val_accuracy: 0.7300\n",
      "Epoch 95/300\n",
      "19/19 [==============================] - 0s 4ms/step - loss: 0.6018 - accuracy: 0.6850 - val_loss: 0.5972 - val_accuracy: 0.7100\n",
      "Epoch 96/300\n",
      "19/19 [==============================] - 0s 3ms/step - loss: 0.6215 - accuracy: 0.6733 - val_loss: 0.5872 - val_accuracy: 0.7300\n",
      "Epoch 97/300\n",
      "19/19 [==============================] - 0s 4ms/step - loss: 0.6122 - accuracy: 0.7050 - val_loss: 0.5981 - val_accuracy: 0.6900\n",
      "Epoch 98/300\n",
      "19/19 [==============================] - 0s 3ms/step - loss: 0.6033 - accuracy: 0.6817 - val_loss: 0.5856 - val_accuracy: 0.7200\n",
      "Epoch 99/300\n",
      "19/19 [==============================] - 0s 3ms/step - loss: 0.6153 - accuracy: 0.6900 - val_loss: 0.5938 - val_accuracy: 0.7000\n",
      "Epoch 100/300\n",
      "19/19 [==============================] - 0s 3ms/step - loss: 0.5945 - accuracy: 0.7100 - val_loss: 0.5900 - val_accuracy: 0.7200\n",
      "Epoch 101/300\n",
      "19/19 [==============================] - 0s 3ms/step - loss: 0.5991 - accuracy: 0.6950 - val_loss: 0.5883 - val_accuracy: 0.7200\n",
      "Epoch 102/300\n",
      "19/19 [==============================] - 0s 3ms/step - loss: 0.5920 - accuracy: 0.6783 - val_loss: 0.5842 - val_accuracy: 0.7400\n",
      "Epoch 103/300\n",
      "19/19 [==============================] - 0s 4ms/step - loss: 0.6016 - accuracy: 0.6950 - val_loss: 0.5842 - val_accuracy: 0.7300\n",
      "Epoch 104/300\n",
      "19/19 [==============================] - 0s 3ms/step - loss: 0.5789 - accuracy: 0.7050 - val_loss: 0.5831 - val_accuracy: 0.7300\n",
      "Epoch 105/300\n",
      "19/19 [==============================] - 0s 3ms/step - loss: 0.6019 - accuracy: 0.6833 - val_loss: 0.5824 - val_accuracy: 0.7400\n",
      "Epoch 106/300\n",
      "19/19 [==============================] - 0s 4ms/step - loss: 0.6010 - accuracy: 0.7050 - val_loss: 0.5826 - val_accuracy: 0.7500\n",
      "Epoch 107/300\n",
      "19/19 [==============================] - 0s 3ms/step - loss: 0.5989 - accuracy: 0.7050 - val_loss: 0.5855 - val_accuracy: 0.7200\n",
      "Epoch 108/300\n",
      "19/19 [==============================] - 0s 3ms/step - loss: 0.5841 - accuracy: 0.7067 - val_loss: 0.5819 - val_accuracy: 0.7300\n",
      "Epoch 109/300\n",
      "19/19 [==============================] - 0s 3ms/step - loss: 0.5893 - accuracy: 0.6967 - val_loss: 0.5838 - val_accuracy: 0.7100\n",
      "Epoch 110/300\n",
      "19/19 [==============================] - 0s 3ms/step - loss: 0.5903 - accuracy: 0.6983 - val_loss: 0.5781 - val_accuracy: 0.7300\n",
      "Epoch 111/300\n",
      "19/19 [==============================] - 0s 3ms/step - loss: 0.5810 - accuracy: 0.7033 - val_loss: 0.5781 - val_accuracy: 0.7400\n",
      "Epoch 112/300\n",
      "19/19 [==============================] - 0s 3ms/step - loss: 0.5913 - accuracy: 0.7067 - val_loss: 0.5760 - val_accuracy: 0.7300\n",
      "Epoch 113/300\n",
      "19/19 [==============================] - 0s 3ms/step - loss: 0.5997 - accuracy: 0.6967 - val_loss: 0.5811 - val_accuracy: 0.7200\n",
      "Epoch 114/300\n",
      "19/19 [==============================] - 0s 3ms/step - loss: 0.5864 - accuracy: 0.6950 - val_loss: 0.5786 - val_accuracy: 0.7300\n",
      "Epoch 115/300\n",
      "19/19 [==============================] - 0s 3ms/step - loss: 0.5821 - accuracy: 0.7067 - val_loss: 0.5774 - val_accuracy: 0.7200\n",
      "Epoch 116/300\n",
      "19/19 [==============================] - 0s 3ms/step - loss: 0.5728 - accuracy: 0.7150 - val_loss: 0.5754 - val_accuracy: 0.7300\n",
      "Epoch 117/300\n",
      "19/19 [==============================] - 0s 3ms/step - loss: 0.5676 - accuracy: 0.7183 - val_loss: 0.5722 - val_accuracy: 0.7500\n",
      "Epoch 118/300\n",
      "19/19 [==============================] - 0s 3ms/step - loss: 0.5652 - accuracy: 0.7117 - val_loss: 0.5812 - val_accuracy: 0.7300\n",
      "Epoch 119/300\n",
      "19/19 [==============================] - 0s 3ms/step - loss: 0.5917 - accuracy: 0.7083 - val_loss: 0.5800 - val_accuracy: 0.7200\n",
      "Epoch 120/300\n",
      "19/19 [==============================] - 0s 3ms/step - loss: 0.5819 - accuracy: 0.6950 - val_loss: 0.5820 - val_accuracy: 0.7000\n",
      "Epoch 121/300\n",
      "19/19 [==============================] - 0s 3ms/step - loss: 0.5717 - accuracy: 0.7100 - val_loss: 0.5774 - val_accuracy: 0.7200\n",
      "Epoch 122/300\n",
      "19/19 [==============================] - 0s 3ms/step - loss: 0.5948 - accuracy: 0.6967 - val_loss: 0.5787 - val_accuracy: 0.7100\n",
      "Epoch 123/300\n",
      "19/19 [==============================] - 0s 3ms/step - loss: 0.5724 - accuracy: 0.7183 - val_loss: 0.5808 - val_accuracy: 0.7200\n",
      "Epoch 124/300\n",
      "19/19 [==============================] - 0s 3ms/step - loss: 0.5790 - accuracy: 0.7183 - val_loss: 0.5690 - val_accuracy: 0.7300\n",
      "Epoch 125/300\n",
      "19/19 [==============================] - 0s 3ms/step - loss: 0.5845 - accuracy: 0.7017 - val_loss: 0.5752 - val_accuracy: 0.7300\n",
      "Epoch 126/300\n",
      "19/19 [==============================] - 0s 3ms/step - loss: 0.5624 - accuracy: 0.7317 - val_loss: 0.5863 - val_accuracy: 0.7200\n",
      "Epoch 127/300\n",
      "19/19 [==============================] - 0s 4ms/step - loss: 0.5696 - accuracy: 0.7217 - val_loss: 0.5819 - val_accuracy: 0.7200\n",
      "Epoch 128/300\n",
      "19/19 [==============================] - 0s 3ms/step - loss: 0.5708 - accuracy: 0.7200 - val_loss: 0.5786 - val_accuracy: 0.7100\n",
      "Epoch 129/300\n",
      "19/19 [==============================] - 0s 3ms/step - loss: 0.5765 - accuracy: 0.7167 - val_loss: 0.5789 - val_accuracy: 0.7100\n",
      "Epoch 130/300\n",
      "19/19 [==============================] - 0s 3ms/step - loss: 0.5886 - accuracy: 0.7100 - val_loss: 0.5783 - val_accuracy: 0.7300\n",
      "Epoch 131/300\n",
      "19/19 [==============================] - 0s 3ms/step - loss: 0.5571 - accuracy: 0.7250 - val_loss: 0.5804 - val_accuracy: 0.7200\n",
      "Epoch 132/300\n",
      "19/19 [==============================] - 0s 3ms/step - loss: 0.5755 - accuracy: 0.7117 - val_loss: 0.5848 - val_accuracy: 0.7100\n",
      "Epoch 133/300\n",
      "19/19 [==============================] - 0s 3ms/step - loss: 0.5738 - accuracy: 0.6950 - val_loss: 0.5792 - val_accuracy: 0.7200\n",
      "Epoch 134/300\n",
      "19/19 [==============================] - 0s 4ms/step - loss: 0.5579 - accuracy: 0.7183 - val_loss: 0.5801 - val_accuracy: 0.7100\n",
      "Epoch 135/300\n",
      "19/19 [==============================] - 0s 3ms/step - loss: 0.5667 - accuracy: 0.7167 - val_loss: 0.5840 - val_accuracy: 0.7200\n",
      "Epoch 136/300\n",
      "19/19 [==============================] - 0s 3ms/step - loss: 0.5476 - accuracy: 0.7317 - val_loss: 0.5788 - val_accuracy: 0.7200\n",
      "Epoch 137/300\n",
      "19/19 [==============================] - 0s 4ms/step - loss: 0.5886 - accuracy: 0.7000 - val_loss: 0.5760 - val_accuracy: 0.7300\n",
      "Epoch 138/300\n",
      "19/19 [==============================] - 0s 4ms/step - loss: 0.5796 - accuracy: 0.6967 - val_loss: 0.5828 - val_accuracy: 0.7000\n",
      "Epoch 139/300\n",
      "19/19 [==============================] - 0s 4ms/step - loss: 0.5818 - accuracy: 0.6967 - val_loss: 0.5787 - val_accuracy: 0.7200\n",
      "Epoch 140/300\n",
      "19/19 [==============================] - 0s 3ms/step - loss: 0.5766 - accuracy: 0.7183 - val_loss: 0.5800 - val_accuracy: 0.7000\n",
      "Epoch 141/300\n",
      "19/19 [==============================] - 0s 4ms/step - loss: 0.5654 - accuracy: 0.7100 - val_loss: 0.5675 - val_accuracy: 0.7300\n",
      "Epoch 142/300\n",
      "19/19 [==============================] - 0s 4ms/step - loss: 0.5653 - accuracy: 0.7200 - val_loss: 0.5678 - val_accuracy: 0.7200\n",
      "Epoch 143/300\n",
      "19/19 [==============================] - 0s 3ms/step - loss: 0.5641 - accuracy: 0.7233 - val_loss: 0.5663 - val_accuracy: 0.7200\n",
      "Epoch 144/300\n",
      "19/19 [==============================] - 0s 3ms/step - loss: 0.5583 - accuracy: 0.7233 - val_loss: 0.5832 - val_accuracy: 0.6900\n",
      "Epoch 145/300\n",
      "19/19 [==============================] - 0s 3ms/step - loss: 0.5775 - accuracy: 0.7217 - val_loss: 0.5811 - val_accuracy: 0.7000\n",
      "Epoch 146/300\n",
      "19/19 [==============================] - 0s 3ms/step - loss: 0.5549 - accuracy: 0.7217 - val_loss: 0.5591 - val_accuracy: 0.7300\n",
      "Epoch 147/300\n",
      "19/19 [==============================] - 0s 3ms/step - loss: 0.5698 - accuracy: 0.7067 - val_loss: 0.5782 - val_accuracy: 0.7200\n",
      "Epoch 148/300\n",
      "19/19 [==============================] - 0s 3ms/step - loss: 0.5686 - accuracy: 0.7267 - val_loss: 0.5711 - val_accuracy: 0.7300\n",
      "Epoch 149/300\n",
      "19/19 [==============================] - 0s 4ms/step - loss: 0.5712 - accuracy: 0.7117 - val_loss: 0.5636 - val_accuracy: 0.7200\n",
      "Epoch 150/300\n",
      "19/19 [==============================] - 0s 3ms/step - loss: 0.5592 - accuracy: 0.7367 - val_loss: 0.5671 - val_accuracy: 0.7300\n",
      "Epoch 151/300\n",
      "19/19 [==============================] - 0s 3ms/step - loss: 0.5490 - accuracy: 0.7350 - val_loss: 0.5661 - val_accuracy: 0.7200\n",
      "Epoch 152/300\n",
      "19/19 [==============================] - 0s 3ms/step - loss: 0.5572 - accuracy: 0.7217 - val_loss: 0.5684 - val_accuracy: 0.7200\n",
      "Epoch 153/300\n",
      "19/19 [==============================] - 0s 4ms/step - loss: 0.5677 - accuracy: 0.7183 - val_loss: 0.5687 - val_accuracy: 0.7200\n",
      "Epoch 154/300\n",
      "19/19 [==============================] - 0s 3ms/step - loss: 0.5510 - accuracy: 0.7467 - val_loss: 0.5647 - val_accuracy: 0.7300\n",
      "Epoch 155/300\n",
      "19/19 [==============================] - 0s 3ms/step - loss: 0.5600 - accuracy: 0.7167 - val_loss: 0.5747 - val_accuracy: 0.7200\n",
      "Epoch 156/300\n",
      "19/19 [==============================] - 0s 3ms/step - loss: 0.5513 - accuracy: 0.7333 - val_loss: 0.5746 - val_accuracy: 0.7300\n",
      "Epoch 157/300\n",
      "19/19 [==============================] - 0s 3ms/step - loss: 0.5484 - accuracy: 0.7333 - val_loss: 0.5720 - val_accuracy: 0.7300\n",
      "Epoch 158/300\n",
      "19/19 [==============================] - 0s 4ms/step - loss: 0.5633 - accuracy: 0.7083 - val_loss: 0.5729 - val_accuracy: 0.7100\n",
      "Epoch 159/300\n",
      "19/19 [==============================] - 0s 3ms/step - loss: 0.5626 - accuracy: 0.7233 - val_loss: 0.5691 - val_accuracy: 0.7200\n",
      "Epoch 160/300\n",
      "19/19 [==============================] - 0s 4ms/step - loss: 0.5683 - accuracy: 0.7150 - val_loss: 0.5653 - val_accuracy: 0.7300\n",
      "Epoch 161/300\n",
      "19/19 [==============================] - 0s 4ms/step - loss: 0.5624 - accuracy: 0.6983 - val_loss: 0.5617 - val_accuracy: 0.7300\n",
      "Epoch 162/300\n",
      "19/19 [==============================] - 0s 3ms/step - loss: 0.5730 - accuracy: 0.7133 - val_loss: 0.5645 - val_accuracy: 0.7300\n",
      "Epoch 163/300\n",
      "19/19 [==============================] - 0s 3ms/step - loss: 0.5460 - accuracy: 0.7350 - val_loss: 0.5653 - val_accuracy: 0.7200\n",
      "Epoch 164/300\n",
      "19/19 [==============================] - 0s 4ms/step - loss: 0.5579 - accuracy: 0.7333 - val_loss: 0.5744 - val_accuracy: 0.7100\n",
      "Epoch 165/300\n",
      "19/19 [==============================] - 0s 3ms/step - loss: 0.5455 - accuracy: 0.7367 - val_loss: 0.5643 - val_accuracy: 0.7200\n",
      "Epoch 166/300\n",
      "19/19 [==============================] - 0s 4ms/step - loss: 0.5558 - accuracy: 0.7217 - val_loss: 0.5617 - val_accuracy: 0.7100\n",
      "Epoch 167/300\n",
      "19/19 [==============================] - 0s 4ms/step - loss: 0.5605 - accuracy: 0.7167 - val_loss: 0.5682 - val_accuracy: 0.7100\n",
      "Epoch 168/300\n",
      "19/19 [==============================] - 0s 4ms/step - loss: 0.5608 - accuracy: 0.7133 - val_loss: 0.5617 - val_accuracy: 0.7200\n",
      "Epoch 169/300\n",
      "19/19 [==============================] - 0s 4ms/step - loss: 0.5469 - accuracy: 0.7283 - val_loss: 0.5582 - val_accuracy: 0.7200\n",
      "Epoch 170/300\n",
      "19/19 [==============================] - 0s 4ms/step - loss: 0.5584 - accuracy: 0.7300 - val_loss: 0.5585 - val_accuracy: 0.7300\n",
      "Epoch 171/300\n",
      "19/19 [==============================] - 0s 4ms/step - loss: 0.5505 - accuracy: 0.7400 - val_loss: 0.5633 - val_accuracy: 0.7200\n",
      "Epoch 172/300\n",
      "19/19 [==============================] - 0s 4ms/step - loss: 0.5444 - accuracy: 0.7283 - val_loss: 0.5596 - val_accuracy: 0.7300\n",
      "Epoch 173/300\n"
     ]
    },
    {
     "name": "stdout",
     "output_type": "stream",
     "text": [
      "19/19 [==============================] - 0s 4ms/step - loss: 0.5499 - accuracy: 0.7300 - val_loss: 0.5641 - val_accuracy: 0.7200\n",
      "Epoch 174/300\n",
      "19/19 [==============================] - 0s 4ms/step - loss: 0.5354 - accuracy: 0.7400 - val_loss: 0.5593 - val_accuracy: 0.7200\n",
      "Epoch 175/300\n",
      "19/19 [==============================] - 0s 3ms/step - loss: 0.5526 - accuracy: 0.7317 - val_loss: 0.5587 - val_accuracy: 0.7400\n",
      "Epoch 176/300\n",
      "19/19 [==============================] - 0s 3ms/step - loss: 0.5438 - accuracy: 0.7117 - val_loss: 0.5579 - val_accuracy: 0.7300\n",
      "Epoch 177/300\n",
      "19/19 [==============================] - 0s 3ms/step - loss: 0.5352 - accuracy: 0.7483 - val_loss: 0.5583 - val_accuracy: 0.7200\n",
      "Epoch 178/300\n",
      "19/19 [==============================] - 0s 4ms/step - loss: 0.5457 - accuracy: 0.7333 - val_loss: 0.5582 - val_accuracy: 0.7200\n",
      "Epoch 179/300\n",
      "19/19 [==============================] - 0s 4ms/step - loss: 0.5423 - accuracy: 0.7400 - val_loss: 0.5529 - val_accuracy: 0.7200\n",
      "Epoch 180/300\n",
      "19/19 [==============================] - 0s 4ms/step - loss: 0.5364 - accuracy: 0.7367 - val_loss: 0.5467 - val_accuracy: 0.7200\n",
      "Epoch 181/300\n",
      "19/19 [==============================] - 0s 4ms/step - loss: 0.5623 - accuracy: 0.7150 - val_loss: 0.5526 - val_accuracy: 0.7200\n",
      "Epoch 182/300\n",
      "19/19 [==============================] - 0s 4ms/step - loss: 0.5262 - accuracy: 0.7350 - val_loss: 0.5462 - val_accuracy: 0.7200\n",
      "Epoch 183/300\n",
      "19/19 [==============================] - 0s 3ms/step - loss: 0.5565 - accuracy: 0.7167 - val_loss: 0.5475 - val_accuracy: 0.7400\n",
      "Epoch 184/300\n",
      "19/19 [==============================] - 0s 3ms/step - loss: 0.5467 - accuracy: 0.7133 - val_loss: 0.5500 - val_accuracy: 0.7200\n",
      "Epoch 185/300\n",
      "19/19 [==============================] - 0s 3ms/step - loss: 0.5406 - accuracy: 0.7517 - val_loss: 0.5452 - val_accuracy: 0.7200\n",
      "Epoch 186/300\n",
      "19/19 [==============================] - 0s 4ms/step - loss: 0.5498 - accuracy: 0.7183 - val_loss: 0.5667 - val_accuracy: 0.7000\n",
      "Epoch 187/300\n",
      "19/19 [==============================] - 0s 3ms/step - loss: 0.5323 - accuracy: 0.7400 - val_loss: 0.5425 - val_accuracy: 0.7200\n",
      "Epoch 188/300\n",
      "19/19 [==============================] - 0s 4ms/step - loss: 0.5380 - accuracy: 0.7417 - val_loss: 0.5548 - val_accuracy: 0.7200\n",
      "Epoch 189/300\n",
      "19/19 [==============================] - 0s 4ms/step - loss: 0.5336 - accuracy: 0.7350 - val_loss: 0.5614 - val_accuracy: 0.7100\n",
      "Epoch 190/300\n",
      "19/19 [==============================] - 0s 5ms/step - loss: 0.5417 - accuracy: 0.7233 - val_loss: 0.5505 - val_accuracy: 0.7400\n",
      "Epoch 191/300\n",
      "19/19 [==============================] - 0s 4ms/step - loss: 0.5600 - accuracy: 0.7183 - val_loss: 0.5604 - val_accuracy: 0.7100\n",
      "Epoch 192/300\n",
      "19/19 [==============================] - 0s 4ms/step - loss: 0.5366 - accuracy: 0.7433 - val_loss: 0.5486 - val_accuracy: 0.7500\n",
      "Epoch 193/300\n",
      "19/19 [==============================] - 0s 3ms/step - loss: 0.5558 - accuracy: 0.7333 - val_loss: 0.5638 - val_accuracy: 0.6900\n",
      "Epoch 194/300\n",
      "19/19 [==============================] - 0s 3ms/step - loss: 0.5417 - accuracy: 0.7367 - val_loss: 0.5628 - val_accuracy: 0.7200\n",
      "Epoch 195/300\n",
      "19/19 [==============================] - 0s 3ms/step - loss: 0.5375 - accuracy: 0.7150 - val_loss: 0.5567 - val_accuracy: 0.7300\n",
      "Epoch 196/300\n",
      "19/19 [==============================] - 0s 4ms/step - loss: 0.5209 - accuracy: 0.7450 - val_loss: 0.5597 - val_accuracy: 0.7200\n",
      "Epoch 197/300\n",
      "19/19 [==============================] - 0s 4ms/step - loss: 0.5344 - accuracy: 0.7300 - val_loss: 0.5469 - val_accuracy: 0.7400\n",
      "Epoch 198/300\n",
      "19/19 [==============================] - 0s 3ms/step - loss: 0.5500 - accuracy: 0.7383 - val_loss: 0.5715 - val_accuracy: 0.7100\n",
      "Epoch 199/300\n",
      "19/19 [==============================] - 0s 3ms/step - loss: 0.5190 - accuracy: 0.7250 - val_loss: 0.5523 - val_accuracy: 0.7200\n",
      "Epoch 200/300\n",
      "19/19 [==============================] - 0s 3ms/step - loss: 0.5297 - accuracy: 0.7417 - val_loss: 0.5508 - val_accuracy: 0.7200\n",
      "Epoch 201/300\n",
      "19/19 [==============================] - 0s 3ms/step - loss: 0.5501 - accuracy: 0.7117 - val_loss: 0.5659 - val_accuracy: 0.7300\n",
      "Epoch 202/300\n",
      "19/19 [==============================] - 0s 3ms/step - loss: 0.5253 - accuracy: 0.7383 - val_loss: 0.5546 - val_accuracy: 0.7200\n",
      "Epoch 203/300\n",
      "19/19 [==============================] - 0s 3ms/step - loss: 0.5375 - accuracy: 0.7367 - val_loss: 0.5465 - val_accuracy: 0.7200\n",
      "Epoch 204/300\n",
      "19/19 [==============================] - 0s 4ms/step - loss: 0.5407 - accuracy: 0.7283 - val_loss: 0.5559 - val_accuracy: 0.7200\n",
      "Epoch 205/300\n",
      "19/19 [==============================] - 0s 4ms/step - loss: 0.5384 - accuracy: 0.7383 - val_loss: 0.5551 - val_accuracy: 0.7200\n",
      "Epoch 206/300\n",
      "19/19 [==============================] - 0s 4ms/step - loss: 0.5125 - accuracy: 0.7600 - val_loss: 0.5587 - val_accuracy: 0.7200\n",
      "Epoch 207/300\n",
      "19/19 [==============================] - 0s 4ms/step - loss: 0.5339 - accuracy: 0.7467 - val_loss: 0.5564 - val_accuracy: 0.7300\n",
      "Epoch 208/300\n",
      "19/19 [==============================] - 0s 4ms/step - loss: 0.5206 - accuracy: 0.7550 - val_loss: 0.5648 - val_accuracy: 0.7100\n",
      "Epoch 209/300\n",
      "19/19 [==============================] - 0s 4ms/step - loss: 0.5325 - accuracy: 0.7367 - val_loss: 0.5613 - val_accuracy: 0.7100\n",
      "Epoch 210/300\n",
      "19/19 [==============================] - 0s 4ms/step - loss: 0.5264 - accuracy: 0.7300 - val_loss: 0.5501 - val_accuracy: 0.7200\n",
      "Epoch 211/300\n",
      "19/19 [==============================] - 0s 4ms/step - loss: 0.5177 - accuracy: 0.7417 - val_loss: 0.5491 - val_accuracy: 0.7300\n",
      "Epoch 212/300\n",
      "19/19 [==============================] - 0s 4ms/step - loss: 0.5190 - accuracy: 0.7467 - val_loss: 0.5466 - val_accuracy: 0.7200\n",
      "Epoch 213/300\n",
      "19/19 [==============================] - 0s 4ms/step - loss: 0.5281 - accuracy: 0.7450 - val_loss: 0.5441 - val_accuracy: 0.7100\n",
      "Epoch 214/300\n",
      "19/19 [==============================] - 0s 3ms/step - loss: 0.5379 - accuracy: 0.7333 - val_loss: 0.5508 - val_accuracy: 0.7200\n",
      "Epoch 215/300\n",
      "19/19 [==============================] - 0s 4ms/step - loss: 0.5168 - accuracy: 0.7550 - val_loss: 0.5536 - val_accuracy: 0.7100\n",
      "Epoch 216/300\n",
      "19/19 [==============================] - 0s 3ms/step - loss: 0.5287 - accuracy: 0.7417 - val_loss: 0.5462 - val_accuracy: 0.7100\n",
      "Epoch 217/300\n",
      "19/19 [==============================] - 0s 3ms/step - loss: 0.5431 - accuracy: 0.7333 - val_loss: 0.5556 - val_accuracy: 0.7100\n",
      "Epoch 218/300\n",
      "19/19 [==============================] - 0s 4ms/step - loss: 0.5514 - accuracy: 0.7117 - val_loss: 0.5620 - val_accuracy: 0.7200\n",
      "Epoch 219/300\n",
      "19/19 [==============================] - 0s 4ms/step - loss: 0.5178 - accuracy: 0.7383 - val_loss: 0.5435 - val_accuracy: 0.7200\n",
      "Epoch 220/300\n",
      "19/19 [==============================] - 0s 4ms/step - loss: 0.5282 - accuracy: 0.7467 - val_loss: 0.5391 - val_accuracy: 0.7200\n",
      "Epoch 221/300\n",
      "19/19 [==============================] - 0s 4ms/step - loss: 0.5277 - accuracy: 0.7300 - val_loss: 0.5570 - val_accuracy: 0.7100\n",
      "Epoch 222/300\n",
      "19/19 [==============================] - 0s 3ms/step - loss: 0.5136 - accuracy: 0.7467 - val_loss: 0.5509 - val_accuracy: 0.7200\n",
      "Epoch 223/300\n",
      "19/19 [==============================] - 0s 4ms/step - loss: 0.5210 - accuracy: 0.7350 - val_loss: 0.5634 - val_accuracy: 0.7300\n",
      "Epoch 224/300\n",
      "19/19 [==============================] - 0s 3ms/step - loss: 0.5304 - accuracy: 0.7283 - val_loss: 0.5531 - val_accuracy: 0.7300\n",
      "Epoch 225/300\n",
      "19/19 [==============================] - 0s 4ms/step - loss: 0.5385 - accuracy: 0.7183 - val_loss: 0.5589 - val_accuracy: 0.7300\n",
      "Epoch 226/300\n",
      "19/19 [==============================] - 0s 4ms/step - loss: 0.5216 - accuracy: 0.7417 - val_loss: 0.5582 - val_accuracy: 0.7200\n",
      "Epoch 227/300\n",
      "19/19 [==============================] - 0s 4ms/step - loss: 0.5306 - accuracy: 0.7383 - val_loss: 0.5613 - val_accuracy: 0.7000\n",
      "Epoch 228/300\n",
      "19/19 [==============================] - 0s 4ms/step - loss: 0.5170 - accuracy: 0.7517 - val_loss: 0.5490 - val_accuracy: 0.7100\n",
      "Epoch 229/300\n",
      "19/19 [==============================] - 0s 4ms/step - loss: 0.5280 - accuracy: 0.7300 - val_loss: 0.5648 - val_accuracy: 0.7100\n",
      "Epoch 230/300\n",
      "19/19 [==============================] - 0s 4ms/step - loss: 0.5302 - accuracy: 0.7417 - val_loss: 0.5655 - val_accuracy: 0.7100\n",
      "Epoch 231/300\n",
      "19/19 [==============================] - 0s 4ms/step - loss: 0.5125 - accuracy: 0.7450 - val_loss: 0.5537 - val_accuracy: 0.7000\n",
      "Epoch 232/300\n",
      "19/19 [==============================] - 0s 4ms/step - loss: 0.5103 - accuracy: 0.7550 - val_loss: 0.5480 - val_accuracy: 0.7000\n",
      "Epoch 233/300\n",
      "19/19 [==============================] - 0s 3ms/step - loss: 0.5141 - accuracy: 0.7400 - val_loss: 0.5430 - val_accuracy: 0.7100\n",
      "Epoch 234/300\n",
      "19/19 [==============================] - 0s 3ms/step - loss: 0.5234 - accuracy: 0.7333 - val_loss: 0.5545 - val_accuracy: 0.7000\n",
      "Epoch 235/300\n",
      "19/19 [==============================] - 0s 4ms/step - loss: 0.5057 - accuracy: 0.7650 - val_loss: 0.5464 - val_accuracy: 0.7100\n",
      "Epoch 236/300\n",
      "19/19 [==============================] - 0s 4ms/step - loss: 0.5318 - accuracy: 0.7283 - val_loss: 0.5573 - val_accuracy: 0.7100\n",
      "Epoch 237/300\n",
      "19/19 [==============================] - 0s 4ms/step - loss: 0.5135 - accuracy: 0.7367 - val_loss: 0.5396 - val_accuracy: 0.7000\n",
      "Epoch 238/300\n",
      "19/19 [==============================] - 0s 3ms/step - loss: 0.5166 - accuracy: 0.7450 - val_loss: 0.5444 - val_accuracy: 0.7100\n",
      "Epoch 239/300\n",
      "19/19 [==============================] - 0s 3ms/step - loss: 0.5153 - accuracy: 0.7467 - val_loss: 0.5510 - val_accuracy: 0.7100\n",
      "Epoch 240/300\n",
      "19/19 [==============================] - 0s 3ms/step - loss: 0.5016 - accuracy: 0.7417 - val_loss: 0.5464 - val_accuracy: 0.7200\n",
      "Epoch 241/300\n",
      "19/19 [==============================] - 0s 4ms/step - loss: 0.5233 - accuracy: 0.7250 - val_loss: 0.5542 - val_accuracy: 0.7000\n",
      "Epoch 242/300\n",
      "19/19 [==============================] - 0s 4ms/step - loss: 0.4984 - accuracy: 0.7500 - val_loss: 0.5430 - val_accuracy: 0.7100\n",
      "Epoch 243/300\n",
      "19/19 [==============================] - 0s 4ms/step - loss: 0.5244 - accuracy: 0.7483 - val_loss: 0.5451 - val_accuracy: 0.7100\n",
      "Epoch 244/300\n",
      "19/19 [==============================] - 0s 4ms/step - loss: 0.5282 - accuracy: 0.7383 - val_loss: 0.5413 - val_accuracy: 0.7100\n",
      "Epoch 245/300\n",
      "19/19 [==============================] - 0s 4ms/step - loss: 0.5216 - accuracy: 0.7400 - val_loss: 0.5814 - val_accuracy: 0.6800\n",
      "Epoch 246/300\n",
      "19/19 [==============================] - 0s 3ms/step - loss: 0.5226 - accuracy: 0.7400 - val_loss: 0.5374 - val_accuracy: 0.7200\n",
      "Epoch 247/300\n",
      "19/19 [==============================] - 0s 3ms/step - loss: 0.5082 - accuracy: 0.7317 - val_loss: 0.5582 - val_accuracy: 0.7100\n",
      "Epoch 248/300\n",
      "19/19 [==============================] - 0s 4ms/step - loss: 0.5087 - accuracy: 0.7450 - val_loss: 0.5504 - val_accuracy: 0.7200\n",
      "Epoch 249/300\n",
      "19/19 [==============================] - 0s 4ms/step - loss: 0.5172 - accuracy: 0.7383 - val_loss: 0.5511 - val_accuracy: 0.7100\n",
      "Epoch 250/300\n",
      "19/19 [==============================] - 0s 3ms/step - loss: 0.5170 - accuracy: 0.7350 - val_loss: 0.5396 - val_accuracy: 0.7200\n",
      "Epoch 251/300\n",
      "19/19 [==============================] - 0s 4ms/step - loss: 0.5122 - accuracy: 0.7517 - val_loss: 0.5369 - val_accuracy: 0.7100\n",
      "Epoch 252/300\n",
      "19/19 [==============================] - 0s 3ms/step - loss: 0.4976 - accuracy: 0.7617 - val_loss: 0.5765 - val_accuracy: 0.6900\n",
      "Epoch 253/300\n",
      "19/19 [==============================] - 0s 4ms/step - loss: 0.5228 - accuracy: 0.7417 - val_loss: 0.5414 - val_accuracy: 0.7200\n",
      "Epoch 254/300\n",
      "19/19 [==============================] - 0s 4ms/step - loss: 0.5042 - accuracy: 0.7450 - val_loss: 0.5433 - val_accuracy: 0.7100\n",
      "Epoch 255/300\n",
      "19/19 [==============================] - 0s 4ms/step - loss: 0.5120 - accuracy: 0.7383 - val_loss: 0.5524 - val_accuracy: 0.7100\n",
      "Epoch 256/300\n",
      "19/19 [==============================] - 0s 4ms/step - loss: 0.4951 - accuracy: 0.7550 - val_loss: 0.5596 - val_accuracy: 0.7100\n",
      "Epoch 257/300\n",
      "19/19 [==============================] - 0s 4ms/step - loss: 0.5038 - accuracy: 0.7500 - val_loss: 0.5560 - val_accuracy: 0.7200\n",
      "Epoch 258/300\n",
      "19/19 [==============================] - 0s 4ms/step - loss: 0.5002 - accuracy: 0.7500 - val_loss: 0.5694 - val_accuracy: 0.7100\n",
      "Epoch 259/300\n",
      "19/19 [==============================] - 0s 3ms/step - loss: 0.5163 - accuracy: 0.7367 - val_loss: 0.5496 - val_accuracy: 0.7100\n",
      "Epoch 260/300\n",
      "19/19 [==============================] - 0s 3ms/step - loss: 0.5130 - accuracy: 0.7583 - val_loss: 0.5511 - val_accuracy: 0.7100\n",
      "Epoch 261/300\n",
      "19/19 [==============================] - 0s 4ms/step - loss: 0.5230 - accuracy: 0.7333 - val_loss: 0.5582 - val_accuracy: 0.7100\n",
      "Epoch 262/300\n",
      "19/19 [==============================] - 0s 4ms/step - loss: 0.5247 - accuracy: 0.7433 - val_loss: 0.5495 - val_accuracy: 0.7100\n",
      "Epoch 263/300\n",
      "19/19 [==============================] - 0s 4ms/step - loss: 0.4999 - accuracy: 0.7450 - val_loss: 0.5455 - val_accuracy: 0.7100\n",
      "Epoch 264/300\n",
      "19/19 [==============================] - 0s 4ms/step - loss: 0.5025 - accuracy: 0.7517 - val_loss: 0.5389 - val_accuracy: 0.7200\n",
      "Epoch 265/300\n",
      "19/19 [==============================] - 0s 3ms/step - loss: 0.5121 - accuracy: 0.7317 - val_loss: 0.5345 - val_accuracy: 0.7100\n",
      "Epoch 266/300\n",
      "19/19 [==============================] - 0s 4ms/step - loss: 0.5302 - accuracy: 0.7267 - val_loss: 0.5455 - val_accuracy: 0.7000\n",
      "Epoch 267/300\n",
      "19/19 [==============================] - 0s 3ms/step - loss: 0.5036 - accuracy: 0.7367 - val_loss: 0.5485 - val_accuracy: 0.7100\n",
      "Epoch 268/300\n",
      "19/19 [==============================] - 0s 4ms/step - loss: 0.5042 - accuracy: 0.7417 - val_loss: 0.5619 - val_accuracy: 0.7100\n",
      "Epoch 269/300\n",
      "19/19 [==============================] - 0s 4ms/step - loss: 0.5080 - accuracy: 0.7383 - val_loss: 0.5444 - val_accuracy: 0.7000\n",
      "Epoch 270/300\n",
      "19/19 [==============================] - 0s 3ms/step - loss: 0.5043 - accuracy: 0.7517 - val_loss: 0.5543 - val_accuracy: 0.7100\n",
      "Epoch 271/300\n",
      "19/19 [==============================] - 0s 4ms/step - loss: 0.4981 - accuracy: 0.7350 - val_loss: 0.5528 - val_accuracy: 0.7100\n",
      "Epoch 272/300\n",
      "19/19 [==============================] - 0s 4ms/step - loss: 0.4995 - accuracy: 0.7383 - val_loss: 0.5517 - val_accuracy: 0.7200\n",
      "Epoch 273/300\n",
      "19/19 [==============================] - 0s 4ms/step - loss: 0.5003 - accuracy: 0.7567 - val_loss: 0.5581 - val_accuracy: 0.7100\n",
      "Epoch 274/300\n",
      "19/19 [==============================] - 0s 4ms/step - loss: 0.5071 - accuracy: 0.7400 - val_loss: 0.5482 - val_accuracy: 0.7000\n",
      "Epoch 275/300\n",
      "19/19 [==============================] - 0s 4ms/step - loss: 0.5119 - accuracy: 0.7483 - val_loss: 0.5573 - val_accuracy: 0.7100\n",
      "Epoch 276/300\n",
      "19/19 [==============================] - 0s 4ms/step - loss: 0.5059 - accuracy: 0.7450 - val_loss: 0.5566 - val_accuracy: 0.7200\n",
      "Epoch 277/300\n",
      "19/19 [==============================] - 0s 4ms/step - loss: 0.5151 - accuracy: 0.7333 - val_loss: 0.5361 - val_accuracy: 0.7200\n",
      "Epoch 278/300\n",
      "19/19 [==============================] - 0s 4ms/step - loss: 0.4921 - accuracy: 0.7600 - val_loss: 0.5468 - val_accuracy: 0.7200\n",
      "Epoch 279/300\n",
      "19/19 [==============================] - 0s 4ms/step - loss: 0.5005 - accuracy: 0.7317 - val_loss: 0.5508 - val_accuracy: 0.7200\n",
      "Epoch 280/300\n",
      "19/19 [==============================] - 0s 4ms/step - loss: 0.5097 - accuracy: 0.7550 - val_loss: 0.5520 - val_accuracy: 0.7000\n",
      "Epoch 281/300\n",
      "19/19 [==============================] - 0s 5ms/step - loss: 0.5177 - accuracy: 0.7333 - val_loss: 0.5734 - val_accuracy: 0.6800\n",
      "Epoch 282/300\n",
      "19/19 [==============================] - 0s 4ms/step - loss: 0.5209 - accuracy: 0.7367 - val_loss: 0.5668 - val_accuracy: 0.6900\n",
      "Epoch 283/300\n",
      "19/19 [==============================] - 0s 4ms/step - loss: 0.5203 - accuracy: 0.7300 - val_loss: 0.5608 - val_accuracy: 0.7000\n",
      "Epoch 284/300\n",
      "19/19 [==============================] - 0s 3ms/step - loss: 0.5045 - accuracy: 0.7433 - val_loss: 0.5624 - val_accuracy: 0.7000\n",
      "Epoch 285/300\n",
      "19/19 [==============================] - 0s 4ms/step - loss: 0.4901 - accuracy: 0.7517 - val_loss: 0.5421 - val_accuracy: 0.7000\n",
      "Epoch 286/300\n",
      "19/19 [==============================] - 0s 4ms/step - loss: 0.4928 - accuracy: 0.7483 - val_loss: 0.5527 - val_accuracy: 0.7100\n",
      "Epoch 287/300\n"
     ]
    },
    {
     "name": "stdout",
     "output_type": "stream",
     "text": [
      "19/19 [==============================] - 0s 4ms/step - loss: 0.5158 - accuracy: 0.7383 - val_loss: 0.5474 - val_accuracy: 0.7100\n",
      "Epoch 288/300\n",
      "19/19 [==============================] - 0s 3ms/step - loss: 0.4847 - accuracy: 0.7667 - val_loss: 0.5441 - val_accuracy: 0.7100\n",
      "Epoch 289/300\n",
      "19/19 [==============================] - 0s 3ms/step - loss: 0.5055 - accuracy: 0.7583 - val_loss: 0.5443 - val_accuracy: 0.7200\n",
      "Epoch 290/300\n",
      "19/19 [==============================] - 0s 3ms/step - loss: 0.5151 - accuracy: 0.7250 - val_loss: 0.5712 - val_accuracy: 0.7000\n",
      "Epoch 291/300\n",
      "19/19 [==============================] - 0s 4ms/step - loss: 0.5111 - accuracy: 0.7500 - val_loss: 0.5512 - val_accuracy: 0.7100\n",
      "Epoch 292/300\n",
      "19/19 [==============================] - 0s 4ms/step - loss: 0.5034 - accuracy: 0.7433 - val_loss: 0.5332 - val_accuracy: 0.7000\n",
      "Epoch 293/300\n",
      "19/19 [==============================] - 0s 4ms/step - loss: 0.4931 - accuracy: 0.7550 - val_loss: 0.5705 - val_accuracy: 0.6900\n",
      "Epoch 294/300\n",
      "19/19 [==============================] - 0s 3ms/step - loss: 0.5002 - accuracy: 0.7383 - val_loss: 0.5560 - val_accuracy: 0.6900\n",
      "Epoch 295/300\n",
      "19/19 [==============================] - 0s 4ms/step - loss: 0.4876 - accuracy: 0.7633 - val_loss: 0.5411 - val_accuracy: 0.7200\n",
      "Epoch 296/300\n",
      "19/19 [==============================] - 0s 4ms/step - loss: 0.4985 - accuracy: 0.7517 - val_loss: 0.5463 - val_accuracy: 0.7100\n",
      "Epoch 297/300\n",
      "19/19 [==============================] - 0s 4ms/step - loss: 0.5038 - accuracy: 0.7600 - val_loss: 0.5409 - val_accuracy: 0.7300\n",
      "Epoch 298/300\n",
      "19/19 [==============================] - 0s 4ms/step - loss: 0.5111 - accuracy: 0.7517 - val_loss: 0.5467 - val_accuracy: 0.7100\n",
      "Epoch 299/300\n",
      "19/19 [==============================] - 0s 3ms/step - loss: 0.5042 - accuracy: 0.7683 - val_loss: 0.5663 - val_accuracy: 0.7000\n",
      "Epoch 300/300\n",
      "19/19 [==============================] - 0s 3ms/step - loss: 0.5130 - accuracy: 0.7317 - val_loss: 0.5493 - val_accuracy: 0.7200\n"
     ]
    }
   ],
   "source": [
    "hist = model.fit(X_train, Y_train,\n",
    "                epochs=300,\n",
    "                validation_data=(X_val, Y_val),\n",
    "                verbose=1)"
   ]
  },
  {
   "cell_type": "markdown",
   "id": "faae5c3a",
   "metadata": {},
   "source": [
    "## 5. 학습과정 살펴보기"
   ]
  },
  {
   "cell_type": "code",
   "execution_count": 172,
   "id": "3ba9b42d",
   "metadata": {},
   "outputs": [
    {
     "data": {
      "text/plain": [
       "dict_keys(['loss', 'accuracy', 'val_loss', 'val_accuracy'])"
      ]
     },
     "execution_count": 172,
     "metadata": {},
     "output_type": "execute_result"
    }
   ],
   "source": [
    "hist.history.keys()"
   ]
  },
  {
   "cell_type": "code",
   "execution_count": 176,
   "id": "d0e47e83",
   "metadata": {},
   "outputs": [
    {
     "data": {
      "text/plain": [
       "<matplotlib.legend.Legend at 0x295864bb220>"
      ]
     },
     "execution_count": 176,
     "metadata": {},
     "output_type": "execute_result"
    },
    {
     "data": {
      "image/png": "[encoded data removed]",
      "text/plain": [
       "<Figure size 1200x600 with 2 Axes>"
      ]
     },
     "metadata": {},
     "output_type": "display_data"
    }
   ],
   "source": [
    "fig, loss_ax = plt.subplots(figsize=(12,6))\n",
    "loss_ax.plot(hist.history['loss'], 'y', label='train loss')\n",
    "loss_ax.plot(hist.history['val_loss'], 'r', label='val loss')\n",
    "acc_ax = loss_ax.twinx()\n",
    "acc_ax.plot(hist.history['accuracy'], 'g', label='train accuracy')\n",
    "acc_ax.plot(hist.history['val_accuracy'], 'b', label='val accuracy')\n",
    "loss_ax.set_xlabel('epochs')\n",
    "loss_ax.set_ylabel('loss')\n",
    "acc_ax.set_ylabel('accuracy')\n",
    "loss_ax.legend()\n",
    "acc_ax.legend()"
   ]
  },
  {
   "cell_type": "markdown",
   "id": "efc8065e",
   "metadata": {},
   "source": [
    "## 6. 모델 평가 & 교차표"
   ]
  },
  {
   "cell_type": "code",
   "execution_count": 179,
   "id": "221b756d",
   "metadata": {},
   "outputs": [
    {
     "name": "stdout",
     "output_type": "stream",
     "text": [
      "loss : 0.6377807259559631, 정확도 : 0.6470588445663452\n"
     ]
    }
   ],
   "source": [
    "loss, accuracy = model.evaluate(X_test, Y_test, verbose=0)\n",
    "print(f\"loss : {loss}, 정확도 : {accuracy}\")"
   ]
  },
  {
   "cell_type": "code",
   "execution_count": 184,
   "id": "ffaeadde",
   "metadata": {},
   "outputs": [
    {
     "data": {
      "text/plain": [
       "array([0, 1, 1, 0, 0, 0, 1, 0, 1, 1, 0, 0, 1, 0, 0, 1, 1, 0, 0, 1, 0, 0,\n",
       "       1, 0, 0, 0, 0, 0, 0, 0, 1, 1, 1, 0, 0, 0, 0, 0, 0, 1, 1, 0, 0, 1,\n",
       "       0, 0, 1, 0, 1, 1, 1, 0, 0, 1, 1, 1, 0, 1, 0, 1, 0, 1, 0, 0, 0, 0,\n",
       "       1, 0], dtype=int64)"
      ]
     },
     "execution_count": 184,
     "metadata": {},
     "output_type": "execute_result"
    }
   ],
   "source": [
    "# 교차표\n",
    "Y_test.argmax(axis=1) # 실제값 y_test"
   ]
  },
  {
   "cell_type": "code",
   "execution_count": 187,
   "id": "6adfe7bf",
   "metadata": {},
   "outputs": [
    {
     "name": "stdout",
     "output_type": "stream",
     "text": [
      "3/3 [==============================] - 0s 2ms/step\n"
     ]
    },
    {
     "data": {
      "text/plain": [
       "array([0, 0, 0, 0, 0, 0, 0, 0, 0, 0, 0, 0, 0, 0, 0, 1, 0, 0, 0, 0, 0, 0,\n",
       "       0, 0, 0, 0, 0, 0, 0, 0, 0, 0, 0, 0, 0, 0, 0, 0, 0, 0, 0, 0, 0, 0,\n",
       "       0, 0, 0, 0, 1, 0, 0, 0, 0, 0, 0, 0, 0, 0, 0, 0, 0, 1, 0, 0, 0, 0,\n",
       "       0, 0], dtype=int64)"
      ]
     },
     "execution_count": 187,
     "metadata": {},
     "output_type": "execute_result"
    }
   ],
   "source": [
    "y_hat = model.predict(X_test).argmax(axis=1)\n",
    "y_hat"
   ]
  },
  {
   "cell_type": "code",
   "execution_count": 188,
   "id": "599c48a6",
   "metadata": {},
   "outputs": [
    {
     "data": {
      "text/html": [
       "<div>\n",
       "<style scoped>\n",
       "    .dataframe tbody tr th:only-of-type {\n",
       "        vertical-align: middle;\n",
       "    }\n",
       "\n",
       "    .dataframe tbody tr th {\n",
       "        vertical-align: top;\n",
       "    }\n",
       "\n",
       "    .dataframe thead th {\n",
       "        text-align: right;\n",
       "    }\n",
       "</style>\n",
       "<table border=\"1\" class=\"dataframe\">\n",
       "  <thead>\n",
       "    <tr style=\"text-align: right;\">\n",
       "      <th>예측값</th>\n",
       "      <th>0</th>\n",
       "      <th>1</th>\n",
       "    </tr>\n",
       "    <tr>\n",
       "      <th>실제값</th>\n",
       "      <th></th>\n",
       "      <th></th>\n",
       "    </tr>\n",
       "  </thead>\n",
       "  <tbody>\n",
       "    <tr>\n",
       "      <th>0.0</th>\n",
       "      <td>41</td>\n",
       "      <td>0</td>\n",
       "    </tr>\n",
       "    <tr>\n",
       "      <th>1.0</th>\n",
       "      <td>24</td>\n",
       "      <td>3</td>\n",
       "    </tr>\n",
       "  </tbody>\n",
       "</table>\n",
       "</div>"
      ],
      "text/plain": [
       "예측값   0  1\n",
       "실제값       \n",
       "0.0  41  0\n",
       "1.0  24  3"
      ]
     },
     "execution_count": 188,
     "metadata": {},
     "output_type": "execute_result"
    }
   ],
   "source": [
    "pd.crosstab(y_test, y_hat, rownames=['실제값'], colnames=['예측값'])"
   ]
  },
  {
   "cell_type": "code",
   "execution_count": 189,
   "id": "8ba7ca2e",
   "metadata": {},
   "outputs": [
    {
     "data": {
      "text/plain": [
       "array([[41,  0],\n",
       "       [24,  3]], dtype=int64)"
      ]
     },
     "execution_count": 189,
     "metadata": {},
     "output_type": "execute_result"
    }
   ],
   "source": [
    "confusion_matrix(y_test, y_hat)"
   ]
  },
  {
   "cell_type": "markdown",
   "id": "969c515f",
   "metadata": {},
   "source": [
    "## 7. 모델 저장 및 사용"
   ]
  },
  {
   "cell_type": "code",
   "execution_count": 193,
   "id": "c29f91f2",
   "metadata": {},
   "outputs": [],
   "source": [
    "from tensorflow.keras.models import save_model, load_model\n",
    "# model.save('model/06_pima.h5')\n",
    "save_model(model, 'model/06_pima.h5')"
   ]
  },
  {
   "cell_type": "code",
   "execution_count": 194,
   "id": "932dc524",
   "metadata": {},
   "outputs": [],
   "source": [
    "model2 = load_model('model/06_pima.h5')"
   ]
  },
  {
   "cell_type": "code",
   "execution_count": 202,
   "id": "8b7cefce",
   "metadata": {},
   "outputs": [
    {
     "name": "stdout",
     "output_type": "stream",
     "text": [
      "1/1 [==============================] - 0s 37ms/step\n"
     ]
    },
    {
     "data": {
      "text/plain": [
       "array([0, 0], dtype=int64)"
      ]
     },
     "execution_count": 202,
     "metadata": {},
     "output_type": "execute_result"
    }
   ],
   "source": [
    "pred = model2.predict([[2, 122,76,27,200,35.9,0.483,26],\n",
    "               [6, 125,78,31,0,27.6,0.565,49]])\n",
    "pred.argmax(axis=1)"
   ]
  },
  {
   "cell_type": "code",
   "execution_count": 203,
   "id": "369b1558",
   "metadata": {},
   "outputs": [
    {
     "data": {
      "text/plain": [
       "array([0, 0], dtype=int64)"
      ]
     },
     "execution_count": 203,
     "metadata": {},
     "output_type": "execute_result"
    }
   ],
   "source": [
    "np.argmax(pred, axis=1)"
   ]
  },
  {
   "cell_type": "code",
   "execution_count": null,
   "id": "a7bb72d8",
   "metadata": {},
   "outputs": [],
   "source": []
  },
  {
   "cell_type": "code",
   "execution_count": null,
   "id": "1d8fe4bb",
   "metadata": {},
   "outputs": [],
   "source": []
  }
 ],
 "metadata": {
  "kernelspec": {
   "display_name": "ml-dl-nlp",
   "language": "python",
   "name": "ml-dl-nlp"
  },
  "language_info": {
   "codemirror_mode": {
    "name": "ipython",
    "version": 3
   },
   "file_extension": ".py",
   "mimetype": "text/x-python",
   "name": "python",
   "nbconvert_exporter": "python",
   "pygments_lexer": "ipython3",
   "version": "3.10.18"
  },
  "toc": {
   "base_numbering": 1,
   "nav_menu": {},
   "number_sections": false,
   "sideBar": true,
   "skip_h1_title": false,
   "title_cell": "Table of Contents",
   "title_sidebar": "Contents",
   "toc_cell": false,
   "toc_position": {
    "height": "calc(100% - 180px)",
    "left": "10px",
    "top": "150px",
    "width": "165px"
   },
   "toc_section_display": true,
   "toc_window_display": true
  }
 },
 "nbformat": 4,
 "nbformat_minor": 5
}
