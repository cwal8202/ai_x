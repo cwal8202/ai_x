{
 "cells": [
  {
   "cell_type": "code",
   "execution_count": 1,
   "id": "75b51593",
   "metadata": {},
   "outputs": [
    {
     "data": {
      "text/html": [
       "\n",
       "<style>\n",
       "div.container{width:86% !important;}\n",
       "div.cell.code_cell.rendered{width:100%;}\n",
       "div.CodeMirror {font-family:Consolas; font-size:15pt;}\n",
       "div.output {font-size:15pt; font-weight:bold;}\n",
       "div.input {font-family:Consolas; font-size:15pt;}\n",
       "div.prompt {min-width:70px;}\n",
       "div#toc-wrapper{padding-top:120px;}\n",
       "div.text_cell_render ul li{font-size:12pt;padding:5px;}\n",
       "table.dataframe{font-size:15px;}\n",
       "</style>\n"
      ],
      "text/plain": [
       "<IPython.core.display.HTML object>"
      ]
     },
     "metadata": {},
     "output_type": "display_data"
    }
   ],
   "source": [
    "from IPython.display import display, HTML\n",
    "display(HTML(\"\"\"\n",
    "<style>\n",
    "div.container{width:86% !important;}\n",
    "div.cell.code_cell.rendered{width:100%;}\n",
    "div.CodeMirror {font-family:Consolas; font-size:15pt;}\n",
    "div.output {font-size:15pt; font-weight:bold;}\n",
    "div.input {font-family:Consolas; font-size:15pt;}\n",
    "div.prompt {min-width:70px;}\n",
    "div#toc-wrapper{padding-top:120px;}\n",
    "div.text_cell_render ul li{font-size:12pt;padding:5px;}\n",
    "table.dataframe{font-size:15px;}\n",
    "</style>\n",
    "\"\"\"))"
   ]
  },
  {
   "cell_type": "code",
   "execution_count": 2,
   "id": "dfe1de4e",
   "metadata": {},
   "outputs": [],
   "source": [
    "from tensorflow.keras.utils import to_categorical # 분류분석시 원핫인코딩\n",
    "from tensorflow.keras.models import Sequential # 모델생성\n",
    "from tensorflow.keras.layers import Dense, Input\n",
    "import numpy as np"
   ]
  },
  {
   "cell_type": "markdown",
   "id": "0aec0110",
   "metadata": {},
   "source": [
    "# 머신러닝/딥러닝 : 데이터의 법칙성을 추출\n",
    "- 다양한 분야에서 응용 : 글씨인식, 문장분류, 질병진단,...\n",
    "※ ML/DL의 종류\n",
    "- 지도학습(독립=입력변수와 종속=타겟=출력변수가 모두 주어졌을 경우)\n",
    "    회귀분석(타겟변수가 연속형) vs 분류분석(multi, binary)\n",
    "- 비지도학습(입력변수만)\n",
    "    군집화\n",
    "- 강화학습\n",
    "\n",
    "※ 지도학습에서의 ML, DL 프로그래밍 방식\n",
    "1. 데이터 셋 확보(input=입력변수, target=종속변수)\n",
    "    원본 데이터 및 시뮬레이션을 통해 데이터 생성\n",
    "2. 전처리\n",
    "    스케일 조정\n",
    "    훈련셋(학습셋), 검증셋, 시험셋(테스트셋)\n",
    "    학습 및 평가 가능한 포맷으로 변환\n",
    "3. 모델 구성\n",
    "    Sequential 객체 생성뒤 필요한 층을 add()함수로 추가\n",
    "4. 모델 학습과정 설정\n",
    "    compile()함수 이용. 손실함수, optimizer, metrics(평가지표)\n",
    "5. 모델학습시키기 (ft. 학습과정 지켜보기)\n",
    "    fit()함수 이용 - 훈련셋입력=독립변수, 훈련셋타겟=종속변수, 학습횟수, 검증셋\n",
    "6. 모델 평가\n",
    "    시험셋(테스트셋)을 인자로 넣은 evaluate()함수 이용, 그래프\n",
    "7. 모델 사용\n",
    "    predict() 이용. 입력데이터는 2차원 데이터\n",
    "7. 모델 저장\n",
    "    save()함수이용해서 저장. 저장된 모델은 load_model()함수를 이용해서 불러올 수 있음"
   ]
  },
  {
   "cell_type": "markdown",
   "id": "5adbac5f",
   "metadata": {},
   "source": [
    "# 1. 데이터 셋 생성\n",
    "# 2. 데이터 전처리 "
   ]
  },
  {
   "cell_type": "code",
   "execution_count": 3,
   "id": "5620890c",
   "metadata": {},
   "outputs": [
    {
     "data": {
      "text/plain": [
       "((90,), (9,), (9,), (90,), (9,), (9,))"
      ]
     },
     "execution_count": 3,
     "metadata": {},
     "output_type": "execute_result"
    }
   ],
   "source": [
    "# 학습데이터 = 훈련데이터\n",
    "x_train = np.array([1,2,3,4,5,6,7,8,9]*10)\n",
    "y_train = np.array([2,4,6,8,10,12,14,16,18]*10)\n",
    "# 검증데이터\n",
    "x_val = np.array([1,2,3,4,5,6,7,8,9])\n",
    "y_val = np.array([2,4,6,8,10,12,14,16,18])\n",
    "# 테스트셋 = 시험데이터\n",
    "x_test = np.array([1,2,3,4,5,6,7,8,9])\n",
    "y_test = np.array([2,4,6,8,10,12,14,16,18])\n",
    "x_train.shape, x_val.shape, x_test.shape, y_train.shape, y_val.shape, y_test.shape"
   ]
  },
  {
   "cell_type": "code",
   "execution_count": 4,
   "id": "810932d8",
   "metadata": {},
   "outputs": [
    {
     "name": "stdout",
     "output_type": "stream",
     "text": [
      "원 데이터 : ['a' 'b' 'c' 'd']\n",
      "라벨인코딩된 데이터 : [0 1 2 3]\n",
      "원핫인코딩된 데이터 : [[1. 0. 0. 0.]\n",
      " [0. 1. 0. 0.]\n",
      " [0. 0. 1. 0.]\n",
      " [0. 0. 0. 1.]]\n"
     ]
    }
   ],
   "source": [
    "# 인코딩 종류\n",
    "data = np.array(['a','b','c','d'])\n",
    "print('원 데이터 :', data)\n",
    "from sklearn.preprocessing import LabelEncoder\n",
    "le = LabelEncoder()\n",
    "# le.fit(data)\n",
    "# labeled_data = le.transform(data)\n",
    "labeled_data = le.fit_transform(data)\n",
    "print('라벨인코딩된 데이터 :', labeled_data)\n",
    "one_hot_encoded_data = to_categorical(labeled_data)\n",
    "print('원핫인코딩된 데이터 :', one_hot_encoded_data)"
   ]
  },
  {
   "cell_type": "code",
   "execution_count": 5,
   "id": "b09822fa",
   "metadata": {},
   "outputs": [
    {
     "name": "stdout",
     "output_type": "stream",
     "text": [
      "[1 2 2 4 2]\n",
      "to_categorical을 이용한 원핫인코딩 :\n",
      " [[0. 1. 0. 0. 0.]\n",
      " [0. 0. 1. 0. 0.]\n",
      " [0. 0. 1. 0. 0.]\n",
      " [0. 0. 0. 0. 1.]\n",
      " [0. 0. 1. 0. 0.]]\n"
     ]
    },
    {
     "data": {
      "text/plain": [
       "'get_dumies를 이용한 원핫인코딩 :'"
      ]
     },
     "metadata": {},
     "output_type": "display_data"
    },
    {
     "data": {
      "text/html": [
       "<div>\n",
       "<style scoped>\n",
       "    .dataframe tbody tr th:only-of-type {\n",
       "        vertical-align: middle;\n",
       "    }\n",
       "\n",
       "    .dataframe tbody tr th {\n",
       "        vertical-align: top;\n",
       "    }\n",
       "\n",
       "    .dataframe thead th {\n",
       "        text-align: right;\n",
       "    }\n",
       "</style>\n",
       "<table border=\"1\" class=\"dataframe\">\n",
       "  <thead>\n",
       "    <tr style=\"text-align: right;\">\n",
       "      <th></th>\n",
       "      <th>1</th>\n",
       "      <th>2</th>\n",
       "      <th>4</th>\n",
       "    </tr>\n",
       "  </thead>\n",
       "  <tbody>\n",
       "    <tr>\n",
       "      <th>0</th>\n",
       "      <td>1</td>\n",
       "      <td>0</td>\n",
       "      <td>0</td>\n",
       "    </tr>\n",
       "    <tr>\n",
       "      <th>1</th>\n",
       "      <td>0</td>\n",
       "      <td>1</td>\n",
       "      <td>0</td>\n",
       "    </tr>\n",
       "    <tr>\n",
       "      <th>2</th>\n",
       "      <td>0</td>\n",
       "      <td>1</td>\n",
       "      <td>0</td>\n",
       "    </tr>\n",
       "    <tr>\n",
       "      <th>3</th>\n",
       "      <td>0</td>\n",
       "      <td>0</td>\n",
       "      <td>1</td>\n",
       "    </tr>\n",
       "    <tr>\n",
       "      <th>4</th>\n",
       "      <td>0</td>\n",
       "      <td>1</td>\n",
       "      <td>0</td>\n",
       "    </tr>\n",
       "  </tbody>\n",
       "</table>\n",
       "</div>"
      ],
      "text/plain": [
       "   1  2  4\n",
       "0  1  0  0\n",
       "1  0  1  0\n",
       "2  0  1  0\n",
       "3  0  0  1\n",
       "4  0  1  0"
      ]
     },
     "metadata": {},
     "output_type": "display_data"
    },
    {
     "name": "stdout",
     "output_type": "stream",
     "text": [
      "<class 'numpy.ndarray'>\n",
      "<class 'pandas.core.frame.DataFrame'>\n"
     ]
    }
   ],
   "source": [
    "# 분류분석을 위기 위해, target을 원핫인코딩(라벨링 전환)\n",
    "data = np.array([1,2,2,4,2])\n",
    "print(data)\n",
    "categorical_one_hot = to_categorical(data)\n",
    "print('to_categorical을 이용한 원핫인코딩 :\\n', categorical_one_hot)\n",
    "import pandas as pd\n",
    "get_dumies_one_hot = pd.get_dummies(data)\n",
    "display('get_dumies를 이용한 원핫인코딩 :', get_dumies_one_hot)\n",
    "print(type(categorical_one_hot))\n",
    "print(type(get_dumies_one_hot))"
   ]
  },
  {
   "cell_type": "code",
   "execution_count": 6,
   "id": "ea92ba70",
   "metadata": {},
   "outputs": [],
   "source": [
    "# 분류분석을 위한 target변수 라벨링 전환(=원핫인코딩)\n",
    "Y_train = to_categorical(y_train, 19)\n",
    "Y_val   = to_categorical(y_val)\n",
    "Y_test = to_categorical(y_test)"
   ]
  },
  {
   "cell_type": "code",
   "execution_count": 7,
   "id": "4bfc31dd",
   "metadata": {},
   "outputs": [
    {
     "name": "stdout",
     "output_type": "stream",
     "text": [
      "훈련셋 구조: (90,) (90, 19)\n",
      "검증셋 구조: (9,) (9, 19)\n",
      "테스트셋 구조: (9,) (9, 19)\n"
     ]
    }
   ],
   "source": [
    "print('훈련셋 구조:', x_train.shape, Y_train.shape) # 독립변수1개, 타겟변수 19\n",
    "print('검증셋 구조:', x_val.shape, Y_val.shape)\n",
    "print('테스트셋 구조:', x_test.shape, Y_test.shape)"
   ]
  },
  {
   "cell_type": "markdown",
   "id": "99c6123e",
   "metadata": {},
   "source": [
    "# 3. 모델 구성하기"
   ]
  },
  {
   "cell_type": "code",
   "execution_count": 8,
   "id": "2d5d90e9",
   "metadata": {},
   "outputs": [
    {
     "name": "stdout",
     "output_type": "stream",
     "text": [
      "Model: \"sequential\"\n",
      "_________________________________________________________________\n",
      " Layer (type)                Output Shape              Param #   \n",
      "=================================================================\n",
      " dense (Dense)               (None, 38)                76        \n",
      "                                                                 \n",
      " dense_1 (Dense)             (None, 64)                2496      \n",
      "                                                                 \n",
      " dense_2 (Dense)             (None, 32)                2080      \n",
      "                                                                 \n",
      " dense_3 (Dense)             (None, 19)                627       \n",
      "                                                                 \n",
      "=================================================================\n",
      "Total params: 5,279\n",
      "Trainable params: 5,279\n",
      "Non-trainable params: 0\n",
      "_________________________________________________________________\n"
     ]
    }
   ],
   "source": [
    "model = Sequential()\n",
    "model.add(Input(shape=(1,))) # 입력층\n",
    "model.add(Dense(units=38, activation='sigmoid')) # units출력수, 활성화함수:relu, tanh\n",
    "model.add(Dense(units=64, activation='elu'))\n",
    "model.add(Dense(units=32, activation='elu'))\n",
    "model.add(Dense(units=19, activation='softmax'))\n",
    "# softmax : 모든 출력결과의 합이 1. 분류분석 마지막 layer(출력층)에서 activation으로\n",
    "model.summary()"
   ]
  },
  {
   "cell_type": "markdown",
   "id": "276034a5",
   "metadata": {},
   "source": [
    "# 4. 모델 학습과정 설정"
   ]
  },
  {
   "cell_type": "code",
   "execution_count": 9,
   "id": "f90b4fd6",
   "metadata": {},
   "outputs": [],
   "source": [
    "model.compile(loss=\"categorical_crossentropy\", # 분류분석에서의 손실함수(원핫인코딩有)\n",
    "             optimizer='sgd',\n",
    "             metrics=['accuracy']) # 평가지표 : accuracy "
   ]
  },
  {
   "cell_type": "markdown",
   "id": "40b901ee",
   "metadata": {},
   "source": [
    "# 5. 모델 학습시키기"
   ]
  },
  {
   "cell_type": "code",
   "execution_count": 10,
   "id": "733c0375",
   "metadata": {},
   "outputs": [
    {
     "name": "stdout",
     "output_type": "stream",
     "text": [
      "Epoch 1/300\n",
      "9/9 - 1s - loss: 2.7408 - accuracy: 0.1667 - val_loss: 2.6366 - val_accuracy: 0.2222 - 554ms/epoch - 62ms/step\n",
      "Epoch 2/300\n",
      "9/9 - 0s - loss: 2.5991 - accuracy: 0.2222 - val_loss: 2.5344 - val_accuracy: 0.2222 - 43ms/epoch - 5ms/step\n",
      "Epoch 3/300\n",
      "9/9 - 0s - loss: 2.5187 - accuracy: 0.2222 - val_loss: 2.4653 - val_accuracy: 0.2222 - 41ms/epoch - 5ms/step\n",
      "Epoch 4/300\n",
      "9/9 - 0s - loss: 2.4613 - accuracy: 0.2222 - val_loss: 2.4155 - val_accuracy: 0.2222 - 42ms/epoch - 5ms/step\n",
      "Epoch 5/300\n",
      "9/9 - 0s - loss: 2.4163 - accuracy: 0.1111 - val_loss: 2.3770 - val_accuracy: 0.2222 - 43ms/epoch - 5ms/step\n",
      "Epoch 6/300\n",
      "9/9 - 0s - loss: 2.3787 - accuracy: 0.1667 - val_loss: 2.3455 - val_accuracy: 0.2222 - 43ms/epoch - 5ms/step\n",
      "Epoch 7/300\n",
      "9/9 - 0s - loss: 2.3498 - accuracy: 0.1111 - val_loss: 2.3185 - val_accuracy: 0.2222 - 40ms/epoch - 4ms/step\n",
      "Epoch 8/300\n",
      "9/9 - 0s - loss: 2.3238 - accuracy: 0.1222 - val_loss: 2.2954 - val_accuracy: 0.1111 - 46ms/epoch - 5ms/step\n",
      "Epoch 9/300\n",
      "9/9 - 0s - loss: 2.3032 - accuracy: 0.0889 - val_loss: 2.2755 - val_accuracy: 0.1111 - 49ms/epoch - 5ms/step\n",
      "Epoch 10/300\n",
      "9/9 - 0s - loss: 2.2878 - accuracy: 0.0556 - val_loss: 2.2574 - val_accuracy: 0.1111 - 44ms/epoch - 5ms/step\n",
      "Epoch 11/300\n",
      "9/9 - 0s - loss: 2.2683 - accuracy: 0.1667 - val_loss: 2.2417 - val_accuracy: 0.1111 - 43ms/epoch - 5ms/step\n",
      "Epoch 12/300\n",
      "9/9 - 0s - loss: 2.2625 - accuracy: 0.0778 - val_loss: 2.2276 - val_accuracy: 0.2222 - 43ms/epoch - 5ms/step\n",
      "Epoch 13/300\n",
      "9/9 - 0s - loss: 2.2414 - accuracy: 0.1667 - val_loss: 2.2151 - val_accuracy: 0.1111 - 44ms/epoch - 5ms/step\n",
      "Epoch 14/300\n",
      "9/9 - 0s - loss: 2.2220 - accuracy: 0.1444 - val_loss: 2.2030 - val_accuracy: 0.1111 - 43ms/epoch - 5ms/step\n",
      "Epoch 15/300\n",
      "9/9 - 0s - loss: 2.2170 - accuracy: 0.1222 - val_loss: 2.1920 - val_accuracy: 0.1111 - 42ms/epoch - 5ms/step\n",
      "Epoch 16/300\n",
      "9/9 - 0s - loss: 2.2041 - accuracy: 0.0778 - val_loss: 2.1819 - val_accuracy: 0.2222 - 41ms/epoch - 5ms/step\n",
      "Epoch 17/300\n",
      "9/9 - 0s - loss: 2.1952 - accuracy: 0.1556 - val_loss: 2.1726 - val_accuracy: 0.2222 - 42ms/epoch - 5ms/step\n",
      "Epoch 18/300\n",
      "9/9 - 0s - loss: 2.1884 - accuracy: 0.1889 - val_loss: 2.1635 - val_accuracy: 0.2222 - 43ms/epoch - 5ms/step\n",
      "Epoch 19/300\n",
      "9/9 - 0s - loss: 2.1793 - accuracy: 0.2000 - val_loss: 2.1545 - val_accuracy: 0.2222 - 40ms/epoch - 4ms/step\n",
      "Epoch 20/300\n",
      "9/9 - 0s - loss: 2.1799 - accuracy: 0.2222 - val_loss: 2.1460 - val_accuracy: 0.2222 - 43ms/epoch - 5ms/step\n",
      "Epoch 21/300\n",
      "9/9 - 0s - loss: 2.1662 - accuracy: 0.1778 - val_loss: 2.1375 - val_accuracy: 0.2222 - 44ms/epoch - 5ms/step\n",
      "Epoch 22/300\n",
      "9/9 - 0s - loss: 2.1535 - accuracy: 0.1556 - val_loss: 2.1292 - val_accuracy: 0.2222 - 39ms/epoch - 4ms/step\n",
      "Epoch 23/300\n",
      "9/9 - 0s - loss: 2.1566 - accuracy: 0.1000 - val_loss: 2.1211 - val_accuracy: 0.2222 - 42ms/epoch - 5ms/step\n",
      "Epoch 24/300\n",
      "9/9 - 0s - loss: 2.1351 - accuracy: 0.2222 - val_loss: 2.1129 - val_accuracy: 0.3333 - 40ms/epoch - 4ms/step\n",
      "Epoch 25/300\n",
      "9/9 - 0s - loss: 2.1356 - accuracy: 0.1444 - val_loss: 2.1048 - val_accuracy: 0.3333 - 43ms/epoch - 5ms/step\n",
      "Epoch 26/300\n",
      "9/9 - 0s - loss: 2.1224 - accuracy: 0.2444 - val_loss: 2.0960 - val_accuracy: 0.3333 - 44ms/epoch - 5ms/step\n",
      "Epoch 27/300\n",
      "9/9 - 0s - loss: 2.1108 - accuracy: 0.1889 - val_loss: 2.0878 - val_accuracy: 0.2222 - 41ms/epoch - 5ms/step\n",
      "Epoch 28/300\n",
      "9/9 - 0s - loss: 2.1126 - accuracy: 0.1556 - val_loss: 2.0788 - val_accuracy: 0.4444 - 40ms/epoch - 4ms/step\n",
      "Epoch 29/300\n",
      "9/9 - 0s - loss: 2.1055 - accuracy: 0.1889 - val_loss: 2.0702 - val_accuracy: 0.3333 - 41ms/epoch - 5ms/step\n",
      "Epoch 30/300\n",
      "9/9 - 0s - loss: 2.0903 - accuracy: 0.2556 - val_loss: 2.0612 - val_accuracy: 0.2222 - 40ms/epoch - 4ms/step\n",
      "Epoch 31/300\n",
      "9/9 - 0s - loss: 2.0799 - accuracy: 0.2222 - val_loss: 2.0516 - val_accuracy: 0.4444 - 44ms/epoch - 5ms/step\n",
      "Epoch 32/300\n",
      "9/9 - 0s - loss: 2.0663 - accuracy: 0.2667 - val_loss: 2.0428 - val_accuracy: 0.3333 - 43ms/epoch - 5ms/step\n",
      "Epoch 33/300\n",
      "9/9 - 0s - loss: 2.0577 - accuracy: 0.1889 - val_loss: 2.0335 - val_accuracy: 0.2222 - 40ms/epoch - 4ms/step\n",
      "Epoch 34/300\n",
      "9/9 - 0s - loss: 2.0575 - accuracy: 0.1778 - val_loss: 2.0248 - val_accuracy: 0.3333 - 45ms/epoch - 5ms/step\n",
      "Epoch 35/300\n",
      "9/9 - 0s - loss: 2.0486 - accuracy: 0.2667 - val_loss: 2.0158 - val_accuracy: 0.4444 - 45ms/epoch - 5ms/step\n",
      "Epoch 36/300\n",
      "9/9 - 0s - loss: 2.0463 - accuracy: 0.2444 - val_loss: 2.0058 - val_accuracy: 0.3333 - 40ms/epoch - 4ms/step\n",
      "Epoch 37/300\n",
      "9/9 - 0s - loss: 2.0221 - accuracy: 0.3222 - val_loss: 1.9955 - val_accuracy: 0.3333 - 42ms/epoch - 5ms/step\n",
      "Epoch 38/300\n",
      "9/9 - 0s - loss: 2.0172 - accuracy: 0.1667 - val_loss: 1.9855 - val_accuracy: 0.3333 - 42ms/epoch - 5ms/step\n",
      "Epoch 39/300\n",
      "9/9 - 0s - loss: 2.0162 - accuracy: 0.1778 - val_loss: 1.9762 - val_accuracy: 0.4444 - 43ms/epoch - 5ms/step\n",
      "Epoch 40/300\n",
      "9/9 - 0s - loss: 1.9956 - accuracy: 0.1778 - val_loss: 1.9658 - val_accuracy: 0.4444 - 41ms/epoch - 5ms/step\n",
      "Epoch 41/300\n",
      "9/9 - 0s - loss: 1.9851 - accuracy: 0.2222 - val_loss: 1.9580 - val_accuracy: 0.4444 - 39ms/epoch - 4ms/step\n",
      "Epoch 42/300\n",
      "9/9 - 0s - loss: 1.9751 - accuracy: 0.3222 - val_loss: 1.9449 - val_accuracy: 0.4444 - 47ms/epoch - 5ms/step\n",
      "Epoch 43/300\n",
      "9/9 - 0s - loss: 1.9584 - accuracy: 0.2556 - val_loss: 1.9336 - val_accuracy: 0.3333 - 38ms/epoch - 4ms/step\n",
      "Epoch 44/300\n",
      "9/9 - 0s - loss: 1.9532 - accuracy: 0.3000 - val_loss: 1.9223 - val_accuracy: 0.2222 - 41ms/epoch - 5ms/step\n",
      "Epoch 45/300\n",
      "9/9 - 0s - loss: 1.9447 - accuracy: 0.2556 - val_loss: 1.9110 - val_accuracy: 0.3333 - 40ms/epoch - 4ms/step\n",
      "Epoch 46/300\n",
      "9/9 - 0s - loss: 1.9399 - accuracy: 0.2444 - val_loss: 1.9000 - val_accuracy: 0.5556 - 40ms/epoch - 4ms/step\n",
      "Epoch 47/300\n",
      "9/9 - 0s - loss: 1.9236 - accuracy: 0.2333 - val_loss: 1.8885 - val_accuracy: 0.4444 - 38ms/epoch - 4ms/step\n",
      "Epoch 48/300\n",
      "9/9 - 0s - loss: 1.9088 - accuracy: 0.2667 - val_loss: 1.8766 - val_accuracy: 0.3333 - 41ms/epoch - 5ms/step\n",
      "Epoch 49/300\n",
      "9/9 - 0s - loss: 1.8950 - accuracy: 0.3000 - val_loss: 1.8654 - val_accuracy: 0.3333 - 40ms/epoch - 4ms/step\n",
      "Epoch 50/300\n",
      "9/9 - 0s - loss: 1.8867 - accuracy: 0.3889 - val_loss: 1.8521 - val_accuracy: 0.2222 - 39ms/epoch - 4ms/step\n",
      "Epoch 51/300\n",
      "9/9 - 0s - loss: 1.8781 - accuracy: 0.2333 - val_loss: 1.8407 - val_accuracy: 0.4444 - 39ms/epoch - 4ms/step\n",
      "Epoch 52/300\n",
      "9/9 - 0s - loss: 1.8641 - accuracy: 0.3444 - val_loss: 1.8293 - val_accuracy: 0.3333 - 41ms/epoch - 5ms/step\n",
      "Epoch 53/300\n",
      "9/9 - 0s - loss: 1.8504 - accuracy: 0.3444 - val_loss: 1.8180 - val_accuracy: 0.4444 - 38ms/epoch - 4ms/step\n",
      "Epoch 54/300\n",
      "9/9 - 0s - loss: 1.8414 - accuracy: 0.3111 - val_loss: 1.8042 - val_accuracy: 0.4444 - 40ms/epoch - 4ms/step\n",
      "Epoch 55/300\n",
      "9/9 - 0s - loss: 1.8153 - accuracy: 0.3111 - val_loss: 1.7911 - val_accuracy: 0.4444 - 38ms/epoch - 4ms/step\n",
      "Epoch 56/300\n",
      "9/9 - 0s - loss: 1.8167 - accuracy: 0.4111 - val_loss: 1.7802 - val_accuracy: 0.3333 - 40ms/epoch - 4ms/step\n",
      "Epoch 57/300\n",
      "9/9 - 0s - loss: 1.7974 - accuracy: 0.3000 - val_loss: 1.7673 - val_accuracy: 0.3333 - 38ms/epoch - 4ms/step\n",
      "Epoch 58/300\n",
      "9/9 - 0s - loss: 1.7891 - accuracy: 0.3111 - val_loss: 1.7542 - val_accuracy: 0.4444 - 40ms/epoch - 4ms/step\n",
      "Epoch 59/300\n",
      "9/9 - 0s - loss: 1.7719 - accuracy: 0.3444 - val_loss: 1.7420 - val_accuracy: 0.3333 - 38ms/epoch - 4ms/step\n",
      "Epoch 60/300\n",
      "9/9 - 0s - loss: 1.7617 - accuracy: 0.3000 - val_loss: 1.7295 - val_accuracy: 0.3333 - 46ms/epoch - 5ms/step\n",
      "Epoch 61/300\n",
      "9/9 - 0s - loss: 1.7519 - accuracy: 0.3111 - val_loss: 1.7178 - val_accuracy: 0.5556 - 39ms/epoch - 4ms/step\n",
      "Epoch 62/300\n",
      "9/9 - 0s - loss: 1.7449 - accuracy: 0.3556 - val_loss: 1.7058 - val_accuracy: 0.5556 - 39ms/epoch - 4ms/step\n",
      "Epoch 63/300\n",
      "9/9 - 0s - loss: 1.7293 - accuracy: 0.3667 - val_loss: 1.6936 - val_accuracy: 0.4444 - 39ms/epoch - 4ms/step\n",
      "Epoch 64/300\n",
      "9/9 - 0s - loss: 1.7092 - accuracy: 0.3667 - val_loss: 1.6816 - val_accuracy: 0.4444 - 40ms/epoch - 4ms/step\n",
      "Epoch 65/300\n",
      "9/9 - 0s - loss: 1.7081 - accuracy: 0.3222 - val_loss: 1.6714 - val_accuracy: 0.3333 - 41ms/epoch - 5ms/step\n",
      "Epoch 66/300\n",
      "9/9 - 0s - loss: 1.6920 - accuracy: 0.3667 - val_loss: 1.6574 - val_accuracy: 0.4444 - 39ms/epoch - 4ms/step\n",
      "Epoch 67/300\n",
      "9/9 - 0s - loss: 1.6711 - accuracy: 0.4556 - val_loss: 1.6454 - val_accuracy: 0.5556 - 40ms/epoch - 4ms/step\n",
      "Epoch 68/300\n",
      "9/9 - 0s - loss: 1.6675 - accuracy: 0.5111 - val_loss: 1.6342 - val_accuracy: 0.3333 - 41ms/epoch - 5ms/step\n"
     ]
    },
    {
     "name": "stdout",
     "output_type": "stream",
     "text": [
      "Epoch 69/300\n",
      "9/9 - 0s - loss: 1.6561 - accuracy: 0.3333 - val_loss: 1.6226 - val_accuracy: 0.5556 - 39ms/epoch - 4ms/step\n",
      "Epoch 70/300\n",
      "9/9 - 0s - loss: 1.6499 - accuracy: 0.4444 - val_loss: 1.6121 - val_accuracy: 0.4444 - 39ms/epoch - 4ms/step\n",
      "Epoch 71/300\n",
      "9/9 - 0s - loss: 1.6424 - accuracy: 0.4111 - val_loss: 1.6021 - val_accuracy: 0.4444 - 39ms/epoch - 4ms/step\n",
      "Epoch 72/300\n",
      "9/9 - 0s - loss: 1.6225 - accuracy: 0.3111 - val_loss: 1.5885 - val_accuracy: 0.3333 - 38ms/epoch - 4ms/step\n",
      "Epoch 73/300\n",
      "9/9 - 0s - loss: 1.6126 - accuracy: 0.4111 - val_loss: 1.5790 - val_accuracy: 0.4444 - 39ms/epoch - 4ms/step\n",
      "Epoch 74/300\n",
      "9/9 - 0s - loss: 1.5944 - accuracy: 0.4889 - val_loss: 1.5673 - val_accuracy: 0.3333 - 40ms/epoch - 4ms/step\n",
      "Epoch 75/300\n",
      "9/9 - 0s - loss: 1.5849 - accuracy: 0.4222 - val_loss: 1.5552 - val_accuracy: 0.5556 - 40ms/epoch - 4ms/step\n",
      "Epoch 76/300\n",
      "9/9 - 0s - loss: 1.5698 - accuracy: 0.4333 - val_loss: 1.5468 - val_accuracy: 0.6667 - 37ms/epoch - 4ms/step\n",
      "Epoch 77/300\n",
      "9/9 - 0s - loss: 1.5639 - accuracy: 0.3889 - val_loss: 1.5352 - val_accuracy: 0.5556 - 40ms/epoch - 4ms/step\n",
      "Epoch 78/300\n",
      "9/9 - 0s - loss: 1.5627 - accuracy: 0.5778 - val_loss: 1.5236 - val_accuracy: 0.6667 - 40ms/epoch - 4ms/step\n",
      "Epoch 79/300\n",
      "9/9 - 0s - loss: 1.5388 - accuracy: 0.5889 - val_loss: 1.5131 - val_accuracy: 0.5556 - 40ms/epoch - 4ms/step\n",
      "Epoch 80/300\n",
      "9/9 - 0s - loss: 1.5386 - accuracy: 0.4667 - val_loss: 1.5037 - val_accuracy: 0.5556 - 39ms/epoch - 4ms/step\n",
      "Epoch 81/300\n",
      "9/9 - 0s - loss: 1.5212 - accuracy: 0.5444 - val_loss: 1.4932 - val_accuracy: 0.4444 - 41ms/epoch - 5ms/step\n",
      "Epoch 82/300\n",
      "9/9 - 0s - loss: 1.5218 - accuracy: 0.4444 - val_loss: 1.4832 - val_accuracy: 0.5556 - 39ms/epoch - 4ms/step\n",
      "Epoch 83/300\n",
      "9/9 - 0s - loss: 1.5098 - accuracy: 0.4222 - val_loss: 1.4729 - val_accuracy: 0.5556 - 40ms/epoch - 4ms/step\n",
      "Epoch 84/300\n",
      "9/9 - 0s - loss: 1.4959 - accuracy: 0.5333 - val_loss: 1.4637 - val_accuracy: 0.5556 - 39ms/epoch - 4ms/step\n",
      "Epoch 85/300\n",
      "9/9 - 0s - loss: 1.4837 - accuracy: 0.4667 - val_loss: 1.4537 - val_accuracy: 0.6667 - 39ms/epoch - 4ms/step\n",
      "Epoch 86/300\n",
      "9/9 - 0s - loss: 1.4769 - accuracy: 0.5667 - val_loss: 1.4430 - val_accuracy: 0.6667 - 38ms/epoch - 4ms/step\n",
      "Epoch 87/300\n",
      "9/9 - 0s - loss: 1.4654 - accuracy: 0.5444 - val_loss: 1.4342 - val_accuracy: 0.6667 - 40ms/epoch - 4ms/step\n",
      "Epoch 88/300\n",
      "9/9 - 0s - loss: 1.4552 - accuracy: 0.5333 - val_loss: 1.4246 - val_accuracy: 0.6667 - 38ms/epoch - 4ms/step\n",
      "Epoch 89/300\n",
      "9/9 - 0s - loss: 1.4451 - accuracy: 0.5778 - val_loss: 1.4150 - val_accuracy: 0.6667 - 40ms/epoch - 4ms/step\n",
      "Epoch 90/300\n",
      "9/9 - 0s - loss: 1.4488 - accuracy: 0.4556 - val_loss: 1.4070 - val_accuracy: 0.6667 - 37ms/epoch - 4ms/step\n",
      "Epoch 91/300\n",
      "9/9 - 0s - loss: 1.4262 - accuracy: 0.5889 - val_loss: 1.3974 - val_accuracy: 0.6667 - 39ms/epoch - 4ms/step\n",
      "Epoch 92/300\n",
      "9/9 - 0s - loss: 1.4348 - accuracy: 0.6111 - val_loss: 1.3890 - val_accuracy: 0.5556 - 48ms/epoch - 5ms/step\n",
      "Epoch 93/300\n",
      "9/9 - 0s - loss: 1.4041 - accuracy: 0.5444 - val_loss: 1.3808 - val_accuracy: 0.8889 - 40ms/epoch - 4ms/step\n",
      "Epoch 94/300\n",
      "9/9 - 0s - loss: 1.3979 - accuracy: 0.7222 - val_loss: 1.3700 - val_accuracy: 0.6667 - 40ms/epoch - 4ms/step\n",
      "Epoch 95/300\n",
      "9/9 - 0s - loss: 1.3875 - accuracy: 0.6556 - val_loss: 1.3612 - val_accuracy: 0.6667 - 37ms/epoch - 4ms/step\n",
      "Epoch 96/300\n",
      "9/9 - 0s - loss: 1.3865 - accuracy: 0.6667 - val_loss: 1.3529 - val_accuracy: 0.6667 - 39ms/epoch - 4ms/step\n",
      "Epoch 97/300\n",
      "9/9 - 0s - loss: 1.3709 - accuracy: 0.5889 - val_loss: 1.3441 - val_accuracy: 0.7778 - 39ms/epoch - 4ms/step\n",
      "Epoch 98/300\n",
      "9/9 - 0s - loss: 1.3593 - accuracy: 0.6556 - val_loss: 1.3364 - val_accuracy: 0.7778 - 39ms/epoch - 4ms/step\n",
      "Epoch 99/300\n",
      "9/9 - 0s - loss: 1.3550 - accuracy: 0.7444 - val_loss: 1.3281 - val_accuracy: 0.7778 - 41ms/epoch - 5ms/step\n",
      "Epoch 100/300\n",
      "9/9 - 0s - loss: 1.3495 - accuracy: 0.7333 - val_loss: 1.3189 - val_accuracy: 0.7778 - 41ms/epoch - 5ms/step\n",
      "Epoch 101/300\n",
      "9/9 - 0s - loss: 1.3410 - accuracy: 0.6667 - val_loss: 1.3113 - val_accuracy: 0.7778 - 41ms/epoch - 5ms/step\n",
      "Epoch 102/300\n",
      "9/9 - 0s - loss: 1.3299 - accuracy: 0.6556 - val_loss: 1.3020 - val_accuracy: 0.8889 - 39ms/epoch - 4ms/step\n",
      "Epoch 103/300\n",
      "9/9 - 0s - loss: 1.3311 - accuracy: 0.6333 - val_loss: 1.2945 - val_accuracy: 0.7778 - 41ms/epoch - 5ms/step\n",
      "Epoch 104/300\n",
      "9/9 - 0s - loss: 1.3161 - accuracy: 0.6667 - val_loss: 1.2870 - val_accuracy: 0.6667 - 40ms/epoch - 4ms/step\n",
      "Epoch 105/300\n",
      "9/9 - 0s - loss: 1.3104 - accuracy: 0.6667 - val_loss: 1.2801 - val_accuracy: 0.6667 - 37ms/epoch - 4ms/step\n",
      "Epoch 106/300\n",
      "9/9 - 0s - loss: 1.2962 - accuracy: 0.6444 - val_loss: 1.2723 - val_accuracy: 0.6667 - 39ms/epoch - 4ms/step\n",
      "Epoch 107/300\n",
      "9/9 - 0s - loss: 1.2929 - accuracy: 0.6889 - val_loss: 1.2657 - val_accuracy: 0.8889 - 38ms/epoch - 4ms/step\n",
      "Epoch 108/300\n",
      "9/9 - 0s - loss: 1.2847 - accuracy: 0.7444 - val_loss: 1.2570 - val_accuracy: 0.7778 - 41ms/epoch - 5ms/step\n",
      "Epoch 109/300\n",
      "9/9 - 0s - loss: 1.2713 - accuracy: 0.7556 - val_loss: 1.2473 - val_accuracy: 0.7778 - 38ms/epoch - 4ms/step\n",
      "Epoch 110/300\n",
      "9/9 - 0s - loss: 1.2767 - accuracy: 0.7222 - val_loss: 1.2396 - val_accuracy: 0.8889 - 39ms/epoch - 4ms/step\n",
      "Epoch 111/300\n",
      "9/9 - 0s - loss: 1.2643 - accuracy: 0.7333 - val_loss: 1.2323 - val_accuracy: 0.8889 - 41ms/epoch - 5ms/step\n",
      "Epoch 112/300\n",
      "9/9 - 0s - loss: 1.2510 - accuracy: 0.7333 - val_loss: 1.2252 - val_accuracy: 0.7778 - 39ms/epoch - 4ms/step\n",
      "Epoch 113/300\n",
      "9/9 - 0s - loss: 1.2411 - accuracy: 0.7444 - val_loss: 1.2249 - val_accuracy: 0.7778 - 39ms/epoch - 4ms/step\n",
      "Epoch 114/300\n",
      "9/9 - 0s - loss: 1.2467 - accuracy: 0.7222 - val_loss: 1.2102 - val_accuracy: 0.7778 - 47ms/epoch - 5ms/step\n",
      "Epoch 115/300\n",
      "9/9 - 0s - loss: 1.2442 - accuracy: 0.6889 - val_loss: 1.2088 - val_accuracy: 0.7778 - 38ms/epoch - 4ms/step\n",
      "Epoch 116/300\n",
      "9/9 - 0s - loss: 1.2153 - accuracy: 0.7222 - val_loss: 1.1998 - val_accuracy: 1.0000 - 40ms/epoch - 4ms/step\n",
      "Epoch 117/300\n",
      "9/9 - 0s - loss: 1.2210 - accuracy: 0.7222 - val_loss: 1.1912 - val_accuracy: 1.0000 - 40ms/epoch - 4ms/step\n",
      "Epoch 118/300\n",
      "9/9 - 0s - loss: 1.2130 - accuracy: 0.7333 - val_loss: 1.1826 - val_accuracy: 0.8889 - 37ms/epoch - 4ms/step\n",
      "Epoch 119/300\n",
      "9/9 - 0s - loss: 1.2031 - accuracy: 0.7667 - val_loss: 1.1763 - val_accuracy: 0.7778 - 40ms/epoch - 4ms/step\n",
      "Epoch 120/300\n",
      "9/9 - 0s - loss: 1.2001 - accuracy: 0.6778 - val_loss: 1.1689 - val_accuracy: 0.7778 - 40ms/epoch - 4ms/step\n",
      "Epoch 121/300\n",
      "9/9 - 0s - loss: 1.1910 - accuracy: 0.7778 - val_loss: 1.1610 - val_accuracy: 0.8889 - 40ms/epoch - 4ms/step\n",
      "Epoch 122/300\n",
      "9/9 - 0s - loss: 1.1849 - accuracy: 0.7556 - val_loss: 1.1544 - val_accuracy: 0.8889 - 40ms/epoch - 4ms/step\n",
      "Epoch 123/300\n",
      "9/9 - 0s - loss: 1.1820 - accuracy: 0.7333 - val_loss: 1.1505 - val_accuracy: 0.7778 - 40ms/epoch - 4ms/step\n",
      "Epoch 124/300\n",
      "9/9 - 0s - loss: 1.1682 - accuracy: 0.7556 - val_loss: 1.1438 - val_accuracy: 0.7778 - 40ms/epoch - 4ms/step\n",
      "Epoch 125/300\n",
      "9/9 - 0s - loss: 1.1597 - accuracy: 0.6889 - val_loss: 1.1346 - val_accuracy: 0.8889 - 40ms/epoch - 4ms/step\n",
      "Epoch 126/300\n",
      "9/9 - 0s - loss: 1.1499 - accuracy: 0.7444 - val_loss: 1.1284 - val_accuracy: 0.8889 - 40ms/epoch - 4ms/step\n",
      "Epoch 127/300\n",
      "9/9 - 0s - loss: 1.1565 - accuracy: 0.7889 - val_loss: 1.1232 - val_accuracy: 0.7778 - 39ms/epoch - 4ms/step\n",
      "Epoch 128/300\n",
      "9/9 - 0s - loss: 1.1398 - accuracy: 0.7556 - val_loss: 1.1161 - val_accuracy: 0.7778 - 42ms/epoch - 5ms/step\n",
      "Epoch 129/300\n",
      "9/9 - 0s - loss: 1.1440 - accuracy: 0.7778 - val_loss: 1.1109 - val_accuracy: 0.7778 - 39ms/epoch - 4ms/step\n",
      "Epoch 130/300\n",
      "9/9 - 0s - loss: 1.1251 - accuracy: 0.7778 - val_loss: 1.1035 - val_accuracy: 0.8889 - 43ms/epoch - 5ms/step\n",
      "Epoch 131/300\n",
      "9/9 - 0s - loss: 1.1191 - accuracy: 0.7778 - val_loss: 1.0964 - val_accuracy: 0.8889 - 38ms/epoch - 4ms/step\n",
      "Epoch 132/300\n",
      "9/9 - 0s - loss: 1.1168 - accuracy: 0.7667 - val_loss: 1.0901 - val_accuracy: 0.8889 - 40ms/epoch - 4ms/step\n",
      "Epoch 133/300\n",
      "9/9 - 0s - loss: 1.1241 - accuracy: 0.7778 - val_loss: 1.0871 - val_accuracy: 0.7778 - 37ms/epoch - 4ms/step\n",
      "Epoch 134/300\n",
      "9/9 - 0s - loss: 1.1039 - accuracy: 0.8000 - val_loss: 1.0810 - val_accuracy: 0.7778 - 39ms/epoch - 4ms/step\n",
      "Epoch 135/300\n",
      "9/9 - 0s - loss: 1.0918 - accuracy: 0.8111 - val_loss: 1.0741 - val_accuracy: 0.8889 - 42ms/epoch - 5ms/step\n"
     ]
    },
    {
     "name": "stdout",
     "output_type": "stream",
     "text": [
      "Epoch 136/300\n",
      "9/9 - 0s - loss: 1.0881 - accuracy: 0.7444 - val_loss: 1.0681 - val_accuracy: 0.7778 - 39ms/epoch - 4ms/step\n",
      "Epoch 137/300\n",
      "9/9 - 0s - loss: 1.0901 - accuracy: 0.8111 - val_loss: 1.0602 - val_accuracy: 0.8889 - 38ms/epoch - 4ms/step\n",
      "Epoch 138/300\n",
      "9/9 - 0s - loss: 1.0841 - accuracy: 0.8000 - val_loss: 1.0547 - val_accuracy: 0.8889 - 40ms/epoch - 4ms/step\n",
      "Epoch 139/300\n",
      "9/9 - 0s - loss: 1.0807 - accuracy: 0.7889 - val_loss: 1.0497 - val_accuracy: 1.0000 - 40ms/epoch - 4ms/step\n",
      "Epoch 140/300\n",
      "9/9 - 0s - loss: 1.0728 - accuracy: 0.8222 - val_loss: 1.0422 - val_accuracy: 0.7778 - 41ms/epoch - 5ms/step\n",
      "Epoch 141/300\n",
      "9/9 - 0s - loss: 1.0715 - accuracy: 0.7556 - val_loss: 1.0403 - val_accuracy: 1.0000 - 38ms/epoch - 4ms/step\n",
      "Epoch 142/300\n",
      "9/9 - 0s - loss: 1.0723 - accuracy: 0.8667 - val_loss: 1.0384 - val_accuracy: 0.8889 - 40ms/epoch - 4ms/step\n",
      "Epoch 143/300\n",
      "9/9 - 0s - loss: 1.0661 - accuracy: 0.8333 - val_loss: 1.0290 - val_accuracy: 0.8889 - 39ms/epoch - 4ms/step\n",
      "Epoch 144/300\n",
      "9/9 - 0s - loss: 1.0458 - accuracy: 0.7889 - val_loss: 1.0212 - val_accuracy: 0.8889 - 41ms/epoch - 5ms/step\n",
      "Epoch 145/300\n",
      "9/9 - 0s - loss: 1.0358 - accuracy: 0.8556 - val_loss: 1.0178 - val_accuracy: 0.7778 - 39ms/epoch - 4ms/step\n",
      "Epoch 146/300\n",
      "9/9 - 0s - loss: 1.0352 - accuracy: 0.8111 - val_loss: 1.0093 - val_accuracy: 0.7778 - 39ms/epoch - 4ms/step\n",
      "Epoch 147/300\n",
      "9/9 - 0s - loss: 1.0343 - accuracy: 0.8111 - val_loss: 1.0050 - val_accuracy: 1.0000 - 38ms/epoch - 4ms/step\n",
      "Epoch 148/300\n",
      "9/9 - 0s - loss: 1.0288 - accuracy: 0.8333 - val_loss: 1.0031 - val_accuracy: 0.7778 - 40ms/epoch - 4ms/step\n",
      "Epoch 149/300\n",
      "9/9 - 0s - loss: 1.0300 - accuracy: 0.8000 - val_loss: 0.9938 - val_accuracy: 0.8889 - 40ms/epoch - 4ms/step\n",
      "Epoch 150/300\n",
      "9/9 - 0s - loss: 1.0158 - accuracy: 0.7889 - val_loss: 0.9901 - val_accuracy: 0.7778 - 40ms/epoch - 4ms/step\n",
      "Epoch 151/300\n",
      "9/9 - 0s - loss: 1.0041 - accuracy: 0.8111 - val_loss: 0.9828 - val_accuracy: 0.8889 - 42ms/epoch - 5ms/step\n",
      "Epoch 152/300\n",
      "9/9 - 0s - loss: 1.0114 - accuracy: 0.7889 - val_loss: 0.9791 - val_accuracy: 0.7778 - 41ms/epoch - 5ms/step\n",
      "Epoch 153/300\n",
      "9/9 - 0s - loss: 1.0009 - accuracy: 0.7667 - val_loss: 0.9726 - val_accuracy: 0.8889 - 40ms/epoch - 4ms/step\n",
      "Epoch 154/300\n",
      "9/9 - 0s - loss: 0.9941 - accuracy: 0.8333 - val_loss: 0.9721 - val_accuracy: 0.7778 - 40ms/epoch - 4ms/step\n",
      "Epoch 155/300\n",
      "9/9 - 0s - loss: 0.9894 - accuracy: 0.8111 - val_loss: 0.9647 - val_accuracy: 0.8889 - 41ms/epoch - 5ms/step\n",
      "Epoch 156/300\n",
      "9/9 - 0s - loss: 0.9882 - accuracy: 0.7556 - val_loss: 0.9567 - val_accuracy: 1.0000 - 40ms/epoch - 4ms/step\n",
      "Epoch 157/300\n",
      "9/9 - 0s - loss: 0.9793 - accuracy: 0.7444 - val_loss: 0.9596 - val_accuracy: 0.7778 - 40ms/epoch - 4ms/step\n",
      "Epoch 158/300\n",
      "9/9 - 0s - loss: 0.9810 - accuracy: 0.7667 - val_loss: 0.9508 - val_accuracy: 0.7778 - 39ms/epoch - 4ms/step\n",
      "Epoch 159/300\n",
      "9/9 - 0s - loss: 0.9685 - accuracy: 0.7778 - val_loss: 0.9518 - val_accuracy: 0.8889 - 41ms/epoch - 5ms/step\n",
      "Epoch 160/300\n",
      "9/9 - 0s - loss: 0.9620 - accuracy: 0.8444 - val_loss: 0.9391 - val_accuracy: 0.8889 - 40ms/epoch - 4ms/step\n",
      "Epoch 161/300\n",
      "9/9 - 0s - loss: 0.9730 - accuracy: 0.7667 - val_loss: 0.9328 - val_accuracy: 0.8889 - 39ms/epoch - 4ms/step\n",
      "Epoch 162/300\n",
      "9/9 - 0s - loss: 0.9497 - accuracy: 0.8556 - val_loss: 0.9316 - val_accuracy: 0.8889 - 39ms/epoch - 4ms/step\n",
      "Epoch 163/300\n",
      "9/9 - 0s - loss: 0.9534 - accuracy: 0.8889 - val_loss: 0.9224 - val_accuracy: 0.8889 - 39ms/epoch - 4ms/step\n",
      "Epoch 164/300\n",
      "9/9 - 0s - loss: 0.9455 - accuracy: 0.8222 - val_loss: 0.9238 - val_accuracy: 0.7778 - 41ms/epoch - 5ms/step\n",
      "Epoch 165/300\n",
      "9/9 - 0s - loss: 0.9474 - accuracy: 0.7556 - val_loss: 0.9175 - val_accuracy: 1.0000 - 39ms/epoch - 4ms/step\n",
      "Epoch 166/300\n",
      "9/9 - 0s - loss: 0.9342 - accuracy: 0.8667 - val_loss: 0.9081 - val_accuracy: 0.7778 - 40ms/epoch - 4ms/step\n",
      "Epoch 167/300\n",
      "9/9 - 0s - loss: 0.9482 - accuracy: 0.7778 - val_loss: 0.9049 - val_accuracy: 0.8889 - 46ms/epoch - 5ms/step\n",
      "Epoch 168/300\n",
      "9/9 - 0s - loss: 0.9337 - accuracy: 0.8111 - val_loss: 0.9033 - val_accuracy: 0.7778 - 38ms/epoch - 4ms/step\n",
      "Epoch 169/300\n",
      "9/9 - 0s - loss: 0.9241 - accuracy: 0.8111 - val_loss: 0.8987 - val_accuracy: 0.8889 - 40ms/epoch - 4ms/step\n",
      "Epoch 170/300\n",
      "9/9 - 0s - loss: 0.9200 - accuracy: 0.7778 - val_loss: 0.8946 - val_accuracy: 0.7778 - 40ms/epoch - 4ms/step\n",
      "Epoch 171/300\n",
      "9/9 - 0s - loss: 0.9222 - accuracy: 0.8556 - val_loss: 0.8838 - val_accuracy: 1.0000 - 40ms/epoch - 4ms/step\n",
      "Epoch 172/300\n",
      "9/9 - 0s - loss: 0.9033 - accuracy: 0.8111 - val_loss: 0.8852 - val_accuracy: 0.8889 - 41ms/epoch - 5ms/step\n",
      "Epoch 173/300\n",
      "9/9 - 0s - loss: 0.9108 - accuracy: 0.8222 - val_loss: 0.8764 - val_accuracy: 0.8889 - 38ms/epoch - 4ms/step\n",
      "Epoch 174/300\n",
      "9/9 - 0s - loss: 0.9005 - accuracy: 0.8778 - val_loss: 0.8723 - val_accuracy: 1.0000 - 42ms/epoch - 5ms/step\n",
      "Epoch 175/300\n",
      "9/9 - 0s - loss: 0.9018 - accuracy: 0.8556 - val_loss: 0.8735 - val_accuracy: 0.8889 - 39ms/epoch - 4ms/step\n",
      "Epoch 176/300\n",
      "9/9 - 0s - loss: 0.8942 - accuracy: 0.8111 - val_loss: 0.8600 - val_accuracy: 0.8889 - 41ms/epoch - 5ms/step\n",
      "Epoch 177/300\n",
      "9/9 - 0s - loss: 0.8787 - accuracy: 0.8222 - val_loss: 0.8623 - val_accuracy: 0.7778 - 38ms/epoch - 4ms/step\n",
      "Epoch 178/300\n",
      "9/9 - 0s - loss: 0.8786 - accuracy: 0.8778 - val_loss: 0.8528 - val_accuracy: 0.8889 - 41ms/epoch - 5ms/step\n",
      "Epoch 179/300\n",
      "9/9 - 0s - loss: 0.8943 - accuracy: 0.8000 - val_loss: 0.8521 - val_accuracy: 0.7778 - 40ms/epoch - 4ms/step\n",
      "Epoch 180/300\n",
      "9/9 - 0s - loss: 0.8755 - accuracy: 0.8333 - val_loss: 0.8432 - val_accuracy: 0.8889 - 41ms/epoch - 5ms/step\n",
      "Epoch 181/300\n",
      "9/9 - 0s - loss: 0.8692 - accuracy: 0.8667 - val_loss: 0.8374 - val_accuracy: 1.0000 - 39ms/epoch - 4ms/step\n",
      "Epoch 182/300\n",
      "9/9 - 0s - loss: 0.8594 - accuracy: 0.8778 - val_loss: 0.8375 - val_accuracy: 1.0000 - 40ms/epoch - 4ms/step\n",
      "Epoch 183/300\n",
      "9/9 - 0s - loss: 0.8461 - accuracy: 0.9556 - val_loss: 0.8330 - val_accuracy: 0.8889 - 41ms/epoch - 5ms/step\n",
      "Epoch 184/300\n",
      "9/9 - 0s - loss: 0.8553 - accuracy: 0.8556 - val_loss: 0.8310 - val_accuracy: 0.7778 - 39ms/epoch - 4ms/step\n",
      "Epoch 185/300\n",
      "9/9 - 0s - loss: 0.8567 - accuracy: 0.8889 - val_loss: 0.8202 - val_accuracy: 1.0000 - 40ms/epoch - 4ms/step\n",
      "Epoch 186/300\n",
      "9/9 - 0s - loss: 0.8420 - accuracy: 0.9222 - val_loss: 0.8178 - val_accuracy: 1.0000 - 40ms/epoch - 4ms/step\n",
      "Epoch 187/300\n",
      "9/9 - 0s - loss: 0.8424 - accuracy: 0.8667 - val_loss: 0.8135 - val_accuracy: 1.0000 - 41ms/epoch - 5ms/step\n",
      "Epoch 188/300\n",
      "9/9 - 0s - loss: 0.8372 - accuracy: 0.8667 - val_loss: 0.8095 - val_accuracy: 0.8889 - 45ms/epoch - 5ms/step\n",
      "Epoch 189/300\n",
      "9/9 - 0s - loss: 0.8311 - accuracy: 0.8778 - val_loss: 0.8144 - val_accuracy: 0.8889 - 37ms/epoch - 4ms/step\n",
      "Epoch 190/300\n",
      "9/9 - 0s - loss: 0.8405 - accuracy: 0.8444 - val_loss: 0.7995 - val_accuracy: 0.8889 - 41ms/epoch - 5ms/step\n",
      "Epoch 191/300\n",
      "9/9 - 0s - loss: 0.8235 - accuracy: 0.8556 - val_loss: 0.7984 - val_accuracy: 0.8889 - 39ms/epoch - 4ms/step\n",
      "Epoch 192/300\n",
      "9/9 - 0s - loss: 0.8146 - accuracy: 0.8333 - val_loss: 0.8001 - val_accuracy: 0.8889 - 41ms/epoch - 5ms/step\n",
      "Epoch 193/300\n",
      "9/9 - 0s - loss: 0.8121 - accuracy: 0.9222 - val_loss: 0.7908 - val_accuracy: 1.0000 - 40ms/epoch - 4ms/step\n",
      "Epoch 194/300\n",
      "9/9 - 0s - loss: 0.8110 - accuracy: 0.8778 - val_loss: 0.7979 - val_accuracy: 0.8889 - 41ms/epoch - 5ms/step\n",
      "Epoch 195/300\n",
      "9/9 - 0s - loss: 0.8293 - accuracy: 0.7444 - val_loss: 0.7798 - val_accuracy: 1.0000 - 41ms/epoch - 5ms/step\n",
      "Epoch 196/300\n",
      "9/9 - 0s - loss: 0.8042 - accuracy: 0.9000 - val_loss: 0.7760 - val_accuracy: 1.0000 - 38ms/epoch - 4ms/step\n",
      "Epoch 197/300\n",
      "9/9 - 0s - loss: 0.7978 - accuracy: 0.8889 - val_loss: 0.7721 - val_accuracy: 1.0000 - 41ms/epoch - 5ms/step\n",
      "Epoch 198/300\n",
      "9/9 - 0s - loss: 0.7974 - accuracy: 0.9222 - val_loss: 0.7708 - val_accuracy: 0.8889 - 40ms/epoch - 4ms/step\n",
      "Epoch 199/300\n",
      "9/9 - 0s - loss: 0.8033 - accuracy: 0.9111 - val_loss: 0.7631 - val_accuracy: 1.0000 - 40ms/epoch - 4ms/step\n",
      "Epoch 200/300\n",
      "9/9 - 0s - loss: 0.7967 - accuracy: 0.8556 - val_loss: 0.7620 - val_accuracy: 0.8889 - 41ms/epoch - 5ms/step\n",
      "Epoch 201/300\n",
      "9/9 - 0s - loss: 0.7776 - accuracy: 0.9222 - val_loss: 0.7548 - val_accuracy: 0.8889 - 40ms/epoch - 4ms/step\n",
      "Epoch 202/300\n",
      "9/9 - 0s - loss: 0.7814 - accuracy: 0.9111 - val_loss: 0.7517 - val_accuracy: 0.8889 - 41ms/epoch - 5ms/step\n"
     ]
    },
    {
     "name": "stdout",
     "output_type": "stream",
     "text": [
      "Epoch 203/300\n",
      "9/9 - 0s - loss: 0.7855 - accuracy: 0.8889 - val_loss: 0.7484 - val_accuracy: 0.8889 - 39ms/epoch - 4ms/step\n",
      "Epoch 204/300\n",
      "9/9 - 0s - loss: 0.7724 - accuracy: 0.9111 - val_loss: 0.7417 - val_accuracy: 1.0000 - 40ms/epoch - 4ms/step\n",
      "Epoch 205/300\n",
      "9/9 - 0s - loss: 0.7873 - accuracy: 0.8444 - val_loss: 0.7389 - val_accuracy: 1.0000 - 41ms/epoch - 5ms/step\n",
      "Epoch 206/300\n",
      "9/9 - 0s - loss: 0.7570 - accuracy: 0.9222 - val_loss: 0.7494 - val_accuracy: 1.0000 - 41ms/epoch - 5ms/step\n",
      "Epoch 207/300\n",
      "9/9 - 0s - loss: 0.7677 - accuracy: 0.9333 - val_loss: 0.7341 - val_accuracy: 0.8889 - 48ms/epoch - 5ms/step\n",
      "Epoch 208/300\n",
      "9/9 - 0s - loss: 0.7622 - accuracy: 0.8111 - val_loss: 0.7260 - val_accuracy: 1.0000 - 38ms/epoch - 4ms/step\n",
      "Epoch 209/300\n",
      "9/9 - 0s - loss: 0.7600 - accuracy: 0.8556 - val_loss: 0.7339 - val_accuracy: 0.8889 - 41ms/epoch - 5ms/step\n",
      "Epoch 210/300\n",
      "9/9 - 0s - loss: 0.7487 - accuracy: 0.9000 - val_loss: 0.7261 - val_accuracy: 0.8889 - 40ms/epoch - 4ms/step\n",
      "Epoch 211/300\n",
      "9/9 - 0s - loss: 0.7426 - accuracy: 0.9111 - val_loss: 0.7165 - val_accuracy: 1.0000 - 39ms/epoch - 4ms/step\n",
      "Epoch 212/300\n",
      "9/9 - 0s - loss: 0.7529 - accuracy: 0.9333 - val_loss: 0.7115 - val_accuracy: 0.8889 - 40ms/epoch - 4ms/step\n",
      "Epoch 213/300\n",
      "9/9 - 0s - loss: 0.7274 - accuracy: 0.9000 - val_loss: 0.7151 - val_accuracy: 0.7778 - 39ms/epoch - 4ms/step\n",
      "Epoch 214/300\n",
      "9/9 - 0s - loss: 0.7384 - accuracy: 0.8333 - val_loss: 0.7079 - val_accuracy: 0.8889 - 40ms/epoch - 4ms/step\n",
      "Epoch 215/300\n",
      "9/9 - 0s - loss: 0.7368 - accuracy: 0.9111 - val_loss: 0.6999 - val_accuracy: 1.0000 - 38ms/epoch - 4ms/step\n",
      "Epoch 216/300\n",
      "9/9 - 0s - loss: 0.7213 - accuracy: 0.8667 - val_loss: 0.6981 - val_accuracy: 1.0000 - 40ms/epoch - 4ms/step\n",
      "Epoch 217/300\n",
      "9/9 - 0s - loss: 0.7370 - accuracy: 0.8778 - val_loss: 0.6962 - val_accuracy: 0.8889 - 38ms/epoch - 4ms/step\n",
      "Epoch 218/300\n",
      "9/9 - 0s - loss: 0.7253 - accuracy: 0.8667 - val_loss: 0.6925 - val_accuracy: 0.8889 - 43ms/epoch - 5ms/step\n",
      "Epoch 219/300\n",
      "9/9 - 0s - loss: 0.7080 - accuracy: 0.9111 - val_loss: 0.6901 - val_accuracy: 1.0000 - 45ms/epoch - 5ms/step\n",
      "Epoch 220/300\n",
      "9/9 - 0s - loss: 0.7052 - accuracy: 0.9333 - val_loss: 0.6830 - val_accuracy: 0.8889 - 46ms/epoch - 5ms/step\n",
      "Epoch 221/300\n",
      "9/9 - 0s - loss: 0.7027 - accuracy: 0.9222 - val_loss: 0.6818 - val_accuracy: 1.0000 - 44ms/epoch - 5ms/step\n",
      "Epoch 222/300\n",
      "9/9 - 0s - loss: 0.7073 - accuracy: 0.9444 - val_loss: 0.6784 - val_accuracy: 1.0000 - 43ms/epoch - 5ms/step\n",
      "Epoch 223/300\n",
      "9/9 - 0s - loss: 0.7143 - accuracy: 0.9111 - val_loss: 0.6742 - val_accuracy: 1.0000 - 40ms/epoch - 4ms/step\n",
      "Epoch 224/300\n",
      "9/9 - 0s - loss: 0.6976 - accuracy: 0.9000 - val_loss: 0.6683 - val_accuracy: 0.8889 - 37ms/epoch - 4ms/step\n",
      "Epoch 225/300\n",
      "9/9 - 0s - loss: 0.7045 - accuracy: 0.9111 - val_loss: 0.6711 - val_accuracy: 1.0000 - 39ms/epoch - 4ms/step\n",
      "Epoch 226/300\n",
      "9/9 - 0s - loss: 0.6970 - accuracy: 0.9444 - val_loss: 0.6639 - val_accuracy: 0.8889 - 41ms/epoch - 5ms/step\n",
      "Epoch 227/300\n",
      "9/9 - 0s - loss: 0.6782 - accuracy: 0.9111 - val_loss: 0.6624 - val_accuracy: 0.8889 - 42ms/epoch - 5ms/step\n",
      "Epoch 228/300\n",
      "9/9 - 0s - loss: 0.6847 - accuracy: 0.9000 - val_loss: 0.6712 - val_accuracy: 0.8889 - 47ms/epoch - 5ms/step\n",
      "Epoch 229/300\n",
      "9/9 - 0s - loss: 0.6856 - accuracy: 0.8889 - val_loss: 0.6635 - val_accuracy: 0.8889 - 50ms/epoch - 6ms/step\n",
      "Epoch 230/300\n",
      "9/9 - 0s - loss: 0.6740 - accuracy: 0.9556 - val_loss: 0.6554 - val_accuracy: 0.8889 - 47ms/epoch - 5ms/step\n",
      "Epoch 231/300\n",
      "9/9 - 0s - loss: 0.6906 - accuracy: 0.9000 - val_loss: 0.6470 - val_accuracy: 0.8889 - 48ms/epoch - 5ms/step\n",
      "Epoch 232/300\n",
      "9/9 - 0s - loss: 0.6675 - accuracy: 0.9556 - val_loss: 0.6406 - val_accuracy: 0.8889 - 44ms/epoch - 5ms/step\n",
      "Epoch 233/300\n",
      "9/9 - 0s - loss: 0.6784 - accuracy: 0.8444 - val_loss: 0.6440 - val_accuracy: 0.8889 - 40ms/epoch - 4ms/step\n",
      "Epoch 234/300\n",
      "9/9 - 0s - loss: 0.6653 - accuracy: 0.9000 - val_loss: 0.6392 - val_accuracy: 1.0000 - 39ms/epoch - 4ms/step\n",
      "Epoch 235/300\n",
      "9/9 - 0s - loss: 0.6746 - accuracy: 0.9333 - val_loss: 0.6890 - val_accuracy: 0.8889 - 39ms/epoch - 4ms/step\n",
      "Epoch 236/300\n",
      "9/9 - 0s - loss: 0.6733 - accuracy: 0.8556 - val_loss: 0.6459 - val_accuracy: 0.7778 - 39ms/epoch - 4ms/step\n",
      "Epoch 237/300\n",
      "9/9 - 0s - loss: 0.6667 - accuracy: 0.8889 - val_loss: 0.6325 - val_accuracy: 1.0000 - 40ms/epoch - 4ms/step\n",
      "Epoch 238/300\n",
      "9/9 - 0s - loss: 0.6641 - accuracy: 0.9667 - val_loss: 0.6249 - val_accuracy: 0.8889 - 37ms/epoch - 4ms/step\n",
      "Epoch 239/300\n",
      "9/9 - 0s - loss: 0.6515 - accuracy: 0.8889 - val_loss: 0.6249 - val_accuracy: 0.8889 - 40ms/epoch - 4ms/step\n",
      "Epoch 240/300\n",
      "9/9 - 0s - loss: 0.6605 - accuracy: 0.9000 - val_loss: 0.6177 - val_accuracy: 1.0000 - 39ms/epoch - 4ms/step\n",
      "Epoch 241/300\n",
      "9/9 - 0s - loss: 0.6500 - accuracy: 0.9000 - val_loss: 0.6151 - val_accuracy: 0.8889 - 39ms/epoch - 4ms/step\n",
      "Epoch 242/300\n",
      "9/9 - 0s - loss: 0.6314 - accuracy: 0.9333 - val_loss: 0.6140 - val_accuracy: 1.0000 - 43ms/epoch - 5ms/step\n",
      "Epoch 243/300\n",
      "9/9 - 0s - loss: 0.6346 - accuracy: 0.9111 - val_loss: 0.6151 - val_accuracy: 1.0000 - 42ms/epoch - 5ms/step\n",
      "Epoch 244/300\n",
      "9/9 - 0s - loss: 0.6457 - accuracy: 0.9444 - val_loss: 0.6023 - val_accuracy: 1.0000 - 42ms/epoch - 5ms/step\n",
      "Epoch 245/300\n",
      "9/9 - 0s - loss: 0.6267 - accuracy: 0.9444 - val_loss: 0.6074 - val_accuracy: 0.8889 - 38ms/epoch - 4ms/step\n",
      "Epoch 246/300\n",
      "9/9 - 0s - loss: 0.6306 - accuracy: 0.8556 - val_loss: 0.5996 - val_accuracy: 1.0000 - 41ms/epoch - 5ms/step\n",
      "Epoch 247/300\n",
      "9/9 - 0s - loss: 0.6295 - accuracy: 0.9333 - val_loss: 0.5941 - val_accuracy: 1.0000 - 43ms/epoch - 5ms/step\n",
      "Epoch 248/300\n",
      "9/9 - 0s - loss: 0.6257 - accuracy: 0.9556 - val_loss: 0.5909 - val_accuracy: 0.8889 - 50ms/epoch - 6ms/step\n",
      "Epoch 249/300\n",
      "9/9 - 0s - loss: 0.6118 - accuracy: 0.9333 - val_loss: 0.5851 - val_accuracy: 1.0000 - 56ms/epoch - 6ms/step\n",
      "Epoch 250/300\n",
      "9/9 - 0s - loss: 0.6045 - accuracy: 0.9444 - val_loss: 0.5851 - val_accuracy: 1.0000 - 45ms/epoch - 5ms/step\n",
      "Epoch 251/300\n",
      "9/9 - 0s - loss: 0.6155 - accuracy: 0.9444 - val_loss: 0.5821 - val_accuracy: 1.0000 - 44ms/epoch - 5ms/step\n",
      "Epoch 252/300\n",
      "9/9 - 0s - loss: 0.5994 - accuracy: 0.9778 - val_loss: 0.5748 - val_accuracy: 1.0000 - 42ms/epoch - 5ms/step\n",
      "Epoch 253/300\n",
      "9/9 - 0s - loss: 0.6125 - accuracy: 0.9222 - val_loss: 0.5802 - val_accuracy: 0.8889 - 39ms/epoch - 4ms/step\n",
      "Epoch 254/300\n",
      "9/9 - 0s - loss: 0.6064 - accuracy: 0.9000 - val_loss: 0.5784 - val_accuracy: 1.0000 - 39ms/epoch - 4ms/step\n",
      "Epoch 255/300\n",
      "9/9 - 0s - loss: 0.5871 - accuracy: 0.9444 - val_loss: 0.5719 - val_accuracy: 1.0000 - 39ms/epoch - 4ms/step\n",
      "Epoch 256/300\n",
      "9/9 - 0s - loss: 0.6042 - accuracy: 0.9444 - val_loss: 0.5652 - val_accuracy: 1.0000 - 37ms/epoch - 4ms/step\n",
      "Epoch 257/300\n",
      "9/9 - 0s - loss: 0.5850 - accuracy: 0.9444 - val_loss: 0.5688 - val_accuracy: 0.8889 - 38ms/epoch - 4ms/step\n",
      "Epoch 258/300\n",
      "9/9 - 0s - loss: 0.6076 - accuracy: 0.9000 - val_loss: 0.5960 - val_accuracy: 0.7778 - 39ms/epoch - 4ms/step\n",
      "Epoch 259/300\n",
      "9/9 - 0s - loss: 0.5868 - accuracy: 0.8778 - val_loss: 0.5790 - val_accuracy: 0.8889 - 41ms/epoch - 5ms/step\n",
      "Epoch 260/300\n",
      "9/9 - 0s - loss: 0.5840 - accuracy: 0.9556 - val_loss: 0.5593 - val_accuracy: 0.8889 - 38ms/epoch - 4ms/step\n",
      "Epoch 261/300\n",
      "9/9 - 0s - loss: 0.5991 - accuracy: 0.9111 - val_loss: 0.5501 - val_accuracy: 1.0000 - 40ms/epoch - 4ms/step\n",
      "Epoch 262/300\n",
      "9/9 - 0s - loss: 0.5815 - accuracy: 0.9222 - val_loss: 0.5650 - val_accuracy: 0.8889 - 41ms/epoch - 5ms/step\n",
      "Epoch 263/300\n",
      "9/9 - 0s - loss: 0.5815 - accuracy: 0.9778 - val_loss: 0.5485 - val_accuracy: 1.0000 - 41ms/epoch - 5ms/step\n",
      "Epoch 264/300\n",
      "9/9 - 0s - loss: 0.5842 - accuracy: 0.9444 - val_loss: 0.5790 - val_accuracy: 0.8889 - 41ms/epoch - 5ms/step\n",
      "Epoch 265/300\n",
      "9/9 - 0s - loss: 0.5689 - accuracy: 0.8667 - val_loss: 0.5449 - val_accuracy: 1.0000 - 38ms/epoch - 4ms/step\n",
      "Epoch 266/300\n",
      "9/9 - 0s - loss: 0.5674 - accuracy: 0.9111 - val_loss: 0.5487 - val_accuracy: 1.0000 - 40ms/epoch - 4ms/step\n",
      "Epoch 267/300\n",
      "9/9 - 0s - loss: 0.5641 - accuracy: 0.9111 - val_loss: 0.5429 - val_accuracy: 1.0000 - 40ms/epoch - 4ms/step\n",
      "Epoch 268/300\n",
      "9/9 - 0s - loss: 0.5853 - accuracy: 0.8889 - val_loss: 0.5370 - val_accuracy: 1.0000 - 41ms/epoch - 5ms/step\n",
      "Epoch 269/300\n",
      "9/9 - 0s - loss: 0.5494 - accuracy: 0.9111 - val_loss: 0.5307 - val_accuracy: 1.0000 - 40ms/epoch - 4ms/step\n"
     ]
    },
    {
     "name": "stdout",
     "output_type": "stream",
     "text": [
      "Epoch 270/300\n",
      "9/9 - 0s - loss: 0.5605 - accuracy: 0.9222 - val_loss: 0.5596 - val_accuracy: 0.7778 - 48ms/epoch - 5ms/step\n",
      "Epoch 271/300\n",
      "9/9 - 0s - loss: 0.5466 - accuracy: 0.9111 - val_loss: 0.5239 - val_accuracy: 1.0000 - 40ms/epoch - 4ms/step\n",
      "Epoch 272/300\n",
      "9/9 - 0s - loss: 0.5463 - accuracy: 0.9000 - val_loss: 0.5175 - val_accuracy: 1.0000 - 41ms/epoch - 5ms/step\n",
      "Epoch 273/300\n",
      "9/9 - 0s - loss: 0.5263 - accuracy: 0.9667 - val_loss: 0.5302 - val_accuracy: 1.0000 - 39ms/epoch - 4ms/step\n",
      "Epoch 274/300\n",
      "9/9 - 0s - loss: 0.5340 - accuracy: 0.9222 - val_loss: 0.5161 - val_accuracy: 1.0000 - 40ms/epoch - 4ms/step\n",
      "Epoch 275/300\n",
      "9/9 - 0s - loss: 0.5375 - accuracy: 0.9444 - val_loss: 0.5137 - val_accuracy: 1.0000 - 39ms/epoch - 4ms/step\n",
      "Epoch 276/300\n",
      "9/9 - 0s - loss: 0.5511 - accuracy: 0.8778 - val_loss: 0.5067 - val_accuracy: 1.0000 - 41ms/epoch - 5ms/step\n",
      "Epoch 277/300\n",
      "9/9 - 0s - loss: 0.5277 - accuracy: 0.9556 - val_loss: 0.5193 - val_accuracy: 0.8889 - 39ms/epoch - 4ms/step\n",
      "Epoch 278/300\n",
      "9/9 - 0s - loss: 0.5539 - accuracy: 0.8889 - val_loss: 0.5023 - val_accuracy: 1.0000 - 40ms/epoch - 4ms/step\n",
      "Epoch 279/300\n",
      "9/9 - 0s - loss: 0.5223 - accuracy: 0.9333 - val_loss: 0.5068 - val_accuracy: 1.0000 - 39ms/epoch - 4ms/step\n",
      "Epoch 280/300\n",
      "9/9 - 0s - loss: 0.5184 - accuracy: 0.9444 - val_loss: 0.5050 - val_accuracy: 0.8889 - 39ms/epoch - 4ms/step\n",
      "Epoch 281/300\n",
      "9/9 - 0s - loss: 0.5279 - accuracy: 0.9444 - val_loss: 0.5418 - val_accuracy: 0.8889 - 41ms/epoch - 5ms/step\n",
      "Epoch 282/300\n",
      "9/9 - 0s - loss: 0.5218 - accuracy: 0.9333 - val_loss: 0.4931 - val_accuracy: 1.0000 - 38ms/epoch - 4ms/step\n",
      "Epoch 283/300\n",
      "9/9 - 0s - loss: 0.5139 - accuracy: 0.9556 - val_loss: 0.5041 - val_accuracy: 0.8889 - 40ms/epoch - 4ms/step\n",
      "Epoch 284/300\n",
      "9/9 - 0s - loss: 0.5337 - accuracy: 0.8889 - val_loss: 0.4929 - val_accuracy: 1.0000 - 40ms/epoch - 4ms/step\n",
      "Epoch 285/300\n",
      "9/9 - 0s - loss: 0.5058 - accuracy: 0.9556 - val_loss: 0.4961 - val_accuracy: 1.0000 - 42ms/epoch - 5ms/step\n",
      "Epoch 286/300\n",
      "9/9 - 0s - loss: 0.4984 - accuracy: 1.0000 - val_loss: 0.4856 - val_accuracy: 0.8889 - 38ms/epoch - 4ms/step\n",
      "Epoch 287/300\n",
      "9/9 - 0s - loss: 0.5301 - accuracy: 0.8889 - val_loss: 0.4910 - val_accuracy: 0.8889 - 41ms/epoch - 5ms/step\n",
      "Epoch 288/300\n",
      "9/9 - 0s - loss: 0.5010 - accuracy: 0.9111 - val_loss: 0.4761 - val_accuracy: 1.0000 - 39ms/epoch - 4ms/step\n",
      "Epoch 289/300\n",
      "9/9 - 0s - loss: 0.4944 - accuracy: 0.9556 - val_loss: 0.4833 - val_accuracy: 1.0000 - 42ms/epoch - 5ms/step\n",
      "Epoch 290/300\n",
      "9/9 - 0s - loss: 0.4995 - accuracy: 0.9889 - val_loss: 0.4973 - val_accuracy: 0.8889 - 37ms/epoch - 4ms/step\n",
      "Epoch 291/300\n",
      "9/9 - 0s - loss: 0.5216 - accuracy: 0.9222 - val_loss: 0.4816 - val_accuracy: 0.8889 - 41ms/epoch - 5ms/step\n",
      "Epoch 292/300\n",
      "9/9 - 0s - loss: 0.5039 - accuracy: 0.9778 - val_loss: 0.4641 - val_accuracy: 1.0000 - 40ms/epoch - 4ms/step\n",
      "Epoch 293/300\n",
      "9/9 - 0s - loss: 0.4853 - accuracy: 0.9778 - val_loss: 0.4646 - val_accuracy: 1.0000 - 40ms/epoch - 4ms/step\n",
      "Epoch 294/300\n",
      "9/9 - 0s - loss: 0.4979 - accuracy: 0.9222 - val_loss: 0.4638 - val_accuracy: 1.0000 - 41ms/epoch - 5ms/step\n",
      "Epoch 295/300\n",
      "9/9 - 0s - loss: 0.4930 - accuracy: 0.9000 - val_loss: 0.4828 - val_accuracy: 0.8889 - 38ms/epoch - 4ms/step\n",
      "Epoch 296/300\n",
      "9/9 - 0s - loss: 0.4941 - accuracy: 0.9444 - val_loss: 0.4646 - val_accuracy: 1.0000 - 40ms/epoch - 4ms/step\n",
      "Epoch 297/300\n",
      "9/9 - 0s - loss: 0.4768 - accuracy: 0.9667 - val_loss: 0.4521 - val_accuracy: 1.0000 - 38ms/epoch - 4ms/step\n",
      "Epoch 298/300\n",
      "9/9 - 0s - loss: 0.4696 - accuracy: 0.9778 - val_loss: 0.4579 - val_accuracy: 1.0000 - 41ms/epoch - 5ms/step\n",
      "Epoch 299/300\n",
      "9/9 - 0s - loss: 0.4752 - accuracy: 0.9556 - val_loss: 0.4490 - val_accuracy: 1.0000 - 39ms/epoch - 4ms/step\n",
      "Epoch 300/300\n",
      "9/9 - 0s - loss: 0.4698 - accuracy: 0.9556 - val_loss: 0.4592 - val_accuracy: 0.8889 - 40ms/epoch - 4ms/step\n"
     ]
    }
   ],
   "source": [
    "hist = model.fit(x_train, Y_train, \n",
    "            epochs=300, \n",
    "            batch_size=10,\n",
    "            verbose=2, # 학습결과 출력 옵션 0:출력없음. 1:기본값, 2:에포크별로그상세출력\n",
    "            validation_data=(x_val, Y_val)\n",
    "            )"
   ]
  },
  {
   "cell_type": "markdown",
   "id": "31fe499b",
   "metadata": {},
   "source": [
    "# 6. 모델 평가하기(모델학습과정 살펴보고, evalute)"
   ]
  },
  {
   "cell_type": "code",
   "execution_count": 11,
   "id": "6a95c1af",
   "metadata": {},
   "outputs": [
    {
     "data": {
      "text/plain": [
       "dict_keys(['loss', 'accuracy', 'val_loss', 'val_accuracy'])"
      ]
     },
     "execution_count": 11,
     "metadata": {},
     "output_type": "execute_result"
    }
   ],
   "source": [
    "hist.history.keys()"
   ]
  },
  {
   "cell_type": "code",
   "execution_count": 12,
   "id": "41dd28fc",
   "metadata": {},
   "outputs": [
    {
     "data": {
      "image/png": "[encoded data removed]",
      "text/plain": [
       "<Figure size 1000x500 with 2 Axes>"
      ]
     },
     "metadata": {},
     "output_type": "display_data"
    }
   ],
   "source": [
    "# 모델 학습과정 시각화\n",
    "import matplotlib.pyplot as plt\n",
    "fig, loss_ax = plt.subplots(figsize=(10,5))\n",
    "loss_ax.plot(hist.history['loss'], 'y', label='train loss')\n",
    "loss_ax.plot(hist.history['val_loss'], 'r', label='val loss')\n",
    "loss_ax.set_xlabel('epoch')\n",
    "loss_ax.set_ylabel('loss')\n",
    "\n",
    "acc_ax = loss_ax.twinx() # loss_ax와 x축을 공유하는 acc_ax생성\n",
    "acc_ax.plot(hist.history['accuracy'], 'g', label='train accuracy')\n",
    "acc_ax.plot(hist.history['val_accuracy'], 'b', label='val accuracy')\n",
    "acc_ax.set_ylabel('accuracy')\n",
    "loss_ax.legend(loc='upper left')\n",
    "acc_ax.legend(loc='center right')\n",
    "plt.show()"
   ]
  },
  {
   "cell_type": "code",
   "execution_count": 13,
   "id": "d0b668f5",
   "metadata": {},
   "outputs": [
    {
     "name": "stdout",
     "output_type": "stream",
     "text": [
      "9/9 [==============================] - 0s 2ms/step - loss: 0.4592 - accuracy: 0.8889\n"
     ]
    }
   ],
   "source": [
    "# 모델 평가\n",
    "score = model.evaluate(x_test, Y_test, batch_size=1)"
   ]
  },
  {
   "cell_type": "code",
   "execution_count": 14,
   "id": "d808885e",
   "metadata": {},
   "outputs": [
    {
     "data": {
      "text/plain": [
       "[0.4592047333717346, 0.8888888955116272]"
      ]
     },
     "execution_count": 14,
     "metadata": {},
     "output_type": "execute_result"
    }
   ],
   "source": [
    "score # loss, accuracy"
   ]
  },
  {
   "cell_type": "code",
   "execution_count": 15,
   "id": "4c46a897",
   "metadata": {},
   "outputs": [
    {
     "name": "stdout",
     "output_type": "stream",
     "text": [
      "평가된 loss : 0.4592047333717346\n",
      "평가된 accuracy : 88.88888955116272 %\n"
     ]
    }
   ],
   "source": [
    "print('평가된 loss :', score[0])\n",
    "print('평가된 accuracy :', score[1]*100, '%')"
   ]
  },
  {
   "cell_type": "markdown",
   "id": "b55f2a31",
   "metadata": {},
   "source": [
    "# 7. 모델 사용하기"
   ]
  },
  {
   "cell_type": "code",
   "execution_count": 23,
   "id": "f674dc4a",
   "metadata": {},
   "outputs": [
    {
     "name": "stdout",
     "output_type": "stream",
     "text": [
      "1/1 [==============================] - 0s 20ms/step\n",
      "1/1 [==============================] - 0s 20ms/step\n"
     ]
    },
    {
     "data": {
      "text/plain": [
       "4"
      ]
     },
     "execution_count": 23,
     "metadata": {},
     "output_type": "execute_result"
    }
   ],
   "source": [
    "# 분류분석의 예측은 predict결과를 argmax()\n",
    "H = model.predict(np.array([2]))\n",
    "model.predict(np.array([2])).argmax()"
   ]
  },
  {
   "cell_type": "code",
   "execution_count": 25,
   "id": "75fc719e",
   "metadata": {},
   "outputs": [
    {
     "data": {
      "text/plain": [
       "79.46060299873352"
      ]
     },
     "execution_count": 25,
     "metadata": {},
     "output_type": "execute_result"
    }
   ],
   "source": [
    "# 4를 몇%확률로 예측했는지\n",
    "H[0, H.argmax()]*100"
   ]
  },
  {
   "cell_type": "markdown",
   "id": "ae3b212d",
   "metadata": {},
   "source": [
    "# 8. 모델 저장하기"
   ]
  },
  {
   "cell_type": "code",
   "execution_count": 26,
   "id": "2963f3a7",
   "metadata": {},
   "outputs": [],
   "source": [
    "# model.save('model/02_deep.h5')\n",
    "from tensorflow.keras.models import save_model\n",
    "save_model(model, 'model/02_deep.h5')"
   ]
  },
  {
   "cell_type": "markdown",
   "id": "204d44df",
   "metadata": {},
   "source": [
    "## 저장된 모델 사용하기"
   ]
  },
  {
   "cell_type": "code",
   "execution_count": 27,
   "id": "86ef80bc",
   "metadata": {},
   "outputs": [],
   "source": [
    "from tensorflow.keras.models import load_model\n",
    "model2 = load_model('model/02_deep.h5')"
   ]
  },
  {
   "cell_type": "code",
   "execution_count": 28,
   "id": "8096046a",
   "metadata": {},
   "outputs": [
    {
     "name": "stdout",
     "output_type": "stream",
     "text": [
      "1/1 [==============================] - 0s 60ms/step\n"
     ]
    },
    {
     "data": {
      "text/plain": [
       "8"
      ]
     },
     "execution_count": 28,
     "metadata": {},
     "output_type": "execute_result"
    }
   ],
   "source": [
    "model2.predict(np.array([[4]])).argmax()"
   ]
  },
  {
   "cell_type": "code",
   "execution_count": null,
   "id": "45ff4571",
   "metadata": {},
   "outputs": [],
   "source": []
  }
 ],
 "metadata": {
  "kernelspec": {
   "display_name": "ml-dl-nlp",
   "language": "python",
   "name": "ml-dl-nlp"
  },
  "language_info": {
   "codemirror_mode": {
    "name": "ipython",
    "version": 3
   },
   "file_extension": ".py",
   "mimetype": "text/x-python",
   "name": "python",
   "nbconvert_exporter": "python",
   "pygments_lexer": "ipython3",
   "version": "3.10.18"
  },
  "toc": {
   "base_numbering": 1,
   "nav_menu": {},
   "number_sections": false,
   "sideBar": true,
   "skip_h1_title": false,
   "title_cell": "Table of Contents",
   "title_sidebar": "Contents",
   "toc_cell": false,
   "toc_position": {
    "height": "calc(100% - 180px)",
    "left": "10px",
    "top": "150px",
    "width": "165px"
   },
   "toc_section_display": true,
   "toc_window_display": true
  }
 },
 "nbformat": 4,
 "nbformat_minor": 5
}
