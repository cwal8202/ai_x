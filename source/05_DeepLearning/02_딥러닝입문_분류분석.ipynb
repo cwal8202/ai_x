{
 "cells": [
  {
   "cell_type": "code",
   "execution_count": 1,
   "id": "587d9e27",
   "metadata": {},
   "outputs": [
    {
     "data": {
      "text/html": [
       "\n",
       "<style>\n",
       "div.container{width:98% !important;}\n",
       "div.cell.code_cell.rendered{width:100%;}\n",
       "div.input_prompt{padding:0px;}\n",
       "div.CodeMirror {font-family:Consolas; font-size:20pt;}\n",
       "div.text_cell_render.rendered_html{font-size:18pt;}\n",
       "div.text_cell_render.rendered_html{font-size:15pt;}\n",
       "div.output {font-size:18pt; font-weight:bold;}\n",
       "div.input {font-family:Consolas; font-size:18pt;}\n",
       "div.prompt {min-width:70px;}\n",
       "div#toc-wrapper{padding-top:120px;}\n",
       "div.text_cell_render ul li{font-size:18pt;padding:5px;}\n",
       "table.dataframe{font-size:18px;}\n",
       "</style>\n"
      ],
      "text/plain": [
       "<IPython.core.display.HTML object>"
      ]
     },
     "metadata": {},
     "output_type": "display_data"
    }
   ],
   "source": [
    "from IPython.display import display, HTML\n",
    "display(HTML(\"\"\"\n",
    "<style>\n",
    "div.container{width:86% !important;}\n",
    "div.cell.code_cell.rendered{width:100%;}\n",
    "div.CodeMirror {font-family:Consolas; font-size:15pt;}\n",
    "div.output {font-size:15pt; font-weight:bold;}\n",
    "div.input {font-family:Consolas; font-size:15pt;}\n",
    "div.prompt {min-width:70px;}\n",
    "div#toc-wrapper{padding-top:120px;}\n",
    "div.text_cell_render ul li{font-size:12pt;padding:5px;}\n",
    "table.dataframe{font-size:15px;}\n",
    "</style>\n",
    "\"\"\"))"
   ]
  },
  {
   "cell_type": "code",
   "execution_count": 2,
   "id": "36ae324b",
   "metadata": {},
   "outputs": [],
   "source": [
    "from tensorflow.keras.utils import to_categorical # 분류분석시 원핫인코딩\n",
    "from tensorflow.keras.models import Sequential # 모델생성\n",
    "from tensorflow.keras.layers import Dense, Input\n",
    "import numpy as np"
   ]
  },
  {
   "cell_type": "markdown",
   "id": "709f35e2",
   "metadata": {},
   "source": [
    "# 머신러닝/딥러닝 : 데이터의 법칙성을 추출\n",
    "- 다양한 분야에서 응용 : 글씨인식, 문장분류, 질병진단,...\n",
    "※ ML/DL의 종류\n",
    "- 지도학습(독립=입력변수와 종속=타겟=출력변수가 모두 주어졌을 경우)\n",
    "    회귀분석(타겟변수가 연속형) vs 분류분석(multi, binary)\n",
    "- 비지도학습(입력변수만)\n",
    "    군집화\n",
    "- 강화학습\n",
    "\n",
    "※ 지도학습에서의 ML, DL 프로그래밍 방식\n",
    "1. 데이터 셋 확보(input=입력변수, target=종속변수)\n",
    "    원본 데이터 및 시뮬레이션을 통해 데이터 생성\n",
    "2. 전처리\n",
    "    스케일 조정\n",
    "    훈련셋(학습셋), 검증셋, 시험셋(테스트셋)\n",
    "    학습 및 평가 가능한 포맷으로 변환\n",
    "3. 모델 구성\n",
    "    Sequential 객체 생성뒤 필요한 층을 add()함수로 추가\n",
    "4. 모델 학습과정 설정\n",
    "    compile()함수 이용. 손실함수, optimizer, metrics(평가지표)\n",
    "5. 모델학습시키기 (ft. 학습과정 지켜보기)\n",
    "    fit()함수 이용 - 훈련셋입력=독립변수, 훈련셋타겟=종속변수, 학습횟수, 검증셋\n",
    "6. 모델 평가\n",
    "    시험셋(테스트셋)을 인자로 넣은 evaluate()함수 이용, 그래프\n",
    "7. 모델 사용\n",
    "    predict() 이용. 입력데이터는 2차원 데이터\n",
    "7. 모델 저장\n",
    "    save()함수이용해서 저장. 저장된 모델은 load_model()함수를 이용해서 불러올 수 있음"
   ]
  },
  {
   "cell_type": "markdown",
   "id": "a19dab52",
   "metadata": {},
   "source": [
    "# 1. 데이터 셋 생성\n",
    "# 2. 데이터 전처리 "
   ]
  },
  {
   "cell_type": "code",
   "execution_count": 3,
   "id": "831de57d",
   "metadata": {},
   "outputs": [
    {
     "data": {
      "text/plain": [
       "((90,), (9,), (9,), (90,), (9,), (9,))"
      ]
     },
     "execution_count": 3,
     "metadata": {},
     "output_type": "execute_result"
    }
   ],
   "source": [
    "# 학습데이터 = 훈련데이터\n",
    "x_train = np.array([1,2,3,4,5,6,7,8,9]*10)\n",
    "y_train = np.array([2,4,6,8,10,12,14,16,18]*10)\n",
    "# 검증데이터\n",
    "x_val = np.array([1,2,3,4,5,6,7,8,9])\n",
    "y_val = np.array([2,4,6,8,10,12,14,16,18])\n",
    "# 테스트셋 = 시험데이터\n",
    "x_test = np.array([1,2,3,4,5,6,7,8,9])\n",
    "y_test = np.array([2,4,6,8,10,12,14,16,18])\n",
    "x_train.shape, x_val.shape, x_test.shape, y_train.shape, y_val.shape, y_test.shape"
   ]
  },
  {
   "cell_type": "code",
   "execution_count": 4,
   "id": "275354b2",
   "metadata": {},
   "outputs": [
    {
     "name": "stdout",
     "output_type": "stream",
     "text": [
      "원 데이터 : ['a' 'b' 'c' 'd']\n",
      "라벨인코딩된 데이터 : [0 1 2 3]\n",
      "원핫인코딩된 데이터 : [[1. 0. 0. 0.]\n",
      " [0. 1. 0. 0.]\n",
      " [0. 0. 1. 0.]\n",
      " [0. 0. 0. 1.]]\n"
     ]
    }
   ],
   "source": [
    "# 인코딩 종류\n",
    "data = np.array(['a','b','c','d'])\n",
    "print('원 데이터 :', data)\n",
    "from sklearn.preprocessing import LabelEncoder\n",
    "le = LabelEncoder()\n",
    "# le.fit(data)\n",
    "# labeled_data = le.transform(data)\n",
    "labeled_data = le.fit_transform(data)\n",
    "print('라벨인코딩된 데이터 :', labeled_data)\n",
    "one_hot_encoded_data = to_categorical(labeled_data)\n",
    "print('원핫인코딩된 데이터 :', one_hot_encoded_data)"
   ]
  },
  {
   "cell_type": "code",
   "execution_count": 5,
   "id": "deaacecd",
   "metadata": {},
   "outputs": [
    {
     "name": "stdout",
     "output_type": "stream",
     "text": [
      "[1 2 2 4 2]\n",
      "to_categorical을 이용한 원핫인코딩 :\n",
      " [[0. 1. 0. 0. 0.]\n",
      " [0. 0. 1. 0. 0.]\n",
      " [0. 0. 1. 0. 0.]\n",
      " [0. 0. 0. 0. 1.]\n",
      " [0. 0. 1. 0. 0.]]\n"
     ]
    },
    {
     "data": {
      "text/plain": [
       "'get_dumies를 이용한 원핫인코딩 :'"
      ]
     },
     "metadata": {},
     "output_type": "display_data"
    },
    {
     "data": {
      "text/html": [
       "<div>\n",
       "<style scoped>\n",
       "    .dataframe tbody tr th:only-of-type {\n",
       "        vertical-align: middle;\n",
       "    }\n",
       "\n",
       "    .dataframe tbody tr th {\n",
       "        vertical-align: top;\n",
       "    }\n",
       "\n",
       "    .dataframe thead th {\n",
       "        text-align: right;\n",
       "    }\n",
       "</style>\n",
       "<table border=\"1\" class=\"dataframe\">\n",
       "  <thead>\n",
       "    <tr style=\"text-align: right;\">\n",
       "      <th></th>\n",
       "      <th>1</th>\n",
       "      <th>2</th>\n",
       "      <th>4</th>\n",
       "    </tr>\n",
       "  </thead>\n",
       "  <tbody>\n",
       "    <tr>\n",
       "      <th>0</th>\n",
       "      <td>1</td>\n",
       "      <td>0</td>\n",
       "      <td>0</td>\n",
       "    </tr>\n",
       "    <tr>\n",
       "      <th>1</th>\n",
       "      <td>0</td>\n",
       "      <td>1</td>\n",
       "      <td>0</td>\n",
       "    </tr>\n",
       "    <tr>\n",
       "      <th>2</th>\n",
       "      <td>0</td>\n",
       "      <td>1</td>\n",
       "      <td>0</td>\n",
       "    </tr>\n",
       "    <tr>\n",
       "      <th>3</th>\n",
       "      <td>0</td>\n",
       "      <td>0</td>\n",
       "      <td>1</td>\n",
       "    </tr>\n",
       "    <tr>\n",
       "      <th>4</th>\n",
       "      <td>0</td>\n",
       "      <td>1</td>\n",
       "      <td>0</td>\n",
       "    </tr>\n",
       "  </tbody>\n",
       "</table>\n",
       "</div>"
      ],
      "text/plain": [
       "   1  2  4\n",
       "0  1  0  0\n",
       "1  0  1  0\n",
       "2  0  1  0\n",
       "3  0  0  1\n",
       "4  0  1  0"
      ]
     },
     "metadata": {},
     "output_type": "display_data"
    },
    {
     "name": "stdout",
     "output_type": "stream",
     "text": [
      "<class 'numpy.ndarray'>\n",
      "<class 'pandas.core.frame.DataFrame'>\n"
     ]
    }
   ],
   "source": [
    "# 분류분석을 하기 위해, target을 원핫인코딩(라벨링 전환)\n",
    "data = np.array([1,2,2,4,2])\n",
    "print(data)\n",
    "categorical_one_hot = to_categorical(data)\n",
    "print('to_categorical을 이용한 원핫인코딩 :\\n', categorical_one_hot)\n",
    "import pandas as pd\n",
    "get_dumies_one_hot = pd.get_dummies(data)\n",
    "display('get_dumies를 이용한 원핫인코딩 :', get_dumies_one_hot)\n",
    "print(type(categorical_one_hot))\n",
    "print(type(get_dumies_one_hot))"
   ]
  },
  {
   "cell_type": "code",
   "execution_count": 6,
   "id": "2f536526",
   "metadata": {},
   "outputs": [],
   "source": [
    "# 분류분석을 위한 target변수 라벨링 전환(=원핫인코딩)\n",
    "Y_train = to_categorical(y_train, 19)\n",
    "Y_val   = to_categorical(y_val)\n",
    "Y_test = to_categorical(y_test)"
   ]
  },
  {
   "cell_type": "code",
   "execution_count": 7,
   "id": "9de685ad",
   "metadata": {},
   "outputs": [
    {
     "name": "stdout",
     "output_type": "stream",
     "text": [
      "훈련셋 구조: (90,) (90, 19)\n",
      "검증셋 구조: (9,) (9, 19)\n",
      "테스트셋 구조: (9,) (9, 19)\n"
     ]
    }
   ],
   "source": [
    "print('훈련셋 구조:', x_train.shape, Y_train.shape) # 독립변수1개, 타겟변수 19\n",
    "print('검증셋 구조:', x_val.shape, Y_val.shape)\n",
    "print('테스트셋 구조:', x_test.shape, Y_test.shape)"
   ]
  },
  {
   "cell_type": "markdown",
   "id": "40c544eb",
   "metadata": {},
   "source": [
    "# 3. 모델 구성하기"
   ]
  },
  {
   "cell_type": "code",
   "execution_count": 8,
   "id": "90335c20",
   "metadata": {},
   "outputs": [
    {
     "name": "stdout",
     "output_type": "stream",
     "text": [
      "Model: \"sequential\"\n",
      "_________________________________________________________________\n",
      " Layer (type)                Output Shape              Param #   \n",
      "=================================================================\n",
      " dense (Dense)               (None, 38)                76        \n",
      "                                                                 \n",
      " dense_1 (Dense)             (None, 64)                2496      \n",
      "                                                                 \n",
      " dense_2 (Dense)             (None, 32)                2080      \n",
      "                                                                 \n",
      " dense_3 (Dense)             (None, 19)                627       \n",
      "                                                                 \n",
      "=================================================================\n",
      "Total params: 5,279\n",
      "Trainable params: 5,279\n",
      "Non-trainable params: 0\n",
      "_________________________________________________________________\n"
     ]
    }
   ],
   "source": [
    "model = Sequential()\n",
    "model.add(Input(shape=(1,))) # 입력층\n",
    "model.add(Dense(units=38, activation='sigmoid')) # units출력수, 활성화함수:relu, tanh\n",
    "model.add(Dense(units=64, activation='elu'))\n",
    "model.add(Dense(units=32, activation='elu'))\n",
    "model.add(Dense(units=19, activation='softmax'))\n",
    "# softmax : 모든 출력결과의 합이 1. 분류분석 마지막 layer(출력층)에서 activation으로\n",
    "model.summary()"
   ]
  },
  {
   "cell_type": "markdown",
   "id": "56a8285d",
   "metadata": {},
   "source": [
    "# 4. 모델 학습과정 설정"
   ]
  },
  {
   "cell_type": "code",
   "execution_count": 9,
   "id": "1ee96f95",
   "metadata": {},
   "outputs": [],
   "source": [
    "model.compile(loss=\"categorical_crossentropy\", # 분류분석에서의 손실함수(원핫인코딩有)\n",
    "             optimizer='sgd',\n",
    "             metrics=['accuracy']) # 평가지표 : accuracy "
   ]
  },
  {
   "cell_type": "markdown",
   "id": "9d385f5c",
   "metadata": {},
   "source": [
    "# 5. 모델 학습시키기"
   ]
  },
  {
   "cell_type": "code",
   "execution_count": 10,
   "id": "c338619b",
   "metadata": {},
   "outputs": [
    {
     "name": "stdout",
     "output_type": "stream",
     "text": [
      "Epoch 1/300\n",
      "9/9 - 1s - loss: 2.8937 - accuracy: 0.0000e+00 - val_loss: 2.8241 - val_accuracy: 0.1111 - 659ms/epoch - 73ms/step\n",
      "Epoch 2/300\n",
      "9/9 - 0s - loss: 2.7926 - accuracy: 0.1111 - val_loss: 2.7340 - val_accuracy: 0.1111 - 36ms/epoch - 4ms/step\n",
      "Epoch 3/300\n",
      "9/9 - 0s - loss: 2.7088 - accuracy: 0.1111 - val_loss: 2.6607 - val_accuracy: 0.1111 - 36ms/epoch - 4ms/step\n",
      "Epoch 4/300\n",
      "9/9 - 0s - loss: 2.6443 - accuracy: 0.1111 - val_loss: 2.5975 - val_accuracy: 0.1111 - 31ms/epoch - 3ms/step\n",
      "Epoch 5/300\n",
      "9/9 - 0s - loss: 2.5804 - accuracy: 0.2111 - val_loss: 2.5413 - val_accuracy: 0.1111 - 19ms/epoch - 2ms/step\n",
      "Epoch 6/300\n",
      "9/9 - 0s - loss: 2.5311 - accuracy: 0.1111 - val_loss: 2.4911 - val_accuracy: 0.1111 - 34ms/epoch - 4ms/step\n",
      "Epoch 7/300\n",
      "9/9 - 0s - loss: 2.4834 - accuracy: 0.1667 - val_loss: 2.4450 - val_accuracy: 0.2222 - 33ms/epoch - 4ms/step\n",
      "Epoch 8/300\n",
      "9/9 - 0s - loss: 2.4347 - accuracy: 0.1667 - val_loss: 2.4021 - val_accuracy: 0.2222 - 33ms/epoch - 4ms/step\n",
      "Epoch 9/300\n",
      "9/9 - 0s - loss: 2.3979 - accuracy: 0.1333 - val_loss: 2.3621 - val_accuracy: 0.3333 - 37ms/epoch - 4ms/step\n",
      "Epoch 10/300\n",
      "9/9 - 0s - loss: 2.3568 - accuracy: 0.1889 - val_loss: 2.3245 - val_accuracy: 0.4444 - 33ms/epoch - 4ms/step\n",
      "Epoch 11/300\n",
      "9/9 - 0s - loss: 2.3253 - accuracy: 0.3222 - val_loss: 2.2890 - val_accuracy: 0.3333 - 34ms/epoch - 4ms/step\n",
      "Epoch 12/300\n",
      "9/9 - 0s - loss: 2.2850 - accuracy: 0.2333 - val_loss: 2.2554 - val_accuracy: 0.3333 - 35ms/epoch - 4ms/step\n",
      "Epoch 13/300\n",
      "9/9 - 0s - loss: 2.2544 - accuracy: 0.2444 - val_loss: 2.2237 - val_accuracy: 0.2222 - 46ms/epoch - 5ms/step\n",
      "Epoch 14/300\n",
      "9/9 - 0s - loss: 2.2289 - accuracy: 0.2000 - val_loss: 2.1937 - val_accuracy: 0.3333 - 50ms/epoch - 6ms/step\n",
      "Epoch 15/300\n",
      "9/9 - 0s - loss: 2.1954 - accuracy: 0.3333 - val_loss: 2.1650 - val_accuracy: 0.2222 - 35ms/epoch - 4ms/step\n",
      "Epoch 16/300\n",
      "9/9 - 0s - loss: 2.1685 - accuracy: 0.2667 - val_loss: 2.1377 - val_accuracy: 0.2222 - 32ms/epoch - 4ms/step\n",
      "Epoch 17/300\n",
      "9/9 - 0s - loss: 2.1409 - accuracy: 0.2889 - val_loss: 2.1119 - val_accuracy: 0.2222 - 31ms/epoch - 3ms/step\n",
      "Epoch 18/300\n",
      "9/9 - 0s - loss: 2.1174 - accuracy: 0.2667 - val_loss: 2.0869 - val_accuracy: 0.2222 - 33ms/epoch - 4ms/step\n",
      "Epoch 19/300\n",
      "9/9 - 0s - loss: 2.0922 - accuracy: 0.2444 - val_loss: 2.0631 - val_accuracy: 0.3333 - 31ms/epoch - 3ms/step\n",
      "Epoch 20/300\n",
      "9/9 - 0s - loss: 2.0714 - accuracy: 0.2333 - val_loss: 2.0403 - val_accuracy: 0.3333 - 28ms/epoch - 3ms/step\n",
      "Epoch 21/300\n",
      "9/9 - 0s - loss: 2.0489 - accuracy: 0.2778 - val_loss: 2.0183 - val_accuracy: 0.2222 - 27ms/epoch - 3ms/step\n",
      "Epoch 22/300\n",
      "9/9 - 0s - loss: 2.0234 - accuracy: 0.2556 - val_loss: 1.9968 - val_accuracy: 0.2222 - 19ms/epoch - 2ms/step\n",
      "Epoch 23/300\n",
      "9/9 - 0s - loss: 2.0023 - accuracy: 0.3000 - val_loss: 1.9760 - val_accuracy: 0.2222 - 34ms/epoch - 4ms/step\n",
      "Epoch 24/300\n",
      "9/9 - 0s - loss: 1.9833 - accuracy: 0.3000 - val_loss: 1.9558 - val_accuracy: 0.2222 - 37ms/epoch - 4ms/step\n",
      "Epoch 25/300\n",
      "9/9 - 0s - loss: 1.9642 - accuracy: 0.3000 - val_loss: 1.9360 - val_accuracy: 0.2222 - 29ms/epoch - 3ms/step\n",
      "Epoch 26/300\n",
      "9/9 - 0s - loss: 1.9439 - accuracy: 0.2556 - val_loss: 1.9169 - val_accuracy: 0.2222 - 30ms/epoch - 3ms/step\n",
      "Epoch 27/300\n",
      "9/9 - 0s - loss: 1.9254 - accuracy: 0.2556 - val_loss: 1.8982 - val_accuracy: 0.2222 - 30ms/epoch - 3ms/step\n",
      "Epoch 28/300\n",
      "9/9 - 0s - loss: 1.9078 - accuracy: 0.2333 - val_loss: 1.8798 - val_accuracy: 0.2222 - 30ms/epoch - 3ms/step\n",
      "Epoch 29/300\n",
      "9/9 - 0s - loss: 1.8934 - accuracy: 0.3222 - val_loss: 1.8630 - val_accuracy: 0.2222 - 20ms/epoch - 2ms/step\n",
      "Epoch 30/300\n",
      "9/9 - 0s - loss: 1.8689 - accuracy: 0.2222 - val_loss: 1.8439 - val_accuracy: 0.2222 - 34ms/epoch - 4ms/step\n",
      "Epoch 31/300\n",
      "9/9 - 0s - loss: 1.8595 - accuracy: 0.2667 - val_loss: 1.8265 - val_accuracy: 0.2222 - 45ms/epoch - 5ms/step\n",
      "Epoch 32/300\n",
      "9/9 - 0s - loss: 1.8419 - accuracy: 0.2444 - val_loss: 1.8093 - val_accuracy: 0.3333 - 31ms/epoch - 3ms/step\n",
      "Epoch 33/300\n",
      "9/9 - 0s - loss: 1.8158 - accuracy: 0.2556 - val_loss: 1.7926 - val_accuracy: 0.3333 - 19ms/epoch - 2ms/step\n",
      "Epoch 34/300\n",
      "9/9 - 0s - loss: 1.8040 - accuracy: 0.2667 - val_loss: 1.7762 - val_accuracy: 0.3333 - 22ms/epoch - 2ms/step\n",
      "Epoch 35/300\n",
      "9/9 - 0s - loss: 1.7856 - accuracy: 0.2444 - val_loss: 1.7601 - val_accuracy: 0.4444 - 38ms/epoch - 4ms/step\n",
      "Epoch 36/300\n",
      "9/9 - 0s - loss: 1.7698 - accuracy: 0.4444 - val_loss: 1.7444 - val_accuracy: 0.4444 - 30ms/epoch - 3ms/step\n",
      "Epoch 37/300\n",
      "9/9 - 0s - loss: 1.7567 - accuracy: 0.3667 - val_loss: 1.7288 - val_accuracy: 0.4444 - 28ms/epoch - 3ms/step\n",
      "Epoch 38/300\n",
      "9/9 - 0s - loss: 1.7404 - accuracy: 0.2889 - val_loss: 1.7140 - val_accuracy: 0.4444 - 29ms/epoch - 3ms/step\n",
      "Epoch 39/300\n",
      "9/9 - 0s - loss: 1.7238 - accuracy: 0.4222 - val_loss: 1.6994 - val_accuracy: 0.4444 - 30ms/epoch - 3ms/step\n",
      "Epoch 40/300\n",
      "9/9 - 0s - loss: 1.7096 - accuracy: 0.3000 - val_loss: 1.6843 - val_accuracy: 0.3333 - 30ms/epoch - 3ms/step\n",
      "Epoch 41/300\n",
      "9/9 - 0s - loss: 1.7024 - accuracy: 0.3000 - val_loss: 1.6700 - val_accuracy: 0.3333 - 19ms/epoch - 2ms/step\n",
      "Epoch 42/300\n",
      "9/9 - 0s - loss: 1.6836 - accuracy: 0.2778 - val_loss: 1.6566 - val_accuracy: 0.6667 - 33ms/epoch - 4ms/step\n",
      "Epoch 43/300\n",
      "9/9 - 0s - loss: 1.6659 - accuracy: 0.4222 - val_loss: 1.6428 - val_accuracy: 0.5556 - 39ms/epoch - 4ms/step\n",
      "Epoch 44/300\n",
      "9/9 - 0s - loss: 1.6573 - accuracy: 0.4667 - val_loss: 1.6291 - val_accuracy: 0.4444 - 30ms/epoch - 3ms/step\n",
      "Epoch 45/300\n",
      "9/9 - 0s - loss: 1.6371 - accuracy: 0.3778 - val_loss: 1.6161 - val_accuracy: 0.4444 - 30ms/epoch - 3ms/step\n",
      "Epoch 46/300\n",
      "9/9 - 0s - loss: 1.6243 - accuracy: 0.4111 - val_loss: 1.6030 - val_accuracy: 0.4444 - 31ms/epoch - 3ms/step\n",
      "Epoch 47/300\n",
      "9/9 - 0s - loss: 1.6167 - accuracy: 0.3889 - val_loss: 1.5899 - val_accuracy: 0.5556 - 32ms/epoch - 4ms/step\n",
      "Epoch 48/300\n",
      "9/9 - 0s - loss: 1.6022 - accuracy: 0.4778 - val_loss: 1.5774 - val_accuracy: 0.5556 - 34ms/epoch - 4ms/step\n",
      "Epoch 49/300\n",
      "9/9 - 0s - loss: 1.5986 - accuracy: 0.3889 - val_loss: 1.5654 - val_accuracy: 0.6667 - 34ms/epoch - 4ms/step\n",
      "Epoch 50/300\n",
      "9/9 - 0s - loss: 1.5828 - accuracy: 0.4778 - val_loss: 1.5536 - val_accuracy: 0.4444 - 32ms/epoch - 4ms/step\n",
      "Epoch 51/300\n",
      "9/9 - 0s - loss: 1.5806 - accuracy: 0.4111 - val_loss: 1.5423 - val_accuracy: 0.4444 - 42ms/epoch - 5ms/step\n",
      "Epoch 52/300\n",
      "9/9 - 0s - loss: 1.5556 - accuracy: 0.4222 - val_loss: 1.5304 - val_accuracy: 0.3333 - 30ms/epoch - 3ms/step\n",
      "Epoch 53/300\n",
      "9/9 - 0s - loss: 1.5459 - accuracy: 0.4667 - val_loss: 1.5181 - val_accuracy: 0.4444 - 29ms/epoch - 3ms/step\n",
      "Epoch 54/300\n",
      "9/9 - 0s - loss: 1.5374 - accuracy: 0.4333 - val_loss: 1.5067 - val_accuracy: 0.4444 - 30ms/epoch - 3ms/step\n",
      "Epoch 55/300\n",
      "9/9 - 0s - loss: 1.5275 - accuracy: 0.4333 - val_loss: 1.4953 - val_accuracy: 0.4444 - 32ms/epoch - 4ms/step\n",
      "Epoch 56/300\n",
      "9/9 - 0s - loss: 1.5125 - accuracy: 0.4000 - val_loss: 1.4843 - val_accuracy: 0.4444 - 30ms/epoch - 3ms/step\n",
      "Epoch 57/300\n",
      "9/9 - 0s - loss: 1.5012 - accuracy: 0.4778 - val_loss: 1.4742 - val_accuracy: 0.4444 - 33ms/epoch - 4ms/step\n",
      "Epoch 58/300\n",
      "9/9 - 0s - loss: 1.4866 - accuracy: 0.4444 - val_loss: 1.4631 - val_accuracy: 0.7778 - 36ms/epoch - 4ms/step\n",
      "Epoch 59/300\n",
      "9/9 - 0s - loss: 1.4737 - accuracy: 0.5444 - val_loss: 1.4520 - val_accuracy: 0.4444 - 33ms/epoch - 4ms/step\n",
      "Epoch 60/300\n",
      "9/9 - 0s - loss: 1.4673 - accuracy: 0.5000 - val_loss: 1.4420 - val_accuracy: 0.6667 - 31ms/epoch - 3ms/step\n",
      "Epoch 61/300\n",
      "9/9 - 0s - loss: 1.4543 - accuracy: 0.5778 - val_loss: 1.4317 - val_accuracy: 0.6667 - 31ms/epoch - 3ms/step\n",
      "Epoch 62/300\n",
      "9/9 - 0s - loss: 1.4445 - accuracy: 0.5556 - val_loss: 1.4207 - val_accuracy: 0.4444 - 31ms/epoch - 3ms/step\n",
      "Epoch 63/300\n",
      "9/9 - 0s - loss: 1.4365 - accuracy: 0.5444 - val_loss: 1.4121 - val_accuracy: 0.5556 - 32ms/epoch - 4ms/step\n",
      "Epoch 64/300\n",
      "9/9 - 0s - loss: 1.4279 - accuracy: 0.4556 - val_loss: 1.4006 - val_accuracy: 0.5556 - 30ms/epoch - 3ms/step\n",
      "Epoch 65/300\n",
      "9/9 - 0s - loss: 1.4204 - accuracy: 0.5444 - val_loss: 1.3910 - val_accuracy: 0.5556 - 31ms/epoch - 3ms/step\n",
      "Epoch 66/300\n",
      "9/9 - 0s - loss: 1.4091 - accuracy: 0.5000 - val_loss: 1.3812 - val_accuracy: 0.4444 - 32ms/epoch - 4ms/step\n",
      "Epoch 67/300\n",
      "9/9 - 0s - loss: 1.4073 - accuracy: 0.5556 - val_loss: 1.3722 - val_accuracy: 0.5556 - 28ms/epoch - 3ms/step\n",
      "Epoch 68/300\n",
      "9/9 - 0s - loss: 1.3849 - accuracy: 0.5889 - val_loss: 1.3624 - val_accuracy: 0.5556 - 38ms/epoch - 4ms/step\n"
     ]
    },
    {
     "name": "stdout",
     "output_type": "stream",
     "text": [
      "Epoch 69/300\n",
      "9/9 - 0s - loss: 1.3867 - accuracy: 0.6333 - val_loss: 1.3527 - val_accuracy: 0.5556 - 20ms/epoch - 2ms/step\n",
      "Epoch 70/300\n",
      "9/9 - 0s - loss: 1.3706 - accuracy: 0.5889 - val_loss: 1.3435 - val_accuracy: 0.6667 - 39ms/epoch - 4ms/step\n",
      "Epoch 71/300\n",
      "9/9 - 0s - loss: 1.3577 - accuracy: 0.5667 - val_loss: 1.3347 - val_accuracy: 0.5556 - 30ms/epoch - 3ms/step\n",
      "Epoch 72/300\n",
      "9/9 - 0s - loss: 1.3474 - accuracy: 0.6111 - val_loss: 1.3254 - val_accuracy: 0.6667 - 30ms/epoch - 3ms/step\n",
      "Epoch 73/300\n",
      "9/9 - 0s - loss: 1.3353 - accuracy: 0.5889 - val_loss: 1.3169 - val_accuracy: 0.5556 - 30ms/epoch - 3ms/step\n",
      "Epoch 74/300\n",
      "9/9 - 0s - loss: 1.3409 - accuracy: 0.6111 - val_loss: 1.3080 - val_accuracy: 0.6667 - 29ms/epoch - 3ms/step\n",
      "Epoch 75/300\n",
      "9/9 - 0s - loss: 1.3353 - accuracy: 0.5444 - val_loss: 1.3017 - val_accuracy: 0.7778 - 30ms/epoch - 3ms/step\n",
      "Epoch 76/300\n",
      "9/9 - 0s - loss: 1.3251 - accuracy: 0.6667 - val_loss: 1.2917 - val_accuracy: 0.6667 - 30ms/epoch - 3ms/step\n",
      "Epoch 77/300\n",
      "9/9 - 0s - loss: 1.3109 - accuracy: 0.6444 - val_loss: 1.2834 - val_accuracy: 0.6667 - 30ms/epoch - 3ms/step\n",
      "Epoch 78/300\n",
      "9/9 - 0s - loss: 1.3008 - accuracy: 0.6000 - val_loss: 1.2744 - val_accuracy: 0.6667 - 31ms/epoch - 3ms/step\n",
      "Epoch 79/300\n",
      "9/9 - 0s - loss: 1.3042 - accuracy: 0.6111 - val_loss: 1.2664 - val_accuracy: 0.6667 - 18ms/epoch - 2ms/step\n",
      "Epoch 80/300\n",
      "9/9 - 0s - loss: 1.2796 - accuracy: 0.6556 - val_loss: 1.2581 - val_accuracy: 0.6667 - 33ms/epoch - 4ms/step\n",
      "Epoch 81/300\n",
      "9/9 - 0s - loss: 1.2755 - accuracy: 0.6111 - val_loss: 1.2506 - val_accuracy: 0.6667 - 33ms/epoch - 4ms/step\n",
      "Epoch 82/300\n",
      "9/9 - 0s - loss: 1.2801 - accuracy: 0.6000 - val_loss: 1.2433 - val_accuracy: 0.6667 - 39ms/epoch - 4ms/step\n",
      "Epoch 83/300\n",
      "9/9 - 0s - loss: 1.2699 - accuracy: 0.6222 - val_loss: 1.2355 - val_accuracy: 0.7778 - 30ms/epoch - 3ms/step\n",
      "Epoch 84/300\n",
      "9/9 - 0s - loss: 1.2562 - accuracy: 0.6556 - val_loss: 1.2278 - val_accuracy: 0.6667 - 29ms/epoch - 3ms/step\n",
      "Epoch 85/300\n",
      "9/9 - 0s - loss: 1.2514 - accuracy: 0.7333 - val_loss: 1.2199 - val_accuracy: 0.7778 - 31ms/epoch - 3ms/step\n",
      "Epoch 86/300\n",
      "9/9 - 0s - loss: 1.2356 - accuracy: 0.7333 - val_loss: 1.2122 - val_accuracy: 0.7778 - 29ms/epoch - 3ms/step\n",
      "Epoch 87/300\n",
      "9/9 - 0s - loss: 1.2255 - accuracy: 0.6889 - val_loss: 1.2090 - val_accuracy: 0.6667 - 30ms/epoch - 3ms/step\n",
      "Epoch 88/300\n",
      "9/9 - 0s - loss: 1.2255 - accuracy: 0.6444 - val_loss: 1.1978 - val_accuracy: 0.7778 - 18ms/epoch - 2ms/step\n",
      "Epoch 89/300\n",
      "9/9 - 0s - loss: 1.2193 - accuracy: 0.7333 - val_loss: 1.1914 - val_accuracy: 0.8889 - 19ms/epoch - 2ms/step\n",
      "Epoch 90/300\n",
      "9/9 - 0s - loss: 1.2096 - accuracy: 0.6667 - val_loss: 1.1839 - val_accuracy: 0.7778 - 33ms/epoch - 4ms/step\n",
      "Epoch 91/300\n",
      "9/9 - 0s - loss: 1.2023 - accuracy: 0.7000 - val_loss: 1.1785 - val_accuracy: 0.7778 - 39ms/epoch - 4ms/step\n",
      "Epoch 92/300\n",
      "9/9 - 0s - loss: 1.1998 - accuracy: 0.6556 - val_loss: 1.1703 - val_accuracy: 0.7778 - 29ms/epoch - 3ms/step\n",
      "Epoch 93/300\n",
      "9/9 - 0s - loss: 1.1935 - accuracy: 0.7222 - val_loss: 1.1654 - val_accuracy: 0.7778 - 28ms/epoch - 3ms/step\n",
      "Epoch 94/300\n",
      "9/9 - 0s - loss: 1.1862 - accuracy: 0.7111 - val_loss: 1.1574 - val_accuracy: 0.6667 - 30ms/epoch - 3ms/step\n",
      "Epoch 95/300\n",
      "9/9 - 0s - loss: 1.1809 - accuracy: 0.5889 - val_loss: 1.1502 - val_accuracy: 0.7778 - 29ms/epoch - 3ms/step\n",
      "Epoch 96/300\n",
      "9/9 - 0s - loss: 1.1654 - accuracy: 0.7667 - val_loss: 1.1448 - val_accuracy: 0.7778 - 17ms/epoch - 2ms/step\n",
      "Epoch 97/300\n",
      "9/9 - 0s - loss: 1.1712 - accuracy: 0.6667 - val_loss: 1.1378 - val_accuracy: 0.8889 - 19ms/epoch - 2ms/step\n",
      "Epoch 98/300\n",
      "9/9 - 0s - loss: 1.1637 - accuracy: 0.7222 - val_loss: 1.1302 - val_accuracy: 0.7778 - 19ms/epoch - 2ms/step\n",
      "Epoch 99/300\n",
      "9/9 - 0s - loss: 1.1557 - accuracy: 0.7333 - val_loss: 1.1240 - val_accuracy: 0.8889 - 33ms/epoch - 4ms/step\n",
      "Epoch 100/300\n",
      "9/9 - 0s - loss: 1.1483 - accuracy: 0.7000 - val_loss: 1.1174 - val_accuracy: 0.8889 - 39ms/epoch - 4ms/step\n",
      "Epoch 101/300\n",
      "9/9 - 0s - loss: 1.1412 - accuracy: 0.7444 - val_loss: 1.1115 - val_accuracy: 0.7778 - 30ms/epoch - 3ms/step\n",
      "Epoch 102/300\n",
      "9/9 - 0s - loss: 1.1324 - accuracy: 0.7667 - val_loss: 1.1047 - val_accuracy: 0.7778 - 30ms/epoch - 3ms/step\n",
      "Epoch 103/300\n",
      "9/9 - 0s - loss: 1.1332 - accuracy: 0.7778 - val_loss: 1.0994 - val_accuracy: 0.7778 - 30ms/epoch - 3ms/step\n",
      "Epoch 104/300\n",
      "9/9 - 0s - loss: 1.1203 - accuracy: 0.7444 - val_loss: 1.0925 - val_accuracy: 0.8889 - 30ms/epoch - 3ms/step\n",
      "Epoch 105/300\n",
      "9/9 - 0s - loss: 1.1229 - accuracy: 0.6889 - val_loss: 1.0888 - val_accuracy: 0.8889 - 30ms/epoch - 3ms/step\n",
      "Epoch 106/300\n",
      "9/9 - 0s - loss: 1.1046 - accuracy: 0.8333 - val_loss: 1.0830 - val_accuracy: 0.7778 - 37ms/epoch - 4ms/step\n",
      "Epoch 107/300\n",
      "9/9 - 0s - loss: 1.1061 - accuracy: 0.7667 - val_loss: 1.0756 - val_accuracy: 0.7778 - 30ms/epoch - 3ms/step\n",
      "Epoch 108/300\n",
      "9/9 - 0s - loss: 1.0944 - accuracy: 0.7556 - val_loss: 1.0687 - val_accuracy: 0.7778 - 30ms/epoch - 3ms/step\n",
      "Epoch 109/300\n",
      "9/9 - 0s - loss: 1.0965 - accuracy: 0.7111 - val_loss: 1.0654 - val_accuracy: 0.7778 - 30ms/epoch - 3ms/step\n",
      "Epoch 110/300\n",
      "9/9 - 0s - loss: 1.0838 - accuracy: 0.8222 - val_loss: 1.0577 - val_accuracy: 0.7778 - 30ms/epoch - 3ms/step\n",
      "Epoch 111/300\n",
      "9/9 - 0s - loss: 1.0782 - accuracy: 0.8000 - val_loss: 1.0541 - val_accuracy: 0.8889 - 17ms/epoch - 2ms/step\n",
      "Epoch 112/300\n",
      "9/9 - 0s - loss: 1.0798 - accuracy: 0.7444 - val_loss: 1.0461 - val_accuracy: 0.7778 - 19ms/epoch - 2ms/step\n",
      "Epoch 113/300\n",
      "9/9 - 0s - loss: 1.0758 - accuracy: 0.8000 - val_loss: 1.0445 - val_accuracy: 0.7778 - 20ms/epoch - 2ms/step\n",
      "Epoch 114/300\n",
      "9/9 - 0s - loss: 1.0646 - accuracy: 0.8000 - val_loss: 1.0378 - val_accuracy: 0.8889 - 40ms/epoch - 4ms/step\n",
      "Epoch 115/300\n",
      "9/9 - 0s - loss: 1.0684 - accuracy: 0.7778 - val_loss: 1.0333 - val_accuracy: 0.8889 - 29ms/epoch - 3ms/step\n",
      "Epoch 116/300\n",
      "9/9 - 0s - loss: 1.0517 - accuracy: 0.7889 - val_loss: 1.0247 - val_accuracy: 0.8889 - 29ms/epoch - 3ms/step\n",
      "Epoch 117/300\n",
      "9/9 - 0s - loss: 1.0478 - accuracy: 0.7667 - val_loss: 1.0197 - val_accuracy: 0.7778 - 30ms/epoch - 3ms/step\n",
      "Epoch 118/300\n",
      "9/9 - 0s - loss: 1.0410 - accuracy: 0.7111 - val_loss: 1.0142 - val_accuracy: 0.7778 - 29ms/epoch - 3ms/step\n",
      "Epoch 119/300\n",
      "9/9 - 0s - loss: 1.0445 - accuracy: 0.6889 - val_loss: 1.0084 - val_accuracy: 0.7778 - 32ms/epoch - 4ms/step\n",
      "Epoch 120/300\n",
      "9/9 - 0s - loss: 1.0368 - accuracy: 0.7556 - val_loss: 1.0024 - val_accuracy: 0.8889 - 32ms/epoch - 4ms/step\n",
      "Epoch 121/300\n",
      "9/9 - 0s - loss: 1.0306 - accuracy: 0.8333 - val_loss: 0.9965 - val_accuracy: 0.7778 - 31ms/epoch - 3ms/step\n",
      "Epoch 122/300\n",
      "9/9 - 0s - loss: 1.0299 - accuracy: 0.7222 - val_loss: 0.9919 - val_accuracy: 0.8889 - 29ms/epoch - 3ms/step\n",
      "Epoch 123/300\n",
      "9/9 - 0s - loss: 1.0303 - accuracy: 0.8111 - val_loss: 0.9886 - val_accuracy: 0.8889 - 32ms/epoch - 4ms/step\n",
      "Epoch 124/300\n",
      "9/9 - 0s - loss: 1.0109 - accuracy: 0.8667 - val_loss: 0.9818 - val_accuracy: 1.0000 - 31ms/epoch - 3ms/step\n",
      "Epoch 125/300\n",
      "9/9 - 0s - loss: 1.0070 - accuracy: 0.8111 - val_loss: 0.9792 - val_accuracy: 0.8889 - 30ms/epoch - 3ms/step\n",
      "Epoch 126/300\n",
      "9/9 - 0s - loss: 1.0046 - accuracy: 0.8444 - val_loss: 0.9772 - val_accuracy: 0.7778 - 31ms/epoch - 3ms/step\n",
      "Epoch 127/300\n",
      "9/9 - 0s - loss: 0.9962 - accuracy: 0.7889 - val_loss: 0.9680 - val_accuracy: 0.8889 - 32ms/epoch - 4ms/step\n",
      "Epoch 128/300\n",
      "9/9 - 0s - loss: 0.9965 - accuracy: 0.7444 - val_loss: 0.9618 - val_accuracy: 0.8889 - 31ms/epoch - 3ms/step\n",
      "Epoch 129/300\n",
      "9/9 - 0s - loss: 0.9863 - accuracy: 0.8778 - val_loss: 0.9576 - val_accuracy: 0.8889 - 29ms/epoch - 3ms/step\n",
      "Epoch 130/300\n",
      "9/9 - 0s - loss: 0.9798 - accuracy: 0.8444 - val_loss: 0.9509 - val_accuracy: 0.8889 - 25ms/epoch - 3ms/step\n",
      "Epoch 131/300\n",
      "9/9 - 0s - loss: 0.9708 - accuracy: 0.8444 - val_loss: 0.9466 - val_accuracy: 0.8889 - 35ms/epoch - 4ms/step\n",
      "Epoch 132/300\n",
      "9/9 - 0s - loss: 0.9669 - accuracy: 0.8667 - val_loss: 0.9461 - val_accuracy: 0.8889 - 30ms/epoch - 3ms/step\n",
      "Epoch 133/300\n",
      "9/9 - 0s - loss: 0.9641 - accuracy: 0.7222 - val_loss: 0.9363 - val_accuracy: 0.8889 - 30ms/epoch - 3ms/step\n",
      "Epoch 134/300\n",
      "9/9 - 0s - loss: 0.9569 - accuracy: 0.8111 - val_loss: 0.9308 - val_accuracy: 1.0000 - 30ms/epoch - 3ms/step\n",
      "Epoch 135/300\n",
      "9/9 - 0s - loss: 0.9608 - accuracy: 0.8111 - val_loss: 0.9283 - val_accuracy: 0.8889 - 30ms/epoch - 3ms/step\n"
     ]
    },
    {
     "name": "stdout",
     "output_type": "stream",
     "text": [
      "Epoch 136/300\n",
      "9/9 - 0s - loss: 0.9509 - accuracy: 0.8333 - val_loss: 0.9219 - val_accuracy: 0.7778 - 18ms/epoch - 2ms/step\n",
      "Epoch 137/300\n",
      "9/9 - 0s - loss: 0.9399 - accuracy: 0.7889 - val_loss: 0.9194 - val_accuracy: 0.8889 - 20ms/epoch - 2ms/step\n",
      "Epoch 138/300\n",
      "9/9 - 0s - loss: 0.9398 - accuracy: 0.7889 - val_loss: 0.9146 - val_accuracy: 1.0000 - 41ms/epoch - 5ms/step\n",
      "Epoch 139/300\n",
      "9/9 - 0s - loss: 0.9436 - accuracy: 0.8889 - val_loss: 0.9076 - val_accuracy: 0.8889 - 29ms/epoch - 3ms/step\n",
      "Epoch 140/300\n",
      "9/9 - 0s - loss: 0.9322 - accuracy: 0.8444 - val_loss: 0.9047 - val_accuracy: 0.7778 - 30ms/epoch - 3ms/step\n",
      "Epoch 141/300\n",
      "9/9 - 0s - loss: 0.9302 - accuracy: 0.8778 - val_loss: 0.9000 - val_accuracy: 0.7778 - 30ms/epoch - 3ms/step\n",
      "Epoch 142/300\n",
      "9/9 - 0s - loss: 0.9193 - accuracy: 0.8000 - val_loss: 0.8966 - val_accuracy: 0.8889 - 30ms/epoch - 3ms/step\n",
      "Epoch 143/300\n",
      "9/9 - 0s - loss: 0.9150 - accuracy: 0.8667 - val_loss: 0.8918 - val_accuracy: 0.8889 - 30ms/epoch - 3ms/step\n",
      "Epoch 144/300\n",
      "9/9 - 0s - loss: 0.9077 - accuracy: 0.8222 - val_loss: 0.8892 - val_accuracy: 1.0000 - 17ms/epoch - 2ms/step\n",
      "Epoch 145/300\n",
      "9/9 - 0s - loss: 0.9031 - accuracy: 0.8778 - val_loss: 0.8798 - val_accuracy: 0.8889 - 19ms/epoch - 2ms/step\n",
      "Epoch 146/300\n",
      "9/9 - 0s - loss: 0.9146 - accuracy: 0.8222 - val_loss: 0.8778 - val_accuracy: 0.8889 - 33ms/epoch - 4ms/step\n",
      "Epoch 147/300\n",
      "9/9 - 0s - loss: 0.8976 - accuracy: 0.7889 - val_loss: 0.8710 - val_accuracy: 0.8889 - 45ms/epoch - 5ms/step\n",
      "Epoch 148/300\n",
      "9/9 - 0s - loss: 0.8958 - accuracy: 0.7889 - val_loss: 0.8692 - val_accuracy: 0.8889 - 25ms/epoch - 3ms/step\n",
      "Epoch 149/300\n",
      "9/9 - 0s - loss: 0.9007 - accuracy: 0.8333 - val_loss: 0.8680 - val_accuracy: 1.0000 - 34ms/epoch - 4ms/step\n",
      "Epoch 150/300\n",
      "9/9 - 0s - loss: 0.8815 - accuracy: 0.8889 - val_loss: 0.8613 - val_accuracy: 0.8889 - 30ms/epoch - 3ms/step\n",
      "Epoch 151/300\n",
      "9/9 - 0s - loss: 0.8765 - accuracy: 0.9000 - val_loss: 0.8553 - val_accuracy: 0.7778 - 30ms/epoch - 3ms/step\n",
      "Epoch 152/300\n",
      "9/9 - 0s - loss: 0.8783 - accuracy: 0.8556 - val_loss: 0.8494 - val_accuracy: 1.0000 - 29ms/epoch - 3ms/step\n",
      "Epoch 153/300\n",
      "9/9 - 0s - loss: 0.8657 - accuracy: 0.9000 - val_loss: 0.8459 - val_accuracy: 0.8889 - 30ms/epoch - 3ms/step\n",
      "Epoch 154/300\n",
      "9/9 - 0s - loss: 0.8580 - accuracy: 0.8778 - val_loss: 0.8448 - val_accuracy: 0.8889 - 30ms/epoch - 3ms/step\n",
      "Epoch 155/300\n",
      "9/9 - 0s - loss: 0.8638 - accuracy: 0.8889 - val_loss: 0.8361 - val_accuracy: 0.8889 - 17ms/epoch - 2ms/step\n",
      "Epoch 156/300\n",
      "9/9 - 0s - loss: 0.8565 - accuracy: 0.9222 - val_loss: 0.8324 - val_accuracy: 1.0000 - 19ms/epoch - 2ms/step\n",
      "Epoch 157/300\n",
      "9/9 - 0s - loss: 0.8577 - accuracy: 0.8444 - val_loss: 0.8278 - val_accuracy: 0.8889 - 34ms/epoch - 4ms/step\n",
      "Epoch 158/300\n",
      "9/9 - 0s - loss: 0.8619 - accuracy: 0.8222 - val_loss: 0.8357 - val_accuracy: 0.7778 - 39ms/epoch - 4ms/step\n",
      "Epoch 159/300\n",
      "9/9 - 0s - loss: 0.8587 - accuracy: 0.7667 - val_loss: 0.8174 - val_accuracy: 0.8889 - 30ms/epoch - 3ms/step\n",
      "Epoch 160/300\n",
      "9/9 - 0s - loss: 0.8475 - accuracy: 0.8889 - val_loss: 0.8149 - val_accuracy: 1.0000 - 30ms/epoch - 3ms/step\n",
      "Epoch 161/300\n",
      "9/9 - 0s - loss: 0.8417 - accuracy: 0.8778 - val_loss: 0.8244 - val_accuracy: 0.8889 - 29ms/epoch - 3ms/step\n",
      "Epoch 162/300\n",
      "9/9 - 0s - loss: 0.8449 - accuracy: 0.8778 - val_loss: 0.8062 - val_accuracy: 0.8889 - 31ms/epoch - 3ms/step\n",
      "Epoch 163/300\n",
      "9/9 - 0s - loss: 0.8250 - accuracy: 0.8556 - val_loss: 0.8057 - val_accuracy: 0.8889 - 30ms/epoch - 3ms/step\n",
      "Epoch 164/300\n",
      "9/9 - 0s - loss: 0.8254 - accuracy: 0.8222 - val_loss: 0.7992 - val_accuracy: 1.0000 - 17ms/epoch - 2ms/step\n",
      "Epoch 165/300\n",
      "9/9 - 0s - loss: 0.8392 - accuracy: 0.8667 - val_loss: 0.7967 - val_accuracy: 0.8889 - 19ms/epoch - 2ms/step\n",
      "Epoch 166/300\n",
      "9/9 - 0s - loss: 0.8332 - accuracy: 0.7778 - val_loss: 0.7929 - val_accuracy: 0.8889 - 34ms/epoch - 4ms/step\n",
      "Epoch 167/300\n",
      "9/9 - 0s - loss: 0.8277 - accuracy: 0.8778 - val_loss: 0.7893 - val_accuracy: 0.8889 - 40ms/epoch - 4ms/step\n",
      "Epoch 168/300\n",
      "9/9 - 0s - loss: 0.8137 - accuracy: 0.8444 - val_loss: 0.7847 - val_accuracy: 0.8889 - 24ms/epoch - 3ms/step\n",
      "Epoch 169/300\n",
      "9/9 - 0s - loss: 0.8075 - accuracy: 0.8889 - val_loss: 0.7929 - val_accuracy: 0.8889 - 37ms/epoch - 4ms/step\n",
      "Epoch 170/300\n",
      "9/9 - 0s - loss: 0.8022 - accuracy: 0.9000 - val_loss: 0.7761 - val_accuracy: 0.8889 - 31ms/epoch - 3ms/step\n",
      "Epoch 171/300\n",
      "9/9 - 0s - loss: 0.7946 - accuracy: 0.8444 - val_loss: 0.7680 - val_accuracy: 0.8889 - 30ms/epoch - 3ms/step\n",
      "Epoch 172/300\n",
      "9/9 - 0s - loss: 0.7964 - accuracy: 0.8778 - val_loss: 0.7665 - val_accuracy: 0.8889 - 32ms/epoch - 4ms/step\n",
      "Epoch 173/300\n",
      "9/9 - 0s - loss: 0.7865 - accuracy: 0.9000 - val_loss: 0.7632 - val_accuracy: 0.8889 - 30ms/epoch - 3ms/step\n",
      "Epoch 174/300\n",
      "9/9 - 0s - loss: 0.7861 - accuracy: 0.8556 - val_loss: 0.7626 - val_accuracy: 1.0000 - 30ms/epoch - 3ms/step\n",
      "Epoch 175/300\n",
      "9/9 - 0s - loss: 0.7820 - accuracy: 0.8889 - val_loss: 0.7549 - val_accuracy: 1.0000 - 18ms/epoch - 2ms/step\n",
      "Epoch 176/300\n",
      "9/9 - 0s - loss: 0.7869 - accuracy: 0.8889 - val_loss: 0.7662 - val_accuracy: 1.0000 - 33ms/epoch - 4ms/step\n",
      "Epoch 177/300\n",
      "9/9 - 0s - loss: 0.7873 - accuracy: 0.9778 - val_loss: 0.7482 - val_accuracy: 0.8889 - 41ms/epoch - 5ms/step\n",
      "Epoch 178/300\n",
      "9/9 - 0s - loss: 0.7779 - accuracy: 0.8667 - val_loss: 0.7467 - val_accuracy: 0.8889 - 25ms/epoch - 3ms/step\n",
      "Epoch 179/300\n",
      "9/9 - 0s - loss: 0.7523 - accuracy: 0.9111 - val_loss: 0.7511 - val_accuracy: 0.8889 - 19ms/epoch - 2ms/step\n",
      "Epoch 180/300\n",
      "9/9 - 0s - loss: 0.7675 - accuracy: 0.8889 - val_loss: 0.7342 - val_accuracy: 1.0000 - 33ms/epoch - 4ms/step\n",
      "Epoch 181/300\n",
      "9/9 - 0s - loss: 0.7679 - accuracy: 0.8667 - val_loss: 0.7317 - val_accuracy: 1.0000 - 39ms/epoch - 4ms/step\n",
      "Epoch 182/300\n",
      "9/9 - 0s - loss: 0.7445 - accuracy: 0.9222 - val_loss: 0.7448 - val_accuracy: 0.8889 - 36ms/epoch - 4ms/step\n",
      "Epoch 183/300\n",
      "9/9 - 0s - loss: 0.7585 - accuracy: 0.8667 - val_loss: 0.7244 - val_accuracy: 0.8889 - 36ms/epoch - 4ms/step\n",
      "Epoch 184/300\n",
      "9/9 - 0s - loss: 0.7421 - accuracy: 0.9000 - val_loss: 0.7206 - val_accuracy: 1.0000 - 36ms/epoch - 4ms/step\n",
      "Epoch 185/300\n",
      "9/9 - 0s - loss: 0.7525 - accuracy: 0.8889 - val_loss: 0.7263 - val_accuracy: 0.8889 - 34ms/epoch - 4ms/step\n",
      "Epoch 186/300\n",
      "9/9 - 0s - loss: 0.7439 - accuracy: 0.9556 - val_loss: 0.7193 - val_accuracy: 0.8889 - 33ms/epoch - 4ms/step\n",
      "Epoch 187/300\n",
      "9/9 - 0s - loss: 0.7348 - accuracy: 0.9000 - val_loss: 0.7092 - val_accuracy: 1.0000 - 59ms/epoch - 7ms/step\n",
      "Epoch 188/300\n",
      "9/9 - 0s - loss: 0.7612 - accuracy: 0.8111 - val_loss: 0.7075 - val_accuracy: 0.8889 - 42ms/epoch - 5ms/step\n",
      "Epoch 189/300\n",
      "9/9 - 0s - loss: 0.7339 - accuracy: 0.8667 - val_loss: 0.7033 - val_accuracy: 0.8889 - 40ms/epoch - 4ms/step\n",
      "Epoch 190/300\n",
      "9/9 - 0s - loss: 0.7183 - accuracy: 0.8889 - val_loss: 0.7062 - val_accuracy: 0.7778 - 40ms/epoch - 4ms/step\n",
      "Epoch 191/300\n",
      "9/9 - 0s - loss: 0.7255 - accuracy: 0.8333 - val_loss: 0.7013 - val_accuracy: 1.0000 - 28ms/epoch - 3ms/step\n",
      "Epoch 192/300\n",
      "9/9 - 0s - loss: 0.7190 - accuracy: 0.9222 - val_loss: 0.6919 - val_accuracy: 1.0000 - 30ms/epoch - 3ms/step\n",
      "Epoch 193/300\n",
      "9/9 - 0s - loss: 0.7203 - accuracy: 0.9000 - val_loss: 0.6864 - val_accuracy: 1.0000 - 30ms/epoch - 3ms/step\n",
      "Epoch 194/300\n",
      "9/9 - 0s - loss: 0.7136 - accuracy: 0.9000 - val_loss: 0.6978 - val_accuracy: 0.8889 - 30ms/epoch - 3ms/step\n",
      "Epoch 195/300\n",
      "9/9 - 0s - loss: 0.7277 - accuracy: 0.8444 - val_loss: 0.6863 - val_accuracy: 0.8889 - 39ms/epoch - 4ms/step\n",
      "Epoch 196/300\n",
      "9/9 - 0s - loss: 0.7019 - accuracy: 0.9000 - val_loss: 0.6809 - val_accuracy: 1.0000 - 30ms/epoch - 3ms/step\n",
      "Epoch 197/300\n",
      "9/9 - 0s - loss: 0.6964 - accuracy: 0.9111 - val_loss: 0.6724 - val_accuracy: 0.8889 - 29ms/epoch - 3ms/step\n",
      "Epoch 198/300\n",
      "9/9 - 0s - loss: 0.7068 - accuracy: 0.9111 - val_loss: 0.6791 - val_accuracy: 1.0000 - 29ms/epoch - 3ms/step\n",
      "Epoch 199/300\n",
      "9/9 - 0s - loss: 0.6925 - accuracy: 0.9333 - val_loss: 0.6798 - val_accuracy: 0.8889 - 19ms/epoch - 2ms/step\n",
      "Epoch 200/300\n",
      "9/9 - 0s - loss: 0.6852 - accuracy: 0.8667 - val_loss: 0.6767 - val_accuracy: 0.8889 - 41ms/epoch - 5ms/step\n",
      "Epoch 201/300\n",
      "9/9 - 0s - loss: 0.6908 - accuracy: 0.9000 - val_loss: 0.6582 - val_accuracy: 1.0000 - 30ms/epoch - 3ms/step\n",
      "Epoch 202/300\n",
      "9/9 - 0s - loss: 0.6944 - accuracy: 0.9000 - val_loss: 0.6561 - val_accuracy: 1.0000 - 30ms/epoch - 3ms/step\n"
     ]
    },
    {
     "name": "stdout",
     "output_type": "stream",
     "text": [
      "Epoch 203/300\n",
      "9/9 - 0s - loss: 0.6851 - accuracy: 0.9556 - val_loss: 0.6570 - val_accuracy: 0.8889 - 30ms/epoch - 3ms/step\n",
      "Epoch 204/300\n",
      "9/9 - 0s - loss: 0.7014 - accuracy: 0.8556 - val_loss: 0.6510 - val_accuracy: 1.0000 - 29ms/epoch - 3ms/step\n",
      "Epoch 205/300\n",
      "9/9 - 0s - loss: 0.6713 - accuracy: 0.9778 - val_loss: 0.6500 - val_accuracy: 0.8889 - 31ms/epoch - 3ms/step\n",
      "Epoch 206/300\n",
      "9/9 - 0s - loss: 0.6691 - accuracy: 0.9000 - val_loss: 0.6486 - val_accuracy: 0.8889 - 29ms/epoch - 3ms/step\n",
      "Epoch 207/300\n",
      "9/9 - 0s - loss: 0.6762 - accuracy: 0.8889 - val_loss: 0.6425 - val_accuracy: 1.0000 - 19ms/epoch - 2ms/step\n",
      "Epoch 208/300\n",
      "9/9 - 0s - loss: 0.6620 - accuracy: 0.9556 - val_loss: 0.6360 - val_accuracy: 1.0000 - 39ms/epoch - 4ms/step\n",
      "Epoch 209/300\n",
      "9/9 - 0s - loss: 0.6686 - accuracy: 0.8889 - val_loss: 0.6392 - val_accuracy: 0.8889 - 29ms/epoch - 3ms/step\n",
      "Epoch 210/300\n",
      "9/9 - 0s - loss: 0.6678 - accuracy: 0.9111 - val_loss: 0.6308 - val_accuracy: 1.0000 - 29ms/epoch - 3ms/step\n",
      "Epoch 211/300\n",
      "9/9 - 0s - loss: 0.6591 - accuracy: 0.9444 - val_loss: 0.6260 - val_accuracy: 1.0000 - 29ms/epoch - 3ms/step\n",
      "Epoch 212/300\n",
      "9/9 - 0s - loss: 0.6481 - accuracy: 0.9556 - val_loss: 0.6229 - val_accuracy: 1.0000 - 29ms/epoch - 3ms/step\n",
      "Epoch 213/300\n",
      "9/9 - 0s - loss: 0.6616 - accuracy: 0.8444 - val_loss: 0.6271 - val_accuracy: 1.0000 - 28ms/epoch - 3ms/step\n",
      "Epoch 214/300\n",
      "9/9 - 0s - loss: 0.6427 - accuracy: 0.9000 - val_loss: 0.6321 - val_accuracy: 0.8889 - 19ms/epoch - 2ms/step\n",
      "Epoch 215/300\n",
      "9/9 - 0s - loss: 0.6520 - accuracy: 0.9000 - val_loss: 0.6130 - val_accuracy: 1.0000 - 39ms/epoch - 4ms/step\n",
      "Epoch 216/300\n",
      "9/9 - 0s - loss: 0.6347 - accuracy: 0.9222 - val_loss: 0.6160 - val_accuracy: 0.8889 - 30ms/epoch - 3ms/step\n",
      "Epoch 217/300\n",
      "9/9 - 0s - loss: 0.6297 - accuracy: 0.8889 - val_loss: 0.6127 - val_accuracy: 1.0000 - 29ms/epoch - 3ms/step\n",
      "Epoch 218/300\n",
      "9/9 - 0s - loss: 0.6337 - accuracy: 0.9333 - val_loss: 0.6119 - val_accuracy: 0.8889 - 30ms/epoch - 3ms/step\n",
      "Epoch 219/300\n",
      "9/9 - 0s - loss: 0.6368 - accuracy: 0.8556 - val_loss: 0.6122 - val_accuracy: 1.0000 - 28ms/epoch - 3ms/step\n",
      "Epoch 220/300\n",
      "9/9 - 0s - loss: 0.6348 - accuracy: 0.9444 - val_loss: 0.5984 - val_accuracy: 1.0000 - 18ms/epoch - 2ms/step\n",
      "Epoch 221/300\n",
      "9/9 - 0s - loss: 0.6163 - accuracy: 0.9556 - val_loss: 0.5926 - val_accuracy: 1.0000 - 29ms/epoch - 3ms/step\n",
      "Epoch 222/300\n",
      "9/9 - 0s - loss: 0.6259 - accuracy: 0.9444 - val_loss: 0.5968 - val_accuracy: 0.8889 - 22ms/epoch - 2ms/step\n",
      "Epoch 223/300\n",
      "9/9 - 0s - loss: 0.6348 - accuracy: 0.9111 - val_loss: 0.5933 - val_accuracy: 1.0000 - 40ms/epoch - 4ms/step\n",
      "Epoch 224/300\n",
      "9/9 - 0s - loss: 0.6174 - accuracy: 0.9556 - val_loss: 0.5835 - val_accuracy: 1.0000 - 30ms/epoch - 3ms/step\n",
      "Epoch 225/300\n",
      "9/9 - 0s - loss: 0.6090 - accuracy: 0.9333 - val_loss: 0.5890 - val_accuracy: 1.0000 - 31ms/epoch - 3ms/step\n",
      "Epoch 226/300\n",
      "9/9 - 0s - loss: 0.6077 - accuracy: 0.8778 - val_loss: 0.6200 - val_accuracy: 0.7778 - 32ms/epoch - 4ms/step\n",
      "Epoch 227/300\n",
      "9/9 - 0s - loss: 0.6116 - accuracy: 0.8556 - val_loss: 0.5934 - val_accuracy: 1.0000 - 31ms/epoch - 3ms/step\n",
      "Epoch 228/300\n",
      "9/9 - 0s - loss: 0.6163 - accuracy: 0.8889 - val_loss: 0.5922 - val_accuracy: 0.8889 - 31ms/epoch - 3ms/step\n",
      "Epoch 229/300\n",
      "9/9 - 0s - loss: 0.6280 - accuracy: 0.8889 - val_loss: 0.5681 - val_accuracy: 1.0000 - 31ms/epoch - 3ms/step\n",
      "Epoch 230/300\n",
      "9/9 - 0s - loss: 0.6014 - accuracy: 0.9444 - val_loss: 0.5644 - val_accuracy: 1.0000 - 31ms/epoch - 3ms/step\n",
      "Epoch 231/300\n",
      "9/9 - 0s - loss: 0.5876 - accuracy: 0.9667 - val_loss: 0.5669 - val_accuracy: 1.0000 - 29ms/epoch - 3ms/step\n",
      "Epoch 232/300\n",
      "9/9 - 0s - loss: 0.5867 - accuracy: 0.9556 - val_loss: 0.5583 - val_accuracy: 1.0000 - 28ms/epoch - 3ms/step\n",
      "Epoch 233/300\n",
      "9/9 - 0s - loss: 0.5787 - accuracy: 1.0000 - val_loss: 0.5646 - val_accuracy: 1.0000 - 19ms/epoch - 2ms/step\n",
      "Epoch 234/300\n",
      "9/9 - 0s - loss: 0.5892 - accuracy: 0.8889 - val_loss: 0.5555 - val_accuracy: 1.0000 - 54ms/epoch - 6ms/step\n",
      "Epoch 235/300\n",
      "9/9 - 0s - loss: 0.5705 - accuracy: 0.9556 - val_loss: 0.5489 - val_accuracy: 1.0000 - 46ms/epoch - 5ms/step\n",
      "Epoch 236/300\n",
      "9/9 - 0s - loss: 0.5779 - accuracy: 0.9667 - val_loss: 0.5467 - val_accuracy: 1.0000 - 41ms/epoch - 5ms/step\n",
      "Epoch 237/300\n",
      "9/9 - 0s - loss: 0.5681 - accuracy: 0.9333 - val_loss: 0.5534 - val_accuracy: 0.8889 - 38ms/epoch - 4ms/step\n",
      "Epoch 238/300\n",
      "9/9 - 0s - loss: 0.5813 - accuracy: 0.8778 - val_loss: 0.5488 - val_accuracy: 0.8889 - 43ms/epoch - 5ms/step\n",
      "Epoch 239/300\n",
      "9/9 - 0s - loss: 0.5496 - accuracy: 0.9222 - val_loss: 0.5679 - val_accuracy: 0.8889 - 54ms/epoch - 6ms/step\n",
      "Epoch 240/300\n",
      "9/9 - 0s - loss: 0.5649 - accuracy: 0.9778 - val_loss: 0.5425 - val_accuracy: 1.0000 - 42ms/epoch - 5ms/step\n",
      "Epoch 241/300\n",
      "9/9 - 0s - loss: 0.5822 - accuracy: 0.9556 - val_loss: 0.5355 - val_accuracy: 1.0000 - 32ms/epoch - 4ms/step\n",
      "Epoch 242/300\n",
      "9/9 - 0s - loss: 0.5678 - accuracy: 0.9222 - val_loss: 0.5550 - val_accuracy: 0.8889 - 32ms/epoch - 4ms/step\n",
      "Epoch 243/300\n",
      "9/9 - 0s - loss: 0.5747 - accuracy: 0.8889 - val_loss: 0.5384 - val_accuracy: 1.0000 - 33ms/epoch - 4ms/step\n",
      "Epoch 244/300\n",
      "9/9 - 0s - loss: 0.5752 - accuracy: 0.9778 - val_loss: 0.5314 - val_accuracy: 1.0000 - 32ms/epoch - 4ms/step\n",
      "Epoch 245/300\n",
      "9/9 - 0s - loss: 0.5422 - accuracy: 0.9333 - val_loss: 0.5217 - val_accuracy: 1.0000 - 38ms/epoch - 4ms/step\n",
      "Epoch 246/300\n",
      "9/9 - 0s - loss: 0.5574 - accuracy: 0.9333 - val_loss: 0.5312 - val_accuracy: 1.0000 - 34ms/epoch - 4ms/step\n",
      "Epoch 247/300\n",
      "9/9 - 0s - loss: 0.5545 - accuracy: 0.9444 - val_loss: 0.5242 - val_accuracy: 1.0000 - 31ms/epoch - 3ms/step\n",
      "Epoch 248/300\n",
      "9/9 - 0s - loss: 0.5509 - accuracy: 0.9111 - val_loss: 0.5189 - val_accuracy: 1.0000 - 31ms/epoch - 3ms/step\n",
      "Epoch 249/300\n",
      "9/9 - 0s - loss: 0.5575 - accuracy: 0.9111 - val_loss: 0.5480 - val_accuracy: 0.8889 - 31ms/epoch - 3ms/step\n",
      "Epoch 250/300\n",
      "9/9 - 0s - loss: 0.5467 - accuracy: 0.8889 - val_loss: 0.5242 - val_accuracy: 0.8889 - 46ms/epoch - 5ms/step\n",
      "Epoch 251/300\n",
      "9/9 - 0s - loss: 0.5349 - accuracy: 0.9444 - val_loss: 0.5204 - val_accuracy: 0.8889 - 30ms/epoch - 3ms/step\n",
      "Epoch 252/300\n",
      "9/9 - 0s - loss: 0.5415 - accuracy: 0.9556 - val_loss: 0.5033 - val_accuracy: 1.0000 - 48ms/epoch - 5ms/step\n",
      "Epoch 253/300\n",
      "9/9 - 0s - loss: 0.5375 - accuracy: 0.9000 - val_loss: 0.5151 - val_accuracy: 0.8889 - 35ms/epoch - 4ms/step\n",
      "Epoch 254/300\n",
      "9/9 - 0s - loss: 0.5337 - accuracy: 0.9667 - val_loss: 0.5037 - val_accuracy: 0.8889 - 43ms/epoch - 5ms/step\n",
      "Epoch 255/300\n",
      "9/9 - 0s - loss: 0.5289 - accuracy: 0.9333 - val_loss: 0.5011 - val_accuracy: 1.0000 - 58ms/epoch - 6ms/step\n",
      "Epoch 256/300\n",
      "9/9 - 0s - loss: 0.5298 - accuracy: 0.9667 - val_loss: 0.5110 - val_accuracy: 1.0000 - 60ms/epoch - 7ms/step\n",
      "Epoch 257/300\n",
      "9/9 - 0s - loss: 0.5421 - accuracy: 0.8778 - val_loss: 0.4988 - val_accuracy: 0.8889 - 56ms/epoch - 6ms/step\n",
      "Epoch 258/300\n",
      "9/9 - 0s - loss: 0.5401 - accuracy: 0.8889 - val_loss: 0.5161 - val_accuracy: 0.8889 - 43ms/epoch - 5ms/step\n",
      "Epoch 259/300\n",
      "9/9 - 0s - loss: 0.5338 - accuracy: 0.9444 - val_loss: 0.4958 - val_accuracy: 1.0000 - 37ms/epoch - 4ms/step\n",
      "Epoch 260/300\n",
      "9/9 - 0s - loss: 0.5051 - accuracy: 1.0000 - val_loss: 0.5016 - val_accuracy: 0.8889 - 39ms/epoch - 4ms/step\n",
      "Epoch 261/300\n",
      "9/9 - 0s - loss: 0.4926 - accuracy: 0.9778 - val_loss: 0.4804 - val_accuracy: 1.0000 - 34ms/epoch - 4ms/step\n",
      "Epoch 262/300\n",
      "9/9 - 0s - loss: 0.5238 - accuracy: 0.9667 - val_loss: 0.4788 - val_accuracy: 1.0000 - 29ms/epoch - 3ms/step\n",
      "Epoch 263/300\n",
      "9/9 - 0s - loss: 0.5193 - accuracy: 0.9333 - val_loss: 0.5176 - val_accuracy: 0.8889 - 29ms/epoch - 3ms/step\n",
      "Epoch 264/300\n",
      "9/9 - 0s - loss: 0.5207 - accuracy: 0.9333 - val_loss: 0.4850 - val_accuracy: 1.0000 - 17ms/epoch - 2ms/step\n",
      "Epoch 265/300\n",
      "9/9 - 0s - loss: 0.5146 - accuracy: 0.8889 - val_loss: 0.4864 - val_accuracy: 0.8889 - 20ms/epoch - 2ms/step\n",
      "Epoch 266/300\n",
      "9/9 - 0s - loss: 0.5163 - accuracy: 0.9333 - val_loss: 0.4694 - val_accuracy: 1.0000 - 33ms/epoch - 4ms/step\n",
      "Epoch 267/300\n",
      "9/9 - 0s - loss: 0.4868 - accuracy: 0.9667 - val_loss: 0.4645 - val_accuracy: 1.0000 - 50ms/epoch - 6ms/step\n",
      "Epoch 268/300\n",
      "9/9 - 0s - loss: 0.4834 - accuracy: 0.9222 - val_loss: 0.4809 - val_accuracy: 0.8889 - 28ms/epoch - 3ms/step\n",
      "Epoch 269/300\n",
      "9/9 - 0s - loss: 0.4993 - accuracy: 0.8889 - val_loss: 0.4779 - val_accuracy: 1.0000 - 29ms/epoch - 3ms/step\n"
     ]
    },
    {
     "name": "stdout",
     "output_type": "stream",
     "text": [
      "Epoch 270/300\n",
      "9/9 - 0s - loss: 0.5115 - accuracy: 0.9667 - val_loss: 0.4592 - val_accuracy: 1.0000 - 18ms/epoch - 2ms/step\n",
      "Epoch 271/300\n",
      "9/9 - 0s - loss: 0.4942 - accuracy: 0.9222 - val_loss: 0.4652 - val_accuracy: 1.0000 - 20ms/epoch - 2ms/step\n",
      "Epoch 272/300\n",
      "9/9 - 0s - loss: 0.4723 - accuracy: 0.9778 - val_loss: 0.4721 - val_accuracy: 0.8889 - 40ms/epoch - 4ms/step\n",
      "Epoch 273/300\n",
      "9/9 - 0s - loss: 0.4706 - accuracy: 0.9556 - val_loss: 0.4486 - val_accuracy: 1.0000 - 30ms/epoch - 3ms/step\n",
      "Epoch 274/300\n",
      "9/9 - 0s - loss: 0.4702 - accuracy: 1.0000 - val_loss: 0.4662 - val_accuracy: 0.8889 - 29ms/epoch - 3ms/step\n",
      "Epoch 275/300\n",
      "9/9 - 0s - loss: 0.4781 - accuracy: 0.9444 - val_loss: 0.4473 - val_accuracy: 1.0000 - 28ms/epoch - 3ms/step\n",
      "Epoch 276/300\n",
      "9/9 - 0s - loss: 0.4923 - accuracy: 0.9333 - val_loss: 0.4497 - val_accuracy: 1.0000 - 29ms/epoch - 3ms/step\n",
      "Epoch 277/300\n",
      "9/9 - 0s - loss: 0.4666 - accuracy: 0.9778 - val_loss: 0.5079 - val_accuracy: 0.7778 - 30ms/epoch - 3ms/step\n",
      "Epoch 278/300\n",
      "9/9 - 0s - loss: 0.4948 - accuracy: 0.9222 - val_loss: 0.4433 - val_accuracy: 1.0000 - 31ms/epoch - 3ms/step\n",
      "Epoch 279/300\n",
      "9/9 - 0s - loss: 0.4546 - accuracy: 0.9667 - val_loss: 0.4328 - val_accuracy: 1.0000 - 50ms/epoch - 6ms/step\n",
      "Epoch 280/300\n",
      "9/9 - 0s - loss: 0.4615 - accuracy: 0.9667 - val_loss: 0.4436 - val_accuracy: 1.0000 - 29ms/epoch - 3ms/step\n",
      "Epoch 281/300\n",
      "9/9 - 0s - loss: 0.4526 - accuracy: 0.9889 - val_loss: 0.4300 - val_accuracy: 1.0000 - 31ms/epoch - 3ms/step\n",
      "Epoch 282/300\n",
      "9/9 - 0s - loss: 0.4537 - accuracy: 1.0000 - val_loss: 0.4308 - val_accuracy: 1.0000 - 29ms/epoch - 3ms/step\n",
      "Epoch 283/300\n",
      "9/9 - 0s - loss: 0.4743 - accuracy: 0.9333 - val_loss: 0.4292 - val_accuracy: 1.0000 - 29ms/epoch - 3ms/step\n",
      "Epoch 284/300\n",
      "9/9 - 0s - loss: 0.4498 - accuracy: 0.9556 - val_loss: 0.4341 - val_accuracy: 1.0000 - 29ms/epoch - 3ms/step\n",
      "Epoch 285/300\n",
      "9/9 - 0s - loss: 0.4434 - accuracy: 0.9667 - val_loss: 0.4200 - val_accuracy: 1.0000 - 29ms/epoch - 3ms/step\n",
      "Epoch 286/300\n",
      "9/9 - 0s - loss: 0.4655 - accuracy: 0.9444 - val_loss: 0.4278 - val_accuracy: 0.8889 - 29ms/epoch - 3ms/step\n",
      "Epoch 287/300\n",
      "9/9 - 0s - loss: 0.4432 - accuracy: 0.9778 - val_loss: 0.4189 - val_accuracy: 1.0000 - 29ms/epoch - 3ms/step\n",
      "Epoch 288/300\n",
      "9/9 - 0s - loss: 0.4428 - accuracy: 0.9556 - val_loss: 0.4143 - val_accuracy: 1.0000 - 30ms/epoch - 3ms/step\n",
      "Epoch 289/300\n",
      "9/9 - 0s - loss: 0.4407 - accuracy: 0.9778 - val_loss: 0.4338 - val_accuracy: 0.8889 - 18ms/epoch - 2ms/step\n",
      "Epoch 290/300\n",
      "9/9 - 0s - loss: 0.4200 - accuracy: 0.9556 - val_loss: 0.4266 - val_accuracy: 1.0000 - 33ms/epoch - 4ms/step\n",
      "Epoch 291/300\n",
      "9/9 - 0s - loss: 0.4251 - accuracy: 0.9333 - val_loss: 0.4179 - val_accuracy: 1.0000 - 36ms/epoch - 4ms/step\n",
      "Epoch 292/300\n",
      "9/9 - 0s - loss: 0.4605 - accuracy: 0.8889 - val_loss: 0.4105 - val_accuracy: 1.0000 - 28ms/epoch - 3ms/step\n",
      "Epoch 293/300\n",
      "9/9 - 0s - loss: 0.4200 - accuracy: 1.0000 - val_loss: 0.4214 - val_accuracy: 0.8889 - 28ms/epoch - 3ms/step\n",
      "Epoch 294/300\n",
      "9/9 - 0s - loss: 0.4428 - accuracy: 0.9667 - val_loss: 0.4419 - val_accuracy: 0.8889 - 18ms/epoch - 2ms/step\n",
      "Epoch 295/300\n",
      "9/9 - 0s - loss: 0.4317 - accuracy: 0.9778 - val_loss: 0.4079 - val_accuracy: 1.0000 - 19ms/epoch - 2ms/step\n",
      "Epoch 296/300\n",
      "9/9 - 0s - loss: 0.4247 - accuracy: 0.9889 - val_loss: 0.4179 - val_accuracy: 1.0000 - 33ms/epoch - 4ms/step\n",
      "Epoch 297/300\n",
      "9/9 - 0s - loss: 0.4379 - accuracy: 0.9556 - val_loss: 0.3975 - val_accuracy: 1.0000 - 37ms/epoch - 4ms/step\n",
      "Epoch 298/300\n",
      "9/9 - 0s - loss: 0.4107 - accuracy: 0.9889 - val_loss: 0.3945 - val_accuracy: 1.0000 - 30ms/epoch - 3ms/step\n",
      "Epoch 299/300\n",
      "9/9 - 0s - loss: 0.4270 - accuracy: 0.9556 - val_loss: 0.3943 - val_accuracy: 1.0000 - 30ms/epoch - 3ms/step\n",
      "Epoch 300/300\n",
      "9/9 - 0s - loss: 0.4269 - accuracy: 0.9667 - val_loss: 0.3984 - val_accuracy: 1.0000 - 28ms/epoch - 3ms/step\n"
     ]
    }
   ],
   "source": [
    "hist = model.fit(x_train, Y_train, \n",
    "            epochs=300, \n",
    "            batch_size=10,\n",
    "            verbose=2, # 학습결과 출력 옵션 0:출력없음. 1:기본값, 2:에포크별로그상세출력\n",
    "            validation_data=(x_val, Y_val)\n",
    "            )"
   ]
  },
  {
   "cell_type": "markdown",
   "id": "08203da2",
   "metadata": {},
   "source": [
    "# 6. 모델 평가하기(모델학습과정 살펴보고, evalute)"
   ]
  },
  {
   "cell_type": "code",
   "execution_count": 11,
   "id": "b918c3cd",
   "metadata": {},
   "outputs": [
    {
     "data": {
      "text/plain": [
       "dict_keys(['loss', 'accuracy', 'val_loss', 'val_accuracy'])"
      ]
     },
     "execution_count": 11,
     "metadata": {},
     "output_type": "execute_result"
    }
   ],
   "source": [
    "hist.history.keys()"
   ]
  },
  {
   "cell_type": "code",
   "execution_count": 12,
   "id": "c28e9a27",
   "metadata": {},
   "outputs": [
    {
     "data": {
      "image/png": "[encoded data removed]",
      "text/plain": [
       "<Figure size 1000x500 with 2 Axes>"
      ]
     },
     "metadata": {},
     "output_type": "display_data"
    }
   ],
   "source": [
    "# 모델 학습과정 시각화\n",
    "import matplotlib.pyplot as plt\n",
    "fig, loss_ax = plt.subplots(figsize=(10,5))\n",
    "loss_ax.plot(hist.history['loss'], 'y', label='train loss')\n",
    "loss_ax.plot(hist.history['val_loss'], 'r', label='val loss')\n",
    "loss_ax.set_xlabel('epoch')\n",
    "loss_ax.set_ylabel('loss')\n",
    "\n",
    "acc_ax = loss_ax.twinx() # loss_ax와 x축을 공유하는 acc_ax생성\n",
    "acc_ax.plot(hist.history['accuracy'], 'g', label='train accuracy')\n",
    "acc_ax.plot(hist.history['val_accuracy'], 'b', label='val accuracy')\n",
    "acc_ax.set_ylabel('accuracy')\n",
    "loss_ax.legend(loc='upper left')\n",
    "acc_ax.legend(loc='center right')\n",
    "plt.show()"
   ]
  },
  {
   "cell_type": "code",
   "execution_count": 13,
   "id": "848a0d8f",
   "metadata": {},
   "outputs": [
    {
     "name": "stdout",
     "output_type": "stream",
     "text": [
      "9/9 [==============================] - 0s 1ms/step - loss: 0.3984 - accuracy: 1.0000\n"
     ]
    }
   ],
   "source": [
    "# 모델 평가\n",
    "score = model.evaluate(x_test, Y_test, batch_size=1)"
   ]
  },
  {
   "cell_type": "code",
   "execution_count": 14,
   "id": "2d9e291f",
   "metadata": {},
   "outputs": [
    {
     "data": {
      "text/plain": [
       "[0.39843466877937317, 1.0]"
      ]
     },
     "execution_count": 14,
     "metadata": {},
     "output_type": "execute_result"
    }
   ],
   "source": [
    "score # loss, accuracy"
   ]
  },
  {
   "cell_type": "code",
   "execution_count": 15,
   "id": "06072713",
   "metadata": {},
   "outputs": [
    {
     "name": "stdout",
     "output_type": "stream",
     "text": [
      "평가된 loss : 0.39843466877937317\n",
      "평가된 accuracy : 100.0 %\n"
     ]
    }
   ],
   "source": [
    "print('평가된 loss :', score[0])\n",
    "print('평가된 accuracy :', score[1]*100, '%')"
   ]
  },
  {
   "cell_type": "markdown",
   "id": "7f660248",
   "metadata": {},
   "source": [
    "# 7. 모델 사용하기"
   ]
  },
  {
   "cell_type": "code",
   "execution_count": 16,
   "id": "326f7360",
   "metadata": {},
   "outputs": [
    {
     "name": "stdout",
     "output_type": "stream",
     "text": [
      "1/1 [==============================] - 0s 73ms/step\n"
     ]
    },
    {
     "data": {
      "text/plain": [
       "array([[5.0581504e-11, 2.3182625e-13, 8.1720121e-02, 2.5609425e-14,\n",
       "        8.3027017e-01, 1.9926313e-14, 8.7294288e-02, 7.1244066e-11,\n",
       "        7.1445445e-04, 2.4413425e-15, 1.0759084e-06, 1.9864008e-10,\n",
       "        1.2204340e-10, 2.3940770e-15, 2.2633400e-15, 8.6683177e-14,\n",
       "        1.1095046e-21, 7.7152007e-11, 2.4329568e-30]], dtype=float32)"
      ]
     },
     "execution_count": 16,
     "metadata": {},
     "output_type": "execute_result"
    }
   ],
   "source": [
    "H = model.predict(np.array([[2]]))\n",
    "H"
   ]
  },
  {
   "cell_type": "code",
   "execution_count": 17,
   "id": "5b78ee87",
   "metadata": {},
   "outputs": [
    {
     "name": "stdout",
     "output_type": "stream",
     "text": [
      "1/1 [==============================] - 0s 26ms/step\n"
     ]
    },
    {
     "data": {
      "text/plain": [
       "4"
      ]
     },
     "execution_count": 17,
     "metadata": {},
     "output_type": "execute_result"
    }
   ],
   "source": [
    "# 분류분석의 예측은 predict()후 argmax()\n",
    "model.predict(np.array([[2]])).argmax() "
   ]
  },
  {
   "cell_type": "code",
   "execution_count": 18,
   "id": "b4b46bcb",
   "metadata": {},
   "outputs": [
    {
     "data": {
      "text/plain": [
       "83.02701711654663"
      ]
     },
     "execution_count": 18,
     "metadata": {},
     "output_type": "execute_result"
    }
   ],
   "source": [
    "# 4를 몇%확률로 예측했는지 \n",
    "H[0, H.argmax()]*100"
   ]
  },
  {
   "cell_type": "markdown",
   "id": "1a2fffd7",
   "metadata": {},
   "source": [
    "# 7. 모델 저장하기"
   ]
  },
  {
   "cell_type": "code",
   "execution_count": 19,
   "id": "d4dbcf05",
   "metadata": {},
   "outputs": [],
   "source": [
    "# model.save('model/02_deep.h5')\n",
    "from tensorflow.keras.models import save_model\n",
    "save_model(model, 'model/02_deep.h5')"
   ]
  },
  {
   "cell_type": "markdown",
   "id": "7bcbe2d6",
   "metadata": {},
   "source": [
    "## 저장된 모델 사용하기"
   ]
  },
  {
   "cell_type": "code",
   "execution_count": 22,
   "id": "9454e190",
   "metadata": {},
   "outputs": [],
   "source": [
    "from tensorflow.keras.models import load_model\n",
    "model2 = load_model('model/02_deep.h5')"
   ]
  },
  {
   "cell_type": "code",
   "execution_count": 23,
   "id": "9080815f",
   "metadata": {
    "collapsed": true
   },
   "outputs": [
    {
     "name": "stdout",
     "output_type": "stream",
     "text": [
      "Model: \"sequential\"\n",
      "_________________________________________________________________\n",
      " Layer (type)                Output Shape              Param #   \n",
      "=================================================================\n",
      " dense (Dense)               (None, 38)                76        \n",
      "                                                                 \n",
      " dense_1 (Dense)             (None, 64)                2496      \n",
      "                                                                 \n",
      " dense_2 (Dense)             (None, 32)                2080      \n",
      "                                                                 \n",
      " dense_3 (Dense)             (None, 19)                627       \n",
      "                                                                 \n",
      "=================================================================\n",
      "Total params: 5,279\n",
      "Trainable params: 5,279\n",
      "Non-trainable params: 0\n",
      "_________________________________________________________________\n"
     ]
    }
   ],
   "source": [
    "model2.summary()"
   ]
  },
  {
   "cell_type": "code",
   "execution_count": 31,
   "id": "7dc1ec2c",
   "metadata": {},
   "outputs": [
    {
     "name": "stdout",
     "output_type": "stream",
     "text": [
      "1/1 [==============================] - 0s 47ms/step\n"
     ]
    },
    {
     "data": {
      "text/plain": [
       "array([4, 6], dtype=int64)"
      ]
     },
     "execution_count": 31,
     "metadata": {},
     "output_type": "execute_result"
    }
   ],
   "source": [
    "data = np.array([[2], \n",
    "                 [3]])\n",
    "predictions = model2.predict(data)\n",
    "predictions.argmax(axis=-1)"
   ]
  },
  {
   "cell_type": "code",
   "execution_count": 32,
   "id": "1ed7b07f",
   "metadata": {},
   "outputs": [],
   "source": [
    "def predict_classes(model, data):\n",
    "    predictions = model.predict(data)\n",
    "    return predictions.argmax(axis=-1)"
   ]
  },
  {
   "cell_type": "code",
   "execution_count": 36,
   "id": "2786a35f",
   "metadata": {},
   "outputs": [],
   "source": [
    "import tensorflow as tf\n",
    "@tf.function(reduce_retracing=True)\n",
    "def predict_classes(model, data):\n",
    "    predictions = model(data, training=False)\n",
    "    return tf.argmax(predictions, axis=-1)"
   ]
  },
  {
   "cell_type": "code",
   "execution_count": 37,
   "id": "72deb0a8",
   "metadata": {},
   "outputs": [
    {
     "name": "stdout",
     "output_type": "stream",
     "text": [
      "어떤 데이터를 예측할까요?3\n",
      "예측된 분류는 tf.Tensor([6], shape=(1,), dtype=int64)\n"
     ]
    }
   ],
   "source": [
    "import numpy as np\n",
    "input_data = int(input('어떤 데이터를 예측할까요?'))\n",
    "data = np.array([[input_data]])\n",
    "print('예측된 분류는', predict_classes(model2, data))"
   ]
  },
  {
   "cell_type": "code",
   "execution_count": null,
   "id": "5e2ef5fa",
   "metadata": {},
   "outputs": [],
   "source": []
  },
  {
   "cell_type": "code",
   "execution_count": null,
   "id": "12544323",
   "metadata": {},
   "outputs": [],
   "source": []
  },
  {
   "cell_type": "code",
   "execution_count": null,
   "id": "a86ced98",
   "metadata": {},
   "outputs": [],
   "source": []
  },
  {
   "cell_type": "code",
   "execution_count": null,
   "id": "5b25b5d4",
   "metadata": {},
   "outputs": [],
   "source": []
  },
  {
   "cell_type": "code",
   "execution_count": null,
   "id": "9fedc021",
   "metadata": {},
   "outputs": [],
   "source": []
  },
  {
   "cell_type": "code",
   "execution_count": null,
   "id": "60a4bbb2",
   "metadata": {},
   "outputs": [],
   "source": []
  },
  {
   "cell_type": "code",
   "execution_count": null,
   "id": "b1e081e0",
   "metadata": {},
   "outputs": [],
   "source": []
  }
 ],
 "metadata": {
  "kernelspec": {
   "display_name": "ml-dl-nlp",
   "language": "python",
   "name": "ml-dl-nlp"
  },
  "language_info": {
   "codemirror_mode": {
    "name": "ipython",
    "version": 3
   },
   "file_extension": ".py",
   "mimetype": "text/x-python",
   "name": "python",
   "nbconvert_exporter": "python",
   "pygments_lexer": "ipython3",
   "version": "3.10.18"
  },
  "toc": {
   "base_numbering": 1,
   "nav_menu": {},
   "number_sections": false,
   "sideBar": true,
   "skip_h1_title": false,
   "title_cell": "Table of Contents",
   "title_sidebar": "Contents",
   "toc_cell": false,
   "toc_position": {
    "height": "calc(100% - 180px)",
    "left": "10px",
    "top": "150px",
    "width": "165px"
   },
   "toc_section_display": true,
   "toc_window_display": true
  }
 },
 "nbformat": 4,
 "nbformat_minor": 5
}
