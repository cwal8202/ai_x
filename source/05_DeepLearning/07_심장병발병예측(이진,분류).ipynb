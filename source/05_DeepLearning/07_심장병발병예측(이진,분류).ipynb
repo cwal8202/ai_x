{
 "cells": [
  {
   "cell_type": "code",
   "execution_count": 119,
   "id": "b78ed985",
   "metadata": {},
   "outputs": [
    {
     "data": {
      "text/html": [
       "\n",
       "<style>\n",
       "div.container{width:86% !important;}\n",
       "div.cell.code_cell.rendered{width:100%;}\n",
       "div.CodeMirror {font-family:Consolas; font-size:15pt;}\n",
       "div.output {font-size:15pt; font-weight:bold;}\n",
       "div.input {font-family:Consolas; font-size:15pt;}\n",
       "div.prompt {min-width:70px;}\n",
       "div#toc-wrapper{padding-top:120px;}\n",
       "div.text_cell_render ul li{font-size:12pt;padding:5px;}\n",
       "table.dataframe{font-size:15px;}\n",
       "</style>\n"
      ],
      "text/plain": [
       "<IPython.core.display.HTML object>"
      ]
     },
     "metadata": {},
     "output_type": "display_data"
    }
   ],
   "source": [
    "from IPython.display import display, HTML\n",
    "display(HTML(\"\"\"\n",
    "<style>\n",
    "div.container{width:86% !important;}\n",
    "div.cell.code_cell.rendered{width:100%;}\n",
    "div.CodeMirror {font-family:Consolas; font-size:15pt;}\n",
    "div.output {font-size:15pt; font-weight:bold;}\n",
    "div.input {font-family:Consolas; font-size:15pt;}\n",
    "div.prompt {min-width:70px;}\n",
    "div#toc-wrapper{padding-top:120px;}\n",
    "div.text_cell_render ul li{font-size:12pt;padding:5px;}\n",
    "table.dataframe{font-size:15px;}\n",
    "</style>\n",
    "\"\"\"))"
   ]
  },
  {
   "cell_type": "code",
   "execution_count": 120,
   "id": "2eb59487",
   "metadata": {},
   "outputs": [],
   "source": [
    "import numpy as np\n",
    "import pandas as pd\n",
    "import sys\n",
    "from tensorflow.keras.utils import to_categorical  # 원핫인코딩\n",
    "from tensorflow.keras.models import Sequential, save_model, load_model\n",
    "from tensorflow.keras.layers import Dense, Input, Dropout \n",
    "from matplotlib import pyplot as plt # 학습 과정 그래프 \n",
    "from sklearn.metrics import confusion_matrix # 혼동행렬\n",
    "from sklearn.preprocessing import MinMaxScaler, StandardScaler\n",
    "from sklearn.model_selection import train_test_split # 데이터 분리"
   ]
  },
  {
   "cell_type": "markdown",
   "id": "b3a9c0c4",
   "metadata": {},
   "source": [
    "# 이진분류\n",
    "```\n",
    "1. 데이터 셋 생성 & 전처리\n",
    "     엑셀 -> 데이터프레임 -> ?처리(df.replace('?',np.nan) -> 결측치 처리\n",
    "     -> X, y 분리 -> X변수 스케일조정 -> train_test_split함수로 학습셋과 테스트셋분리\n",
    "2. 모델 생성(입력13, 출력1) & 학습과정 설정 & 학습\n",
    "3. 모델 평가(그래프, 평가, 교차표)\n",
    "4. 모델 사용(저장, 예측)\n",
    "```"
   ]
  },
  {
   "cell_type": "markdown",
   "id": "7fab00c1",
   "metadata": {},
   "source": [
    "### 컬럼명   의미 및 설명\n",
    "\n",
    "- cp   흉통의 유형 (Chest Pain type)\n",
    "    - 0: 전형적 협심증 / 1: 비전형적 협심증 / 2: 비심장성 흉통 / 3: 무증상\n",
    "- treshtbps   안정 시 수축기 혈압 (Resting Blood Pressure in mm Hg)\n",
    "- chol   혈청 콜레스테롤 수치 (Serum Cholesterol in mg/dl)\n",
    "- fbs   공복혈당 120mg/dl 이상 여부 (Fasting Blood Sugar) - 1: Yes, 0: No\n",
    "- restecg   안정 시 심전도 결과 (Resting Electrocardiographic Results)\n",
    "    - 0: 정상 / 1: ST-T 이상 / 2: 좌심실 비대 가능성\n",
    "- thalach   최대 심박수 (Maximum Heart Rate Achieved)\n",
    "- exang   운동 중 협심증 여부 (Exercise Induced Angina) - 1: 있음, 0: 없음\n",
    "- oldpeak   운동 후 ST 감소 정도 (ST Depression induced by exercise relative to rest)\n",
    "- slope   ST segment의 기울기 (Slope of the peak exercise ST segment)\n",
    "    - 1: 수평  / 2: 상승  / 3: 하강\n",
    "- ca   형광투시검사에서 관찰된 주요 혈관 수 (Number of major vessels colored by fluoroscopy)\n",
    "- hsl (일반적으로 thal로 표기됨)   지혈소 상태 (Thalassemia)\n",
    "    - 3: 정상 / 6: 고정결함 / 7: 가역적 결함\n",
    "- heartDisease   심장병 여부 (Target Variable)\n",
    "    - 1: 심장병 있음 / 0: 없음"
   ]
  },
  {
   "cell_type": "markdown",
   "id": "c829fcd0",
   "metadata": {},
   "source": [
    "## 1. 데이터 셋 생성 & 전처리\n",
    "     엑셀 -> 데이터프레임 -> ?처리(df.replace('?',np.nan) -> 결측치 처리\n",
    "     -> X, y 분리 -> X변수 스케일조정 -> train_test_split함수로 학습셋과 테스트셋분리"
   ]
  },
  {
   "cell_type": "code",
   "execution_count": 121,
   "id": "3fb9ed34",
   "metadata": {},
   "outputs": [
    {
     "name": "stdout",
     "output_type": "stream",
     "text": [
      "<class 'pandas.core.frame.DataFrame'>\n",
      "RangeIndex: 303 entries, 0 to 302\n",
      "Data columns (total 14 columns):\n",
      " #   Column        Non-Null Count  Dtype  \n",
      "---  ------        --------------  -----  \n",
      " 0   age           303 non-null    int64  \n",
      " 1   sex           303 non-null    int64  \n",
      " 2   cp            303 non-null    int64  \n",
      " 3   treshtbps     303 non-null    int64  \n",
      " 4   chol          303 non-null    object \n",
      " 5   fbs           303 non-null    int64  \n",
      " 6   restecg       303 non-null    int64  \n",
      " 7   thalach       303 non-null    int64  \n",
      " 8   exang         303 non-null    int64  \n",
      " 9   oldpeak       303 non-null    float64\n",
      " 10  slope         303 non-null    int64  \n",
      " 11  ca            303 non-null    object \n",
      " 12  hsl           303 non-null    object \n",
      " 13  heartDisease  303 non-null    int64  \n",
      "dtypes: float64(1), int64(10), object(3)\n",
      "memory usage: 33.3+ KB\n"
     ]
    }
   ],
   "source": [
    "dataset = pd.read_excel('data/heart-disease.xlsx')\n",
    "dataset.info() # dataset.isnull().sum()"
   ]
  },
  {
   "cell_type": "code",
   "execution_count": 122,
   "id": "9a1e8869",
   "metadata": {},
   "outputs": [
    {
     "data": {
      "text/plain": [
       "age             False\n",
       "sex             False\n",
       "cp              False\n",
       "treshtbps       False\n",
       "chol             True\n",
       "fbs             False\n",
       "restecg         False\n",
       "thalach         False\n",
       "exang           False\n",
       "oldpeak         False\n",
       "slope           False\n",
       "ca               True\n",
       "hsl              True\n",
       "heartDisease    False\n",
       "dtype: bool"
      ]
     },
     "execution_count": 122,
     "metadata": {},
     "output_type": "execute_result"
    }
   ],
   "source": [
    "dataset.isin(['?']).any() # 물음표가 있는 열 여부"
   ]
  },
  {
   "cell_type": "code",
   "execution_count": 125,
   "id": "52fc7a34",
   "metadata": {},
   "outputs": [
    {
     "data": {
      "text/html": [
       "<div>\n",
       "<style scoped>\n",
       "    .dataframe tbody tr th:only-of-type {\n",
       "        vertical-align: middle;\n",
       "    }\n",
       "\n",
       "    .dataframe tbody tr th {\n",
       "        vertical-align: top;\n",
       "    }\n",
       "\n",
       "    .dataframe thead th {\n",
       "        text-align: right;\n",
       "    }\n",
       "</style>\n",
       "<table border=\"1\" class=\"dataframe\">\n",
       "  <thead>\n",
       "    <tr style=\"text-align: right;\">\n",
       "      <th></th>\n",
       "      <th>age</th>\n",
       "      <th>sex</th>\n",
       "      <th>cp</th>\n",
       "      <th>treshtbps</th>\n",
       "      <th>chol</th>\n",
       "      <th>fbs</th>\n",
       "      <th>restecg</th>\n",
       "      <th>thalach</th>\n",
       "      <th>exang</th>\n",
       "      <th>oldpeak</th>\n",
       "      <th>slope</th>\n",
       "      <th>ca</th>\n",
       "      <th>hsl</th>\n",
       "      <th>heartDisease</th>\n",
       "    </tr>\n",
       "  </thead>\n",
       "  <tbody>\n",
       "    <tr>\n",
       "      <th>2</th>\n",
       "      <td>67</td>\n",
       "      <td>1</td>\n",
       "      <td>4</td>\n",
       "      <td>120</td>\n",
       "      <td>?</td>\n",
       "      <td>0</td>\n",
       "      <td>2</td>\n",
       "      <td>129</td>\n",
       "      <td>1</td>\n",
       "      <td>2.6</td>\n",
       "      <td>2</td>\n",
       "      <td>2</td>\n",
       "      <td>7</td>\n",
       "      <td>1</td>\n",
       "    </tr>\n",
       "    <tr>\n",
       "      <th>87</th>\n",
       "      <td>53</td>\n",
       "      <td>0</td>\n",
       "      <td>3</td>\n",
       "      <td>128</td>\n",
       "      <td>216</td>\n",
       "      <td>0</td>\n",
       "      <td>2</td>\n",
       "      <td>115</td>\n",
       "      <td>0</td>\n",
       "      <td>0.0</td>\n",
       "      <td>1</td>\n",
       "      <td>0</td>\n",
       "      <td>?</td>\n",
       "      <td>0</td>\n",
       "    </tr>\n",
       "    <tr>\n",
       "      <th>166</th>\n",
       "      <td>52</td>\n",
       "      <td>1</td>\n",
       "      <td>3</td>\n",
       "      <td>138</td>\n",
       "      <td>223</td>\n",
       "      <td>0</td>\n",
       "      <td>0</td>\n",
       "      <td>169</td>\n",
       "      <td>0</td>\n",
       "      <td>0.0</td>\n",
       "      <td>1</td>\n",
       "      <td>?</td>\n",
       "      <td>3</td>\n",
       "      <td>0</td>\n",
       "    </tr>\n",
       "    <tr>\n",
       "      <th>192</th>\n",
       "      <td>43</td>\n",
       "      <td>1</td>\n",
       "      <td>4</td>\n",
       "      <td>132</td>\n",
       "      <td>247</td>\n",
       "      <td>1</td>\n",
       "      <td>2</td>\n",
       "      <td>143</td>\n",
       "      <td>1</td>\n",
       "      <td>0.1</td>\n",
       "      <td>2</td>\n",
       "      <td>?</td>\n",
       "      <td>7</td>\n",
       "      <td>1</td>\n",
       "    </tr>\n",
       "    <tr>\n",
       "      <th>266</th>\n",
       "      <td>52</td>\n",
       "      <td>1</td>\n",
       "      <td>4</td>\n",
       "      <td>128</td>\n",
       "      <td>204</td>\n",
       "      <td>1</td>\n",
       "      <td>0</td>\n",
       "      <td>156</td>\n",
       "      <td>1</td>\n",
       "      <td>1.0</td>\n",
       "      <td>2</td>\n",
       "      <td>0</td>\n",
       "      <td>?</td>\n",
       "      <td>1</td>\n",
       "    </tr>\n",
       "    <tr>\n",
       "      <th>287</th>\n",
       "      <td>58</td>\n",
       "      <td>1</td>\n",
       "      <td>2</td>\n",
       "      <td>125</td>\n",
       "      <td>220</td>\n",
       "      <td>0</td>\n",
       "      <td>0</td>\n",
       "      <td>144</td>\n",
       "      <td>0</td>\n",
       "      <td>0.4</td>\n",
       "      <td>2</td>\n",
       "      <td>?</td>\n",
       "      <td>7</td>\n",
       "      <td>0</td>\n",
       "    </tr>\n",
       "    <tr>\n",
       "      <th>302</th>\n",
       "      <td>38</td>\n",
       "      <td>1</td>\n",
       "      <td>3</td>\n",
       "      <td>138</td>\n",
       "      <td>175</td>\n",
       "      <td>0</td>\n",
       "      <td>0</td>\n",
       "      <td>173</td>\n",
       "      <td>0</td>\n",
       "      <td>0.0</td>\n",
       "      <td>1</td>\n",
       "      <td>?</td>\n",
       "      <td>3</td>\n",
       "      <td>0</td>\n",
       "    </tr>\n",
       "  </tbody>\n",
       "</table>\n",
       "</div>"
      ],
      "text/plain": [
       "     age  sex  cp  treshtbps chol  fbs  restecg  thalach  exang  oldpeak  \\\n",
       "2     67    1   4        120    ?    0        2      129      1      2.6   \n",
       "87    53    0   3        128  216    0        2      115      0      0.0   \n",
       "166   52    1   3        138  223    0        0      169      0      0.0   \n",
       "192   43    1   4        132  247    1        2      143      1      0.1   \n",
       "266   52    1   4        128  204    1        0      156      1      1.0   \n",
       "287   58    1   2        125  220    0        0      144      0      0.4   \n",
       "302   38    1   3        138  175    0        0      173      0      0.0   \n",
       "\n",
       "     slope ca hsl  heartDisease  \n",
       "2        2  2   7             1  \n",
       "87       1  0   ?             0  \n",
       "166      1  ?   3             0  \n",
       "192      2  ?   7             1  \n",
       "266      2  0   ?             1  \n",
       "287      2  ?   7             0  \n",
       "302      1  ?   3             0  "
      ]
     },
     "execution_count": 125,
     "metadata": {},
     "output_type": "execute_result"
    }
   ],
   "source": [
    "# '?'가 포함된 데이터 추출\n",
    "dataset[(dataset['chol']=='?') | (dataset['ca']=='?') | (dataset['hsl']=='?')]"
   ]
  },
  {
   "cell_type": "code",
   "execution_count": 126,
   "id": "3a7f8cc6",
   "metadata": {},
   "outputs": [
    {
     "name": "stdout",
     "output_type": "stream",
     "text": [
      "<class 'pandas.core.frame.DataFrame'>\n",
      "RangeIndex: 303 entries, 0 to 302\n",
      "Data columns (total 14 columns):\n",
      " #   Column        Non-Null Count  Dtype  \n",
      "---  ------        --------------  -----  \n",
      " 0   age           303 non-null    int64  \n",
      " 1   sex           303 non-null    int64  \n",
      " 2   cp            303 non-null    int64  \n",
      " 3   treshtbps     303 non-null    int64  \n",
      " 4   chol          302 non-null    float64\n",
      " 5   fbs           303 non-null    int64  \n",
      " 6   restecg       303 non-null    int64  \n",
      " 7   thalach       303 non-null    int64  \n",
      " 8   exang         303 non-null    int64  \n",
      " 9   oldpeak       303 non-null    float64\n",
      " 10  slope         303 non-null    int64  \n",
      " 11  ca            299 non-null    float64\n",
      " 12  hsl           301 non-null    float64\n",
      " 13  heartDisease  303 non-null    int64  \n",
      "dtypes: float64(4), int64(10)\n",
      "memory usage: 33.3 KB\n"
     ]
    }
   ],
   "source": [
    "# '?'를 결측치(np.nan)로 대체\n",
    "df = dataset.replace('?', np.nan)\n",
    "df.info()"
   ]
  },
  {
   "cell_type": "code",
   "execution_count": 127,
   "id": "6f81a52f",
   "metadata": {},
   "outputs": [
    {
     "data": {
      "text/html": [
       "<div>\n",
       "<style scoped>\n",
       "    .dataframe tbody tr th:only-of-type {\n",
       "        vertical-align: middle;\n",
       "    }\n",
       "\n",
       "    .dataframe tbody tr th {\n",
       "        vertical-align: top;\n",
       "    }\n",
       "\n",
       "    .dataframe thead th {\n",
       "        text-align: right;\n",
       "    }\n",
       "</style>\n",
       "<table border=\"1\" class=\"dataframe\">\n",
       "  <thead>\n",
       "    <tr style=\"text-align: right;\">\n",
       "      <th></th>\n",
       "      <th>age</th>\n",
       "      <th>sex</th>\n",
       "      <th>cp</th>\n",
       "      <th>treshtbps</th>\n",
       "      <th>chol</th>\n",
       "      <th>fbs</th>\n",
       "      <th>restecg</th>\n",
       "      <th>thalach</th>\n",
       "      <th>exang</th>\n",
       "      <th>oldpeak</th>\n",
       "      <th>slope</th>\n",
       "      <th>ca</th>\n",
       "      <th>hsl</th>\n",
       "      <th>heartDisease</th>\n",
       "    </tr>\n",
       "  </thead>\n",
       "  <tbody>\n",
       "    <tr>\n",
       "      <th>2</th>\n",
       "      <td>67</td>\n",
       "      <td>1</td>\n",
       "      <td>4</td>\n",
       "      <td>120</td>\n",
       "      <td>NaN</td>\n",
       "      <td>0</td>\n",
       "      <td>2</td>\n",
       "      <td>129</td>\n",
       "      <td>1</td>\n",
       "      <td>2.6</td>\n",
       "      <td>2</td>\n",
       "      <td>2.0</td>\n",
       "      <td>7.0</td>\n",
       "      <td>1</td>\n",
       "    </tr>\n",
       "    <tr>\n",
       "      <th>87</th>\n",
       "      <td>53</td>\n",
       "      <td>0</td>\n",
       "      <td>3</td>\n",
       "      <td>128</td>\n",
       "      <td>216.0</td>\n",
       "      <td>0</td>\n",
       "      <td>2</td>\n",
       "      <td>115</td>\n",
       "      <td>0</td>\n",
       "      <td>0.0</td>\n",
       "      <td>1</td>\n",
       "      <td>0.0</td>\n",
       "      <td>NaN</td>\n",
       "      <td>0</td>\n",
       "    </tr>\n",
       "    <tr>\n",
       "      <th>166</th>\n",
       "      <td>52</td>\n",
       "      <td>1</td>\n",
       "      <td>3</td>\n",
       "      <td>138</td>\n",
       "      <td>223.0</td>\n",
       "      <td>0</td>\n",
       "      <td>0</td>\n",
       "      <td>169</td>\n",
       "      <td>0</td>\n",
       "      <td>0.0</td>\n",
       "      <td>1</td>\n",
       "      <td>NaN</td>\n",
       "      <td>3.0</td>\n",
       "      <td>0</td>\n",
       "    </tr>\n",
       "    <tr>\n",
       "      <th>192</th>\n",
       "      <td>43</td>\n",
       "      <td>1</td>\n",
       "      <td>4</td>\n",
       "      <td>132</td>\n",
       "      <td>247.0</td>\n",
       "      <td>1</td>\n",
       "      <td>2</td>\n",
       "      <td>143</td>\n",
       "      <td>1</td>\n",
       "      <td>0.1</td>\n",
       "      <td>2</td>\n",
       "      <td>NaN</td>\n",
       "      <td>7.0</td>\n",
       "      <td>1</td>\n",
       "    </tr>\n",
       "    <tr>\n",
       "      <th>266</th>\n",
       "      <td>52</td>\n",
       "      <td>1</td>\n",
       "      <td>4</td>\n",
       "      <td>128</td>\n",
       "      <td>204.0</td>\n",
       "      <td>1</td>\n",
       "      <td>0</td>\n",
       "      <td>156</td>\n",
       "      <td>1</td>\n",
       "      <td>1.0</td>\n",
       "      <td>2</td>\n",
       "      <td>0.0</td>\n",
       "      <td>NaN</td>\n",
       "      <td>1</td>\n",
       "    </tr>\n",
       "    <tr>\n",
       "      <th>287</th>\n",
       "      <td>58</td>\n",
       "      <td>1</td>\n",
       "      <td>2</td>\n",
       "      <td>125</td>\n",
       "      <td>220.0</td>\n",
       "      <td>0</td>\n",
       "      <td>0</td>\n",
       "      <td>144</td>\n",
       "      <td>0</td>\n",
       "      <td>0.4</td>\n",
       "      <td>2</td>\n",
       "      <td>NaN</td>\n",
       "      <td>7.0</td>\n",
       "      <td>0</td>\n",
       "    </tr>\n",
       "    <tr>\n",
       "      <th>302</th>\n",
       "      <td>38</td>\n",
       "      <td>1</td>\n",
       "      <td>3</td>\n",
       "      <td>138</td>\n",
       "      <td>175.0</td>\n",
       "      <td>0</td>\n",
       "      <td>0</td>\n",
       "      <td>173</td>\n",
       "      <td>0</td>\n",
       "      <td>0.0</td>\n",
       "      <td>1</td>\n",
       "      <td>NaN</td>\n",
       "      <td>3.0</td>\n",
       "      <td>0</td>\n",
       "    </tr>\n",
       "  </tbody>\n",
       "</table>\n",
       "</div>"
      ],
      "text/plain": [
       "     age  sex  cp  treshtbps   chol  fbs  restecg  thalach  exang  oldpeak  \\\n",
       "2     67    1   4        120    NaN    0        2      129      1      2.6   \n",
       "87    53    0   3        128  216.0    0        2      115      0      0.0   \n",
       "166   52    1   3        138  223.0    0        0      169      0      0.0   \n",
       "192   43    1   4        132  247.0    1        2      143      1      0.1   \n",
       "266   52    1   4        128  204.0    1        0      156      1      1.0   \n",
       "287   58    1   2        125  220.0    0        0      144      0      0.4   \n",
       "302   38    1   3        138  175.0    0        0      173      0      0.0   \n",
       "\n",
       "     slope   ca  hsl  heartDisease  \n",
       "2        2  2.0  7.0             1  \n",
       "87       1  0.0  NaN             0  \n",
       "166      1  NaN  3.0             0  \n",
       "192      2  NaN  7.0             1  \n",
       "266      2  0.0  NaN             1  \n",
       "287      2  NaN  7.0             0  \n",
       "302      1  NaN  3.0             0  "
      ]
     },
     "execution_count": 127,
     "metadata": {},
     "output_type": "execute_result"
    }
   ],
   "source": [
    "# 결측치가 포함된 데이터 추출\n",
    "df[df.isna().any(axis=1)]"
   ]
  },
  {
   "cell_type": "code",
   "execution_count": 128,
   "id": "1626c728",
   "metadata": {},
   "outputs": [
    {
     "data": {
      "text/plain": [
       "age             0\n",
       "sex             0\n",
       "cp              0\n",
       "treshtbps       0\n",
       "chol            0\n",
       "fbs             0\n",
       "restecg         0\n",
       "thalach         0\n",
       "exang           0\n",
       "oldpeak         0\n",
       "slope           0\n",
       "ca              0\n",
       "hsl             0\n",
       "heartDisease    0\n",
       "dtype: int64"
      ]
     },
     "execution_count": 128,
     "metadata": {},
     "output_type": "execute_result"
    }
   ],
   "source": [
    "# 결측치 처리 : 대체 or 제거\n",
    "df.fillna(value=df.median(), inplace=True) # 결측치를 중위수로 대체\n",
    "# df = df.dropna(how='any')  #결측치 제거\n",
    "df.isna().sum() # 결측치가 없는지 확인"
   ]
  },
  {
   "cell_type": "code",
   "execution_count": 129,
   "id": "14dd26fc",
   "metadata": {},
   "outputs": [
    {
     "name": "stdout",
     "output_type": "stream",
     "text": [
      "0    164\n",
      "1    139\n",
      "Name: heartDisease, dtype: int64\n",
      "0    0.541254\n",
      "1    0.458746\n",
      "Name: heartDisease, dtype: float64\n"
     ]
    }
   ],
   "source": [
    "# Target변수의 분포(0:음성, 1:양성)\n",
    "print(df['heartDisease'].value_counts()) \n",
    "# negative, positive = df['heartDisease'].value_counts()\n",
    "# total = df.shape[0]\n",
    "# print('음성 결과 :', negative/total)\n",
    "# print('양성 결과 :', positive/total)\n",
    "print(df['heartDisease'].value_counts(normalize=True))"
   ]
  },
  {
   "cell_type": "code",
   "execution_count": 130,
   "id": "8df80bdc",
   "metadata": {},
   "outputs": [
    {
     "data": {
      "text/plain": [
       "((303, 13), (303, 1))"
      ]
     },
     "execution_count": 130,
     "metadata": {},
     "output_type": "execute_result"
    }
   ],
   "source": [
    "# 입력변수와 타겟변수 분리\n",
    "X = df.iloc[:, :-1].values\n",
    "y = df.iloc[:, -1:].values\n",
    "X.shape, y.shape"
   ]
  },
  {
   "cell_type": "code",
   "execution_count": 131,
   "id": "eecd2c8f",
   "metadata": {},
   "outputs": [
    {
     "data": {
      "text/plain": [
       "array([[0.70833333, 1.        , 0.        , 0.48113208, 0.24429224,\n",
       "        1.        , 1.        , 0.60305344, 0.        , 0.37096774,\n",
       "        1.        , 0.        , 0.75      ],\n",
       "       [0.79166667, 1.        , 1.        , 0.62264151, 0.3652968 ,\n",
       "        0.        , 0.        , 0.28244275, 1.        , 0.24193548,\n",
       "        0.5       , 1.        , 0.        ]])"
      ]
     },
     "execution_count": 131,
     "metadata": {},
     "output_type": "execute_result"
    }
   ],
   "source": [
    "# 입력변수 X의 스케일 조정\n",
    "scaler = MinMaxScaler()\n",
    "scaled_X = scaler.fit_transform(X)\n",
    "scaled_X[:2]"
   ]
  },
  {
   "cell_type": "code",
   "execution_count": 132,
   "id": "e208e345",
   "metadata": {},
   "outputs": [
    {
     "data": {
      "text/plain": [
       "((212, 13), (91, 13), (212, 1), (91, 1))"
      ]
     },
     "execution_count": 132,
     "metadata": {},
     "output_type": "execute_result"
    }
   ],
   "source": [
    "#scaled_X, y를 학습셋:테스트셋=7:3으로 분할\n",
    "X_train, X_test, y_train, y_test = train_test_split(scaled_X,\n",
    "                                                   y,\n",
    "                                                   test_size=0.3, # 테스트셋비율\n",
    "                                                   random_state=7,\n",
    "                                                   stratify=y # 층화추출\n",
    "                                                   )\n",
    "X_train.shape, X_test.shape, y_train.shape, y_test.shape"
   ]
  },
  {
   "cell_type": "code",
   "execution_count": 133,
   "id": "687b1d1a",
   "metadata": {},
   "outputs": [
    {
     "name": "stdout",
     "output_type": "stream",
     "text": [
      "0    0.541254\n",
      "1    0.458746\n",
      "dtype: float64\n",
      "0    0.542453\n",
      "1    0.457547\n",
      "dtype: float64\n",
      "0    0.538462\n",
      "1    0.461538\n",
      "dtype: float64\n"
     ]
    }
   ],
   "source": [
    "# 음성|양성 비율\n",
    "print(pd.DataFrame(y).value_counts(normalize=True)) # 전체 데이터\n",
    "print(pd.DataFrame(y_train).value_counts(normalize=True)) # y_train\n",
    "print(pd.DataFrame(y_test).value_counts(normalize=True)) # y_test"
   ]
  },
  {
   "cell_type": "markdown",
   "id": "a3bb9b08",
   "metadata": {},
   "source": [
    "## 2. 모델 생성(입력13, 출력1) & 학습과정 설정 & 학습\n",
    "- 그래프를 보고 과적합 줄이기 추가할 수 있음"
   ]
  },
  {
   "cell_type": "code",
   "execution_count": 134,
   "id": "372d07af",
   "metadata": {},
   "outputs": [
    {
     "name": "stdout",
     "output_type": "stream",
     "text": [
      "Model: \"sequential_6\"\n",
      "_________________________________________________________________\n",
      " Layer (type)                Output Shape              Param #   \n",
      "=================================================================\n",
      " dense_26 (Dense)            (None, 32)                448       \n",
      "                                                                 \n",
      " dropout_15 (Dropout)        (None, 32)                0         \n",
      "                                                                 \n",
      " dense_27 (Dense)            (None, 16)                528       \n",
      "                                                                 \n",
      " dropout_16 (Dropout)        (None, 16)                0         \n",
      "                                                                 \n",
      " dense_28 (Dense)            (None, 8)                 136       \n",
      "                                                                 \n",
      " dropout_17 (Dropout)        (None, 8)                 0         \n",
      "                                                                 \n",
      " dense_29 (Dense)            (None, 1)                 9         \n",
      "                                                                 \n",
      "=================================================================\n",
      "Total params: 1,121\n",
      "Trainable params: 1,121\n",
      "Non-trainable params: 0\n",
      "_________________________________________________________________\n"
     ]
    }
   ],
   "source": [
    "model = Sequential()\n",
    "# model.add(Input(shape=(13,)))\n",
    "model.add(Dense(units=32, \n",
    "                input_dim=13,\n",
    "                activation='tanh'))\n",
    "model.add(Dropout(0.3))\n",
    "model.add(Dense(units=16, activation='relu'))\n",
    "model.add(Dropout(0.3))\n",
    "model.add(Dense(units=8, activation='relu'))\n",
    "model.add(Dropout(0.3))\n",
    "model.add(Dense(units=1,  activation='sigmoid'))\n",
    "model.summary()"
   ]
  },
  {
   "cell_type": "code",
   "execution_count": 135,
   "id": "cf0dcb0c",
   "metadata": {},
   "outputs": [],
   "source": [
    "from tensorflow.keras import metrics\n",
    "from tensorflow.keras.optimizers import Adam\n",
    "model.compile(loss='binary_crossentropy',\n",
    "             # optimizer=Adam(learning_rate=0.01),\n",
    "             optimizer='adam',\n",
    "             metrics=['accuracy', # 정확도\n",
    "                      metrics.Recall(), # 재현율(실제값 중심)\n",
    "                      metrics.Precision()]) # 정밀도(예측값 중심)"
   ]
  },
  {
   "cell_type": "code",
   "execution_count": 136,
   "id": "693bf840",
   "metadata": {},
   "outputs": [
    {
     "name": "stdout",
     "output_type": "stream",
     "text": [
      "CPU times: total: 10.9 s\n",
      "Wall time: 8.01 s\n"
     ]
    }
   ],
   "source": [
    "%%time\n",
    "hist = model.fit(X_train, y_train, # 훈련데이터\n",
    "                epochs=200,\n",
    "                validation_split=0.2, # 검증데이터를 훈련데이터의 20%로 사용\n",
    "                verbose=0)"
   ]
  },
  {
   "cell_type": "markdown",
   "id": "7f0ad42b",
   "metadata": {},
   "source": [
    "## 3. 모델 평가(그래프, 평가, 교차표)"
   ]
  },
  {
   "cell_type": "code",
   "execution_count": 137,
   "id": "c5d64be2",
   "metadata": {},
   "outputs": [
    {
     "data": {
      "text/plain": [
       "dict_keys(['loss', 'accuracy', 'recall_12', 'precision_12', 'val_loss', 'val_accuracy', 'val_recall_12', 'val_precision_12'])"
      ]
     },
     "execution_count": 137,
     "metadata": {},
     "output_type": "execute_result"
    }
   ],
   "source": [
    "hist.history.keys()"
   ]
  },
  {
   "cell_type": "code",
   "execution_count": 138,
   "id": "82483280",
   "metadata": {},
   "outputs": [
    {
     "ename": "KeyError",
     "evalue": "'recall_5'",
     "output_type": "error",
     "traceback": [
      "\u001b[1;31m---------------------------------------------------------------------------\u001b[0m",
      "\u001b[1;31mKeyError\u001b[0m                                  Traceback (most recent call last)",
      "Cell \u001b[1;32mIn[138], line 6\u001b[0m\n\u001b[0;32m      4\u001b[0m acc_ax \u001b[38;5;241m=\u001b[39m loss_ax\u001b[38;5;241m.\u001b[39mtwinx()\n\u001b[0;32m      5\u001b[0m acc_ax\u001b[38;5;241m.\u001b[39mplot(hist\u001b[38;5;241m.\u001b[39mhistory[\u001b[38;5;124m'\u001b[39m\u001b[38;5;124maccuracy\u001b[39m\u001b[38;5;124m'\u001b[39m], \u001b[38;5;124m'\u001b[39m\u001b[38;5;124my\u001b[39m\u001b[38;5;124m'\u001b[39m, label\u001b[38;5;241m=\u001b[39m\u001b[38;5;124m'\u001b[39m\u001b[38;5;124mtrain accuracy\u001b[39m\u001b[38;5;124m'\u001b[39m)\n\u001b[1;32m----> 6\u001b[0m acc_ax\u001b[38;5;241m.\u001b[39mplot(\u001b[43mhist\u001b[49m\u001b[38;5;241;43m.\u001b[39;49m\u001b[43mhistory\u001b[49m\u001b[43m[\u001b[49m\u001b[38;5;124;43m'\u001b[39;49m\u001b[38;5;124;43mrecall_5\u001b[39;49m\u001b[38;5;124;43m'\u001b[39;49m\u001b[43m]\u001b[49m, \u001b[38;5;124m'\u001b[39m\u001b[38;5;124my\u001b[39m\u001b[38;5;124m'\u001b[39m, label\u001b[38;5;241m=\u001b[39m\u001b[38;5;124m'\u001b[39m\u001b[38;5;124mtrain recall\u001b[39m\u001b[38;5;124m'\u001b[39m)\n\u001b[0;32m      7\u001b[0m acc_ax\u001b[38;5;241m.\u001b[39mplot(hist\u001b[38;5;241m.\u001b[39mhistory[\u001b[38;5;124m'\u001b[39m\u001b[38;5;124mprecision_5\u001b[39m\u001b[38;5;124m'\u001b[39m], \u001b[38;5;124m'\u001b[39m\u001b[38;5;124my\u001b[39m\u001b[38;5;124m'\u001b[39m, label\u001b[38;5;241m=\u001b[39m\u001b[38;5;124m'\u001b[39m\u001b[38;5;124mtrain precision\u001b[39m\u001b[38;5;124m'\u001b[39m)\n\u001b[0;32m      8\u001b[0m acc_ax\u001b[38;5;241m.\u001b[39mplot(hist\u001b[38;5;241m.\u001b[39mhistory[\u001b[38;5;124m'\u001b[39m\u001b[38;5;124mval_accuracy\u001b[39m\u001b[38;5;124m'\u001b[39m], \u001b[38;5;124m'\u001b[39m\u001b[38;5;124mr\u001b[39m\u001b[38;5;124m'\u001b[39m, label\u001b[38;5;241m=\u001b[39m\u001b[38;5;124m'\u001b[39m\u001b[38;5;124mval accuracy\u001b[39m\u001b[38;5;124m'\u001b[39m)\n",
      "\u001b[1;31mKeyError\u001b[0m: 'recall_5'"
     ]
    },
    {
     "data": {
      "image/png": "[encoded data removed]",
      "text/plain": [
       "<Figure size 1200x600 with 2 Axes>"
      ]
     },
     "metadata": {},
     "output_type": "display_data"
    }
   ],
   "source": [
    "fig, loss_ax = plt.subplots(figsize=(12,6))\n",
    "loss_ax.plot(hist.history['loss'], 'y', label='train loss')\n",
    "loss_ax.plot(hist.history['val_loss'], 'k', label='val loss')\n",
    "acc_ax = loss_ax.twinx()\n",
    "acc_ax.plot(hist.history['accuracy'], 'y', label='train accuracy')\n",
    "acc_ax.plot(hist.history['recall_5'], 'y', label='train recall')\n",
    "acc_ax.plot(hist.history['precision_5'], 'y', label='train precision')\n",
    "acc_ax.plot(hist.history['val_accuracy'], 'r', label='val accuracy')\n",
    "acc_ax.plot(hist.history['val_recall_5'], 'g', label='val recall')\n",
    "acc_ax.plot(hist.history['val_precision_5'], 'b', label='val precision')\n",
    "loss_ax.set_xlabel('epochs')\n",
    "loss_ax.set_ylabel('loss')\n",
    "acc_ax.set_ylabel('accuracy')\n",
    "loss_ax.legend(loc='center right')\n",
    "acc_ax.legend()\n",
    "plt.show()"
   ]
  },
  {
   "cell_type": "code",
   "execution_count": null,
   "id": "e9f9c432",
   "metadata": {},
   "outputs": [],
   "source": [
    "score = model.evaluate(X_test, y_test, verbose=0)\n",
    "print('model loss : ', score[0])\n",
    "print('model accuracy : ', score[1])\n",
    "print('model recall : ', score[2])\n",
    "print('model precision : ', score[3])"
   ]
  },
  {
   "cell_type": "code",
   "execution_count": null,
   "id": "51ef91d1",
   "metadata": {},
   "outputs": [],
   "source": [
    "# 교차표\n",
    "y_test.reshape(-1) # 실제값"
   ]
  },
  {
   "cell_type": "code",
   "execution_count": null,
   "id": "e81ea69f",
   "metadata": {},
   "outputs": [],
   "source": [
    "y_hat = (model.predict(X_test)>0.5).astype(int).reshape(-1)\n",
    "pd.crosstab(y_test.reshape(-1), y_hat, \n",
    "           rownames=['실제값'], colnames=['예측값'])"
   ]
  },
  {
   "cell_type": "markdown",
   "id": "7498b4da",
   "metadata": {},
   "source": [
    "## 4. 모델 사용(저장, 예측)"
   ]
  },
  {
   "cell_type": "code",
   "execution_count": null,
   "id": "0aec8688",
   "metadata": {},
   "outputs": [],
   "source": [
    "model.save('model/07heaer.h5')\n",
    "save_model(model, 'model/07heaer.h5')"
   ]
  },
  {
   "cell_type": "code",
   "execution_count": null,
   "id": "b0928a09",
   "metadata": {},
   "outputs": [],
   "source": [
    "model2 = load_model('model/07heaer.h5')"
   ]
  },
  {
   "cell_type": "code",
   "execution_count": null,
   "id": "326cd7d8",
   "metadata": {},
   "outputs": [],
   "source": []
  },
  {
   "cell_type": "markdown",
   "id": "c2bebe09",
   "metadata": {},
   "source": [
    "# 분류분석\n",
    "```\n",
    "1. 데이터 셋 생성 & 전처리\n",
    "     엑셀 -> 데이터프레임 -> ?처리(df.replace('?',np.nan) -> 결측치 처리\n",
    "     -> X, y 분리 -> X변수 스케일조정 -> train_test_split함수로 학습셋과 테스트셋분리\n",
    "     -> y 변수들의 원핫인코딩\n",
    "2. 모델 생성(입력13, 출력2) & 학습과정 설정 & 학습\n",
    "3. 모델 평가(그래프, 평가, 교차표)\n",
    "4. 모델 사용(저장, 예측)\n",
    "```"
   ]
  },
  {
   "cell_type": "markdown",
   "id": "621f6f97",
   "metadata": {},
   "source": [
    "## 1. 데이터 셋 생성 & 전처리\n",
    "    - 위와동일+원핫인코딩     "
   ]
  },
  {
   "cell_type": "code",
   "execution_count": null,
   "id": "1a199fcd",
   "metadata": {},
   "outputs": [],
   "source": [
    "Y_train = to_categorical(y_train)\n",
    "Y_test  = to_categorical(y_test)\n",
    "Y_train.shape, Y_test.shape"
   ]
  },
  {
   "cell_type": "markdown",
   "id": "bb027e90",
   "metadata": {},
   "source": [
    "## 2. 모델 생성(입력13, 출력2) & 학습과정 설정 & 학습"
   ]
  },
  {
   "cell_type": "code",
   "execution_count": null,
   "id": "5c409921",
   "metadata": {},
   "outputs": [],
   "source": [
    "model = Sequential()\n",
    "# model.add(Input(shape=(13,)))\n",
    "model.add(Dense(units=32, \n",
    "                input_dim=13,\n",
    "                activation='tanh'))\n",
    "model.add(Dropout(0.3))\n",
    "model.add(Dense(units=16, activation='relu'))\n",
    "model.add(Dropout(0.3))\n",
    "model.add(Dense(units=8, activation='relu'))\n",
    "model.add(Dropout(0.3))\n",
    "# model.add(Dense(units=1,  activation='sigmoid'))\n",
    "model.add(Dense(units=2,  activation='softmax'))\n",
    "model.summary()"
   ]
  },
  {
   "cell_type": "code",
   "execution_count": null,
   "id": "f7f695c1",
   "metadata": {},
   "outputs": [],
   "source": [
    "from tensorflow.keras import metrics\n",
    "from tensorflow.keras.optimizers import Adam\n",
    "model.compile(loss='categorical_crossentropy',\n",
    "             # optimizer=Adam(learning_rate=0.01),\n",
    "             optimizer='adam',\n",
    "             metrics=['accuracy', # 정확도\n",
    "                      metrics.Recall(), # 재현율(실제값 중심)\n",
    "                      metrics.Precision()]) # 정밀도(예측값 중심)"
   ]
  },
  {
   "cell_type": "code",
   "execution_count": null,
   "id": "8878880c",
   "metadata": {},
   "outputs": [],
   "source": [
    "%%time\n",
    "hist = model.fit(X_train, Y_train, # 훈련데이터\n",
    "                epochs=200,\n",
    "                validation_split=0.2, # 검증데이터를 훈련데이터의 20%로 사용\n",
    "                verbose=0)"
   ]
  },
  {
   "cell_type": "markdown",
   "id": "15fa172f",
   "metadata": {},
   "source": [
    "## 3. 모델 평가(그래프, 평가, 교차표)"
   ]
  },
  {
   "cell_type": "code",
   "execution_count": null,
   "id": "a31066b1",
   "metadata": {},
   "outputs": [],
   "source": [
    "hist.history.keys()"
   ]
  },
  {
   "cell_type": "code",
   "execution_count": null,
   "id": "a7ceb532",
   "metadata": {},
   "outputs": [],
   "source": [
    "fig, loss_ax = plt.subplots(figsize=(12,6))\n",
    "loss_ax.plot(hist.history['loss'], 'y', label='train loss')\n",
    "loss_ax.plot(hist.history['val_loss'], 'r', label='val loss')\n",
    "acc_ax = loss_ax.twinx()\n",
    "acc_ax.plot(hist.history['accuracy'], 'g', label='train accuracy')\n",
    "acc_ax.plot(hist.history['val_accuracy'], 'b', label='val accuracy')\n",
    "loss_ax.set_xlabel('epochs')\n",
    "loss_ax.set_ylabel('loss')\n",
    "acc_ax.set_ylabel('accuracy')\n",
    "loss_ax.legend(loc='center right')\n",
    "acc_ax.legend()\n",
    "plt.show()"
   ]
  },
  {
   "cell_type": "code",
   "execution_count": null,
   "id": "bf20e080",
   "metadata": {},
   "outputs": [],
   "source": [
    "score = model.evaluate(X_test, Y_test, verbose=0)\n",
    "print('model loss : ', score[0])\n",
    "print('model accuracy : ', score[1])\n",
    "print('model recall : ', score[2])\n",
    "print('model precision : ', score[3])"
   ]
  },
  {
   "cell_type": "code",
   "execution_count": null,
   "id": "a033aed8",
   "metadata": {},
   "outputs": [],
   "source": [
    "# 교차표\n",
    "y_hat = model.predict(X_test).argmax(axis=1)\n",
    "y_hat"
   ]
  },
  {
   "cell_type": "code",
   "execution_count": null,
   "id": "1c916b04",
   "metadata": {},
   "outputs": [],
   "source": [
    "pd.crosstab(y_test.reshape(-1), y_hat,\n",
    "           rownames=['실제값'],\n",
    "           colnames=['예측값'])"
   ]
  },
  {
   "cell_type": "markdown",
   "id": "100c53c8",
   "metadata": {},
   "source": [
    "## 4. 모델 사용(저장, 예측)"
   ]
  },
  {
   "cell_type": "code",
   "execution_count": null,
   "id": "073ce90d",
   "metadata": {},
   "outputs": [],
   "source": []
  },
  {
   "cell_type": "code",
   "execution_count": null,
   "id": "8c2dcec7",
   "metadata": {},
   "outputs": [],
   "source": []
  },
  {
   "cell_type": "code",
   "execution_count": null,
   "id": "7c286f76",
   "metadata": {},
   "outputs": [],
   "source": []
  },
  {
   "cell_type": "code",
   "execution_count": null,
   "id": "71fb07bd",
   "metadata": {},
   "outputs": [],
   "source": []
  },
  {
   "cell_type": "code",
   "execution_count": null,
   "id": "cb50c600",
   "metadata": {},
   "outputs": [],
   "source": []
  }
 ],
 "metadata": {
  "kernelspec": {
   "display_name": "ml-dl-nlp",
   "language": "python",
   "name": "ml-dl-nlp"
  },
  "language_info": {
   "codemirror_mode": {
    "name": "ipython",
    "version": 3
   },
   "file_extension": ".py",
   "mimetype": "text/x-python",
   "name": "python",
   "nbconvert_exporter": "python",
   "pygments_lexer": "ipython3",
   "version": "3.10.18"
  },
  "toc": {
   "base_numbering": 1,
   "nav_menu": {},
   "number_sections": false,
   "sideBar": true,
   "skip_h1_title": false,
   "title_cell": "Table of Contents",
   "title_sidebar": "Contents",
   "toc_cell": false,
   "toc_position": {
    "height": "calc(100% - 180px)",
    "left": "10px",
    "top": "150px",
    "width": "165px"
   },
   "toc_section_display": true,
   "toc_window_display": true
  }
 },
 "nbformat": 4,
 "nbformat_minor": 5
}
