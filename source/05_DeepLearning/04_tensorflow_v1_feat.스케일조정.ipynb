{
 "cells": [
  {
   "cell_type": "code",
   "execution_count": 187,
   "id": "bd3e31e2",
   "metadata": {},
   "outputs": [
    {
     "data": {
      "text/html": [
       "\n",
       "<style>\n",
       "div.container{width:86% !important;}\n",
       "div.cell.code_cell.rendered{width:100%;}\n",
       "div.CodeMirror {font-family:Consolas; font-size:15pt;}\n",
       "div.output {font-size:15pt; font-weight:bold;}\n",
       "div.input {font-family:Consolas; font-size:15pt;}\n",
       "div.prompt {min-width:70px;}\n",
       "div#toc-wrapper{padding-top:120px;}\n",
       "div.text_cell_render ul li{font-size:12pt;padding:5px;}\n",
       "table.dataframe{font-size:15px;}\n",
       "</style>\n"
      ],
      "text/plain": [
       "<IPython.core.display.HTML object>"
      ]
     },
     "metadata": {},
     "output_type": "display_data"
    }
   ],
   "source": [
    "from IPython.display import display, HTML\n",
    "display(HTML(\"\"\"\n",
    "<style>\n",
    "div.container{width:86% !important;}\n",
    "div.cell.code_cell.rendered{width:100%;}\n",
    "div.CodeMirror {font-family:Consolas; font-size:15pt;}\n",
    "div.output {font-size:15pt; font-weight:bold;}\n",
    "div.input {font-family:Consolas; font-size:15pt;}\n",
    "div.prompt {min-width:70px;}\n",
    "div#toc-wrapper{padding-top:120px;}\n",
    "div.text_cell_render ul li{font-size:12pt;padding:5px;}\n",
    "table.dataframe{font-size:15px;}\n",
    "</style>\n",
    "\"\"\"))"
   ]
  },
  {
   "cell_type": "markdown",
   "id": "87fb4472",
   "metadata": {},
   "source": [
    "# 1. tensorflow v2.xx에서 v1사용하기"
   ]
  },
  {
   "cell_type": "code",
   "execution_count": 188,
   "id": "09326536",
   "metadata": {},
   "outputs": [],
   "source": [
    "import tensorflow.compat.v1 as tf\n",
    "tf.disable_v2_behavior()  # v2를 비활성화하고 v1활성화\n",
    "import numpy as np\n",
    "import pandas as pd"
   ]
  },
  {
   "cell_type": "markdown",
   "id": "641e1896",
   "metadata": {},
   "source": [
    "## Tensorflow\n",
    "- 데이터 흐름 그래프(tensor객체의 흐름)\n",
    "- 이 그래프는 node(상수, 변수, 연산)와 edge로 구성\n",
    "- sess = tf.Session()으로 실행\n",
    "- sess.run()을 통해 값을 확인"
   ]
  },
  {
   "cell_type": "code",
   "execution_count": 189,
   "id": "f3af8605",
   "metadata": {},
   "outputs": [
    {
     "name": "stdout",
     "output_type": "stream",
     "text": [
      "b'Hello, Tensorflow'\n"
     ]
    }
   ],
   "source": [
    "# tensor = data(상수, 변수)와 연산\n",
    "node1 = tf.constant('Hello, Tensorflow')\n",
    "sess = tf.Session()\n",
    "print(sess.run(node1))"
   ]
  },
  {
   "cell_type": "code",
   "execution_count": 190,
   "id": "ccc5f189",
   "metadata": {},
   "outputs": [
    {
     "name": "stdout",
     "output_type": "stream",
     "text": [
      "[10.0, 20.0, 30.0]\n"
     ]
    }
   ],
   "source": [
    "# 간단한 연산 tensor 그래프\n",
    "node1 = tf.constant(10, dtype=tf.float16)\n",
    "node2 = tf.constant(20, dtype=tf.float16)\n",
    "node3 = tf.add(node1, node2)\n",
    "sess = tf.Session()\n",
    "print(sess.run([node1, node2, node3]))"
   ]
  },
  {
   "cell_type": "code",
   "execution_count": 191,
   "id": "5d887854",
   "metadata": {},
   "outputs": [
    {
     "data": {
      "text/plain": [
       "[array([1, 2, 3], dtype=int16), array([1., 2., 3.], dtype=float32)]"
      ]
     },
     "execution_count": 191,
     "metadata": {},
     "output_type": "execute_result"
    }
   ],
   "source": [
    "# 타입 변경\n",
    "node1 = tf.constant(np.array([1,2,3]), dtype=tf.int16)\n",
    "node2 = tf.cast(node1, dtype=tf.float32)\n",
    "sess = tf.Session()\n",
    "sess.run([node1, node2])"
   ]
  },
  {
   "cell_type": "code",
   "execution_count": 192,
   "id": "c516f53b",
   "metadata": {},
   "outputs": [
    {
     "data": {
      "text/plain": [
       "2.0"
      ]
     },
     "execution_count": 192,
     "metadata": {},
     "output_type": "execute_result"
    }
   ],
   "source": [
    "# 평균값 계산 : tf.reduce_mean()\n",
    "data = np.array([1., 2., 3.])\n",
    "tensor = tf.reduce_mean(data)\n",
    "sess = tf.Session()\n",
    "sess.run(tensor)"
   ]
  },
  {
   "cell_type": "code",
   "execution_count": 193,
   "id": "8764d117",
   "metadata": {},
   "outputs": [
    {
     "data": {
      "text/plain": [
       "[array([-1.7819357, -1.0772797], dtype=float32),\n",
       " array([1.0381477], dtype=float32)]"
      ]
     },
     "execution_count": 193,
     "metadata": {},
     "output_type": "execute_result"
    }
   ],
   "source": [
    "# 랜덤값을 갖는 tensor\n",
    "a = tf.random_normal([2]) # 평균0, 표준편차가 1인 난수 실수 2개(정규분포이루는난수)\n",
    "b = tf.random_normal([1])\n",
    "sess = tf.Session()\n",
    "sess.run([a,b])"
   ]
  },
  {
   "cell_type": "code",
   "execution_count": 194,
   "id": "6ef8b769",
   "metadata": {},
   "outputs": [
    {
     "data": {
      "text/plain": [
       "array([0.05280958], dtype=float32)"
      ]
     },
     "execution_count": 194,
     "metadata": {},
     "output_type": "execute_result"
    }
   ],
   "source": [
    "w = tf.Variable(tf.random.normal([1]))\n",
    "sess = tf.Session()\n",
    "sess.run(tf.global_variables_initializer()) # w변수의 난수 초기화\n",
    "sess.run(w)"
   ]
  },
  {
   "cell_type": "markdown",
   "id": "62e2a540",
   "metadata": {},
   "source": [
    "# 2. tensorflow v1을 이용한 linear regression을 구현\n",
    "## 2.1 입력(독립)변수 x가 1개, 타겟(종속)변수 y가 1개"
   ]
  },
  {
   "cell_type": "code",
   "execution_count": 195,
   "id": "d0ff409d",
   "metadata": {},
   "outputs": [
    {
     "name": "stdout",
     "output_type": "stream",
     "text": [
      "0번째 cost:0.3873696029186249, W:[0.77096194], b:[0.93725693]\n",
      "200번째 cost:5.5827451433287933e-05, W:[0.9913427], b:[1.0196798]\n",
      "400번째 cost:2.131782821379602e-05, W:[0.99465036], b:[1.0121609]\n",
      "600번째 cost:8.140185855154414e-06, W:[0.99669427], b:[1.0075148]\n",
      "800번째 cost:3.1083702651812928e-06, W:[0.9979573], b:[1.0046436]\n",
      "1000번째 cost:1.1872169807247701e-06, W:[0.9987375], b:[1.0028698]\n",
      "1200번째 cost:4.535513653536327e-07, W:[0.9992198], b:[1.0017737]\n",
      "1400번째 cost:1.734109815743068e-07, W:[0.99951756], b:[1.0010967]\n",
      "1600번째 cost:6.632454585542291e-08, W:[0.9997013], b:[1.0006783]\n",
      "1800번째 cost:2.5426771799175185e-08, W:[0.9998153], b:[1.00042]\n",
      "2000번째 cost:9.864446148810657e-09, W:[0.99988496], b:[1.0002618]\n",
      "2200번째 cost:3.851392538223308e-09, W:[0.99992824], b:[1.0001637]\n",
      "2400번째 cost:1.5409966636070749e-09, W:[0.99995476], b:[1.0001034]\n",
      "2600번째 cost:6.1482791080536e-10, W:[0.9999716], b:[1.0000653]\n",
      "2800번째 cost:2.4928681341407355e-10, W:[0.9999819], b:[1.0000415]\n",
      "3000번째 cost:8.733517381509515e-11, W:[0.9999891], b:[1.0000248]\n",
      "3200번째 cost:8.733517381509515e-11, W:[0.9999891], b:[1.0000248]\n",
      "3400번째 cost:8.733517381509515e-11, W:[0.9999891], b:[1.0000248]\n",
      "3600번째 cost:8.733517381509515e-11, W:[0.9999891], b:[1.0000248]\n",
      "3800번째 cost:8.733517381509515e-11, W:[0.9999891], b:[1.0000248]\n",
      "4000번째 cost:8.733517381509515e-11, W:[0.9999891], b:[1.0000248]\n",
      "4200번째 cost:8.733517381509515e-11, W:[0.9999891], b:[1.0000248]\n",
      "4400번째 cost:8.733517381509515e-11, W:[0.9999891], b:[1.0000248]\n",
      "4600번째 cost:8.733517381509515e-11, W:[0.9999891], b:[1.0000248]\n",
      "4800번째 cost:8.733517381509515e-11, W:[0.9999891], b:[1.0000248]\n",
      "5000번째 cost:8.733517381509515e-11, W:[0.9999891], b:[1.0000248]\n"
     ]
    }
   ],
   "source": [
    "x = np.array([1,2,3])\n",
    "y = np.array([2,3,4])\n",
    "# weight오 bias(처음엔 랜덤값으로 셋팅, 학습과정에서 변경)\n",
    "W = tf.Variable(tf.random.normal([1]), name='weight')\n",
    "b = tf.Variable(tf.random.normal([1]), name='bias')\n",
    "# Hypothesis : 예측값\n",
    "H = W*x + b\n",
    "#cost function(손실함수 = mse;최소제곱법)\n",
    "cost = tf.reduce_mean(tf.square(H-y))\n",
    "'''\n",
    "학습목적 : cost가 최소가 되는 W, b를 찾아내는 것\n",
    "cost는 2차함수이므로 곡선그래프. 곡선위 미분값이 줄어드는 방향으로 학습(경사하강)\n",
    "=> GradientDescentOptimizer\n",
    "'''\n",
    "optimizer = tf.train.GradientDescentOptimizer(learning_rate=0.01)\n",
    "train = optimizer.minimize(cost)\n",
    "# Session 생성\n",
    "sess = tf.Session()\n",
    "# W, b 변수 노드에 초기화\n",
    "sess.run(tf.global_variables_initializer())\n",
    "# 5000번 학습 (v2에서는 fit함수)\n",
    "for step in range(5001):\n",
    "    _, cost_val, W_val, b_val = sess.run([train, cost, W, b])\n",
    "    if step%200 == 0:\n",
    "        print(\"{}번째 cost:{}, W:{}, b:{}\".format(step,\n",
    "                                               cost_val,\n",
    "                                               W_val,\n",
    "                                               b_val))"
   ]
  },
  {
   "cell_type": "code",
   "execution_count": 196,
   "id": "908c320e",
   "metadata": {},
   "outputs": [
    {
     "data": {
      "text/plain": [
       "[array([0.9999891], dtype=float32), array([1.0000248], dtype=float32)]"
      ]
     },
     "execution_count": 196,
     "metadata": {},
     "output_type": "execute_result"
    }
   ],
   "source": [
    "# 최종적으로 나온 회귀식 : H = W*x + b\n",
    "sess.run([W, b])"
   ]
  },
  {
   "cell_type": "code",
   "execution_count": 197,
   "id": "05b36c73",
   "metadata": {},
   "outputs": [
    {
     "data": {
      "text/plain": [
       "(0.9999891, 1.0000248)"
      ]
     },
     "execution_count": 197,
     "metadata": {},
     "output_type": "execute_result"
    }
   ],
   "source": [
    "W_, b_ = sess.run([W, b])\n",
    "W_[0], b_[0]"
   ]
  },
  {
   "cell_type": "code",
   "execution_count": 198,
   "id": "c7ba12f5",
   "metadata": {},
   "outputs": [],
   "source": [
    "def predict(x):\n",
    "    return W_[0]*x + b_[0]"
   ]
  },
  {
   "cell_type": "code",
   "execution_count": 199,
   "id": "8bc94d46",
   "metadata": {},
   "outputs": [
    {
     "name": "stdout",
     "output_type": "stream",
     "text": [
      "입력값은 ?\n"
     ]
    },
    {
     "ename": "ValueError",
     "evalue": "invalid literal for int() with base 10: ''",
     "output_type": "error",
     "traceback": [
      "\u001b[1;31m---------------------------------------------------------------------------\u001b[0m",
      "\u001b[1;31mValueError\u001b[0m                                Traceback (most recent call last)",
      "Cell \u001b[1;32mIn[199], line 1\u001b[0m\n\u001b[1;32m----> 1\u001b[0m input_x \u001b[38;5;241m=\u001b[39m \u001b[38;5;28;43mint\u001b[39;49m\u001b[43m(\u001b[49m\u001b[38;5;28;43minput\u001b[39;49m\u001b[43m(\u001b[49m\u001b[38;5;124;43m'\u001b[39;49m\u001b[38;5;124;43m입력값은 ?\u001b[39;49m\u001b[38;5;124;43m'\u001b[39;49m\u001b[43m)\u001b[49m\u001b[43m)\u001b[49m\n\u001b[0;32m      2\u001b[0m \u001b[38;5;28mprint\u001b[39m(\u001b[38;5;124m'\u001b[39m\u001b[38;5;124m예측값은 \u001b[39m\u001b[38;5;124m'\u001b[39m, predict(input_x))\n",
      "\u001b[1;31mValueError\u001b[0m: invalid literal for int() with base 10: ''"
     ]
    }
   ],
   "source": [
    "input_x = int(input('입력값은 ?'))\n",
    "print('예측값은 ', predict(input_x))"
   ]
  },
  {
   "cell_type": "markdown",
   "id": "33311b01",
   "metadata": {},
   "source": [
    "## 2.2 predict를 위한 placeholder이용\n",
    "- placeholder : 텐서플로우 외부에서 데이터를 입력받는 노드"
   ]
  },
  {
   "cell_type": "code",
   "execution_count": 200,
   "id": "ce4bdc45",
   "metadata": {},
   "outputs": [
    {
     "data": {
      "text/plain": [
       "array([2., 3., 4.], dtype=float16)"
      ]
     },
     "execution_count": 200,
     "metadata": {},
     "output_type": "execute_result"
    }
   ],
   "source": [
    "# x = np.array([1,2,3])\n",
    "x = tf.placeholder(tf.float16)\n",
    "H = 1*x + 1\n",
    "sess = tf.Session()\n",
    "sess.run(H, feed_dict={x:5})\n",
    "sess.run(H, feed_dict={x:np.array([1,2,3])})"
   ]
  },
  {
   "cell_type": "code",
   "execution_count": 201,
   "id": "0c7d6242",
   "metadata": {},
   "outputs": [
    {
     "name": "stdout",
     "output_type": "stream",
     "text": [
      "0째 : cost:221.07302856445312, W:[0.03324068], b:[1.4676162]\n",
      "200째 : cost:0.019402548670768738, W:[1.9526297], b:[1.2531933]\n",
      "400째 : cost:0.0019083978841081262, W:[1.9851438], b:[1.0794066]\n",
      "600째 : cost:0.00018771261966321617, W:[1.9953407], b:[1.0249039]\n",
      "800째 : cost:1.8464703316567466e-05, W:[1.9985387], b:[1.0078106]\n",
      "1000째 : cost:1.8170412658946589e-06, W:[1.9995416], b:[1.0024499]\n",
      "1200째 : cost:1.7856815759387246e-07, W:[1.9998562], b:[1.0007684]\n",
      "1400째 : cost:1.7569766086467098e-08, W:[1.9999548], b:[1.0002412]\n",
      "1600째 : cost:1.7691036413580719e-09, W:[1.9999858], b:[1.0000762]\n",
      "1800째 : cost:1.9404070017436936e-10, W:[1.9999952], b:[1.0000252]\n",
      "2000째 : cost:3.470859016863059e-11, W:[1.9999979], b:[1.000011]\n",
      "2200째 : cost:3.470859016863059e-11, W:[1.9999979], b:[1.000011]\n",
      "2400째 : cost:3.470859016863059e-11, W:[1.9999979], b:[1.000011]\n",
      "2600째 : cost:3.470859016863059e-11, W:[1.9999979], b:[1.000011]\n",
      "2800째 : cost:3.470859016863059e-11, W:[1.9999979], b:[1.000011]\n",
      "3000째 : cost:3.470859016863059e-11, W:[1.9999979], b:[1.000011]\n",
      "3200째 : cost:3.470859016863059e-11, W:[1.9999979], b:[1.000011]\n",
      "3400째 : cost:3.470859016863059e-11, W:[1.9999979], b:[1.000011]\n",
      "3600째 : cost:3.470859016863059e-11, W:[1.9999979], b:[1.000011]\n",
      "3800째 : cost:3.470859016863059e-11, W:[1.9999979], b:[1.000011]\n",
      "4000째 : cost:3.470859016863059e-11, W:[1.9999979], b:[1.000011]\n",
      "4200째 : cost:3.470859016863059e-11, W:[1.9999979], b:[1.000011]\n",
      "4400째 : cost:3.470859016863059e-11, W:[1.9999979], b:[1.000011]\n",
      "4600째 : cost:3.470859016863059e-11, W:[1.9999979], b:[1.000011]\n",
      "4800째 : cost:3.470859016863059e-11, W:[1.9999979], b:[1.000011]\n",
      "5000째 : cost:3.470859016863059e-11, W:[1.9999979], b:[1.000011]\n"
     ]
    }
   ],
   "source": [
    "# H = 2x+1\n",
    "x_data = np.array([1,2,3,5,8])\n",
    "y_data = np.array([3,5,7,11,17])\n",
    "# tensor 그래프\n",
    "# placeholder 설정 (입력변수 x, 타겟변수 y)\n",
    "x = tf.placeholder(dtype=tf.float32)\n",
    "y = tf.placeholder(dtype=tf.float32)\n",
    "# W, b\n",
    "W = tf.Variable(tf.random.normal([1]))\n",
    "b = tf.Variable(tf.random.normal([1]))\n",
    "# Hypothesis(예측값)\n",
    "H = W*x + b\n",
    "# 손실함수\n",
    "cost = tf.reduce_mean(tf.square(H-y))\n",
    "# 경사하강법\n",
    "train = tf.train.GradientDescentOptimizer(learning_rate=0.01).minimize(cost)\n",
    "# Session 객체 생성\n",
    "sess = tf.Session()\n",
    "sess.run(tf.global_variables_initializer()) # W, b 초기화\n",
    "# 5000번 학습\n",
    "for step in range(5001):\n",
    "    _, cost_val, W_val, b_val = sess.run([train, cost, W, b], \n",
    "                                         feed_dict={x:x_data,\n",
    "                                                   y:y_data})\n",
    "    if step%200 == 0:\n",
    "        print('{}째 : cost:{}, W:{}, b:{}'.format(step, cost_val, W_val, b_val))"
   ]
  },
  {
   "cell_type": "code",
   "execution_count": 202,
   "id": "f035da44",
   "metadata": {},
   "outputs": [
    {
     "data": {
      "text/plain": [
       "array([11.], dtype=float32)"
      ]
     },
     "execution_count": 202,
     "metadata": {},
     "output_type": "execute_result"
    }
   ],
   "source": [
    "# 예측하기\n",
    "sess.run(H, feed_dict={x:5})"
   ]
  },
  {
   "cell_type": "code",
   "execution_count": 203,
   "id": "a12faf5e",
   "metadata": {},
   "outputs": [
    {
     "data": {
      "text/plain": [
       "array([11.      , 12.999998, 14.999996], dtype=float32)"
      ]
     },
     "execution_count": 203,
     "metadata": {},
     "output_type": "execute_result"
    }
   ],
   "source": [
    "sess.run(H, feed_dict={x:np.array([5, 6, 7])})"
   ]
  },
  {
   "cell_type": "markdown",
   "id": "2a862db8",
   "metadata": {},
   "source": [
    "## 2.3 scale이 다른 데이터의 linear regression 구현(scale조정X)"
   ]
  },
  {
   "cell_type": "code",
   "execution_count": 204,
   "id": "a95cd8ed",
   "metadata": {},
   "outputs": [
    {
     "name": "stdout",
     "output_type": "stream",
     "text": [
      "0째 : cost:3293.420654296875, W:[8.082293], b:[0.93029326]\n",
      "200째 : cost:83.66641235351562, W:[10.198092], b:[-0.59944844]\n",
      "400째 : cost:83.49919891357422, W:[10.271029], b:[-1.1394984]\n",
      "600째 : cost:83.48387145996094, W:[10.293122], b:[-1.3030753]\n",
      "800째 : cost:83.48246002197266, W:[10.299813], b:[-1.3526223]\n",
      "1000째 : cost:83.48233795166016, W:[10.301841], b:[-1.367629]\n",
      "1200째 : cost:83.48231506347656, W:[10.302454], b:[-1.3721739]\n",
      "1400째 : cost:83.4822998046875, W:[10.302641], b:[-1.3735516]\n",
      "1600째 : cost:83.4822998046875, W:[10.302697], b:[-1.3739678]\n",
      "1800째 : cost:83.48230743408203, W:[10.302713], b:[-1.3740933]\n",
      "2000째 : cost:83.48231506347656, W:[10.302718], b:[-1.3741298]\n",
      "2200째 : cost:83.48233032226562, W:[10.302718], b:[-1.3741326]\n",
      "2400째 : cost:83.48233032226562, W:[10.302718], b:[-1.3741326]\n",
      "2600째 : cost:83.48233032226562, W:[10.302718], b:[-1.3741326]\n",
      "2800째 : cost:83.48233032226562, W:[10.302718], b:[-1.3741326]\n",
      "3000째 : cost:83.48233032226562, W:[10.302718], b:[-1.3741326]\n"
     ]
    }
   ],
   "source": [
    "x_data = np.array([1,2,5,8,10])\n",
    "y_data = np.array([3,15,68,80,95])\n",
    "# placeholder 설정 (입력변수 x, 타겟변수 y)\n",
    "x = tf.placeholder(dtype=tf.float32)\n",
    "y = tf.placeholder(dtype=tf.float32)\n",
    "# W, b\n",
    "W = tf.Variable(tf.random.normal([1]))\n",
    "b = tf.Variable(tf.random.normal([1]))\n",
    "# Hypothesis(예측값)\n",
    "H = W*x + b\n",
    "# 손실함수\n",
    "cost = tf.reduce_mean(tf.square(H-y))\n",
    "# 경사하강법\n",
    "train = tf.train.GradientDescentOptimizer(learning_rate=0.01).minimize(cost)\n",
    "# Session 객체 생성\n",
    "sess = tf.Session()\n",
    "sess.run(tf.global_variables_initializer()) # W, b 초기화\n",
    "# 3000번 학습\n",
    "for step in range(3001):\n",
    "    _, cost_val, W_val, b_val = sess.run([train, cost, W, b], \n",
    "                                         feed_dict={x:x_data,\n",
    "                                                   y:y_data})\n",
    "    if step%200 == 0:\n",
    "        print('{}째 : cost:{}, W:{}, b:{}'.format(step, cost_val, W_val, b_val))"
   ]
  },
  {
   "cell_type": "code",
   "execution_count": 205,
   "id": "9ed4689d",
   "metadata": {},
   "outputs": [],
   "source": [
    "# cost값이 멈춤 : local 최소값"
   ]
  },
  {
   "cell_type": "markdown",
   "id": "31b0573a",
   "metadata": {},
   "source": [
    "## 2.4 scale이 다른 데이터의 linear regression을 구현(조정O)\n",
    "### scale을 맞추기 : 모든 데이터를 일정 범위내로 조정\n",
    "- normalization(정규화) : 0~1로 조정\n",
    "                      X - Xmin\n",
    "    normalization = ────────────\n",
    "                     Xmax - Xmin\n",
    "         * 위의 식을 써도 되지만 라이브러리를 씀(sklearn.preprocessing.MinMaxScaler이용)\n",
    "         \n",
    "- standardization(표준화) : 평균0, 표준편차1로 조정\n",
    "                        X - Xmean(평균)\n",
    "    standardization = ──────────────────\n",
    "                          Xstd(표준편차)\n",
    "          * 위의 식을 써도 되지만 라이브러리를 씀(sklearn.preprocessing.StandardScaler이용)"
   ]
  },
  {
   "cell_type": "code",
   "execution_count": 206,
   "id": "4223f050",
   "metadata": {},
   "outputs": [
    {
     "name": "stdout",
     "output_type": "stream",
     "text": [
      "[0.         0.11111111 0.44444444 0.77777778 1.        ]\n",
      "[0.         0.13043478 0.70652174 0.83695652 1.        ]\n"
     ]
    }
   ],
   "source": [
    "# 라이브러리를 쓰지 않고 정규화\n",
    "x_data = np.array([1,2,5,8,10])\n",
    "y_data = np.array([3,15,68,80,95])\n",
    "scaled_x_data = (x_data - x_data.min() ) / (x_data.max() - x_data.min())\n",
    "scaled_y_data = (y_data - y_data.min() ) / (y_data.max() - y_data.min())\n",
    "print(scaled_x_data)\n",
    "print(scaled_y_data)"
   ]
  },
  {
   "cell_type": "code",
   "execution_count": 207,
   "id": "e96778b4",
   "metadata": {},
   "outputs": [
    {
     "data": {
      "text/plain": [
       "array([[ 1.        ,  3.        ,  0.        ,  0.        ],\n",
       "       [ 2.        , 15.        ,  0.11111111,  0.13043478],\n",
       "       [ 5.        , 68.        ,  0.44444444,  0.70652174],\n",
       "       [ 8.        , 80.        ,  0.77777778,  0.83695652],\n",
       "       [10.        , 95.        ,  1.        ,  1.        ]])"
      ]
     },
     "execution_count": 207,
     "metadata": {},
     "output_type": "execute_result"
    }
   ],
   "source": [
    "# 라이브러리를 쓰고 정규화 (MinMaxScaler이용)\n",
    "x_data = np.array([1,2,5,8,10]).reshape(-1, 1)\n",
    "y_data = np.array([3,15,68,80,95]).reshape(-1,1)\n",
    "# np.column_stack([x_data, y_data])\n",
    "from sklearn.preprocessing import MinMaxScaler\n",
    "scaler_x = MinMaxScaler() # x_data를 정규화시킬 객체\n",
    "# scaler_x.fit(x_data)\n",
    "# scaled_x_data = scaler_x.transform(x_data)\n",
    "scaled_x_data = scaler_x.fit_transform(x_data)\n",
    "scaler_y = MinMaxScaler() # y_data를 정규화시킬 객체\n",
    "scaled_y_data = scaler_y.fit_transform(y_data)\n",
    "np.column_stack([x_data, y_data, scaled_x_data, scaled_y_data])"
   ]
  },
  {
   "cell_type": "code",
   "execution_count": 208,
   "id": "45bf0e8d",
   "metadata": {},
   "outputs": [
    {
     "name": "stdout",
     "output_type": "stream",
     "text": [
      "0째 : cost:0.06943825632333755, W:[0.5366688], b:[0.11957948]\n",
      "600째 : cost:0.028947550803422928, W:[0.6498197], b:[0.21022886]\n",
      "1200째 : cost:0.022994384169578552, W:[0.7080888], b:[0.21309276]\n",
      "1800째 : cost:0.019726816564798355, W:[0.7497829], b:[0.1985944]\n",
      "2400째 : cost:0.01731787994503975, W:[0.78403103], b:[0.18218774]\n",
      "3000째 : cost:0.015499569475650787, W:[0.8133622], b:[0.1670717]\n",
      "3600째 : cost:0.014124898239970207, W:[0.8387664], b:[0.15373771]\n",
      "4200째 : cost:0.013085502199828625, W:[0.8608341], b:[0.1421006]\n",
      "4800째 : cost:0.01229961309581995, W:[0.880018], b:[0.13197225]\n",
      "5400째 : cost:0.01170538179576397, W:[0.8966983], b:[0.12316289]\n",
      "6000째 : cost:0.011256091296672821, W:[0.91120195], b:[0.11550239]\n",
      "6600째 : cost:0.010916383005678654, W:[0.9238136], b:[0.10884109]\n",
      "7200째 : cost:0.01065952330827713, W:[0.9347798], b:[0.10304884]\n",
      "7800째 : cost:0.010465309023857117, W:[0.94431555], b:[0.09801225]\n",
      "8400째 : cost:0.010318467393517494, W:[0.9526073], b:[0.09363268]\n",
      "9000째 : cost:0.010207432322204113, W:[0.9598173], b:[0.08982442]\n",
      "9600째 : cost:0.010123484767973423, W:[0.9660868], b:[0.08651298]\n",
      "10200째 : cost:0.010060004889965057, W:[0.9715383], b:[0.0836335]\n",
      "10800째 : cost:0.010012012906372547, W:[0.9762788], b:[0.08112972]\n",
      "11400째 : cost:0.009975725784897804, W:[0.9804005], b:[0.07895261]\n",
      "12000째 : cost:0.009948285296559334, W:[0.9839847], b:[0.07705951]\n"
     ]
    }
   ],
   "source": [
    "# placeholder 설정 (입력변수 x, 타겟변수 y)\n",
    "x = tf.placeholder(dtype=tf.float32)\n",
    "y = tf.placeholder(dtype=tf.float32)\n",
    "# W, b\n",
    "W = tf.Variable(tf.random.normal([1]))\n",
    "b = tf.Variable(tf.random.normal([1]))\n",
    "# Hypothesis(예측값)\n",
    "H = W*x + b\n",
    "# 손실함수\n",
    "cost = tf.reduce_mean(tf.square(H-y))\n",
    "# 경사하강법\n",
    "train = tf.train.GradientDescentOptimizer(learning_rate=0.001).minimize(cost)\n",
    "# Session 객체 생성\n",
    "sess = tf.Session()\n",
    "sess.run(tf.global_variables_initializer()) # W, b 초기화\n",
    "# 12000번 학습\n",
    "for step in range(12001):\n",
    "    _, cost_val, W_val, b_val = sess.run([train, cost, W, b], \n",
    "                                         feed_dict={x:scaled_x_data,\n",
    "                                                   y:scaled_y_data})\n",
    "    if step%600 == 0:\n",
    "        print('{}째 : cost:{}, W:{}, b:{}'.format(step, cost_val, W_val, b_val))"
   ]
  },
  {
   "cell_type": "code",
   "execution_count": 209,
   "id": "44e3385b",
   "metadata": {},
   "outputs": [
    {
     "name": "stdout",
     "output_type": "stream",
     "text": [
      "모델 예측을 위한 입력 :\n",
      "[[0.11111111]\n",
      " [0.22222222]]\n",
      "모델 예측 결과 :\n",
      "[[0.18639114]\n",
      " [0.29572278]]\n",
      "결과 :\n",
      "[[20.147985]\n",
      " [30.206495]]\n"
     ]
    }
   ],
   "source": [
    "# 예측 : 모델에 scale 조정된 값으로 예측=>scale 조정된 y값\n",
    "scaled_input = scaler_x.transform(np.array([[2],\n",
    "                                            [3]]))\n",
    "print('모델 예측을 위한 입력 :', scaled_input, sep='\\n')\n",
    "scaled_output = sess.run(H, feed_dict={x:scaled_input})\n",
    "print('모델 예측 결과 :', scaled_output, sep='\\n')\n",
    "print('결과 :', scaler_y.inverse_transform(scaled_output), sep='\\n')"
   ]
  },
  {
   "cell_type": "code",
   "execution_count": 210,
   "id": "955f6d67",
   "metadata": {},
   "outputs": [],
   "source": [
    "# x_data들의 예측값\n",
    "scaled_y_hat = sess.run(H, feed_dict={x:scaled_x_data})\n",
    "y_hat = scaler_y.inverse_transform(scaled_y_hat)"
   ]
  },
  {
   "cell_type": "code",
   "execution_count": 211,
   "id": "5a2dcdce",
   "metadata": {},
   "outputs": [
    {
     "data": {
      "text/plain": [
       "[<matplotlib.lines.Line2D at 0x1dc18629ea0>]"
      ]
     },
     "execution_count": 211,
     "metadata": {},
     "output_type": "execute_result"
    },
    {
     "data": {
      "image/png": "[encoded data removed]",
      "text/plain": [
       "<Figure size 640x480 with 1 Axes>"
      ]
     },
     "metadata": {},
     "output_type": "display_data"
    }
   ],
   "source": [
    "import matplotlib.pyplot as plt\n",
    "plt.plot(x_data, y_data, 'r')\n",
    "plt.plot(x_data, y_hat, 'b')"
   ]
  },
  {
   "cell_type": "code",
   "execution_count": 212,
   "id": "3cca75f0",
   "metadata": {},
   "outputs": [
    {
     "name": "stdout",
     "output_type": "stream",
     "text": [
      "[[ 1  3]\n",
      " [ 2 15]\n",
      " [ 5 68]\n",
      " [ 8 80]\n",
      " [10 95]]\n",
      "[[-1.22474487 -1.34819316]\n",
      " [-0.93313895 -1.01936556]\n",
      " [-0.05832118  0.43295634]\n",
      " [ 0.81649658  0.76178394]\n",
      " [ 1.39970842  1.17281844]]\n"
     ]
    }
   ],
   "source": [
    "# 라이브러리를 쓰고 표준화 (StandardScaler이용)\n",
    "x_data = np.array([1,2,5,8,10]).reshape(-1, 1)\n",
    "y_data = np.array([3,15,68,80,95]).reshape(-1,1)\n",
    "\n",
    "from sklearn.preprocessing import StandardScaler\n",
    "scaler_x = StandardScaler() # x_data를 표준화할 객체\n",
    "scaler_y = StandardScaler() # y_data를 표준화할 객체\n",
    "scaled_x_data = scaler_x.fit_transform(x_data)\n",
    "scaled_y_data = scaler_y.fit_transform(y_data)\n",
    "print(np.column_stack([x_data, y_data]))\n",
    "print(np.column_stack([scaled_x_data, scaled_y_data]))"
   ]
  },
  {
   "cell_type": "code",
   "execution_count": 213,
   "id": "bba45f55",
   "metadata": {},
   "outputs": [
    {
     "name": "stdout",
     "output_type": "stream",
     "text": [
      "0째 : cost:0.18342676758766174, W:[0.65870404], b:[0.15653071]\n",
      "600째 : cost:0.07361280173063278, W:[0.87505853], b:[0.04708953]\n",
      "1200째 : cost:0.06367462128400803, W:[0.9401447], b:[0.01416607]\n",
      "1800째 : cost:0.06277520209550858, W:[0.95972484], b:[0.00426162]\n",
      "2400째 : cost:0.06269379705190659, W:[0.9656152], b:[0.00128204]\n",
      "3000째 : cost:0.06268642842769623, W:[0.9673874], b:[0.00038569]\n",
      "3600째 : cost:0.0626857578754425, W:[0.96792036], b:[0.00011604]\n",
      "4200째 : cost:0.06268569082021713, W:[0.9680804], b:[3.4915844e-05]\n",
      "4800째 : cost:0.06268568336963654, W:[0.9681286], b:[1.0513219e-05]\n",
      "5400째 : cost:0.06268569827079773, W:[0.96813506], b:[3.1807192e-06]\n",
      "6000째 : cost:0.06268569082021713, W:[0.96813506], b:[9.75871e-07]\n",
      "6600째 : cost:0.06268569827079773, W:[0.96813506], b:[3.119585e-07]\n",
      "7200째 : cost:0.06268569082021713, W:[0.96813506], b:[1.15664754e-07]\n",
      "7800째 : cost:0.06268568336963654, W:[0.96813506], b:[5.6365735e-08]\n",
      "8400째 : cost:0.06268568336963654, W:[0.96813506], b:[4.7425686e-08]\n",
      "9000째 : cost:0.06268568336963654, W:[0.96813506], b:[3.8485638e-08]\n",
      "9600째 : cost:0.06268569827079773, W:[0.96813506], b:[2.980634e-08]\n",
      "10200째 : cost:0.06268569082021713, W:[0.96813506], b:[2.983614e-08]\n",
      "10800째 : cost:0.06268569827079773, W:[0.96813506], b:[2.981379e-08]\n",
      "11400째 : cost:0.06268569827079773, W:[0.96813506], b:[2.9791439e-08]\n",
      "12000째 : cost:0.06268569827079773, W:[0.96813506], b:[2.982124e-08]\n"
     ]
    }
   ],
   "source": [
    "# placeholder 설정 (입력변수 x, 타겟변수 y)\n",
    "x = tf.placeholder(dtype=tf.float32)\n",
    "y = tf.placeholder(dtype=tf.float32)\n",
    "# W, b\n",
    "W = tf.Variable(tf.random.normal([1]))\n",
    "b = tf.Variable(tf.random.normal([1]))\n",
    "# Hypothesis(예측값)\n",
    "H = W*x + b\n",
    "# 손실함수\n",
    "cost = tf.reduce_mean(tf.square(H-y))\n",
    "# 경사하강법\n",
    "train = tf.train.GradientDescentOptimizer(learning_rate=0.001).minimize(cost)\n",
    "# Session 객체 생성\n",
    "sess = tf.Session()\n",
    "sess.run(tf.global_variables_initializer()) # W, b 초기화\n",
    "# 12000번 학습\n",
    "for step in range(12001):\n",
    "    _, cost_val, W_val, b_val = sess.run([train, cost, W, b], \n",
    "                                         feed_dict={x:scaled_x_data,\n",
    "                                                   y:scaled_y_data})\n",
    "    if step%600 == 0:\n",
    "        print('{}째 : cost:{}, W:{}, b:{}'.format(step, cost_val, W_val, b_val))"
   ]
  },
  {
   "cell_type": "code",
   "execution_count": 214,
   "id": "327fcc73",
   "metadata": {},
   "outputs": [
    {
     "data": {
      "text/plain": [
       "[<matplotlib.lines.Line2D at 0x1dc196ac4f0>]"
      ]
     },
     "execution_count": 214,
     "metadata": {},
     "output_type": "execute_result"
    },
    {
     "data": {
      "image/png": "[encoded data removed]",
      "text/plain": [
       "<Figure size 640x480 with 1 Axes>"
      ]
     },
     "metadata": {},
     "output_type": "display_data"
    }
   ],
   "source": [
    "# x_data들의 예측값\n",
    "scaled_y_hat = sess.run(H, feed_dict={x:scaled_x_data})\n",
    "y_hat = scaler_y.inverse_transform(scaled_y_hat)\n",
    "import matplotlib.pyplot as plt\n",
    "plt.plot(x_data, y_data, 'r')\n",
    "plt.plot(x_data, y_hat, 'b')"
   ]
  },
  {
   "cell_type": "markdown",
   "id": "db30a538",
   "metadata": {},
   "source": [
    "## 2.5 입력(독립)변수 x가 3개, 타겟(종속)변수 y가 1개 (csv->array)"
   ]
  },
  {
   "cell_type": "code",
   "execution_count": 215,
   "id": "421f626b",
   "metadata": {},
   "outputs": [
    {
     "data": {
      "text/plain": [
       "array([[ 41. , 190. ,   7.4,  67. ,   5. ,   1. ],\n",
       "       [ 36. , 118. ,   8. ,  72. ,   5. ,   2. ],\n",
       "       [ 12. , 149. ,  12.6,  74. ,   5. ,   3. ],\n",
       "       [ 18. , 313. ,  11.5,  62. ,   5. ,   4. ],\n",
       "       [  nan,   nan,  14.3,  56. ,   5. ,   5. ]])"
      ]
     },
     "execution_count": 215,
     "metadata": {},
     "output_type": "execute_result"
    }
   ],
   "source": [
    "# 방법1 : csv -> array\n",
    "import numpy as np\n",
    "#data = np.loadtxt('data/pima-indians-diabetes.csv', delimiter=',', encoding='utf-8') # 결측치, header가 없어야 함\n",
    "data = np.genfromtxt('data/ozone.csv',\n",
    "                    delimiter=',',\n",
    "                    skip_header=1,\n",
    "                    missing_values='NA',\n",
    "                    filling_values=np.nan)\n",
    "data[:5]"
   ]
  },
  {
   "cell_type": "code",
   "execution_count": 216,
   "id": "575124ac",
   "metadata": {},
   "outputs": [
    {
     "name": "stdout",
     "output_type": "stream",
     "text": [
      "<class 'pandas.core.frame.DataFrame'>\n",
      "RangeIndex: 153 entries, 0 to 152\n",
      "Data columns (total 6 columns):\n",
      " #   Column   Non-Null Count  Dtype  \n",
      "---  ------   --------------  -----  \n",
      " 0   Ozone    116 non-null    float64\n",
      " 1   Solar.R  146 non-null    float64\n",
      " 2   Wind     153 non-null    float64\n",
      " 3   Temp     153 non-null    int64  \n",
      " 4   Month    153 non-null    int64  \n",
      " 5   Day      153 non-null    int64  \n",
      "dtypes: float64(3), int64(3)\n",
      "memory usage: 7.3 KB\n"
     ]
    },
    {
     "data": {
      "text/plain": [
       "Ozone      37\n",
       "Solar.R     7\n",
       "Wind        0\n",
       "Temp        0\n",
       "Month       0\n",
       "Day         0\n",
       "dtype: int64"
      ]
     },
     "execution_count": 216,
     "metadata": {},
     "output_type": "execute_result"
    }
   ],
   "source": [
    "# 방법2 : csv파일 -> 데이터프레임 -> 결측치처리 -> 넘파이배열 -> 머신러닝\n",
    "# 1. csv를 데이터프레임으로 읽기\n",
    "import pandas as pd\n",
    "data = pd.read_csv('data/ozone.csv')\n",
    "data.info() # Ozone, Solar.R 열에만 결측치\n",
    "data.isna().sum() # 열별 결측치 갯수"
   ]
  },
  {
   "cell_type": "code",
   "execution_count": 217,
   "id": "af4fae8d",
   "metadata": {},
   "outputs": [
    {
     "data": {
      "text/html": [
       "<div>\n",
       "<style scoped>\n",
       "    .dataframe tbody tr th:only-of-type {\n",
       "        vertical-align: middle;\n",
       "    }\n",
       "\n",
       "    .dataframe tbody tr th {\n",
       "        vertical-align: top;\n",
       "    }\n",
       "\n",
       "    .dataframe thead th {\n",
       "        text-align: right;\n",
       "    }\n",
       "</style>\n",
       "<table border=\"1\" class=\"dataframe\">\n",
       "  <thead>\n",
       "    <tr style=\"text-align: right;\">\n",
       "      <th></th>\n",
       "      <th>Ozone</th>\n",
       "      <th>Solar.R</th>\n",
       "    </tr>\n",
       "    <tr>\n",
       "      <th>Month</th>\n",
       "      <th></th>\n",
       "      <th></th>\n",
       "    </tr>\n",
       "  </thead>\n",
       "  <tbody>\n",
       "    <tr>\n",
       "      <th>5</th>\n",
       "      <td>23.615385</td>\n",
       "      <td>181.296296</td>\n",
       "    </tr>\n",
       "    <tr>\n",
       "      <th>6</th>\n",
       "      <td>29.444444</td>\n",
       "      <td>190.166667</td>\n",
       "    </tr>\n",
       "    <tr>\n",
       "      <th>7</th>\n",
       "      <td>59.115385</td>\n",
       "      <td>216.483871</td>\n",
       "    </tr>\n",
       "    <tr>\n",
       "      <th>8</th>\n",
       "      <td>59.961538</td>\n",
       "      <td>171.857143</td>\n",
       "    </tr>\n",
       "    <tr>\n",
       "      <th>9</th>\n",
       "      <td>31.448276</td>\n",
       "      <td>167.433333</td>\n",
       "    </tr>\n",
       "  </tbody>\n",
       "</table>\n",
       "</div>"
      ],
      "text/plain": [
       "           Ozone     Solar.R\n",
       "Month                       \n",
       "5      23.615385  181.296296\n",
       "6      29.444444  190.166667\n",
       "7      59.115385  216.483871\n",
       "8      59.961538  171.857143\n",
       "9      31.448276  167.433333"
      ]
     },
     "metadata": {},
     "output_type": "display_data"
    },
    {
     "name": "stdout",
     "output_type": "stream",
     "text": [
      "5월에 Ozone으로 대체할 값 : 23.615384615384617\n"
     ]
    }
   ],
   "source": [
    "# 2. 결측치처리\n",
    "# 결측치 처리 방법1 : 결측치가 있는 행을 제거\n",
    "# data.dropna(how='any', axis=0, inplace=True)\n",
    "# 결측치 처리 방법2 : 결측치 대체(열별 평균값으로 대체)\n",
    "data.mean() # 열별평균\n",
    "# data.fillna(value=data.mean(), inplace=True)\n",
    "# 결측치 처리 방법3 : 결측치 대체(월별 열별 평균값으로 대체)\n",
    "mean_data = data.groupby('Month')[['Ozone','Solar.R']].mean()\n",
    "display(mean_data)\n",
    "print('5월에 Ozone으로 대체할 값 :', mean_data.loc[5, 'Ozone'])"
   ]
  },
  {
   "cell_type": "code",
   "execution_count": 218,
   "id": "e316f3f0",
   "metadata": {},
   "outputs": [
    {
     "data": {
      "text/html": [
       "<div>\n",
       "<style scoped>\n",
       "    .dataframe tbody tr th:only-of-type {\n",
       "        vertical-align: middle;\n",
       "    }\n",
       "\n",
       "    .dataframe tbody tr th {\n",
       "        vertical-align: top;\n",
       "    }\n",
       "\n",
       "    .dataframe thead th {\n",
       "        text-align: right;\n",
       "    }\n",
       "</style>\n",
       "<table border=\"1\" class=\"dataframe\">\n",
       "  <thead>\n",
       "    <tr style=\"text-align: right;\">\n",
       "      <th></th>\n",
       "      <th>Ozone</th>\n",
       "      <th>Solar.R</th>\n",
       "      <th>Wind</th>\n",
       "      <th>Temp</th>\n",
       "      <th>Month</th>\n",
       "      <th>Day</th>\n",
       "    </tr>\n",
       "  </thead>\n",
       "  <tbody>\n",
       "    <tr>\n",
       "      <th>4</th>\n",
       "      <td>NaN</td>\n",
       "      <td>NaN</td>\n",
       "      <td>14.3</td>\n",
       "      <td>56</td>\n",
       "      <td>5</td>\n",
       "      <td>5</td>\n",
       "    </tr>\n",
       "  </tbody>\n",
       "</table>\n",
       "</div>"
      ],
      "text/plain": [
       "   Ozone  Solar.R  Wind  Temp  Month  Day\n",
       "4    NaN      NaN  14.3    56      5    5"
      ]
     },
     "execution_count": 218,
     "metadata": {},
     "output_type": "execute_result"
    }
   ],
   "source": [
    "# 결측치가 있는 데이터\n",
    "data[data['Ozone'].isna() | data['Solar.R'].isna()].head(1)"
   ]
  },
  {
   "cell_type": "code",
   "execution_count": 219,
   "id": "7c5cbcdf",
   "metadata": {},
   "outputs": [
    {
     "data": {
      "text/plain": [
       "Ozone       23.615385\n",
       "Solar.R    181.296296\n",
       "Wind        14.300000\n",
       "Temp        56.000000\n",
       "Month        5.000000\n",
       "Day          5.000000\n",
       "Name: 4, dtype: float64"
      ]
     },
     "execution_count": 219,
     "metadata": {},
     "output_type": "execute_result"
    }
   ],
   "source": [
    "def fill_nan(row):\n",
    "    #print(row)\n",
    "    #print(row.isna())\n",
    "    'row[\"Ozone\"]이나 row[\"Solar.R\"]가 결측치면 mean_data[월, 열이름]으로 대체'\n",
    "    #if np.isna(row['Ozone']):\n",
    "    pd.options.mode.copy_on_write = True \n",
    "    # row = row.copy()\n",
    "    if row.isna()['Ozone']:\n",
    "        row['Ozone'] = mean_data.loc[row.Month, 'Ozone']\n",
    "    if row.isna()['Solar.R']:\n",
    "        row['Solar.R'] = mean_data.loc[row['Month'], 'Solar.R']\n",
    "    return row\n",
    "fill_nan(data.loc[4])"
   ]
  },
  {
   "cell_type": "code",
   "execution_count": 220,
   "id": "ca017275",
   "metadata": {},
   "outputs": [
    {
     "data": {
      "text/plain": [
       "((153, 3), (153, 1))"
      ]
     },
     "execution_count": 220,
     "metadata": {},
     "output_type": "execute_result"
    }
   ],
   "source": [
    "data = data.apply(fill_nan, axis=1)\n",
    "X_data = data[['Solar.R', 'Wind', 'Temp']].values # 독립변수\n",
    "y_data = data[['Ozone']].values # 타겟변수\n",
    "X_data.shape, y_data.shape"
   ]
  },
  {
   "cell_type": "code",
   "execution_count": 221,
   "id": "3c375d14",
   "metadata": {},
   "outputs": [
    {
     "name": "stdout",
     "output_type": "stream",
     "text": [
      "1000번째 cost:577.6229858398438\n",
      "2000번째 cost:519.2978515625\n",
      "3000번째 cost:490.0574951171875\n",
      "4000번째 cost:475.39630126953125\n",
      "5000번째 cost:468.0428771972656\n",
      "6000번째 cost:464.35284423828125\n",
      "7000번째 cost:462.49884033203125\n",
      "8000번째 cost:461.5654602050781\n",
      "9000번째 cost:461.0933532714844\n",
      "10000번째 cost:460.8525390625\n",
      "11000번째 cost:460.7276916503906\n",
      "12000번째 cost:460.66094970703125\n",
      "13000번째 cost:460.6233215332031\n",
      "14000번째 cost:460.60028076171875\n",
      "15000번째 cost:460.5845642089844\n",
      "16000번째 cost:460.57257080078125\n",
      "17000번째 cost:460.5624084472656\n",
      "18000번째 cost:460.5531005859375\n",
      "19000번째 cost:460.5442810058594\n",
      "20000번째 cost:460.5357971191406\n",
      "최종 cost:460.5357971191406, W:[[ 0.05526062]\n",
      " [-3.553033  ]\n",
      " [ 0.8781902 ]], b:[-1.9602952]\n"
     ]
    }
   ],
   "source": [
    "# tensorflow 구현\n",
    "# 1. X, y\n",
    "X = tf.placeholder(shape=[None, 3], dtype=tf.float32)\n",
    "y = tf.placeholder(shape=[None, 1], dtype=tf.float32)\n",
    "# 2. 독립변수 3개, 타겟변수1개인 모델의 weight, bias\n",
    "W = tf.Variable(tf.random.normal([3, 1]))\n",
    "b = tf.Variable(tf.random_normal([1]))\n",
    "# 3. Hypothesis\n",
    "# H = X@W + b\n",
    "H = tf.matmul(X, W) + b\n",
    "# 4. cost함수(손실함수) : mse\n",
    "cost = tf.reduce_mean(tf.square(H-y))\n",
    "# 5. train\n",
    "train = tf.train.GradientDescentOptimizer(learning_rate=1e-5).minimize(cost)\n",
    "# sess 객체 생성 & W, b 초기화\n",
    "sess = tf.Session()\n",
    "sess.run(tf.global_variables_initializer())\n",
    "# 6. 학습\n",
    "for step in range(1, 20001):\n",
    "    _, cost_val = sess.run([train, cost], feed_dict={X:X_data,\n",
    "                                                    y:y_data})\n",
    "    if step%1000 == 0:\n",
    "        print(\"{}번째 cost:{}\".format(step, cost_val))\n",
    "print(\"최종 cost:{}, W:{}, b:{}\".format(cost_val,\n",
    "                                     sess.run(W),\n",
    "                                     sess.run(b)))"
   ]
  },
  {
   "cell_type": "code",
   "execution_count": 222,
   "id": "cf5c079d",
   "metadata": {},
   "outputs": [
    {
     "data": {
      "text/plain": [
       "array([[190. ,   7.4,  67. ,  41. ],\n",
       "       [118. ,   8. ,  72. ,  36. ],\n",
       "       [149. ,  12.6,  74. ,  12. ]])"
      ]
     },
     "execution_count": 222,
     "metadata": {},
     "output_type": "execute_result"
    }
   ],
   "source": [
    "np.column_stack([X_data, y_data])[:3]"
   ]
  },
  {
   "cell_type": "code",
   "execution_count": 223,
   "id": "958e2c5a",
   "metadata": {},
   "outputs": [
    {
     "data": {
      "text/plain": [
       "array([[39.365887]], dtype=float32)"
      ]
     },
     "execution_count": 223,
     "metadata": {},
     "output_type": "execute_result"
    }
   ],
   "source": [
    "# 예측하기\n",
    "input_data = np.array([[118. ,   8. ,  72.]])\n",
    "sess.run(H, feed_dict={X:input_data})"
   ]
  },
  {
   "cell_type": "markdown",
   "id": "3cd93896",
   "metadata": {},
   "source": [
    "### 스케일 조정\n",
    "```\n",
    "  MinMaxScaler, StandardScaler\n",
    "    0~1        -2 ~ 2. 주로 0근처\n",
    "```"
   ]
  },
  {
   "cell_type": "code",
   "execution_count": 224,
   "id": "68dfbef3",
   "metadata": {},
   "outputs": [
    {
     "data": {
      "text/plain": [
       "((153, 3), (153, 1))"
      ]
     },
     "execution_count": 224,
     "metadata": {},
     "output_type": "execute_result"
    }
   ],
   "source": [
    "from sklearn.preprocessing import MinMaxScaler\n",
    "x_scaler = MinMaxScaler()\n",
    "y_scaler = MinMaxScaler()\n",
    "scaled_X_data = x_scaler.fit_transform(X_data)\n",
    "scaled_y_data = y_scaler.fit_transform(y_data)\n",
    "scaled_X_data.shape, scaled_y_data.shape"
   ]
  },
  {
   "cell_type": "code",
   "execution_count": 225,
   "id": "7dea6cc5",
   "metadata": {},
   "outputs": [
    {
     "data": {
      "text/plain": [
       "array([[0.55963303, 0.3       , 0.26829268, 0.23952096],\n",
       "       [0.33944954, 0.33157895, 0.3902439 , 0.20958084]])"
      ]
     },
     "execution_count": 225,
     "metadata": {},
     "output_type": "execute_result"
    }
   ],
   "source": [
    "np.column_stack([scaled_X_data, scaled_y_data])[:2]"
   ]
  },
  {
   "cell_type": "code",
   "execution_count": 228,
   "id": "efb1b353",
   "metadata": {},
   "outputs": [
    {
     "name": "stdout",
     "output_type": "stream",
     "text": [
      "1000번째 cost:2.385342597961426\n",
      "2000번째 cost:2.2280690670013428\n",
      "3000번째 cost:2.081681489944458\n",
      "4000번째 cost:1.9454307556152344\n",
      "5000번째 cost:1.8186129331588745\n",
      "6000번째 cost:1.7005685567855835\n",
      "7000번째 cost:1.5906912088394165\n",
      "8000번째 cost:1.488421082496643\n",
      "9000번째 cost:1.3932247161865234\n",
      "10000번째 cost:1.304612636566162\n",
      "11000번째 cost:1.2221336364746094\n",
      "12000번째 cost:1.1453500986099243\n",
      "13000번째 cost:1.0738826990127563\n",
      "14000번째 cost:1.007350206375122\n",
      "15000번째 cost:0.9454137086868286\n",
      "16000번째 cost:0.8877594470977783\n",
      "17000번째 cost:0.834088146686554\n",
      "18000번째 cost:0.7841225266456604\n",
      "19000번째 cost:0.7376084327697754\n",
      "20000번째 cost:0.6943024396896362\n",
      "21000번째 cost:0.6539841890335083\n",
      "22000번째 cost:0.616445779800415\n",
      "23000번째 cost:0.5814944505691528\n",
      "24000번째 cost:0.5489538311958313\n",
      "25000번째 cost:0.518652617931366\n",
      "26000번째 cost:0.4904393255710602\n",
      "27000번째 cost:0.46416571736335754\n",
      "28000번째 cost:0.43970009684562683\n",
      "29000번째 cost:0.4169165790081024\n",
      "30000번째 cost:0.3956965208053589\n",
      "31000번째 cost:0.37593579292297363\n",
      "32000번째 cost:0.35752829909324646\n",
      "33000번째 cost:0.34038403630256653\n",
      "34000번째 cost:0.3244137465953827\n",
      "35000번째 cost:0.3095357418060303\n",
      "36000번째 cost:0.2956755757331848\n",
      "37000번째 cost:0.2827625274658203\n",
      "38000번째 cost:0.27073031663894653\n",
      "39000번째 cost:0.25951653718948364\n",
      "40000번째 cost:0.24906796216964722\n",
      "최종 cost:0.24906796216964722, W:[[ 0.8492685 ]\n",
      " [ 0.38062304]\n",
      " [-0.556404  ]], b:[0.27372628]\n"
     ]
    }
   ],
   "source": [
    "# tensorflow 구현\n",
    "# 1. X, y\n",
    "X = tf.placeholder(shape=[None, 3], dtype=tf.float32)\n",
    "y = tf.placeholder(shape=[None, 1], dtype=tf.float32)\n",
    "# 2. 독립변수 3개, 타겟변수1개인 모델의 weight, bias\n",
    "W = tf.Variable(tf.random.normal([3, 1]))\n",
    "b = tf.Variable(tf.random_normal([1]))\n",
    "# 3. Hypothesis\n",
    "# H = X@W + b\n",
    "H = tf.matmul(X, W) + b\n",
    "# 4. cost함수(손실함수) : mse\n",
    "cost = tf.reduce_mean(tf.square(H-y))\n",
    "# 5. train\n",
    "train = tf.train.GradientDescentOptimizer(learning_rate=1e-5).minimize(cost)\n",
    "# sess 객체 생성 & W, b 초기화\n",
    "sess = tf.Session()\n",
    "sess.run(tf.global_variables_initializer())\n",
    "# 6. 학습\n",
    "for step in range(1, 40001):\n",
    "    _, cost_val = sess.run([train, cost], feed_dict={X:scaled_X_data,\n",
    "                                                    y:scaled_y_data})\n",
    "    if step%1000 == 0:\n",
    "        print(\"{}번째 cost:{}\".format(step, cost_val))\n",
    "print(\"최종 cost:{}, W:{}, b:{}\".format(cost_val,\n",
    "                                     sess.run(W),\n",
    "                                     sess.run(b)))"
   ]
  },
  {
   "cell_type": "code",
   "execution_count": 227,
   "id": "7259d4e9",
   "metadata": {},
   "outputs": [
    {
     "data": {
      "text/plain": [
       "array([[43.15185]], dtype=float32)"
      ]
     },
     "execution_count": 227,
     "metadata": {},
     "output_type": "execute_result"
    }
   ],
   "source": [
    "# 예측하기\n",
    "input_data = np.array([[190.,7.4,67.]])\n",
    "scaled_y_hat = sess.run(H, feed_dict={X:x_scaler.transform(input_data)})\n",
    "y_scaler.inverse_transform(scaled_y_hat)"
   ]
  },
  {
   "cell_type": "markdown",
   "id": "eed8019e",
   "metadata": {},
   "source": [
    "# 3. 이진분류 = logistic Regression\n",
    "- logistic 회귀분석 : 기본의 회귀분석과 다른 처리 필요"
   ]
  },
  {
   "cell_type": "code",
   "execution_count": 234,
   "id": "d9cd5fa3",
   "metadata": {},
   "outputs": [
    {
     "data": {
      "text/plain": [
       "<matplotlib.collections.PathCollection at 0x1dc1a7dc3d0>"
      ]
     },
     "execution_count": 234,
     "metadata": {},
     "output_type": "execute_result"
    },
    {
     "data": {
      "image/png": "[encoded data removed]",
      "text/plain": [
       "<Figure size 640x480 with 1 Axes>"
      ]
     },
     "metadata": {},
     "output_type": "display_data"
    }
   ],
   "source": [
    "x = np.array([1,2,5,8,10])\n",
    "y = np.array([0,0,0,1,1]) # 실제값\n",
    "from scipy import stats\n",
    "lm = stats.linregress(x,y) # 기울기(W)와 y절편(b)\n",
    "H = lm[0]*x + lm[1]\n",
    "import matplotlib.pyplot as plt\n",
    "plt.plot(x, H, 'r')\n",
    "plt.scatter(x,y)"
   ]
  },
  {
   "cell_type": "code",
   "execution_count": 235,
   "id": "3e2eb3b2",
   "metadata": {},
   "outputs": [
    {
     "data": {
      "text/plain": [
       "<matplotlib.collections.PathCollection at 0x1dc1a823d00>"
      ]
     },
     "execution_count": 235,
     "metadata": {},
     "output_type": "execute_result"
    },
    {
     "data": {
      "image/png": "[encoded data removed]",
      "text/plain": [
       "<Figure size 640x480 with 1 Axes>"
      ]
     },
     "metadata": {},
     "output_type": "display_data"
    }
   ],
   "source": [
    "x = np.array([1,2,5,8,10,40])\n",
    "y = np.array([0,0,0,1,1,1]) # 실제값\n",
    "from scipy import stats\n",
    "lm = stats.linregress(x,y) # 기울기(W)와 y절편(b)\n",
    "H = lm[0]*x + lm[1]\n",
    "import matplotlib.pyplot as plt\n",
    "plt.plot(x, H, 'r')\n",
    "plt.scatter(x,y)"
   ]
  },
  {
   "cell_type": "code",
   "execution_count": null,
   "id": "21da6abe",
   "metadata": {},
   "outputs": [],
   "source": []
  }
 ],
 "metadata": {
  "kernelspec": {
   "display_name": "ml-dl-nlp",
   "language": "python",
   "name": "ml-dl-nlp"
  },
  "language_info": {
   "codemirror_mode": {
    "name": "ipython",
    "version": 3
   },
   "file_extension": ".py",
   "mimetype": "text/x-python",
   "name": "python",
   "nbconvert_exporter": "python",
   "pygments_lexer": "ipython3",
   "version": "3.10.18"
  },
  "toc": {
   "base_numbering": 1,
   "nav_menu": {},
   "number_sections": false,
   "sideBar": true,
   "skip_h1_title": false,
   "title_cell": "Table of Contents",
   "title_sidebar": "Contents",
   "toc_cell": false,
   "toc_position": {
    "height": "calc(100% - 180px)",
    "left": "10px",
    "top": "150px",
    "width": "165px"
   },
   "toc_section_display": true,
   "toc_window_display": true
  }
 },
 "nbformat": 4,
 "nbformat_minor": 5
}
