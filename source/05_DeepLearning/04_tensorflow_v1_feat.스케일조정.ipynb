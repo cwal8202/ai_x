{
 "cells": [
  {
   "cell_type": "code",
   "execution_count": 59,
   "id": "bd3e31e2",
   "metadata": {},
   "outputs": [
    {
     "data": {
      "text/html": [
       "\n",
       "<style>\n",
       "div.container{width:86% !important;}\n",
       "div.cell.code_cell.rendered{width:100%;}\n",
       "div.CodeMirror {font-family:Consolas; font-size:15pt;}\n",
       "div.output {font-size:15pt; font-weight:bold;}\n",
       "div.input {font-family:Consolas; font-size:15pt;}\n",
       "div.prompt {min-width:70px;}\n",
       "div#toc-wrapper{padding-top:120px;}\n",
       "div.text_cell_render ul li{font-size:12pt;padding:5px;}\n",
       "table.dataframe{font-size:15px;}\n",
       "</style>\n"
      ],
      "text/plain": [
       "<IPython.core.display.HTML object>"
      ]
     },
     "metadata": {},
     "output_type": "display_data"
    }
   ],
   "source": [
    "from IPython.display import display, HTML\n",
    "display(HTML(\"\"\"\n",
    "<style>\n",
    "div.container{width:86% !important;}\n",
    "div.cell.code_cell.rendered{width:100%;}\n",
    "div.CodeMirror {font-family:Consolas; font-size:15pt;}\n",
    "div.output {font-size:15pt; font-weight:bold;}\n",
    "div.input {font-family:Consolas; font-size:15pt;}\n",
    "div.prompt {min-width:70px;}\n",
    "div#toc-wrapper{padding-top:120px;}\n",
    "div.text_cell_render ul li{font-size:12pt;padding:5px;}\n",
    "table.dataframe{font-size:15px;}\n",
    "</style>\n",
    "\"\"\"))"
   ]
  },
  {
   "cell_type": "markdown",
   "id": "87fb4472",
   "metadata": {},
   "source": [
    "# 1. tensorflow v2.xx에서 v1사용하기"
   ]
  },
  {
   "cell_type": "code",
   "execution_count": 60,
   "id": "09326536",
   "metadata": {},
   "outputs": [],
   "source": [
    "import tensorflow.compat.v1 as tf\n",
    "tf.disable_v2_behavior()  # v2를 비활성화하고 v1활성화\n",
    "import numpy as np\n",
    "import pandas as pd"
   ]
  },
  {
   "cell_type": "markdown",
   "id": "641e1896",
   "metadata": {},
   "source": [
    "## Tensorflow\n",
    "- 데이터 흐름 그래프(tensor객체의 흐름)\n",
    "- 이 그래프는 node(상수, 변수, 연산)와 edge로 구성\n",
    "- sess = tf.Session()으로 실행\n",
    "- sess.run()을 통해 값을 확인"
   ]
  },
  {
   "cell_type": "code",
   "execution_count": 61,
   "id": "f3af8605",
   "metadata": {},
   "outputs": [
    {
     "name": "stdout",
     "output_type": "stream",
     "text": [
      "b'Hello, Tensorflow'\n"
     ]
    }
   ],
   "source": [
    "# tensor = data(상수, 변수)와 연산\n",
    "node1 = tf.constant('Hello, Tensorflow')\n",
    "sess = tf.Session()\n",
    "print(sess.run(node1))"
   ]
  },
  {
   "cell_type": "code",
   "execution_count": 62,
   "id": "ccc5f189",
   "metadata": {},
   "outputs": [
    {
     "name": "stdout",
     "output_type": "stream",
     "text": [
      "[10.0, 20.0, 30.0]\n"
     ]
    }
   ],
   "source": [
    "# 간단한 연산 tensor 그래프\n",
    "node1 = tf.constant(10, dtype=tf.float16)\n",
    "node2 = tf.constant(20, dtype=tf.float16)\n",
    "node3 = tf.add(node1, node2)\n",
    "sess = tf.Session()\n",
    "print(sess.run([node1, node2, node3]))"
   ]
  },
  {
   "cell_type": "code",
   "execution_count": 63,
   "id": "5d887854",
   "metadata": {},
   "outputs": [
    {
     "data": {
      "text/plain": [
       "[array([1, 2, 3], dtype=int16), array([1., 2., 3.], dtype=float32)]"
      ]
     },
     "execution_count": 63,
     "metadata": {},
     "output_type": "execute_result"
    }
   ],
   "source": [
    "# 타입 변경\n",
    "node1 = tf.constant(np.array([1,2,3]), dtype=tf.int16)\n",
    "node2 = tf.cast(node1, dtype=tf.float32)\n",
    "sess = tf.Session()\n",
    "sess.run([node1, node2])"
   ]
  },
  {
   "cell_type": "code",
   "execution_count": 64,
   "id": "c516f53b",
   "metadata": {},
   "outputs": [
    {
     "data": {
      "text/plain": [
       "2.0"
      ]
     },
     "execution_count": 64,
     "metadata": {},
     "output_type": "execute_result"
    }
   ],
   "source": [
    "# 평균값 계산 : tf.reduce_mean()\n",
    "data = np.array([1., 2., 3.])\n",
    "tensor = tf.reduce_mean(data)\n",
    "sess = tf.Session()\n",
    "sess.run(tensor)"
   ]
  },
  {
   "cell_type": "code",
   "execution_count": 65,
   "id": "8764d117",
   "metadata": {},
   "outputs": [
    {
     "data": {
      "text/plain": [
       "[array([-0.3290114,  0.2904123], dtype=float32),\n",
       " array([-1.6955086], dtype=float32)]"
      ]
     },
     "execution_count": 65,
     "metadata": {},
     "output_type": "execute_result"
    }
   ],
   "source": [
    "# 랜덤값을 갖는 tensor\n",
    "a = tf.random_normal([2]) # 평균0, 표준편차가 1인 난수 실수 2개(정규분포이루는난수)\n",
    "b = tf.random_normal([1])\n",
    "sess = tf.Session()\n",
    "sess.run([a,b])"
   ]
  },
  {
   "cell_type": "code",
   "execution_count": 66,
   "id": "6ef8b769",
   "metadata": {},
   "outputs": [
    {
     "data": {
      "text/plain": [
       "array([-0.6288828], dtype=float32)"
      ]
     },
     "execution_count": 66,
     "metadata": {},
     "output_type": "execute_result"
    }
   ],
   "source": [
    "w = tf.Variable(tf.random.normal([1]))\n",
    "sess = tf.Session()\n",
    "sess.run(tf.global_variables_initializer()) # w변수의 난수 초기화\n",
    "sess.run(w)"
   ]
  },
  {
   "cell_type": "markdown",
   "id": "76d47a43",
   "metadata": {},
   "source": [
    "# 2. tensorflow v1을 이용한 linear regression을 구현\n",
    "## 2.1 입력(독립)변수 x가 1개, 타겟(종속)변수 y가 1개"
   ]
  },
  {
   "cell_type": "code",
   "execution_count": 67,
   "id": "d0ff409d",
   "metadata": {},
   "outputs": [
    {
     "name": "stdout",
     "output_type": "stream",
     "text": [
      "0번째 cost:8.98308277130127, W:[0.18979076], b:[0.03766257]\n",
      "200번째 cost:0.014186779968440533, W:[1.1380044], b:[0.68628377]\n",
      "400번째 cost:0.005417214706540108, W:[1.0852784], b:[0.8061422]\n",
      "600번째 cost:0.0020685556810349226, W:[1.0526968], b:[0.8802078]\n",
      "800번째 cost:0.0007898799958638847, W:[1.0325636], b:[0.9259756]\n",
      "1000번째 cost:0.0003016129194293171, W:[1.020122], b:[0.9542573]\n",
      "1200번째 cost:0.00011516972881508991, W:[1.0124342], b:[0.9717341]\n",
      "1400번째 cost:4.397685916046612e-05, W:[1.0076836], b:[0.98253345]\n",
      "1600번째 cost:1.6793237591627985e-05, W:[1.0047481], b:[0.9892065]\n",
      "1800번째 cost:6.412305538106011e-06, W:[1.0029341], b:[0.9933304]\n",
      "2000번째 cost:2.4492157990607666e-06, W:[1.0018133], b:[0.99587804]\n",
      "2200번째 cost:9.357913199892209e-07, W:[1.0011208], b:[0.9974522]\n",
      "2400번째 cost:3.577985410174733e-07, W:[1.0006933], b:[0.9984246]\n",
      "2600번째 cost:1.3696512723981868e-07, W:[1.0004288], b:[0.9990252]\n",
      "2800번째 cost:5.250825907410217e-08, W:[1.0002656], b:[0.99939656]\n",
      "3000번째 cost:2.0181053272949612e-08, W:[1.0001647], b:[0.999626]\n",
      "3200번째 cost:7.78475861551442e-09, W:[1.0001025], b:[0.9997677]\n",
      "3400번째 cost:2.990465874930237e-09, W:[1.0000637], b:[0.999856]\n",
      "3600번째 cost:1.18926379855111e-09, W:[1.0000396], b:[0.99990916]\n",
      "3800번째 cost:4.4571871193888057e-10, W:[1.0000244], b:[0.99994445]\n",
      "4000번째 cost:1.8466532469840757e-10, W:[1.0000159], b:[0.9999643]\n",
      "4200번째 cost:8.237085319384718e-11, W:[1.0000108], b:[0.9999762]\n",
      "4400번째 cost:5.328478283606053e-11, W:[1.0000087], b:[0.9999811]\n",
      "4600번째 cost:5.328478283606053e-11, W:[1.0000087], b:[0.9999811]\n",
      "4800번째 cost:5.328478283606053e-11, W:[1.0000087], b:[0.9999811]\n",
      "5000번째 cost:5.328478283606053e-11, W:[1.0000087], b:[0.9999811]\n"
     ]
    }
   ],
   "source": [
    "x = np.array([1,2,3])\n",
    "y = np.array([2,3,4])\n",
    "# weight오 bias(처음엔 랜덤값으로 셋팅, 학습과정에서 변경)\n",
    "W = tf.Variable(tf.random.normal([1]), name='weight')\n",
    "b = tf.Variable(tf.random.normal([1]), name='bias')\n",
    "# Hypothesis : 예측값\n",
    "H = W*x + b\n",
    "#cost function(손실함수 = mse;최소제곱법)\n",
    "cost = tf.reduce_mean(tf.square(H-y))\n",
    "'''\n",
    "학습목적 : cost가 최소가 되는 W, b를 찾아내는 것\n",
    "cost는 2차함수이므로 곡선그래프. 곡선위 미분값이 줄어드는 방향으로 학습(경사하강)\n",
    "=> GradientDescentOptimizer\n",
    "'''\n",
    "optimizer = tf.train.GradientDescentOptimizer(learning_rate=0.01)\n",
    "train = optimizer.minimize(cost)\n",
    "# Session 생성\n",
    "sess = tf.Session()\n",
    "# W, b 변수 노드에 초기화\n",
    "sess.run(tf.global_variables_initializer())\n",
    "# 5000번 학습 (v2에서는 fit함수)\n",
    "for step in range(5001):\n",
    "    _, cost_val, W_val, b_val = sess.run([train, cost, W, b])\n",
    "    if step%200 == 0:\n",
    "        print(\"{}번째 cost:{}, W:{}, b:{}\".format(step,\n",
    "                                               cost_val,\n",
    "                                               W_val,\n",
    "                                               b_val))"
   ]
  },
  {
   "cell_type": "code",
   "execution_count": 68,
   "id": "908c320e",
   "metadata": {},
   "outputs": [
    {
     "data": {
      "text/plain": [
       "[array([1.0000087], dtype=float32), array([0.9999811], dtype=float32)]"
      ]
     },
     "execution_count": 68,
     "metadata": {},
     "output_type": "execute_result"
    }
   ],
   "source": [
    "# 최종적으로 나온 회귀식 : H = W*x + b\n",
    "sess.run([W, b])"
   ]
  },
  {
   "cell_type": "code",
   "execution_count": 69,
   "id": "0f2ba33d",
   "metadata": {},
   "outputs": [
    {
     "data": {
      "text/plain": [
       "(1.0000087, 0.9999811)"
      ]
     },
     "execution_count": 69,
     "metadata": {},
     "output_type": "execute_result"
    }
   ],
   "source": [
    "W_, b_ = sess.run([W, b])\n",
    "W_[0], b_[0]"
   ]
  },
  {
   "cell_type": "code",
   "execution_count": 70,
   "id": "9062c876",
   "metadata": {},
   "outputs": [],
   "source": [
    "def predict(x):\n",
    "    return W_[0]*x + b_[0]"
   ]
  },
  {
   "cell_type": "code",
   "execution_count": 74,
   "id": "8bc94d46",
   "metadata": {},
   "outputs": [
    {
     "name": "stdout",
     "output_type": "stream",
     "text": [
      "입력값은 ?11\n",
      "예측값은  12.000076830387115\n"
     ]
    }
   ],
   "source": [
    "input_x = int(input('입력값은 ?'))\n",
    "print('예측값은 ', predict(input_x))"
   ]
  },
  {
   "cell_type": "markdown",
   "id": "0e95e246",
   "metadata": {},
   "source": [
    "## 2.2 predict를 위한 placeholder이용\n",
    "- placeholder : 텐서플로우 외부에서 데이터를 입력받는 노드"
   ]
  },
  {
   "cell_type": "code",
   "execution_count": null,
   "id": "ce4bdc45",
   "metadata": {},
   "outputs": [],
   "source": [
    "# x = np.array([1,2,3])\n",
    "x = tf.placeholder(tf.float16)\n",
    "H = 1*x + 1\n",
    "sess = tf.Session()\n",
    "sess.run(H, feed_dict={x:5})\n",
    "sess.run(H, feed_dict={x:np.array([1,2,3])})"
   ]
  },
  {
   "cell_type": "code",
   "execution_count": 72,
   "id": "0c7d6242",
   "metadata": {},
   "outputs": [
    {
     "name": "stdout",
     "output_type": "stream",
     "text": [
      "0째 : cost:29.689708709716797, W:[1.1804316], b:[1.7110053]\n",
      "200째 : cost:0.020761195570230484, W:[1.9509993], b:[1.2619079]\n",
      "400째 : cost:0.0020420446526259184, W:[1.9846323], b:[1.0821401]\n",
      "600째 : cost:0.00020084320567548275, W:[1.9951805], b:[1.0257603]\n",
      "800째 : cost:1.9751436411752366e-05, W:[1.9984887], b:[1.0080783]\n",
      "1000째 : cost:1.9435785816313e-06, W:[1.9995259], b:[1.0025339]\n",
      "1200째 : cost:1.9126005668113066e-07, W:[1.9998512], b:[1.000795]\n",
      "1400째 : cost:1.8835681458995168e-08, W:[1.9999533], b:[1.0002497]\n",
      "1600째 : cost:1.887065170791402e-09, W:[1.9999852], b:[1.000079]\n",
      "1800째 : cost:2.0263542233056597e-10, W:[1.9999951], b:[1.0000259]\n",
      "2000째 : cost:3.470859016863059e-11, W:[1.9999979], b:[1.000011]\n",
      "2200째 : cost:3.470859016863059e-11, W:[1.9999979], b:[1.000011]\n",
      "2400째 : cost:3.470859016863059e-11, W:[1.9999979], b:[1.000011]\n",
      "2600째 : cost:3.470859016863059e-11, W:[1.9999979], b:[1.000011]\n",
      "2800째 : cost:3.470859016863059e-11, W:[1.9999979], b:[1.000011]\n",
      "3000째 : cost:3.470859016863059e-11, W:[1.9999979], b:[1.000011]\n",
      "3200째 : cost:3.470859016863059e-11, W:[1.9999979], b:[1.000011]\n",
      "3400째 : cost:3.470859016863059e-11, W:[1.9999979], b:[1.000011]\n",
      "3600째 : cost:3.470859016863059e-11, W:[1.9999979], b:[1.000011]\n",
      "3800째 : cost:3.470859016863059e-11, W:[1.9999979], b:[1.000011]\n",
      "4000째 : cost:3.470859016863059e-11, W:[1.9999979], b:[1.000011]\n",
      "4200째 : cost:3.470859016863059e-11, W:[1.9999979], b:[1.000011]\n",
      "4400째 : cost:3.470859016863059e-11, W:[1.9999979], b:[1.000011]\n",
      "4600째 : cost:3.470859016863059e-11, W:[1.9999979], b:[1.000011]\n",
      "4800째 : cost:3.470859016863059e-11, W:[1.9999979], b:[1.000011]\n",
      "5000째 : cost:3.470859016863059e-11, W:[1.9999979], b:[1.000011]\n"
     ]
    }
   ],
   "source": [
    "# H = 2x+1\n",
    "x_data = np.array([1,2,3,5,8])\n",
    "y_data = np.array([3,5,7,11,17])\n",
    "# placeholder 설정 (입력변수 x, 타겟변수 y)\n",
    "x = tf.placeholder(dtype=tf.float32)\n",
    "y = tf.placeholder(dtype=tf.float32)\n",
    "# W, b\n",
    "W = tf.Variable(tf.random.normal([1]))\n",
    "b = tf.Variable(tf.random.normal([1]))\n",
    "# Hypothesis(예측값)\n",
    "H = W*x + b\n",
    "# 손실함수\n",
    "cost = tf.reduce_mean(tf.square(H-y))\n",
    "# 경사하강법\n",
    "train = tf.train.GradientDescentOptimizer(learning_rate=0.01).minimize(cost)\n",
    "# Session 객체 생성\n",
    "sess = tf.Session()\n",
    "sess.run(tf.global_variables_initializer()) # W, b 초기화\n",
    "# 5000번 학습\n",
    "for step in range(5001):\n",
    "    _, cost_val, W_val, b_val = sess.run([train, cost, W, b], \n",
    "                                         feed_dict={x:x_data,\n",
    "                                                   y:y_data})\n",
    "    if step%200 == 0:\n",
    "        print('{}째 : cost:{}, W:{}, b:{}'.format(step, cost_val, W_val, b_val))"
   ]
  },
  {
   "cell_type": "code",
   "execution_count": 73,
   "id": "121b0ee0",
   "metadata": {},
   "outputs": [
    {
     "data": {
      "text/plain": [
       "array([11.], dtype=float32)"
      ]
     },
     "execution_count": 73,
     "metadata": {},
     "output_type": "execute_result"
    }
   ],
   "source": [
    "# 예측하기\n",
    "sess.run(H, feed_dict={x:5})"
   ]
  },
  {
   "cell_type": "code",
   "execution_count": 28,
   "id": "8f8df600",
   "metadata": {},
   "outputs": [
    {
     "data": {
      "text/plain": [
       "array([11.      , 12.999998, 14.999996], dtype=float32)"
      ]
     },
     "execution_count": 28,
     "metadata": {},
     "output_type": "execute_result"
    }
   ],
   "source": [
    "sess.run(H, feed_dict={x:np.array([5, 6, 7])})"
   ]
  },
  {
   "cell_type": "markdown",
   "id": "e5ed33f9",
   "metadata": {},
   "source": [
    "## 2.3 scale이 다른 데이터의 linear regression 구현(scale조정X)"
   ]
  },
  {
   "cell_type": "code",
   "execution_count": 32,
   "id": "f7186e9b",
   "metadata": {},
   "outputs": [
    {
     "name": "stdout",
     "output_type": "stream",
     "text": [
      "0째 : cost:4540.4052734375, W:[7.671006], b:[1.4549785]\n",
      "200째 : cost:83.75760650634766, W:[10.174782], b:[-0.4268483]\n",
      "400째 : cost:83.50755310058594, W:[10.263969], b:[-1.0872194]\n",
      "600째 : cost:83.48463439941406, W:[10.290983], b:[-1.287241]\n",
      "800째 : cost:83.48251342773438, W:[10.299166], b:[-1.347826]\n",
      "1000째 : cost:83.48233032226562, W:[10.301644], b:[-1.366176]\n",
      "1200째 : cost:83.48231506347656, W:[10.302395], b:[-1.371734]\n",
      "1400째 : cost:83.48231506347656, W:[10.302623], b:[-1.3734183]\n",
      "1600째 : cost:83.48231506347656, W:[10.302691], b:[-1.3739275]\n",
      "1800째 : cost:83.4823226928711, W:[10.3027115], b:[-1.3740809]\n",
      "2000째 : cost:83.4823226928711, W:[10.302717], b:[-1.3741258]\n",
      "2200째 : cost:83.48233032226562, W:[10.302718], b:[-1.3741326]\n",
      "2400째 : cost:83.48233032226562, W:[10.302718], b:[-1.3741326]\n",
      "2600째 : cost:83.48233032226562, W:[10.302718], b:[-1.3741326]\n",
      "2800째 : cost:83.48233032226562, W:[10.302718], b:[-1.3741326]\n",
      "3000째 : cost:83.48233032226562, W:[10.302718], b:[-1.3741326]\n"
     ]
    }
   ],
   "source": [
    "x_data = np.array([1,2,5,8,10])\n",
    "y_data = np.array([3,15,68,80,95])\n",
    "# placeholder 설정 (입력변수 x, 타겟변수 y)\n",
    "x = tf.placeholder(dtype=tf.float32)\n",
    "y = tf.placeholder(dtype=tf.float32)\n",
    "# W, b\n",
    "W = tf.Variable(tf.random.normal([1]))\n",
    "b = tf.Variable(tf.random.normal([1]))\n",
    "# Hypothesis(예측값)\n",
    "H = W*x + b\n",
    "# 손실함수\n",
    "cost = tf.reduce_mean(tf.square(H-y))\n",
    "# 경사하강법\n",
    "train = tf.train.GradientDescentOptimizer(learning_rate=0.01).minimize(cost)\n",
    "# Session 객체 생성\n",
    "sess = tf.Session()\n",
    "sess.run(tf.global_variables_initializer()) # W, b 초기화\n",
    "# 3000번 학습\n",
    "for step in range(3001):\n",
    "    _, cost_val, W_val, b_val = sess.run([train, cost, W, b], \n",
    "                                         feed_dict={x:x_data,\n",
    "                                                   y:y_data})\n",
    "    if step%200 == 0:\n",
    "        print('{}째 : cost:{}, W:{}, b:{}'.format(step, cost_val, W_val, b_val))"
   ]
  },
  {
   "cell_type": "code",
   "execution_count": null,
   "id": "b85b1778",
   "metadata": {},
   "outputs": [],
   "source": [
    "# cost값이 멈춤 : local 최소값"
   ]
  },
  {
   "cell_type": "markdown",
   "id": "8115b311",
   "metadata": {},
   "source": [
    "## 2.4 scale이 다른 데이터의 linear regression을 구현(조정O)\n",
    "### scale을 맞추기 : 모든 데이터를 일정 범위내로 조정\n",
    "- normalization(정규화) : 0~1로 조정\n",
    "                      X - Xmin\n",
    "    normalization = ────────────\n",
    "                     Xmax - Xmin\n",
    "         * 위의 식을 써도 되지만 라이브러리를 씀(sklearn.preprocessing.MinMaxScaler이용)\n",
    "- standardization(표준화) : 평균0, 표준편차 1로 조정\n",
    "                        X - Xmean(평균)\n",
    "    standardization = ──────────────────\n",
    "                          Xstd(표준편차)\n",
    "         * 위의 식을 써도 되지만 라이브러리를 씀(sklearn.preprocessing.StandardScaler 이용)"
   ]
  },
  {
   "cell_type": "code",
   "execution_count": 78,
   "id": "8cd8d99e",
   "metadata": {},
   "outputs": [
    {
     "name": "stdout",
     "output_type": "stream",
     "text": [
      "[0.         0.11111111 0.44444444 0.77777778 1.        ]\n",
      "[0.         0.13043478 0.70652174 0.83695652 1.        ]\n"
     ]
    }
   ],
   "source": [
    "# 라이브러리를 쓰지 않고 정규화\n",
    "x_data = np.array([1,2,5,8,10])\n",
    "y_data = np.array([3,15,68,80,95])\n",
    "scaled_x_data = (x_data - x_data.min()) / (x_data.max()-x_data.min())\n",
    "scaled_y_data = (y_data - y_data.min()) / (y_data.max()-y_data.min())\n",
    "print(scaled_x_data)\n",
    "print(scaled_y_data)"
   ]
  },
  {
   "cell_type": "code",
   "execution_count": 87,
   "id": "7c63892d",
   "metadata": {},
   "outputs": [
    {
     "data": {
      "text/plain": [
       "array([[ 1.        ,  3.        ,  0.        ,  0.        ],\n",
       "       [ 2.        , 15.        ,  0.11111111,  0.13043478],\n",
       "       [ 5.        , 68.        ,  0.44444444,  0.70652174],\n",
       "       [ 8.        , 80.        ,  0.77777778,  0.83695652],\n",
       "       [10.        , 95.        ,  1.        ,  1.        ]])"
      ]
     },
     "execution_count": 87,
     "metadata": {},
     "output_type": "execute_result"
    }
   ],
   "source": [
    "# 라이브러리를 쓰고 정규화 (MinMaxScalr이용)\n",
    "x_data = np.array([1,2,5,8,10]).reshape(-1, 1)\n",
    "y_data = np.array([3,15,68,80,95]).reshape(-1,1)\n",
    "# np.column_stack([x_data, y_data])\n",
    "from sklearn.preprocessing import MinMaxScaler\n",
    "scaler_x = MinMaxScaler() # x_data를 정규화 시킬 객체\n",
    "# scaler_x.fit(x_data)\n",
    "# scaled_x_data = scaler_x.transform(x_data)\n",
    "scaled_x_data = scaler_x.fit_transform(x_data)\n",
    "scaler_y = MinMaxScaler() # y_data를 정규화 시킬 객체\n",
    "scaled_y_data = scaler_y.fit_transform(y_data)\n",
    "np.column_stack([x_data, y_data, scaled_x_data, scaled_y_data])"
   ]
  },
  {
   "cell_type": "code",
   "execution_count": 92,
   "id": "b046e861",
   "metadata": {},
   "outputs": [
    {
     "name": "stdout",
     "output_type": "stream",
     "text": [
      "0째 : cost:0.3141205906867981, W:[0.85007995], b:[0.6850925]\n",
      "600째 : cost:0.04025352746248245, W:[0.7273465], b:[0.33278343]\n",
      "1200째 : cost:0.0228542722761631, W:[0.73188925], b:[0.23709002]\n",
      "1800째 : cost:0.019186247140169144, W:[0.7607244], b:[0.20099401]\n",
      "2400째 : cost:0.016887402161955833, W:[0.7913638], b:[0.18014403]\n",
      "3000째 : cost:0.015173007734119892, W:[0.8192502], b:[0.16437086]\n",
      "3600째 : cost:0.01387791894376278, W:[0.84377736], b:[0.15118252]\n",
      "4200째 : cost:0.012898762710392475, W:[0.86516684], b:[0.13983262]\n",
      "4800째 : cost:0.0121584078297019, W:[0.8837801], b:[0.12998962]\n",
      "5400째 : cost:0.011598629876971245, W:[0.8999681], b:[0.12143674]\n",
      "6000째 : cost:0.011175374500453472, W:[0.9140451], b:[0.1140009]\n",
      "6600째 : cost:0.01085534319281578, W:[0.92628586], b:[0.10753535]\n",
      "7200째 : cost:0.010613372549414635, W:[0.93692964], b:[0.10191339]\n",
      "7800째 : cost:0.010430416092276573, W:[0.94618475], b:[0.09702488]\n",
      "8400째 : cost:0.010292083956301212, W:[0.95423263], b:[0.09277413]\n",
      "9000째 : cost:0.01018748339265585, W:[0.9612306], b:[0.08907792]\n",
      "9600째 : cost:0.010108399204909801, W:[0.96731573], b:[0.08586389]\n",
      "10200째 : cost:0.010048605501651764, W:[0.97260684], b:[0.08306912]\n",
      "10800째 : cost:0.010003389790654182, W:[0.97720766], b:[0.08063898]\n",
      "11400째 : cost:0.009969205595552921, W:[0.9812083], b:[0.07852589]\n",
      "12000째 : cost:0.009943356737494469, W:[0.9846871], b:[0.07668849]\n"
     ]
    }
   ],
   "source": [
    "# 라이브러리를 쓰고 정규화 (MinMaxScalr이용)\n",
    "x_data = np.array([1,2,5,8,10]).reshape(-1, 1)\n",
    "y_data = np.array([3,15,68,80,95]).reshape(-1,1)\n",
    "# np.column_stack([x_data, y_data])\n",
    "from sklearn.preprocessing import MinMaxScaler\n",
    "scaler_x = MinMaxScaler() # x_data를 정규화 시킬 객체\n",
    "# scaler_x.fit(x_data)\n",
    "# scaled_x_data = scaler_x.transform(x_data)\n",
    "scaled_x_data = scaler_x.fit_transform(x_data)\n",
    "scaler_y = MinMaxScaler() # y_data를 정규화 시킬 객체\n",
    "scaled_y_data = scaler_y.fit_transform(y_data)\n",
    "np.column_stack([x_data, y_data, scaled_x_data, scaled_y_data])\n",
    "##### 스케일 된 데이터 ####\n",
    "\n",
    "# placeholder 설정 (입력변수 x, 타겟변수 y)\n",
    "x = tf.placeholder(dtype=tf.float32)\n",
    "y = tf.placeholder(dtype=tf.float32)\n",
    "# W, b\n",
    "W = tf.Variable(tf.random.normal([1]))\n",
    "b = tf.Variable(tf.random.normal([1]))\n",
    "# Hypothesis(예측값)\n",
    "H = W*x + b\n",
    "# 손실함수\n",
    "cost = tf.reduce_mean(tf.square(H-y))\n",
    "# 경사하강법\n",
    "train = tf.train.GradientDescentOptimizer(learning_rate=0.001).minimize(cost)\n",
    "# Session 객체 생성\n",
    "sess = tf.Session()\n",
    "sess.run(tf.global_variables_initializer()) # W, b 초기화\n",
    "# 3000번 학습\n",
    "for step in range(12001):\n",
    "    _, cost_val, W_val, b_val = sess.run([train, cost, W, b], \n",
    "                                         feed_dict={x:scaled_x_data,\n",
    "                                                   y:scaled_y_data})\n",
    "    if step%600 == 0:\n",
    "        print('{}째 : cost:{}, W:{}, b:{}'.format(step, cost_val, W_val, b_val))"
   ]
  },
  {
   "cell_type": "code",
   "execution_count": 99,
   "id": "19a53de0",
   "metadata": {},
   "outputs": [
    {
     "name": "stdout",
     "output_type": "stream",
     "text": [
      "모델 예측을 위한 입력:\n",
      "[[0.11111111]\n",
      " [0.22222222]]\n",
      "모델 예측 결과 : [[0.18609816]\n",
      " [0.29550785]]\n",
      "결과 :\n",
      "[[20.12103 ]\n",
      " [30.186722]]\n"
     ]
    }
   ],
   "source": [
    "# 예측 : 모델에 scale 조정된 값으로 예측 => scale 조정된 y값\n",
    "scaled_input = scaler_x.transform(np.array([[2],\n",
    "                                           [3]]))\n",
    "print('모델 예측을 위한 입력:', scaled_input, sep='\\n')\n",
    "scaled_output = sess.run(H, feed_dict={x:scaled_input})\n",
    "print('모델 예측 결과 :', scaled_output)\n",
    "print('결과 :', scaler_y.inverse_transform(scaled_output), sep='\\n')"
   ]
  },
  {
   "cell_type": "code",
   "execution_count": 104,
   "id": "11e34565",
   "metadata": {},
   "outputs": [],
   "source": [
    "# x_data들의 예측값\n",
    "scaled_y_hat = sess.run(H, feed_dict={x:scaled_x_data})\n",
    "y_hat = scaler_y.inverse_transform(scaled_y_hat)"
   ]
  },
  {
   "cell_type": "code",
   "execution_count": 105,
   "id": "1061bb42",
   "metadata": {},
   "outputs": [
    {
     "data": {
      "text/plain": [
       "[<matplotlib.lines.Line2D at 0x1683ab73fd0>]"
      ]
     },
     "execution_count": 105,
     "metadata": {},
     "output_type": "execute_result"
    },
    {
     "data": {
      "image/png": "[encoded data removed]",
      "text/plain": [
       "<Figure size 640x480 with 1 Axes>"
      ]
     },
     "metadata": {},
     "output_type": "display_data"
    }
   ],
   "source": [
    "import matplotlib.pyplot as plt\n",
    "plt.plot(x_data, y_data, 'r')\n",
    "plt.plot(x_data, y_hat, 'b')"
   ]
  },
  {
   "cell_type": "code",
   "execution_count": 113,
   "id": "a94abc1f",
   "metadata": {},
   "outputs": [
    {
     "name": "stdout",
     "output_type": "stream",
     "text": [
      "[[ 1  3]\n",
      " [ 2 15]\n",
      " [ 5 68]\n",
      " [ 8 80]\n",
      " [10 95]]\n",
      "[[-1.22474487 -1.34819316]\n",
      " [-0.93313895 -1.01936556]\n",
      " [-0.05832118  0.43295634]\n",
      " [ 0.81649658  0.76178394]\n",
      " [ 1.39970842  1.17281844]]\n"
     ]
    }
   ],
   "source": [
    "# 리이브러리를 쓰고 표준화 (StandardScaler 이용)\n",
    "x_data = np.array([1,2,5,8,10]).reshape(-1, 1)\n",
    "y_data = np.array([3,15,68,80,95]).reshape(-1, 1)\n",
    "\n",
    "from sklearn.preprocessing import StandardScaler\n",
    "scaler_x = StandardScaler() # x_data를 표준화할 객체\n",
    "scaler_y = StandardScaler() # y_data를 표준화할 객체\n",
    "scaled_x_data =scaler_x.fit_transform(x_data)\n",
    "scaled_y_data =scaler_y.fit_transform(y_data)\n",
    "print(np.column_stack([x_data, y_data]))\n",
    "print(np.column_stack([scaled_x_data, scaled_y_data]))"
   ]
  },
  {
   "cell_type": "code",
   "execution_count": 114,
   "id": "c506a54b",
   "metadata": {},
   "outputs": [
    {
     "name": "stdout",
     "output_type": "stream",
     "text": [
      "0째 : cost:3.9352638721466064, W:[-0.18231012], b:[1.5917114]\n",
      "600째 : cost:0.4131545424461365, W:[0.62205416], b:[0.47883832]\n",
      "1200째 : cost:0.09440324455499649, W:[0.8640328], b:[0.14405005]\n",
      "1800째 : cost:0.0655561238527298, W:[0.9368283], b:[0.04333488]\n",
      "2400째 : cost:0.06294548511505127, W:[0.95872724], b:[0.01303655]\n",
      "3000째 : cost:0.06270921975374222, W:[0.9653153], b:[0.00392183]\n",
      "3600째 : cost:0.06268782913684845, W:[0.9672972], b:[0.00117982]\n",
      "4200째 : cost:0.06268587708473206, W:[0.9678934], b:[0.00035494]\n",
      "4800째 : cost:0.06268572807312012, W:[0.96807283], b:[0.00010679]\n",
      "5400째 : cost:0.06268569082021713, W:[0.9681253], b:[3.2133248e-05]\n",
      "6000째 : cost:0.06268568336963654, W:[0.96813506], b:[9.683688e-06]\n",
      "6600째 : cost:0.06268569082021713, W:[0.96813506], b:[2.932144e-06]\n",
      "7200째 : cost:0.06268570572137833, W:[0.96813506], b:[9.0067124e-07]\n",
      "7800째 : cost:0.06268569082021713, W:[0.96813506], b:[2.8960488e-07]\n",
      "8400째 : cost:0.06268569082021713, W:[0.96813506], b:[1.0865212e-07]\n",
      "9000째 : cost:0.06268568336963654, W:[0.96813506], b:[5.576802e-08]\n",
      "9600째 : cost:0.06268568336963654, W:[0.96813506], b:[4.682797e-08]\n",
      "10200째 : cost:0.06268568336963654, W:[0.96813506], b:[3.7887922e-08]\n",
      "10800째 : cost:0.06268569082021713, W:[0.96813506], b:[2.983443e-08]\n",
      "11400째 : cost:0.06268569827079773, W:[0.96813506], b:[2.9812078e-08]\n",
      "12000째 : cost:0.06268569827079773, W:[0.96813506], b:[2.9789726e-08]\n"
     ]
    }
   ],
   "source": [
    "# placeholder 설정 (입력변수 x, 타겟변수 y)\n",
    "x = tf.placeholder(dtype=tf.float32)\n",
    "y = tf.placeholder(dtype=tf.float32)\n",
    "# W, b\n",
    "W = tf.Variable(tf.random.normal([1]))\n",
    "b = tf.Variable(tf.random.normal([1]))\n",
    "# Hypothesis(예측값)\n",
    "H = W*x + b\n",
    "# 손실함수\n",
    "cost = tf.reduce_mean(tf.square(H-y))\n",
    "# 경사하강법\n",
    "train = tf.train.GradientDescentOptimizer(learning_rate=0.001).minimize(cost)\n",
    "# Session 객체 생성\n",
    "sess = tf.Session()\n",
    "sess.run(tf.global_variables_initializer()) # W, b 초기화\n",
    "# 3000번 학습\n",
    "for step in range(12001):\n",
    "    _, cost_val, W_val, b_val = sess.run([train, cost, W, b], \n",
    "                                         feed_dict={x:scaled_x_data,\n",
    "                                                   y:scaled_y_data})\n",
    "    if step%600 == 0:\n",
    "        print('{}째 : cost:{}, W:{}, b:{}'.format(step, cost_val, W_val, b_val))"
   ]
  },
  {
   "cell_type": "code",
   "execution_count": 115,
   "id": "9f3d1d78",
   "metadata": {},
   "outputs": [
    {
     "data": {
      "text/plain": [
       "[<matplotlib.lines.Line2D at 0x1683ac90340>]"
      ]
     },
     "execution_count": 115,
     "metadata": {},
     "output_type": "execute_result"
    },
    {
     "data": {
      "image/png": "[encoded data removed]",
      "text/plain": [
       "<Figure size 640x480 with 1 Axes>"
      ]
     },
     "metadata": {},
     "output_type": "display_data"
    }
   ],
   "source": [
    "# x_data들의 예측값\n",
    "scaled_y_hat = sess.run(H, feed_dict={x:scaled_x_data})\n",
    "y_hat = scaler_y.inverse_transform(scaled_y_hat)\n",
    "import matplotlib.pyplot as plt\n",
    "plt.plot(x_data, y_data, 'r')\n",
    "plt.plot(x_data, y_hat, 'b')"
   ]
  },
  {
   "cell_type": "code",
   "execution_count": null,
   "id": "4dca7149",
   "metadata": {},
   "outputs": [],
   "source": []
  }
 ],
 "metadata": {
  "kernelspec": {
   "display_name": "ml-dl-nlp",
   "language": "python",
   "name": "ml-dl-nlp"
  },
  "language_info": {
   "codemirror_mode": {
    "name": "ipython",
    "version": 3
   },
   "file_extension": ".py",
   "mimetype": "text/x-python",
   "name": "python",
   "nbconvert_exporter": "python",
   "pygments_lexer": "ipython3",
   "version": "3.10.18"
  },
  "toc": {
   "base_numbering": 1,
   "nav_menu": {},
   "number_sections": false,
   "sideBar": true,
   "skip_h1_title": false,
   "title_cell": "Table of Contents",
   "title_sidebar": "Contents",
   "toc_cell": false,
   "toc_position": {
    "height": "calc(100% - 180px)",
    "left": "10px",
    "top": "150px",
    "width": "165px"
   },
   "toc_section_display": true,
   "toc_window_display": true
  }
 },
 "nbformat": 4,
 "nbformat_minor": 5
}
