{
 "cells": [
  {
   "cell_type": "code",
   "execution_count": 1,
   "id": "7237806c",
   "metadata": {},
   "outputs": [
    {
     "data": {
      "text/html": [
       "\n",
       "<style>\n",
       "div.container{width:86% !important;}\n",
       "div.cell.code_cell.rendered{width:100%;}\n",
       "div.CodeMirror {font-family:Consolas; font-size:15pt;}\n",
       "div.output {font-size:15pt; font-weight:bold;}\n",
       "div.input {font-family:Consolas; font-size:15pt;}\n",
       "div.prompt {min-width:70px;}\n",
       "div#toc-wrapper{padding-top:120px;}\n",
       "div.text_cell_render ul li{font-size:12pt;padding:5px;}\n",
       "table.dataframe{font-size:15px;}\n",
       "</style>\n"
      ],
      "text/plain": [
       "<IPython.core.display.HTML object>"
      ]
     },
     "metadata": {},
     "output_type": "display_data"
    }
   ],
   "source": [
    "from IPython.display import display, HTML\n",
    "display(HTML(\"\"\"\n",
    "<style>\n",
    "div.container{width:86% !important;}\n",
    "div.cell.code_cell.rendered{width:100%;}\n",
    "div.CodeMirror {font-family:Consolas; font-size:15pt;}\n",
    "div.output {font-size:15pt; font-weight:bold;}\n",
    "div.input {font-family:Consolas; font-size:15pt;}\n",
    "div.prompt {min-width:70px;}\n",
    "div#toc-wrapper{padding-top:120px;}\n",
    "div.text_cell_render ul li{font-size:12pt;padding:5px;}\n",
    "table.dataframe{font-size:15px;}\n",
    "</style>\n",
    "\"\"\"))"
   ]
  },
  {
   "cell_type": "markdown",
   "id": "8b5e888f",
   "metadata": {},
   "source": [
    "- 데이터 소스 : 국토교통부 실거래가 공개시스템 https://rt.molit.go.kr/pt/xls/xls.do"
   ]
  },
  {
   "cell_type": "code",
   "execution_count": 2,
   "id": "87fded5b",
   "metadata": {},
   "outputs": [],
   "source": [
    "import pandas as pd\n",
    "import statsmodels.api as sm # 회구모델\n",
    "import joblib # pkl 이나 joblib로 모델 저장, load"
   ]
  },
  {
   "cell_type": "code",
   "execution_count": 6,
   "id": "3a854abe",
   "metadata": {},
   "outputs": [],
   "source": [
    "df = pd.read_csv('../data/trade_apt_api.csv', encoding=\"cp949\", comment=\"#\")"
   ]
  },
  {
   "cell_type": "code",
   "execution_count": 9,
   "id": "ddbee69b",
   "metadata": {},
   "outputs": [
    {
     "name": "stdout",
     "output_type": "stream",
     "text": [
      "<class 'pandas.core.frame.DataFrame'>\n",
      "RangeIndex: 318 entries, 0 to 317\n",
      "Data columns (total 13 columns):\n",
      " #   Column   Non-Null Count  Dtype  \n",
      "---  ------   --------------  -----  \n",
      " 0   거래금액     318 non-null    int64  \n",
      " 1   건축년도     318 non-null    int64  \n",
      " 2   년        318 non-null    int64  \n",
      " 3   법정동      318 non-null    object \n",
      " 4   아파트      318 non-null    object \n",
      " 5   월        318 non-null    int64  \n",
      " 6   일        318 non-null    int64  \n",
      " 7   전용면적     318 non-null    float64\n",
      " 8   지번       318 non-null    object \n",
      " 9   지역코드     318 non-null    int64  \n",
      " 10  층        318 non-null    int64  \n",
      " 11  해제사유발생일  318 non-null    object \n",
      " 12  해제여부     318 non-null    object \n",
      "dtypes: float64(1), int64(7), object(5)\n",
      "memory usage: 32.4+ KB\n"
     ]
    }
   ],
   "source": [
    "df.sample()\n",
    "df.info()"
   ]
  },
  {
   "cell_type": "code",
   "execution_count": 16,
   "id": "c793e290",
   "metadata": {},
   "outputs": [
    {
     "data": {
      "text/plain": [
       "((318, 4), (318,))"
      ]
     },
     "execution_count": 16,
     "metadata": {},
     "output_type": "execute_result"
    }
   ],
   "source": [
    "# pd.options.mode.copy_on_write = True\n",
    "X = df[['건축년도', '전용면적', '층']].copy()\n",
    "X['const'] = 1\n",
    "y = df['거래금액']\n",
    "X.shape, y.shape"
   ]
  },
  {
   "cell_type": "code",
   "execution_count": 21,
   "id": "34d5220b",
   "metadata": {},
   "outputs": [
    {
     "data": {
      "text/html": [
       "<table class=\"simpletable\">\n",
       "<caption>OLS Regression Results</caption>\n",
       "<tr>\n",
       "  <th>Dep. Variable:</th>          <td>거래금액</td>       <th>  R-squared:         </th> <td>   0.648</td>\n",
       "</tr>\n",
       "<tr>\n",
       "  <th>Model:</th>                   <td>OLS</td>       <th>  Adj. R-squared:    </th> <td>   0.644</td>\n",
       "</tr>\n",
       "<tr>\n",
       "  <th>Method:</th>             <td>Least Squares</td>  <th>  F-statistic:       </th> <td>   192.4</td>\n",
       "</tr>\n",
       "<tr>\n",
       "  <th>Date:</th>             <td>Wed, 09 Jul 2025</td> <th>  Prob (F-statistic):</th> <td>8.54e-71</td>\n",
       "</tr>\n",
       "<tr>\n",
       "  <th>Time:</th>                 <td>10:17:17</td>     <th>  Log-Likelihood:    </th> <td> -3777.5</td>\n",
       "</tr>\n",
       "<tr>\n",
       "  <th>No. Observations:</th>      <td>   318</td>      <th>  AIC:               </th> <td>   7563.</td>\n",
       "</tr>\n",
       "<tr>\n",
       "  <th>Df Residuals:</th>          <td>   314</td>      <th>  BIC:               </th> <td>   7578.</td>\n",
       "</tr>\n",
       "<tr>\n",
       "  <th>Df Model:</th>              <td>     3</td>      <th>                     </th>     <td> </td>   \n",
       "</tr>\n",
       "<tr>\n",
       "  <th>Covariance Type:</th>      <td>nonrobust</td>    <th>                     </th>     <td> </td>   \n",
       "</tr>\n",
       "</table>\n",
       "<table class=\"simpletable\">\n",
       "<tr>\n",
       "    <td></td>       <th>coef</th>     <th>std err</th>      <th>t</th>      <th>P>|t|</th>  <th>[0.025</th>    <th>0.975]</th>  \n",
       "</tr>\n",
       "<tr>\n",
       "  <th>건축년도</th>  <td> 1925.6916</td> <td>  212.616</td> <td>    9.057</td> <td> 0.000</td> <td> 1507.360</td> <td> 2344.023</td>\n",
       "</tr>\n",
       "<tr>\n",
       "  <th>전용면적</th>  <td>  962.1507</td> <td>   47.367</td> <td>   20.313</td> <td> 0.000</td> <td>  868.955</td> <td> 1055.347</td>\n",
       "</tr>\n",
       "<tr>\n",
       "  <th>층</th>     <td> 2058.1524</td> <td>  417.716</td> <td>    4.927</td> <td> 0.000</td> <td> 1236.276</td> <td> 2880.028</td>\n",
       "</tr>\n",
       "<tr>\n",
       "  <th>const</th> <td>-3.855e+06</td> <td> 4.25e+05</td> <td>   -9.069</td> <td> 0.000</td> <td>-4.69e+06</td> <td>-3.02e+06</td>\n",
       "</tr>\n",
       "</table>\n",
       "<table class=\"simpletable\">\n",
       "<tr>\n",
       "  <th>Omnibus:</th>       <td>20.985</td> <th>  Durbin-Watson:     </th> <td>   1.352</td>\n",
       "</tr>\n",
       "<tr>\n",
       "  <th>Prob(Omnibus):</th> <td> 0.000</td> <th>  Jarque-Bera (JB):  </th> <td>  42.734</td>\n",
       "</tr>\n",
       "<tr>\n",
       "  <th>Skew:</th>          <td> 0.345</td> <th>  Prob(JB):          </th> <td>5.25e-10</td>\n",
       "</tr>\n",
       "<tr>\n",
       "  <th>Kurtosis:</th>      <td> 4.658</td> <th>  Cond. No.          </th> <td>4.33e+05</td>\n",
       "</tr>\n",
       "</table><br/><br/>Notes:<br/>[1] Standard Errors assume that the covariance matrix of the errors is correctly specified.<br/>[2] The condition number is large, 4.33e+05. This might indicate that there are<br/>strong multicollinearity or other numerical problems."
      ],
      "text/plain": [
       "<class 'statsmodels.iolib.summary.Summary'>\n",
       "\"\"\"\n",
       "                            OLS Regression Results                            \n",
       "==============================================================================\n",
       "Dep. Variable:                   거래금액   R-squared:                       0.648\n",
       "Model:                            OLS   Adj. R-squared:                  0.644\n",
       "Method:                 Least Squares   F-statistic:                     192.4\n",
       "Date:                Wed, 09 Jul 2025   Prob (F-statistic):           8.54e-71\n",
       "Time:                        10:17:17   Log-Likelihood:                -3777.5\n",
       "No. Observations:                 318   AIC:                             7563.\n",
       "Df Residuals:                     314   BIC:                             7578.\n",
       "Df Model:                           3                                         \n",
       "Covariance Type:            nonrobust                                         \n",
       "==============================================================================\n",
       "                 coef    std err          t      P>|t|      [0.025      0.975]\n",
       "------------------------------------------------------------------------------\n",
       "건축년도        1925.6916    212.616      9.057      0.000    1507.360    2344.023\n",
       "전용면적         962.1507     47.367     20.313      0.000     868.955    1055.347\n",
       "층           2058.1524    417.716      4.927      0.000    1236.276    2880.028\n",
       "const      -3.855e+06   4.25e+05     -9.069      0.000   -4.69e+06   -3.02e+06\n",
       "==============================================================================\n",
       "Omnibus:                       20.985   Durbin-Watson:                   1.352\n",
       "Prob(Omnibus):                  0.000   Jarque-Bera (JB):               42.734\n",
       "Skew:                           0.345   Prob(JB):                     5.25e-10\n",
       "Kurtosis:                       4.658   Cond. No.                     4.33e+05\n",
       "==============================================================================\n",
       "\n",
       "Notes:\n",
       "[1] Standard Errors assume that the covariance matrix of the errors is correctly specified.\n",
       "[2] The condition number is large, 4.33e+05. This might indicate that there are\n",
       "strong multicollinearity or other numerical problems.\n",
       "\"\"\""
      ]
     },
     "execution_count": 21,
     "metadata": {},
     "output_type": "execute_result"
    }
   ],
   "source": [
    "model = sm.OLS(y, X).fit() # 회귀모델\n",
    "model.summary()\n",
    "# R-squared(0.648) : X가 타겟(종속)변수를 설명해 주는 수치(설명도)\n",
    "# Adj. R-squared(0.644) : 수정된 r 제곱(설명도)\n",
    "# Durbin-Watson(1.352) : (자기 상관이 있는지 수치 : 이상치는 2)"
   ]
  },
  {
   "cell_type": "code",
   "execution_count": null,
   "id": "d9bc38ca",
   "metadata": {},
   "outputs": [],
   "source": []
  }
 ],
 "metadata": {
  "kernelspec": {
   "display_name": "Python 3 (ipykernel)",
   "language": "python",
   "name": "python3"
  },
  "language_info": {
   "codemirror_mode": {
    "name": "ipython",
    "version": 3
   },
   "file_extension": ".py",
   "mimetype": "text/x-python",
   "name": "python",
   "nbconvert_exporter": "python",
   "pygments_lexer": "ipython3",
   "version": "3.10.9"
  },
  "toc": {
   "base_numbering": 1,
   "nav_menu": {},
   "number_sections": false,
   "sideBar": true,
   "skip_h1_title": false,
   "title_cell": "Table of Contents",
   "title_sidebar": "Contents",
   "toc_cell": false,
   "toc_position": {},
   "toc_section_display": true,
   "toc_window_display": false
  }
 },
 "nbformat": 4,
 "nbformat_minor": 5
}
