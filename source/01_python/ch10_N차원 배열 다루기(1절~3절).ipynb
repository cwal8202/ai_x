{
 "cells": [
  {
   "cell_type": "code",
   "execution_count": 1,
   "id": "2f458aaa",
   "metadata": {},
   "outputs": [
    {
     "data": {
      "text/html": [
       "\n",
       "<style>\n",
       "div.container{width:86% !important;}\n",
       "div.cell.code_cell.rendered{width:100%;}\n",
       "div.CodeMirror {font-family:Consolas; font-size:15pt;}\n",
       "div.output {font-size:15pt; font-weight:bold;}\n",
       "div.input {font-family:Consolas; font-size:15pt;}\n",
       "div.prompt {min-width:70px;}\n",
       "div#toc-wrapper{padding-top:120px;}\n",
       "div.text_cell_render ul li{font-size:12pt;padding:5px;}\n",
       "table.dataframe{font-size:15px;}\n",
       "</style>\n"
      ],
      "text/plain": [
       "<IPython.core.display.HTML object>"
      ]
     },
     "metadata": {},
     "output_type": "display_data"
    }
   ],
   "source": [
    "from IPython.display import display, HTML\n",
    "display(HTML(\"\"\"\n",
    "<style>\n",
    "div.container{width:86% !important;}\n",
    "div.cell.code_cell.rendered{width:100%;}\n",
    "div.CodeMirror {font-family:Consolas; font-size:15pt;}\n",
    "div.output {font-size:15pt; font-weight:bold;}\n",
    "div.input {font-family:Consolas; font-size:15pt;}\n",
    "div.prompt {min-width:70px;}\n",
    "div#toc-wrapper{padding-top:120px;}\n",
    "div.text_cell_render ul li{font-size:12pt;padding:5px;}\n",
    "table.dataframe{font-size:15px;}\n",
    "</style>\n",
    "\"\"\"))"
   ]
  },
  {
   "cell_type": "markdown",
   "id": "69bdc19c",
   "metadata": {},
   "source": [
    "<font size=\"5\" color=\"red\">ch10. N차원 배열 다루기</font>\n",
    "- [numpy](https://numpy.org/doc/stable/)\n",
    "- [numpy API](https://numpy.org/doc/stable/reference/index.html)\n",
    "- N차원 배열 객체\n",
    "- 2차원 배열은 행렬개념\n",
    "- numpy 패키지는 C언어로 구현되어 고성능 수치 계산 패키지\n",
    "# 1절 Numpy 패키지"
   ]
  },
  {
   "cell_type": "code",
   "execution_count": 1,
   "id": "7f651642",
   "metadata": {},
   "outputs": [
    {
     "data": {
      "text/plain": [
       "'1.23.5'"
      ]
     },
     "execution_count": 1,
     "metadata": {},
     "output_type": "execute_result"
    }
   ],
   "source": [
    "import numpy as np\n",
    "np.__version__"
   ]
  },
  {
   "cell_type": "code",
   "execution_count": 10,
   "id": "4e4287a2",
   "metadata": {},
   "outputs": [],
   "source": [
    "# np.arange(from, stop, step) : from 부터 stop 앞까지 step씩 증감한 정수값을 배열로 생성\n",
    "a = np.arange(15)"
   ]
  },
  {
   "cell_type": "markdown",
   "id": "0b23e68d",
   "metadata": {},
   "source": [
    "## 1.1 배열 속성"
   ]
  },
  {
   "cell_type": "code",
   "execution_count": 2,
   "id": "f34a2237",
   "metadata": {},
   "outputs": [
    {
     "data": {
      "text/plain": [
       "array([[ 0,  1,  2,  3,  4],\n",
       "       [ 5,  6,  7,  8,  9],\n",
       "       [10, 11, 12, 13, 14]])"
      ]
     },
     "execution_count": 2,
     "metadata": {},
     "output_type": "execute_result"
    }
   ],
   "source": [
    "from numpy import arange\n",
    "a = arange(15).reshape(3, 5) # 3행 5열짜리 2차원 배열로 return\n",
    "a"
   ]
  },
  {
   "cell_type": "code",
   "execution_count": 35,
   "id": "abde955d",
   "metadata": {},
   "outputs": [
    {
     "data": {
      "text/plain": [
       "numpy.dtype[int32]"
      ]
     },
     "execution_count": 35,
     "metadata": {},
     "output_type": "execute_result"
    }
   ],
   "source": [
    "type(a) # a변수의 타입\n",
    "type(a.dtype) # a배열 요소의 type"
   ]
  },
  {
   "cell_type": "code",
   "execution_count": 36,
   "id": "547e2f85",
   "metadata": {},
   "outputs": [
    {
     "data": {
      "text/plain": [
       "'int32'"
      ]
     },
     "execution_count": 36,
     "metadata": {},
     "output_type": "execute_result"
    }
   ],
   "source": [
    "a.dtype.name"
   ]
  },
  {
   "cell_type": "code",
   "execution_count": 37,
   "id": "10c296ce",
   "metadata": {},
   "outputs": [
    {
     "data": {
      "text/plain": [
       "4"
      ]
     },
     "execution_count": 37,
     "metadata": {},
     "output_type": "execute_result"
    }
   ],
   "source": [
    "a.itemsize # 한 요소의 bytesize"
   ]
  },
  {
   "cell_type": "code",
   "execution_count": 38,
   "id": "fe292ca2",
   "metadata": {},
   "outputs": [
    {
     "data": {
      "text/plain": [
       "2"
      ]
     },
     "execution_count": 38,
     "metadata": {},
     "output_type": "execute_result"
    }
   ],
   "source": [
    "a.ndim #차원수 축수"
   ]
  },
  {
   "cell_type": "code",
   "execution_count": 39,
   "id": "b304ad92",
   "metadata": {},
   "outputs": [
    {
     "data": {
      "text/plain": [
       "15"
      ]
     },
     "execution_count": 39,
     "metadata": {},
     "output_type": "execute_result"
    }
   ],
   "source": [
    "a.size # 배열 요소의 개수"
   ]
  },
  {
   "cell_type": "code",
   "execution_count": 40,
   "id": "f941265f",
   "metadata": {},
   "outputs": [
    {
     "data": {
      "text/plain": [
       "(3, 5)"
      ]
     },
     "execution_count": 40,
     "metadata": {},
     "output_type": "execute_result"
    }
   ],
   "source": [
    "a.shape # 배열의 구조 (튜플)"
   ]
  },
  {
   "cell_type": "markdown",
   "id": "d187a36a",
   "metadata": {},
   "source": [
    "## 1.2 배열 변경(구조, 타입)"
   ]
  },
  {
   "cell_type": "code",
   "execution_count": 90,
   "id": "671ccc3e",
   "metadata": {},
   "outputs": [
    {
     "name": "stdout",
     "output_type": "stream",
     "text": [
      "구조변경 전\n",
      "[[2 2 2 3]\n",
      " [4 3 2 1]]\n"
     ]
    },
    {
     "ename": "ValueError",
     "evalue": "cannot reshape array of size 8 into shape (5,3)",
     "output_type": "error",
     "traceback": [
      "\u001b[1;31m---------------------------------------------------------------------------\u001b[0m",
      "\u001b[1;31mValueError\u001b[0m                                Traceback (most recent call last)",
      "Cell \u001b[1;32mIn[90], line 3\u001b[0m\n\u001b[0;32m      1\u001b[0m \u001b[38;5;66;03m# 구조 변경\u001b[39;00m\n\u001b[0;32m      2\u001b[0m \u001b[38;5;28mprint\u001b[39m(\u001b[38;5;124m'\u001b[39m\u001b[38;5;124m구조변경 전\u001b[39m\u001b[38;5;124m'\u001b[39m, a, sep\u001b[38;5;241m=\u001b[39m\u001b[38;5;124m'\u001b[39m\u001b[38;5;130;01m\\n\u001b[39;00m\u001b[38;5;124m'\u001b[39m)\n\u001b[1;32m----> 3\u001b[0m a\u001b[38;5;241m.\u001b[39mshape \u001b[38;5;241m=\u001b[39m (\u001b[38;5;241m5\u001b[39m, \u001b[38;5;241m3\u001b[39m)\n\u001b[0;32m      4\u001b[0m \u001b[38;5;28mprint\u001b[39m(\u001b[38;5;124m'\u001b[39m\u001b[38;5;124m구조변경 후\u001b[39m\u001b[38;5;124m'\u001b[39m, a, sep\u001b[38;5;241m=\u001b[39m\u001b[38;5;124m'\u001b[39m\u001b[38;5;130;01m\\n\u001b[39;00m\u001b[38;5;124m'\u001b[39m)\n",
      "\u001b[1;31mValueError\u001b[0m: cannot reshape array of size 8 into shape (5,3)"
     ]
    }
   ],
   "source": [
    "# 구조 변경\n",
    "print('구조변경 전', a, sep='\\n')\n",
    "a.shape = (5, 3)\n",
    "print('구조변경 후', a, sep='\\n')"
   ]
  },
  {
   "cell_type": "code",
   "execution_count": 91,
   "id": "838e5783",
   "metadata": {},
   "outputs": [
    {
     "ename": "NameError",
     "evalue": "name 'arange' is not defined",
     "output_type": "error",
     "traceback": [
      "\u001b[1;31m---------------------------------------------------------------------------\u001b[0m",
      "\u001b[1;31mNameError\u001b[0m                                 Traceback (most recent call last)",
      "Cell \u001b[1;32mIn[91], line 2\u001b[0m\n\u001b[0;32m      1\u001b[0m \u001b[38;5;66;03m# 타입 변경(X)\u001b[39;00m\n\u001b[1;32m----> 2\u001b[0m a \u001b[38;5;241m=\u001b[39m \u001b[43marange\u001b[49m(\u001b[38;5;241m12\u001b[39m)\u001b[38;5;241m.\u001b[39mreshape(\u001b[38;5;241m3\u001b[39m, \u001b[38;5;241m4\u001b[39m)\n\u001b[0;32m      3\u001b[0m a\n",
      "\u001b[1;31mNameError\u001b[0m: name 'arange' is not defined"
     ]
    }
   ],
   "source": [
    "# 타입 변경(X)\n",
    "a = arange(12).reshape(3, 4)\n",
    "a"
   ]
  },
  {
   "cell_type": "code",
   "execution_count": 92,
   "id": "18db3abe",
   "metadata": {},
   "outputs": [
    {
     "data": {
      "text/plain": [
       "dtype('int32')"
      ]
     },
     "execution_count": 92,
     "metadata": {},
     "output_type": "execute_result"
    }
   ],
   "source": [
    "a.dtype"
   ]
  },
  {
   "cell_type": "code",
   "execution_count": 93,
   "id": "88ddba39",
   "metadata": {},
   "outputs": [
    {
     "data": {
      "text/plain": [
       "4"
      ]
     },
     "execution_count": 93,
     "metadata": {},
     "output_type": "execute_result"
    }
   ],
   "source": [
    "a.itemsize"
   ]
  },
  {
   "cell_type": "code",
   "execution_count": 94,
   "id": "0d89bfe5",
   "metadata": {},
   "outputs": [
    {
     "data": {
      "text/plain": [
       "8"
      ]
     },
     "execution_count": 94,
     "metadata": {},
     "output_type": "execute_result"
    }
   ],
   "source": [
    "a.size"
   ]
  },
  {
   "cell_type": "code",
   "execution_count": 95,
   "id": "fba5eb60",
   "metadata": {},
   "outputs": [
    {
     "data": {
      "text/plain": [
       "(2, 4)"
      ]
     },
     "execution_count": 95,
     "metadata": {},
     "output_type": "execute_result"
    }
   ],
   "source": [
    "a.shape"
   ]
  },
  {
   "cell_type": "code",
   "execution_count": 96,
   "id": "4d10ec16",
   "metadata": {},
   "outputs": [
    {
     "data": {
      "text/plain": [
       "dtype('int64')"
      ]
     },
     "execution_count": 96,
     "metadata": {},
     "output_type": "execute_result"
    }
   ],
   "source": [
    "a.dtype = np.int64 # a배열을 읽을 때 64bit씩 읽는다\n",
    "a.dtype"
   ]
  },
  {
   "cell_type": "code",
   "execution_count": 97,
   "id": "53e5fb8b",
   "metadata": {},
   "outputs": [
    {
     "data": {
      "text/plain": [
       "8"
      ]
     },
     "execution_count": 97,
     "metadata": {},
     "output_type": "execute_result"
    }
   ],
   "source": [
    "a.itemsize"
   ]
  },
  {
   "cell_type": "code",
   "execution_count": 98,
   "id": "ed1275d3",
   "metadata": {},
   "outputs": [
    {
     "data": {
      "text/plain": [
       "4"
      ]
     },
     "execution_count": 98,
     "metadata": {},
     "output_type": "execute_result"
    }
   ],
   "source": [
    "a.size"
   ]
  },
  {
   "cell_type": "code",
   "execution_count": 99,
   "id": "4c41e3a5",
   "metadata": {},
   "outputs": [
    {
     "data": {
      "text/plain": [
       "(2, 2)"
      ]
     },
     "execution_count": 99,
     "metadata": {},
     "output_type": "execute_result"
    }
   ],
   "source": [
    "a.shape"
   ]
  },
  {
   "cell_type": "code",
   "execution_count": 100,
   "id": "f9b96da2",
   "metadata": {},
   "outputs": [
    {
     "data": {
      "text/plain": [
       "array([[ 8589934594, 12884901890],\n",
       "       [12884901892,  4294967298]], dtype=int64)"
      ]
     },
     "execution_count": 100,
     "metadata": {},
     "output_type": "execute_result"
    }
   ],
   "source": [
    "a"
   ]
  },
  {
   "cell_type": "code",
   "execution_count": 6,
   "id": "6a833900",
   "metadata": {},
   "outputs": [
    {
     "data": {
      "text/plain": [
       "array([[ 0,  1,  2,  3],\n",
       "       [ 4,  5,  6,  7],\n",
       "       [ 8,  9, 10, 11]])"
      ]
     },
     "execution_count": 6,
     "metadata": {},
     "output_type": "execute_result"
    }
   ],
   "source": [
    "# 타입변경(O)\n",
    "a = arange(12).reshape(3,4)\n",
    "a"
   ]
  },
  {
   "cell_type": "code",
   "execution_count": 7,
   "id": "01c825bb",
   "metadata": {},
   "outputs": [
    {
     "ename": "NameError",
     "evalue": "name 'np' is not defined",
     "output_type": "error",
     "traceback": [
      "\u001b[1;31m---------------------------------------------------------------------------\u001b[0m",
      "\u001b[1;31mNameError\u001b[0m                                 Traceback (most recent call last)",
      "Cell \u001b[1;32mIn[7], line 1\u001b[0m\n\u001b[1;32m----> 1\u001b[0m a \u001b[38;5;241m=\u001b[39m a\u001b[38;5;241m.\u001b[39mastype(\u001b[43mnp\u001b[49m\u001b[38;5;241m.\u001b[39mint64)\n",
      "\u001b[1;31mNameError\u001b[0m: name 'np' is not defined"
     ]
    }
   ],
   "source": [
    "a = a.astype(np.int64) # 할당하지 않으면 a 변경 X"
   ]
  },
  {
   "cell_type": "code",
   "execution_count": null,
   "id": "fa00b2fe",
   "metadata": {},
   "outputs": [],
   "source": [
    "a.astype('int64')"
   ]
  },
  {
   "cell_type": "code",
   "execution_count": 8,
   "id": "c25f395f",
   "metadata": {},
   "outputs": [
    {
     "data": {
      "text/plain": [
       "dtype('int32')"
      ]
     },
     "execution_count": 8,
     "metadata": {},
     "output_type": "execute_result"
    }
   ],
   "source": [
    "a.dtype"
   ]
  },
  {
   "cell_type": "code",
   "execution_count": 9,
   "id": "abaec611",
   "metadata": {},
   "outputs": [
    {
     "data": {
      "text/plain": [
       "4"
      ]
     },
     "execution_count": 9,
     "metadata": {},
     "output_type": "execute_result"
    }
   ],
   "source": [
    "a.itemsize"
   ]
  },
  {
   "cell_type": "code",
   "execution_count": 10,
   "id": "fb56219e",
   "metadata": {},
   "outputs": [
    {
     "data": {
      "text/plain": [
       "(12, (3, 4))"
      ]
     },
     "execution_count": 10,
     "metadata": {},
     "output_type": "execute_result"
    }
   ],
   "source": [
    "a.size, a.shape"
   ]
  },
  {
   "cell_type": "code",
   "execution_count": 11,
   "id": "aa489f66",
   "metadata": {},
   "outputs": [
    {
     "data": {
      "text/plain": [
       "array([[ 0,  1,  2,  3],\n",
       "       [ 4,  5,  6,  7],\n",
       "       [ 8,  9, 10, 11]])"
      ]
     },
     "execution_count": 11,
     "metadata": {},
     "output_type": "execute_result"
    }
   ],
   "source": [
    "a"
   ]
  },
  {
   "cell_type": "code",
   "execution_count": 12,
   "id": "ad80a1be",
   "metadata": {},
   "outputs": [
    {
     "data": {
      "text/plain": [
       "array([ 0,  1,  2,  3,  4,  5,  6,  7,  8,  9, 10, 11])"
      ]
     },
     "execution_count": 12,
     "metadata": {},
     "output_type": "execute_result"
    }
   ],
   "source": [
    "a.flatten()"
   ]
  },
  {
   "cell_type": "code",
   "execution_count": 13,
   "id": "2e61d3f8",
   "metadata": {},
   "outputs": [
    {
     "data": {
      "text/plain": [
       "array([ 0,  1,  2,  3,  4,  5,  6,  7,  8,  9, 10, 11])"
      ]
     },
     "execution_count": 13,
     "metadata": {},
     "output_type": "execute_result"
    }
   ],
   "source": [
    "a.ravel()"
   ]
  },
  {
   "cell_type": "code",
   "execution_count": 14,
   "id": "ae5d17a5",
   "metadata": {},
   "outputs": [
    {
     "data": {
      "text/plain": [
       "(12, (3, 4))"
      ]
     },
     "execution_count": 14,
     "metadata": {},
     "output_type": "execute_result"
    }
   ],
   "source": [
    "a.size, a.shape"
   ]
  },
  {
   "cell_type": "markdown",
   "id": "ea54f2da",
   "metadata": {},
   "source": [
    "## 1.3 배열 저장"
   ]
  },
  {
   "cell_type": "code",
   "execution_count": 15,
   "id": "2614c1ae",
   "metadata": {},
   "outputs": [
    {
     "data": {
      "text/plain": [
       "array([[ 0,  1,  2,  3],\n",
       "       [ 4,  5,  6,  7],\n",
       "       [ 8,  9, 10, 11]])"
      ]
     },
     "execution_count": 15,
     "metadata": {},
     "output_type": "execute_result"
    }
   ],
   "source": [
    "a"
   ]
  },
  {
   "cell_type": "code",
   "execution_count": 16,
   "id": "f1db2566",
   "metadata": {},
   "outputs": [],
   "source": [
    "import pickle\n",
    "with open('data/ch10_a.pkl', 'wb') as f :\n",
    "    pickle.dump(a, f)\n"
   ]
  },
  {
   "cell_type": "code",
   "execution_count": 17,
   "id": "bfcf4bdd",
   "metadata": {},
   "outputs": [],
   "source": [
    "with open('data/ch10_a.pkl', 'rb') as f :\n",
    "    load_a = pickle.load(f)"
   ]
  },
  {
   "cell_type": "code",
   "execution_count": 18,
   "id": "9a769d0d",
   "metadata": {},
   "outputs": [
    {
     "data": {
      "text/plain": [
       "array([[ 0,  1,  2,  3],\n",
       "       [ 4,  5,  6,  7],\n",
       "       [ 8,  9, 10, 11]])"
      ]
     },
     "execution_count": 18,
     "metadata": {},
     "output_type": "execute_result"
    }
   ],
   "source": [
    "load_a"
   ]
  },
  {
   "cell_type": "code",
   "execution_count": 22,
   "id": "f65cedfa",
   "metadata": {},
   "outputs": [
    {
     "data": {
      "text/plain": [
       "True"
      ]
     },
     "execution_count": 22,
     "metadata": {},
     "output_type": "execute_result"
    }
   ],
   "source": [
    "np.all(a == load_a) # a numpy 배열과 load_a numpy 배열 같은지"
   ]
  },
  {
   "cell_type": "code",
   "execution_count": 124,
   "id": "526abd15",
   "metadata": {},
   "outputs": [],
   "source": [
    "np.save('data/ch10_a.npy', a)"
   ]
  },
  {
   "cell_type": "code",
   "execution_count": null,
   "id": "c5af97ae",
   "metadata": {},
   "outputs": [],
   "source": [
    "load_a2 = np.load('data/ch10_a.npy')\n",
    "np.all(load_a2==a)"
   ]
  },
  {
   "cell_type": "markdown",
   "id": "3adb6679",
   "metadata": {},
   "source": [
    "# 2절. numpy 배열\n",
    "- array()함수 : 다른 파이썬 데이터 구조를 배열로 변환\n",
    "- arange(), ones(), zeros(), empty()\n",
    "- 랜덤값을 갖는 함수들...\n",
    "## 2.1 array() 함수로 numpy 배열 만들기\n",
    "- array(리스트나 튜플, dtype=np.xxx, copy=T/F)"
   ]
  },
  {
   "cell_type": "code",
   "execution_count": 25,
   "id": "3e8ec57b",
   "metadata": {},
   "outputs": [
    {
     "data": {
      "text/plain": [
       "array([2, 4, 6], dtype=int8)"
      ]
     },
     "execution_count": 25,
     "metadata": {},
     "output_type": "execute_result"
    }
   ],
   "source": [
    "a = np.array(['2', 4, 6], dtype=np.int8) # 정수의 기본 타입은 int 32 / 실수의 기본 타입은 float64\n",
    "a"
   ]
  },
  {
   "cell_type": "code",
   "execution_count": 27,
   "id": "98f8a879",
   "metadata": {},
   "outputs": [
    {
     "data": {
      "text/plain": [
       "(2, 4, 6)"
      ]
     },
     "execution_count": 27,
     "metadata": {},
     "output_type": "execute_result"
    }
   ],
   "source": [
    "a[0], a[1], a[2]"
   ]
  },
  {
   "cell_type": "code",
   "execution_count": 28,
   "id": "fbb5dfed",
   "metadata": {},
   "outputs": [
    {
     "data": {
      "text/plain": [
       "dtype('int8')"
      ]
     },
     "execution_count": 28,
     "metadata": {},
     "output_type": "execute_result"
    }
   ],
   "source": [
    "a.dtype"
   ]
  },
  {
   "cell_type": "code",
   "execution_count": 29,
   "id": "b90ccb36",
   "metadata": {},
   "outputs": [
    {
     "data": {
      "text/plain": [
       "array([[1.3, 2.4],\n",
       "       [4. , 5. ]])"
      ]
     },
     "execution_count": 29,
     "metadata": {},
     "output_type": "execute_result"
    }
   ],
   "source": [
    "b = np.array([[1.3,2.4], \n",
    "          [4,5]])\n",
    "b"
   ]
  },
  {
   "cell_type": "code",
   "execution_count": 30,
   "id": "cfd7804f",
   "metadata": {},
   "outputs": [
    {
     "data": {
      "text/plain": [
       "dtype('float64')"
      ]
     },
     "execution_count": 30,
     "metadata": {},
     "output_type": "execute_result"
    }
   ],
   "source": [
    "b.dtype"
   ]
  },
  {
   "cell_type": "code",
   "execution_count": 31,
   "id": "e7101d4b",
   "metadata": {},
   "outputs": [],
   "source": [
    "b = np.array([[1.3,2.4],[4,5]], dtype=np.float32).reshape(1, 4)"
   ]
  },
  {
   "cell_type": "code",
   "execution_count": 153,
   "id": "8252a118",
   "metadata": {},
   "outputs": [
    {
     "data": {
      "text/plain": [
       "array([[1.3, 2.4, 4. , 5. ]], dtype=float32)"
      ]
     },
     "execution_count": 153,
     "metadata": {},
     "output_type": "execute_result"
    }
   ],
   "source": [
    "b"
   ]
  },
  {
   "cell_type": "code",
   "execution_count": 32,
   "id": "93650601",
   "metadata": {},
   "outputs": [
    {
     "data": {
      "text/plain": [
       "4"
      ]
     },
     "execution_count": 32,
     "metadata": {},
     "output_type": "execute_result"
    }
   ],
   "source": [
    "b.itemsize"
   ]
  },
  {
   "cell_type": "code",
   "execution_count": 33,
   "id": "5aff364d",
   "metadata": {},
   "outputs": [
    {
     "data": {
      "text/plain": [
       "array([[1.29999995, 2.4000001 , 4.        , 5.        ]])"
      ]
     },
     "execution_count": 33,
     "metadata": {},
     "output_type": "execute_result"
    }
   ],
   "source": [
    "b.astype(np.float64)"
   ]
  },
  {
   "cell_type": "code",
   "execution_count": 34,
   "id": "6aefa97d",
   "metadata": {},
   "outputs": [
    {
     "name": "stdout",
     "output_type": "stream",
     "text": [
      "1\t2\t\n",
      "3.4\t4.5\t\n"
     ]
    }
   ],
   "source": [
    "l = [[1,2], [3.4, 4.5]]\n",
    "for row in l :\n",
    "    for data in row :\n",
    "        print(data, end='\\t')\n",
    "    print()"
   ]
  },
  {
   "cell_type": "code",
   "execution_count": 35,
   "id": "42ce8047",
   "metadata": {},
   "outputs": [
    {
     "name": "stdout",
     "output_type": "stream",
     "text": [
      "0행0열:1.0\t0행1열:2.0\t\n",
      "1행0열:3.4\t1행1열:4.5\t\n"
     ]
    }
   ],
   "source": [
    "c = np.array([[1,2], [3.4, 4.5]], dtype=np.float64)  # float16 보다 float 64가 정확하다.\n",
    "for i, row in enumerate(c):\n",
    "    for j, item in enumerate(row):\n",
    "        print(\"{}행{}열:{}\".format(i,j,item), end='\\t')\n",
    "    print()"
   ]
  },
  {
   "cell_type": "code",
   "execution_count": 178,
   "id": "d15b649b",
   "metadata": {},
   "outputs": [
    {
     "data": {
      "text/plain": [
       "array([[ 1,  2,  3,  4,  5],\n",
       "       [ 6,  7,  8,  9, 10]], dtype=int16)"
      ]
     },
     "execution_count": 178,
     "metadata": {},
     "output_type": "execute_result"
    }
   ],
   "source": [
    "c = np.array([[1,2,3,4,5],[6,7,8,9,10]], dtype=np.int16)\n",
    "c"
   ]
  },
  {
   "cell_type": "code",
   "execution_count": 180,
   "id": "a6104c92",
   "metadata": {},
   "outputs": [
    {
     "data": {
      "text/plain": [
       "array([ 6,  7,  8,  9, 10], dtype=int16)"
      ]
     },
     "execution_count": 180,
     "metadata": {},
     "output_type": "execute_result"
    }
   ],
   "source": [
    "c[1,]"
   ]
  },
  {
   "cell_type": "code",
   "execution_count": 181,
   "id": "59f5ebb0",
   "metadata": {},
   "outputs": [
    {
     "name": "stdout",
     "output_type": "stream",
     "text": [
      "[[2 3]\n",
      " [7 8]]\n",
      "[[3 4 5]]\n"
     ]
    }
   ],
   "source": [
    "print(c[:, 1:3]) # 모든행, 1열부터 3열 앞까지\n",
    "print(c[0:1, 2::]) # 0행 2~4열까지"
   ]
  },
  {
   "cell_type": "code",
   "execution_count": 192,
   "id": "43023c70",
   "metadata": {},
   "outputs": [
    {
     "data": {
      "text/plain": [
       "array([[ 5],\n",
       "       [10]], dtype=int16)"
      ]
     },
     "execution_count": 192,
     "metadata": {},
     "output_type": "execute_result"
    }
   ],
   "source": [
    "# 모든행의 맨 마지막 열만 추출\n",
    "c[:, -1::]"
   ]
  },
  {
   "cell_type": "code",
   "execution_count": 194,
   "id": "a159d2df",
   "metadata": {},
   "outputs": [
    {
     "data": {
      "text/plain": [
       "array([[1, 2, 3, 4],\n",
       "       [6, 7, 8, 9]], dtype=int16)"
      ]
     },
     "execution_count": 194,
     "metadata": {},
     "output_type": "execute_result"
    }
   ],
   "source": [
    "# 모든행의 맨 마지막 열을 제외한 추출\n",
    "c[:,:-1]"
   ]
  },
  {
   "cell_type": "code",
   "execution_count": 198,
   "id": "8859d2b7",
   "metadata": {},
   "outputs": [
    {
     "name": "stdout",
     "output_type": "stream",
     "text": [
      "c=\n",
      "[[1 2]\n",
      " [3 4]]\n",
      "d=\n",
      "[[1 2]\n",
      " [3 4]]\n",
      "c=\n",
      "[[   1    2]\n",
      " [3333    4]]\n",
      "d=\n",
      "[[   1    2]\n",
      " [3333    4]]\n"
     ]
    }
   ],
   "source": [
    "c = np.array([[1,2], [3,4]])\n",
    "d = np.array(c, copy=False) # c=d 얕은복사\n",
    "print('c=', c, sep='\\n')\n",
    "print('d=', d, sep='\\n')\n",
    "d[1, 0] = 3333\n",
    "print('c=', c, sep='\\n')\n",
    "print('d=', d, sep='\\n')\n",
    "print('c주소 ={}, d주소:{}'.format(id(c), id(d)))"
   ]
  },
  {
   "cell_type": "code",
   "execution_count": 36,
   "id": "2bac837d",
   "metadata": {},
   "outputs": [
    {
     "name": "stdout",
     "output_type": "stream",
     "text": [
      "c=\n",
      "[[1 2]\n",
      " [3 4]]\n",
      "d=\n",
      "[[1 2]\n",
      " [3 4]]\n",
      "c=\n",
      "[[1 2]\n",
      " [3 4]]\n",
      "d=\n",
      "[[   1    2]\n",
      " [3333    4]]\n",
      "c주소 =2140170038480, d주소:2140170037616\n"
     ]
    }
   ],
   "source": [
    "c = np.array([[1,2], [3,4]])\n",
    "d = np.array(c, copy=True) # d=c.copy() 깊은복사\n",
    "print('c=', c, sep='\\n')\n",
    "print('d=', d, sep='\\n')\n",
    "d[1, 0] = 3333\n",
    "print('c=', c, sep='\\n')\n",
    "print('d=', d, sep='\\n')\n",
    "print('c주소 ={}, d주소:{}'.format(id(c), id(d)))"
   ]
  },
  {
   "cell_type": "markdown",
   "id": "391cac1d",
   "metadata": {},
   "source": [
    "## 2.2 기본값이 있는 배열 만들기\n",
    "- np.zeors( tup ) : 요소들이 다 0\n",
    "- np.ones( tup ) : 요소들이 다 1\n",
    "- np.full( tup ) : 요소들이 다 기본값\n",
    "- np.empty(tup) : 기본값이 임의의 값(메모리 상태에 따라 달라짐)\n",
    "※ 위의 함수를 이용한 배열의 dtype = float64. dtype 속성따라 지정가능"
   ]
  },
  {
   "cell_type": "code",
   "execution_count": 37,
   "id": "c98eea73",
   "metadata": {},
   "outputs": [
    {
     "data": {
      "text/plain": [
       "array([[0, 0, 0, 0, 0],\n",
       "       [0, 0, 0, 0, 0],\n",
       "       [0, 0, 0, 0, 0]], dtype=int8)"
      ]
     },
     "execution_count": 37,
     "metadata": {},
     "output_type": "execute_result"
    }
   ],
   "source": [
    "np.zeros( (3, 5), dtype=np.int8)"
   ]
  },
  {
   "cell_type": "code",
   "execution_count": 39,
   "id": "e24deb0f",
   "metadata": {},
   "outputs": [
    {
     "data": {
      "text/plain": [
       "(dtype('float64'),\n",
       " array([[1., 1., 1., 1., 1.],\n",
       "        [1., 1., 1., 1., 1.],\n",
       "        [1., 1., 1., 1., 1.]]))"
      ]
     },
     "execution_count": 39,
     "metadata": {},
     "output_type": "execute_result"
    }
   ],
   "source": [
    "x = np.ones((3, 5))\n",
    "x.dtype, x"
   ]
  },
  {
   "cell_type": "code",
   "execution_count": 40,
   "id": "3cf66825",
   "metadata": {},
   "outputs": [
    {
     "data": {
      "text/plain": [
       "array([[-256, -256, -256, -256, -256],\n",
       "       [-256, -256, -256, -256, -256]])"
      ]
     },
     "execution_count": 40,
     "metadata": {},
     "output_type": "execute_result"
    }
   ],
   "source": [
    "np.full( (2,5), -256)"
   ]
  },
  {
   "cell_type": "markdown",
   "id": "833889f8",
   "metadata": {},
   "source": [
    "## 2.3 랜덤값을 갖는 배열 만들기\n",
    "import numpy as np\n",
    "- np.random.random(tup) : 0부터 1 미만의 균등분포를 갖는 랜덤값\n",
    "- np.random.uniform(low=0, high=1.0, size=tup) : low부터 high미만의 균등분포를 갖는 랜덤값\n",
    "- np.random.normal(loc=0, scale=1.0, size=tup) : 평균 loc과 표준편차scale을 갖는 정규분포 랜덤값\n",
    "- np.random.rand(n) : 균등분포의 1차원 난수 배열 발생(난수 n개)\n",
    "- np.random.randn(n) : 표준정규분포(평균0, 표준편차1인 정규분포)의 1차원 난수 배열 발생 (난수 n개)\n",
    "\n",
    "*np.random.randint(n) : 0부터 n미만의 정수 난수 1개 발생"
   ]
  },
  {
   "cell_type": "code",
   "execution_count": 211,
   "id": "0b8a2296",
   "metadata": {},
   "outputs": [
    {
     "data": {
      "image/png": "[encoded data removed]",
      "text/plain": [
       "<Figure size 1500x200 with 1 Axes>"
      ]
     },
     "metadata": {},
     "output_type": "display_data"
    }
   ],
   "source": [
    "import matplotlib.pyplot as plt\n",
    "x = np.random.rand(10000)\n",
    "plt.figure(figsize=(15,2)) # 그래프 크기 figsize=(가로, 세로)\n",
    "plt.hist(x, bins=50)\n",
    "plt.show()"
   ]
  },
  {
   "cell_type": "code",
   "execution_count": 212,
   "id": "56f0bd0f",
   "metadata": {},
   "outputs": [
    {
     "data": {
      "image/png": "[encoded data removed]",
      "text/plain": [
       "<Figure size 1500x200 with 1 Axes>"
      ]
     },
     "metadata": {},
     "output_type": "display_data"
    }
   ],
   "source": [
    "x = np.random.randn(10000)\n",
    "plt.figure(figsize=(15, 2)) # 그래프 크기 figsize=(가로, 세로)\n",
    "plt.hist(x, bins=100)\n",
    "plt.show()"
   ]
  },
  {
   "cell_type": "code",
   "execution_count": 213,
   "id": "e475bb2b",
   "metadata": {},
   "outputs": [
    {
     "data": {
      "text/plain": [
       "array([[0.15416284, 0.7400497 , 0.26331502, 0.53373939, 0.01457496],\n",
       "       [0.91874701, 0.90071485, 0.03342143, 0.95694934, 0.13720932]])"
      ]
     },
     "execution_count": 213,
     "metadata": {},
     "output_type": "execute_result"
    }
   ],
   "source": [
    "# 2차원 난수 배열\n",
    "np.random.seed(12) # seed 값을 맞추면 발생되는 난수 순서가 동일\n",
    "np.random.random( (2, 5) ) # 0부터 1미만 난수 배열"
   ]
  },
  {
   "cell_type": "code",
   "execution_count": 215,
   "id": "26ec250a",
   "metadata": {},
   "outputs": [
    {
     "data": {
      "text/plain": [
       "array([[ 5.66691503,  9.3864765 ,  8.38009095, -0.97514843,  4.7334863 ],\n",
       "       [ 5.07241397,  4.33915155,  7.44947569,  0.76788428,  7.41016495]])"
      ]
     },
     "execution_count": 215,
     "metadata": {},
     "output_type": "execute_result"
    }
   ],
   "source": [
    "np.random.uniform(-1, 10, (2, 5)) # -1~10 미만의 균등분포 난수 배열"
   ]
  },
  {
   "cell_type": "code",
   "execution_count": null,
   "id": "b39b6b63",
   "metadata": {},
   "outputs": [],
   "source": [
    "np.random.normal(10, 2, (2, 5)) # 평균 10, 표준편차 2인 정규분포 난수 배열"
   ]
  },
  {
   "cell_type": "markdown",
   "id": "f35314c7",
   "metadata": {},
   "source": [
    "## 2.4 연속된 값을 갖는 배열 만들기\n",
    "- np.arange(from, stop, by, dtype) : from부터 stop 앞까지 by씩 증감하는 정수 배열\n",
    "- np.linspace(from, to, count) : from 부터 to 까지(to포함) count개 숫자를 1차원 배열"
   ]
  },
  {
   "cell_type": "code",
   "execution_count": 4,
   "id": "ee1045d4",
   "metadata": {},
   "outputs": [
    {
     "data": {
      "text/plain": [
       "(array([0.        , 0.10526316, 0.21052632, 0.31578947, 0.42105263,\n",
       "        0.52631579, 0.63157895, 0.73684211, 0.84210526, 0.94736842,\n",
       "        1.05263158, 1.15789474, 1.26315789, 1.36842105, 1.47368421,\n",
       "        1.57894737, 1.68421053, 1.78947368, 1.89473684, 2.        ]),\n",
       " 20)"
      ]
     },
     "execution_count": 4,
     "metadata": {},
     "output_type": "execute_result"
    }
   ],
   "source": [
    "np.linspace(0, 2, 20), np.linspace(0, 2, 20).size"
   ]
  },
  {
   "cell_type": "code",
   "execution_count": 236,
   "id": "8a3d120c",
   "metadata": {},
   "outputs": [],
   "source": [
    "# linspace : 많은 수의 점들을 생성\n",
    "x = np.linspace(0, 2*np.pi, 1000)\n",
    "y = np.sin(x)"
   ]
  },
  {
   "cell_type": "code",
   "execution_count": 237,
   "id": "d79fb739",
   "metadata": {},
   "outputs": [
    {
     "data": {
      "image/png": "[encoded data removed]",
      "text/plain": [
       "<Figure size 500x200 with 1 Axes>"
      ]
     },
     "metadata": {},
     "output_type": "display_data"
    }
   ],
   "source": [
    "import matplotlib.pyplot as plt\n",
    "plt.figure(figsize=(5, 2))\n",
    "plt.plot(x,y)\n",
    "plt.show()"
   ]
  },
  {
   "cell_type": "code",
   "execution_count": 238,
   "id": "20ed3549",
   "metadata": {},
   "outputs": [
    {
     "data": {
      "text/plain": [
       "array([[0.        , 0.10526316, 0.21052632, 0.31578947, 0.42105263,\n",
       "        0.52631579, 0.63157895, 0.73684211, 0.84210526, 0.94736842],\n",
       "       [1.05263158, 1.15789474, 1.26315789, 1.36842105, 1.47368421,\n",
       "        1.57894737, 1.68421053, 1.78947368, 1.89473684, 2.        ]])"
      ]
     },
     "execution_count": 238,
     "metadata": {},
     "output_type": "execute_result"
    }
   ],
   "source": [
    "np.linspace(0, 2, 20).reshape(2, 10)"
   ]
  },
  {
   "cell_type": "code",
   "execution_count": 239,
   "id": "074424ad",
   "metadata": {},
   "outputs": [
    {
     "data": {
      "text/plain": [
       "array([10, 13, 16, 19, 22, 25, 28], dtype=int8)"
      ]
     },
     "execution_count": 239,
     "metadata": {},
     "output_type": "execute_result"
    }
   ],
   "source": [
    "np.arange(10, 30, 3, dtype=np.int8)"
   ]
  },
  {
   "cell_type": "markdown",
   "id": "cc7ac058",
   "metadata": {},
   "source": [
    "## 2.5 배열의 차원 변경하기\n",
    "- reshape([면수], 행수, 열수) : -1이 올 수 있다.\n",
    "- resize([면수], 행수, 열수) : -1 불가\n",
    "- T : 전치 행렬로 변환\n",
    "- transpose() : 전치행렬로 변환\n",
    "※ 실행결과가 출력되면 배열이 수정되지 않고, 실행결과가 없으면 배열 수정됨"
   ]
  },
  {
   "cell_type": "code",
   "execution_count": 4,
   "id": "7beaf6bd",
   "metadata": {},
   "outputs": [
    {
     "data": {
      "text/plain": [
       "array([[0.06487974, 0.64918223, 0.92802083],\n",
       "       [0.79014382, 0.02390589, 0.60172657]])"
      ]
     },
     "execution_count": 4,
     "metadata": {},
     "output_type": "execute_result"
    }
   ],
   "source": [
    "a = np.random.random( (2, 3))\n",
    "a"
   ]
  },
  {
   "cell_type": "code",
   "execution_count": 5,
   "id": "6d9f4025",
   "metadata": {},
   "outputs": [
    {
     "data": {
      "text/plain": [
       "array([[1., 6., 9.],\n",
       "       [8., 0., 6.]])"
      ]
     },
     "execution_count": 5,
     "metadata": {},
     "output_type": "execute_result"
    }
   ],
   "source": [
    "a = np.round(a * 10) # round : 반올림 / floor : 내림 / ceil : 올림\n",
    "a"
   ]
  },
  {
   "cell_type": "code",
   "execution_count": 6,
   "id": "062d1235",
   "metadata": {},
   "outputs": [
    {
     "data": {
      "text/plain": [
       "array([[1., 6., 9.],\n",
       "       [8., 0., 6.]])"
      ]
     },
     "execution_count": 6,
     "metadata": {},
     "output_type": "execute_result"
    }
   ],
   "source": [
    "a.reshape(3, 2)\n",
    "a"
   ]
  },
  {
   "cell_type": "code",
   "execution_count": 7,
   "id": "af1b19e8",
   "metadata": {},
   "outputs": [
    {
     "data": {
      "text/plain": [
       "array([[1., 6., 9.],\n",
       "       [8., 0., 6.]])"
      ]
     },
     "execution_count": 7,
     "metadata": {},
     "output_type": "execute_result"
    }
   ],
   "source": [
    "a.reshape(-1, 3) # -1이 주어지면 해당 차원의 크기가 자동 계산"
   ]
  },
  {
   "cell_type": "code",
   "execution_count": 8,
   "id": "7fe97459",
   "metadata": {},
   "outputs": [
    {
     "data": {
      "text/plain": [
       "array([[1., 6., 9.],\n",
       "       [8., 0., 6.]])"
      ]
     },
     "execution_count": 8,
     "metadata": {},
     "output_type": "execute_result"
    }
   ],
   "source": [
    "a.resize( (2,3) ) # 결과 출력하지 않는 함수는 배열 자체를 바꿈. -1 불가\n",
    "a"
   ]
  },
  {
   "cell_type": "code",
   "execution_count": 9,
   "id": "2029f3ca",
   "metadata": {},
   "outputs": [
    {
     "data": {
      "text/plain": [
       "(array([1., 6., 9., 8., 0., 6.]), array([1., 6., 9., 8., 0., 6.]))"
      ]
     },
     "execution_count": 9,
     "metadata": {},
     "output_type": "execute_result"
    }
   ],
   "source": [
    "a.ravel(), a.flatten()"
   ]
  },
  {
   "cell_type": "code",
   "execution_count": 10,
   "id": "de6065b3",
   "metadata": {},
   "outputs": [
    {
     "data": {
      "text/plain": [
       "array([[1., 8.],\n",
       "       [6., 0.],\n",
       "       [9., 6.]])"
      ]
     },
     "execution_count": 10,
     "metadata": {},
     "output_type": "execute_result"
    }
   ],
   "source": [
    "a.T # 전치행령(행과 열이 바뀌는 행렬)"
   ]
  },
  {
   "cell_type": "code",
   "execution_count": 11,
   "id": "a73ec022",
   "metadata": {},
   "outputs": [
    {
     "data": {
      "text/plain": [
       "array([[1., 8.],\n",
       "       [6., 0.],\n",
       "       [9., 6.]])"
      ]
     },
     "execution_count": 11,
     "metadata": {},
     "output_type": "execute_result"
    }
   ],
   "source": [
    "a.transpose() # 전치행렬"
   ]
  },
  {
   "cell_type": "markdown",
   "id": "e9b97aab",
   "metadata": {},
   "source": [
    "## 2.6 배열 인쇄"
   ]
  },
  {
   "cell_type": "code",
   "execution_count": 14,
   "id": "b4f52fda",
   "metadata": {},
   "outputs": [
    {
     "data": {
      "text/plain": [
       "array([   0,    1,    2, ...,  998,  999, 1000])"
      ]
     },
     "execution_count": 14,
     "metadata": {},
     "output_type": "execute_result"
    }
   ],
   "source": [
    "# 배열이 커서 출력이 안될 경우\n",
    "np.arange(1001)"
   ]
  },
  {
   "cell_type": "code",
   "execution_count": 19,
   "id": "ec542f65",
   "metadata": {},
   "outputs": [
    {
     "data": {
      "text/plain": [
       "array([[   0,    1,    2, ...,   97,   98,   99],\n",
       "       [ 100,  101,  102, ...,  197,  198,  199],\n",
       "       [ 200,  201,  202, ...,  297,  298,  299],\n",
       "       ...,\n",
       "       [9700, 9701, 9702, ..., 9797, 9798, 9799],\n",
       "       [9800, 9801, 9802, ..., 9897, 9898, 9899],\n",
       "       [9900, 9901, 9902, ..., 9997, 9998, 9999]])"
      ]
     },
     "execution_count": 19,
     "metadata": {},
     "output_type": "execute_result"
    }
   ],
   "source": [
    "np.arange(10000).reshape(100, 100)"
   ]
  },
  {
   "cell_type": "code",
   "execution_count": 25,
   "id": "607228b1",
   "metadata": {},
   "outputs": [],
   "source": [
    "# 배열 출력 옵션 변경(인쇄할 사이즈를 10000, 최대치, 무한대)\n",
    "import sys # 최대치 : sys.maxsize\n",
    "# np.set_printoptions(threshold=10000)\n",
    "# np.set_printoptions(threshold=sys.maxsize)\n",
    "# np.set_printoptions(threshold=np.inf)\n",
    "# 커널 재시작시 trhreshold 값 복귀"
   ]
  },
  {
   "cell_type": "code",
   "execution_count": 27,
   "id": "a8d038af",
   "metadata": {
    "collapsed": true
   },
   "outputs": [
    {
     "data": {
      "text/plain": [
       "array([    0,     1,     2,     3,     4,     5,     6,     7,     8,\n",
       "           9,    10,    11,    12,    13,    14,    15,    16,    17,\n",
       "          18,    19,    20,    21,    22,    23,    24,    25,    26,\n",
       "          27,    28,    29,    30,    31,    32,    33,    34,    35,\n",
       "          36,    37,    38,    39,    40,    41,    42,    43,    44,\n",
       "          45,    46,    47,    48,    49,    50,    51,    52,    53,\n",
       "          54,    55,    56,    57,    58,    59,    60,    61,    62,\n",
       "          63,    64,    65,    66,    67,    68,    69,    70,    71,\n",
       "          72,    73,    74,    75,    76,    77,    78,    79,    80,\n",
       "          81,    82,    83,    84,    85,    86,    87,    88,    89,\n",
       "          90,    91,    92,    93,    94,    95,    96,    97,    98,\n",
       "          99,   100,   101,   102,   103,   104,   105,   106,   107,\n",
       "         108,   109,   110,   111,   112,   113,   114,   115,   116,\n",
       "         117,   118,   119,   120,   121,   122,   123,   124,   125,\n",
       "         126,   127,   128,   129,   130,   131,   132,   133,   134,\n",
       "         135,   136,   137,   138,   139,   140,   141,   142,   143,\n",
       "         144,   145,   146,   147,   148,   149,   150,   151,   152,\n",
       "         153,   154,   155,   156,   157,   158,   159,   160,   161,\n",
       "         162,   163,   164,   165,   166,   167,   168,   169,   170,\n",
       "         171,   172,   173,   174,   175,   176,   177,   178,   179,\n",
       "         180,   181,   182,   183,   184,   185,   186,   187,   188,\n",
       "         189,   190,   191,   192,   193,   194,   195,   196,   197,\n",
       "         198,   199,   200,   201,   202,   203,   204,   205,   206,\n",
       "         207,   208,   209,   210,   211,   212,   213,   214,   215,\n",
       "         216,   217,   218,   219,   220,   221,   222,   223,   224,\n",
       "         225,   226,   227,   228,   229,   230,   231,   232,   233,\n",
       "         234,   235,   236,   237,   238,   239,   240,   241,   242,\n",
       "         243,   244,   245,   246,   247,   248,   249,   250,   251,\n",
       "         252,   253,   254,   255,   256,   257,   258,   259,   260,\n",
       "         261,   262,   263,   264,   265,   266,   267,   268,   269,\n",
       "         270,   271,   272,   273,   274,   275,   276,   277,   278,\n",
       "         279,   280,   281,   282,   283,   284,   285,   286,   287,\n",
       "         288,   289,   290,   291,   292,   293,   294,   295,   296,\n",
       "         297,   298,   299,   300,   301,   302,   303,   304,   305,\n",
       "         306,   307,   308,   309,   310,   311,   312,   313,   314,\n",
       "         315,   316,   317,   318,   319,   320,   321,   322,   323,\n",
       "         324,   325,   326,   327,   328,   329,   330,   331,   332,\n",
       "         333,   334,   335,   336,   337,   338,   339,   340,   341,\n",
       "         342,   343,   344,   345,   346,   347,   348,   349,   350,\n",
       "         351,   352,   353,   354,   355,   356,   357,   358,   359,\n",
       "         360,   361,   362,   363,   364,   365,   366,   367,   368,\n",
       "         369,   370,   371,   372,   373,   374,   375,   376,   377,\n",
       "         378,   379,   380,   381,   382,   383,   384,   385,   386,\n",
       "         387,   388,   389,   390,   391,   392,   393,   394,   395,\n",
       "         396,   397,   398,   399,   400,   401,   402,   403,   404,\n",
       "         405,   406,   407,   408,   409,   410,   411,   412,   413,\n",
       "         414,   415,   416,   417,   418,   419,   420,   421,   422,\n",
       "         423,   424,   425,   426,   427,   428,   429,   430,   431,\n",
       "         432,   433,   434,   435,   436,   437,   438,   439,   440,\n",
       "         441,   442,   443,   444,   445,   446,   447,   448,   449,\n",
       "         450,   451,   452,   453,   454,   455,   456,   457,   458,\n",
       "         459,   460,   461,   462,   463,   464,   465,   466,   467,\n",
       "         468,   469,   470,   471,   472,   473,   474,   475,   476,\n",
       "         477,   478,   479,   480,   481,   482,   483,   484,   485,\n",
       "         486,   487,   488,   489,   490,   491,   492,   493,   494,\n",
       "         495,   496,   497,   498,   499,   500,   501,   502,   503,\n",
       "         504,   505,   506,   507,   508,   509,   510,   511,   512,\n",
       "         513,   514,   515,   516,   517,   518,   519,   520,   521,\n",
       "         522,   523,   524,   525,   526,   527,   528,   529,   530,\n",
       "         531,   532,   533,   534,   535,   536,   537,   538,   539,\n",
       "         540,   541,   542,   543,   544,   545,   546,   547,   548,\n",
       "         549,   550,   551,   552,   553,   554,   555,   556,   557,\n",
       "         558,   559,   560,   561,   562,   563,   564,   565,   566,\n",
       "         567,   568,   569,   570,   571,   572,   573,   574,   575,\n",
       "         576,   577,   578,   579,   580,   581,   582,   583,   584,\n",
       "         585,   586,   587,   588,   589,   590,   591,   592,   593,\n",
       "         594,   595,   596,   597,   598,   599,   600,   601,   602,\n",
       "         603,   604,   605,   606,   607,   608,   609,   610,   611,\n",
       "         612,   613,   614,   615,   616,   617,   618,   619,   620,\n",
       "         621,   622,   623,   624,   625,   626,   627,   628,   629,\n",
       "         630,   631,   632,   633,   634,   635,   636,   637,   638,\n",
       "         639,   640,   641,   642,   643,   644,   645,   646,   647,\n",
       "         648,   649,   650,   651,   652,   653,   654,   655,   656,\n",
       "         657,   658,   659,   660,   661,   662,   663,   664,   665,\n",
       "         666,   667,   668,   669,   670,   671,   672,   673,   674,\n",
       "         675,   676,   677,   678,   679,   680,   681,   682,   683,\n",
       "         684,   685,   686,   687,   688,   689,   690,   691,   692,\n",
       "         693,   694,   695,   696,   697,   698,   699,   700,   701,\n",
       "         702,   703,   704,   705,   706,   707,   708,   709,   710,\n",
       "         711,   712,   713,   714,   715,   716,   717,   718,   719,\n",
       "         720,   721,   722,   723,   724,   725,   726,   727,   728,\n",
       "         729,   730,   731,   732,   733,   734,   735,   736,   737,\n",
       "         738,   739,   740,   741,   742,   743,   744,   745,   746,\n",
       "         747,   748,   749,   750,   751,   752,   753,   754,   755,\n",
       "         756,   757,   758,   759,   760,   761,   762,   763,   764,\n",
       "         765,   766,   767,   768,   769,   770,   771,   772,   773,\n",
       "         774,   775,   776,   777,   778,   779,   780,   781,   782,\n",
       "         783,   784,   785,   786,   787,   788,   789,   790,   791,\n",
       "         792,   793,   794,   795,   796,   797,   798,   799,   800,\n",
       "         801,   802,   803,   804,   805,   806,   807,   808,   809,\n",
       "         810,   811,   812,   813,   814,   815,   816,   817,   818,\n",
       "         819,   820,   821,   822,   823,   824,   825,   826,   827,\n",
       "         828,   829,   830,   831,   832,   833,   834,   835,   836,\n",
       "         837,   838,   839,   840,   841,   842,   843,   844,   845,\n",
       "         846,   847,   848,   849,   850,   851,   852,   853,   854,\n",
       "         855,   856,   857,   858,   859,   860,   861,   862,   863,\n",
       "         864,   865,   866,   867,   868,   869,   870,   871,   872,\n",
       "         873,   874,   875,   876,   877,   878,   879,   880,   881,\n",
       "         882,   883,   884,   885,   886,   887,   888,   889,   890,\n",
       "         891,   892,   893,   894,   895,   896,   897,   898,   899,\n",
       "         900,   901,   902,   903,   904,   905,   906,   907,   908,\n",
       "         909,   910,   911,   912,   913,   914,   915,   916,   917,\n",
       "         918,   919,   920,   921,   922,   923,   924,   925,   926,\n",
       "         927,   928,   929,   930,   931,   932,   933,   934,   935,\n",
       "         936,   937,   938,   939,   940,   941,   942,   943,   944,\n",
       "         945,   946,   947,   948,   949,   950,   951,   952,   953,\n",
       "         954,   955,   956,   957,   958,   959,   960,   961,   962,\n",
       "         963,   964,   965,   966,   967,   968,   969,   970,   971,\n",
       "         972,   973,   974,   975,   976,   977,   978,   979,   980,\n",
       "         981,   982,   983,   984,   985,   986,   987,   988,   989,\n",
       "         990,   991,   992,   993,   994,   995,   996,   997,   998,\n",
       "         999,  1000,  1001,  1002,  1003,  1004,  1005,  1006,  1007,\n",
       "        1008,  1009,  1010,  1011,  1012,  1013,  1014,  1015,  1016,\n",
       "        1017,  1018,  1019,  1020,  1021,  1022,  1023,  1024,  1025,\n",
       "        1026,  1027,  1028,  1029,  1030,  1031,  1032,  1033,  1034,\n",
       "        1035,  1036,  1037,  1038,  1039,  1040,  1041,  1042,  1043,\n",
       "        1044,  1045,  1046,  1047,  1048,  1049,  1050,  1051,  1052,\n",
       "        1053,  1054,  1055,  1056,  1057,  1058,  1059,  1060,  1061,\n",
       "        1062,  1063,  1064,  1065,  1066,  1067,  1068,  1069,  1070,\n",
       "        1071,  1072,  1073,  1074,  1075,  1076,  1077,  1078,  1079,\n",
       "        1080,  1081,  1082,  1083,  1084,  1085,  1086,  1087,  1088,\n",
       "        1089,  1090,  1091,  1092,  1093,  1094,  1095,  1096,  1097,\n",
       "        1098,  1099,  1100,  1101,  1102,  1103,  1104,  1105,  1106,\n",
       "        1107,  1108,  1109,  1110,  1111,  1112,  1113,  1114,  1115,\n",
       "        1116,  1117,  1118,  1119,  1120,  1121,  1122,  1123,  1124,\n",
       "        1125,  1126,  1127,  1128,  1129,  1130,  1131,  1132,  1133,\n",
       "        1134,  1135,  1136,  1137,  1138,  1139,  1140,  1141,  1142,\n",
       "        1143,  1144,  1145,  1146,  1147,  1148,  1149,  1150,  1151,\n",
       "        1152,  1153,  1154,  1155,  1156,  1157,  1158,  1159,  1160,\n",
       "        1161,  1162,  1163,  1164,  1165,  1166,  1167,  1168,  1169,\n",
       "        1170,  1171,  1172,  1173,  1174,  1175,  1176,  1177,  1178,\n",
       "        1179,  1180,  1181,  1182,  1183,  1184,  1185,  1186,  1187,\n",
       "        1188,  1189,  1190,  1191,  1192,  1193,  1194,  1195,  1196,\n",
       "        1197,  1198,  1199,  1200,  1201,  1202,  1203,  1204,  1205,\n",
       "        1206,  1207,  1208,  1209,  1210,  1211,  1212,  1213,  1214,\n",
       "        1215,  1216,  1217,  1218,  1219,  1220,  1221,  1222,  1223,\n",
       "        1224,  1225,  1226,  1227,  1228,  1229,  1230,  1231,  1232,\n",
       "        1233,  1234,  1235,  1236,  1237,  1238,  1239,  1240,  1241,\n",
       "        1242,  1243,  1244,  1245,  1246,  1247,  1248,  1249,  1250,\n",
       "        1251,  1252,  1253,  1254,  1255,  1256,  1257,  1258,  1259,\n",
       "        1260,  1261,  1262,  1263,  1264,  1265,  1266,  1267,  1268,\n",
       "        1269,  1270,  1271,  1272,  1273,  1274,  1275,  1276,  1277,\n",
       "        1278,  1279,  1280,  1281,  1282,  1283,  1284,  1285,  1286,\n",
       "        1287,  1288,  1289,  1290,  1291,  1292,  1293,  1294,  1295,\n",
       "        1296,  1297,  1298,  1299,  1300,  1301,  1302,  1303,  1304,\n",
       "        1305,  1306,  1307,  1308,  1309,  1310,  1311,  1312,  1313,\n",
       "        1314,  1315,  1316,  1317,  1318,  1319,  1320,  1321,  1322,\n",
       "        1323,  1324,  1325,  1326,  1327,  1328,  1329,  1330,  1331,\n",
       "        1332,  1333,  1334,  1335,  1336,  1337,  1338,  1339,  1340,\n",
       "        1341,  1342,  1343,  1344,  1345,  1346,  1347,  1348,  1349,\n",
       "        1350,  1351,  1352,  1353,  1354,  1355,  1356,  1357,  1358,\n",
       "        1359,  1360,  1361,  1362,  1363,  1364,  1365,  1366,  1367,\n",
       "        1368,  1369,  1370,  1371,  1372,  1373,  1374,  1375,  1376,\n",
       "        1377,  1378,  1379,  1380,  1381,  1382,  1383,  1384,  1385,\n",
       "        1386,  1387,  1388,  1389,  1390,  1391,  1392,  1393,  1394,\n",
       "        1395,  1396,  1397,  1398,  1399,  1400,  1401,  1402,  1403,\n",
       "        1404,  1405,  1406,  1407,  1408,  1409,  1410,  1411,  1412,\n",
       "        1413,  1414,  1415,  1416,  1417,  1418,  1419,  1420,  1421,\n",
       "        1422,  1423,  1424,  1425,  1426,  1427,  1428,  1429,  1430,\n",
       "        1431,  1432,  1433,  1434,  1435,  1436,  1437,  1438,  1439,\n",
       "        1440,  1441,  1442,  1443,  1444,  1445,  1446,  1447,  1448,\n",
       "        1449,  1450,  1451,  1452,  1453,  1454,  1455,  1456,  1457,\n",
       "        1458,  1459,  1460,  1461,  1462,  1463,  1464,  1465,  1466,\n",
       "        1467,  1468,  1469,  1470,  1471,  1472,  1473,  1474,  1475,\n",
       "        1476,  1477,  1478,  1479,  1480,  1481,  1482,  1483,  1484,\n",
       "        1485,  1486,  1487,  1488,  1489,  1490,  1491,  1492,  1493,\n",
       "        1494,  1495,  1496,  1497,  1498,  1499,  1500,  1501,  1502,\n",
       "        1503,  1504,  1505,  1506,  1507,  1508,  1509,  1510,  1511,\n",
       "        1512,  1513,  1514,  1515,  1516,  1517,  1518,  1519,  1520,\n",
       "        1521,  1522,  1523,  1524,  1525,  1526,  1527,  1528,  1529,\n",
       "        1530,  1531,  1532,  1533,  1534,  1535,  1536,  1537,  1538,\n",
       "        1539,  1540,  1541,  1542,  1543,  1544,  1545,  1546,  1547,\n",
       "        1548,  1549,  1550,  1551,  1552,  1553,  1554,  1555,  1556,\n",
       "        1557,  1558,  1559,  1560,  1561,  1562,  1563,  1564,  1565,\n",
       "        1566,  1567,  1568,  1569,  1570,  1571,  1572,  1573,  1574,\n",
       "        1575,  1576,  1577,  1578,  1579,  1580,  1581,  1582,  1583,\n",
       "        1584,  1585,  1586,  1587,  1588,  1589,  1590,  1591,  1592,\n",
       "        1593,  1594,  1595,  1596,  1597,  1598,  1599,  1600,  1601,\n",
       "        1602,  1603,  1604,  1605,  1606,  1607,  1608,  1609,  1610,\n",
       "        1611,  1612,  1613,  1614,  1615,  1616,  1617,  1618,  1619,\n",
       "        1620,  1621,  1622,  1623,  1624,  1625,  1626,  1627,  1628,\n",
       "        1629,  1630,  1631,  1632,  1633,  1634,  1635,  1636,  1637,\n",
       "        1638,  1639,  1640,  1641,  1642,  1643,  1644,  1645,  1646,\n",
       "        1647,  1648,  1649,  1650,  1651,  1652,  1653,  1654,  1655,\n",
       "        1656,  1657,  1658,  1659,  1660,  1661,  1662,  1663,  1664,\n",
       "        1665,  1666,  1667,  1668,  1669,  1670,  1671,  1672,  1673,\n",
       "        1674,  1675,  1676,  1677,  1678,  1679,  1680,  1681,  1682,\n",
       "        1683,  1684,  1685,  1686,  1687,  1688,  1689,  1690,  1691,\n",
       "        1692,  1693,  1694,  1695,  1696,  1697,  1698,  1699,  1700,\n",
       "        1701,  1702,  1703,  1704,  1705,  1706,  1707,  1708,  1709,\n",
       "        1710,  1711,  1712,  1713,  1714,  1715,  1716,  1717,  1718,\n",
       "        1719,  1720,  1721,  1722,  1723,  1724,  1725,  1726,  1727,\n",
       "        1728,  1729,  1730,  1731,  1732,  1733,  1734,  1735,  1736,\n",
       "        1737,  1738,  1739,  1740,  1741,  1742,  1743,  1744,  1745,\n",
       "        1746,  1747,  1748,  1749,  1750,  1751,  1752,  1753,  1754,\n",
       "        1755,  1756,  1757,  1758,  1759,  1760,  1761,  1762,  1763,\n",
       "        1764,  1765,  1766,  1767,  1768,  1769,  1770,  1771,  1772,\n",
       "        1773,  1774,  1775,  1776,  1777,  1778,  1779,  1780,  1781,\n",
       "        1782,  1783,  1784,  1785,  1786,  1787,  1788,  1789,  1790,\n",
       "        1791,  1792,  1793,  1794,  1795,  1796,  1797,  1798,  1799,\n",
       "        1800,  1801,  1802,  1803,  1804,  1805,  1806,  1807,  1808,\n",
       "        1809,  1810,  1811,  1812,  1813,  1814,  1815,  1816,  1817,\n",
       "        1818,  1819,  1820,  1821,  1822,  1823,  1824,  1825,  1826,\n",
       "        1827,  1828,  1829,  1830,  1831,  1832,  1833,  1834,  1835,\n",
       "        1836,  1837,  1838,  1839,  1840,  1841,  1842,  1843,  1844,\n",
       "        1845,  1846,  1847,  1848,  1849,  1850,  1851,  1852,  1853,\n",
       "        1854,  1855,  1856,  1857,  1858,  1859,  1860,  1861,  1862,\n",
       "        1863,  1864,  1865,  1866,  1867,  1868,  1869,  1870,  1871,\n",
       "        1872,  1873,  1874,  1875,  1876,  1877,  1878,  1879,  1880,\n",
       "        1881,  1882,  1883,  1884,  1885,  1886,  1887,  1888,  1889,\n",
       "        1890,  1891,  1892,  1893,  1894,  1895,  1896,  1897,  1898,\n",
       "        1899,  1900,  1901,  1902,  1903,  1904,  1905,  1906,  1907,\n",
       "        1908,  1909,  1910,  1911,  1912,  1913,  1914,  1915,  1916,\n",
       "        1917,  1918,  1919,  1920,  1921,  1922,  1923,  1924,  1925,\n",
       "        1926,  1927,  1928,  1929,  1930,  1931,  1932,  1933,  1934,\n",
       "        1935,  1936,  1937,  1938,  1939,  1940,  1941,  1942,  1943,\n",
       "        1944,  1945,  1946,  1947,  1948,  1949,  1950,  1951,  1952,\n",
       "        1953,  1954,  1955,  1956,  1957,  1958,  1959,  1960,  1961,\n",
       "        1962,  1963,  1964,  1965,  1966,  1967,  1968,  1969,  1970,\n",
       "        1971,  1972,  1973,  1974,  1975,  1976,  1977,  1978,  1979,\n",
       "        1980,  1981,  1982,  1983,  1984,  1985,  1986,  1987,  1988,\n",
       "        1989,  1990,  1991,  1992,  1993,  1994,  1995,  1996,  1997,\n",
       "        1998,  1999,  2000,  2001,  2002,  2003,  2004,  2005,  2006,\n",
       "        2007,  2008,  2009,  2010,  2011,  2012,  2013,  2014,  2015,\n",
       "        2016,  2017,  2018,  2019,  2020,  2021,  2022,  2023,  2024,\n",
       "        2025,  2026,  2027,  2028,  2029,  2030,  2031,  2032,  2033,\n",
       "        2034,  2035,  2036,  2037,  2038,  2039,  2040,  2041,  2042,\n",
       "        2043,  2044,  2045,  2046,  2047,  2048,  2049,  2050,  2051,\n",
       "        2052,  2053,  2054,  2055,  2056,  2057,  2058,  2059,  2060,\n",
       "        2061,  2062,  2063,  2064,  2065,  2066,  2067,  2068,  2069,\n",
       "        2070,  2071,  2072,  2073,  2074,  2075,  2076,  2077,  2078,\n",
       "        2079,  2080,  2081,  2082,  2083,  2084,  2085,  2086,  2087,\n",
       "        2088,  2089,  2090,  2091,  2092,  2093,  2094,  2095,  2096,\n",
       "        2097,  2098,  2099,  2100,  2101,  2102,  2103,  2104,  2105,\n",
       "        2106,  2107,  2108,  2109,  2110,  2111,  2112,  2113,  2114,\n",
       "        2115,  2116,  2117,  2118,  2119,  2120,  2121,  2122,  2123,\n",
       "        2124,  2125,  2126,  2127,  2128,  2129,  2130,  2131,  2132,\n",
       "        2133,  2134,  2135,  2136,  2137,  2138,  2139,  2140,  2141,\n",
       "        2142,  2143,  2144,  2145,  2146,  2147,  2148,  2149,  2150,\n",
       "        2151,  2152,  2153,  2154,  2155,  2156,  2157,  2158,  2159,\n",
       "        2160,  2161,  2162,  2163,  2164,  2165,  2166,  2167,  2168,\n",
       "        2169,  2170,  2171,  2172,  2173,  2174,  2175,  2176,  2177,\n",
       "        2178,  2179,  2180,  2181,  2182,  2183,  2184,  2185,  2186,\n",
       "        2187,  2188,  2189,  2190,  2191,  2192,  2193,  2194,  2195,\n",
       "        2196,  2197,  2198,  2199,  2200,  2201,  2202,  2203,  2204,\n",
       "        2205,  2206,  2207,  2208,  2209,  2210,  2211,  2212,  2213,\n",
       "        2214,  2215,  2216,  2217,  2218,  2219,  2220,  2221,  2222,\n",
       "        2223,  2224,  2225,  2226,  2227,  2228,  2229,  2230,  2231,\n",
       "        2232,  2233,  2234,  2235,  2236,  2237,  2238,  2239,  2240,\n",
       "        2241,  2242,  2243,  2244,  2245,  2246,  2247,  2248,  2249,\n",
       "        2250,  2251,  2252,  2253,  2254,  2255,  2256,  2257,  2258,\n",
       "        2259,  2260,  2261,  2262,  2263,  2264,  2265,  2266,  2267,\n",
       "        2268,  2269,  2270,  2271,  2272,  2273,  2274,  2275,  2276,\n",
       "        2277,  2278,  2279,  2280,  2281,  2282,  2283,  2284,  2285,\n",
       "        2286,  2287,  2288,  2289,  2290,  2291,  2292,  2293,  2294,\n",
       "        2295,  2296,  2297,  2298,  2299,  2300,  2301,  2302,  2303,\n",
       "        2304,  2305,  2306,  2307,  2308,  2309,  2310,  2311,  2312,\n",
       "        2313,  2314,  2315,  2316,  2317,  2318,  2319,  2320,  2321,\n",
       "        2322,  2323,  2324,  2325,  2326,  2327,  2328,  2329,  2330,\n",
       "        2331,  2332,  2333,  2334,  2335,  2336,  2337,  2338,  2339,\n",
       "        2340,  2341,  2342,  2343,  2344,  2345,  2346,  2347,  2348,\n",
       "        2349,  2350,  2351,  2352,  2353,  2354,  2355,  2356,  2357,\n",
       "        2358,  2359,  2360,  2361,  2362,  2363,  2364,  2365,  2366,\n",
       "        2367,  2368,  2369,  2370,  2371,  2372,  2373,  2374,  2375,\n",
       "        2376,  2377,  2378,  2379,  2380,  2381,  2382,  2383,  2384,\n",
       "        2385,  2386,  2387,  2388,  2389,  2390,  2391,  2392,  2393,\n",
       "        2394,  2395,  2396,  2397,  2398,  2399,  2400,  2401,  2402,\n",
       "        2403,  2404,  2405,  2406,  2407,  2408,  2409,  2410,  2411,\n",
       "        2412,  2413,  2414,  2415,  2416,  2417,  2418,  2419,  2420,\n",
       "        2421,  2422,  2423,  2424,  2425,  2426,  2427,  2428,  2429,\n",
       "        2430,  2431,  2432,  2433,  2434,  2435,  2436,  2437,  2438,\n",
       "        2439,  2440,  2441,  2442,  2443,  2444,  2445,  2446,  2447,\n",
       "        2448,  2449,  2450,  2451,  2452,  2453,  2454,  2455,  2456,\n",
       "        2457,  2458,  2459,  2460,  2461,  2462,  2463,  2464,  2465,\n",
       "        2466,  2467,  2468,  2469,  2470,  2471,  2472,  2473,  2474,\n",
       "        2475,  2476,  2477,  2478,  2479,  2480,  2481,  2482,  2483,\n",
       "        2484,  2485,  2486,  2487,  2488,  2489,  2490,  2491,  2492,\n",
       "        2493,  2494,  2495,  2496,  2497,  2498,  2499,  2500,  2501,\n",
       "        2502,  2503,  2504,  2505,  2506,  2507,  2508,  2509,  2510,\n",
       "        2511,  2512,  2513,  2514,  2515,  2516,  2517,  2518,  2519,\n",
       "        2520,  2521,  2522,  2523,  2524,  2525,  2526,  2527,  2528,\n",
       "        2529,  2530,  2531,  2532,  2533,  2534,  2535,  2536,  2537,\n",
       "        2538,  2539,  2540,  2541,  2542,  2543,  2544,  2545,  2546,\n",
       "        2547,  2548,  2549,  2550,  2551,  2552,  2553,  2554,  2555,\n",
       "        2556,  2557,  2558,  2559,  2560,  2561,  2562,  2563,  2564,\n",
       "        2565,  2566,  2567,  2568,  2569,  2570,  2571,  2572,  2573,\n",
       "        2574,  2575,  2576,  2577,  2578,  2579,  2580,  2581,  2582,\n",
       "        2583,  2584,  2585,  2586,  2587,  2588,  2589,  2590,  2591,\n",
       "        2592,  2593,  2594,  2595,  2596,  2597,  2598,  2599,  2600,\n",
       "        2601,  2602,  2603,  2604,  2605,  2606,  2607,  2608,  2609,\n",
       "        2610,  2611,  2612,  2613,  2614,  2615,  2616,  2617,  2618,\n",
       "        2619,  2620,  2621,  2622,  2623,  2624,  2625,  2626,  2627,\n",
       "        2628,  2629,  2630,  2631,  2632,  2633,  2634,  2635,  2636,\n",
       "        2637,  2638,  2639,  2640,  2641,  2642,  2643,  2644,  2645,\n",
       "        2646,  2647,  2648,  2649,  2650,  2651,  2652,  2653,  2654,\n",
       "        2655,  2656,  2657,  2658,  2659,  2660,  2661,  2662,  2663,\n",
       "        2664,  2665,  2666,  2667,  2668,  2669,  2670,  2671,  2672,\n",
       "        2673,  2674,  2675,  2676,  2677,  2678,  2679,  2680,  2681,\n",
       "        2682,  2683,  2684,  2685,  2686,  2687,  2688,  2689,  2690,\n",
       "        2691,  2692,  2693,  2694,  2695,  2696,  2697,  2698,  2699,\n",
       "        2700,  2701,  2702,  2703,  2704,  2705,  2706,  2707,  2708,\n",
       "        2709,  2710,  2711,  2712,  2713,  2714,  2715,  2716,  2717,\n",
       "        2718,  2719,  2720,  2721,  2722,  2723,  2724,  2725,  2726,\n",
       "        2727,  2728,  2729,  2730,  2731,  2732,  2733,  2734,  2735,\n",
       "        2736,  2737,  2738,  2739,  2740,  2741,  2742,  2743,  2744,\n",
       "        2745,  2746,  2747,  2748,  2749,  2750,  2751,  2752,  2753,\n",
       "        2754,  2755,  2756,  2757,  2758,  2759,  2760,  2761,  2762,\n",
       "        2763,  2764,  2765,  2766,  2767,  2768,  2769,  2770,  2771,\n",
       "        2772,  2773,  2774,  2775,  2776,  2777,  2778,  2779,  2780,\n",
       "        2781,  2782,  2783,  2784,  2785,  2786,  2787,  2788,  2789,\n",
       "        2790,  2791,  2792,  2793,  2794,  2795,  2796,  2797,  2798,\n",
       "        2799,  2800,  2801,  2802,  2803,  2804,  2805,  2806,  2807,\n",
       "        2808,  2809,  2810,  2811,  2812,  2813,  2814,  2815,  2816,\n",
       "        2817,  2818,  2819,  2820,  2821,  2822,  2823,  2824,  2825,\n",
       "        2826,  2827,  2828,  2829,  2830,  2831,  2832,  2833,  2834,\n",
       "        2835,  2836,  2837,  2838,  2839,  2840,  2841,  2842,  2843,\n",
       "        2844,  2845,  2846,  2847,  2848,  2849,  2850,  2851,  2852,\n",
       "        2853,  2854,  2855,  2856,  2857,  2858,  2859,  2860,  2861,\n",
       "        2862,  2863,  2864,  2865,  2866,  2867,  2868,  2869,  2870,\n",
       "        2871,  2872,  2873,  2874,  2875,  2876,  2877,  2878,  2879,\n",
       "        2880,  2881,  2882,  2883,  2884,  2885,  2886,  2887,  2888,\n",
       "        2889,  2890,  2891,  2892,  2893,  2894,  2895,  2896,  2897,\n",
       "        2898,  2899,  2900,  2901,  2902,  2903,  2904,  2905,  2906,\n",
       "        2907,  2908,  2909,  2910,  2911,  2912,  2913,  2914,  2915,\n",
       "        2916,  2917,  2918,  2919,  2920,  2921,  2922,  2923,  2924,\n",
       "        2925,  2926,  2927,  2928,  2929,  2930,  2931,  2932,  2933,\n",
       "        2934,  2935,  2936,  2937,  2938,  2939,  2940,  2941,  2942,\n",
       "        2943,  2944,  2945,  2946,  2947,  2948,  2949,  2950,  2951,\n",
       "        2952,  2953,  2954,  2955,  2956,  2957,  2958,  2959,  2960,\n",
       "        2961,  2962,  2963,  2964,  2965,  2966,  2967,  2968,  2969,\n",
       "        2970,  2971,  2972,  2973,  2974,  2975,  2976,  2977,  2978,\n",
       "        2979,  2980,  2981,  2982,  2983,  2984,  2985,  2986,  2987,\n",
       "        2988,  2989,  2990,  2991,  2992,  2993,  2994,  2995,  2996,\n",
       "        2997,  2998,  2999,  3000,  3001,  3002,  3003,  3004,  3005,\n",
       "        3006,  3007,  3008,  3009,  3010,  3011,  3012,  3013,  3014,\n",
       "        3015,  3016,  3017,  3018,  3019,  3020,  3021,  3022,  3023,\n",
       "        3024,  3025,  3026,  3027,  3028,  3029,  3030,  3031,  3032,\n",
       "        3033,  3034,  3035,  3036,  3037,  3038,  3039,  3040,  3041,\n",
       "        3042,  3043,  3044,  3045,  3046,  3047,  3048,  3049,  3050,\n",
       "        3051,  3052,  3053,  3054,  3055,  3056,  3057,  3058,  3059,\n",
       "        3060,  3061,  3062,  3063,  3064,  3065,  3066,  3067,  3068,\n",
       "        3069,  3070,  3071,  3072,  3073,  3074,  3075,  3076,  3077,\n",
       "        3078,  3079,  3080,  3081,  3082,  3083,  3084,  3085,  3086,\n",
       "        3087,  3088,  3089,  3090,  3091,  3092,  3093,  3094,  3095,\n",
       "        3096,  3097,  3098,  3099,  3100,  3101,  3102,  3103,  3104,\n",
       "        3105,  3106,  3107,  3108,  3109,  3110,  3111,  3112,  3113,\n",
       "        3114,  3115,  3116,  3117,  3118,  3119,  3120,  3121,  3122,\n",
       "        3123,  3124,  3125,  3126,  3127,  3128,  3129,  3130,  3131,\n",
       "        3132,  3133,  3134,  3135,  3136,  3137,  3138,  3139,  3140,\n",
       "        3141,  3142,  3143,  3144,  3145,  3146,  3147,  3148,  3149,\n",
       "        3150,  3151,  3152,  3153,  3154,  3155,  3156,  3157,  3158,\n",
       "        3159,  3160,  3161,  3162,  3163,  3164,  3165,  3166,  3167,\n",
       "        3168,  3169,  3170,  3171,  3172,  3173,  3174,  3175,  3176,\n",
       "        3177,  3178,  3179,  3180,  3181,  3182,  3183,  3184,  3185,\n",
       "        3186,  3187,  3188,  3189,  3190,  3191,  3192,  3193,  3194,\n",
       "        3195,  3196,  3197,  3198,  3199,  3200,  3201,  3202,  3203,\n",
       "        3204,  3205,  3206,  3207,  3208,  3209,  3210,  3211,  3212,\n",
       "        3213,  3214,  3215,  3216,  3217,  3218,  3219,  3220,  3221,\n",
       "        3222,  3223,  3224,  3225,  3226,  3227,  3228,  3229,  3230,\n",
       "        3231,  3232,  3233,  3234,  3235,  3236,  3237,  3238,  3239,\n",
       "        3240,  3241,  3242,  3243,  3244,  3245,  3246,  3247,  3248,\n",
       "        3249,  3250,  3251,  3252,  3253,  3254,  3255,  3256,  3257,\n",
       "        3258,  3259,  3260,  3261,  3262,  3263,  3264,  3265,  3266,\n",
       "        3267,  3268,  3269,  3270,  3271,  3272,  3273,  3274,  3275,\n",
       "        3276,  3277,  3278,  3279,  3280,  3281,  3282,  3283,  3284,\n",
       "        3285,  3286,  3287,  3288,  3289,  3290,  3291,  3292,  3293,\n",
       "        3294,  3295,  3296,  3297,  3298,  3299,  3300,  3301,  3302,\n",
       "        3303,  3304,  3305,  3306,  3307,  3308,  3309,  3310,  3311,\n",
       "        3312,  3313,  3314,  3315,  3316,  3317,  3318,  3319,  3320,\n",
       "        3321,  3322,  3323,  3324,  3325,  3326,  3327,  3328,  3329,\n",
       "        3330,  3331,  3332,  3333,  3334,  3335,  3336,  3337,  3338,\n",
       "        3339,  3340,  3341,  3342,  3343,  3344,  3345,  3346,  3347,\n",
       "        3348,  3349,  3350,  3351,  3352,  3353,  3354,  3355,  3356,\n",
       "        3357,  3358,  3359,  3360,  3361,  3362,  3363,  3364,  3365,\n",
       "        3366,  3367,  3368,  3369,  3370,  3371,  3372,  3373,  3374,\n",
       "        3375,  3376,  3377,  3378,  3379,  3380,  3381,  3382,  3383,\n",
       "        3384,  3385,  3386,  3387,  3388,  3389,  3390,  3391,  3392,\n",
       "        3393,  3394,  3395,  3396,  3397,  3398,  3399,  3400,  3401,\n",
       "        3402,  3403,  3404,  3405,  3406,  3407,  3408,  3409,  3410,\n",
       "        3411,  3412,  3413,  3414,  3415,  3416,  3417,  3418,  3419,\n",
       "        3420,  3421,  3422,  3423,  3424,  3425,  3426,  3427,  3428,\n",
       "        3429,  3430,  3431,  3432,  3433,  3434,  3435,  3436,  3437,\n",
       "        3438,  3439,  3440,  3441,  3442,  3443,  3444,  3445,  3446,\n",
       "        3447,  3448,  3449,  3450,  3451,  3452,  3453,  3454,  3455,\n",
       "        3456,  3457,  3458,  3459,  3460,  3461,  3462,  3463,  3464,\n",
       "        3465,  3466,  3467,  3468,  3469,  3470,  3471,  3472,  3473,\n",
       "        3474,  3475,  3476,  3477,  3478,  3479,  3480,  3481,  3482,\n",
       "        3483,  3484,  3485,  3486,  3487,  3488,  3489,  3490,  3491,\n",
       "        3492,  3493,  3494,  3495,  3496,  3497,  3498,  3499,  3500,\n",
       "        3501,  3502,  3503,  3504,  3505,  3506,  3507,  3508,  3509,\n",
       "        3510,  3511,  3512,  3513,  3514,  3515,  3516,  3517,  3518,\n",
       "        3519,  3520,  3521,  3522,  3523,  3524,  3525,  3526,  3527,\n",
       "        3528,  3529,  3530,  3531,  3532,  3533,  3534,  3535,  3536,\n",
       "        3537,  3538,  3539,  3540,  3541,  3542,  3543,  3544,  3545,\n",
       "        3546,  3547,  3548,  3549,  3550,  3551,  3552,  3553,  3554,\n",
       "        3555,  3556,  3557,  3558,  3559,  3560,  3561,  3562,  3563,\n",
       "        3564,  3565,  3566,  3567,  3568,  3569,  3570,  3571,  3572,\n",
       "        3573,  3574,  3575,  3576,  3577,  3578,  3579,  3580,  3581,\n",
       "        3582,  3583,  3584,  3585,  3586,  3587,  3588,  3589,  3590,\n",
       "        3591,  3592,  3593,  3594,  3595,  3596,  3597,  3598,  3599,\n",
       "        3600,  3601,  3602,  3603,  3604,  3605,  3606,  3607,  3608,\n",
       "        3609,  3610,  3611,  3612,  3613,  3614,  3615,  3616,  3617,\n",
       "        3618,  3619,  3620,  3621,  3622,  3623,  3624,  3625,  3626,\n",
       "        3627,  3628,  3629,  3630,  3631,  3632,  3633,  3634,  3635,\n",
       "        3636,  3637,  3638,  3639,  3640,  3641,  3642,  3643,  3644,\n",
       "        3645,  3646,  3647,  3648,  3649,  3650,  3651,  3652,  3653,\n",
       "        3654,  3655,  3656,  3657,  3658,  3659,  3660,  3661,  3662,\n",
       "        3663,  3664,  3665,  3666,  3667,  3668,  3669,  3670,  3671,\n",
       "        3672,  3673,  3674,  3675,  3676,  3677,  3678,  3679,  3680,\n",
       "        3681,  3682,  3683,  3684,  3685,  3686,  3687,  3688,  3689,\n",
       "        3690,  3691,  3692,  3693,  3694,  3695,  3696,  3697,  3698,\n",
       "        3699,  3700,  3701,  3702,  3703,  3704,  3705,  3706,  3707,\n",
       "        3708,  3709,  3710,  3711,  3712,  3713,  3714,  3715,  3716,\n",
       "        3717,  3718,  3719,  3720,  3721,  3722,  3723,  3724,  3725,\n",
       "        3726,  3727,  3728,  3729,  3730,  3731,  3732,  3733,  3734,\n",
       "        3735,  3736,  3737,  3738,  3739,  3740,  3741,  3742,  3743,\n",
       "        3744,  3745,  3746,  3747,  3748,  3749,  3750,  3751,  3752,\n",
       "        3753,  3754,  3755,  3756,  3757,  3758,  3759,  3760,  3761,\n",
       "        3762,  3763,  3764,  3765,  3766,  3767,  3768,  3769,  3770,\n",
       "        3771,  3772,  3773,  3774,  3775,  3776,  3777,  3778,  3779,\n",
       "        3780,  3781,  3782,  3783,  3784,  3785,  3786,  3787,  3788,\n",
       "        3789,  3790,  3791,  3792,  3793,  3794,  3795,  3796,  3797,\n",
       "        3798,  3799,  3800,  3801,  3802,  3803,  3804,  3805,  3806,\n",
       "        3807,  3808,  3809,  3810,  3811,  3812,  3813,  3814,  3815,\n",
       "        3816,  3817,  3818,  3819,  3820,  3821,  3822,  3823,  3824,\n",
       "        3825,  3826,  3827,  3828,  3829,  3830,  3831,  3832,  3833,\n",
       "        3834,  3835,  3836,  3837,  3838,  3839,  3840,  3841,  3842,\n",
       "        3843,  3844,  3845,  3846,  3847,  3848,  3849,  3850,  3851,\n",
       "        3852,  3853,  3854,  3855,  3856,  3857,  3858,  3859,  3860,\n",
       "        3861,  3862,  3863,  3864,  3865,  3866,  3867,  3868,  3869,\n",
       "        3870,  3871,  3872,  3873,  3874,  3875,  3876,  3877,  3878,\n",
       "        3879,  3880,  3881,  3882,  3883,  3884,  3885,  3886,  3887,\n",
       "        3888,  3889,  3890,  3891,  3892,  3893,  3894,  3895,  3896,\n",
       "        3897,  3898,  3899,  3900,  3901,  3902,  3903,  3904,  3905,\n",
       "        3906,  3907,  3908,  3909,  3910,  3911,  3912,  3913,  3914,\n",
       "        3915,  3916,  3917,  3918,  3919,  3920,  3921,  3922,  3923,\n",
       "        3924,  3925,  3926,  3927,  3928,  3929,  3930,  3931,  3932,\n",
       "        3933,  3934,  3935,  3936,  3937,  3938,  3939,  3940,  3941,\n",
       "        3942,  3943,  3944,  3945,  3946,  3947,  3948,  3949,  3950,\n",
       "        3951,  3952,  3953,  3954,  3955,  3956,  3957,  3958,  3959,\n",
       "        3960,  3961,  3962,  3963,  3964,  3965,  3966,  3967,  3968,\n",
       "        3969,  3970,  3971,  3972,  3973,  3974,  3975,  3976,  3977,\n",
       "        3978,  3979,  3980,  3981,  3982,  3983,  3984,  3985,  3986,\n",
       "        3987,  3988,  3989,  3990,  3991,  3992,  3993,  3994,  3995,\n",
       "        3996,  3997,  3998,  3999,  4000,  4001,  4002,  4003,  4004,\n",
       "        4005,  4006,  4007,  4008,  4009,  4010,  4011,  4012,  4013,\n",
       "        4014,  4015,  4016,  4017,  4018,  4019,  4020,  4021,  4022,\n",
       "        4023,  4024,  4025,  4026,  4027,  4028,  4029,  4030,  4031,\n",
       "        4032,  4033,  4034,  4035,  4036,  4037,  4038,  4039,  4040,\n",
       "        4041,  4042,  4043,  4044,  4045,  4046,  4047,  4048,  4049,\n",
       "        4050,  4051,  4052,  4053,  4054,  4055,  4056,  4057,  4058,\n",
       "        4059,  4060,  4061,  4062,  4063,  4064,  4065,  4066,  4067,\n",
       "        4068,  4069,  4070,  4071,  4072,  4073,  4074,  4075,  4076,\n",
       "        4077,  4078,  4079,  4080,  4081,  4082,  4083,  4084,  4085,\n",
       "        4086,  4087,  4088,  4089,  4090,  4091,  4092,  4093,  4094,\n",
       "        4095,  4096,  4097,  4098,  4099,  4100,  4101,  4102,  4103,\n",
       "        4104,  4105,  4106,  4107,  4108,  4109,  4110,  4111,  4112,\n",
       "        4113,  4114,  4115,  4116,  4117,  4118,  4119,  4120,  4121,\n",
       "        4122,  4123,  4124,  4125,  4126,  4127,  4128,  4129,  4130,\n",
       "        4131,  4132,  4133,  4134,  4135,  4136,  4137,  4138,  4139,\n",
       "        4140,  4141,  4142,  4143,  4144,  4145,  4146,  4147,  4148,\n",
       "        4149,  4150,  4151,  4152,  4153,  4154,  4155,  4156,  4157,\n",
       "        4158,  4159,  4160,  4161,  4162,  4163,  4164,  4165,  4166,\n",
       "        4167,  4168,  4169,  4170,  4171,  4172,  4173,  4174,  4175,\n",
       "        4176,  4177,  4178,  4179,  4180,  4181,  4182,  4183,  4184,\n",
       "        4185,  4186,  4187,  4188,  4189,  4190,  4191,  4192,  4193,\n",
       "        4194,  4195,  4196,  4197,  4198,  4199,  4200,  4201,  4202,\n",
       "        4203,  4204,  4205,  4206,  4207,  4208,  4209,  4210,  4211,\n",
       "        4212,  4213,  4214,  4215,  4216,  4217,  4218,  4219,  4220,\n",
       "        4221,  4222,  4223,  4224,  4225,  4226,  4227,  4228,  4229,\n",
       "        4230,  4231,  4232,  4233,  4234,  4235,  4236,  4237,  4238,\n",
       "        4239,  4240,  4241,  4242,  4243,  4244,  4245,  4246,  4247,\n",
       "        4248,  4249,  4250,  4251,  4252,  4253,  4254,  4255,  4256,\n",
       "        4257,  4258,  4259,  4260,  4261,  4262,  4263,  4264,  4265,\n",
       "        4266,  4267,  4268,  4269,  4270,  4271,  4272,  4273,  4274,\n",
       "        4275,  4276,  4277,  4278,  4279,  4280,  4281,  4282,  4283,\n",
       "        4284,  4285,  4286,  4287,  4288,  4289,  4290,  4291,  4292,\n",
       "        4293,  4294,  4295,  4296,  4297,  4298,  4299,  4300,  4301,\n",
       "        4302,  4303,  4304,  4305,  4306,  4307,  4308,  4309,  4310,\n",
       "        4311,  4312,  4313,  4314,  4315,  4316,  4317,  4318,  4319,\n",
       "        4320,  4321,  4322,  4323,  4324,  4325,  4326,  4327,  4328,\n",
       "        4329,  4330,  4331,  4332,  4333,  4334,  4335,  4336,  4337,\n",
       "        4338,  4339,  4340,  4341,  4342,  4343,  4344,  4345,  4346,\n",
       "        4347,  4348,  4349,  4350,  4351,  4352,  4353,  4354,  4355,\n",
       "        4356,  4357,  4358,  4359,  4360,  4361,  4362,  4363,  4364,\n",
       "        4365,  4366,  4367,  4368,  4369,  4370,  4371,  4372,  4373,\n",
       "        4374,  4375,  4376,  4377,  4378,  4379,  4380,  4381,  4382,\n",
       "        4383,  4384,  4385,  4386,  4387,  4388,  4389,  4390,  4391,\n",
       "        4392,  4393,  4394,  4395,  4396,  4397,  4398,  4399,  4400,\n",
       "        4401,  4402,  4403,  4404,  4405,  4406,  4407,  4408,  4409,\n",
       "        4410,  4411,  4412,  4413,  4414,  4415,  4416,  4417,  4418,\n",
       "        4419,  4420,  4421,  4422,  4423,  4424,  4425,  4426,  4427,\n",
       "        4428,  4429,  4430,  4431,  4432,  4433,  4434,  4435,  4436,\n",
       "        4437,  4438,  4439,  4440,  4441,  4442,  4443,  4444,  4445,\n",
       "        4446,  4447,  4448,  4449,  4450,  4451,  4452,  4453,  4454,\n",
       "        4455,  4456,  4457,  4458,  4459,  4460,  4461,  4462,  4463,\n",
       "        4464,  4465,  4466,  4467,  4468,  4469,  4470,  4471,  4472,\n",
       "        4473,  4474,  4475,  4476,  4477,  4478,  4479,  4480,  4481,\n",
       "        4482,  4483,  4484,  4485,  4486,  4487,  4488,  4489,  4490,\n",
       "        4491,  4492,  4493,  4494,  4495,  4496,  4497,  4498,  4499,\n",
       "        4500,  4501,  4502,  4503,  4504,  4505,  4506,  4507,  4508,\n",
       "        4509,  4510,  4511,  4512,  4513,  4514,  4515,  4516,  4517,\n",
       "        4518,  4519,  4520,  4521,  4522,  4523,  4524,  4525,  4526,\n",
       "        4527,  4528,  4529,  4530,  4531,  4532,  4533,  4534,  4535,\n",
       "        4536,  4537,  4538,  4539,  4540,  4541,  4542,  4543,  4544,\n",
       "        4545,  4546,  4547,  4548,  4549,  4550,  4551,  4552,  4553,\n",
       "        4554,  4555,  4556,  4557,  4558,  4559,  4560,  4561,  4562,\n",
       "        4563,  4564,  4565,  4566,  4567,  4568,  4569,  4570,  4571,\n",
       "        4572,  4573,  4574,  4575,  4576,  4577,  4578,  4579,  4580,\n",
       "        4581,  4582,  4583,  4584,  4585,  4586,  4587,  4588,  4589,\n",
       "        4590,  4591,  4592,  4593,  4594,  4595,  4596,  4597,  4598,\n",
       "        4599,  4600,  4601,  4602,  4603,  4604,  4605,  4606,  4607,\n",
       "        4608,  4609,  4610,  4611,  4612,  4613,  4614,  4615,  4616,\n",
       "        4617,  4618,  4619,  4620,  4621,  4622,  4623,  4624,  4625,\n",
       "        4626,  4627,  4628,  4629,  4630,  4631,  4632,  4633,  4634,\n",
       "        4635,  4636,  4637,  4638,  4639,  4640,  4641,  4642,  4643,\n",
       "        4644,  4645,  4646,  4647,  4648,  4649,  4650,  4651,  4652,\n",
       "        4653,  4654,  4655,  4656,  4657,  4658,  4659,  4660,  4661,\n",
       "        4662,  4663,  4664,  4665,  4666,  4667,  4668,  4669,  4670,\n",
       "        4671,  4672,  4673,  4674,  4675,  4676,  4677,  4678,  4679,\n",
       "        4680,  4681,  4682,  4683,  4684,  4685,  4686,  4687,  4688,\n",
       "        4689,  4690,  4691,  4692,  4693,  4694,  4695,  4696,  4697,\n",
       "        4698,  4699,  4700,  4701,  4702,  4703,  4704,  4705,  4706,\n",
       "        4707,  4708,  4709,  4710,  4711,  4712,  4713,  4714,  4715,\n",
       "        4716,  4717,  4718,  4719,  4720,  4721,  4722,  4723,  4724,\n",
       "        4725,  4726,  4727,  4728,  4729,  4730,  4731,  4732,  4733,\n",
       "        4734,  4735,  4736,  4737,  4738,  4739,  4740,  4741,  4742,\n",
       "        4743,  4744,  4745,  4746,  4747,  4748,  4749,  4750,  4751,\n",
       "        4752,  4753,  4754,  4755,  4756,  4757,  4758,  4759,  4760,\n",
       "        4761,  4762,  4763,  4764,  4765,  4766,  4767,  4768,  4769,\n",
       "        4770,  4771,  4772,  4773,  4774,  4775,  4776,  4777,  4778,\n",
       "        4779,  4780,  4781,  4782,  4783,  4784,  4785,  4786,  4787,\n",
       "        4788,  4789,  4790,  4791,  4792,  4793,  4794,  4795,  4796,\n",
       "        4797,  4798,  4799,  4800,  4801,  4802,  4803,  4804,  4805,\n",
       "        4806,  4807,  4808,  4809,  4810,  4811,  4812,  4813,  4814,\n",
       "        4815,  4816,  4817,  4818,  4819,  4820,  4821,  4822,  4823,\n",
       "        4824,  4825,  4826,  4827,  4828,  4829,  4830,  4831,  4832,\n",
       "        4833,  4834,  4835,  4836,  4837,  4838,  4839,  4840,  4841,\n",
       "        4842,  4843,  4844,  4845,  4846,  4847,  4848,  4849,  4850,\n",
       "        4851,  4852,  4853,  4854,  4855,  4856,  4857,  4858,  4859,\n",
       "        4860,  4861,  4862,  4863,  4864,  4865,  4866,  4867,  4868,\n",
       "        4869,  4870,  4871,  4872,  4873,  4874,  4875,  4876,  4877,\n",
       "        4878,  4879,  4880,  4881,  4882,  4883,  4884,  4885,  4886,\n",
       "        4887,  4888,  4889,  4890,  4891,  4892,  4893,  4894,  4895,\n",
       "        4896,  4897,  4898,  4899,  4900,  4901,  4902,  4903,  4904,\n",
       "        4905,  4906,  4907,  4908,  4909,  4910,  4911,  4912,  4913,\n",
       "        4914,  4915,  4916,  4917,  4918,  4919,  4920,  4921,  4922,\n",
       "        4923,  4924,  4925,  4926,  4927,  4928,  4929,  4930,  4931,\n",
       "        4932,  4933,  4934,  4935,  4936,  4937,  4938,  4939,  4940,\n",
       "        4941,  4942,  4943,  4944,  4945,  4946,  4947,  4948,  4949,\n",
       "        4950,  4951,  4952,  4953,  4954,  4955,  4956,  4957,  4958,\n",
       "        4959,  4960,  4961,  4962,  4963,  4964,  4965,  4966,  4967,\n",
       "        4968,  4969,  4970,  4971,  4972,  4973,  4974,  4975,  4976,\n",
       "        4977,  4978,  4979,  4980,  4981,  4982,  4983,  4984,  4985,\n",
       "        4986,  4987,  4988,  4989,  4990,  4991,  4992,  4993,  4994,\n",
       "        4995,  4996,  4997,  4998,  4999,  5000,  5001,  5002,  5003,\n",
       "        5004,  5005,  5006,  5007,  5008,  5009,  5010,  5011,  5012,\n",
       "        5013,  5014,  5015,  5016,  5017,  5018,  5019,  5020,  5021,\n",
       "        5022,  5023,  5024,  5025,  5026,  5027,  5028,  5029,  5030,\n",
       "        5031,  5032,  5033,  5034,  5035,  5036,  5037,  5038,  5039,\n",
       "        5040,  5041,  5042,  5043,  5044,  5045,  5046,  5047,  5048,\n",
       "        5049,  5050,  5051,  5052,  5053,  5054,  5055,  5056,  5057,\n",
       "        5058,  5059,  5060,  5061,  5062,  5063,  5064,  5065,  5066,\n",
       "        5067,  5068,  5069,  5070,  5071,  5072,  5073,  5074,  5075,\n",
       "        5076,  5077,  5078,  5079,  5080,  5081,  5082,  5083,  5084,\n",
       "        5085,  5086,  5087,  5088,  5089,  5090,  5091,  5092,  5093,\n",
       "        5094,  5095,  5096,  5097,  5098,  5099,  5100,  5101,  5102,\n",
       "        5103,  5104,  5105,  5106,  5107,  5108,  5109,  5110,  5111,\n",
       "        5112,  5113,  5114,  5115,  5116,  5117,  5118,  5119,  5120,\n",
       "        5121,  5122,  5123,  5124,  5125,  5126,  5127,  5128,  5129,\n",
       "        5130,  5131,  5132,  5133,  5134,  5135,  5136,  5137,  5138,\n",
       "        5139,  5140,  5141,  5142,  5143,  5144,  5145,  5146,  5147,\n",
       "        5148,  5149,  5150,  5151,  5152,  5153,  5154,  5155,  5156,\n",
       "        5157,  5158,  5159,  5160,  5161,  5162,  5163,  5164,  5165,\n",
       "        5166,  5167,  5168,  5169,  5170,  5171,  5172,  5173,  5174,\n",
       "        5175,  5176,  5177,  5178,  5179,  5180,  5181,  5182,  5183,\n",
       "        5184,  5185,  5186,  5187,  5188,  5189,  5190,  5191,  5192,\n",
       "        5193,  5194,  5195,  5196,  5197,  5198,  5199,  5200,  5201,\n",
       "        5202,  5203,  5204,  5205,  5206,  5207,  5208,  5209,  5210,\n",
       "        5211,  5212,  5213,  5214,  5215,  5216,  5217,  5218,  5219,\n",
       "        5220,  5221,  5222,  5223,  5224,  5225,  5226,  5227,  5228,\n",
       "        5229,  5230,  5231,  5232,  5233,  5234,  5235,  5236,  5237,\n",
       "        5238,  5239,  5240,  5241,  5242,  5243,  5244,  5245,  5246,\n",
       "        5247,  5248,  5249,  5250,  5251,  5252,  5253,  5254,  5255,\n",
       "        5256,  5257,  5258,  5259,  5260,  5261,  5262,  5263,  5264,\n",
       "        5265,  5266,  5267,  5268,  5269,  5270,  5271,  5272,  5273,\n",
       "        5274,  5275,  5276,  5277,  5278,  5279,  5280,  5281,  5282,\n",
       "        5283,  5284,  5285,  5286,  5287,  5288,  5289,  5290,  5291,\n",
       "        5292,  5293,  5294,  5295,  5296,  5297,  5298,  5299,  5300,\n",
       "        5301,  5302,  5303,  5304,  5305,  5306,  5307,  5308,  5309,\n",
       "        5310,  5311,  5312,  5313,  5314,  5315,  5316,  5317,  5318,\n",
       "        5319,  5320,  5321,  5322,  5323,  5324,  5325,  5326,  5327,\n",
       "        5328,  5329,  5330,  5331,  5332,  5333,  5334,  5335,  5336,\n",
       "        5337,  5338,  5339,  5340,  5341,  5342,  5343,  5344,  5345,\n",
       "        5346,  5347,  5348,  5349,  5350,  5351,  5352,  5353,  5354,\n",
       "        5355,  5356,  5357,  5358,  5359,  5360,  5361,  5362,  5363,\n",
       "        5364,  5365,  5366,  5367,  5368,  5369,  5370,  5371,  5372,\n",
       "        5373,  5374,  5375,  5376,  5377,  5378,  5379,  5380,  5381,\n",
       "        5382,  5383,  5384,  5385,  5386,  5387,  5388,  5389,  5390,\n",
       "        5391,  5392,  5393,  5394,  5395,  5396,  5397,  5398,  5399,\n",
       "        5400,  5401,  5402,  5403,  5404,  5405,  5406,  5407,  5408,\n",
       "        5409,  5410,  5411,  5412,  5413,  5414,  5415,  5416,  5417,\n",
       "        5418,  5419,  5420,  5421,  5422,  5423,  5424,  5425,  5426,\n",
       "        5427,  5428,  5429,  5430,  5431,  5432,  5433,  5434,  5435,\n",
       "        5436,  5437,  5438,  5439,  5440,  5441,  5442,  5443,  5444,\n",
       "        5445,  5446,  5447,  5448,  5449,  5450,  5451,  5452,  5453,\n",
       "        5454,  5455,  5456,  5457,  5458,  5459,  5460,  5461,  5462,\n",
       "        5463,  5464,  5465,  5466,  5467,  5468,  5469,  5470,  5471,\n",
       "        5472,  5473,  5474,  5475,  5476,  5477,  5478,  5479,  5480,\n",
       "        5481,  5482,  5483,  5484,  5485,  5486,  5487,  5488,  5489,\n",
       "        5490,  5491,  5492,  5493,  5494,  5495,  5496,  5497,  5498,\n",
       "        5499,  5500,  5501,  5502,  5503,  5504,  5505,  5506,  5507,\n",
       "        5508,  5509,  5510,  5511,  5512,  5513,  5514,  5515,  5516,\n",
       "        5517,  5518,  5519,  5520,  5521,  5522,  5523,  5524,  5525,\n",
       "        5526,  5527,  5528,  5529,  5530,  5531,  5532,  5533,  5534,\n",
       "        5535,  5536,  5537,  5538,  5539,  5540,  5541,  5542,  5543,\n",
       "        5544,  5545,  5546,  5547,  5548,  5549,  5550,  5551,  5552,\n",
       "        5553,  5554,  5555,  5556,  5557,  5558,  5559,  5560,  5561,\n",
       "        5562,  5563,  5564,  5565,  5566,  5567,  5568,  5569,  5570,\n",
       "        5571,  5572,  5573,  5574,  5575,  5576,  5577,  5578,  5579,\n",
       "        5580,  5581,  5582,  5583,  5584,  5585,  5586,  5587,  5588,\n",
       "        5589,  5590,  5591,  5592,  5593,  5594,  5595,  5596,  5597,\n",
       "        5598,  5599,  5600,  5601,  5602,  5603,  5604,  5605,  5606,\n",
       "        5607,  5608,  5609,  5610,  5611,  5612,  5613,  5614,  5615,\n",
       "        5616,  5617,  5618,  5619,  5620,  5621,  5622,  5623,  5624,\n",
       "        5625,  5626,  5627,  5628,  5629,  5630,  5631,  5632,  5633,\n",
       "        5634,  5635,  5636,  5637,  5638,  5639,  5640,  5641,  5642,\n",
       "        5643,  5644,  5645,  5646,  5647,  5648,  5649,  5650,  5651,\n",
       "        5652,  5653,  5654,  5655,  5656,  5657,  5658,  5659,  5660,\n",
       "        5661,  5662,  5663,  5664,  5665,  5666,  5667,  5668,  5669,\n",
       "        5670,  5671,  5672,  5673,  5674,  5675,  5676,  5677,  5678,\n",
       "        5679,  5680,  5681,  5682,  5683,  5684,  5685,  5686,  5687,\n",
       "        5688,  5689,  5690,  5691,  5692,  5693,  5694,  5695,  5696,\n",
       "        5697,  5698,  5699,  5700,  5701,  5702,  5703,  5704,  5705,\n",
       "        5706,  5707,  5708,  5709,  5710,  5711,  5712,  5713,  5714,\n",
       "        5715,  5716,  5717,  5718,  5719,  5720,  5721,  5722,  5723,\n",
       "        5724,  5725,  5726,  5727,  5728,  5729,  5730,  5731,  5732,\n",
       "        5733,  5734,  5735,  5736,  5737,  5738,  5739,  5740,  5741,\n",
       "        5742,  5743,  5744,  5745,  5746,  5747,  5748,  5749,  5750,\n",
       "        5751,  5752,  5753,  5754,  5755,  5756,  5757,  5758,  5759,\n",
       "        5760,  5761,  5762,  5763,  5764,  5765,  5766,  5767,  5768,\n",
       "        5769,  5770,  5771,  5772,  5773,  5774,  5775,  5776,  5777,\n",
       "        5778,  5779,  5780,  5781,  5782,  5783,  5784,  5785,  5786,\n",
       "        5787,  5788,  5789,  5790,  5791,  5792,  5793,  5794,  5795,\n",
       "        5796,  5797,  5798,  5799,  5800,  5801,  5802,  5803,  5804,\n",
       "        5805,  5806,  5807,  5808,  5809,  5810,  5811,  5812,  5813,\n",
       "        5814,  5815,  5816,  5817,  5818,  5819,  5820,  5821,  5822,\n",
       "        5823,  5824,  5825,  5826,  5827,  5828,  5829,  5830,  5831,\n",
       "        5832,  5833,  5834,  5835,  5836,  5837,  5838,  5839,  5840,\n",
       "        5841,  5842,  5843,  5844,  5845,  5846,  5847,  5848,  5849,\n",
       "        5850,  5851,  5852,  5853,  5854,  5855,  5856,  5857,  5858,\n",
       "        5859,  5860,  5861,  5862,  5863,  5864,  5865,  5866,  5867,\n",
       "        5868,  5869,  5870,  5871,  5872,  5873,  5874,  5875,  5876,\n",
       "        5877,  5878,  5879,  5880,  5881,  5882,  5883,  5884,  5885,\n",
       "        5886,  5887,  5888,  5889,  5890,  5891,  5892,  5893,  5894,\n",
       "        5895,  5896,  5897,  5898,  5899,  5900,  5901,  5902,  5903,\n",
       "        5904,  5905,  5906,  5907,  5908,  5909,  5910,  5911,  5912,\n",
       "        5913,  5914,  5915,  5916,  5917,  5918,  5919,  5920,  5921,\n",
       "        5922,  5923,  5924,  5925,  5926,  5927,  5928,  5929,  5930,\n",
       "        5931,  5932,  5933,  5934,  5935,  5936,  5937,  5938,  5939,\n",
       "        5940,  5941,  5942,  5943,  5944,  5945,  5946,  5947,  5948,\n",
       "        5949,  5950,  5951,  5952,  5953,  5954,  5955,  5956,  5957,\n",
       "        5958,  5959,  5960,  5961,  5962,  5963,  5964,  5965,  5966,\n",
       "        5967,  5968,  5969,  5970,  5971,  5972,  5973,  5974,  5975,\n",
       "        5976,  5977,  5978,  5979,  5980,  5981,  5982,  5983,  5984,\n",
       "        5985,  5986,  5987,  5988,  5989,  5990,  5991,  5992,  5993,\n",
       "        5994,  5995,  5996,  5997,  5998,  5999,  6000,  6001,  6002,\n",
       "        6003,  6004,  6005,  6006,  6007,  6008,  6009,  6010,  6011,\n",
       "        6012,  6013,  6014,  6015,  6016,  6017,  6018,  6019,  6020,\n",
       "        6021,  6022,  6023,  6024,  6025,  6026,  6027,  6028,  6029,\n",
       "        6030,  6031,  6032,  6033,  6034,  6035,  6036,  6037,  6038,\n",
       "        6039,  6040,  6041,  6042,  6043,  6044,  6045,  6046,  6047,\n",
       "        6048,  6049,  6050,  6051,  6052,  6053,  6054,  6055,  6056,\n",
       "        6057,  6058,  6059,  6060,  6061,  6062,  6063,  6064,  6065,\n",
       "        6066,  6067,  6068,  6069,  6070,  6071,  6072,  6073,  6074,\n",
       "        6075,  6076,  6077,  6078,  6079,  6080,  6081,  6082,  6083,\n",
       "        6084,  6085,  6086,  6087,  6088,  6089,  6090,  6091,  6092,\n",
       "        6093,  6094,  6095,  6096,  6097,  6098,  6099,  6100,  6101,\n",
       "        6102,  6103,  6104,  6105,  6106,  6107,  6108,  6109,  6110,\n",
       "        6111,  6112,  6113,  6114,  6115,  6116,  6117,  6118,  6119,\n",
       "        6120,  6121,  6122,  6123,  6124,  6125,  6126,  6127,  6128,\n",
       "        6129,  6130,  6131,  6132,  6133,  6134,  6135,  6136,  6137,\n",
       "        6138,  6139,  6140,  6141,  6142,  6143,  6144,  6145,  6146,\n",
       "        6147,  6148,  6149,  6150,  6151,  6152,  6153,  6154,  6155,\n",
       "        6156,  6157,  6158,  6159,  6160,  6161,  6162,  6163,  6164,\n",
       "        6165,  6166,  6167,  6168,  6169,  6170,  6171,  6172,  6173,\n",
       "        6174,  6175,  6176,  6177,  6178,  6179,  6180,  6181,  6182,\n",
       "        6183,  6184,  6185,  6186,  6187,  6188,  6189,  6190,  6191,\n",
       "        6192,  6193,  6194,  6195,  6196,  6197,  6198,  6199,  6200,\n",
       "        6201,  6202,  6203,  6204,  6205,  6206,  6207,  6208,  6209,\n",
       "        6210,  6211,  6212,  6213,  6214,  6215,  6216,  6217,  6218,\n",
       "        6219,  6220,  6221,  6222,  6223,  6224,  6225,  6226,  6227,\n",
       "        6228,  6229,  6230,  6231,  6232,  6233,  6234,  6235,  6236,\n",
       "        6237,  6238,  6239,  6240,  6241,  6242,  6243,  6244,  6245,\n",
       "        6246,  6247,  6248,  6249,  6250,  6251,  6252,  6253,  6254,\n",
       "        6255,  6256,  6257,  6258,  6259,  6260,  6261,  6262,  6263,\n",
       "        6264,  6265,  6266,  6267,  6268,  6269,  6270,  6271,  6272,\n",
       "        6273,  6274,  6275,  6276,  6277,  6278,  6279,  6280,  6281,\n",
       "        6282,  6283,  6284,  6285,  6286,  6287,  6288,  6289,  6290,\n",
       "        6291,  6292,  6293,  6294,  6295,  6296,  6297,  6298,  6299,\n",
       "        6300,  6301,  6302,  6303,  6304,  6305,  6306,  6307,  6308,\n",
       "        6309,  6310,  6311,  6312,  6313,  6314,  6315,  6316,  6317,\n",
       "        6318,  6319,  6320,  6321,  6322,  6323,  6324,  6325,  6326,\n",
       "        6327,  6328,  6329,  6330,  6331,  6332,  6333,  6334,  6335,\n",
       "        6336,  6337,  6338,  6339,  6340,  6341,  6342,  6343,  6344,\n",
       "        6345,  6346,  6347,  6348,  6349,  6350,  6351,  6352,  6353,\n",
       "        6354,  6355,  6356,  6357,  6358,  6359,  6360,  6361,  6362,\n",
       "        6363,  6364,  6365,  6366,  6367,  6368,  6369,  6370,  6371,\n",
       "        6372,  6373,  6374,  6375,  6376,  6377,  6378,  6379,  6380,\n",
       "        6381,  6382,  6383,  6384,  6385,  6386,  6387,  6388,  6389,\n",
       "        6390,  6391,  6392,  6393,  6394,  6395,  6396,  6397,  6398,\n",
       "        6399,  6400,  6401,  6402,  6403,  6404,  6405,  6406,  6407,\n",
       "        6408,  6409,  6410,  6411,  6412,  6413,  6414,  6415,  6416,\n",
       "        6417,  6418,  6419,  6420,  6421,  6422,  6423,  6424,  6425,\n",
       "        6426,  6427,  6428,  6429,  6430,  6431,  6432,  6433,  6434,\n",
       "        6435,  6436,  6437,  6438,  6439,  6440,  6441,  6442,  6443,\n",
       "        6444,  6445,  6446,  6447,  6448,  6449,  6450,  6451,  6452,\n",
       "        6453,  6454,  6455,  6456,  6457,  6458,  6459,  6460,  6461,\n",
       "        6462,  6463,  6464,  6465,  6466,  6467,  6468,  6469,  6470,\n",
       "        6471,  6472,  6473,  6474,  6475,  6476,  6477,  6478,  6479,\n",
       "        6480,  6481,  6482,  6483,  6484,  6485,  6486,  6487,  6488,\n",
       "        6489,  6490,  6491,  6492,  6493,  6494,  6495,  6496,  6497,\n",
       "        6498,  6499,  6500,  6501,  6502,  6503,  6504,  6505,  6506,\n",
       "        6507,  6508,  6509,  6510,  6511,  6512,  6513,  6514,  6515,\n",
       "        6516,  6517,  6518,  6519,  6520,  6521,  6522,  6523,  6524,\n",
       "        6525,  6526,  6527,  6528,  6529,  6530,  6531,  6532,  6533,\n",
       "        6534,  6535,  6536,  6537,  6538,  6539,  6540,  6541,  6542,\n",
       "        6543,  6544,  6545,  6546,  6547,  6548,  6549,  6550,  6551,\n",
       "        6552,  6553,  6554,  6555,  6556,  6557,  6558,  6559,  6560,\n",
       "        6561,  6562,  6563,  6564,  6565,  6566,  6567,  6568,  6569,\n",
       "        6570,  6571,  6572,  6573,  6574,  6575,  6576,  6577,  6578,\n",
       "        6579,  6580,  6581,  6582,  6583,  6584,  6585,  6586,  6587,\n",
       "        6588,  6589,  6590,  6591,  6592,  6593,  6594,  6595,  6596,\n",
       "        6597,  6598,  6599,  6600,  6601,  6602,  6603,  6604,  6605,\n",
       "        6606,  6607,  6608,  6609,  6610,  6611,  6612,  6613,  6614,\n",
       "        6615,  6616,  6617,  6618,  6619,  6620,  6621,  6622,  6623,\n",
       "        6624,  6625,  6626,  6627,  6628,  6629,  6630,  6631,  6632,\n",
       "        6633,  6634,  6635,  6636,  6637,  6638,  6639,  6640,  6641,\n",
       "        6642,  6643,  6644,  6645,  6646,  6647,  6648,  6649,  6650,\n",
       "        6651,  6652,  6653,  6654,  6655,  6656,  6657,  6658,  6659,\n",
       "        6660,  6661,  6662,  6663,  6664,  6665,  6666,  6667,  6668,\n",
       "        6669,  6670,  6671,  6672,  6673,  6674,  6675,  6676,  6677,\n",
       "        6678,  6679,  6680,  6681,  6682,  6683,  6684,  6685,  6686,\n",
       "        6687,  6688,  6689,  6690,  6691,  6692,  6693,  6694,  6695,\n",
       "        6696,  6697,  6698,  6699,  6700,  6701,  6702,  6703,  6704,\n",
       "        6705,  6706,  6707,  6708,  6709,  6710,  6711,  6712,  6713,\n",
       "        6714,  6715,  6716,  6717,  6718,  6719,  6720,  6721,  6722,\n",
       "        6723,  6724,  6725,  6726,  6727,  6728,  6729,  6730,  6731,\n",
       "        6732,  6733,  6734,  6735,  6736,  6737,  6738,  6739,  6740,\n",
       "        6741,  6742,  6743,  6744,  6745,  6746,  6747,  6748,  6749,\n",
       "        6750,  6751,  6752,  6753,  6754,  6755,  6756,  6757,  6758,\n",
       "        6759,  6760,  6761,  6762,  6763,  6764,  6765,  6766,  6767,\n",
       "        6768,  6769,  6770,  6771,  6772,  6773,  6774,  6775,  6776,\n",
       "        6777,  6778,  6779,  6780,  6781,  6782,  6783,  6784,  6785,\n",
       "        6786,  6787,  6788,  6789,  6790,  6791,  6792,  6793,  6794,\n",
       "        6795,  6796,  6797,  6798,  6799,  6800,  6801,  6802,  6803,\n",
       "        6804,  6805,  6806,  6807,  6808,  6809,  6810,  6811,  6812,\n",
       "        6813,  6814,  6815,  6816,  6817,  6818,  6819,  6820,  6821,\n",
       "        6822,  6823,  6824,  6825,  6826,  6827,  6828,  6829,  6830,\n",
       "        6831,  6832,  6833,  6834,  6835,  6836,  6837,  6838,  6839,\n",
       "        6840,  6841,  6842,  6843,  6844,  6845,  6846,  6847,  6848,\n",
       "        6849,  6850,  6851,  6852,  6853,  6854,  6855,  6856,  6857,\n",
       "        6858,  6859,  6860,  6861,  6862,  6863,  6864,  6865,  6866,\n",
       "        6867,  6868,  6869,  6870,  6871,  6872,  6873,  6874,  6875,\n",
       "        6876,  6877,  6878,  6879,  6880,  6881,  6882,  6883,  6884,\n",
       "        6885,  6886,  6887,  6888,  6889,  6890,  6891,  6892,  6893,\n",
       "        6894,  6895,  6896,  6897,  6898,  6899,  6900,  6901,  6902,\n",
       "        6903,  6904,  6905,  6906,  6907,  6908,  6909,  6910,  6911,\n",
       "        6912,  6913,  6914,  6915,  6916,  6917,  6918,  6919,  6920,\n",
       "        6921,  6922,  6923,  6924,  6925,  6926,  6927,  6928,  6929,\n",
       "        6930,  6931,  6932,  6933,  6934,  6935,  6936,  6937,  6938,\n",
       "        6939,  6940,  6941,  6942,  6943,  6944,  6945,  6946,  6947,\n",
       "        6948,  6949,  6950,  6951,  6952,  6953,  6954,  6955,  6956,\n",
       "        6957,  6958,  6959,  6960,  6961,  6962,  6963,  6964,  6965,\n",
       "        6966,  6967,  6968,  6969,  6970,  6971,  6972,  6973,  6974,\n",
       "        6975,  6976,  6977,  6978,  6979,  6980,  6981,  6982,  6983,\n",
       "        6984,  6985,  6986,  6987,  6988,  6989,  6990,  6991,  6992,\n",
       "        6993,  6994,  6995,  6996,  6997,  6998,  6999,  7000,  7001,\n",
       "        7002,  7003,  7004,  7005,  7006,  7007,  7008,  7009,  7010,\n",
       "        7011,  7012,  7013,  7014,  7015,  7016,  7017,  7018,  7019,\n",
       "        7020,  7021,  7022,  7023,  7024,  7025,  7026,  7027,  7028,\n",
       "        7029,  7030,  7031,  7032,  7033,  7034,  7035,  7036,  7037,\n",
       "        7038,  7039,  7040,  7041,  7042,  7043,  7044,  7045,  7046,\n",
       "        7047,  7048,  7049,  7050,  7051,  7052,  7053,  7054,  7055,\n",
       "        7056,  7057,  7058,  7059,  7060,  7061,  7062,  7063,  7064,\n",
       "        7065,  7066,  7067,  7068,  7069,  7070,  7071,  7072,  7073,\n",
       "        7074,  7075,  7076,  7077,  7078,  7079,  7080,  7081,  7082,\n",
       "        7083,  7084,  7085,  7086,  7087,  7088,  7089,  7090,  7091,\n",
       "        7092,  7093,  7094,  7095,  7096,  7097,  7098,  7099,  7100,\n",
       "        7101,  7102,  7103,  7104,  7105,  7106,  7107,  7108,  7109,\n",
       "        7110,  7111,  7112,  7113,  7114,  7115,  7116,  7117,  7118,\n",
       "        7119,  7120,  7121,  7122,  7123,  7124,  7125,  7126,  7127,\n",
       "        7128,  7129,  7130,  7131,  7132,  7133,  7134,  7135,  7136,\n",
       "        7137,  7138,  7139,  7140,  7141,  7142,  7143,  7144,  7145,\n",
       "        7146,  7147,  7148,  7149,  7150,  7151,  7152,  7153,  7154,\n",
       "        7155,  7156,  7157,  7158,  7159,  7160,  7161,  7162,  7163,\n",
       "        7164,  7165,  7166,  7167,  7168,  7169,  7170,  7171,  7172,\n",
       "        7173,  7174,  7175,  7176,  7177,  7178,  7179,  7180,  7181,\n",
       "        7182,  7183,  7184,  7185,  7186,  7187,  7188,  7189,  7190,\n",
       "        7191,  7192,  7193,  7194,  7195,  7196,  7197,  7198,  7199,\n",
       "        7200,  7201,  7202,  7203,  7204,  7205,  7206,  7207,  7208,\n",
       "        7209,  7210,  7211,  7212,  7213,  7214,  7215,  7216,  7217,\n",
       "        7218,  7219,  7220,  7221,  7222,  7223,  7224,  7225,  7226,\n",
       "        7227,  7228,  7229,  7230,  7231,  7232,  7233,  7234,  7235,\n",
       "        7236,  7237,  7238,  7239,  7240,  7241,  7242,  7243,  7244,\n",
       "        7245,  7246,  7247,  7248,  7249,  7250,  7251,  7252,  7253,\n",
       "        7254,  7255,  7256,  7257,  7258,  7259,  7260,  7261,  7262,\n",
       "        7263,  7264,  7265,  7266,  7267,  7268,  7269,  7270,  7271,\n",
       "        7272,  7273,  7274,  7275,  7276,  7277,  7278,  7279,  7280,\n",
       "        7281,  7282,  7283,  7284,  7285,  7286,  7287,  7288,  7289,\n",
       "        7290,  7291,  7292,  7293,  7294,  7295,  7296,  7297,  7298,\n",
       "        7299,  7300,  7301,  7302,  7303,  7304,  7305,  7306,  7307,\n",
       "        7308,  7309,  7310,  7311,  7312,  7313,  7314,  7315,  7316,\n",
       "        7317,  7318,  7319,  7320,  7321,  7322,  7323,  7324,  7325,\n",
       "        7326,  7327,  7328,  7329,  7330,  7331,  7332,  7333,  7334,\n",
       "        7335,  7336,  7337,  7338,  7339,  7340,  7341,  7342,  7343,\n",
       "        7344,  7345,  7346,  7347,  7348,  7349,  7350,  7351,  7352,\n",
       "        7353,  7354,  7355,  7356,  7357,  7358,  7359,  7360,  7361,\n",
       "        7362,  7363,  7364,  7365,  7366,  7367,  7368,  7369,  7370,\n",
       "        7371,  7372,  7373,  7374,  7375,  7376,  7377,  7378,  7379,\n",
       "        7380,  7381,  7382,  7383,  7384,  7385,  7386,  7387,  7388,\n",
       "        7389,  7390,  7391,  7392,  7393,  7394,  7395,  7396,  7397,\n",
       "        7398,  7399,  7400,  7401,  7402,  7403,  7404,  7405,  7406,\n",
       "        7407,  7408,  7409,  7410,  7411,  7412,  7413,  7414,  7415,\n",
       "        7416,  7417,  7418,  7419,  7420,  7421,  7422,  7423,  7424,\n",
       "        7425,  7426,  7427,  7428,  7429,  7430,  7431,  7432,  7433,\n",
       "        7434,  7435,  7436,  7437,  7438,  7439,  7440,  7441,  7442,\n",
       "        7443,  7444,  7445,  7446,  7447,  7448,  7449,  7450,  7451,\n",
       "        7452,  7453,  7454,  7455,  7456,  7457,  7458,  7459,  7460,\n",
       "        7461,  7462,  7463,  7464,  7465,  7466,  7467,  7468,  7469,\n",
       "        7470,  7471,  7472,  7473,  7474,  7475,  7476,  7477,  7478,\n",
       "        7479,  7480,  7481,  7482,  7483,  7484,  7485,  7486,  7487,\n",
       "        7488,  7489,  7490,  7491,  7492,  7493,  7494,  7495,  7496,\n",
       "        7497,  7498,  7499,  7500,  7501,  7502,  7503,  7504,  7505,\n",
       "        7506,  7507,  7508,  7509,  7510,  7511,  7512,  7513,  7514,\n",
       "        7515,  7516,  7517,  7518,  7519,  7520,  7521,  7522,  7523,\n",
       "        7524,  7525,  7526,  7527,  7528,  7529,  7530,  7531,  7532,\n",
       "        7533,  7534,  7535,  7536,  7537,  7538,  7539,  7540,  7541,\n",
       "        7542,  7543,  7544,  7545,  7546,  7547,  7548,  7549,  7550,\n",
       "        7551,  7552,  7553,  7554,  7555,  7556,  7557,  7558,  7559,\n",
       "        7560,  7561,  7562,  7563,  7564,  7565,  7566,  7567,  7568,\n",
       "        7569,  7570,  7571,  7572,  7573,  7574,  7575,  7576,  7577,\n",
       "        7578,  7579,  7580,  7581,  7582,  7583,  7584,  7585,  7586,\n",
       "        7587,  7588,  7589,  7590,  7591,  7592,  7593,  7594,  7595,\n",
       "        7596,  7597,  7598,  7599,  7600,  7601,  7602,  7603,  7604,\n",
       "        7605,  7606,  7607,  7608,  7609,  7610,  7611,  7612,  7613,\n",
       "        7614,  7615,  7616,  7617,  7618,  7619,  7620,  7621,  7622,\n",
       "        7623,  7624,  7625,  7626,  7627,  7628,  7629,  7630,  7631,\n",
       "        7632,  7633,  7634,  7635,  7636,  7637,  7638,  7639,  7640,\n",
       "        7641,  7642,  7643,  7644,  7645,  7646,  7647,  7648,  7649,\n",
       "        7650,  7651,  7652,  7653,  7654,  7655,  7656,  7657,  7658,\n",
       "        7659,  7660,  7661,  7662,  7663,  7664,  7665,  7666,  7667,\n",
       "        7668,  7669,  7670,  7671,  7672,  7673,  7674,  7675,  7676,\n",
       "        7677,  7678,  7679,  7680,  7681,  7682,  7683,  7684,  7685,\n",
       "        7686,  7687,  7688,  7689,  7690,  7691,  7692,  7693,  7694,\n",
       "        7695,  7696,  7697,  7698,  7699,  7700,  7701,  7702,  7703,\n",
       "        7704,  7705,  7706,  7707,  7708,  7709,  7710,  7711,  7712,\n",
       "        7713,  7714,  7715,  7716,  7717,  7718,  7719,  7720,  7721,\n",
       "        7722,  7723,  7724,  7725,  7726,  7727,  7728,  7729,  7730,\n",
       "        7731,  7732,  7733,  7734,  7735,  7736,  7737,  7738,  7739,\n",
       "        7740,  7741,  7742,  7743,  7744,  7745,  7746,  7747,  7748,\n",
       "        7749,  7750,  7751,  7752,  7753,  7754,  7755,  7756,  7757,\n",
       "        7758,  7759,  7760,  7761,  7762,  7763,  7764,  7765,  7766,\n",
       "        7767,  7768,  7769,  7770,  7771,  7772,  7773,  7774,  7775,\n",
       "        7776,  7777,  7778,  7779,  7780,  7781,  7782,  7783,  7784,\n",
       "        7785,  7786,  7787,  7788,  7789,  7790,  7791,  7792,  7793,\n",
       "        7794,  7795,  7796,  7797,  7798,  7799,  7800,  7801,  7802,\n",
       "        7803,  7804,  7805,  7806,  7807,  7808,  7809,  7810,  7811,\n",
       "        7812,  7813,  7814,  7815,  7816,  7817,  7818,  7819,  7820,\n",
       "        7821,  7822,  7823,  7824,  7825,  7826,  7827,  7828,  7829,\n",
       "        7830,  7831,  7832,  7833,  7834,  7835,  7836,  7837,  7838,\n",
       "        7839,  7840,  7841,  7842,  7843,  7844,  7845,  7846,  7847,\n",
       "        7848,  7849,  7850,  7851,  7852,  7853,  7854,  7855,  7856,\n",
       "        7857,  7858,  7859,  7860,  7861,  7862,  7863,  7864,  7865,\n",
       "        7866,  7867,  7868,  7869,  7870,  7871,  7872,  7873,  7874,\n",
       "        7875,  7876,  7877,  7878,  7879,  7880,  7881,  7882,  7883,\n",
       "        7884,  7885,  7886,  7887,  7888,  7889,  7890,  7891,  7892,\n",
       "        7893,  7894,  7895,  7896,  7897,  7898,  7899,  7900,  7901,\n",
       "        7902,  7903,  7904,  7905,  7906,  7907,  7908,  7909,  7910,\n",
       "        7911,  7912,  7913,  7914,  7915,  7916,  7917,  7918,  7919,\n",
       "        7920,  7921,  7922,  7923,  7924,  7925,  7926,  7927,  7928,\n",
       "        7929,  7930,  7931,  7932,  7933,  7934,  7935,  7936,  7937,\n",
       "        7938,  7939,  7940,  7941,  7942,  7943,  7944,  7945,  7946,\n",
       "        7947,  7948,  7949,  7950,  7951,  7952,  7953,  7954,  7955,\n",
       "        7956,  7957,  7958,  7959,  7960,  7961,  7962,  7963,  7964,\n",
       "        7965,  7966,  7967,  7968,  7969,  7970,  7971,  7972,  7973,\n",
       "        7974,  7975,  7976,  7977,  7978,  7979,  7980,  7981,  7982,\n",
       "        7983,  7984,  7985,  7986,  7987,  7988,  7989,  7990,  7991,\n",
       "        7992,  7993,  7994,  7995,  7996,  7997,  7998,  7999,  8000,\n",
       "        8001,  8002,  8003,  8004,  8005,  8006,  8007,  8008,  8009,\n",
       "        8010,  8011,  8012,  8013,  8014,  8015,  8016,  8017,  8018,\n",
       "        8019,  8020,  8021,  8022,  8023,  8024,  8025,  8026,  8027,\n",
       "        8028,  8029,  8030,  8031,  8032,  8033,  8034,  8035,  8036,\n",
       "        8037,  8038,  8039,  8040,  8041,  8042,  8043,  8044,  8045,\n",
       "        8046,  8047,  8048,  8049,  8050,  8051,  8052,  8053,  8054,\n",
       "        8055,  8056,  8057,  8058,  8059,  8060,  8061,  8062,  8063,\n",
       "        8064,  8065,  8066,  8067,  8068,  8069,  8070,  8071,  8072,\n",
       "        8073,  8074,  8075,  8076,  8077,  8078,  8079,  8080,  8081,\n",
       "        8082,  8083,  8084,  8085,  8086,  8087,  8088,  8089,  8090,\n",
       "        8091,  8092,  8093,  8094,  8095,  8096,  8097,  8098,  8099,\n",
       "        8100,  8101,  8102,  8103,  8104,  8105,  8106,  8107,  8108,\n",
       "        8109,  8110,  8111,  8112,  8113,  8114,  8115,  8116,  8117,\n",
       "        8118,  8119,  8120,  8121,  8122,  8123,  8124,  8125,  8126,\n",
       "        8127,  8128,  8129,  8130,  8131,  8132,  8133,  8134,  8135,\n",
       "        8136,  8137,  8138,  8139,  8140,  8141,  8142,  8143,  8144,\n",
       "        8145,  8146,  8147,  8148,  8149,  8150,  8151,  8152,  8153,\n",
       "        8154,  8155,  8156,  8157,  8158,  8159,  8160,  8161,  8162,\n",
       "        8163,  8164,  8165,  8166,  8167,  8168,  8169,  8170,  8171,\n",
       "        8172,  8173,  8174,  8175,  8176,  8177,  8178,  8179,  8180,\n",
       "        8181,  8182,  8183,  8184,  8185,  8186,  8187,  8188,  8189,\n",
       "        8190,  8191,  8192,  8193,  8194,  8195,  8196,  8197,  8198,\n",
       "        8199,  8200,  8201,  8202,  8203,  8204,  8205,  8206,  8207,\n",
       "        8208,  8209,  8210,  8211,  8212,  8213,  8214,  8215,  8216,\n",
       "        8217,  8218,  8219,  8220,  8221,  8222,  8223,  8224,  8225,\n",
       "        8226,  8227,  8228,  8229,  8230,  8231,  8232,  8233,  8234,\n",
       "        8235,  8236,  8237,  8238,  8239,  8240,  8241,  8242,  8243,\n",
       "        8244,  8245,  8246,  8247,  8248,  8249,  8250,  8251,  8252,\n",
       "        8253,  8254,  8255,  8256,  8257,  8258,  8259,  8260,  8261,\n",
       "        8262,  8263,  8264,  8265,  8266,  8267,  8268,  8269,  8270,\n",
       "        8271,  8272,  8273,  8274,  8275,  8276,  8277,  8278,  8279,\n",
       "        8280,  8281,  8282,  8283,  8284,  8285,  8286,  8287,  8288,\n",
       "        8289,  8290,  8291,  8292,  8293,  8294,  8295,  8296,  8297,\n",
       "        8298,  8299,  8300,  8301,  8302,  8303,  8304,  8305,  8306,\n",
       "        8307,  8308,  8309,  8310,  8311,  8312,  8313,  8314,  8315,\n",
       "        8316,  8317,  8318,  8319,  8320,  8321,  8322,  8323,  8324,\n",
       "        8325,  8326,  8327,  8328,  8329,  8330,  8331,  8332,  8333,\n",
       "        8334,  8335,  8336,  8337,  8338,  8339,  8340,  8341,  8342,\n",
       "        8343,  8344,  8345,  8346,  8347,  8348,  8349,  8350,  8351,\n",
       "        8352,  8353,  8354,  8355,  8356,  8357,  8358,  8359,  8360,\n",
       "        8361,  8362,  8363,  8364,  8365,  8366,  8367,  8368,  8369,\n",
       "        8370,  8371,  8372,  8373,  8374,  8375,  8376,  8377,  8378,\n",
       "        8379,  8380,  8381,  8382,  8383,  8384,  8385,  8386,  8387,\n",
       "        8388,  8389,  8390,  8391,  8392,  8393,  8394,  8395,  8396,\n",
       "        8397,  8398,  8399,  8400,  8401,  8402,  8403,  8404,  8405,\n",
       "        8406,  8407,  8408,  8409,  8410,  8411,  8412,  8413,  8414,\n",
       "        8415,  8416,  8417,  8418,  8419,  8420,  8421,  8422,  8423,\n",
       "        8424,  8425,  8426,  8427,  8428,  8429,  8430,  8431,  8432,\n",
       "        8433,  8434,  8435,  8436,  8437,  8438,  8439,  8440,  8441,\n",
       "        8442,  8443,  8444,  8445,  8446,  8447,  8448,  8449,  8450,\n",
       "        8451,  8452,  8453,  8454,  8455,  8456,  8457,  8458,  8459,\n",
       "        8460,  8461,  8462,  8463,  8464,  8465,  8466,  8467,  8468,\n",
       "        8469,  8470,  8471,  8472,  8473,  8474,  8475,  8476,  8477,\n",
       "        8478,  8479,  8480,  8481,  8482,  8483,  8484,  8485,  8486,\n",
       "        8487,  8488,  8489,  8490,  8491,  8492,  8493,  8494,  8495,\n",
       "        8496,  8497,  8498,  8499,  8500,  8501,  8502,  8503,  8504,\n",
       "        8505,  8506,  8507,  8508,  8509,  8510,  8511,  8512,  8513,\n",
       "        8514,  8515,  8516,  8517,  8518,  8519,  8520,  8521,  8522,\n",
       "        8523,  8524,  8525,  8526,  8527,  8528,  8529,  8530,  8531,\n",
       "        8532,  8533,  8534,  8535,  8536,  8537,  8538,  8539,  8540,\n",
       "        8541,  8542,  8543,  8544,  8545,  8546,  8547,  8548,  8549,\n",
       "        8550,  8551,  8552,  8553,  8554,  8555,  8556,  8557,  8558,\n",
       "        8559,  8560,  8561,  8562,  8563,  8564,  8565,  8566,  8567,\n",
       "        8568,  8569,  8570,  8571,  8572,  8573,  8574,  8575,  8576,\n",
       "        8577,  8578,  8579,  8580,  8581,  8582,  8583,  8584,  8585,\n",
       "        8586,  8587,  8588,  8589,  8590,  8591,  8592,  8593,  8594,\n",
       "        8595,  8596,  8597,  8598,  8599,  8600,  8601,  8602,  8603,\n",
       "        8604,  8605,  8606,  8607,  8608,  8609,  8610,  8611,  8612,\n",
       "        8613,  8614,  8615,  8616,  8617,  8618,  8619,  8620,  8621,\n",
       "        8622,  8623,  8624,  8625,  8626,  8627,  8628,  8629,  8630,\n",
       "        8631,  8632,  8633,  8634,  8635,  8636,  8637,  8638,  8639,\n",
       "        8640,  8641,  8642,  8643,  8644,  8645,  8646,  8647,  8648,\n",
       "        8649,  8650,  8651,  8652,  8653,  8654,  8655,  8656,  8657,\n",
       "        8658,  8659,  8660,  8661,  8662,  8663,  8664,  8665,  8666,\n",
       "        8667,  8668,  8669,  8670,  8671,  8672,  8673,  8674,  8675,\n",
       "        8676,  8677,  8678,  8679,  8680,  8681,  8682,  8683,  8684,\n",
       "        8685,  8686,  8687,  8688,  8689,  8690,  8691,  8692,  8693,\n",
       "        8694,  8695,  8696,  8697,  8698,  8699,  8700,  8701,  8702,\n",
       "        8703,  8704,  8705,  8706,  8707,  8708,  8709,  8710,  8711,\n",
       "        8712,  8713,  8714,  8715,  8716,  8717,  8718,  8719,  8720,\n",
       "        8721,  8722,  8723,  8724,  8725,  8726,  8727,  8728,  8729,\n",
       "        8730,  8731,  8732,  8733,  8734,  8735,  8736,  8737,  8738,\n",
       "        8739,  8740,  8741,  8742,  8743,  8744,  8745,  8746,  8747,\n",
       "        8748,  8749,  8750,  8751,  8752,  8753,  8754,  8755,  8756,\n",
       "        8757,  8758,  8759,  8760,  8761,  8762,  8763,  8764,  8765,\n",
       "        8766,  8767,  8768,  8769,  8770,  8771,  8772,  8773,  8774,\n",
       "        8775,  8776,  8777,  8778,  8779,  8780,  8781,  8782,  8783,\n",
       "        8784,  8785,  8786,  8787,  8788,  8789,  8790,  8791,  8792,\n",
       "        8793,  8794,  8795,  8796,  8797,  8798,  8799,  8800,  8801,\n",
       "        8802,  8803,  8804,  8805,  8806,  8807,  8808,  8809,  8810,\n",
       "        8811,  8812,  8813,  8814,  8815,  8816,  8817,  8818,  8819,\n",
       "        8820,  8821,  8822,  8823,  8824,  8825,  8826,  8827,  8828,\n",
       "        8829,  8830,  8831,  8832,  8833,  8834,  8835,  8836,  8837,\n",
       "        8838,  8839,  8840,  8841,  8842,  8843,  8844,  8845,  8846,\n",
       "        8847,  8848,  8849,  8850,  8851,  8852,  8853,  8854,  8855,\n",
       "        8856,  8857,  8858,  8859,  8860,  8861,  8862,  8863,  8864,\n",
       "        8865,  8866,  8867,  8868,  8869,  8870,  8871,  8872,  8873,\n",
       "        8874,  8875,  8876,  8877,  8878,  8879,  8880,  8881,  8882,\n",
       "        8883,  8884,  8885,  8886,  8887,  8888,  8889,  8890,  8891,\n",
       "        8892,  8893,  8894,  8895,  8896,  8897,  8898,  8899,  8900,\n",
       "        8901,  8902,  8903,  8904,  8905,  8906,  8907,  8908,  8909,\n",
       "        8910,  8911,  8912,  8913,  8914,  8915,  8916,  8917,  8918,\n",
       "        8919,  8920,  8921,  8922,  8923,  8924,  8925,  8926,  8927,\n",
       "        8928,  8929,  8930,  8931,  8932,  8933,  8934,  8935,  8936,\n",
       "        8937,  8938,  8939,  8940,  8941,  8942,  8943,  8944,  8945,\n",
       "        8946,  8947,  8948,  8949,  8950,  8951,  8952,  8953,  8954,\n",
       "        8955,  8956,  8957,  8958,  8959,  8960,  8961,  8962,  8963,\n",
       "        8964,  8965,  8966,  8967,  8968,  8969,  8970,  8971,  8972,\n",
       "        8973,  8974,  8975,  8976,  8977,  8978,  8979,  8980,  8981,\n",
       "        8982,  8983,  8984,  8985,  8986,  8987,  8988,  8989,  8990,\n",
       "        8991,  8992,  8993,  8994,  8995,  8996,  8997,  8998,  8999,\n",
       "        9000,  9001,  9002,  9003,  9004,  9005,  9006,  9007,  9008,\n",
       "        9009,  9010,  9011,  9012,  9013,  9014,  9015,  9016,  9017,\n",
       "        9018,  9019,  9020,  9021,  9022,  9023,  9024,  9025,  9026,\n",
       "        9027,  9028,  9029,  9030,  9031,  9032,  9033,  9034,  9035,\n",
       "        9036,  9037,  9038,  9039,  9040,  9041,  9042,  9043,  9044,\n",
       "        9045,  9046,  9047,  9048,  9049,  9050,  9051,  9052,  9053,\n",
       "        9054,  9055,  9056,  9057,  9058,  9059,  9060,  9061,  9062,\n",
       "        9063,  9064,  9065,  9066,  9067,  9068,  9069,  9070,  9071,\n",
       "        9072,  9073,  9074,  9075,  9076,  9077,  9078,  9079,  9080,\n",
       "        9081,  9082,  9083,  9084,  9085,  9086,  9087,  9088,  9089,\n",
       "        9090,  9091,  9092,  9093,  9094,  9095,  9096,  9097,  9098,\n",
       "        9099,  9100,  9101,  9102,  9103,  9104,  9105,  9106,  9107,\n",
       "        9108,  9109,  9110,  9111,  9112,  9113,  9114,  9115,  9116,\n",
       "        9117,  9118,  9119,  9120,  9121,  9122,  9123,  9124,  9125,\n",
       "        9126,  9127,  9128,  9129,  9130,  9131,  9132,  9133,  9134,\n",
       "        9135,  9136,  9137,  9138,  9139,  9140,  9141,  9142,  9143,\n",
       "        9144,  9145,  9146,  9147,  9148,  9149,  9150,  9151,  9152,\n",
       "        9153,  9154,  9155,  9156,  9157,  9158,  9159,  9160,  9161,\n",
       "        9162,  9163,  9164,  9165,  9166,  9167,  9168,  9169,  9170,\n",
       "        9171,  9172,  9173,  9174,  9175,  9176,  9177,  9178,  9179,\n",
       "        9180,  9181,  9182,  9183,  9184,  9185,  9186,  9187,  9188,\n",
       "        9189,  9190,  9191,  9192,  9193,  9194,  9195,  9196,  9197,\n",
       "        9198,  9199,  9200,  9201,  9202,  9203,  9204,  9205,  9206,\n",
       "        9207,  9208,  9209,  9210,  9211,  9212,  9213,  9214,  9215,\n",
       "        9216,  9217,  9218,  9219,  9220,  9221,  9222,  9223,  9224,\n",
       "        9225,  9226,  9227,  9228,  9229,  9230,  9231,  9232,  9233,\n",
       "        9234,  9235,  9236,  9237,  9238,  9239,  9240,  9241,  9242,\n",
       "        9243,  9244,  9245,  9246,  9247,  9248,  9249,  9250,  9251,\n",
       "        9252,  9253,  9254,  9255,  9256,  9257,  9258,  9259,  9260,\n",
       "        9261,  9262,  9263,  9264,  9265,  9266,  9267,  9268,  9269,\n",
       "        9270,  9271,  9272,  9273,  9274,  9275,  9276,  9277,  9278,\n",
       "        9279,  9280,  9281,  9282,  9283,  9284,  9285,  9286,  9287,\n",
       "        9288,  9289,  9290,  9291,  9292,  9293,  9294,  9295,  9296,\n",
       "        9297,  9298,  9299,  9300,  9301,  9302,  9303,  9304,  9305,\n",
       "        9306,  9307,  9308,  9309,  9310,  9311,  9312,  9313,  9314,\n",
       "        9315,  9316,  9317,  9318,  9319,  9320,  9321,  9322,  9323,\n",
       "        9324,  9325,  9326,  9327,  9328,  9329,  9330,  9331,  9332,\n",
       "        9333,  9334,  9335,  9336,  9337,  9338,  9339,  9340,  9341,\n",
       "        9342,  9343,  9344,  9345,  9346,  9347,  9348,  9349,  9350,\n",
       "        9351,  9352,  9353,  9354,  9355,  9356,  9357,  9358,  9359,\n",
       "        9360,  9361,  9362,  9363,  9364,  9365,  9366,  9367,  9368,\n",
       "        9369,  9370,  9371,  9372,  9373,  9374,  9375,  9376,  9377,\n",
       "        9378,  9379,  9380,  9381,  9382,  9383,  9384,  9385,  9386,\n",
       "        9387,  9388,  9389,  9390,  9391,  9392,  9393,  9394,  9395,\n",
       "        9396,  9397,  9398,  9399,  9400,  9401,  9402,  9403,  9404,\n",
       "        9405,  9406,  9407,  9408,  9409,  9410,  9411,  9412,  9413,\n",
       "        9414,  9415,  9416,  9417,  9418,  9419,  9420,  9421,  9422,\n",
       "        9423,  9424,  9425,  9426,  9427,  9428,  9429,  9430,  9431,\n",
       "        9432,  9433,  9434,  9435,  9436,  9437,  9438,  9439,  9440,\n",
       "        9441,  9442,  9443,  9444,  9445,  9446,  9447,  9448,  9449,\n",
       "        9450,  9451,  9452,  9453,  9454,  9455,  9456,  9457,  9458,\n",
       "        9459,  9460,  9461,  9462,  9463,  9464,  9465,  9466,  9467,\n",
       "        9468,  9469,  9470,  9471,  9472,  9473,  9474,  9475,  9476,\n",
       "        9477,  9478,  9479,  9480,  9481,  9482,  9483,  9484,  9485,\n",
       "        9486,  9487,  9488,  9489,  9490,  9491,  9492,  9493,  9494,\n",
       "        9495,  9496,  9497,  9498,  9499,  9500,  9501,  9502,  9503,\n",
       "        9504,  9505,  9506,  9507,  9508,  9509,  9510,  9511,  9512,\n",
       "        9513,  9514,  9515,  9516,  9517,  9518,  9519,  9520,  9521,\n",
       "        9522,  9523,  9524,  9525,  9526,  9527,  9528,  9529,  9530,\n",
       "        9531,  9532,  9533,  9534,  9535,  9536,  9537,  9538,  9539,\n",
       "        9540,  9541,  9542,  9543,  9544,  9545,  9546,  9547,  9548,\n",
       "        9549,  9550,  9551,  9552,  9553,  9554,  9555,  9556,  9557,\n",
       "        9558,  9559,  9560,  9561,  9562,  9563,  9564,  9565,  9566,\n",
       "        9567,  9568,  9569,  9570,  9571,  9572,  9573,  9574,  9575,\n",
       "        9576,  9577,  9578,  9579,  9580,  9581,  9582,  9583,  9584,\n",
       "        9585,  9586,  9587,  9588,  9589,  9590,  9591,  9592,  9593,\n",
       "        9594,  9595,  9596,  9597,  9598,  9599,  9600,  9601,  9602,\n",
       "        9603,  9604,  9605,  9606,  9607,  9608,  9609,  9610,  9611,\n",
       "        9612,  9613,  9614,  9615,  9616,  9617,  9618,  9619,  9620,\n",
       "        9621,  9622,  9623,  9624,  9625,  9626,  9627,  9628,  9629,\n",
       "        9630,  9631,  9632,  9633,  9634,  9635,  9636,  9637,  9638,\n",
       "        9639,  9640,  9641,  9642,  9643,  9644,  9645,  9646,  9647,\n",
       "        9648,  9649,  9650,  9651,  9652,  9653,  9654,  9655,  9656,\n",
       "        9657,  9658,  9659,  9660,  9661,  9662,  9663,  9664,  9665,\n",
       "        9666,  9667,  9668,  9669,  9670,  9671,  9672,  9673,  9674,\n",
       "        9675,  9676,  9677,  9678,  9679,  9680,  9681,  9682,  9683,\n",
       "        9684,  9685,  9686,  9687,  9688,  9689,  9690,  9691,  9692,\n",
       "        9693,  9694,  9695,  9696,  9697,  9698,  9699,  9700,  9701,\n",
       "        9702,  9703,  9704,  9705,  9706,  9707,  9708,  9709,  9710,\n",
       "        9711,  9712,  9713,  9714,  9715,  9716,  9717,  9718,  9719,\n",
       "        9720,  9721,  9722,  9723,  9724,  9725,  9726,  9727,  9728,\n",
       "        9729,  9730,  9731,  9732,  9733,  9734,  9735,  9736,  9737,\n",
       "        9738,  9739,  9740,  9741,  9742,  9743,  9744,  9745,  9746,\n",
       "        9747,  9748,  9749,  9750,  9751,  9752,  9753,  9754,  9755,\n",
       "        9756,  9757,  9758,  9759,  9760,  9761,  9762,  9763,  9764,\n",
       "        9765,  9766,  9767,  9768,  9769,  9770,  9771,  9772,  9773,\n",
       "        9774,  9775,  9776,  9777,  9778,  9779,  9780,  9781,  9782,\n",
       "        9783,  9784,  9785,  9786,  9787,  9788,  9789,  9790,  9791,\n",
       "        9792,  9793,  9794,  9795,  9796,  9797,  9798,  9799,  9800,\n",
       "        9801,  9802,  9803,  9804,  9805,  9806,  9807,  9808,  9809,\n",
       "        9810,  9811,  9812,  9813,  9814,  9815,  9816,  9817,  9818,\n",
       "        9819,  9820,  9821,  9822,  9823,  9824,  9825,  9826,  9827,\n",
       "        9828,  9829,  9830,  9831,  9832,  9833,  9834,  9835,  9836,\n",
       "        9837,  9838,  9839,  9840,  9841,  9842,  9843,  9844,  9845,\n",
       "        9846,  9847,  9848,  9849,  9850,  9851,  9852,  9853,  9854,\n",
       "        9855,  9856,  9857,  9858,  9859,  9860,  9861,  9862,  9863,\n",
       "        9864,  9865,  9866,  9867,  9868,  9869,  9870,  9871,  9872,\n",
       "        9873,  9874,  9875,  9876,  9877,  9878,  9879,  9880,  9881,\n",
       "        9882,  9883,  9884,  9885,  9886,  9887,  9888,  9889,  9890,\n",
       "        9891,  9892,  9893,  9894,  9895,  9896,  9897,  9898,  9899,\n",
       "        9900,  9901,  9902,  9903,  9904,  9905,  9906,  9907,  9908,\n",
       "        9909,  9910,  9911,  9912,  9913,  9914,  9915,  9916,  9917,\n",
       "        9918,  9919,  9920,  9921,  9922,  9923,  9924,  9925,  9926,\n",
       "        9927,  9928,  9929,  9930,  9931,  9932,  9933,  9934,  9935,\n",
       "        9936,  9937,  9938,  9939,  9940,  9941,  9942,  9943,  9944,\n",
       "        9945,  9946,  9947,  9948,  9949,  9950,  9951,  9952,  9953,\n",
       "        9954,  9955,  9956,  9957,  9958,  9959,  9960,  9961,  9962,\n",
       "        9963,  9964,  9965,  9966,  9967,  9968,  9969,  9970,  9971,\n",
       "        9972,  9973,  9974,  9975,  9976,  9977,  9978,  9979,  9980,\n",
       "        9981,  9982,  9983,  9984,  9985,  9986,  9987,  9988,  9989,\n",
       "        9990,  9991,  9992,  9993,  9994,  9995,  9996,  9997,  9998,\n",
       "        9999, 10000])"
      ]
     },
     "execution_count": 27,
     "metadata": {},
     "output_type": "execute_result"
    }
   ],
   "source": [
    "np.arange(10001)"
   ]
  },
  {
   "cell_type": "markdown",
   "id": "2adf197f",
   "metadata": {},
   "source": [
    "## 2.7 기본 연산 동작\n",
    "### 1) 배열의요소별 연산"
   ]
  },
  {
   "cell_type": "code",
   "execution_count": 56,
   "id": "e9c26119",
   "metadata": {},
   "outputs": [
    {
     "name": "stdout",
     "output_type": "stream",
     "text": [
      "[10 20 30 40] int8\n",
      "[0 1 2 3] int32\n"
     ]
    }
   ],
   "source": [
    "a = np.array([10, 20, 30, 40], dtype=np.int8)\n",
    "b = np.arange(4)\n",
    "print(a, a.dtype)\n",
    "print(b, b.dtype)"
   ]
  },
  {
   "cell_type": "code",
   "execution_count": 57,
   "id": "5180befe",
   "metadata": {},
   "outputs": [
    {
     "name": "stdout",
     "output_type": "stream",
     "text": [
      "[10 21 32 43] int32\n"
     ]
    }
   ],
   "source": [
    "c = a + b\n",
    "print(c, c.dtype)"
   ]
  },
  {
   "cell_type": "code",
   "execution_count": 58,
   "id": "2617bd70",
   "metadata": {},
   "outputs": [
    {
     "data": {
      "text/plain": [
       "array([10, 21, 32, 43], dtype=int8)"
      ]
     },
     "execution_count": 58,
     "metadata": {},
     "output_type": "execute_result"
    }
   ],
   "source": [
    "a += b\n",
    "a"
   ]
  },
  {
   "cell_type": "code",
   "execution_count": 59,
   "id": "de220a7c",
   "metadata": {},
   "outputs": [
    {
     "data": {
      "text/plain": [
       "(array([10, 22, 34, 46]), dtype('int32'))"
      ]
     },
     "execution_count": 59,
     "metadata": {},
     "output_type": "execute_result"
    }
   ],
   "source": [
    "a = a + b\n",
    "a, a.dtype"
   ]
  },
  {
   "cell_type": "code",
   "execution_count": 60,
   "id": "381ab3ed",
   "metadata": {},
   "outputs": [
    {
     "data": {
      "text/plain": [
       "array([    1,    22,  1156, 97336])"
      ]
     },
     "execution_count": 60,
     "metadata": {},
     "output_type": "execute_result"
    }
   ],
   "source": [
    "a ** b # 제곱연산 a의 b제곱"
   ]
  },
  {
   "cell_type": "code",
   "execution_count": 63,
   "id": "e7e2ca07",
   "metadata": {},
   "outputs": [
    {
     "data": {
      "text/plain": [
       "array([ True,  True, False, False])"
      ]
     },
     "execution_count": 63,
     "metadata": {},
     "output_type": "execute_result"
    }
   ],
   "source": [
    "a < 30"
   ]
  },
  {
   "cell_type": "code",
   "execution_count": 65,
   "id": "56ef5a82",
   "metadata": {},
   "outputs": [
    {
     "data": {
      "text/plain": [
       "array([10, 22])"
      ]
     },
     "execution_count": 65,
     "metadata": {},
     "output_type": "execute_result"
    }
   ],
   "source": [
    "a[ a < 30 ] # True 인 경우의 값만 return"
   ]
  },
  {
   "cell_type": "code",
   "execution_count": 67,
   "id": "e1cde41a",
   "metadata": {},
   "outputs": [
    {
     "name": "stdout",
     "output_type": "stream",
     "text": [
      "[10 22 34 46]\n",
      "[0 1 2 3]\n"
     ]
    },
    {
     "data": {
      "text/plain": [
       "array([  0,  22,  68, 138])"
      ]
     },
     "execution_count": 67,
     "metadata": {},
     "output_type": "execute_result"
    }
   ],
   "source": [
    "print(a)\n",
    "print(b)\n",
    "a * b"
   ]
  },
  {
   "cell_type": "markdown",
   "id": "b7b8e657",
   "metadata": {},
   "source": [
    "### 2) 행렬(2차원 배열)의 곱(@, dot함수)\n",
    "cf *(요소별 곱)"
   ]
  },
  {
   "cell_type": "code",
   "execution_count": 69,
   "id": "fc578523",
   "metadata": {},
   "outputs": [
    {
     "data": {
      "text/plain": [
       "(array([[1, 2],\n",
       "        [0, 1]]),\n",
       " array([[2, 0],\n",
       "        [3, 4]]))"
      ]
     },
     "execution_count": 69,
     "metadata": {},
     "output_type": "execute_result"
    }
   ],
   "source": [
    "a = np.array([[1,2],\n",
    "            [0,1]])\n",
    "b = np.array([[2,0],\n",
    "             [3,4]])\n",
    "a,b"
   ]
  },
  {
   "cell_type": "code",
   "execution_count": 71,
   "id": "36fe1077",
   "metadata": {},
   "outputs": [
    {
     "data": {
      "text/plain": [
       "array([[2, 0],\n",
       "       [0, 4]])"
      ]
     },
     "execution_count": 71,
     "metadata": {},
     "output_type": "execute_result"
    }
   ],
   "source": [
    "a * b"
   ]
  },
  {
   "cell_type": "code",
   "execution_count": 72,
   "id": "1c800920",
   "metadata": {},
   "outputs": [
    {
     "data": {
      "text/plain": [
       "array([[8, 8],\n",
       "       [3, 4]])"
      ]
     },
     "execution_count": 72,
     "metadata": {},
     "output_type": "execute_result"
    }
   ],
   "source": [
    "a @ b # 행렬 곱. 1 2   @   2 0   ->   1*2 + 2*0, 1*0 + 2*4 = [8,8]\n",
    "      #         0 1       3 4   ->   0*2 + 1*3, 0*0 + 1*4 = [3,4]  "
   ]
  },
  {
   "cell_type": "code",
   "execution_count": 89,
   "id": "0502300e",
   "metadata": {},
   "outputs": [
    {
     "data": {
      "text/plain": [
       "array([[1., 0., 0.],\n",
       "       [0., 1., 0.],\n",
       "       [0., 0., 1.]])"
      ]
     },
     "execution_count": 89,
     "metadata": {},
     "output_type": "execute_result"
    }
   ],
   "source": [
    "# n행 n열의 단위행렬 : np.eye(n) : A@단위행렬=A\n",
    "np.eye(3)"
   ]
  },
  {
   "cell_type": "markdown",
   "id": "7463adbb",
   "metadata": {},
   "source": [
    "### 3) 복합 대입연산자 사용\n",
    "- 배열에서는 a = a+b 와 a+=b 다소 다르게 작동"
   ]
  },
  {
   "cell_type": "code",
   "execution_count": 73,
   "id": "b4a88372",
   "metadata": {},
   "outputs": [
    {
     "data": {
      "text/plain": [
       "array([[1, 1, 1],\n",
       "       [1, 1, 1]])"
      ]
     },
     "execution_count": 73,
     "metadata": {},
     "output_type": "execute_result"
    }
   ],
   "source": [
    "a = np.ones( (2, 3), dtype=int ) # 2행3열 int32 배열\n",
    "a"
   ]
  },
  {
   "cell_type": "code",
   "execution_count": 74,
   "id": "eadccd84",
   "metadata": {},
   "outputs": [
    {
     "data": {
      "text/plain": [
       "array([[0.24048830609445737, 0.5105387331195399 , 0.8032980258114085 ],\n",
       "       [0.4468957694262079 , 0.6135349219590995 , 0.08037547540144285]])"
      ]
     },
     "execution_count": 74,
     "metadata": {},
     "output_type": "execute_result"
    }
   ],
   "source": [
    "b = np.random.random( (2, 3) ) # 2행3열 float64 배열\n",
    "b"
   ]
  },
  {
   "cell_type": "code",
   "execution_count": 76,
   "id": "3c27468f",
   "metadata": {},
   "outputs": [
    {
     "ename": "UFuncTypeError",
     "evalue": "Cannot cast ufunc 'add' output from dtype('float64') to dtype('int32') with casting rule 'same_kind'",
     "output_type": "error",
     "traceback": [
      "\u001b[1;31m---------------------------------------------------------------------------\u001b[0m",
      "\u001b[1;31mUFuncTypeError\u001b[0m                            Traceback (most recent call last)",
      "Cell \u001b[1;32mIn[76], line 1\u001b[0m\n\u001b[1;32m----> 1\u001b[0m a \u001b[38;5;241m+\u001b[39m\u001b[38;5;241m=\u001b[39m b\n",
      "\u001b[1;31mUFuncTypeError\u001b[0m: Cannot cast ufunc 'add' output from dtype('float64') to dtype('int32') with casting rule 'same_kind'"
     ]
    }
   ],
   "source": [
    "a += b # a+b를 기존 a에 넣는다"
   ]
  },
  {
   "cell_type": "code",
   "execution_count": 77,
   "id": "a089da2b",
   "metadata": {},
   "outputs": [
    {
     "data": {
      "text/plain": [
       "array([[1.2404883060944574, 1.51053873311954  , 1.8032980258114084],\n",
       "       [1.446895769426208 , 1.6135349219590995, 1.0803754754014427]])"
      ]
     },
     "execution_count": 77,
     "metadata": {},
     "output_type": "execute_result"
    }
   ],
   "source": [
    "b += a\n",
    "b"
   ]
  },
  {
   "cell_type": "code",
   "execution_count": 78,
   "id": "8450c9a7",
   "metadata": {},
   "outputs": [
    {
     "data": {
      "text/plain": [
       "array([[2.2404883060944574, 2.5105387331195397, 2.8032980258114084],\n",
       "       [2.4468957694262077, 2.6135349219590998, 2.0803754754014427]])"
      ]
     },
     "execution_count": 78,
     "metadata": {},
     "output_type": "execute_result"
    }
   ],
   "source": [
    "a = a+b # a+b를 새로운 변수 a 할당\n",
    "a"
   ]
  },
  {
   "cell_type": "markdown",
   "id": "309c7eb4",
   "metadata": {},
   "source": [
    "### 4) 배열 요소별 집계\n",
    "- sum, min, max, mean, var(분산), std(표준편차)"
   ]
  },
  {
   "cell_type": "code",
   "execution_count": 85,
   "id": "4ff9aba6",
   "metadata": {},
   "outputs": [
    {
     "data": {
      "text/plain": [
       "array([[2, 2, 2, 3],\n",
       "       [4, 3, 2, 1]])"
      ]
     },
     "execution_count": 85,
     "metadata": {},
     "output_type": "execute_result"
    }
   ],
   "source": [
    "a = np.array([[2, 2, 2, 3], \n",
    "            [4, 3, 2, 1]])\n",
    "a"
   ]
  },
  {
   "cell_type": "code",
   "execution_count": 86,
   "id": "dbdb0079",
   "metadata": {},
   "outputs": [
    {
     "name": "stdout",
     "output_type": "stream",
     "text": [
      "전체합 :  19 19\n",
      "전체최소 :  1 1\n",
      "전체최대 :  4 4\n",
      "전체평균 :  2.375 2.375\n",
      "전체분산 :  0.734375 0.734375\n",
      "전체표준편차 :  0.8569568250501305 0.8569568250501305\n"
     ]
    }
   ],
   "source": [
    "print('전체합 : ', np.sum(a), a.sum())\n",
    "print('전체최소 : ', np.min(a), a.min())\n",
    "print('전체최대 : ', np.max(a), a.max())\n",
    "print('전체평균 : ', np.mean(a), a.mean())\n",
    "print('전체분산 : ', np.var(a), a.var())\n",
    "print('전체표준편차 : ', np.std(a), a.std())"
   ]
  },
  {
   "cell_type": "markdown",
   "id": "03e58b6f",
   "metadata": {},
   "source": [
    "### 5) 배열 축별 집계\n",
    "- sum, min, max, mean, var(분산), std(표준편차), argmax(최대값의 인덱스)"
   ]
  },
  {
   "cell_type": "code",
   "execution_count": 42,
   "id": "71ab1584",
   "metadata": {},
   "outputs": [],
   "source": [
    "a = np.array([[2,2,2,3], [4,3,2,1]])"
   ]
  },
  {
   "cell_type": "code",
   "execution_count": 43,
   "id": "705e23d0",
   "metadata": {},
   "outputs": [
    {
     "name": "stdout",
     "output_type": "stream",
     "text": [
      "a의 행별 합 : [ 9 10] [ 9 10]\n"
     ]
    }
   ],
   "source": [
    "# axis = 1 : 0축 고정으로 1축들의 합.  3차원(면, 행, 렬)\n",
    "print('a의 행별 합 :', a.sum(axis=1), np.sum(a, axis=1))"
   ]
  },
  {
   "cell_type": "code",
   "execution_count": 44,
   "id": "389a5a16",
   "metadata": {},
   "outputs": [
    {
     "name": "stdout",
     "output_type": "stream",
     "text": [
      "a의 열별 합 : [6 5 4 4] [6 5 4 4]\n"
     ]
    }
   ],
   "source": [
    "# axis = 0 : 1축을 고정으로 0축(행)의 합\n",
    "print('a의 열별 합 :', a.sum(axis=0), np.sum(a, axis=0))"
   ]
  },
  {
   "cell_type": "code",
   "execution_count": 107,
   "id": "ee7fcebc",
   "metadata": {},
   "outputs": [
    {
     "name": "stdout",
     "output_type": "stream",
     "text": [
      "a의 행별 최대값 위치 : [3 0] [3 0]\n"
     ]
    }
   ],
   "source": [
    "print('a의 행별 최대값 위치 :', a.argmax(axis=1), np.argmax(a, axis=1))"
   ]
  },
  {
   "cell_type": "code",
   "execution_count": 45,
   "id": "a1feec64",
   "metadata": {},
   "outputs": [
    {
     "data": {
      "text/plain": [
       "(array([[[ 0,  1,  2,  3],\n",
       "         [ 4,  5,  6,  7],\n",
       "         [ 8,  9, 10, 11]],\n",
       " \n",
       "        [[12, 13, 14, 15],\n",
       "         [16, 17, 18, 19],\n",
       "         [20, 21, 22, 23]]]),\n",
       " 3)"
      ]
     },
     "execution_count": 45,
     "metadata": {},
     "output_type": "execute_result"
    }
   ],
   "source": [
    "# 3차원 배열의 축별 집계\n",
    "b = np.arange(24).reshape(2, 3, 4) # 2면 3행 4열\n",
    "b, b.ndim"
   ]
  },
  {
   "cell_type": "code",
   "execution_count": 46,
   "id": "cdfcc1b0",
   "metadata": {},
   "outputs": [
    {
     "data": {
      "text/plain": [
       "(array([[12, 14, 16, 18],\n",
       "        [20, 22, 24, 26],\n",
       "        [28, 30, 32, 34]]),\n",
       " array([[12, 14, 16, 18],\n",
       "        [20, 22, 24, 26],\n",
       "        [28, 30, 32, 34]]))"
      ]
     },
     "execution_count": 46,
     "metadata": {},
     "output_type": "execute_result"
    }
   ],
   "source": [
    "# axis = 0 : 1축과 2축 고정하고 0축(0면, 1면)들의 합\n",
    "b.sum(axis=0), np.sum(b, axis=0)"
   ]
  },
  {
   "cell_type": "code",
   "execution_count": 48,
   "id": "dce25cb4",
   "metadata": {},
   "outputs": [
    {
     "data": {
      "text/plain": [
       "array([[12, 15, 18, 21],\n",
       "       [48, 51, 54, 57]])"
      ]
     },
     "execution_count": 48,
     "metadata": {},
     "output_type": "execute_result"
    }
   ],
   "source": [
    "b.sum(axis=1)"
   ]
  },
  {
   "cell_type": "code",
   "execution_count": 49,
   "id": "21a0a500",
   "metadata": {},
   "outputs": [
    {
     "data": {
      "text/plain": [
       "array([[ 6, 22, 38],\n",
       "       [54, 70, 86]])"
      ]
     },
     "execution_count": 49,
     "metadata": {},
     "output_type": "execute_result"
    }
   ],
   "source": [
    "b.sum(axis=2)"
   ]
  },
  {
   "cell_type": "markdown",
   "id": "6b538cb4",
   "metadata": {},
   "source": [
    "## 2.8 그외 요소별 계산하는 범용함수들\n",
    "- 메모리나 시간을 효율적으로 사용할 수 있음\n",
    "- np.add(A, B, C) ; C=np.add(A, B); C = A+B\n",
    "- np.subtract(A, B, C) ; C=np.add(A, B); C = A-B\n",
    "- np.multiply(A, B, C) ; C=np.multiply(A, B); C = A*B\n",
    "- np.sqrt(배열) ; 요소별 제곱근 cf. math.sqrt(스칼라값)"
   ]
  },
  {
   "cell_type": "code",
   "execution_count": 115,
   "id": "8b1a7296",
   "metadata": {},
   "outputs": [
    {
     "name": "stdout",
     "output_type": "stream",
     "text": [
      "CPU times: total: 0 ns\n",
      "Wall time: 0 ns\n"
     ]
    },
    {
     "data": {
      "text/plain": [
       "array([4, 6])"
      ]
     },
     "execution_count": 115,
     "metadata": {},
     "output_type": "execute_result"
    }
   ],
   "source": [
    "%time\n",
    "a = np.array([1, 2])\n",
    "b = np.array([3, 4])\n",
    "c = a + b\n",
    "c"
   ]
  },
  {
   "cell_type": "code",
   "execution_count": 120,
   "id": "2be2c511",
   "metadata": {},
   "outputs": [
    {
     "data": {
      "text/plain": [
       "array([4, 6])"
      ]
     },
     "execution_count": 120,
     "metadata": {},
     "output_type": "execute_result"
    }
   ],
   "source": [
    "np.add(a, b, c)"
   ]
  },
  {
   "cell_type": "code",
   "execution_count": 118,
   "id": "ecda7ac3",
   "metadata": {},
   "outputs": [
    {
     "data": {
      "text/plain": [
       "array([4, 6])"
      ]
     },
     "execution_count": 118,
     "metadata": {},
     "output_type": "execute_result"
    }
   ],
   "source": [
    "c = np.add(a, b)\n",
    "c"
   ]
  },
  {
   "cell_type": "code",
   "execution_count": 121,
   "id": "40e97536",
   "metadata": {},
   "outputs": [
    {
     "data": {
      "text/plain": [
       "(array([1, 2]), array([1.                , 1.4142135623730951]), 2.0)"
      ]
     },
     "execution_count": 121,
     "metadata": {},
     "output_type": "execute_result"
    }
   ],
   "source": [
    "# np.sqrt(배열 또는 스칼라값) math.sqrt(스칼라)\n",
    "a, np.sqrt(a), np.sqrt(4)"
   ]
  },
  {
   "cell_type": "code",
   "execution_count": 122,
   "id": "a03e74a2",
   "metadata": {},
   "outputs": [
    {
     "ename": "TypeError",
     "evalue": "only size-1 arrays can be converted to Python scalars",
     "output_type": "error",
     "traceback": [
      "\u001b[1;31m---------------------------------------------------------------------------\u001b[0m",
      "\u001b[1;31mTypeError\u001b[0m                                 Traceback (most recent call last)",
      "Cell \u001b[1;32mIn[122], line 3\u001b[0m\n\u001b[0;32m      1\u001b[0m \u001b[38;5;28;01mimport\u001b[39;00m \u001b[38;5;21;01mmath\u001b[39;00m\n\u001b[0;32m      2\u001b[0m math\u001b[38;5;241m.\u001b[39msqrt(\u001b[38;5;241m4\u001b[39m)\n\u001b[1;32m----> 3\u001b[0m \u001b[43mmath\u001b[49m\u001b[38;5;241;43m.\u001b[39;49m\u001b[43msqrt\u001b[49m\u001b[43m(\u001b[49m\u001b[43ma\u001b[49m\u001b[43m)\u001b[49m\n",
      "\u001b[1;31mTypeError\u001b[0m: only size-1 arrays can be converted to Python scalars"
     ]
    }
   ],
   "source": [
    "import math\n",
    "math.sqrt(4)\n",
    "math.sqrt(a)"
   ]
  },
  {
   "cell_type": "markdown",
   "id": "190ccc2f",
   "metadata": {},
   "source": [
    "## 2.9 브로드 케스팅\n",
    "- 서로 다른 크기의 배열 간 연산을 수행할 수 있도록 해주는 강력한 기능"
   ]
  },
  {
   "cell_type": "code",
   "execution_count": 124,
   "id": "65c6efef",
   "metadata": {},
   "outputs": [
    {
     "name": "stdout",
     "output_type": "stream",
     "text": [
      "[11 12 13]\n",
      "[11 12 13]\n"
     ]
    }
   ],
   "source": [
    "# 1차원 배열\n",
    "a = np.array([1, 2, 3])\n",
    "b = 10\n",
    "print(a + b)\n",
    "print(np.add(a, b))"
   ]
  },
  {
   "cell_type": "code",
   "execution_count": 125,
   "id": "051bea1b",
   "metadata": {},
   "outputs": [
    {
     "name": "stdout",
     "output_type": "stream",
     "text": [
      "[11 12 13]\n",
      "[11 12 13]\n"
     ]
    }
   ],
   "source": [
    "# 1차원 배열의 브로드 케스팅\n",
    "a = np.array([1, 2, 3])\n",
    "b = np.array([10])\n",
    "print(a + b)\n",
    "print(np.add(a, b))"
   ]
  },
  {
   "cell_type": "code",
   "execution_count": 50,
   "id": "5bdb88a1",
   "metadata": {},
   "outputs": [
    {
     "data": {
      "text/plain": [
       "array([[ 1,  2,  3],\n",
       "       [11, 12, 13],\n",
       "       [21, 22, 23],\n",
       "       [31, 32, 33]])"
      ]
     },
     "execution_count": 50,
     "metadata": {},
     "output_type": "execute_result"
    }
   ],
   "source": [
    "# 2차원 배열의 브로드 케스팅\n",
    "a = np.array([[0,0,0],\n",
    "             [10,10,10],\n",
    "             [20,20,20],\n",
    "             [30,30,30]]) # 4행 3열\n",
    "b = np.array([1, 2, 3]) # 3열\n",
    "a + b"
   ]
  },
  {
   "cell_type": "code",
   "execution_count": 126,
   "id": "cf77d355",
   "metadata": {},
   "outputs": [
    {
     "data": {
      "text/plain": [
       "array([[ 1,  1,  1],\n",
       "       [12, 12, 12],\n",
       "       [23, 23, 23],\n",
       "       [34, 34, 34]])"
      ]
     },
     "execution_count": 126,
     "metadata": {},
     "output_type": "execute_result"
    }
   ],
   "source": [
    "# 2차원 배열의 브로드 케스팅\n",
    "a = np.array([[0,0,0],\n",
    "             [10,10,10],\n",
    "             [20,20,20],\n",
    "             [30,30,30]]) # 4행 3열\n",
    "b = np.array([[1],[2],[3],[4]]) # 4행 1열\n",
    "a + b"
   ]
  },
  {
   "cell_type": "code",
   "execution_count": 127,
   "id": "e82d8528",
   "metadata": {},
   "outputs": [
    {
     "ename": "ValueError",
     "evalue": "operands could not be broadcast together with shapes (4,3) (4,) ",
     "output_type": "error",
     "traceback": [
      "\u001b[1;31m---------------------------------------------------------------------------\u001b[0m",
      "\u001b[1;31mValueError\u001b[0m                                Traceback (most recent call last)",
      "Cell \u001b[1;32mIn[127], line 7\u001b[0m\n\u001b[0;32m      2\u001b[0m a \u001b[38;5;241m=\u001b[39m np\u001b[38;5;241m.\u001b[39marray([[\u001b[38;5;241m0\u001b[39m,\u001b[38;5;241m0\u001b[39m,\u001b[38;5;241m0\u001b[39m],\n\u001b[0;32m      3\u001b[0m              [\u001b[38;5;241m10\u001b[39m,\u001b[38;5;241m10\u001b[39m,\u001b[38;5;241m10\u001b[39m],\n\u001b[0;32m      4\u001b[0m              [\u001b[38;5;241m20\u001b[39m,\u001b[38;5;241m20\u001b[39m,\u001b[38;5;241m20\u001b[39m],\n\u001b[0;32m      5\u001b[0m              [\u001b[38;5;241m30\u001b[39m,\u001b[38;5;241m30\u001b[39m,\u001b[38;5;241m30\u001b[39m]]) \u001b[38;5;66;03m# 4행 3열\u001b[39;00m\n\u001b[0;32m      6\u001b[0m b \u001b[38;5;241m=\u001b[39m np\u001b[38;5;241m.\u001b[39marray([\u001b[38;5;241m1\u001b[39m,\u001b[38;5;241m2\u001b[39m,\u001b[38;5;241m3\u001b[39m,\u001b[38;5;241m4\u001b[39m]) \u001b[38;5;66;03m# 4열 -> (축 증가) -> 4행 1열\u001b[39;00m\n\u001b[1;32m----> 7\u001b[0m \u001b[43ma\u001b[49m\u001b[43m \u001b[49m\u001b[38;5;241;43m+\u001b[39;49m\u001b[43m \u001b[49m\u001b[43mb\u001b[49m\n",
      "\u001b[1;31mValueError\u001b[0m: operands could not be broadcast together with shapes (4,3) (4,) "
     ]
    }
   ],
   "source": [
    "# 2차원 배열의 브로드 케스팅\n",
    "a = np.array([[0,0,0],\n",
    "             [10,10,10],\n",
    "             [20,20,20],\n",
    "             [30,30,30]]) # 4행 3열\n",
    "b = np.array([1,2,3,4]) # 4열 -> (축 증가) -> 4행 1열\n",
    "a + b"
   ]
  },
  {
   "cell_type": "code",
   "execution_count": 142,
   "id": "8a5e4919",
   "metadata": {},
   "outputs": [
    {
     "data": {
      "text/plain": [
       "array([[1],\n",
       "       [2],\n",
       "       [3],\n",
       "       [4]])"
      ]
     },
     "execution_count": 142,
     "metadata": {},
     "output_type": "execute_result"
    }
   ],
   "source": [
    "b = np.array([1,2,3,4]) # 4열 -> (축 증가) -> 4행 1열\n",
    "# b_1 = b.reshape(4,1) # 방법1\n",
    "b_1 = b[:, np.newaxis] # 방법2\n",
    "# b_1 = np.expand_dims(b, axis=1)\n",
    "b_1"
   ]
  },
  {
   "cell_type": "code",
   "execution_count": 143,
   "id": "1a742070",
   "metadata": {},
   "outputs": [
    {
     "data": {
      "text/plain": [
       "array([[ 1,  1,  1],\n",
       "       [12, 12, 12],\n",
       "       [23, 23, 23],\n",
       "       [34, 34, 34]])"
      ]
     },
     "execution_count": 143,
     "metadata": {},
     "output_type": "execute_result"
    }
   ],
   "source": [
    "a + b[:, np.newaxis]"
   ]
  },
  {
   "cell_type": "code",
   "execution_count": 53,
   "id": "3c6cbe5f",
   "metadata": {},
   "outputs": [
    {
     "data": {
      "text/plain": [
       "array([[12, 13, 14, 15],\n",
       "       [22, 23, 24, 25],\n",
       "       [32, 33, 34, 35],\n",
       "       [42, 43, 44, 45]])"
      ]
     },
     "execution_count": 53,
     "metadata": {},
     "output_type": "execute_result"
    }
   ],
   "source": [
    "# a와 b의 모든 쌍의 조합에 대해 계산하고 싶을 때\n",
    "a = np.array([2, 3, 4, 5])\n",
    "b = np.array([10, 20, 30, 40])\n",
    "a + b[:, np.newaxis]"
   ]
  },
  {
   "cell_type": "code",
   "execution_count": 54,
   "id": "0dce7766",
   "metadata": {},
   "outputs": [
    {
     "data": {
      "text/plain": [
       "array([[12, 22, 32, 42],\n",
       "       [13, 23, 33, 43],\n",
       "       [14, 24, 34, 44],\n",
       "       [15, 25, 35, 45]])"
      ]
     },
     "execution_count": 54,
     "metadata": {},
     "output_type": "execute_result"
    }
   ],
   "source": [
    "ax, bx = np.ix_(a, b)\n",
    "ax + bx"
   ]
  },
  {
   "cell_type": "code",
   "execution_count": 161,
   "id": "df7e7b5c",
   "metadata": {},
   "outputs": [
    {
     "data": {
      "text/plain": [
       "array([[ 5,  6],\n",
       "       [ 9, 10]])"
      ]
     },
     "execution_count": 161,
     "metadata": {},
     "output_type": "execute_result"
    }
   ],
   "source": [
    "a[1:3, 1:3]"
   ]
  },
  {
   "cell_type": "code",
   "execution_count": 163,
   "id": "5bdf445c",
   "metadata": {},
   "outputs": [
    {
     "data": {
      "text/plain": [
       "(array([[ 0,  1,  2],\n",
       "        [ 4,  5,  6],\n",
       "        [ 8,  9, 10],\n",
       "        [12, 13, 14],\n",
       "        [16, 17, 18]]),\n",
       " array([[ 0,  1,  2],\n",
       "        [ 4,  5,  6],\n",
       "        [ 8,  9, 10],\n",
       "        [12, 13, 14],\n",
       "        [16, 17, 18]]))"
      ]
     },
     "execution_count": 163,
     "metadata": {},
     "output_type": "execute_result"
    }
   ],
   "source": [
    "# 모든 행의 마지막 열 앞까지 ( 모든 행 = 모든 0축의 경우 ':' 또는 '...' 을 반드시 명시)\n",
    "a[:, 0:-1], a[..., :-1]"
   ]
  },
  {
   "cell_type": "code",
   "execution_count": 52,
   "id": "0a9c8b67",
   "metadata": {},
   "outputs": [
    {
     "data": {
      "text/plain": [
       "(array([[ 0,  0,  0],\n",
       "        [10, 10, 10]]),\n",
       " array([[ 0,  0,  0],\n",
       "        [10, 10, 10]]),\n",
       " array([[ 0,  0,  0],\n",
       "        [10, 10, 10]]))"
      ]
     },
     "execution_count": 52,
     "metadata": {},
     "output_type": "execute_result"
    }
   ],
   "source": [
    "# 0~1 행까지 모든 열 추출(모든 열(1축)의 경우 생략가능 :, ... 사용 가능)\n",
    "a[0:2, :], a[:2, ...], a[:2]"
   ]
  },
  {
   "cell_type": "code",
   "execution_count": 51,
   "id": "f328204d",
   "metadata": {},
   "outputs": [
    {
     "ename": "ValueError",
     "evalue": "cannot reshape array of size 3 into shape (4,1)",
     "output_type": "error",
     "traceback": [
      "\u001b[1;31m---------------------------------------------------------------------------\u001b[0m",
      "\u001b[1;31mValueError\u001b[0m                                Traceback (most recent call last)",
      "Cell \u001b[1;32mIn[51], line 4\u001b[0m\n\u001b[0;32m      1\u001b[0m \u001b[38;5;66;03m# 마지막행의 데이터를 2차원으로 변경 -> 4행 1열\u001b[39;00m\n\u001b[0;32m      2\u001b[0m \u001b[38;5;66;03m# a[-1:]  # 2차원 배열로 인식됨.\u001b[39;00m\n\u001b[0;32m      3\u001b[0m a[\u001b[38;5;241m-\u001b[39m\u001b[38;5;241m1\u001b[39m]\n\u001b[1;32m----> 4\u001b[0m \u001b[43ma\u001b[49m\u001b[43m[\u001b[49m\u001b[38;5;241;43m-\u001b[39;49m\u001b[38;5;241;43m1\u001b[39;49m\u001b[43m]\u001b[49m\u001b[38;5;241;43m.\u001b[39;49m\u001b[43mreshape\u001b[49m\u001b[43m(\u001b[49m\u001b[38;5;241;43m4\u001b[39;49m\u001b[43m,\u001b[49m\u001b[38;5;241;43m1\u001b[39;49m\u001b[43m)\u001b[49m\n\u001b[0;32m      5\u001b[0m a[\u001b[38;5;241m-\u001b[39m\u001b[38;5;241m1\u001b[39m][:, np\u001b[38;5;241m.\u001b[39mnewaxis]\n\u001b[0;32m      6\u001b[0m np\u001b[38;5;241m.\u001b[39mexpand_dims(a[\u001b[38;5;241m-\u001b[39m\u001b[38;5;241m1\u001b[39m], axis\u001b[38;5;241m=\u001b[39m\u001b[38;5;241m1\u001b[39m)\n",
      "\u001b[1;31mValueError\u001b[0m: cannot reshape array of size 3 into shape (4,1)"
     ]
    }
   ],
   "source": [
    "# 마지막행의 데이터를 2차원으로 변경 -> 4행 1열\n",
    "# a[-1:]  # 2차원 배열로 인식됨.\n",
    "a[-1]\n",
    "a[-1].reshape(4,1)\n",
    "a[-1][:, np.newaxis]\n",
    "np.expand_dims(a[-1], axis=1)"
   ]
  },
  {
   "cell_type": "markdown",
   "id": "9c0229ae",
   "metadata": {},
   "source": [
    "## 3.2 두 배열을 합치는 함수\n",
    "- **vstack( tup) : 아래로 추가하는 방식**\n",
    "- **hstack( tup) : 옆으로 추가하는 방식**\n",
    "- **dstack( tup) : 마지막 열을 쌓아 합침(차원증가)**"
   ]
  },
  {
   "cell_type": "code",
   "execution_count": 211,
   "id": "2c6a3c8a",
   "metadata": {},
   "outputs": [
    {
     "name": "stdout",
     "output_type": "stream",
     "text": [
      "vstack 아래로 합치기\n",
      "[[1 2 3]\n",
      " [4 5 6]]\n",
      "(2, 3)\n",
      "hstack 옆으로 합치기\n",
      "[1 2 3 4 5 6]\n",
      "(6,)\n",
      "dstack 축을 depth로 합치기\n",
      "[[[1 4]\n",
      "  [2 5]\n",
      "  [3 6]]]\n",
      "(1, 3, 2)\n"
     ]
    }
   ],
   "source": [
    "a = np.array([1, 2, 3])\n",
    "b = np.array([4, 5, 6])\n",
    "\n",
    "v = np.vstack( (a,b) )\n",
    "print('vstack 아래로 합치기', v, v.shape, sep='\\n') \n",
    "\n",
    "h = np.hstack( (a,b) )\n",
    "print('hstack 옆으로 합치기', h, h.shape, sep='\\n') \n",
    "\n",
    "d = np.dstack( (a,b) )\n",
    "print('dstack 축을 depth로 합치기', d, d.shape, sep='\\n') \n"
   ]
  },
  {
   "cell_type": "code",
   "execution_count": 223,
   "id": "827c42f4",
   "metadata": {},
   "outputs": [
    {
     "data": {
      "text/plain": [
       "(array([[ 0,  1,  2,  3],\n",
       "        [ 4,  5,  6,  7],\n",
       "        [ 8,  9, 10, 11]]),\n",
       " array([[12, 13, 14, 15],\n",
       "        [16, 17, 18, 19],\n",
       "        [20, 21, 22, 23]]))"
      ]
     },
     "execution_count": 223,
     "metadata": {},
     "output_type": "execute_result"
    }
   ],
   "source": [
    "c = np.arange(24).reshape(2, 3, 4)\n",
    "a, b = c[0], c[1]\n",
    "a, b"
   ]
  },
  {
   "cell_type": "code",
   "execution_count": 220,
   "id": "7a425f7f",
   "metadata": {},
   "outputs": [
    {
     "name": "stdout",
     "output_type": "stream",
     "text": [
      "vstack 아래로 합치기 \n",
      "[[ 0  1  2  3]\n",
      " [ 4  5  6  7]\n",
      " [ 8  9 10 11]\n",
      " [12 13 14 15]\n",
      " [16 17 18 19]\n",
      " [20 21 22 23]]\n",
      "(6, 4)\n",
      "hstack 옆으로 합치기 \n",
      "[[ 0  1  2  3 12 13 14 15]\n",
      " [ 4  5  6  7 16 17 18 19]\n",
      " [ 8  9 10 11 20 21 22 23]]\n",
      "(3, 8)\n",
      "dstack 축을 depth로 합치기 \n",
      "[[[ 0 12]\n",
      "  [ 1 13]\n",
      "  [ 2 14]\n",
      "  [ 3 15]]\n",
      "\n",
      " [[ 4 16]\n",
      "  [ 5 17]\n",
      "  [ 6 18]\n",
      "  [ 7 19]]\n",
      "\n",
      " [[ 8 20]\n",
      "  [ 9 21]\n",
      "  [10 22]\n",
      "  [11 23]]]\n",
      "(3, 4, 2)\n"
     ]
    }
   ],
   "source": [
    "v = np.vstack( (a,b) )\n",
    "print('vstack 아래로 합치기 ', v, v.shape, sep='\\n')\n",
    "h = np.hstack( (a,b) )\n",
    "print('hstack 옆으로 합치기 ', h, h.shape, sep='\\n')\n",
    "d = np.dstack( (a,b) )\n",
    "print('dstack 축을 depth로 합치기 ', d, d.shape, sep='\\n')"
   ]
  },
  {
   "cell_type": "code",
   "execution_count": 221,
   "id": "8bf4b254",
   "metadata": {},
   "outputs": [
    {
     "data": {
      "text/plain": [
       "array([[ 0,  1,  2,  3],\n",
       "       [ 4,  5,  6,  7],\n",
       "       [ 8,  9, 10, 11],\n",
       "       [12, 13, 14, 15],\n",
       "       [16, 17, 18, 19],\n",
       "       [20, 21, 22, 23]])"
      ]
     },
     "execution_count": 221,
     "metadata": {},
     "output_type": "execute_result"
    }
   ],
   "source": [
    "np.concatenate( (a, b), axis = 0)"
   ]
  },
  {
   "cell_type": "code",
   "execution_count": 222,
   "id": "9184a029",
   "metadata": {},
   "outputs": [
    {
     "data": {
      "text/plain": [
       "array([[ 0,  1,  2,  3, 12, 13, 14, 15],\n",
       "       [ 4,  5,  6,  7, 16, 17, 18, 19],\n",
       "       [ 8,  9, 10, 11, 20, 21, 22, 23]])"
      ]
     },
     "execution_count": 222,
     "metadata": {},
     "output_type": "execute_result"
    }
   ],
   "source": [
    "np.concatenate( (a, b), axis = 1 ) # hstack( (a, b) )"
   ]
  },
  {
   "cell_type": "markdown",
   "id": "1ae9031d",
   "metadata": {},
   "source": [
    "- **column_stack(tup) : 열단위로 합침**\n",
    "- **row_stack(tup) : 행단위로 합침 == vstack(tup)**\n",
    "- **stack(tup, axis=0) : axis 속성에 따라 배열 합침 axis 음수차원 가능**"
   ]
  },
  {
   "cell_type": "code",
   "execution_count": 57,
   "id": "9768d7b2",
   "metadata": {},
   "outputs": [
    {
     "data": {
      "text/plain": [
       "array([[1, 4, 7],\n",
       "       [2, 5, 8],\n",
       "       [3, 6, 9]])"
      ]
     },
     "execution_count": 57,
     "metadata": {},
     "output_type": "execute_result"
    }
   ],
   "source": [
    "a = np.array([1,2,3])\n",
    "b = np.array([4,5,6])\n",
    "c = np.array([7,8,9])\n",
    "np.column_stack( (a, b, c))"
   ]
  },
  {
   "cell_type": "code",
   "execution_count": 58,
   "id": "12c00559",
   "metadata": {},
   "outputs": [
    {
     "data": {
      "text/plain": [
       "(array([[ 0,  1,  2,  3],\n",
       "        [ 4,  5,  6,  7],\n",
       "        [ 8,  9, 10, 11]]),\n",
       " array([[12, 13, 14, 15],\n",
       "        [16, 17, 18, 19],\n",
       "        [20, 21, 22, 23]]))"
      ]
     },
     "execution_count": 58,
     "metadata": {},
     "output_type": "execute_result"
    }
   ],
   "source": [
    "c = np.arange(24).reshape(2, 3, 4)\n",
    "a, b = c[0], c[1]\n",
    "a, b"
   ]
  },
  {
   "cell_type": "code",
   "execution_count": 59,
   "id": "19b857fc",
   "metadata": {},
   "outputs": [
    {
     "data": {
      "text/plain": [
       "array([[[ 0,  1,  2,  3],\n",
       "        [ 4,  5,  6,  7],\n",
       "        [ 8,  9, 10, 11]],\n",
       "\n",
       "       [[12, 13, 14, 15],\n",
       "        [16, 17, 18, 19],\n",
       "        [20, 21, 22, 23]]])"
      ]
     },
     "execution_count": 59,
     "metadata": {},
     "output_type": "execute_result"
    }
   ],
   "source": [
    "np.stack( (a,b), axis=0 ) # 0면 a, 1면 b"
   ]
  },
  {
   "cell_type": "code",
   "execution_count": 60,
   "id": "c4a1af46",
   "metadata": {},
   "outputs": [
    {
     "data": {
      "text/plain": [
       "array([[[ 0,  1,  2,  3],\n",
       "        [12, 13, 14, 15]],\n",
       "\n",
       "       [[ 4,  5,  6,  7],\n",
       "        [16, 17, 18, 19]],\n",
       "\n",
       "       [[ 8,  9, 10, 11],\n",
       "        [20, 21, 22, 23]]])"
      ]
     },
     "execution_count": 60,
     "metadata": {},
     "output_type": "execute_result"
    }
   ],
   "source": [
    "np.stack( (a,b), axis=1) # 행(1축)끼리 합쳐서 면을 이룸 "
   ]
  },
  {
   "cell_type": "code",
   "execution_count": 61,
   "id": "547de1d1",
   "metadata": {},
   "outputs": [
    {
     "data": {
      "text/plain": [
       "array([[[ 0, 12],\n",
       "        [ 1, 13],\n",
       "        [ 2, 14],\n",
       "        [ 3, 15]],\n",
       "\n",
       "       [[ 4, 16],\n",
       "        [ 5, 17],\n",
       "        [ 6, 18],\n",
       "        [ 7, 19]],\n",
       "\n",
       "       [[ 8, 20],\n",
       "        [ 9, 21],\n",
       "        [10, 22],\n",
       "        [11, 23]]])"
      ]
     },
     "execution_count": 61,
     "metadata": {},
     "output_type": "execute_result"
    }
   ],
   "source": [
    "np.stack( (a,b), axis=-1) # a의 행과 b의 행을 열로 합쳐서 면을 이룸"
   ]
  },
  {
   "cell_type": "markdown",
   "id": "b366a4f9",
   "metadata": {},
   "source": [
    "## 3.3 r_, c_"
   ]
  },
  {
   "cell_type": "code",
   "execution_count": 245,
   "id": "8dc5d254",
   "metadata": {},
   "outputs": [
    {
     "data": {
      "text/plain": [
       "array([ 1,  2,  3,  4,  5,  6,  7,  8,  9, 10, 11, 12])"
      ]
     },
     "execution_count": 245,
     "metadata": {},
     "output_type": "execute_result"
    }
   ],
   "source": [
    "a = np.array([1,2,3,4])\n",
    "b = np.array([5,6,7,8])\n",
    "c = np.array([9,10,11,12])\n",
    "np.r_[a,b,c]"
   ]
  },
  {
   "cell_type": "code",
   "execution_count": 246,
   "id": "9341f829",
   "metadata": {},
   "outputs": [
    {
     "data": {
      "text/plain": [
       "array([[ 1,  2,  3,  4],\n",
       "       [ 5,  6,  7,  8],\n",
       "       [ 9, 10, 11, 12]])"
      ]
     },
     "execution_count": 246,
     "metadata": {},
     "output_type": "execute_result"
    }
   ],
   "source": [
    "np.r_[[a],[b],[c]]"
   ]
  },
  {
   "cell_type": "code",
   "execution_count": 247,
   "id": "86b3097c",
   "metadata": {},
   "outputs": [
    {
     "data": {
      "text/plain": [
       "array([[ 1,  5,  9],\n",
       "       [ 2,  6, 10],\n",
       "       [ 3,  7, 11],\n",
       "       [ 4,  8, 12]])"
      ]
     },
     "execution_count": 247,
     "metadata": {},
     "output_type": "execute_result"
    }
   ],
   "source": [
    "np.c_[a,b,c] # 컬럼 단위로 쌓기"
   ]
  },
  {
   "cell_type": "code",
   "execution_count": 249,
   "id": "caced0b5",
   "metadata": {},
   "outputs": [
    {
     "data": {
      "text/plain": [
       "array([[[  1,   5],\n",
       "        [  2,   6],\n",
       "        [  3,   7],\n",
       "        [  4,   8]],\n",
       "\n",
       "       [[ 10,  50],\n",
       "        [ 20,  60],\n",
       "        [ 30,  70],\n",
       "        [ 40,  80]],\n",
       "\n",
       "       [[100, 500],\n",
       "        [200, 600],\n",
       "        [300, 700],\n",
       "        [400, 800]]])"
      ]
     },
     "execution_count": 249,
     "metadata": {},
     "output_type": "execute_result"
    }
   ],
   "source": [
    "a = [[1,2,3,4], [10,20,30,40], [100,200,300,400]]\n",
    "b = [[5,6,7,8], [50,60,70,80], [500,600,700,800]]\n",
    "np.stack( (a,b), axis=-1)"
   ]
  },
  {
   "cell_type": "markdown",
   "id": "2e03336f",
   "metadata": {},
   "source": [
    "## 3.4 배열 분리하는 함수\n",
    "- **vsplit(ary, 정수나 벡터) : 첫번째 축을 따라 분할**\n",
    "- **hsplit(ary, 정수나 벡터) : 두번째 축을 따라 분할**\n",
    "- **dsplit(ary, 정수나 벡터) : depth따라 나눔(3차원 이상에서만 동작)**\n",
    "    - 정수 n : n개 분리\n",
    "    - [n] : n번째 index를 기점으로 분리\n",
    "    - [m, n] : m번째, n번째 인덱스를 기점으로 분리"
   ]
  },
  {
   "cell_type": "code",
   "execution_count": 250,
   "id": "6ccb952c",
   "metadata": {},
   "outputs": [
    {
     "data": {
      "text/plain": [
       "array([[ 0,  1,  2,  3],\n",
       "       [ 4,  5,  6,  7],\n",
       "       [ 8,  9, 10, 11]])"
      ]
     },
     "execution_count": 250,
     "metadata": {},
     "output_type": "execute_result"
    }
   ],
   "source": [
    "a = np.arange(12).reshape(3, 4)\n",
    "a"
   ]
  },
  {
   "cell_type": "code",
   "execution_count": 257,
   "id": "4db93911",
   "metadata": {
    "scrolled": true
   },
   "outputs": [
    {
     "data": {
      "text/plain": [
       "[array([[0, 1, 2, 3]]), array([[4, 5, 6, 7]]), array([[ 8,  9, 10, 11]])]"
      ]
     },
     "execution_count": 257,
     "metadata": {},
     "output_type": "execute_result"
    }
   ],
   "source": [
    "a_vsplit = np.vsplit(a, 3)\n",
    "a_vsplit"
   ]
  },
  {
   "cell_type": "code",
   "execution_count": 260,
   "id": "9f8e1100",
   "metadata": {},
   "outputs": [
    {
     "data": {
      "text/plain": [
       "[array([[0, 1, 2, 3],\n",
       "        [4, 5, 6, 7]]),\n",
       " array([[ 8,  9, 10, 11]])]"
      ]
     },
     "execution_count": 260,
     "metadata": {},
     "output_type": "execute_result"
    }
   ],
   "source": [
    "a_vsplit = np.vsplit(a, [2]) # [2] : 2번 인덱스를 기점으로 분리\n",
    "a_vsplit"
   ]
  },
  {
   "cell_type": "code",
   "execution_count": 271,
   "id": "2f3d9c4d",
   "metadata": {},
   "outputs": [
    {
     "data": {
      "text/plain": [
       "[array([[0, 1],\n",
       "        [4, 5],\n",
       "        [8, 9]]),\n",
       " array([[ 2,  3],\n",
       "        [ 6,  7],\n",
       "        [10, 11]])]"
      ]
     },
     "execution_count": 271,
     "metadata": {},
     "output_type": "execute_result"
    }
   ],
   "source": [
    "np.hsplit(a, 2)"
   ]
  },
  {
   "cell_type": "code",
   "execution_count": 270,
   "id": "b4df14a1",
   "metadata": {},
   "outputs": [
    {
     "data": {
      "text/plain": [
       "[array([[0],\n",
       "        [4],\n",
       "        [8]]),\n",
       " array([[ 1,  2],\n",
       "        [ 5,  6],\n",
       "        [ 9, 10]]),\n",
       " array([[ 3],\n",
       "        [ 7],\n",
       "        [11]])]"
      ]
     },
     "execution_count": 270,
     "metadata": {},
     "output_type": "execute_result"
    }
   ],
   "source": [
    "np.hsplit(a, [1, 3]) # 분리될 인덱스 기점"
   ]
  },
  {
   "cell_type": "markdown",
   "id": "6e335dfe",
   "metadata": {},
   "source": [
    "- **split(ary, 개수나 인덱스벡터, axis)**\n",
    "    - axis = 0 : vsplit() 동일\n",
    "    - axis = 1 : hsplit() 동일\n",
    "    - axis = 2 : 3차원 이상에서만 동작 dsplit() 동일\n",
    "- **array_split(ary, 개수나 인덱스벡터, axis)**\n",
    "    - split과의 차이점은 나눠지지 않은 정수로도 사용 가능\n"
   ]
  },
  {
   "cell_type": "code",
   "execution_count": 273,
   "id": "b58a5e03",
   "metadata": {},
   "outputs": [
    {
     "data": {
      "text/plain": [
       "array([[ 0,  1,  2,  3,  4,  5,  6,  7,  8,  9],\n",
       "       [10, 11, 12, 13, 14, 15, 16, 17, 18, 19]])"
      ]
     },
     "execution_count": 273,
     "metadata": {},
     "output_type": "execute_result"
    }
   ],
   "source": [
    "a = np.arange(20).reshape(2, 10)\n",
    "a"
   ]
  },
  {
   "cell_type": "code",
   "execution_count": 274,
   "id": "3dc00903",
   "metadata": {},
   "outputs": [
    {
     "data": {
      "text/plain": [
       "[array([[0, 1, 2, 3, 4, 5, 6, 7, 8, 9]]),\n",
       " array([[10, 11, 12, 13, 14, 15, 16, 17, 18, 19]])]"
      ]
     },
     "execution_count": 274,
     "metadata": {},
     "output_type": "execute_result"
    }
   ],
   "source": [
    "np.split(a, 2, axis=0) # 행분리"
   ]
  },
  {
   "cell_type": "code",
   "execution_count": 275,
   "id": "6fd04a6a",
   "metadata": {},
   "outputs": [
    {
     "data": {
      "text/plain": [
       "[array([[ 0,  1,  2,  3,  4],\n",
       "        [10, 11, 12, 13, 14]]),\n",
       " array([[ 5,  6,  7,  8,  9],\n",
       "        [15, 16, 17, 18, 19]])]"
      ]
     },
     "execution_count": 275,
     "metadata": {},
     "output_type": "execute_result"
    }
   ],
   "source": [
    "np.split(a, 2, axis=1) # 열분리"
   ]
  },
  {
   "cell_type": "code",
   "execution_count": 279,
   "id": "1d7b7239",
   "metadata": {},
   "outputs": [
    {
     "data": {
      "text/plain": [
       "[array([[ 0,  1,  2],\n",
       "        [10, 11, 12]]),\n",
       " array([[ 3,  4,  5],\n",
       "        [13, 14, 15]]),\n",
       " array([[ 6,  7],\n",
       "        [16, 17]]),\n",
       " array([[ 8,  9],\n",
       "        [18, 19]])]"
      ]
     },
     "execution_count": 279,
     "metadata": {},
     "output_type": "execute_result"
    }
   ],
   "source": [
    "# np.split(a, 3, axis=1) # 열분리\n",
    "np.array_split(a, 3, axis=1)"
   ]
  },
  {
   "cell_type": "code",
   "execution_count": null,
   "id": "3c7e1e9f",
   "metadata": {},
   "outputs": [],
   "source": []
  },
  {
   "cell_type": "code",
   "execution_count": null,
   "id": "a932b6f1",
   "metadata": {},
   "outputs": [],
   "source": []
  },
  {
   "cell_type": "code",
   "execution_count": null,
   "id": "612c9041",
   "metadata": {},
   "outputs": [],
   "source": []
  },
  {
   "cell_type": "code",
   "execution_count": null,
   "id": "03a1c26e",
   "metadata": {},
   "outputs": [],
   "source": []
  }
 ],
 "metadata": {
  "kernelspec": {
   "display_name": "Python 3 (ipykernel)",
   "language": "python",
   "name": "python3"
  },
  "language_info": {
   "codemirror_mode": {
    "name": "ipython",
    "version": 3
   },
   "file_extension": ".py",
   "mimetype": "text/x-python",
   "name": "python",
   "nbconvert_exporter": "python",
   "pygments_lexer": "ipython3",
   "version": "3.10.9"
  },
  "toc": {
   "base_numbering": 1,
   "nav_menu": {},
   "number_sections": false,
   "sideBar": true,
   "skip_h1_title": false,
   "title_cell": "Table of Contents",
   "title_sidebar": "Contents",
   "toc_cell": false,
   "toc_position": {
    "height": "calc(100% - 180px)",
    "left": "10px",
    "top": "150px",
    "width": "165px"
   },
   "toc_section_display": true,
   "toc_window_display": true
  }
 },
 "nbformat": 4,
 "nbformat_minor": 5
}
