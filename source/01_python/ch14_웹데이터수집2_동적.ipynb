{
 "cells": [
  {
   "cell_type": "code",
   "execution_count": 1,
   "id": "c1a8f7ca",
   "metadata": {},
   "outputs": [
    {
     "data": {
      "text/html": [
       "\n",
       "<style>\n",
       "div.container{width:86% !important;}\n",
       "div.cell.code_cell.renderefd{width:100%;}\n",
       "div.CodeMirror {font-family:Consolas; font-size:15pt;}\n",
       "div.output {font-size:15pt; font-weight:bold;}\n",
       "div.input {font-family:Consolas; font-size:15pt;}\n",
       "div.prompt {min-width:70px;}\n",
       "div#toc-wrapper{padding-top:120px;}\n",
       "div.text_cell_render ul li{font-size:12pt;padding:5px;}\n",
       "table.dataframe{font-size:15px;}\n",
       "</style>\n"
      ],
      "text/plain": [
       "<IPython.core.display.HTML object>"
      ]
     },
     "metadata": {},
     "output_type": "display_data"
    }
   ],
   "source": [
    "from IPython.display import display, HTML\n",
    "display(HTML(\"\"\"\n",
    "<style>\n",
    "div.container{width:86% !important;}\n",
    "div.cell.code_cell.renderefd{width:100%;}\n",
    "div.CodeMirror {font-family:Consolas; font-size:15pt;}\n",
    "div.output {font-size:15pt; font-weight:bold;}\n",
    "div.input {font-family:Consolas; font-size:15pt;}\n",
    "div.prompt {min-width:70px;}\n",
    "div#toc-wrapper{padding-top:120px;}\n",
    "div.text_cell_render ul li{font-size:12pt;padding:5px;}\n",
    "table.dataframe{font-size:15px;}\n",
    "</style>\n",
    "\"\"\"))"
   ]
  },
  {
   "cell_type": "markdown",
   "id": "02e24e04",
   "metadata": {},
   "source": [
    "<b><font color=\"red\" size=\"6\">ch14. 웹데이터 수집</font></b>\n",
    "## 3절. 동적 웹데이터 수집\n",
    "```\n",
    "pip install Selenium\n",
    "```\n",
    "Docs : https://www.selenium.dev/documentation/<br>"
   ]
  },
  {
   "cell_type": "code",
   "execution_count": 2,
   "id": "e4b8839c",
   "metadata": {},
   "outputs": [],
   "source": [
    "from selenium import webdriver\n",
    "from selenium.webdriver.common.by import By\n",
    "import time\n",
    "driver = webdriver.Chrome()\n",
    "driver.get(\"http://www.python.org\")\n",
    "elem = driver.find_element(By.NAME, 'q')\n",
    "elem.clear()\n",
    "elem.send_keys('pycon')\n",
    "from selenium.webdriver.common.keys import Keys\n",
    "elem.send_keys(Keys.RETURN) # enter 효과랑 같음."
   ]
  },
  {
   "cell_type": "code",
   "execution_count": 52,
   "id": "35a4648b",
   "metadata": {},
   "outputs": [],
   "source": [
    "result_list = driver.find_elements(By.CSS_SELECTOR, 'li > h3 > a')\n",
    "for result in result_list:\n",
    "    print(\"{} - {}\".format(result.text, result.get_attribute(\"href\")))"
   ]
  },
  {
   "cell_type": "code",
   "execution_count": 53,
   "id": "66d3930f",
   "metadata": {},
   "outputs": [],
   "source": [
    "from bs4 import BeautifulSoup\n",
    "soup = BeautifulSoup(driver.page_source, 'html.parser')\n",
    "result_list = soup.select('li > h3 > a')\n",
    "for result in result_list:\n",
    "    print(\"{}-{}\".format(result.text, result.attrs['href']))"
   ]
  },
  {
   "cell_type": "code",
   "execution_count": 54,
   "id": "5738ffa1",
   "metadata": {},
   "outputs": [
    {
     "name": "stdout",
     "output_type": "stream",
     "text": [
      "현재 주소 : https://www.python.org/search/?q=pycon&submit=\n",
      "parse_url : ParseResult(scheme='https', netloc='www.python.org', path='/search/', params='', query='q=pycon&submit=', fragment='')\n",
      "https://www.python.org\n"
     ]
    }
   ],
   "source": [
    "# 셀리니움을 통해 접근한 현재 url\n",
    "from urllib.parse import urlparse\n",
    "current_url = driver.current_url\n",
    "print('현재 주소 :', current_url)\n",
    "parse_url = urlparse(current_url)\n",
    "print('parse_url :', parse_url)\n",
    "domain = f'{parse_url.scheme}://{parse_url.netloc}'\n",
    "print(domain)"
   ]
  },
  {
   "cell_type": "code",
   "execution_count": 55,
   "id": "0e4bf0d2",
   "metadata": {},
   "outputs": [
    {
     "name": "stdout",
     "output_type": "stream",
     "text": [
      "PSF PyCon Trademark Usage Policy - https://www.python.org/psf/trademarks/pycon\n",
      "PyCon Italia 2016 (PyCon Sette) - https://www.python.org/events/python-events/378/\n",
      "PyCon Australia 2013 - https://www.python.org/events/python-events/57/\n",
      "PyCon AU 2019 - https://www.python.org/events/python-events/776/\n",
      "PyCon Australia 2014 - https://www.python.org/events/python-events/10/\n",
      "PyCon Ireland 2012 - https://www.python.org/events/python-events/76/\n",
      "PyCon Ireland 2016 - https://www.python.org/events/python-events/429/\n",
      "PyCon Ireland 2022 - https://www.python.org/events/python-events/1320/\n",
      "PyCon Australia 2014 - https://www.python.org/events/python-events/1447/\n",
      "PyCon Ireland 2024 - https://www.python.org/events/python-events/1862/\n",
      "PyCon APAC 2025 - https://www.python.org/events/python-events/1879/\n",
      "PyCon AU 2018 - https://www.python.org/events/python-events/696/\n",
      "PyCon APAC 2022 - https://www.python.org/events/python-events/1216/\n",
      "PyCon PH 2024 - https://www.python.org/events/python-events/1661/\n",
      "PyCon Ireland 2023 - https://www.python.org/events/python-events/1568/\n",
      "PyCon PL 2014 - https://www.python.org/events/python-events/191/\n",
      "PyCon MY 2015 - https://www.python.org/events/python-events/313/\n",
      "PyCon Ireland 2015 - https://www.python.org/events/python-events/333/\n",
      "PyCon AU 2015 - https://www.python.org/events/python-events/273/\n",
      "PyCon Australia 2016 - https://www.python.org/events/python-events/357/\n"
     ]
    }
   ],
   "source": [
    "from bs4 import BeautifulSoup\n",
    "soup = BeautifulSoup(driver.page_source, \"html.parser\")\n",
    "result_list = soup.select('li > h3 > a')\n",
    "for result in result_list:\n",
    "    print(\"{} - {}\".format(result.text, domain+result.attrs['href']))"
   ]
  },
  {
   "cell_type": "code",
   "execution_count": 56,
   "id": "34412cbf",
   "metadata": {},
   "outputs": [],
   "source": [
    "driver.close() # 브라우저 종료"
   ]
  },
  {
   "cell_type": "markdown",
   "id": "8e1e8fe8",
   "metadata": {},
   "source": [
    "## 3.2 예제\n",
    "### 1) 다음 뉴스 검색"
   ]
  },
  {
   "cell_type": "code",
   "execution_count": 5,
   "id": "759253da",
   "metadata": {},
   "outputs": [
    {
     "name": "stdout",
     "output_type": "stream",
     "text": [
      "daum에 검색할 단어를 입력하세요.비트코인\n",
      "‘클릭 한번에 150억원’ 비트코인 최고가 경신에... 암호화폐 부자 노린 강력범죄 급증 http://v.daum.net/v/20250530134417903\n",
      "가격 하락에도 기관 자금은 ‘역주행’···비트코인 ETF에 42억 달러 유입 http://v.daum.net/v/20250530140605584\n",
      "\"조정 왔나\"…비트코인, 기관 수요에도 1억4700만원대로 '털썩' http://v.daum.net/v/20250530094255957\n",
      "[비트코인 2025]대세 떠오른 비트코인 비축기업들 http://v.daum.net/v/20250530150900894\n",
      "[비트코인 2025] 테더 CEO “올해 말 세계 최대 비트코인 채굴기업 될 것” http://v.daum.net/v/20250530090905481\n",
      "[비트코인 2025]세계최대 스테이블코인 테더 CEO “비트코인까지 쓸어담을 것” http://v.daum.net/v/20250530151200002\n",
      "떨어지는 비트코인 http://v.daum.net/v/20250530103117094\n",
      "하락세 탄 비트코인 http://v.daum.net/v/20250530103107086\n",
      "[비즈 나우] 美, 1경 '은퇴자금' 비트코인 투자 빗장 풀었다 http://v.daum.net/v/20250530074812188\n",
      "\"지금 들어갈까\"...천장 뚫던 비트코인 '주춤' http://v.daum.net/v/20250530080346539\n"
     ]
    }
   ],
   "source": [
    "from selenium import webdriver\n",
    "from selenium.webdriver.common.by import By\n",
    "from selenium.webdriver.common.keys import Keys\n",
    "import time\n",
    "query = input(\"daum에 검색할 단어를 입력하세요.\")\n",
    "driver = webdriver.Chrome()\n",
    "driver.get('https://www.daum.net/')\n",
    "time.sleep(1) # 화면 전환시 잠시 정지.\n",
    "# input 태그를 click\n",
    "driver.find_element(By.NAME, 'q').click()\n",
    "driver.find_element(By.CSS_SELECTOR, 'input[type=\"text\"]').send_keys(query)\n",
    "driver.find_element(By.CLASS_NAME, 'btn_ksearch').click()\n",
    "time.sleep(1) # 화면 전환시 잠시 정지.\n",
    "# 뉴스탭 클릭 : ul.list_tab > li\n",
    "# driver.find_elements(By.CSS_SELECTOR, 'ul.list_tab > li')[3].click()\n",
    "driver.find_element(By.LINK_TEXT, '뉴스').click()\n",
    "time.sleep(1) # 화면 전환시 잠시 정지\n",
    "news_list = []\n",
    "elems = driver.find_elements(By.CSS_SELECTOR, 'div.item-title > strong.tit-g.clamp-g > a')\n",
    "for elem in elems :\n",
    "    title = elem.text\n",
    "    link = elem.get_attribute('href')\n",
    "    news_list.append([title, link])\n",
    "    print(title, link)"
   ]
  },
  {
   "cell_type": "code",
   "execution_count": 7,
   "id": "4e4e4275",
   "metadata": {},
   "outputs": [],
   "source": [
    "# 2page로\n",
    "page_div = driver.find_element(By.CSS_SELECTOR, 'div.inner_paging')\n",
    "# print(page_div.text)\n",
    "next_page = page_div.find_element(By.LINK_TEXT, '2')\n",
    "next_page.click()"
   ]
  },
  {
   "cell_type": "code",
   "execution_count": null,
   "id": "fd6d03fa",
   "metadata": {},
   "outputs": [],
   "source": [
    "#### 페이징 처리\n",
    "- 다음 뉴스 검색 : 원하는 단어를 원하는 page수 만큼"
   ]
  },
  {
   "cell_type": "code",
   "execution_count": 13,
   "id": "7673ddd5",
   "metadata": {},
   "outputs": [
    {
     "name": "stdout",
     "output_type": "stream",
     "text": [
      "daum에 검색할 단어를 입력하세요.청바지\n",
      "“추앙받을 만 하네”… 김지원, 셔츠에 청바지만 입어도 공항 ‘정지’ http://v.daum.net/v/20250526182411395\n",
      "이민정, 매장 빌려 폭풍 쇼핑 \"10년 전 샀던 청바지는 응급실\"(MJ) http://v.daum.net/v/20250527191015309\n",
      "흰 티셔츠에 청바지 정석대로 입는 법 http://v.daum.net/v/20250527185425864\n",
      "이민정, 매장 통째로 빌려 청바지 쇼핑…♥이병헌도 놀랄 핏 http://v.daum.net/v/20250527185535885\n",
      "\"청바지가 잘 어울리는 남자\" 재해석…브브걸 감성 리메이크 '희망사항' 발매 http://v.daum.net/v/20250529180842220\n",
      "'의사 그만둔' 고윤정, 흰 티+청바지...\"정석 미녀\" [★해시태그] http://v.daum.net/v/20250522182007490\n",
      "이시영처럼 다리 길어보이고 싶어서 청바지 분석함 [입스타그램] http://v.daum.net/v/20250519172231644\n",
      "\"청렴이 최고\" … 창원특례시 성산구 문화위생과, '청바지 데이' 추진 http://v.daum.net/v/20250511091428626\n",
      "패셔니스타 김지원, 청바지가 어울리는 여자랍니다! [포토] http://v.daum.net/v/20250518220139191\n",
      "박병은 \"류준하로 3개월 활동\"…청바지 모델 시절 언급 http://v.daum.net/v/20250519190323957\n",
      "현재 1페이지 데이터 수집 중입니다 ~ ~ \n",
      "60대인데요, 청바지를 다시 입었습니다 http://v.daum.net/v/20250430145405823\n",
      "'45kg' 윤은혜, 청바지가 헐렁…'40세' 비현실적 자기관리 끝판왕 http://v.daum.net/v/20250513174826265\n",
      "엔믹스 릴리, 돋보이는 청바지 각선미 [포토엔HD] http://v.daum.net/v/20250530113737494\n",
      "아이브 안유진,'러블리한 청바지 핏' [사진] http://v.daum.net/v/20250530112351757\n",
      "서현, '4000m' 알프스 만년설 배경으로 '찰칵'…후드티+청바지로도 빛나는 미모 http://v.daum.net/v/20250519055004613\n",
      "네포 베이비, 소피아 리치 그레인지가 청바지를 입는 방법 http://v.daum.net/v/20250509182459873\n",
      "손담비, 출산 한 달도 안 됐는데 외출…청바지 폼 애엄마 맞나 http://v.daum.net/v/20250506171902866\n",
      "173㎝ 장원영 맵시 美쳤네, 청바지 하나 입었을 뿐인데 [스타화보] http://v.daum.net/v/20250522115656470\n",
      "[리빙포인트] 무릎 튀어나온 청바지엔 소주 http://v.daum.net/v/20250521002847303\n",
      "48세 김희선, 흰 셔츠+청바지 기본템 입었을 뿐인데‥미모 레전드 http://v.daum.net/v/20250511134648392\n",
      "현재 2페이지 데이터 수집 중입니다 ~ ~ \n",
      "윤은혜, 40세 맞아?…청바지도 헐렁한 극세사 몸매+동안 미모 http://v.daum.net/v/20250515063005066\n",
      "“브래지어에 청바지만”…20년만에 속옷 모델 된 추성훈 아내 야노 시호 ‘파격’ http://v.daum.net/v/20250515195400237\n",
      "‘청바지’ 입은 안철수 ‘학식’ 이준석 쫓아갔지만 http://v.daum.net/v/20250521160401791\n",
      "손담비, 출산 한달만 살 쏙 빼고 청바지까지 성공! 41세 출산 안 믿기네 http://v.daum.net/v/20250507150816172\n",
      "손담비, 출산한지 한 달도 안 됐는데…완벽 청바지 핏에 '감탄' http://v.daum.net/v/20250506162501650\n",
      "수영, ♥정경호가 13년째 반한 청바지핏‥시구 여신 된 ‘소시’ 대표 각선미 http://v.daum.net/v/20250512104326967\n",
      "\"이염 걱정 끝\"…청바지도 알아서 찬물 세탁, 삼성 세탁건조기 승부수 http://v.daum.net/v/20250522133141787\n",
      "서예지, 청바지에 티셔츠만 입어도 남달라 '편안하면서도 고급스러운 공항패션' http://v.daum.net/v/20250507173140715\n",
      "기본 청바지 하나로 핀터레스트 출근 룩 완성하는 법 http://v.daum.net/v/20250429110538414\n",
      "길은혜,'청바지 핏 뽐내며 입장' [사진] http://v.daum.net/v/20250523182738772\n",
      "현재 3페이지 데이터 수집 중입니다 ~ ~ \n"
     ]
    }
   ],
   "source": [
    "from selenium import webdriver\n",
    "from selenium.webdriver.common.by import By\n",
    "from selenium.webdriver.common.keys import Keys\n",
    "import time\n",
    "query = input(\"daum에 검색할 단어를 입력하세요.\")\n",
    "driver = webdriver.Chrome()\n",
    "driver.get('https://www.daum.net/')\n",
    "time.sleep(1) # 화면 전환시 잠시 정지.\n",
    "# input 태그를 click\n",
    "driver.find_element(By.NAME, 'q').click()\n",
    "driver.find_element(By.CSS_SELECTOR, 'input[type=\"text\"]').send_keys(query)\n",
    "driver.find_element(By.CLASS_NAME, 'btn_ksearch').click()\n",
    "time.sleep(1) # 화면 전환시 잠시 정지.\n",
    "# 뉴스탭 클릭 : ul.list_tab > li\n",
    "# driver.find_elements(By.CSS_SELECTOR, 'ul.list_tab > li')[3].click()\n",
    "driver.find_element(By.LINK_TEXT, '뉴스').click()\n",
    "time.sleep(1) # 화면 전환시 잠시 정지\n",
    "news_list = []\n",
    "pages = 3\n",
    "for page in range(1, pages+1):\n",
    "    elems = driver.find_elements(By.CSS_SELECTOR, 'div.item-title > strong.tit-g.clamp-g > a')\n",
    "    for elem in elems :\n",
    "        title = elem.text\n",
    "        link = elem.get_attribute('href')\n",
    "        news_list.append([title, link])\n",
    "        print(title, link)\n",
    "    # 다음page로\n",
    "    page_div = driver.find_element(By.CSS_SELECTOR, 'div.inner_paging')\n",
    "    # print(page_div.text)\n",
    "    next_page = page_div.find_element(By.LINK_TEXT, str(page+1))\n",
    "    next_page.click()\n",
    "    time.sleep(1.5)\n",
    "    print(f'현재 {page}페이지 데이터 수집 중입니다 ~ ~ ')\n",
    "driver.close()\n",
    "import pandas as pd\n",
    "df = pd.DataFrame(news_list, columns=['title', 'link'])\n",
    "df.to_csv('data/ch14_daum.csv', index=False)"
   ]
  },
  {
   "cell_type": "markdown",
   "id": "cc5aeb71",
   "metadata": {},
   "source": [
    "### 2) 맞춤법 검사기\n",
    "- 네이버 맞춤법 검사기 이용"
   ]
  },
  {
   "cell_type": "code",
   "execution_count": 14,
   "id": "cd40a8f8",
   "metadata": {},
   "outputs": [],
   "source": [
    "f = open('data/ch14_맞춤법전.txt', 'r', encoding='utf-8')\n",
    "text = f.read()\n",
    "f.close()"
   ]
  },
  {
   "cell_type": "code",
   "execution_count": 9,
   "id": "12d57055",
   "metadata": {},
   "outputs": [
    {
     "name": "stdout",
     "output_type": "stream",
     "text": [
      "총글자 수 : 2052\n",
      "223\n",
      "남은 text 1829\n",
      "248\n",
      "남은 text 1581\n",
      "232\n",
      "남은 text 1349\n",
      "259\n",
      "남은 text 1090\n",
      "249\n",
      "남은 text 841\n",
      "190\n",
      "남은 text 651\n",
      "166\n",
      "남은 text 485\n",
      "181\n",
      "남은 text 304\n",
      "297\n",
      "남은 text 7\n"
     ]
    },
    {
     "data": {
      "text/plain": [
       "['안녕하십니까? 반갑',\n",
       " '\\n가장 먼저 떠오르',\n",
       " '\\n다음으로 중요한 ',\n",
       " '\\n성장과 배움 또한',\n",
       " '\\n신체적, 정신적 ',\n",
       " '\\n살다 보면 예상치',\n",
       " '\\n현재를 감사하고 ',\n",
       " '\\n마지막으로, 자신',\n",
       " '\\n결국 좋은 인생은',\n",
       " '\\n감사합니다.']"
      ]
     },
     "execution_count": 9,
     "metadata": {},
     "output_type": "execute_result"
    }
   ],
   "source": [
    "# ch14_맞춤법전.txt를 300자이내로 자르기\n",
    "with open('data/ch14_맞춤법전.txt', 'r', encoding='utf-8') as f:\n",
    "    text = f.read()\n",
    "print('총글자 수 :',len(text))\n",
    "ready_list = [] # 맞춤법 검사할 text 내용(300이자 이내로 list)\n",
    "while(len(text) > 300):\n",
    "    temp = text[:300]\n",
    "    new_line_char_index = temp.rfind('\\n')\n",
    "    print(new_line_char_index)\n",
    "    ready_list.append(text[:new_line_char_index])\n",
    "    text = text[new_line_char_index:]\n",
    "    print('남은 text', len(text))\n",
    "ready_list.append(text)\n",
    "[ready[:10] for ready in ready_list]"
   ]
  },
  {
   "cell_type": "code",
   "execution_count": 31,
   "id": "d61a5a35",
   "metadata": {},
   "outputs": [],
   "source": [
    "from selenium import webdriver\n",
    "from selenium.webdriver.common.by import By\n",
    "from selenium.webdriver.common.keys import Keys\n",
    "from bs4 import BeautifulSoup\n",
    "import time\n",
    "driver = webdriver.Chrome()\n",
    "time.sleep(0.5)\n",
    "\n",
    "driver.get('https://www.naver.com/')\n",
    "input_elem = driver.find_element(By.CSS_SELECTOR, 'input[name=\"query\"]')\n",
    "input_elem.send_keys('맞춤법 검사기')\n",
    "input_elem.send_keys(Keys.RETURN)\n",
    "time.sleep(0.5)\n",
    "\n",
    "result_list = \"\" # 맞춤법 검사 후 내용\n",
    "textarea = driver.find_element(By.CLASS_NAME, 'txt_gray') # class_name이 바뀌어도 해당 객체를 나타냄.\n",
    "for ready in ready_list :\n",
    "    time.sleep(2)\n",
    "    \n",
    "    textarea.send_keys(Keys.CONTROL, 'a') # ctrl + a\n",
    "    textarea.send_keys(ready)\n",
    "    \n",
    "    button = driver.find_element(By.CLASS_NAME, 'btn_check')\n",
    "    button.click()\n",
    "    time.sleep(2)\n",
    "    soup = BeautifulSoup(driver.page_source, 'html.parser')\n",
    "    result = soup.select_one('p._result_text.stand_txt').text\n",
    "    result_list += result + '\\n'\n",
    "driver.close()\n",
    "with open('data/ch14_맞춤법후.txt', 'w', encoding='utf-8') as f:\n",
    "    f.write(result_list)"
   ]
  },
  {
   "cell_type": "markdown",
   "id": "c8d739c0",
   "metadata": {},
   "source": [
    "### 3) 영어번역 자동화 프로그램 구현"
   ]
  },
  {
   "cell_type": "code",
   "execution_count": 60,
   "id": "a9fd987a",
   "metadata": {},
   "outputs": [
    {
     "name": "stdout",
     "output_type": "stream",
     "text": [
      "남은 글자수 1086\n",
      "남은 글자수 304\n"
     ]
    }
   ],
   "source": [
    "from selenium import webdriver\n",
    "from selenium.webdriver.common.by import By\n",
    "from selenium.webdriver.common.keys import Keys\n",
    "from bs4 import BeautifulSoup\n",
    "import time\n",
    "\n",
    "with open('data/ch14_맞춤법후.txt', 'r', encoding='utf-8') as f :\n",
    "    text_list = f.read()\n",
    "\n",
    "text_sep_list = [] # 1000자씩 문장 분리할 list\n",
    "while(len(text_list) > 1000):\n",
    "    temp = text_list[:1000]\n",
    "    new_line_char_index = temp.rfind('.') # 1000자 이내 마지막 문장 개행 인덱스\n",
    "    text_sep_list.append(text_list[:new_line_char_index]) \n",
    "    text_list = text_list[new_line_char_index:]\n",
    "    print('남은 글자수', len(text_list))\n",
    "text_sep_list.append(text_list)\n",
    "\n",
    "driver = webdriver.Chrome()\n",
    "driver.get('https://translate.kakao.com/')\n",
    "textarea = driver.find_element(By.ID, 'textareaWrite')\n",
    "result_list = \"\"\n",
    "# 반복문 시작\n",
    "for text_sep in text_sep_list:\n",
    "    time.sleep(1)\n",
    "    textarea.send_keys(Keys.CONTROL, 'a') # ctrl + a\n",
    "    textarea.send_keys(text_sep)\n",
    "    time.sleep(1)\n",
    "    button = driver.find_element(By.CLASS_NAME, \"btn_translate.on\")\n",
    "    button.click()\n",
    "    time.sleep(1)\n",
    "    \n",
    "#     soup = BeautifulSoup(driver.page_source, 'html.parser')\n",
    "#     result = soup.select_one(\"div.result_area.area_item.txt_eng.translate_many\").text\n",
    "    reuslt = driver.find_element(By.CSS_SELECTOR, 'div.result_area.area_item.txt_eng.translate_many').text\n",
    "    result_list += result + '\\n'\n",
    "driver.close()\n",
    "with open('data/ch14_korToEng.txt', 'w', encoding='utf-8') as f:\n",
    "    f.write(result_list)"
   ]
  },
  {
   "cell_type": "code",
   "execution_count": null,
   "id": "177509fb",
   "metadata": {},
   "outputs": [],
   "source": []
  }
 ],
 "metadata": {
  "kernelspec": {
   "display_name": "Python 3 (ipykernel)",
   "language": "python",
   "name": "python3"
  },
  "language_info": {
   "codemirror_mode": {
    "name": "ipython",
    "version": 3
   },
   "file_extension": ".py",
   "mimetype": "text/x-python",
   "name": "python",
   "nbconvert_exporter": "python",
   "pygments_lexer": "ipython3",
   "version": "3.10.9"
  },
  "toc": {
   "base_numbering": 1,
   "nav_menu": {},
   "number_sections": false,
   "sideBar": true,
   "skip_h1_title": false,
   "title_cell": "Table of Contents",
   "title_sidebar": "Contents",
   "toc_cell": false,
   "toc_position": {
    "height": "calc(100% - 180px)",
    "left": "10px",
    "top": "150px",
    "width": "238.6px"
   },
   "toc_section_display": true,
   "toc_window_display": true
  }
 },
 "nbformat": 4,
 "nbformat_minor": 5
}
