{
 "cells": [
  {
   "cell_type": "code",
   "execution_count": 2,
   "id": "104f6e54",
   "metadata": {},
   "outputs": [
    {
     "data": {
      "text/html": [
       "\n",
       "<style>\n",
       "div.container{width:86% !important;}\n",
       "div.cell.code_cell.rendered{width:100%;}\n",
       "div.CodeMirror {font-family:Consolas; font-size:15pt;}\n",
       "div.output {font-size:15pt; font-weight:bold;}\n",
       "div.input {font-family:Consolas; font-size:15pt;}\n",
       "div.prompt {min-width:70px;}\n",
       "div#toc-wrapper{padding-top:120px;}\n",
       "div.text_cell_render ul li{font-size:12pt;padding:5px;}\n",
       "table.dataframe{font-size:15px;}\n",
       "</style>\n"
      ],
      "text/plain": [
       "<IPython.core.display.HTML object>"
      ]
     },
     "metadata": {},
     "output_type": "display_data"
    }
   ],
   "source": [
    "from IPython.display import display, HTML\n",
    "display(HTML(\"\"\"\n",
    "<style>\n",
    "div.container{width:86% !important;}\n",
    "div.cell.code_cell.rendered{width:100%;}\n",
    "div.CodeMirror {font-family:Consolas; font-size:15pt;}\n",
    "div.output {font-size:15pt; font-weight:bold;}\n",
    "div.input {font-family:Consolas; font-size:15pt;}\n",
    "div.prompt {min-width:70px;}\n",
    "div#toc-wrapper{padding-top:120px;}\n",
    "div.text_cell_render ul li{font-size:12pt;padding:5px;}\n",
    "table.dataframe{font-size:15px;}\n",
    "</style>\n",
    "\"\"\"))"
   ]
  },
  {
   "cell_type": "markdown",
   "id": "5a1f8945",
   "metadata": {},
   "source": [
    "<font size=\"5\" color=\"red\">ch02 자료형과 연산자</font>\n",
    "# 1절 변수\n",
    "- 파이썬은 변수 선언을 위한 과정이 없다. 할당과 동시에 타입이 지정되고 값이 할당 됨.\n",
    "\n",
    "## 1.1 변수 할당\n",
    "- 할당연산자(=)를 이용해서 값을 할당하면 타입이 세팅\n",
    "- 파이썬에서의 모든 변수는 객체로 저장"
   ]
  },
  {
   "cell_type": "code",
   "execution_count": 117,
   "id": "9cd31b17",
   "metadata": {},
   "outputs": [
    {
     "name": "stdout",
     "output_type": "stream",
     "text": [
      "계산된 넓이는  78.5\n"
     ]
    }
   ],
   "source": [
    "r = 5\n",
    "area = 3.14 * r * r\n",
    "print(\"계산된 넓이는 \" ,area)"
   ]
  },
  {
   "cell_type": "code",
   "execution_count": 118,
   "id": "9599bd65",
   "metadata": {},
   "outputs": [
    {
     "name": "stdout",
     "output_type": "stream",
     "text": [
      "area = 78.53981633974483\n"
     ]
    }
   ],
   "source": [
    "import numpy as np\n",
    "area = np.pi * r * r\n",
    "print('area =', area)"
   ]
  },
  {
   "cell_type": "code",
   "execution_count": 119,
   "id": "5457b121",
   "metadata": {},
   "outputs": [
    {
     "data": {
      "text/plain": [
       "False"
      ]
     },
     "execution_count": 119,
     "metadata": {},
     "output_type": "execute_result"
    }
   ],
   "source": [
    "area.is_integer() # area가 integer 인지 여부 반환"
   ]
  },
  {
   "cell_type": "code",
   "execution_count": 120,
   "id": "98aaab23",
   "metadata": {
    "scrolled": true
   },
   "outputs": [
    {
     "name": "stdout",
     "output_type": "stream",
     "text": [
      "area의 주소 : 1583028350512\n",
      "area의 타입 : <class 'float'>\n"
     ]
    }
   ],
   "source": [
    "print('area의 주소 :', id(area)) #id(area) : area 변수의 주소값\n",
    "print('area의 타입 :', type(area)) \n"
   ]
  },
  {
   "cell_type": "code",
   "execution_count": 121,
   "id": "1e8a9731",
   "metadata": {},
   "outputs": [
    {
     "name": "stdout",
     "output_type": "stream",
     "text": [
      "area의 주소 : 1583001712496\n",
      "area의 타입 : <class 'float'>\n"
     ]
    }
   ],
   "source": [
    "area = 5.5\n",
    "print('area의 주소 :', id(area)) #id(area) : area 변수의 주소값\n",
    "print('area의 타입 :', type(area)) "
   ]
  },
  {
   "cell_type": "code",
   "execution_count": 122,
   "id": "7f07bdc7",
   "metadata": {},
   "outputs": [
    {
     "name": "stdout",
     "output_type": "stream",
     "text": [
      "area의 주소 : 1582886617616\n",
      "area의 타입 : <class 'int'>\n"
     ]
    }
   ],
   "source": [
    "area = 10\n",
    "print('area의 주소 :', id(area)) #id(area) : area 변수의 주소값\n",
    "print('area의 타입 :', type(area)) "
   ]
  },
  {
   "cell_type": "code",
   "execution_count": 123,
   "id": "9990c4f1",
   "metadata": {},
   "outputs": [],
   "source": [
    "area = \"파이썬\""
   ]
  },
  {
   "cell_type": "code",
   "execution_count": 124,
   "id": "20851593",
   "metadata": {},
   "outputs": [
    {
     "name": "stdout",
     "output_type": "stream",
     "text": [
      "area의 주소 : 1583028542448\n",
      "area의 타입 : <class 'str'>\n"
     ]
    }
   ],
   "source": [
    "print('area의 주소 :', id(area)) #id(area) : area 변수의 주소값\n",
    "print('area의 타입 :', type(area)) "
   ]
  },
  {
   "cell_type": "markdown",
   "id": "a204206b",
   "metadata": {},
   "source": [
    "## 1.2 변수 이름 규칙\n",
    "- 문자로 시작 ( 숫자 시작 불가)\n",
    "- 문자, 숫자, _로 변수명 작성\n",
    "- 함수명은 변수이름으로 가능하나 피한다. 써야한다면 int_식으로 _를 이용\n",
    "- 파이썬 예약어(for, ..)는 변수이름 사용 불가\n",
    "- 한글는 꼭 필요시에만 이용"
   ]
  },
  {
   "cell_type": "code",
   "execution_count": 125,
   "id": "78705181",
   "metadata": {},
   "outputs": [],
   "source": [
    "# member.name = \"홍길동\"\n",
    "member_name = \"홍길동\"\n",
    "memberName = \"홍길동\""
   ]
  },
  {
   "cell_type": "code",
   "execution_count": 126,
   "id": "2d495a0b",
   "metadata": {},
   "outputs": [
    {
     "name": "stdout",
     "output_type": "stream",
     "text": [
      "10\n"
     ]
    }
   ],
   "source": [
    "Print = 10 # 대문자로 시작한 변수, 함수명의 변수는 강력비추\n",
    "print(Print)"
   ]
  },
  {
   "cell_type": "code",
   "execution_count": 127,
   "id": "f5be2860",
   "metadata": {},
   "outputs": [
    {
     "data": {
      "text/plain": [
       "complex"
      ]
     },
     "execution_count": 127,
     "metadata": {},
     "output_type": "execute_result"
    }
   ],
   "source": [
    "# 파이썬에서의 숫자 : 정수, 실수, 복소수 (j)\n",
    "i = 3 + 3j # 복소수\n",
    "type(i)"
   ]
  },
  {
   "cell_type": "code",
   "execution_count": 128,
   "id": "ae1ea38d",
   "metadata": {},
   "outputs": [
    {
     "data": {
      "text/plain": [
       "True"
      ]
     },
     "execution_count": 128,
     "metadata": {},
     "output_type": "execute_result"
    }
   ],
   "source": [
    "isinstance(i, complex) # i변수(객체)가 complex 인지 여부"
   ]
  },
  {
   "cell_type": "markdown",
   "id": "4e26e899",
   "metadata": {},
   "source": [
    "## 1.3 도움말"
   ]
  },
  {
   "cell_type": "code",
   "execution_count": 129,
   "id": "ab59bf3f",
   "metadata": {},
   "outputs": [
    {
     "name": "stdout",
     "output_type": "stream",
     "text": [
      "Help on built-in function print in module builtins:\n",
      "\n",
      "print(...)\n",
      "    print(value, ..., sep=' ', end='\\n', file=sys.stdout, flush=False)\n",
      "    \n",
      "    Prints the values to a stream, or to sys.stdout by default.\n",
      "    Optional keyword arguments:\n",
      "    file:  a file-like object (stream); defaults to the current sys.stdout.\n",
      "    sep:   string inserted between values, default a space.\n",
      "    end:   string appended after the last value, default a newline.\n",
      "    flush: whether to forcibly flush the stream.\n",
      "\n"
     ]
    }
   ],
   "source": [
    "help(print)"
   ]
  },
  {
   "cell_type": "code",
   "execution_count": 130,
   "id": "3c671938",
   "metadata": {},
   "outputs": [
    {
     "name": "stdout",
     "output_type": "stream",
     "text": [
      "\n",
      "Welcome to Python 3.10's help utility!\n",
      "\n",
      "If this is your first time using Python, you should definitely check out\n",
      "the tutorial on the internet at https://docs.python.org/3.10/tutorial/.\n",
      "\n",
      "Enter the name of any module, keyword, or topic to get help on writing\n",
      "Python programs and using Python modules.  To quit this help utility and\n",
      "return to the interpreter, just type \"quit\".\n",
      "\n",
      "To get a list of available modules, keywords, symbols, or topics, type\n",
      "\"modules\", \"keywords\", \"symbols\", or \"topics\".  Each module also comes\n",
      "with a one-line summary of what it does; to list the modules whose name\n",
      "or summary contain a given string such as \"spam\", type \"modules spam\".\n",
      "\n",
      "help> ㅂ\n",
      "No Python documentation found for 'ㅂ'.\n",
      "Use help() to get the interactive help utility.\n",
      "Use help(str) for help on the str class.\n",
      "\n",
      "help> q\n",
      "\n",
      "You are now leaving help and returning to the Python interpreter.\n",
      "If you want to ask for help on a particular object directly from the\n",
      "interpreter, you can type \"help(object)\".  Executing \"help('string')\"\n",
      "has the same effect as typing a particular string at the help> prompt.\n"
     ]
    }
   ],
   "source": [
    "help() # help를 빠져나오려면 q입력"
   ]
  },
  {
   "cell_type": "code",
   "execution_count": 131,
   "id": "f754b636",
   "metadata": {},
   "outputs": [
    {
     "name": "stdout",
     "output_type": "stream",
     "text": [
      "\n"
     ]
    }
   ],
   "source": [
    "# 도움말 기능 : shift + tab키\n",
    "print()"
   ]
  },
  {
   "cell_type": "code",
   "execution_count": 132,
   "id": "6524fa0f",
   "metadata": {},
   "outputs": [],
   "source": [
    "def add(x, y=0):\n",
    "    '''\n",
    "    매개변수 2개를 받아 두자리 숫자로 만들어요\n",
    "    x 에 10을 곱하고 y의 값을 추가한다.\n",
    "    사용법 : add(2, 3) => 23\n",
    "    '''\n",
    "    return x*10 + y"
   ]
  },
  {
   "cell_type": "code",
   "execution_count": 133,
   "id": "52ea91af",
   "metadata": {},
   "outputs": [
    {
     "data": {
      "text/plain": [
       "23"
      ]
     },
     "execution_count": 133,
     "metadata": {},
     "output_type": "execute_result"
    }
   ],
   "source": [
    "a = add\n",
    "a(2, 3)"
   ]
  },
  {
   "cell_type": "markdown",
   "id": "f125a61b",
   "metadata": {},
   "source": [
    "## 1.4 다중 변수 할당"
   ]
  },
  {
   "cell_type": "code",
   "execution_count": 134,
   "id": "91d9a686",
   "metadata": {},
   "outputs": [],
   "source": [
    "a = 10\n",
    "b = 20"
   ]
  },
  {
   "cell_type": "code",
   "execution_count": 135,
   "id": "9aa7d13b",
   "metadata": {},
   "outputs": [
    {
     "name": "stdout",
     "output_type": "stream",
     "text": [
      "10 20\n"
     ]
    }
   ],
   "source": [
    "a, b = 10, 20\n",
    "print(a, b)"
   ]
  },
  {
   "cell_type": "code",
   "execution_count": 136,
   "id": "0ab58daf",
   "metadata": {},
   "outputs": [
    {
     "name": "stdout",
     "output_type": "stream",
     "text": [
      "20 30\n"
     ]
    }
   ],
   "source": [
    "a, b = b, a+b # 다중 변수 할당 시 순차적 할당이 아니고, 일괄 동시 할당\n",
    "print(a,b)"
   ]
  },
  {
   "cell_type": "markdown",
   "id": "e78a0bbf",
   "metadata": {},
   "source": [
    "# 2절. 화면 입출력 (i/o)"
   ]
  },
  {
   "cell_type": "code",
   "execution_count": 137,
   "id": "f442df95",
   "metadata": {},
   "outputs": [
    {
     "name": "stdout",
     "output_type": "stream",
     "text": [
      "1\n"
     ]
    },
    {
     "data": {
      "text/plain": [
       "'1'"
      ]
     },
     "execution_count": 137,
     "metadata": {},
     "output_type": "execute_result"
    }
   ],
   "source": [
    "# input() : 사용자로부터 값을 입력받기 위한 함수\n",
    "first = input()\n",
    "first"
   ]
  },
  {
   "cell_type": "code",
   "execution_count": 138,
   "id": "7748fb0f",
   "metadata": {},
   "outputs": [
    {
     "name": "stdout",
     "output_type": "stream",
     "text": [
      "두번째 숫자는?2\n"
     ]
    }
   ],
   "source": [
    "second = input('두번째 숫자는?')"
   ]
  },
  {
   "cell_type": "code",
   "execution_count": 139,
   "id": "38652260",
   "metadata": {},
   "outputs": [
    {
     "name": "stdout",
     "output_type": "stream",
     "text": [
      "합: 3\n"
     ]
    }
   ],
   "source": [
    "sum = int(first) + int(second)\n",
    "print('합:', sum)"
   ]
  },
  {
   "cell_type": "code",
   "execution_count": 140,
   "id": "6cf59ff6",
   "metadata": {},
   "outputs": [
    {
     "name": "stdout",
     "output_type": "stream",
     "text": [
      "첫번째 수는?3\n",
      "두번째 수는?4\n",
      "합=7\n"
     ]
    }
   ],
   "source": [
    "first = int(input('첫번째 수는?'))\n",
    "second = int(input('두번째 수는?'))\n",
    "sum = first + second\n",
    "print('합', sum, sep='=')\n"
   ]
  },
  {
   "cell_type": "code",
   "execution_count": 141,
   "id": "876edd7d",
   "metadata": {},
   "outputs": [
    {
     "name": "stdout",
     "output_type": "stream",
     "text": [
      "합=7 / 합=7\n"
     ]
    }
   ],
   "source": [
    "print('합', sum, sep='=', end=' / ')\n",
    "print('합', sum, sep='=')"
   ]
  },
  {
   "cell_type": "code",
   "execution_count": 142,
   "id": "f171ca7b",
   "metadata": {},
   "outputs": [
    {
     "name": "stdout",
     "output_type": "stream",
     "text": [
      "hello, world\n"
     ]
    }
   ],
   "source": [
    "import sys\n",
    "print('hello', 'world', sep=\", \", file=sys.stdout)"
   ]
  },
  {
   "cell_type": "markdown",
   "id": "bf6cdf40",
   "metadata": {},
   "source": [
    "# 3절. 기본 자료형\n",
    "- 자료형에 따라 값의 크기와 저장방식이 달라짐\n",
    "    - 숫자 : int, float, complex\n",
    "    - 문자 : str\n",
    "    - 논리 : bool(True/False)\n",
    "    \n",
    "## 3.1 숫자형"
   ]
  },
  {
   "cell_type": "code",
   "execution_count": 143,
   "id": "55e30c1e",
   "metadata": {},
   "outputs": [
    {
     "data": {
      "text/plain": [
       "9223372036854775807"
      ]
     },
     "execution_count": 143,
     "metadata": {},
     "output_type": "execute_result"
    }
   ],
   "source": [
    "import sys\n",
    "sys.maxsize # 정수의 초대값 2의 63제곱-1 (2**63 -1)"
   ]
  },
  {
   "cell_type": "code",
   "execution_count": 144,
   "id": "21e03cfa",
   "metadata": {},
   "outputs": [
    {
     "data": {
      "text/plain": [
       "2.0"
      ]
     },
     "execution_count": 144,
     "metadata": {},
     "output_type": "execute_result"
    }
   ],
   "source": [
    "i = sys.maxsize * 10\n",
    "i\n",
    "f = 4/2 # 정수/정수 는 무조건 실수\n",
    "f"
   ]
  },
  {
   "cell_type": "code",
   "execution_count": 145,
   "id": "c44687b6",
   "metadata": {},
   "outputs": [
    {
     "name": "stdout",
     "output_type": "stream",
     "text": [
      "2\n",
      "2\n"
     ]
    }
   ],
   "source": [
    "# 자바처럼 정수/정수의 결과를 정수로\n",
    "f = 4//2 #몫 연산자\n",
    "print(f)\n",
    "f = int(4/2)\n",
    "print(f)"
   ]
  },
  {
   "cell_type": "code",
   "execution_count": 146,
   "id": "e51e2f39",
   "metadata": {},
   "outputs": [
    {
     "name": "stdout",
     "output_type": "stream",
     "text": [
      "(-1+0j)\n"
     ]
    }
   ],
   "source": [
    "c = 1j # 수학시간의 0+1i\n",
    "print(c**2)"
   ]
  },
  {
   "cell_type": "code",
   "execution_count": 147,
   "id": "e8223fcd",
   "metadata": {},
   "outputs": [
    {
     "name": "stdout",
     "output_type": "stream",
     "text": [
      "지수형 표현 할당시 실수형으로 저장 : 1120000000000.0\n",
      "지수형 표현 할당시 실수형으로 저장 : 1.12e-12\n"
     ]
    }
   ],
   "source": [
    "f = 1.12e12 # 1.12의 10의 12제곱\n",
    "print('지수형 표현 할당시 실수형으로 저장 :', f)\n",
    "f = 1.12e-12\n",
    "print('지수형 표현 할당시 실수형으로 저장 :', f)"
   ]
  },
  {
   "cell_type": "markdown",
   "id": "368ac88b",
   "metadata": {},
   "source": [
    "## 3.2 문자형\n",
    "쌍따옴표(\"-\")나 홑따옴표('-') 이용"
   ]
  },
  {
   "cell_type": "code",
   "execution_count": 148,
   "id": "b6904c12",
   "metadata": {},
   "outputs": [
    {
     "name": "stdout",
     "output_type": "stream",
     "text": [
      "홍길동\"짱\"\n",
      "홍길동\"짱\"\n",
      "서울시 관악구 '신길동'\n"
     ]
    }
   ],
   "source": [
    "name = \"홍길동\\\"짱\\\"\" # 홍길동\"짱\"\n",
    "print(name)\n",
    "name = '홍길동\"짱\"'\n",
    "print(name)\n",
    "address = \"서울시 관악구 '신길동'\" # 서울시 관악구 '신길동'\n",
    "print(address)"
   ]
  },
  {
   "cell_type": "markdown",
   "id": "25abc24e",
   "metadata": {},
   "source": [
    "## 문자형 변수 여러줄\n",
    "text = '''여러줄 짜리 내용 \n",
    "줄바꿈문자를 쓰지 않고 따옴표 3개로 처리\n",
    "이처럼 쓰는 경우가 많아요'''\n",
    "print(text)"
   ]
  },
  {
   "cell_type": "markdown",
   "id": "e7341ced",
   "metadata": {},
   "source": [
    "### ※ 문자열 연산 "
   ]
  },
  {
   "cell_type": "code",
   "execution_count": 150,
   "id": "79b98867",
   "metadata": {},
   "outputs": [
    {
     "name": "stdout",
     "output_type": "stream",
     "text": [
      "홍길동동해 번쩍 서해 번쩍\n"
     ]
    }
   ],
   "source": [
    "'''\n",
    "    여러 줄 주석 용도\n",
    "    2025.04.08 문자열 연산 소스 by 최장호\n",
    "'''\n",
    "name1 = \"홍길동\"\n",
    "name2 = \"동해 번쩍 서해 번쩍\"\n",
    "print(name1 + name2)"
   ]
  },
  {
   "cell_type": "code",
   "execution_count": 151,
   "id": "9aff488f",
   "metadata": {},
   "outputs": [
    {
     "name": "stdout",
     "output_type": "stream",
     "text": [
      "홍길동홍길동홍길동\n"
     ]
    }
   ],
   "source": [
    "print(name1 * 3) # 문자열을 곱하면 반복"
   ]
  },
  {
   "cell_type": "markdown",
   "id": "d0213cff",
   "metadata": {},
   "source": [
    "### ※ raw 데이터\n",
    "- 용도 : 정규표현식 이용, 디렉토리 경로 표현시 이용"
   ]
  },
  {
   "cell_type": "code",
   "execution_count": 152,
   "id": "a2c9293f",
   "metadata": {},
   "outputs": [
    {
     "name": "stdout",
     "output_type": "stream",
     "text": [
      "Hello\\nWorld\n",
      "Hello\\nWorld\n"
     ]
    }
   ],
   "source": [
    "print(r'Hello\\nWorld') # r쓰면 raw데이터 그대로 쓸 수 있다.\n",
    "print('Hello\\\\nWorld')"
   ]
  },
  {
   "cell_type": "markdown",
   "id": "58fdf1b3",
   "metadata": {},
   "source": [
    "정규표현식\n",
    "```(마크업 셀에서 백틱은 블록을 만들 때 사용)\n",
    "1. 참조 : 위키백과\n",
    "2. 간략한 문법 : \n",
    "    \\d (숫자와 매치, [0-9]와 동일)\n",
    "    \\D (숫자가 아닌것)\n",
    "    \\w (영문자나 숫자, [a-zA-z0-9])\n",
    "    \\W (영문자나 숫자가 아닌 문자)\n",
    "    . (문자 1개)\n",
    "    \\. (.의미)\n",
    "    \\- (-의미)\n",
    "    {2, 4} (2~4번 반복) 앞의 수가 작아야 함.\n",
    "    {4}    (4번 반복)\n",
    "    {2,}   (2번 이상 반복)\n",
    "    +      (1번 이상 반복)\n",
    "    *      (0번 이상 반복)\n",
    "    ?      (1번 있거나 아에 없거나)\n",
    "    []     (또는)\n",
    "    [a-zA-Z] (영어만 가능)\n",
    "    [가-힣]  (한글만 가능)\n",
    "    (  )     (괄호는 소괄호로 사용해야함)\n",
    "3. 정규표현식 연습장 (https://regexr.com/)\n",
    "\n",
    "    ex) 전화번호 : 010-9999-9999 02-000-0000 01099998888 \n",
    "                   029998888 02)123-4567 010 1234 1234 010.1234.1234\n",
    "    \\d{2,3}[\\-) .]?\\d{3,4}[- .]?\\d{4}\n",
    "        - tel_pattern = r\"[0-9]{2,3}[\\-) .]?[0-9]{3,4}[- .]?[0-9]{4}\"\n",
    "    ex) 이메일 :  abc12@naver.com / abc123@0to7.co.kr\n",
    "\t \t\t\t\tabc@한국.com \t\t\tabv@ga_com\n",
    "\t\t\t\t\tabc@ㅎㅋ.com\n",
    "        - email_pattern = r\"\\w{3,}@[a-zA-Z0-9가-힣]+(\\.[a-zA-Z]+){1,2}\"\n",
    "    \\w{3,}@[a-zA-Z0-9가-힣]+\\.[a-zA-Z]+(\\.[a-zA-Z]+)?\n",
    "    \\w{3,}@[a-zA-Z0-9가-힣]+(\\.[a-zA-Z]+){1,2}\n",
    "    \n",
    "4. 소스 구현\n",
    "```\n"
   ]
  },
  {
   "cell_type": "code",
   "execution_count": 153,
   "id": "2a039af4",
   "metadata": {},
   "outputs": [
    {
     "name": "stdout",
     "output_type": "stream",
     "text": [
      "홍길동인데   전화번호 02-888-8888, 010 9999 9999 동해번쩍 서해번쩍 ㅁㅁ ㄹㄹ ㅃ 오늘 날씨는 엄청 좋아요\n"
     ]
    }
   ],
   "source": [
    "import re\n",
    "# 문자열에서 \\ 쓰면 줄 연결 된다는 의미\n",
    "data = \"홍길동인데   전화번호 02-888-8888, 010 9999 9999 \\\n",
    "동해번쩍 서해번쩍 ㅁㅁ ㄹㄹ ㅃ \\\n",
    "오늘 날씨는 엄청 좋아요\"\n",
    "print(data)"
   ]
  },
  {
   "cell_type": "code",
   "execution_count": 154,
   "id": "b3eb2050",
   "metadata": {},
   "outputs": [],
   "source": [
    "tel_pattern = r\"[0-9]{2,3}[\\-) .]?[0-9]{3,4}[- .]?[0-9]{4}\""
   ]
  },
  {
   "cell_type": "code",
   "execution_count": 155,
   "id": "7721d3e1",
   "metadata": {},
   "outputs": [
    {
     "data": {
      "text/plain": [
       "['02-888-8888', '010 9999 9999']"
      ]
     },
     "execution_count": 155,
     "metadata": {},
     "output_type": "execute_result"
    }
   ],
   "source": [
    "# 해당 패턴을 다 찾아줌. 없으면 []반환\n",
    "tels = re.findall(tel_pattern, data)\n",
    "tels"
   ]
  },
  {
   "cell_type": "code",
   "execution_count": 156,
   "id": "8dfd1dfe",
   "metadata": {},
   "outputs": [
    {
     "data": {
      "text/plain": [
       "<re.Match object; span=(13, 24), match='02-888-8888'>"
      ]
     },
     "execution_count": 156,
     "metadata": {},
     "output_type": "execute_result"
    }
   ],
   "source": [
    "# search() : 정규표현식 패턴과 일치하는 처음 단어만 찾음\n",
    "pattern = \"(\\d{2,3})-(\\d{3,4})-(\\d{4})\"\n",
    "firstTel = re.search(pattern, data)\n",
    "firstTel"
   ]
  },
  {
   "cell_type": "code",
   "execution_count": 157,
   "id": "993bfe9a",
   "metadata": {},
   "outputs": [
    {
     "data": {
      "text/plain": [
       "'호 02-888-88'"
      ]
     },
     "execution_count": 157,
     "metadata": {},
     "output_type": "execute_result"
    }
   ],
   "source": [
    "data[11:22] # 문자 슬라이싱"
   ]
  },
  {
   "cell_type": "code",
   "execution_count": 158,
   "id": "6e8dd1c7",
   "metadata": {},
   "outputs": [
    {
     "name": "stdout",
     "output_type": "stream",
     "text": [
      "전화번호 전체 : 02-888-8888\n",
      "국번 : 02\n",
      "중간번호 : 888\n",
      "끝번호 : 8888\n"
     ]
    }
   ],
   "source": [
    "print('전화번호 전체 :', firstTel.group(0))\n",
    "print('국번 :', firstTel.group(1))\n",
    "print('중간번호 :', firstTel.group(2))\n",
    "print('끝번호 :', firstTel.group(3))"
   ]
  },
  {
   "cell_type": "code",
   "execution_count": 159,
   "id": "aff123d8",
   "metadata": {},
   "outputs": [
    {
     "data": {
      "text/plain": [
       "'홍길동인데   전화번호 028888888 010 9999 9999 동해번쩍 서해번쩍    오늘 날씨는 엄청 좋아요'"
      ]
     },
     "execution_count": 159,
     "metadata": {},
     "output_type": "execute_result"
    }
   ],
   "source": [
    "re.sub('[^가-힣0-9\\s]', '', data) # 특수문자, 자음, 모음 없애기"
   ]
  },
  {
   "cell_type": "code",
   "execution_count": 160,
   "id": "f1d6f5a7",
   "metadata": {},
   "outputs": [],
   "source": [
    "# 파일 경로에는 반드시 r,\\\\, /\n",
    "file_path = r\"C:\\ai_x\\source\\01_python\\text.txt\"\n",
    "file_path = \"C:\\\\ai_x\\\\source\\\\01_python\\\\text.txt\"\n",
    "file_path = \"C:/ai_x/source/01_python/text.txt\""
   ]
  },
  {
   "cell_type": "code",
   "execution_count": 161,
   "id": "5515763b",
   "metadata": {},
   "outputs": [
    {
     "name": "stdout",
     "output_type": "stream",
     "text": [
      "Hello ~ world\n"
     ]
    }
   ],
   "source": [
    "file_stream = open(file_path, 'w')\n",
    "print(\"Hello\", \"world\", sep=\" ~ \", file=sys.stdout) # 콘솔 출력 -> file=sys.stdout 기본값이므로 없어도 됨.\n",
    "print(\"Hello\", \"world\", sep=\" ~ \", file=file_stream) # 파일 출력\n",
    "file_stream.close() # close를 하지 않으면 파일 저장 안됨"
   ]
  },
  {
   "cell_type": "markdown",
   "id": "c170b37f",
   "metadata": {},
   "source": [
    "### ※ 문자열 슬라이싱"
   ]
  },
  {
   "cell_type": "code",
   "execution_count": 162,
   "id": "8046fb38",
   "metadata": {},
   "outputs": [
    {
     "data": {
      "text/plain": [
       "'0123456789'"
      ]
     },
     "execution_count": 162,
     "metadata": {},
     "output_type": "execute_result"
    }
   ],
   "source": [
    "str_ = '0123456789'\n",
    "str_"
   ]
  },
  {
   "cell_type": "code",
   "execution_count": 163,
   "id": "0400318e",
   "metadata": {},
   "outputs": [
    {
     "data": {
      "text/plain": [
       "('0', '2', '9', '7')"
      ]
     },
     "execution_count": 163,
     "metadata": {},
     "output_type": "execute_result"
    }
   ],
   "source": [
    "# 문자 인덱싱\n",
    "str_[0], str_[2], str_[-1], str_[-3]"
   ]
  },
  {
   "cell_type": "code",
   "execution_count": 164,
   "id": "4e0e1737",
   "metadata": {},
   "outputs": [
    {
     "ename": "IndexError",
     "evalue": "string index out of range",
     "output_type": "error",
     "traceback": [
      "\u001b[1;31m---------------------------------------------------------------------------\u001b[0m",
      "\u001b[1;31mIndexError\u001b[0m                                Traceback (most recent call last)",
      "Cell \u001b[1;32mIn[164], line 1\u001b[0m\n\u001b[1;32m----> 1\u001b[0m \u001b[43mstr_\u001b[49m\u001b[43m[\u001b[49m\u001b[38;5;241;43m20\u001b[39;49m\u001b[43m]\u001b[49m\n",
      "\u001b[1;31mIndexError\u001b[0m: string index out of range"
     ]
    }
   ],
   "source": [
    "str_[20] # 없는 인덱싱은 에러"
   ]
  },
  {
   "cell_type": "code",
   "execution_count": null,
   "id": "43362dfd",
   "metadata": {},
   "outputs": [],
   "source": [
    "'''\n",
    "문자 변수[from:stop] : from부터 stop 앞까지 추출\n",
    "문자 변수[from:stop:step] : from부터 stop 앞까지 step씩 전진하면서 추출\n",
    "    step 생략시 1\n",
    "    from 생략시 처음부터\n",
    "    stop 생략시 끝까지\n",
    "'''"
   ]
  },
  {
   "cell_type": "code",
   "execution_count": null,
   "id": "ef9537f6",
   "metadata": {},
   "outputs": [],
   "source": [
    "str_[0:5] # 0번째~5번째 앞까지"
   ]
  },
  {
   "cell_type": "code",
   "execution_count": null,
   "id": "3e40409c",
   "metadata": {},
   "outputs": [],
   "source": [
    "str_[-5:-1] # -5번째부터 -1번째 앞까지"
   ]
  },
  {
   "cell_type": "code",
   "execution_count": null,
   "id": "953b8a92",
   "metadata": {},
   "outputs": [],
   "source": [
    "str_[-4:] # -4번째부터 끝까지"
   ]
  },
  {
   "cell_type": "code",
   "execution_count": null,
   "id": "5b3f1cdb",
   "metadata": {},
   "outputs": [],
   "source": [
    "str_[-4:20] # 슬라이싱시 인덱스 범위를 벗어나면 끝까지를 의미"
   ]
  },
  {
   "cell_type": "code",
   "execution_count": null,
   "id": "9c6ea843",
   "metadata": {},
   "outputs": [],
   "source": [
    "str_[0:8:2]"
   ]
  },
  {
   "cell_type": "code",
   "execution_count": null,
   "id": "3364cc5c",
   "metadata": {},
   "outputs": [],
   "source": [
    "str_[9:0:-1]"
   ]
  },
  {
   "cell_type": "code",
   "execution_count": null,
   "id": "e22402d4",
   "metadata": {},
   "outputs": [],
   "source": [
    "# 첫 문자부터 ~ 6번 인덱스 까지 추출\n",
    "print(str_[0:7])\n",
    "# 5번 인덱스부터 끝까지 추출\n",
    "print(str_[5:])\n",
    "# str_ 를 거꾸로 출력 : : 콜론은 start의 처음, end는 마지막\n",
    "print(str_[::-1])\n"
   ]
  },
  {
   "cell_type": "markdown",
   "id": "4ad72fdc",
   "metadata": {},
   "source": [
    "## 3.3 논리형(True/False)"
   ]
  },
  {
   "cell_type": "code",
   "execution_count": null,
   "id": "c4459258",
   "metadata": {},
   "outputs": [],
   "source": [
    "a = True\n",
    "print(a) # a : 매개변수 = parameter, 전달인자 = argument\n",
    "print(type(a)) # a 변수의 타입\n",
    "print(isinstance(a, bool)) # instance(변수, 타입) : 변수가 해당 타입인지 여부\n",
    "b = True\n",
    "print(id(a))\n",
    "print(id(b))\n",
    "b = a\n",
    "a = False\n",
    "print(id(a))\n",
    "print(id(b))"
   ]
  },
  {
   "cell_type": "code",
   "execution_count": null,
   "id": "3078142c",
   "metadata": {},
   "outputs": [],
   "source": [
    "int(True), int(False)"
   ]
  },
  {
   "cell_type": "code",
   "execution_count": null,
   "id": "10a3ece4",
   "metadata": {},
   "outputs": [],
   "source": [
    "# False 로 간주되는 것 : 0, \"\"(빈스트링), None, [], (), {} \n",
    "# False 외의 값은 다   True \" \"\n",
    "if [] :\n",
    "    print('True다')\n",
    "else : \n",
    "    print('False다')"
   ]
  },
  {
   "cell_type": "markdown",
   "id": "32d8f3dd",
   "metadata": {},
   "source": [
    "## 3.4 자료형 확인 및 형변환 함수\n",
    "- type(변수)\n",
    "- isinstance(변수, 타입)\n",
    "\n",
    "- int() : 정수형으로 변환\n",
    "- float() : 실수형으로 변환\n",
    "- str() : 문자형으로 변환\n",
    "- bool() : 논리형으로 변환"
   ]
  },
  {
   "cell_type": "code",
   "execution_count": null,
   "id": "ae785521",
   "metadata": {},
   "outputs": [],
   "source": [
    "int(\"123\"), int(123.9), int(True), int(\"10   \")"
   ]
  },
  {
   "cell_type": "code",
   "execution_count": null,
   "id": "c263612e",
   "metadata": {},
   "outputs": [],
   "source": [
    "float(\"123.5\"), float(123), float(True), float(\"123\"), float(\" 123.5 \")"
   ]
  },
  {
   "cell_type": "code",
   "execution_count": null,
   "id": "026d9cdb",
   "metadata": {},
   "outputs": [],
   "source": [
    "# int() 에러나는 것들\n",
    "# int(\"123.5\")\n",
    "# int(' ')\n",
    "# int('')\n",
    "# int(\"1,000\")\n",
    "a = \"1,111\"\n",
    "b = re.sub(r\"[\\,]\", \"\", a)\n",
    "int(b)"
   ]
  },
  {
   "cell_type": "code",
   "execution_count": null,
   "id": "23e32034",
   "metadata": {},
   "outputs": [],
   "source": [
    "# float() 에러나는 것들\n",
    "# float(\"1,000.0\")\n",
    "# float(\"\")\n",
    "# float(\"  \")"
   ]
  },
  {
   "cell_type": "code",
   "execution_count": null,
   "id": "9f10d03e",
   "metadata": {},
   "outputs": [],
   "source": [
    "str(123), str(10.5), str(True), str(1.12e12), str(-1)"
   ]
  },
  {
   "cell_type": "code",
   "execution_count": null,
   "id": "c58f657b",
   "metadata": {},
   "outputs": [],
   "source": [
    "bool(\"\"), bool(0), bool(0.0), bool([]), bool(()), bool({}), bool(None)"
   ]
  },
  {
   "cell_type": "code",
   "execution_count": null,
   "id": "19dcc557",
   "metadata": {},
   "outputs": [],
   "source": [
    "bool(\" \")"
   ]
  },
  {
   "cell_type": "markdown",
   "id": "8b32300d",
   "metadata": {},
   "source": [
    "파이썬 기본 자료형(정리)\n",
    "1. 숫자 - int, float, complex\n",
    "2. 문자 - str, 문자슬라이싱, raw 데이터(정규표현식, 파일경로)\n",
    "3. 논리 - False 로 판별되는 경우"
   ]
  },
  {
   "cell_type": "markdown",
   "id": "992494b9",
   "metadata": {},
   "source": [
    "# 4절. 포맷팅\n",
    "- 포맷팅이란? 출력할 문자, 숫자, 날짜 데이터의 형식을 지정하는 것\n",
    "- 변수와 텍스트를 결합해서 보기 좋은 형식의 새로운 텍스트를 만들 수 있음.\n",
    "\n",
    "## 4.1 문자열의 출력 형식 지정"
   ]
  },
  {
   "cell_type": "code",
   "execution_count": null,
   "id": "bbe2ea44",
   "metadata": {},
   "outputs": [],
   "source": [
    "name = \"홍길동\"\n",
    "age = 30\n",
    "print(name, '님의 나이는 ', age, '살 입니다.', sep='')"
   ]
  },
  {
   "cell_type": "code",
   "execution_count": null,
   "id": "91276a5d",
   "metadata": {},
   "outputs": [],
   "source": [
    "print(\"%s님의 나이는 %3d살 입니다\"%(name, age))          # 자리수 설정이 가능하다.\n",
    "    # %s: 문자, %d: 정수, %f: 실수\n",
    "print(f\"{name}님의 나이는 {age}살 입니다.\")\n",
    "print(\"{}님의 나이는 {:3d}살 입니다.\".format(name, age)) # 자리수 설정이 가능하다."
   ]
  },
  {
   "cell_type": "markdown",
   "id": "6cc291d8",
   "metadata": {},
   "source": [
    "### 4.2 format() 문법"
   ]
  },
  {
   "cell_type": "code",
   "execution_count": null,
   "id": "2a2bf98b",
   "metadata": {},
   "outputs": [],
   "source": [
    "# \"{[인덱스]:[정렬방식][자릿수][타입]}\".format(변수)\n",
    "    # 인덱스 : format함수 안의 매개변수의 순서\n",
    "    # 정렬방식 : <(왼쪽정렬), >(오른쪽정렬), ^(중앙정렬)\n",
    "    # 정수자릿수 : 출력될 자릿수d. 변수 내용보다 작은 자릿수가 지정되면 자릿수 무시\n",
    "    # 실수자릿수 : 출력될 자릿수. 소수점 자릿수 f\n",
    "    # 문자자릿수 : 전체 확보 될 자릿수[.변수중 출력할 자릿수]s\n",
    "    # 타입 : d(10진수 정수), b(2진수), x(16진수), f(실수), s(문자)\n",
    "    # 공백 대체 문자를 쓸 경우 정렬방식을 반드시 기입해야 함 ex) {0:_>10}"
   ]
  },
  {
   "cell_type": "code",
   "execution_count": null,
   "id": "cbfdf9b0",
   "metadata": {},
   "outputs": [],
   "source": [
    "name = input(\"이름은?\")\n",
    "age = int(input(\"나이는?\"))\n",
    "print(\"{}살 {}님 반갑습니다\".format(age, name))\n",
    "print(\"{1}살 {0}님 반갑습니다\".format(name, age))\n",
    "print(\"{1:*^4d}살 {0:_>10}님 반갑습니다\".format(name, age))"
   ]
  },
  {
   "cell_type": "code",
   "execution_count": null,
   "id": "725590e8",
   "metadata": {},
   "outputs": [],
   "source": [
    "# 숫자의 경우 : 오른쪽 정렬(기본값)\n",
    "# 문자의 경우 : 왼쪽 정렬(기본값)\n",
    "# 변수보다 작은 자릿수를 지정하면 자릿수가 무시되고 다 출력(정수, 문자 자릿수)\n",
    "i = 12345\n",
    "s = \"Hello\"\n",
    "print(\"[{}], [{:10}], [{:3}]\".format(i, i, i))\n",
    "print(\"[{}], [{:10}], [{:3}]\".format(s, s, s))"
   ]
  },
  {
   "cell_type": "code",
   "execution_count": null,
   "id": "86f75368",
   "metadata": {},
   "outputs": [],
   "source": [
    "# 문자 : 전체 자릿수.표현될 자릿수\n",
    "# 실수 : 전체 자릿수.소수점이하 표현될 자릿수\n",
    "f = 2.758\n",
    "s = \"Hello\"\n",
    "print(\"f = {:5.2f}\".format(f))\n",
    "print(\"f = {:$^5.2s}\".format(s))"
   ]
  },
  {
   "cell_type": "code",
   "execution_count": null,
   "id": "e0aab76b",
   "metadata": {},
   "outputs": [],
   "source": [
    "# + : 부호를 출력\n",
    "# = : 부호를 맨 앞에 출력\n",
    "a, b = 123, -123\n",
    "print(\"[{:5}], [{:5}]\".format(a,b))\n",
    "print(\"[{:=+5}], [{:+5}]\".format(a,b))"
   ]
  },
  {
   "cell_type": "code",
   "execution_count": null,
   "id": "71b8df25",
   "metadata": {},
   "outputs": [],
   "source": [
    "f = 2.785\n",
    "print(\"[{:+10.4f}]\".format(f))"
   ]
  },
  {
   "cell_type": "code",
   "execution_count": null,
   "id": "ae6caac4",
   "metadata": {},
   "outputs": [],
   "source": [
    "sign = '+'\n",
    "width = 10\n",
    "precision = 2\n",
    "print(\"[{:{}{}.{}f}]\".format(f, \n",
    "                             sign, \n",
    "                             width, \n",
    "                             precision))"
   ]
  },
  {
   "cell_type": "code",
   "execution_count": null,
   "id": "6b70dc09",
   "metadata": {},
   "outputs": [],
   "source": [
    "sign = '+'\n",
    "width = 10\n",
    "precision = 2\n",
    "print(\"[{:{sign}{width}.{precisino}f}]\".format(f, \n",
    "                             sign=sign, \n",
    "                             width=width, \n",
    "                             precision=precision))"
   ]
  },
  {
   "cell_type": "code",
   "execution_count": null,
   "id": "0dfa6ef2",
   "metadata": {},
   "outputs": [],
   "source": [
    "a = 15\n",
    "print(\"10진수 a = [{:5d}]\".format(a))\n",
    "print(\"16진수 a = [{:5x}]\".format(a))\n",
    "print(\" 2진수 a = [{:5b}]\".format(a))"
   ]
  },
  {
   "cell_type": "markdown",
   "id": "8b222f1b",
   "metadata": {},
   "source": [
    "### 4.3 날짜 출력"
   ]
  },
  {
   "cell_type": "code",
   "execution_count": null,
   "id": "739cd1dd",
   "metadata": {},
   "outputs": [],
   "source": [
    "import datetime\n",
    "from datetime import datetime\n",
    "now = datetime.now()\n",
    "print(\"{}\".format(now))\n",
    "print(\"{:%Y년%m월%d일 %p %I시 %M분 %S초}\".format(now))\n",
    "print(\"{:%Y년%m월%d일 %H시 %M분 %S초}\".format(now))"
   ]
  },
  {
   "cell_type": "code",
   "execution_count": null,
   "id": "beb1d18c",
   "metadata": {},
   "outputs": [],
   "source": [
    "a = now.strftime('%Y년%m월%d일 %H시 %M분 %S초')\n",
    "print(type(a))\n",
    "print(type(now))"
   ]
  },
  {
   "cell_type": "code",
   "execution_count": null,
   "id": "36e025ff",
   "metadata": {},
   "outputs": [],
   "source": []
  },
  {
   "cell_type": "code",
   "execution_count": null,
   "id": "ff4aa7d6",
   "metadata": {},
   "outputs": [],
   "source": []
  }
 ],
 "metadata": {
  "kernelspec": {
   "display_name": "Python 3 (ipykernel)",
   "language": "python",
   "name": "python3"
  },
  "language_info": {
   "codemirror_mode": {
    "name": "ipython",
    "version": 3
   },
   "file_extension": ".py",
   "mimetype": "text/x-python",
   "name": "python",
   "nbconvert_exporter": "python",
   "pygments_lexer": "ipython3",
   "version": "3.10.9"
  },
  "toc": {
   "base_numbering": 1,
   "nav_menu": {},
   "number_sections": false,
   "sideBar": true,
   "skip_h1_title": false,
   "title_cell": "Table of Contents",
   "title_sidebar": "Contents",
   "toc_cell": false,
   "toc_position": {
    "height": "calc(100% - 180px)",
    "left": "10px",
    "top": "150px",
    "width": "165px"
   },
   "toc_section_display": true,
   "toc_window_display": true
  }
 },
 "nbformat": 4,
 "nbformat_minor": 5
}
