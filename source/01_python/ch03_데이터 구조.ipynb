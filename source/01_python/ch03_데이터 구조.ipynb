{
 "cells": [
  {
   "cell_type": "code",
   "execution_count": 1,
   "id": "5ff77ce6",
   "metadata": {},
   "outputs": [
    {
     "data": {
      "text/html": [
       "\n",
       "<style>\n",
       "div.container{width:86% !important;}\n",
       "div.cell.code_cell.rendered{width:100%;}\n",
       "div.CodeMirror {font-family:Consolas; font-size:15pt;}\n",
       "div.output {font-size:15pt; font-weight:bold;}\n",
       "div.input {font-family:Consolas; font-size:15pt;}\n",
       "div.prompt {min-width:70px;}\n",
       "div#toc-wrapper{padding-top:120px;}\n",
       "div.text_cell_render ul li{font-size:12pt;padding:5px;}\n",
       "table.dataframe{font-size:15px;}\n",
       "</style>\n"
      ],
      "text/plain": [
       "<IPython.core.display.HTML object>"
      ]
     },
     "metadata": {},
     "output_type": "display_data"
    }
   ],
   "source": [
    "from IPython.display import display, HTML\n",
    "display(HTML(\"\"\"\n",
    "<style>\n",
    "div.container{width:86% !important;}\n",
    "div.cell.code_cell.rendered{width:100%;}\n",
    "div.CodeMirror {font-family:Consolas; font-size:15pt;}\n",
    "div.output {font-size:15pt; font-weight:bold;}\n",
    "div.input {font-family:Consolas; font-size:15pt;}\n",
    "div.prompt {min-width:70px;}\n",
    "div#toc-wrapper{padding-top:120px;}\n",
    "div.text_cell_render ul li{font-size:12pt;padding:5px;}\n",
    "table.dataframe{font-size:15px;}\n",
    "</style>\n",
    "\"\"\"))"
   ]
  },
  {
   "cell_type": "markdown",
   "id": "6ab95136",
   "metadata": {},
   "source": [
    "<font size=\"5\" color=\"red\">ch03 데이터 구조</font>\n",
    "- 리스트[], 튜플(),딕셔너리{}, SET\n",
    "- 리스트 : 비슷하지 않은 값들도 다 넣을수 있다.\n",
    "- 튜플 : 리스트와 비슷하지만 수정, 추가, 삭제가 불가\n",
    "\n",
    "# 1절. 리스트\n",
    "## 1.1 리스트 만들기\n",
    "\n",
    "- [ ]를 이용해서 만들며, 여러개 값(여러 타입)을 하나의 변수에 저장/관리 할 수 있음.\n",
    "- list(리스트로 변환 가능한 자료)함수 이용 가능. 매개변수 1개만 가능.\n",
    "- 인덱스 : 각 요소의 위치, 0부터 시작, 맨 마지막 인덱스는 -1\n",
    "- 슬라이싱( [from:stop:step] ) : 부분 데이터셋 추출\n",
    "- 인덱스와 슬라이싱을 이용해서 읽기/쓰기 지원"
   ]
  },
  {
   "cell_type": "code",
   "execution_count": 2,
   "id": "5729268b",
   "metadata": {
    "scrolled": true
   },
   "outputs": [
    {
     "data": {
      "text/plain": [
       "list"
      ]
     },
     "execution_count": 2,
     "metadata": {},
     "output_type": "execute_result"
    }
   ],
   "source": [
    "fruits = ['banana', 'apple', 'orange', 'grape']\n",
    "type(fruits)"
   ]
  },
  {
   "cell_type": "code",
   "execution_count": 3,
   "id": "71f58caa",
   "metadata": {
    "scrolled": true
   },
   "outputs": [
    {
     "name": "stdout",
     "output_type": "stream",
     "text": [
      "['banana', 'apple', 'orange', 'grape']\n",
      "banana\n"
     ]
    }
   ],
   "source": [
    "print(fruits)\n",
    "print(fruits[0])"
   ]
  },
  {
   "cell_type": "code",
   "execution_count": 4,
   "id": "b95e7e38",
   "metadata": {},
   "outputs": [
    {
     "name": "stdout",
     "output_type": "stream",
     "text": [
      "['mango', 'apple', 'orange', 'grape']\n"
     ]
    }
   ],
   "source": [
    "fruits[0] = 'mango'\n",
    "print(fruits)"
   ]
  },
  {
   "cell_type": "code",
   "execution_count": 5,
   "id": "57a97529",
   "metadata": {},
   "outputs": [
    {
     "name": "stdout",
     "output_type": "stream",
     "text": [
      "x=mango\n",
      "y=apple\n",
      "z=orange\n",
      "fruits=['mango', 'apple', 'orange']\n"
     ]
    }
   ],
   "source": [
    "fruits = ['mango', 'apple', 'orange']\n",
    "x, y, z = fruits\n",
    "print(f'x={x}')\n",
    "print(f'y={y}')\n",
    "print(f'z={z}')\n",
    "print(f'fruits={fruits}')"
   ]
  },
  {
   "cell_type": "code",
   "execution_count": 6,
   "id": "487da34c",
   "metadata": {},
   "outputs": [],
   "source": [
    "# range(from, stop, step) : from 부터 stop 앞까지 step씩 증가하면서 지정된 범위의 정수\n",
    "        # from 생략시 : 0\n",
    "        # step 생략시 : 1\n"
   ]
  },
  {
   "cell_type": "code",
   "execution_count": 7,
   "id": "5f40236c",
   "metadata": {},
   "outputs": [
    {
     "data": {
      "text/plain": [
       "[0, 1, 2, 3, 4, 5, 6, 7, 8, 9]"
      ]
     },
     "execution_count": 7,
     "metadata": {},
     "output_type": "execute_result"
    }
   ],
   "source": [
    "list(range(0, 10)) # 0부터 9까지 (10은 포함 X)"
   ]
  },
  {
   "cell_type": "code",
   "execution_count": 8,
   "id": "4e948d74",
   "metadata": {},
   "outputs": [
    {
     "data": {
      "text/plain": [
       "[10, 8, 6, 4, 2, 0]"
      ]
     },
     "execution_count": 8,
     "metadata": {},
     "output_type": "execute_result"
    }
   ],
   "source": [
    "list(range(10, -1, -2 ))"
   ]
  },
  {
   "cell_type": "code",
   "execution_count": 9,
   "id": "dc272984",
   "metadata": {},
   "outputs": [
    {
     "name": "stdout",
     "output_type": "stream",
     "text": [
      "0\n",
      "1\n",
      "2\n",
      "hello\n"
     ]
    }
   ],
   "source": [
    "# 반복문(3회) -> range를 활용하는 법 때문에 알려줌\n",
    "for i in range(3) :\n",
    "    print(i)\n",
    "print('hello')"
   ]
  },
  {
   "cell_type": "code",
   "execution_count": 10,
   "id": "706b6e12",
   "metadata": {},
   "outputs": [
    {
     "name": "stdout",
     "output_type": "stream",
     "text": [
      "0번째 과일은 mango입니다.\n",
      "1번째 과일은 apple입니다.\n",
      "2번째 과일은 orange입니다.\n",
      "0번째 과일은 mango입니다.\n",
      "1번째 과일은 apple입니다.\n",
      "2번째 과일은 orange입니다.\n",
      "3번째 과일은 grape입니다.\n",
      "mango\n",
      "apple\n",
      "orange\n",
      "grape\n"
     ]
    }
   ],
   "source": [
    "fruits = ['mango', 'apple', 'orange', 'grape']\n",
    "# len(fruits) : 리스트 데이터 수\n",
    "for i in range(3) :\n",
    "    print(\"{}번째 과일은 {}입니다.\".format(i,fruits[i]))\n",
    "for fruit in range(len(fruits)) :\n",
    "    print(\"{}번째 과일은 {}입니다.\".format(fruit,fruits[fruit]))\n",
    "for fruit in fruits :\n",
    "    print(fruit)"
   ]
  },
  {
   "cell_type": "code",
   "execution_count": 11,
   "id": "c0748eaf",
   "metadata": {
    "scrolled": true
   },
   "outputs": [
    {
     "name": "stdout",
     "output_type": "stream",
     "text": [
      "0번째 과일은 mango입니다.\n",
      "1번째 과일은 apple입니다.\n",
      "2번째 과일은 orange입니다.\n",
      "3번째 과일은 grape입니다.\n",
      "과일은 (0, 'mango')입니다.\n",
      "과일은 (1, 'apple')입니다.\n",
      "과일은 (2, 'orange')입니다.\n",
      "과일은 (3, 'grape')입니다.\n"
     ]
    }
   ],
   "source": [
    "for idx, value in enumerate(fruits) :\n",
    "    print(\"{}번째 과일은 {}입니다.\".format(idx, value))\n",
    "for value in enumerate(fruits) :\n",
    "    print(\"과일은 {}입니다.\".format(value)) "
   ]
  },
  {
   "cell_type": "code",
   "execution_count": 12,
   "id": "abb6495d",
   "metadata": {},
   "outputs": [
    {
     "name": "stdout",
     "output_type": "stream",
     "text": [
      "[0, True, '2', 3, [4, 5, 6]]\n",
      "True 5\n"
     ]
    }
   ],
   "source": [
    "# 리스트는 여러 타입의 데이터를 담을 수 있음\n",
    "numbers = [0, True, '2', 3, [4,5,6]]\n",
    "print(numbers)\n",
    "print(numbers[1], numbers[4][1])"
   ]
  },
  {
   "cell_type": "code",
   "execution_count": 13,
   "id": "9ad5e0ed",
   "metadata": {},
   "outputs": [
    {
     "data": {
      "text/plain": [
       "(3, 4)"
      ]
     },
     "execution_count": 13,
     "metadata": {},
     "output_type": "execute_result"
    }
   ],
   "source": [
    "# 2차원 리스트\n",
    "numbers_2d = [[90, 91, 92, 93],\n",
    "              [85, 86, 82, 83],\n",
    "              [70, 71, 72, 73]]\n",
    "len(numbers_2d), len(numbers_2d[0])"
   ]
  },
  {
   "cell_type": "code",
   "execution_count": 14,
   "id": "2349994e",
   "metadata": {},
   "outputs": [
    {
     "name": "stdout",
     "output_type": "stream",
     "text": [
      "0행 0열 : 90\t0행 1열 : 91\t0행 2열 : 92\t0행 3열 : 93\t\n",
      "1행 0열 : 85\t1행 1열 : 86\t1행 2열 : 82\t1행 3열 : 83\t\n",
      "2행 0열 : 70\t2행 1열 : 71\t2행 2열 : 72\t2행 3열 : 73\t\n"
     ]
    }
   ],
   "source": [
    "for i, row in enumerate(numbers_2d) :\n",
    "    for j, value in enumerate(row) :\n",
    "        print(\"{}행 {}열 : {}\".format(i, j, value), end='\\t' )\n",
    "    print() # 개행"
   ]
  },
  {
   "cell_type": "code",
   "execution_count": 15,
   "id": "10187986",
   "metadata": {},
   "outputs": [
    {
     "name": "stdout",
     "output_type": "stream",
     "text": [
      "90 91 92 93 \n",
      "80 81 82 83 \n",
      "70 71 72 73 \n"
     ]
    }
   ],
   "source": [
    "ex = [[90,91,92,93],[80,81,82,83],[70,71,72,73]]\n",
    "for i in ex :\n",
    "    for j in i :\n",
    "        print(\"{}\".format(j), end=\" \")\n",
    "    print()"
   ]
  },
  {
   "cell_type": "code",
   "execution_count": 16,
   "id": "5020d1e4",
   "metadata": {},
   "outputs": [],
   "source": [
    "numbers = [1, 12, 3, 5, 4]\n",
    "numbers_2d = [[100, 0],\n",
    "              [9, 100, 1, 2, 3], \n",
    "              [50, 54]]"
   ]
  },
  {
   "cell_type": "code",
   "execution_count": 17,
   "id": "7350d0d7",
   "metadata": {},
   "outputs": [
    {
     "data": {
      "text/plain": [
       "(1, 12)"
      ]
     },
     "execution_count": 17,
     "metadata": {},
     "output_type": "execute_result"
    }
   ],
   "source": [
    "# 최소값, 최대값\n",
    "min(numbers), max(numbers)"
   ]
  },
  {
   "cell_type": "code",
   "execution_count": 18,
   "id": "bc712ed9",
   "metadata": {},
   "outputs": [
    {
     "data": {
      "text/plain": [
       "([9, 100, 1, 2, 3], [100, 0])"
      ]
     },
     "execution_count": 18,
     "metadata": {},
     "output_type": "execute_result"
    }
   ],
   "source": [
    "# 2차원 list의 min() : 0번 인덱스 요소가 가장 작은 것\n",
    "#             max() : 0번 인덱스 요소가 가장 큰 것\n",
    "min(numbers_2d), max(numbers_2d)"
   ]
  },
  {
   "cell_type": "code",
   "execution_count": 19,
   "id": "11d94858",
   "metadata": {},
   "outputs": [
    {
     "data": {
      "text/plain": [
       "('apple', 'orange')"
      ]
     },
     "execution_count": 19,
     "metadata": {},
     "output_type": "execute_result"
    }
   ],
   "source": [
    "fruits = ['mango', 'apple', 'orange']\n",
    "min(fruits), max(fruits)"
   ]
  },
  {
   "cell_type": "code",
   "execution_count": 20,
   "id": "628a8d25",
   "metadata": {},
   "outputs": [
    {
     "name": "stdout",
     "output_type": "stream",
     "text": [
      "오름차순 : [1, 3, 4, 5, 12]\n",
      "sorted함수 사용시 리스트 내용이 바뀌지 않음 : [1, 12, 3, 5, 4]\n",
      "합 : 25\n"
     ]
    }
   ],
   "source": [
    "numbers = [1, 12, 3, 5, 4]\n",
    "# 정렬(오름차순, 내림차순)\n",
    "print('오름차순 :', sorted(numbers) )\n",
    "print('sorted함수 사용시 리스트 내용이 바뀌지 않음 :', numbers)\n",
    "print('합 :', sum(numbers))"
   ]
  },
  {
   "cell_type": "markdown",
   "id": "2a3f9e74",
   "metadata": {},
   "source": [
    "## 1.3 요소 추가\n",
    "```\n",
    "+ : 두 리스트 연결\n",
    "* : 리스트를 곱한 수 만큼 반복\n",
    "append() : 맨 뒤에 요소 추가. (list 추가시 list 자체가 추가됨)\n",
    "extend() : 맨 뒤에 리스트를 요소별로 추가. (list 추가 시 list 요소가 하나씩 다 추가됨)\n",
    "insert(idx, 값) : idx번재 인덱스 위치에 추가(기존 데이터는 shift)\n",
    "```"
   ]
  },
  {
   "cell_type": "code",
   "execution_count": 21,
   "id": "6f9c15b2",
   "metadata": {},
   "outputs": [
    {
     "data": {
      "text/plain": [
       "[1, 2, 3, 1, 2, 3]"
      ]
     },
     "execution_count": 21,
     "metadata": {},
     "output_type": "execute_result"
    }
   ],
   "source": [
    "numbers = [1, 2, 3]\n",
    "numbers = numbers + numbers\n",
    "numbers"
   ]
  },
  {
   "cell_type": "code",
   "execution_count": 22,
   "id": "33f87bce",
   "metadata": {},
   "outputs": [
    {
     "data": {
      "text/plain": [
       "[1, 2, 3, 1, 2, 3, 1, 2, 3]"
      ]
     },
     "execution_count": 22,
     "metadata": {},
     "output_type": "execute_result"
    }
   ],
   "source": [
    "numbers = [1, 2, 3]\n",
    "numbers = numbers * len(numbers)\n",
    "numbers"
   ]
  },
  {
   "cell_type": "code",
   "execution_count": 23,
   "id": "06cd81c5",
   "metadata": {},
   "outputs": [
    {
     "name": "stdout",
     "output_type": "stream",
     "text": [
      "[1, 2, 3, [5, 6, 7]]\n"
     ]
    }
   ],
   "source": [
    "numbers = [1, 2, 3]\n",
    "numbers.append([5,6,7])\n",
    "print(numbers)"
   ]
  },
  {
   "cell_type": "code",
   "execution_count": 24,
   "id": "e1582f8e",
   "metadata": {},
   "outputs": [
    {
     "name": "stdout",
     "output_type": "stream",
     "text": [
      "[1, 2, 3, 4, 5, 6]\n"
     ]
    }
   ],
   "source": [
    "num = [1, 2, 3]\n",
    "num.extend([4, 5, 6])\n",
    "print(num)"
   ]
  },
  {
   "cell_type": "code",
   "execution_count": 25,
   "id": "35af47b5",
   "metadata": {},
   "outputs": [
    {
     "name": "stdout",
     "output_type": "stream",
     "text": [
      "[1, 2, 'x', 3, 4, 5, 6]\n"
     ]
    }
   ],
   "source": [
    "num.insert(2, 'x')\n",
    "print(num)"
   ]
  },
  {
   "cell_type": "markdown",
   "id": "ca1debca",
   "metadata": {},
   "source": [
    "## 1.4 인덱싱과 요소 개수\n",
    "- 변수[index] : 인덱스를 이용한 접근\n",
    "- index(찾을 데이터) : 해당 찾을 데이터가 있는 요소의 index를 반환\n",
    "                        찾을 데이터가 없을 경우 오류\n",
    "- count(찾을 데이터) : 리스트에서 찾을 데이터의 개수 반환"
   ]
  },
  {
   "cell_type": "code",
   "execution_count": 26,
   "id": "c5c14f9d",
   "metadata": {},
   "outputs": [
    {
     "data": {
      "text/plain": [
       "(2, 0)"
      ]
     },
     "execution_count": 26,
     "metadata": {},
     "output_type": "execute_result"
    }
   ],
   "source": [
    "numbers = [1, 2, 3, [1, 2, 3], 1, 2, 3]\n",
    "numbers.count(2), numbers.count(9)"
   ]
  },
  {
   "cell_type": "code",
   "execution_count": 27,
   "id": "aae6de34",
   "metadata": {},
   "outputs": [
    {
     "data": {
      "text/plain": [
       "1"
      ]
     },
     "execution_count": 27,
     "metadata": {},
     "output_type": "execute_result"
    }
   ],
   "source": [
    "numbers.index(2) # 0번째 index부터 2가 처음 나오는 index를 반환"
   ]
  },
  {
   "cell_type": "code",
   "execution_count": 28,
   "id": "b1430445",
   "metadata": {},
   "outputs": [
    {
     "data": {
      "text/plain": [
       "5"
      ]
     },
     "execution_count": 28,
     "metadata": {},
     "output_type": "execute_result"
    }
   ],
   "source": [
    "numbers.index(2, 3) # 3번째 index부터 2가  처음 나오는 index를 반환"
   ]
  },
  {
   "cell_type": "code",
   "execution_count": 29,
   "id": "09455e52",
   "metadata": {},
   "outputs": [
    {
     "name": "stdout",
     "output_type": "stream",
     "text": [
      "9가 없어요\n"
     ]
    }
   ],
   "source": [
    "numbers = [1, 2, 3, [ 1, 2, 3], 1, 2, 3]\n",
    "if 9 in numbers : \n",
    "    print(numbers.index(9))\n",
    "else : \n",
    "    print('9가 없어요')"
   ]
  },
  {
   "cell_type": "code",
   "execution_count": 30,
   "id": "7d152ab8",
   "metadata": {},
   "outputs": [
    {
     "data": {
      "text/plain": [
       "False"
      ]
     },
     "execution_count": 30,
     "metadata": {},
     "output_type": "execute_result"
    }
   ],
   "source": [
    "9 in numbers # numbers 리스트에 9가 존재하는지 여부"
   ]
  },
  {
   "cell_type": "code",
   "execution_count": 31,
   "id": "2b3f2070",
   "metadata": {},
   "outputs": [],
   "source": [
    "def safe_index(lst, data) : \n",
    "    if data in lst : # lst 안에 data 있는지 여부\n",
    "        return lst.index(data)\n",
    "    else :\n",
    "         return -1"
   ]
  },
  {
   "cell_type": "code",
   "execution_count": 32,
   "id": "7b34af69",
   "metadata": {},
   "outputs": [
    {
     "data": {
      "text/plain": [
       "-1"
      ]
     },
     "execution_count": 32,
     "metadata": {},
     "output_type": "execute_result"
    }
   ],
   "source": [
    "safe_index(numbers, 9)"
   ]
  },
  {
   "cell_type": "code",
   "execution_count": 33,
   "id": "1b591c66",
   "metadata": {},
   "outputs": [
    {
     "data": {
      "text/plain": [
       "[1, 2, 3, [1, 2, 3], 1, 2, 3]"
      ]
     },
     "execution_count": 33,
     "metadata": {},
     "output_type": "execute_result"
    }
   ],
   "source": [
    "# numbers[20]\n",
    "numbers[0:20]"
   ]
  },
  {
   "cell_type": "markdown",
   "id": "6cc8d24e",
   "metadata": {},
   "source": [
    "## 1.5 원하는 요소 추출\n",
    "1. 리스트 슬라이싱 : 리스트에서 원하는 index의 데이터를 추출\n",
    "    - [from:stop:step] from 부터 stop 앞까지 step씩 증가하는 index의 값을 추출\n",
    "    - from 생략 시 처음. stop 생략 시 끝, step 생략시 1. 모두 생략 가능\n",
    "    - 음수 인덱스 가능\n",
    "\n",
    "\n",
    "2. <font color=\"red\"> 리스트 컴프리헨션 </font> : 리스트에서 원하는 데이터를 추출"
   ]
  },
  {
   "cell_type": "code",
   "execution_count": 37,
   "id": "b4df2bc2",
   "metadata": {},
   "outputs": [
    {
     "name": "stdout",
     "output_type": "stream",
     "text": [
      "[1, 5, 10, 13]\n",
      "[20, 13, 12, 10, 9, 5, 3, 1]\n"
     ]
    }
   ],
   "source": [
    "numbers = [1, 3, 5, 9, 10, 12, 13, 20]\n",
    "# 짝수 번째 인덱스 값 출력\n",
    "print(numbers[::2])\n",
    "# 거꾸로 출력\n",
    "print(numbers[::-1])"
   ]
  },
  {
   "cell_type": "code",
   "execution_count": 43,
   "id": "89a1a3e7",
   "metadata": {},
   "outputs": [
    {
     "name": "stdout",
     "output_type": "stream",
     "text": [
      "[1, 3, 5, 9, 10, 12, 13, 20]\n",
      "[10, 12, 20]\n"
     ]
    }
   ],
   "source": [
    "numbers = [1, 3, 5, 9, 10, 12, 13, 20]\n",
    "# 리스트에서 모든 데이터를 변수에 담아 출력하시오.\n",
    "result = []\n",
    "for data in numbers :\n",
    "    result.append(data)\n",
    "print(result)\n",
    "\n",
    "#리스트에서 짝수 데이터만 변수에 담아 출력하시오\n",
    "result = []\n",
    "for data in numbers :\n",
    "    if not data%2 :\n",
    "        result.append(data)\n",
    "print(result)"
   ]
  },
  {
   "cell_type": "markdown",
   "id": "71fc56f3",
   "metadata": {},
   "source": [
    "### 리스트컴프리헨션"
   ]
  },
  {
   "cell_type": "code",
   "execution_count": 46,
   "id": "22f32a5a",
   "metadata": {},
   "outputs": [
    {
     "data": {
      "text/plain": [
       "[1, 3, 5, 9, 10, 12, 13, 20]"
      ]
     },
     "execution_count": 46,
     "metadata": {},
     "output_type": "execute_result"
    }
   ],
   "source": [
    "# numbers 의 모든 데이터를 리스트컴프리헨션으로 추출\n",
    "[data for data in numbers ]"
   ]
  },
  {
   "cell_type": "code",
   "execution_count": 51,
   "id": "41f2426e",
   "metadata": {},
   "outputs": [
    {
     "data": {
      "text/plain": [
       "[10, 12, 20]"
      ]
     },
     "execution_count": 51,
     "metadata": {},
     "output_type": "execute_result"
    }
   ],
   "source": [
    "# numbers 의 짝수 데이터를 리스트컴프리헨션으로 추출\n",
    "[ data for data in numbers if data%2==0]"
   ]
  },
  {
   "cell_type": "code",
   "execution_count": 55,
   "id": "2637131c",
   "metadata": {},
   "outputs": [
    {
     "data": {
      "text/plain": [
       "[10, 12, 13, 20]"
      ]
     },
     "execution_count": 55,
     "metadata": {},
     "output_type": "execute_result"
    }
   ],
   "source": [
    "# ex1. numbers 에서 10 이상만 추출\n",
    "numbers = [1, 3, 5, 9, 10, 12, 13, 20]\n",
    "[ i for i in numbers if i >= 10]"
   ]
  },
  {
   "cell_type": "code",
   "execution_count": 56,
   "id": "75c577c4",
   "metadata": {},
   "outputs": [
    {
     "data": {
      "text/plain": [
       "['orange']"
      ]
     },
     "execution_count": 56,
     "metadata": {},
     "output_type": "execute_result"
    }
   ],
   "source": [
    "# ex2. fruits에서 5글자가 넘는 과일만 추출\n",
    "fruits = ['orange', 'apple', 'mango', 'kiwi']\n",
    "[i for i in fruits if len(i) > 5]"
   ]
  },
  {
   "cell_type": "code",
   "execution_count": 58,
   "id": "e370cb23",
   "metadata": {},
   "outputs": [
    {
     "data": {
      "text/plain": [
       "[9, 16, 25]"
      ]
     },
     "execution_count": 58,
     "metadata": {},
     "output_type": "execute_result"
    }
   ],
   "source": [
    "# ex3. 3이상의 요소들의 제곱을 추출\n",
    "L = [1, 2, 3, 4, 5]\n",
    "[ i**2 for i in L if i >= 3]"
   ]
  },
  {
   "cell_type": "markdown",
   "id": "2d887a00",
   "metadata": {},
   "source": [
    "## 1.6 요소 수정하기"
   ]
  },
  {
   "cell_type": "code",
   "execution_count": 70,
   "id": "890f5ac9",
   "metadata": {},
   "outputs": [
    {
     "data": {
      "text/plain": [
       "[0, 1, 222, 3, 4, 5, 6, 7, 8, 9]"
      ]
     },
     "execution_count": 70,
     "metadata": {},
     "output_type": "execute_result"
    }
   ],
   "source": [
    "numbers = [0, 1, 2, 3, 4, 5, 6, 7, 8, 9]\n",
    "# 인덱스를 이용해서 요소 수정\n",
    "numbers[2] = 222\n",
    "numbers"
   ]
  },
  {
   "cell_type": "code",
   "execution_count": 72,
   "id": "5d780d27",
   "metadata": {},
   "outputs": [
    {
     "name": "stdout",
     "output_type": "stream",
     "text": [
      "[0, 'x', 'y', 'z', 'ㅋ', 'ㅎ', 6, 7, 8, 9]\n",
      "[0, 'x', 4, 5, 6, 7, 8, 9]\n"
     ]
    }
   ],
   "source": [
    "# 슬라이싱을 이용해서 요소 수정(step 부분이 미포함 : 부분 리스트가 전체 수정)\n",
    "numbers[1:4] = ['x', 'y', 'z', 'ㅋ', 'ㅎ']\n",
    "print(numbers)\n",
    "numbers = [0, 1, 2, 3, 4, 5, 6, 7, 8, 9]\n",
    "numbers[1:4] = ['x']\n",
    "print(numbers)"
   ]
  },
  {
   "cell_type": "code",
   "execution_count": 76,
   "id": "3437182d",
   "metadata": {},
   "outputs": [
    {
     "ename": "ValueError",
     "evalue": "attempt to assign sequence of size 6 to extended slice of size 5",
     "output_type": "error",
     "traceback": [
      "\u001b[1;31m---------------------------------------------------------------------------\u001b[0m",
      "\u001b[1;31mValueError\u001b[0m                                Traceback (most recent call last)",
      "Cell \u001b[1;32mIn[76], line 3\u001b[0m\n\u001b[0;32m      1\u001b[0m \u001b[38;5;66;03m# 슬라이싱을 이용해서 요소 수정(step부분 포함 : 요소 개수가 맞아야 함)\u001b[39;00m\n\u001b[0;32m      2\u001b[0m numbers \u001b[38;5;241m=\u001b[39m [\u001b[38;5;241m0\u001b[39m, \u001b[38;5;241m1\u001b[39m, \u001b[38;5;241m2\u001b[39m, \u001b[38;5;241m3\u001b[39m, \u001b[38;5;241m4\u001b[39m, \u001b[38;5;241m5\u001b[39m, \u001b[38;5;241m6\u001b[39m, \u001b[38;5;241m7\u001b[39m, \u001b[38;5;241m8\u001b[39m, \u001b[38;5;241m9\u001b[39m]\n\u001b[1;32m----> 3\u001b[0m numbers[::\u001b[38;5;241m2\u001b[39m] \u001b[38;5;241m=\u001b[39m [\u001b[38;5;124m'\u001b[39m\u001b[38;5;124mx\u001b[39m\u001b[38;5;124m'\u001b[39m] \u001b[38;5;241m*\u001b[39m \u001b[38;5;241m6\u001b[39m\n",
      "\u001b[1;31mValueError\u001b[0m: attempt to assign sequence of size 6 to extended slice of size 5"
     ]
    }
   ],
   "source": [
    "# 슬라이싱을 이용해서 요소 수정(step부분 포함 : 요소 개수가 맞아야 함)\n",
    "numbers = [0, 1, 2, 3, 4, 5, 6, 7, 8, 9]\n",
    "numbers[::2] = ['x'] * 6"
   ]
  },
  {
   "cell_type": "markdown",
   "id": "15b977d1",
   "metadata": {},
   "source": [
    "## 1.7 요소 삭제\n",
    "- pop() : 가장 마지막 인덱스 요소가 반환되고 삭제\n",
    "- pop(idx) : idx번째 요소가 반환되고 삭제\n",
    "- remove(지울data) : 리스트 안의 data가 삭제\n",
    "- del 변수[idx] : idx번째 요소가 삭제"
   ]
  },
  {
   "cell_type": "code",
   "execution_count": 98,
   "id": "5a5ceb75",
   "metadata": {},
   "outputs": [
    {
     "name": "stdout",
     "output_type": "stream",
     "text": [
      "삭제된 데이터 : 5, 리스트 : [1, 2, 3, 4]\n",
      "삭제된 데이터 : 1, 리스트 : [2, 3, 4]\n",
      "numbers : [2, 3]\n"
     ]
    }
   ],
   "source": [
    "numbers = [1, 2, 3, 4, 5]\n",
    "delete_data = numbers.pop()\n",
    "print(\"삭제된 데이터 : {}, 리스트 : {}\".format(delete_data, numbers))\n",
    "\n",
    "delete_data2 = numbers.pop(0)\n",
    "print(\"삭제된 데이터 : {}, 리스트 : {}\".format(delete_data2, numbers))\n",
    "\n",
    "del numbers[2]\n",
    "print('numbers :', numbers)"
   ]
  },
  {
   "cell_type": "code",
   "execution_count": 3,
   "id": "26a9b305",
   "metadata": {},
   "outputs": [
    {
     "name": "stdout",
     "output_type": "stream",
     "text": [
      "[1, 2, 4, 5]\n"
     ]
    }
   ],
   "source": [
    "numbers = [1, 2, 3, 4, 5]\n",
    "# remove()는 반환값이 없고, 해당 데이터만 삭제. 해당 데이터가 없으면 오류\n",
    "numbers.remove(3)\n",
    "print(numbers)"
   ]
  },
  {
   "cell_type": "code",
   "execution_count": 116,
   "id": "c420fbb6",
   "metadata": {},
   "outputs": [
    {
     "name": "stdout",
     "output_type": "stream",
     "text": [
      "해당 데이터가 없습니다.\n"
     ]
    }
   ],
   "source": [
    "if 9 in numbers : \n",
    "    numbers.remove(9)\n",
    "else : \n",
    "    print('해당 데이터가 없습니다.')"
   ]
  },
  {
   "cell_type": "code",
   "execution_count": 118,
   "id": "e043b5d9",
   "metadata": {},
   "outputs": [],
   "source": [
    "def safe_remove(lst, remove_data):\n",
    "    if remove_data in lst :\n",
    "        lst.remove(remove_data)\n",
    "        print(remove_data, '삭제 완료')\n",
    "    else :\n",
    "        print(f'{remove_data}는 없는 아이템입니다.')"
   ]
  },
  {
   "cell_type": "code",
   "execution_count": 120,
   "id": "61200df6",
   "metadata": {},
   "outputs": [
    {
     "name": "stdout",
     "output_type": "stream",
     "text": [
      "9는 없는 아이템입니다.\n",
      "5 삭제 완료\n"
     ]
    }
   ],
   "source": [
    "safe_remove(numbers, 9)\n",
    "safe_remove(numbers, 5)"
   ]
  },
  {
   "cell_type": "code",
   "execution_count": 5,
   "id": "a89317c8",
   "metadata": {},
   "outputs": [
    {
     "data": {
      "text/plain": [
       "[1, 2, 4, 5]"
      ]
     },
     "execution_count": 5,
     "metadata": {},
     "output_type": "execute_result"
    }
   ],
   "source": [
    "numbers"
   ]
  },
  {
   "cell_type": "markdown",
   "id": "0cb49d28",
   "metadata": {},
   "source": [
    "## 1.8 정렬하기 "
   ]
  },
  {
   "cell_type": "code",
   "execution_count": 21,
   "id": "c3040845",
   "metadata": {},
   "outputs": [
    {
     "name": "stdout",
     "output_type": "stream",
     "text": [
      "numbers는 변경하지 않고 정렬 :  [0, 1, 5, 8, 9]\n",
      "numbers :  [1, 9, 5, 0, 8]\n"
     ]
    }
   ],
   "source": [
    "numbers = [1, 9, 5, 0, 8]\n",
    "print('numbers는 변경하지 않고 정렬 : ', sorted(numbers))\n",
    "print('numbers : ', numbers)"
   ]
  },
  {
   "cell_type": "code",
   "execution_count": 23,
   "id": "c42a3091",
   "metadata": {},
   "outputs": [
    {
     "data": {
      "text/plain": [
       "[9, 8, 5, 1, 0]"
      ]
     },
     "execution_count": 23,
     "metadata": {},
     "output_type": "execute_result"
    }
   ],
   "source": [
    "numbers.sort(reverse=True) # numbers 자체가 정렬한 결과로 바뀜(기본정렬 : 오름차순)\n",
    "numbers"
   ]
  },
  {
   "cell_type": "code",
   "execution_count": 22,
   "id": "0adf6244",
   "metadata": {},
   "outputs": [
    {
     "data": {
      "text/plain": [
       "[8, 0, 5, 9, 1]"
      ]
     },
     "execution_count": 22,
     "metadata": {},
     "output_type": "execute_result"
    }
   ],
   "source": [
    "numbers.reverse() # numbers 자체가 역순으로 변경(정렬 X)\n",
    "numbers"
   ]
  },
  {
   "cell_type": "code",
   "execution_count": 26,
   "id": "fa58d19e",
   "metadata": {},
   "outputs": [
    {
     "data": {
      "text/plain": [
       "[9, 5, 2]"
      ]
     },
     "execution_count": 26,
     "metadata": {},
     "output_type": "execute_result"
    }
   ],
   "source": [
    "lst = [2, 5, 9]\n",
    "# lst.reverse()\n",
    "lst = lst[::-1]\n",
    "lst"
   ]
  },
  {
   "cell_type": "markdown",
   "id": "647a69b4",
   "metadata": {},
   "source": [
    "## 1.9 복제하기"
   ]
  },
  {
   "cell_type": "code",
   "execution_count": 30,
   "id": "d655e00e",
   "metadata": {},
   "outputs": [
    {
     "name": "stdout",
     "output_type": "stream",
     "text": [
      "원본=10, 복사본=10 / 원본주소=2793619718672, 복사본주소=2793619718672\n",
      "원본=10, 복사본=99 / 원본주소=2793619718672, 복사본주소=2793619721520\n"
     ]
    }
   ],
   "source": [
    "# 스칼라 데이터(하나의 값만 저장하는 데이터)의 복제\n",
    "i = 10      # 원본\n",
    "copy_i = i  # 복사본\n",
    "print(f\"원본={i}, 복사본={copy_i} / 원본주소={id(i)}, 복사본주소={id(copy_i)}\")\n",
    "copy_i = 99\n",
    "print(f\"원본={i}, 복사본={copy_i} / 원본주소={id(i)}, 복사본주소={id(copy_i)}\")"
   ]
  },
  {
   "cell_type": "code",
   "execution_count": 35,
   "id": "ff19b8e3",
   "metadata": {},
   "outputs": [
    {
     "name": "stdout",
     "output_type": "stream",
     "text": [
      "원본 :  [9, 6, 1]\n",
      "복제본 :  [9, 6, 1]\n"
     ]
    }
   ],
   "source": [
    "# 리스트(배열, 데이터프레임, 딕셔너리)의 복제\n",
    "numbers = [5, 6, 1]\n",
    "new_numbers = numbers\n",
    "# id(numbers), id(new_numbers)\n",
    "new_numbers[0] = 9\n",
    "print('원본 : ', numbers)\n",
    "print('복제본 : ', new_numbers)"
   ]
  },
  {
   "cell_type": "code",
   "execution_count": 59,
   "id": "16221b06",
   "metadata": {},
   "outputs": [
    {
     "name": "stdout",
     "output_type": "stream",
     "text": [
      "원본=[5, 8, 1],복제본=[5, 8, 1]\n",
      "원본주소=2793720479872, 복제본=2793720479872\n",
      "원본=[1, 8],복제본=[1, 8]\n",
      "원본주소=2793720479872, 복제본=2793720479872\n"
     ]
    }
   ],
   "source": [
    "# 얕은 복사 / 깊은 복사(복제)\n",
    "# 데이터 구조에서의 복제, 스칼라 데이터는 해당 없음\n",
    "# 얕은 복사 - 주소값 자체를 복사\n",
    "numbers = [5, 8, 1] # 원본\n",
    "new_numbers = numbers # 얕은 복사(할당)\n",
    "print(f\"원본={numbers},복제본={new_numbers}\")\n",
    "print(f\"원본주소={id(numbers)}, 복제본={id(new_numbers)}\")\n",
    "new_numbers[0] = -99\n",
    "new_numbers.sort()\n",
    "print(f\"원본={numbers},복제본={new_numbers}\")\n",
    "print(f\"원본주소={id(numbers)}, 복제본={id(new_numbers)}\")"
   ]
  },
  {
   "cell_type": "code",
   "execution_count": 60,
   "id": "0d35cb51",
   "metadata": {},
   "outputs": [
    {
     "name": "stdout",
     "output_type": "stream",
     "text": [
      "원본=[5, 8, 1],복제본=[5, 8, 1]\n",
      "원본주소=2793744698816, 복제본=2793732942976\n",
      "원본=[5, 8, 1],복제본=[1, 8]\n",
      "원본주소=2793744698816, 복제본=2793732942976\n"
     ]
    }
   ],
   "source": [
    "# 깊은 복사(복제) - 값만 복사\n",
    "numbers = [5, 8, 1] # 원본\n",
    "new_numbers = numbers.copy() # 깊은 복사(복제)\n",
    "print(f\"원본={numbers},복제본={new_numbers}\")\n",
    "print(f\"원본주소={id(numbers)}, 복제본={id(new_numbers)}\")\n",
    "new_numbers[0] = -99\n",
    "new_numbers.sort()\n",
    "new_numbers.remove(-99)\n",
    "print(f\"원본={numbers},복제본={new_numbers}\")\n",
    "print(f\"원본주소={id(numbers)}, 복제본={id(new_numbers)}\")"
   ]
  },
  {
   "cell_type": "code",
   "execution_count": 61,
   "id": "3bb5cc12",
   "metadata": {},
   "outputs": [
    {
     "data": {
      "text/plain": [
       "[]"
      ]
     },
     "execution_count": 61,
     "metadata": {},
     "output_type": "execute_result"
    }
   ],
   "source": [
    "numbers.clear() # 리스트의 요소를 모두 삭제\n",
    "numbers"
   ]
  },
  {
   "cell_type": "markdown",
   "id": "45dc2d89",
   "metadata": {},
   "source": [
    "# 2절. 튜플\n",
    "- 리스트와 유사하지만, 읽기전용. 수정이 필요없는 데이터에서 사용\n",
    "- 수정 불가하므로, 튜플에 데이터 수정, 추가, 삭제 불가\n",
    "- (), tuple() 이용해서 생성"
   ]
  },
  {
   "cell_type": "code",
   "execution_count": 65,
   "id": "43450c3e",
   "metadata": {},
   "outputs": [
    {
     "name": "stdout",
     "output_type": "stream",
     "text": [
      "<class 'tuple'>\n",
      "('서울', '부산', '인천', '목포')\n"
     ]
    }
   ],
   "source": [
    "# city = ('서울', '부산', '인천', '목포')\n",
    "# 파이썬은 여러개의 값이 전달될 때, 튜플 타입으로 전달\n",
    "city = '서울', '부산', '인천', '목포'\n",
    "print(type(city))\n",
    "print(city)"
   ]
  },
  {
   "cell_type": "code",
   "execution_count": 70,
   "id": "2203394e",
   "metadata": {},
   "outputs": [
    {
     "data": {
      "text/plain": [
       "str"
      ]
     },
     "execution_count": 70,
     "metadata": {},
     "output_type": "execute_result"
    }
   ],
   "source": [
    "# city = ['서울', '부산', '인천', '목포']\n",
    "city = '서울', '부산', '인천', '목포'\n",
    "# list 자리에 넣을 곳에 tupple 넣어도 다 호환됨.\n",
    "a = ' = '.join(city)"
   ]
  },
  {
   "cell_type": "code",
   "execution_count": 78,
   "id": "ff89b387",
   "metadata": {},
   "outputs": [
    {
     "name": "stdout",
     "output_type": "stream",
     "text": [
      "<class 'list'> ['서울']\n"
     ]
    }
   ],
   "source": [
    "l = ['서울'] # 요소가 하나 있는 리스트\n",
    "print(type(l), l)"
   ]
  },
  {
   "cell_type": "code",
   "execution_count": 81,
   "id": "ebdb9831",
   "metadata": {},
   "outputs": [
    {
     "name": "stdout",
     "output_type": "stream",
     "text": [
      "<class 'tuple'> ('서울',)\n"
     ]
    }
   ],
   "source": [
    "t = ('서울', ) # 요소가 하나 있는 튜플(, 반드시 기입) ' , '를 추가하지 않으면 str 으로 인식됨.\n",
    "print(type(t), t)"
   ]
  },
  {
   "cell_type": "code",
   "execution_count": 318,
   "id": "25e0c8f1",
   "metadata": {},
   "outputs": [
    {
     "data": {
      "text/plain": [
       "(1, 3, 6, [3, 2, 1])"
      ]
     },
     "execution_count": 318,
     "metadata": {},
     "output_type": "execute_result"
    }
   ],
   "source": [
    "numbers = (1, 2, 3)\n",
    "# numbers.remove(3) 수정하기 위한 함수는 제공되지 않음\n",
    "# numbers.append(4)\n",
    "# numbers.pop()\n",
    "# numbers.sort()\n",
    "min(numbers), max(numbers), sum(numbers), sorted(numbers, reverse=True)"
   ]
  },
  {
   "cell_type": "code",
   "execution_count": 7,
   "id": "965fcd63",
   "metadata": {},
   "outputs": [
    {
     "data": {
      "text/plain": [
       "(2, 0)"
      ]
     },
     "execution_count": 7,
     "metadata": {},
     "output_type": "execute_result"
    }
   ],
   "source": [
    "numbers = (0, 1, 2, (1, 2), 0, 1, 2)\n",
    "numbers.count(2), numbers.count(9)"
   ]
  },
  {
   "cell_type": "code",
   "execution_count": 89,
   "id": "579f7eae",
   "metadata": {},
   "outputs": [
    {
     "name": "stdout",
     "output_type": "stream",
     "text": [
      "9 요소가 없어요\n"
     ]
    }
   ],
   "source": [
    "if 9 in numbers: \n",
    "    numbers.index(2)\n",
    "else : \n",
    "    print('9 요소가 없어요')"
   ]
  },
  {
   "cell_type": "code",
   "execution_count": 10,
   "id": "fcdffc4e",
   "metadata": {},
   "outputs": [],
   "source": [
    "from safe import safe_index\n",
    "# def safe_index(lst, item) : \n",
    "#     \"\"\"\n",
    "#     lst 안에 item 요소가 있으면 item 요소의 index를 반환, 없으면 -1 qksghks\n",
    "#     lst : 나열 가능한 데이터\n",
    "#     item : \n",
    "#     \"\"\"\n",
    "#     if item in lst : \n",
    "#         return lst.index(item)\n",
    "#     else :\n",
    "#         return -1\n",
    "# #     return lst.index(item) if item in lst else -1"
   ]
  },
  {
   "cell_type": "code",
   "execution_count": 11,
   "id": "24271e7d",
   "metadata": {},
   "outputs": [
    {
     "data": {
      "text/plain": [
       "(-1, 2)"
      ]
     },
     "execution_count": 11,
     "metadata": {},
     "output_type": "execute_result"
    }
   ],
   "source": [
    "safe_index(numbers, 9), safe_index(numbers, 2)"
   ]
  },
  {
   "cell_type": "code",
   "execution_count": 304,
   "id": "3068a98d",
   "metadata": {},
   "outputs": [
    {
     "data": {
      "text/plain": [
       "(4, 16, 36)"
      ]
     },
     "execution_count": 304,
     "metadata": {},
     "output_type": "execute_result"
    }
   ],
   "source": [
    "# ex. 짝수 요소들을 추출하여 제곱한 데이터를 출력\n",
    "numbers = (1, 2, 3, 4, 5, 6)\n",
    "tuple(num**2 for num in numbers if num%2 == 0)"
   ]
  },
  {
   "cell_type": "markdown",
   "id": "a4501970",
   "metadata": {},
   "source": [
    "# 3절. 딕셔너리\n",
    "- 중괄호{}를 이용해서, 키(key)-값(value) 쌍으로 구성된 자료구조\n",
    "- 키는 중복불가(유일한 값), 키에 list는 사용불가.\n",
    "- 값은 중복 가능.\n",
    "- 인덱스를 이용한 참조 지원 안함."
   ]
  },
  {
   "cell_type": "code",
   "execution_count": 27,
   "id": "148b7f97",
   "metadata": {},
   "outputs": [
    {
     "name": "stdout",
     "output_type": "stream",
     "text": [
      "<class 'dict'>\n",
      "{'name': '홍길동', 1: 22, (1, 2): [1, 2]}\n",
      "데이터 개수 :  3\n"
     ]
    }
   ],
   "source": [
    "dic = {\"name\":\"홍길동\", 1:22, (1,2):[1,2]}\n",
    "print(type(dic))\n",
    "print(dic)\n",
    "print('데이터 개수 : ', len(dic))"
   ]
  },
  {
   "cell_type": "code",
   "execution_count": 38,
   "id": "12a65470",
   "metadata": {},
   "outputs": [
    {
     "data": {
      "text/plain": [
       "{'fruit': 'apple', 'number': 12, 'sport': 'golf'}"
      ]
     },
     "execution_count": 38,
     "metadata": {},
     "output_type": "execute_result"
    }
   ],
   "source": [
    "my_favorite = {'fruit' : 'apple', 'number' : 12, 'sport' : 'golf'}\n",
    "my_favorite"
   ]
  },
  {
   "cell_type": "code",
   "execution_count": 39,
   "id": "fbcabc3c",
   "metadata": {},
   "outputs": [
    {
     "name": "stdout",
     "output_type": "stream",
     "text": [
      "apple\n",
      "apple\n"
     ]
    }
   ],
   "source": [
    "print(my_favorite['fruit'])\n",
    "print(my_favorite.get('fruit')) # ★"
   ]
  },
  {
   "cell_type": "code",
   "execution_count": 45,
   "id": "092d4278",
   "metadata": {},
   "outputs": [
    {
     "name": "stdout",
     "output_type": "stream",
     "text": [
      "None\n",
      "-\n"
     ]
    }
   ],
   "source": [
    "# print(my_favorite['people']) # 없는 키값을 인덱스 방식으로 참조시 에러\n",
    "print(my_favorite.get('people')) # 없으면 None 반환\n",
    "print(my_favorite.get('people', '-')) # 없는 키를 get함수로 참조시 '-'"
   ]
  },
  {
   "cell_type": "code",
   "execution_count": 70,
   "id": "34fe0ea5",
   "metadata": {},
   "outputs": [
    {
     "name": "stdout",
     "output_type": "stream",
     "text": [
      "fruit 수정 후 : {'fruit': 'mango', 'number': 12, 'sport': 'golf'}\n",
      "my_favorite 추가 후 : {'fruit': 'mango', 'number': 12, 'sport': 'golf', 'people': '홍길동'}\n",
      "fruit 제거 후 : {'number': 12, 'sport': 'golf', 'people': '홍길동'}\n"
     ]
    }
   ],
   "source": [
    "# 딕서녀리 수정\n",
    "my_favorite = {'fruit':'apple', 'number':12, 'sport':'golf'}\n",
    "my_favorite['fruit'] = 'mango'   # fruit 데이터 수정\n",
    "print('fruit 수정 후 :', my_favorite)\n",
    "my_favorite['people'] = '홍길동' # 데이터 추가\n",
    "print('my_favorite 추가 후 :', my_favorite)\n",
    "del my_favorite['fruit']\n",
    "print('fruit 제거 후 :', my_favorite)"
   ]
  },
  {
   "cell_type": "code",
   "execution_count": 71,
   "id": "f7dbe9e8",
   "metadata": {},
   "outputs": [
    {
     "name": "stdout",
     "output_type": "stream",
     "text": [
      "remove_data : 12\n",
      "number 제거 후 : {'sport': 'golf', 'people': '홍길동'}\n"
     ]
    }
   ],
   "source": [
    "remove_data = my_favorite.pop('number') # number의 값을 반환하고 제거\n",
    "print('remove_data :', remove_data)\n",
    "print('number 제거 후 :', my_favorite)"
   ]
  },
  {
   "cell_type": "code",
   "execution_count": 72,
   "id": "6c92d73f",
   "metadata": {},
   "outputs": [],
   "source": [
    "# for문을 이용한 튜플(리스트) 출력\n",
    "my_tup = '홍길동', 30, ('010-9999-9999')"
   ]
  },
  {
   "cell_type": "code",
   "execution_count": 78,
   "id": "6f771a31",
   "metadata": {},
   "outputs": [
    {
     "name": "stdout",
     "output_type": "stream",
     "text": [
      "홍길동\t30\t010-9999-9999\t\n",
      "0번째 홍길동\t1번째 30\t2번째 010-9999-9999\t\n",
      "0번째 홍길동\t1번째 30\t2번째 010-9999-9999\t"
     ]
    }
   ],
   "source": [
    "for data in my_tup :\n",
    "    print(data, end='\\t')\n",
    "print()\n",
    "# for idx in range(len(my_tup)) :\n",
    "#     print(f'{idx}번째 {my_tup[idx]}', end='\\t')\n",
    "# print()\n",
    "for idx, value in enumerate(my_tup) :\n",
    "    print(f'{idx}번째 {value}', end='\\t')"
   ]
  },
  {
   "cell_type": "code",
   "execution_count": 88,
   "id": "8c78f5fd",
   "metadata": {},
   "outputs": [],
   "source": [
    "my_dic = {'name':'홍길동', 'age':30, 'tel':'010-9999-9999'}"
   ]
  },
  {
   "cell_type": "code",
   "execution_count": 99,
   "id": "01c7fb5f",
   "metadata": {},
   "outputs": [],
   "source": [
    "# 절대 비추\n",
    "# for key in my_dic :\n",
    "#     print(my_dic[key], end='\\t')"
   ]
  },
  {
   "cell_type": "code",
   "execution_count": 108,
   "id": "7cb4952c",
   "metadata": {},
   "outputs": [
    {
     "name": "stdout",
     "output_type": "stream",
     "text": [
      "홍길동\t30\t010-9999-9999\t"
     ]
    }
   ],
   "source": [
    "for data in my_dic.values() :\n",
    "    print(data, end='\\t')"
   ]
  },
  {
   "cell_type": "code",
   "execution_count": 105,
   "id": "d5470778",
   "metadata": {},
   "outputs": [
    {
     "name": "stdout",
     "output_type": "stream",
     "text": [
      "dict_keys(['name', 'age', 'tel'])\n",
      "dict_values(['홍길동', 30, '010-9999-9999'])\n",
      "dict_items([('name', '홍길동'), ('age', 30), ('tel', '010-9999-9999')])\n"
     ]
    }
   ],
   "source": [
    "print(my_dic.keys())    # key만 추출\n",
    "print(my_dic.values())  # 값만 추출\n",
    "print(my_dic.items())   # (key,값) 쌍을 추출"
   ]
  },
  {
   "cell_type": "code",
   "execution_count": 117,
   "id": "ca9ae4a8",
   "metadata": {},
   "outputs": [
    {
     "name": "stdout",
     "output_type": "stream",
     "text": [
      "name:홍길동\tage:30\ttel:010-9999-9999\t"
     ]
    }
   ],
   "source": [
    "for key, value in my_dic.items():\n",
    "    print(f\"{key}:{value}\", end='\\t')"
   ]
  },
  {
   "cell_type": "code",
   "execution_count": 118,
   "id": "7bf9bc32",
   "metadata": {},
   "outputs": [
    {
     "data": {
      "text/plain": [
       "[(0, ('name', '홍길동')), (1, ('age', 30)), (2, ('tel', '010-9999-9999'))]"
      ]
     },
     "execution_count": 118,
     "metadata": {},
     "output_type": "execute_result"
    }
   ],
   "source": [
    "list(enumerate(my_dic.items()))"
   ]
  },
  {
   "cell_type": "code",
   "execution_count": 121,
   "id": "7119df19",
   "metadata": {},
   "outputs": [
    {
     "name": "stdout",
     "output_type": "stream",
     "text": [
      "1.name : 홍길동\n",
      "2.age  : 30\n",
      "3.tel  : 010-9999-9999\n"
     ]
    }
   ],
   "source": [
    "for idx, (key, value) in enumerate(my_dic.items()) :\n",
    "    print(\"{}.{:4} : {}\".format(idx+1, key, value))"
   ]
  },
  {
   "cell_type": "code",
   "execution_count": 122,
   "id": "9253ab30",
   "metadata": {},
   "outputs": [
    {
     "data": {
      "text/plain": [
       "False"
      ]
     },
     "execution_count": 122,
     "metadata": {},
     "output_type": "execute_result"
    }
   ],
   "source": [
    "\"홍길동\" in my_dic # my_dic.keys()"
   ]
  },
  {
   "cell_type": "code",
   "execution_count": 125,
   "id": "c4d3f4f6",
   "metadata": {},
   "outputs": [
    {
     "data": {
      "text/plain": [
       "True"
      ]
     },
     "execution_count": 125,
     "metadata": {},
     "output_type": "execute_result"
    }
   ],
   "source": [
    "\"홍길동\" in my_dic.values()"
   ]
  },
  {
   "cell_type": "code",
   "execution_count": 130,
   "id": "a4c98fbf",
   "metadata": {},
   "outputs": [
    {
     "name": "stdout",
     "output_type": "stream",
     "text": [
      "{'fruit': 'apple', 'number': 12, 'people': '홍길동'}\n",
      "{'fruit': 'apple', 'number': 12, 'people': '홍길동'}\n"
     ]
    }
   ],
   "source": [
    "# 얕은 복사\n",
    "my_favorite = {'fruit':'apple', 'number':12}  # 원본\n",
    "new_favorite = my_favorite # 같은 주소값\n",
    "new_favorite['people'] = '홍길동'\n",
    "print(my_favorite)\n",
    "print(new_favorite)"
   ]
  },
  {
   "cell_type": "code",
   "execution_count": 131,
   "id": "c4871747",
   "metadata": {},
   "outputs": [
    {
     "name": "stdout",
     "output_type": "stream",
     "text": [
      "{'fruit': 'apple', 'number': 12}\n",
      "{'fruit': 'apple', 'number': 12, 'people': '홍길동'}\n"
     ]
    }
   ],
   "source": [
    "# 깊은 복사\n",
    "my_favorite = {'fruit':'apple', 'number':12}  # 원본\n",
    "new_favorite = my_favorite.copy() # 다른 주소값\n",
    "new_favorite['people'] = '홍길동'\n",
    "print(my_favorite)\n",
    "print(new_favorite)"
   ]
  },
  {
   "cell_type": "markdown",
   "id": "0e9b6065",
   "metadata": {},
   "source": [
    "# 4. 셋(set)\n",
    "- 중복을 허용하지 않는 집합(순서X == 인덱스X)\n",
    "- 중괄호({}) 나 set()함수를 이용해서 셋 생성\n",
    "- 추가 : add(), update()\n",
    "- 집합연산자 : &, |, -\n",
    "- 삭제 : remove()"
   ]
  },
  {
   "cell_type": "code",
   "execution_count": 138,
   "id": "3109d86b",
   "metadata": {},
   "outputs": [
    {
     "name": "stdout",
     "output_type": "stream",
     "text": [
      "{'apple', 'banana', 'orange'} <class 'set'>\n"
     ]
    }
   ],
   "source": [
    "fruits = {'banana', 'orange', 'banana', 'banana', 'apple'}\n",
    "print(fruits, type(fruits))"
   ]
  },
  {
   "cell_type": "code",
   "execution_count": 141,
   "id": "5399f134",
   "metadata": {},
   "outputs": [
    {
     "data": {
      "text/plain": [
       "{1, 20, 21, 22}"
      ]
     },
     "execution_count": 141,
     "metadata": {},
     "output_type": "execute_result"
    }
   ],
   "source": [
    "s1 = set([1, 20, 1, 22, 1, 21])\n",
    "s1"
   ]
  },
  {
   "cell_type": "code",
   "execution_count": 146,
   "id": "5ddee0b7",
   "metadata": {},
   "outputs": [
    {
     "data": {
      "text/plain": [
       "{'fruit', 'number'}"
      ]
     },
     "execution_count": 146,
     "metadata": {},
     "output_type": "execute_result"
    }
   ],
   "source": [
    "# set 함수를 이용해서 딕셔너리를 셋으로 전환할 때는 key만 적용\n",
    "my_favorite = {'fruit':'apple', 'number':12}\n",
    "set(my_favorite)\n"
   ]
  },
  {
   "cell_type": "markdown",
   "id": "6011e9d6",
   "metadata": {},
   "source": [
    "## 4.1 추가하기\n",
    "- add() : 기본자료형, 튜플 데이터를 하나의 요소로 추가 할 경우\n",
    "- update() : 리스트, 튜플, 딕셔너리, 셋 요소 하나씩 추가할 경우. dict 사용시 key만 추가"
   ]
  },
  {
   "cell_type": "code",
   "execution_count": 156,
   "id": "8fdbf2c7",
   "metadata": {},
   "outputs": [
    {
     "data": {
      "text/plain": [
       "{1, 2, 3, 4, 5, 6, 7}"
      ]
     },
     "execution_count": 156,
     "metadata": {},
     "output_type": "execute_result"
    }
   ],
   "source": [
    "s2 = {1, 1, 2, 3}\n",
    "s2.add(4)\n",
    "s2.update([5,6,7])\n",
    "s2.update()\n",
    "s2"
   ]
  },
  {
   "cell_type": "code",
   "execution_count": 161,
   "id": "44bcda80",
   "metadata": {},
   "outputs": [
    {
     "data": {
      "text/plain": [
       "{False, 1, 2, 3}"
      ]
     },
     "execution_count": 161,
     "metadata": {},
     "output_type": "execute_result"
    }
   ],
   "source": [
    "# 논리값 False 는 0 로 인식. 0 있으면 False 추가 X, 반대도 동일\n",
    "# 논리값 True  는 1 로 인식. 1 있으면 True 추가 X, 반대도 동일\n",
    "s = {1, 2, 3}\n",
    "s.add(True)\n",
    "s.add(False)\n",
    "s"
   ]
  },
  {
   "cell_type": "markdown",
   "id": "5c5406fd",
   "metadata": {},
   "source": [
    "## 4.2 연산: |(합집합) &(교집합)  -(차집합)\n",
    "&, | : 지밥연산자, 논리연산자, 비트연산자"
   ]
  },
  {
   "cell_type": "code",
   "execution_count": 163,
   "id": "8e9dfcfb",
   "metadata": {},
   "outputs": [
    {
     "name": "stdout",
     "output_type": "stream",
     "text": [
      "s1 | s2 = {1, 2, 3, 4, 5, 6, 7}\n",
      "s1 & s2 = {3, 4, 5}\n",
      "s1 - s2 = {1, 2}\n"
     ]
    }
   ],
   "source": [
    "s1 = {1, 2, 3, 4, 5}\n",
    "s2 = {3, 4, 5, 6, 7}\n",
    "print('s1 | s2 =', s1|s2)\n",
    "print('s1 & s2 =', s1&s2)\n",
    "print('s1 - s2 =', s1-s2)"
   ]
  },
  {
   "cell_type": "markdown",
   "id": "f7fe71be",
   "metadata": {},
   "source": [
    "# 5절. enumerate\n",
    "- 반복자 또는 순서 객체로 반복문을 처리할 때 사용 함수\n",
    "- 리스트, 튜플"
   ]
  },
  {
   "cell_type": "code",
   "execution_count": 171,
   "id": "4a87321a",
   "metadata": {},
   "outputs": [
    {
     "name": "stdout",
     "output_type": "stream",
     "text": [
      "길동\t영자\t길자\t\n",
      "0. 길동\n",
      "1. 영자\n",
      "2. 길자\n"
     ]
    }
   ],
   "source": [
    "names = {'길자', '길동', '영자'}\n",
    "for name in names : \n",
    "    print(name, end='\\t')\n",
    "print()\n",
    "for no, name in enumerate(names) :\n",
    "    print(f'{no}. {name}')"
   ]
  },
  {
   "cell_type": "code",
   "execution_count": 182,
   "id": "964d417f",
   "metadata": {},
   "outputs": [
    {
     "name": "stdout",
     "output_type": "stream",
     "text": [
      "1. 순자 - 연락처:010-9999-9999 사는곳:서울\n",
      "2. 길동 - 연락처:010-8888-8888 사는곳:인천\n",
      "3. 길자 - 연락처:010-7777-7777 사는곳:판교\n"
     ]
    }
   ],
   "source": [
    "names = ['순자', '길동', '길자']\n",
    "tels = ['010-9999-9999', '010-8888-8888', '010-7777-7777']\n",
    "adds = ['서울', '인천', '판교']\n",
    "\n",
    "for idx in range(len(names)) : \n",
    "    print(\"{}. {} - 연락처:{} 사는곳:{}\".format(idx+1,\n",
    "                                                names[idx], \n",
    "                                                tels[idx], \n",
    "                                                adds[idx]))\n",
    "    "
   ]
  },
  {
   "cell_type": "code",
   "execution_count": 184,
   "id": "3b414872",
   "metadata": {},
   "outputs": [
    {
     "data": {
      "text/plain": [
       "[('순자', '010-9999-9999', '서울'),\n",
       " ('길동', '010-8888-8888', '인천'),\n",
       " ('길자', '010-7777-7777', '판교')]"
      ]
     },
     "execution_count": 184,
     "metadata": {},
     "output_type": "execute_result"
    }
   ],
   "source": [
    "list(zip(names, tels, adds))\n"
   ]
  },
  {
   "cell_type": "code",
   "execution_count": 203,
   "id": "20561494",
   "metadata": {},
   "outputs": [
    {
     "name": "stdout",
     "output_type": "stream",
     "text": [
      "순자 : 010-9999-9999 - 서울\n",
      "길동 : 010-8888-8888 - 인천\n",
      "길자 : 010-7777-7777 - 판교\n"
     ]
    }
   ],
   "source": [
    "for name, tel, add in zip(names, tels, adds) :\n",
    "    print(f'{name} : {tel} - {add}')"
   ]
  },
  {
   "cell_type": "code",
   "execution_count": 204,
   "id": "152c0b4b",
   "metadata": {},
   "outputs": [
    {
     "data": {
      "text/plain": [
       "[(0, ('순자', '010-9999-9999', '서울')),\n",
       " (1, ('길동', '010-8888-8888', '인천')),\n",
       " (2, ('길자', '010-7777-7777', '판교'))]"
      ]
     },
     "execution_count": 204,
     "metadata": {},
     "output_type": "execute_result"
    }
   ],
   "source": [
    "list(enumerate(zip(names, tels, adds)))"
   ]
  },
  {
   "cell_type": "code",
   "execution_count": 309,
   "id": "0be74b21",
   "metadata": {},
   "outputs": [
    {
     "name": "stdout",
     "output_type": "stream",
     "text": [
      "1. 순자 010-9999-9999 - 서울\n",
      "2. 길동 010-8888-8888 - 인천\n",
      "3. 길자 010-7777-7777 - 판교\n"
     ]
    }
   ],
   "source": [
    "for idx, (name, tel, add) in enumerate(zip(names, tels, adds)) :\n",
    "    print(\"{}. {} {} - {}\".format(idx+1, name, tel, add))"
   ]
  },
  {
   "cell_type": "markdown",
   "id": "34c8b84c",
   "metadata": {},
   "source": [
    "변수가 담을 수 있는 기본 자료형들\n",
    "```\n",
    "![자료형들](https://pynative.com/wp-content/uploads/2021/02/python-data-types.jpg)\n",
    "```\n",
    "\n",
    "<img src=\"https://pynative.com/wp-content/uploads/2021/02/python-data-types.jpg\"\n",
    "     width=\"300\"\n",
    "     style=\"float:left\"\n",
    "     >"
   ]
  },
  {
   "cell_type": "markdown",
   "id": "fbe313ba",
   "metadata": {},
   "source": [
    "# 6절. 연습문제\n",
    "## 실습형"
   ]
  },
  {
   "cell_type": "markdown",
   "id": "3ebf9e14",
   "metadata": {},
   "source": [
    "- 다음 리스트가 주어졌을 경우 요구사항대로 코드를 작성하시오\n",
    "numbers = [1,2,3,4,5,6,7,8,9,10]\n",
    "1. 숫자 100을 맨 뒤에 추가하세요\n",
    "2. 다음 리스트를 numbers 리스트 맨 뒤에 추가하세요\n",
    "    data = [200, 300, 400, 500]\n",
    "3. 처음 다섯 개 숫자만 출력하세요\n",
    "4. 리스트에서 짝수 번째 데이터만 출력하세요\n",
    "5. 짝수번째 데이터를 모두 0으로 바꾸세요.\n",
    "6. 데이터를 역순으로 나열하세요(내림차순 정렬 아닙니다.)"
   ]
  },
  {
   "cell_type": "code",
   "execution_count": 313,
   "id": "c915f0f7",
   "metadata": {},
   "outputs": [
    {
     "name": "stdout",
     "output_type": "stream",
     "text": [
      "[1, 2, 3, 4, 5, 6, 7, 8, 9, 10, 100]\n",
      "[1, 2, 3, 4, 5, 6, 7, 8, 9, 10, 100, 200, 300, 400, 500]\n",
      "[1, 2, 3, 4, 5]\n",
      "[1, 3, 5, 7, 9, 100, 300, 500]\n",
      "[0, 2, 0, 4, 0, 6, 0, 8, 0, 10, 0, 200, 0, 400, 0]\n",
      "[0, 400, 0, 200, 0, 10, 0, 8, 0, 6, 0, 4, 0, 2, 0]\n"
     ]
    }
   ],
   "source": [
    "# 1\n",
    "numbers = [1,2,3,4,5,6,7,8,9,10]\n",
    "numbers.append(100)\n",
    "print(numbers)\n",
    "# 2\n",
    "numbers.extend([200, 300, 400, 500])\n",
    "print(numbers)\n",
    "# 3\n",
    "print(numbers[:5:1])\n",
    "# 4\n",
    "print(numbers[::2])\n",
    "# 5\n",
    "numbers[::2] = [0]*len(numbers[::2])\n",
    "print(numbers)\n",
    "# 6\n",
    "print(numbers[::-1])\n",
    "# numbers.reverse()\n",
    "# print(numbers)"
   ]
  },
  {
   "cell_type": "code",
   "execution_count": 263,
   "id": "e7d5233c",
   "metadata": {},
   "outputs": [
    {
     "name": "stdout",
     "output_type": "stream",
     "text": [
      "서울시 마포구\n",
      "90\n",
      "{'name': '홍길동', 'age': 20, 'address': '서울시 마포구'}\n",
      "서울시 서대문구\n",
      "[('name', '홍길동'), ('age', 20), ('address', '서울시 서대문구')]\n"
     ]
    }
   ],
   "source": [
    "# 다음 딕셔너리 데이터가 주어졌을 경우 요구사항대로 코드를 작성하세요.\n",
    "member_info = {\"name\":\"홍길동\", \"age\":20, \"address\":\"서울시 마포구\", \"score\":90}\n",
    "\n",
    "# 7\n",
    "print(member_info.get(\"address\"))\n",
    "\n",
    "# 8\n",
    "print(member_info.pop(\"score\"))\n",
    "print(member_info)\n",
    "\n",
    "# 9\n",
    "member_info[\"address\"] = \"서울시 서대문구\"\n",
    "print(member_info.get(\"address\"))\n",
    "\n",
    "# 10\n",
    "print(list(member_info.items()))"
   ]
  },
  {
   "cell_type": "markdown",
   "id": "5d80d200",
   "metadata": {},
   "source": [
    "## 서술형"
   ]
  },
  {
   "cell_type": "code",
   "execution_count": 269,
   "id": "6ce65b84",
   "metadata": {},
   "outputs": [
    {
     "name": "stdout",
     "output_type": "stream",
     "text": [
      "[]\n"
     ]
    }
   ],
   "source": [
    "# 1\n",
    "[\"orange\", \"banana\"]\n",
    "\n",
    "# 2\n",
    "3\n",
    "\n",
    "# 3\n",
    "[2,]\n",
    "\n",
    "# 4\n",
    "extend\n",
    "\n",
    "# 5\n",
    "[0,1,0,3,0,5,0,7,0,9]\n",
    "\n",
    "# 6\n",
    "[5,1,6,3,7,5,8,7,9,9]\n",
    "\n",
    "# 7\n",
    "[0, 1, 1, 3, 2, 5, 3, 7, 4, 9]\n",
    "\n",
    "# 8\n",
    "1\n",
    "\n",
    "# 9\n",
    "apple\n",
    "banana\n",
    "orange\n",
    "\n",
    "# 10\n",
    "3\n",
    "\n",
    "# 11 \n",
    "def"
   ]
  },
  {
   "cell_type": "code",
   "execution_count": 317,
   "id": "8f8a5853",
   "metadata": {},
   "outputs": [
    {
     "name": "stdout",
     "output_type": "stream",
     "text": [
      "[0, 2, 0, 4, 0, 6, 0, 8, 0, 10]\n",
      "[1, 2, 3, 4, 5, 6, 7, 8, 9, 10]\n"
     ]
    }
   ],
   "source": [
    "# 5. 짝수번째 데이터를 모두 0으로 바꾸는게 아니고 출력만 하려면\n",
    "numbers = [1,2,3,4,5,6,7,8,9,10]\n",
    "print([numbers[idx] if idx%2!=0 else 0 for idx in range(len(numbers))])\n",
    "print(numbers)"
   ]
  },
  {
   "cell_type": "code",
   "execution_count": null,
   "id": "37f0da00",
   "metadata": {},
   "outputs": [],
   "source": []
  },
  {
   "cell_type": "code",
   "execution_count": null,
   "id": "2bac2415",
   "metadata": {},
   "outputs": [],
   "source": []
  },
  {
   "cell_type": "code",
   "execution_count": null,
   "id": "3968766e",
   "metadata": {},
   "outputs": [],
   "source": []
  }
 ],
 "metadata": {
  "kernelspec": {
   "display_name": "Python 3 (ipykernel)",
   "language": "python",
   "name": "python3"
  },
  "language_info": {
   "codemirror_mode": {
    "name": "ipython",
    "version": 3
   },
   "file_extension": ".py",
   "mimetype": "text/x-python",
   "name": "python",
   "nbconvert_exporter": "python",
   "pygments_lexer": "ipython3",
   "version": "3.10.9"
  },
  "toc": {
   "base_numbering": 1,
   "nav_menu": {},
   "number_sections": false,
   "sideBar": true,
   "skip_h1_title": false,
   "title_cell": "Table of Contents",
   "title_sidebar": "Contents",
   "toc_cell": false,
   "toc_position": {
    "height": "calc(100% - 180px)",
    "left": "10px",
    "top": "150px",
    "width": "213.6px"
   },
   "toc_section_display": true,
   "toc_window_display": true
  }
 },
 "nbformat": 4,
 "nbformat_minor": 5
}
