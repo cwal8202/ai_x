{
 "cells": [
  {
   "cell_type": "code",
   "execution_count": 4,
   "id": "104f6e54",
   "metadata": {},
   "outputs": [
    {
     "data": {
      "text/html": [
       "\n",
       "<style>\n",
       "div.container{width:86% !important;}\n",
       "div.cell.code_cell.rendered{width:100%;}\n",
       "div.CodeMirror {font-family:Consolas; font-size:15pt;}\n",
       "div.output {font-size:15pt; font-weight:bold;}\n",
       "div.input {font-family:Consolas; font-size:15pt;}\n",
       "div.prompt {min-width:70px;}\n",
       "div#toc-wrapper{padding-top:120px;}\n",
       "div.text_cell_render ul li{font-size:12pt;padding:5px;}\n",
       "table.dataframe{font-size:15px;}\n",
       "</style>\n"
      ],
      "text/plain": [
       "<IPython.core.display.HTML object>"
      ]
     },
     "metadata": {},
     "output_type": "display_data"
    }
   ],
   "source": [
    "from IPython.display import display, HTML\n",
    "display(HTML(\"\"\"\n",
    "<style>\n",
    "div.container{width:86% !important;}\n",
    "div.cell.code_cell.rendered{width:100%;}\n",
    "div.CodeMirror {font-family:Consolas; font-size:15pt;}\n",
    "div.output {font-size:15pt; font-weight:bold;}\n",
    "div.input {font-family:Consolas; font-size:15pt;}\n",
    "div.prompt {min-width:70px;}\n",
    "div#toc-wrapper{padding-top:120px;}\n",
    "div.text_cell_render ul li{font-size:12pt;padding:5px;}\n",
    "table.dataframe{font-size:15px;}\n",
    "</style>\n",
    "\"\"\"))"
   ]
  },
  {
   "cell_type": "markdown",
   "id": "5a1f8945",
   "metadata": {},
   "source": [
    "<font size=\"5\" color=\"red\">ch02 자료형과 연산자</font>\n",
    "# 1절 변수\n",
    "- 파이썬은 변수 선언을 위한 과정이 없다. 할당과 동시에 타입이 지정되고 값이 할당 됨.\n",
    "\n",
    "## 1.1 변수 할당\n",
    "- 할당연산자(=)를 이용해서 값을 할당하면 타입이 세팅\n",
    "- 파이썬에서의 모든 변수는 객체로 저장"
   ]
  },
  {
   "cell_type": "code",
   "execution_count": null,
   "id": "9cd31b17",
   "metadata": {},
   "outputs": [],
   "source": [
    "r = 5\n",
    "area = 3.14 * r * r\n",
    "print(\"계산된 넓이는 \" ,area)"
   ]
  },
  {
   "cell_type": "code",
   "execution_count": null,
   "id": "9599bd65",
   "metadata": {},
   "outputs": [],
   "source": [
    "import numpy as np\n",
    "area = np.pi * r * r\n",
    "print('area =', area)"
   ]
  },
  {
   "cell_type": "code",
   "execution_count": null,
   "id": "5457b121",
   "metadata": {},
   "outputs": [],
   "source": [
    "area.is_integer() # area가 integer 인지 여부 반환"
   ]
  },
  {
   "cell_type": "code",
   "execution_count": null,
   "id": "98aaab23",
   "metadata": {},
   "outputs": [],
   "source": [
    "print('area의 주소 :', id(area)) #id(area) : area 변수의 주소값\n",
    "print('area의 타입 :', type(area)) \n"
   ]
  },
  {
   "cell_type": "code",
   "execution_count": null,
   "id": "1e8a9731",
   "metadata": {},
   "outputs": [],
   "source": [
    "area = 5.5\n",
    "print('area의 주소 :', id(area)) #id(area) : area 변수의 주소값\n",
    "print('area의 타입 :', type(area)) "
   ]
  },
  {
   "cell_type": "code",
   "execution_count": null,
   "id": "7f07bdc7",
   "metadata": {},
   "outputs": [],
   "source": [
    "area = 10\n",
    "print('area의 주소 :', id(area)) #id(area) : area 변수의 주소값\n",
    "print('area의 타입 :', type(area)) "
   ]
  },
  {
   "cell_type": "code",
   "execution_count": null,
   "id": "9990c4f1",
   "metadata": {},
   "outputs": [],
   "source": [
    "area = \"파이썬\""
   ]
  },
  {
   "cell_type": "code",
   "execution_count": null,
   "id": "20851593",
   "metadata": {},
   "outputs": [],
   "source": [
    "print('area의 주소 :', id(area)) #id(area) : area 변수의 주소값\n",
    "print('area의 타입 :', type(area)) "
   ]
  },
  {
   "cell_type": "markdown",
   "id": "a204206b",
   "metadata": {},
   "source": [
    "## 1.2 변수 이름 규칙\n",
    "- 문자로 시작 ( 숫자 시작 불가)\n",
    "- 문자, 숫자, _로 변수명 작성\n",
    "- 함수명은 변수이름으로 가능하나 피한다. 써야한다면 int_식으로 _를 이용\n",
    "- 파이썬 예약어(for, ..)는 변수이름 사용 불가\n",
    "- 한글는 꼭 필요시에만 이용"
   ]
  },
  {
   "cell_type": "code",
   "execution_count": null,
   "id": "78705181",
   "metadata": {},
   "outputs": [],
   "source": [
    "# member.name = \"홍길동\"\n",
    "member_name = \"홍길동\"\n",
    "memberName = \"홍길동\""
   ]
  },
  {
   "cell_type": "code",
   "execution_count": null,
   "id": "2d495a0b",
   "metadata": {},
   "outputs": [],
   "source": [
    "Print = 10 # 대문자로 시작한 변수, 함수명의 변수는 강력비추\n",
    "print(Print)"
   ]
  },
  {
   "cell_type": "code",
   "execution_count": null,
   "id": "f5be2860",
   "metadata": {},
   "outputs": [],
   "source": [
    "# 파이썬에서의 숫자 : 정수, 실수, 복소수 (j)\n",
    "i = 3 + 3j # 복소수\n",
    "type(i)"
   ]
  },
  {
   "cell_type": "code",
   "execution_count": null,
   "id": "ae1ea38d",
   "metadata": {},
   "outputs": [],
   "source": [
    "isinstance(i, complex) # i변수(객체)가 complex 인지 여부"
   ]
  },
  {
   "cell_type": "markdown",
   "id": "4e26e899",
   "metadata": {},
   "source": [
    "## 1.3 도움말"
   ]
  },
  {
   "cell_type": "code",
   "execution_count": null,
   "id": "ab59bf3f",
   "metadata": {},
   "outputs": [],
   "source": [
    "help(print)"
   ]
  },
  {
   "cell_type": "code",
   "execution_count": null,
   "id": "3c671938",
   "metadata": {},
   "outputs": [],
   "source": [
    "help() # help를 빠져나오려면 q입력"
   ]
  },
  {
   "cell_type": "code",
   "execution_count": null,
   "id": "f754b636",
   "metadata": {},
   "outputs": [],
   "source": [
    "# 도움말 기능 : shift + tab키\n",
    "print()"
   ]
  },
  {
   "cell_type": "code",
   "execution_count": null,
   "id": "6524fa0f",
   "metadata": {},
   "outputs": [],
   "source": [
    "def add(x, y=0):\n",
    "    '''\n",
    "    매개변수 2개를 받아 두자리 숫자로 만들어요\n",
    "    x 에 10을 곱하고 y의 값을 추가한다.\n",
    "    사용법 : add(2, 3) => 23\n",
    "    '''\n",
    "    return x*10 + y"
   ]
  },
  {
   "cell_type": "code",
   "execution_count": null,
   "id": "52ea91af",
   "metadata": {},
   "outputs": [],
   "source": [
    "a = add\n",
    "a(2, 3)"
   ]
  },
  {
   "cell_type": "markdown",
   "id": "f125a61b",
   "metadata": {},
   "source": [
    "## 1.4 다중 변수 할당"
   ]
  },
  {
   "cell_type": "code",
   "execution_count": null,
   "id": "91d9a686",
   "metadata": {},
   "outputs": [],
   "source": [
    "a = 10\n",
    "b = 20"
   ]
  },
  {
   "cell_type": "code",
   "execution_count": null,
   "id": "9aa7d13b",
   "metadata": {},
   "outputs": [],
   "source": [
    "a, b = 10, 20\n",
    "print(a, b)"
   ]
  },
  {
   "cell_type": "code",
   "execution_count": null,
   "id": "0ab58daf",
   "metadata": {},
   "outputs": [],
   "source": [
    "a, b = b, a+b # 다중 변수 할당 시 순차적 할당이 아니고, 일괄 동시 할당\n",
    "print(a,b)"
   ]
  },
  {
   "cell_type": "markdown",
   "id": "e78a0bbf",
   "metadata": {},
   "source": [
    "# 2절. 화면 입출력 (i/o)"
   ]
  },
  {
   "cell_type": "code",
   "execution_count": 2,
   "id": "f442df95",
   "metadata": {},
   "outputs": [
    {
     "name": "stdout",
     "output_type": "stream",
     "text": [
      "5\n"
     ]
    },
    {
     "data": {
      "text/plain": [
       "'5'"
      ]
     },
     "execution_count": 2,
     "metadata": {},
     "output_type": "execute_result"
    }
   ],
   "source": [
    "# input() : 사용자로부터 값을 입력받기 위한 함수\n",
    "first = input()\n",
    "first"
   ]
  },
  {
   "cell_type": "code",
   "execution_count": 3,
   "id": "7748fb0f",
   "metadata": {},
   "outputs": [
    {
     "name": "stdout",
     "output_type": "stream",
     "text": [
      "두번째 숫자는?2\n"
     ]
    }
   ],
   "source": [
    "second = input('두번째 숫자는?')"
   ]
  },
  {
   "cell_type": "code",
   "execution_count": 5,
   "id": "38652260",
   "metadata": {},
   "outputs": [
    {
     "name": "stdout",
     "output_type": "stream",
     "text": [
      "합: 7\n"
     ]
    }
   ],
   "source": [
    "sum = int(first) + int(second)\n",
    "print('합:', sum)"
   ]
  },
  {
   "cell_type": "code",
   "execution_count": 22,
   "id": "6cf59ff6",
   "metadata": {},
   "outputs": [
    {
     "name": "stdout",
     "output_type": "stream",
     "text": [
      "첫번째 수는?1\n",
      "두번째 수는?2\n",
      "합=3\n"
     ]
    }
   ],
   "source": [
    "first = int(input('첫번째 수는?'))\n",
    "second = int(input('두번째 수는?'))\n",
    "sum = first + second\n",
    "print('합', sum, sep='=')\n"
   ]
  },
  {
   "cell_type": "code",
   "execution_count": 25,
   "id": "876edd7d",
   "metadata": {},
   "outputs": [
    {
     "name": "stdout",
     "output_type": "stream",
     "text": [
      "합=3 / 합=3\n"
     ]
    }
   ],
   "source": [
    "print('합', sum, sep='=', end=' / ')\n",
    "print('합', sum, sep='=')"
   ]
  },
  {
   "cell_type": "code",
   "execution_count": 26,
   "id": "f171ca7b",
   "metadata": {},
   "outputs": [
    {
     "name": "stdout",
     "output_type": "stream",
     "text": [
      "hello, world\n"
     ]
    }
   ],
   "source": [
    "import sys\n",
    "print('hello', 'world', sep=\", \", file=sys.stdout)"
   ]
  },
  {
   "cell_type": "markdown",
   "id": "bf6cdf40",
   "metadata": {},
   "source": [
    "# 3절. 기본 자료형\n",
    "- 자료형에 따라 값의 크기와 저장방식이 달라짐\n",
    "    - 숫자 : int, float, complex\n",
    "    - 문자 : str\n",
    "    - 논리 : bool(True/False)\n",
    "    \n",
    "## 3.1 숫자형"
   ]
  },
  {
   "cell_type": "code",
   "execution_count": 29,
   "id": "55e30c1e",
   "metadata": {},
   "outputs": [
    {
     "data": {
      "text/plain": [
       "9223372036854775807"
      ]
     },
     "execution_count": 29,
     "metadata": {},
     "output_type": "execute_result"
    }
   ],
   "source": [
    "import sys\n",
    "sys.maxsize # 정수의 초대값 2의 63제곱-1 (2**63 -1)"
   ]
  },
  {
   "cell_type": "code",
   "execution_count": 45,
   "id": "21e03cfa",
   "metadata": {},
   "outputs": [
    {
     "data": {
      "text/plain": [
       "2.0"
      ]
     },
     "execution_count": 45,
     "metadata": {},
     "output_type": "execute_result"
    }
   ],
   "source": [
    "i = sys.maxsize * 10\n",
    "i\n",
    "f = 4/2 # 정수/정수 는 무조건 실수\n",
    "f"
   ]
  },
  {
   "cell_type": "code",
   "execution_count": 44,
   "id": "c44687b6",
   "metadata": {},
   "outputs": [
    {
     "name": "stdout",
     "output_type": "stream",
     "text": [
      "2\n",
      "2\n"
     ]
    }
   ],
   "source": [
    "# 자바처럼 정수/정수의 결과를 정수로\n",
    "f = 4//2 #몫 연산자\n",
    "print(f)\n",
    "f = int(4/2)\n",
    "print(f)"
   ]
  },
  {
   "cell_type": "code",
   "execution_count": 46,
   "id": "e51e2f39",
   "metadata": {},
   "outputs": [
    {
     "name": "stdout",
     "output_type": "stream",
     "text": [
      "(-1+0j)\n"
     ]
    }
   ],
   "source": [
    "c = 1j # 수학시간의 0+1i\n",
    "print(c**2)"
   ]
  },
  {
   "cell_type": "code",
   "execution_count": 59,
   "id": "e8223fcd",
   "metadata": {},
   "outputs": [
    {
     "name": "stdout",
     "output_type": "stream",
     "text": [
      "지수형 표현 할당시 실수형으로 저장 : 1120000000000.0\n",
      "지수형 표현 할당시 실수형으로 저장 : 1.12e-12\n"
     ]
    }
   ],
   "source": [
    "f = 1.12e12 # 1.12의 10의 12제곱\n",
    "print('지수형 표현 할당시 실수형으로 저장 :', f)\n",
    "f = 1.12e-12\n",
    "print('지수형 표현 할당시 실수형으로 저장 :', f)"
   ]
  },
  {
   "cell_type": "markdown",
   "id": "368ac88b",
   "metadata": {},
   "source": [
    "## 3.2 문자형\n",
    "쌍따옴표(\"-\")나 홑따옴표('-') 이용"
   ]
  },
  {
   "cell_type": "code",
   "execution_count": 69,
   "id": "b6904c12",
   "metadata": {},
   "outputs": [
    {
     "name": "stdout",
     "output_type": "stream",
     "text": [
      "홍길동\"짱\"\n",
      "홍길동\"짱\"\n",
      "서울시 관악구 '신길동'\n"
     ]
    }
   ],
   "source": [
    "name = \"홍길동\\\"짱\\\"\" # 홍길동\"짱\"\n",
    "print(name)\n",
    "name = '홍길동\"짱\"'\n",
    "print(name)\n",
    "address = \"서울시 관악구 '신길동'\" # 서울시 관악구 '신길동'\n",
    "print(address)"
   ]
  },
  {
   "cell_type": "code",
   "execution_count": 68,
   "id": "5c67edba",
   "metadata": {},
   "outputs": [
    {
     "name": "stdout",
     "output_type": "stream",
     "text": [
      "여러줄 짜리 내용 \n",
      "줄바꿈문자를 쓰지 않고 따옴표 3개로 처리\n",
      "이처럼 쓰는 경우가 많아요\n"
     ]
    }
   ],
   "source": [
    "# 문자형 변수 여러줄\n",
    "text = '''여러줄 짜리 내용 \n",
    "줄바꿈문자를 쓰지 않고 따옴표 3개로 처리\n",
    "이처럼 쓰는 경우가 많아요'''\n",
    "print(text)"
   ]
  },
  {
   "cell_type": "markdown",
   "id": "e7341ced",
   "metadata": {},
   "source": [
    "### ※ 문자열 연산 "
   ]
  },
  {
   "cell_type": "code",
   "execution_count": 72,
   "id": "79b98867",
   "metadata": {},
   "outputs": [
    {
     "name": "stdout",
     "output_type": "stream",
     "text": [
      "홍길동동해 번쩍 서해 번쩍\n"
     ]
    }
   ],
   "source": [
    "'''\n",
    "    여러 줄 주석 용도\n",
    "    2025.04.08 문자열 연산 소스 by 최장호\n",
    "'''\n",
    "name1 = \"홍길동\"\n",
    "name2 = \"동해 번쩍 서해 번쩍\"\n",
    "print(name1 + name2)"
   ]
  },
  {
   "cell_type": "code",
   "execution_count": 73,
   "id": "9aff488f",
   "metadata": {},
   "outputs": [
    {
     "name": "stdout",
     "output_type": "stream",
     "text": [
      "홍길동홍길동홍길동\n"
     ]
    }
   ],
   "source": [
    "print(name1 * 3) # 문자열을 곱하면 반복"
   ]
  },
  {
   "cell_type": "markdown",
   "id": "d0213cff",
   "metadata": {},
   "source": [
    "### ※ raw 데이터\n",
    "- 용도 : 정규표현식 이용, 디렉토리 경로 표현시 이용"
   ]
  },
  {
   "cell_type": "code",
   "execution_count": 78,
   "id": "a2c9293f",
   "metadata": {},
   "outputs": [
    {
     "name": "stdout",
     "output_type": "stream",
     "text": [
      "Hello\\nWorld\n",
      "Hello\\nWorld\n"
     ]
    }
   ],
   "source": [
    "print(r'Hello\\nWorld') # r쓰면 raw데이터 그대로 쓸 수 있다.\n",
    "print('Hello\\\\nWorld')"
   ]
  },
  {
   "cell_type": "markdown",
   "id": "58fdf1b3",
   "metadata": {},
   "source": [
    "정규표현식\n",
    "```(마크업 셀에서 백틱은 블록을 만들 때 사용)\n",
    "1. 참조 : 위키백과\n",
    "2. 간략한 문법 : \n",
    "    \\d (숫자와 매치, [0-9]와 동일)\n",
    "    \\D (숫자가 아닌것)\n",
    "    \\w (영문자나 숫자, [a-zA-z0-9])\n",
    "    \\W (영문자나 숫자가 아닌 문자)\n",
    "    . (문자 1개)\n",
    "    \\. (.의미)\n",
    "    \\- (-의미)\n",
    "    {2, 4} (2~4번 반복) 앞의 수가 작아야 함.\n",
    "    {4}    (4번 반복)\n",
    "    {2,}   (2번 이상 반복)\n",
    "    +      (1번 이상 반복)\n",
    "    *      (0번 이상 반복)\n",
    "    ?      (1번 있거나 아에 없거나)\n",
    "    []     (또는)\n",
    "3. 정규표현식 연습장 (https://regexr.com/)\n",
    "    ex) [0-9]{2,3}-\\d{3,4}-\\d{4}\n",
    "        \\d{2,3}\n",
    "```\n"
   ]
  },
  {
   "cell_type": "code",
   "execution_count": null,
   "id": "b3eb2050",
   "metadata": {},
   "outputs": [],
   "source": []
  },
  {
   "cell_type": "code",
   "execution_count": null,
   "id": "7721d3e1",
   "metadata": {},
   "outputs": [],
   "source": []
  }
 ],
 "metadata": {
  "kernelspec": {
   "display_name": "Python 3 (ipykernel)",
   "language": "python",
   "name": "python3"
  },
  "language_info": {
   "codemirror_mode": {
    "name": "ipython",
    "version": 3
   },
   "file_extension": ".py",
   "mimetype": "text/x-python",
   "name": "python",
   "nbconvert_exporter": "python",
   "pygments_lexer": "ipython3",
   "version": "3.10.9"
  },
  "toc": {
   "base_numbering": 1,
   "nav_menu": {},
   "number_sections": false,
   "sideBar": true,
   "skip_h1_title": false,
   "title_cell": "Table of Contents",
   "title_sidebar": "Contents",
   "toc_cell": false,
   "toc_position": {
    "height": "calc(100% - 180px)",
    "left": "10px",
    "top": "150px",
    "width": "165px"
   },
   "toc_section_display": true,
   "toc_window_display": true
  }
 },
 "nbformat": 4,
 "nbformat_minor": 5
}
