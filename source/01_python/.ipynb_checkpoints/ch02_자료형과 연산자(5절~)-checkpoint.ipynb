{
 "cells": [
  {
   "cell_type": "code",
   "execution_count": 69,
   "id": "087350d7",
   "metadata": {},
   "outputs": [
    {
     "data": {
      "text/html": [
       "\n",
       "<style>\n",
       "div.container{width:86% !important;}\n",
       "div.cell.code_cell.rendered{width:100%;}\n",
       "div.CodeMirror {font-family:Consolas; font-size:15pt;}\n",
       "div.output {font-size:15pt; font-weight:bold;}\n",
       "div.input {font-family:Consolas; font-size:15pt;}\n",
       "div.prompt {min-width:70px;}\n",
       "div#toc-wrapper{padding-top:120px;}\n",
       "div.text_cell_render ul li{font-size:12pt;padding:5px;}\n",
       "table.dataframe{font-size:15px;}\n",
       "</style>\n"
      ],
      "text/plain": [
       "<IPython.core.display.HTML object>"
      ]
     },
     "metadata": {},
     "output_type": "display_data"
    }
   ],
   "source": [
    "from IPython.display import display, HTML\n",
    "display(HTML(\"\"\"\n",
    "<style>\n",
    "div.container{width:86% !important;}\n",
    "div.cell.code_cell.rendered{width:100%;}\n",
    "div.CodeMirror {font-family:Consolas; font-size:15pt;}\n",
    "div.output {font-size:15pt; font-weight:bold;}\n",
    "div.input {font-family:Consolas; font-size:15pt;}\n",
    "div.prompt {min-width:70px;}\n",
    "div#toc-wrapper{padding-top:120px;}\n",
    "div.text_cell_render ul li{font-size:12pt;padding:5px;}\n",
    "table.dataframe{font-size:15px;}\n",
    "</style>\n",
    "\"\"\"))"
   ]
  },
  {
   "cell_type": "markdown",
   "id": "86cb9a05",
   "metadata": {},
   "source": [
    "<font size=\"5\" color=\"red\">ch02 자료형과 연산자</font>\n",
    "# 5절. 연산자\n",
    "## 5.1 산술 연산자 : +, -, *, /, //(몫연산자), %(나머지), **(제곱)"
   ]
  },
  {
   "cell_type": "code",
   "execution_count": 2,
   "id": "3b54e15f",
   "metadata": {},
   "outputs": [
    {
     "name": "stdout",
     "output_type": "stream",
     "text": [
      "10의 5제곱 :  100000\n",
      "4/2(결과 실수) :  2.0\n",
      "4//2(몫) : 2\n",
      "4%2(나머지) : 0\n"
     ]
    }
   ],
   "source": [
    "print('10의 5제곱 : ', 10**5)\n",
    "print('4/2(결과 실수) : ', 4/2)\n",
    "print('4//2(몫) :', 4//2)\n",
    "print('4%2(나머지) :', 4%2)"
   ]
  },
  {
   "cell_type": "code",
   "execution_count": 3,
   "id": "bcbac2fa",
   "metadata": {},
   "outputs": [
    {
     "name": "stdout",
     "output_type": "stream",
     "text": [
      "정수를 입력하세요1\n",
      "입력하신 수는 1, 2로 나눈 나머지는 1입니다. 홀수입니다.\n"
     ]
    }
   ],
   "source": [
    "# quiz 1. 정수를 입력받아 짝수인지 홀수인지 여부를 출력\n",
    "num = int(input(\"정수를 입력하세요\"))\n",
    "result = num%2\n",
    "if result : \n",
    "    temp = \"홀수\"\n",
    "else : \n",
    "    temp = \"짝수\"\n",
    "print(f\"입력하신 수는 {num}, 2로 나눈 나머지는 {result}입니다. {temp}입니다.\")"
   ]
  },
  {
   "cell_type": "code",
   "execution_count": 4,
   "id": "5459e7e6",
   "metadata": {},
   "outputs": [
    {
     "name": "stdout",
     "output_type": "stream",
     "text": [
      "정수 입력하세요2\n",
      "입력하신 수는 2, 5의 배수가 아닙니다.\n"
     ]
    }
   ],
   "source": [
    "num2 = int(input(\"정수 입력하세요\"))\n",
    "result2 = num2 % 5\n",
    "if result2 :\n",
    "    temp = \"아닙니다.\"\n",
    "else :\n",
    "    temp = \"맞습니다.\"\n",
    "print(f\"입력하신 수는 {num2}, 5의 배수가 {temp}\")"
   ]
  },
  {
   "cell_type": "code",
   "execution_count": 5,
   "id": "63c64fb5",
   "metadata": {},
   "outputs": [
    {
     "name": "stdout",
     "output_type": "stream",
     "text": [
      "국어: 99 \t 영어:100 \t 수학: 99 \n",
      "총점:298 \t 평균: 99.3\n"
     ]
    }
   ],
   "source": [
    "kor = 99\n",
    "# int(input(\"국어 점수 입력\"))\n",
    "eng = 100\n",
    "# int(input(\"영어 점수 입력\"))\n",
    "math = 99\n",
    "# int(input(\"수학 점수 입력\"))\n",
    "total = kor + eng + math\n",
    "avg = total / 3\n",
    "# 숫자는 기본적으로 오른쪽 정렬\n",
    "print(f\"국어:{kor:3d} \\t 영어:{eng:3d} \\t 수학:{math:3d} \\n총점:{total:3d} \\t 평균:{avg:5.1f}\")"
   ]
  },
  {
   "cell_type": "markdown",
   "id": "4bde90bd",
   "metadata": {},
   "source": []
  },
  {
   "cell_type": "markdown",
   "id": "8f55993e",
   "metadata": {},
   "source": [
    "## 5.2 할당연산자 : =, +=, -=, *=, /=, //=, %="
   ]
  },
  {
   "cell_type": "code",
   "execution_count": 6,
   "id": "702d790f",
   "metadata": {},
   "outputs": [
    {
     "name": "stdout",
     "output_type": "stream",
     "text": [
      "5더하기 : 15\n"
     ]
    }
   ],
   "source": [
    "a = 10\n",
    "a += 5 # a = a + 5\n",
    "print('5더하기 :', a)"
   ]
  },
  {
   "cell_type": "code",
   "execution_count": 7,
   "id": "2dd36bb1",
   "metadata": {},
   "outputs": [
    {
     "name": "stdout",
     "output_type": "stream",
     "text": [
      "5빼기:  10\n",
      "5곱하기:  50\n"
     ]
    }
   ],
   "source": [
    "a -= 5 # a = a - 5\n",
    "print('5빼기: ', a)\n",
    "a *= 5 # a = a * 5\n",
    "print('5곱하기: ', a)"
   ]
  },
  {
   "cell_type": "markdown",
   "id": "ad1310f6",
   "metadata": {},
   "source": [
    "## 5.3 논리연산자 : & = and,     | = or,    not"
   ]
  },
  {
   "cell_type": "code",
   "execution_count": 8,
   "id": "f48160db",
   "metadata": {},
   "outputs": [
    {
     "name": "stdout",
     "output_type": "stream",
     "text": [
      "True\n",
      "0\n"
     ]
    }
   ],
   "source": [
    "# & 논리연산\n",
    "print( (10>3) & (10>5) ) # 논리연산 True & True\n",
    "print( 12 & 1)  # 비트연산"
   ]
  },
  {
   "cell_type": "code",
   "execution_count": 9,
   "id": "8b8ca829",
   "metadata": {},
   "outputs": [
    {
     "name": "stdout",
     "output_type": "stream",
     "text": [
      "3\n",
      "0\n",
      "abc\n"
     ]
    }
   ],
   "source": [
    "# and : False로 판별되는 첫번째 항의 결과 반환\n",
    "#       모든 항이 참이면 마지막 항을 반환\n",
    "print(True and 1 and 3)\n",
    "print(0 and True)\n",
    "print(True and 'abc')"
   ]
  },
  {
   "cell_type": "code",
   "execution_count": 10,
   "id": "bfbf40fa",
   "metadata": {},
   "outputs": [
    {
     "name": "stdout",
     "output_type": "stream",
     "text": [
      "논리연산(연산자 앞뒤에 논리형일 때) : True\n",
      "비트연산(연산자 앞이나 뒤에 숫자일 때) : 3\n"
     ]
    }
   ],
   "source": [
    "# | : 논리연산, 비트연산\n",
    "result = False | True\n",
    "print('논리연산(연산자 앞뒤에 논리형일 때) :', result)\n",
    "result = False | 3 # 0000 0000 (False)\n",
    "                   # 0000 0011 (3)\n",
    "print('비트연산(연산자 앞이나 뒤에 숫자일 때) :', result)\n"
   ]
  },
  {
   "cell_type": "code",
   "execution_count": 11,
   "id": "883b21b1",
   "metadata": {},
   "outputs": [
    {
     "name": "stdout",
     "output_type": "stream",
     "text": [
      "None\n",
      "Hong\n"
     ]
    }
   ],
   "source": [
    "# or : 논리연산, 참으로 판별되는 첫번째 항을 반환\n",
    "#      모든 항이 거짓이면, 마지막항을 반환\n",
    "print(False or False or None)\n",
    "print('Hong' or ' ' or False)"
   ]
  },
  {
   "cell_type": "markdown",
   "id": "59731fef",
   "metadata": {},
   "source": [
    "## 5.4 비교 연산자 : >, >=, <, <=, ==(같다), !=(다르다)"
   ]
  },
  {
   "cell_type": "code",
   "execution_count": 12,
   "id": "a1900f59",
   "metadata": {},
   "outputs": [
    {
     "name": "stdout",
     "output_type": "stream",
     "text": [
      "True\n",
      "True\n"
     ]
    }
   ],
   "source": [
    "# 비교연산자는 이항, 삼항, 사항... 다항연산자\n",
    "x = 5\n",
    "print( (4<x) & (x<10) )\n",
    "print(4 < x < 10)"
   ]
  },
  {
   "cell_type": "code",
   "execution_count": 13,
   "id": "94b7e55b",
   "metadata": {},
   "outputs": [
    {
     "name": "stdout",
     "output_type": "stream",
     "text": [
      "True\n",
      "False\n",
      "False\n",
      "True\n"
     ]
    }
   ],
   "source": [
    "# 비교연산자(<)의 우선순위가 논리연산(&)의 우선순위보다 낮다.\n",
    "print( (10>5) & (10>7))\n",
    "print( 10 > 5 & 10 > 7) # 0101\n",
    "                        # 1010\n",
    "print( 10 > 0 > 7)\n",
    "print( 10 > 5 and 10 > 7)"
   ]
  },
  {
   "cell_type": "code",
   "execution_count": 14,
   "id": "4204f07f",
   "metadata": {},
   "outputs": [
    {
     "name": "stdout",
     "output_type": "stream",
     "text": [
      "False\n"
     ]
    }
   ],
   "source": [
    "address = '서울'\n",
    "age = 29\n",
    "#print( address == \"서울\" & age >= 30)  &가 ==, >= 보다 우선순위가 높다. 그래서 에러남.\n",
    "print( (address == \"서울\") & (age >= 30))\n"
   ]
  },
  {
   "cell_type": "code",
   "execution_count": 15,
   "id": "7435b040",
   "metadata": {},
   "outputs": [
    {
     "data": {
      "text/plain": [
       "True"
      ]
     },
     "execution_count": 15,
     "metadata": {},
     "output_type": "execute_result"
    }
   ],
   "source": [
    "# 문자 비교 : ASCII 코드 순으로 비교 가능 : 특수문자 < 숫자 < 대문자 < 소문자\n",
    "# 비교는 문자 순서대로 (첫번째 숫자끼리 비교, 2번째 숫자끼리 비교)\n",
    "'scott' < \"tiger\""
   ]
  },
  {
   "cell_type": "code",
   "execution_count": 16,
   "id": "046bf720",
   "metadata": {},
   "outputs": [
    {
     "data": {
      "text/plain": [
       "True"
      ]
     },
     "execution_count": 16,
     "metadata": {},
     "output_type": "execute_result"
    }
   ],
   "source": [
    "'9' > '10'"
   ]
  },
  {
   "cell_type": "code",
   "execution_count": 17,
   "id": "117b04a3",
   "metadata": {},
   "outputs": [
    {
     "data": {
      "text/plain": [
       "True"
      ]
     },
     "execution_count": 17,
     "metadata": {},
     "output_type": "execute_result"
    }
   ],
   "source": [
    "'김길동가가가' < '홍길동'"
   ]
  },
  {
   "cell_type": "code",
   "execution_count": 18,
   "id": "8203eb89",
   "metadata": {},
   "outputs": [],
   "source": [
    "## 5.5 비트 연산자 &, |, ^(XOR), ~ "
   ]
  },
  {
   "cell_type": "code",
   "execution_count": 19,
   "id": "1dcd49c7",
   "metadata": {},
   "outputs": [],
   "source": [
    "# x  y  x&y  x^y\n",
    "# 0  0   0    0\n",
    "# 0  1   0    1\n",
    "# 1  0   0    1\n",
    "# 1  1   1    0\n"
   ]
  },
  {
   "cell_type": "code",
   "execution_count": 20,
   "id": "bf671f84",
   "metadata": {},
   "outputs": [
    {
     "name": "stdout",
     "output_type": "stream",
     "text": [
      " a = 15 : 1111\n",
      " b =  2 : 0010\n",
      " a^b = 13 : 1101\n"
     ]
    }
   ],
   "source": [
    "a = 15 # 1111\n",
    "b = 2  # 0010\n",
    "print(\" a = {0:2} : {0:04b}\".format(a))\n",
    "print(\" b = {0:2} : {0:04b}\".format(b))\n",
    "print(\" a^b = {0:2} : {0:04b}\".format(a^b))"
   ]
  },
  {
   "cell_type": "markdown",
   "id": "a8dd0553",
   "metadata": {},
   "source": [
    "- 연산자\n",
    "    - 산술 연산 : + - * / // % **\n",
    "    - 할당 연산 : = += -= *= /= //= %=\n",
    "    - 논리 연산 : & and | or not\n",
    "    - 비트 연산 : > >= < <= == !=\n",
    "    - 비교 연산 : & | ^\n",
    "    - &와 |은 비교연산자보다 우선순위가 높다."
   ]
  },
  {
   "cell_type": "markdown",
   "id": "0004cf91",
   "metadata": {},
   "source": [
    "# 6절. 문자열 다루기\n",
    "- 문자열 슬라이싱 변수[from:stop:step]\n",
    "- len(문자열변수) : 문자 길이\n",
    "\n",
    "- upper() : 대문자로\n",
    "- lower() : 소문자로\n",
    "- title() : 각 어절의 첫글자만 대문자로\n",
    "- capitalize() : 첫문자만 대문자로\n",
    "- count('찾을 문자열') : '찾을 문자열'이 몇개 들어있는지 개수 반환\n",
    "- find('찾을 문자열') : '찾을 문자열'이 왼쪽부터 시작하여 인덱스 반환\n",
    "- rfind('찾을 문자열') : '찾을 문자열'이 오른쪽부터 시작하여 인덱스 반환\n",
    "        **찾을 문자열이 없으면 -1을 반환**\n",
    "    cf) index('찾을 문자열') -> 찾을 문자열 없으면 에러 반환.\n",
    "- startswith('특정 문자열') : 특정 문자열로 시작하는지 여부\n",
    "- endswith('특정 문자열') : 특정 문자열로 끝나는지 여부\n",
    "- strip() : 좌우 공백 제거\n",
    "- rstrip() : 오른쪽 공백 제거\n",
    "- lstrip() : 왼쪽 공백 제거\n",
    "- isdigit() : 문자열이 숫자 문자열인지 여부\n",
    "- islower() : 소문자 문자열인지 여부\n",
    "- isupper() : 대문자 문자열인지 여부\n",
    "- replace(oldStr, newStr) : oldStr을 newStr로 변경\n",
    "- split(구분자) : 구분자를 이용해 문자 분리\n",
    "- join(리스트) : 리스트를 연결"
   ]
  },
  {
   "cell_type": "code",
   "execution_count": 21,
   "id": "0bc61940",
   "metadata": {},
   "outputs": [
    {
     "name": "stdout",
     "output_type": "stream",
     "text": [
      "1. len 글자수 : 39\n",
      "2. upper 대문자로 : PYTHON IS EASY. PYTHON IS SMART. PYTHON\n",
      "3. lower 소문자로 : python is easy. python is smart. python\n",
      "4. title : Python Is Easy. Python Is Smart. Python\n",
      "5. capitalize : Python is easy. python is smart. python\n",
      "6. count , 찾을 문자열 몇개 있는지 : 2\n",
      "7. count , 찾을 문자열 대소문자 구분없이 : 3\n",
      "7. count , 찾을 문자열 대소문자 구분없이 : 3\n",
      "7. count , 찾을 문자열 대소문자 구분없이 : 3\n",
      "8. find , python이 나오는 첫 index 위치 : 0\n",
      "8. rfind , python이 나오는 마지막 index 위치 : 33\n",
      "8. rfind , java 나오는 마지막 index 위치 : -1\n",
      "9. python으로 시작하는지 여부 : True\n",
      "10. python으로 끝나는지 여부 : True\n"
     ]
    }
   ],
   "source": [
    "temp = \"python is easy. pYthon is smart. python\"\n",
    "print('1. len 글자수 :', len(temp))\n",
    "print('2. upper 대문자로 :', temp.upper())\n",
    "print('3. lower 소문자로 :', temp.lower())\n",
    "print('4. title :', temp.title())\n",
    "print('5. capitalize :', temp.capitalize())\n",
    "print('6. count , 찾을 문자열 몇개 있는지 :', temp.count('python'))\n",
    "print('7. count , 찾을 문자열 대소문자 구분없이 :', temp.lower().count('python'))\n",
    "print('7. count , 찾을 문자열 대소문자 구분없이 :', temp.upper().count('PYTHON'))\n",
    "print('7. count , 찾을 문자열 대소문자 구분없이 :', temp.title().count('Python'))\n",
    "print('8. find , python이 나오는 첫 index 위치 :', temp.find('python'))\n",
    "print('8. rfind , python이 나오는 마지막 index 위치 :', temp.rfind('python'))\n",
    "print('8. rfind , java 나오는 마지막 index 위치 :', temp.rfind('java'))\n",
    "# print('8. index, java 나오는 마지막 index 위치 :', temp.index('java'))\n",
    "print('9. python으로 시작하는지 여부 :', temp.startswith('python'))\n",
    "print('10. python으로 끝나는지 여부 :', temp.endswith('python'))"
   ]
  },
  {
   "cell_type": "code",
   "execution_count": 22,
   "id": "74b0498b",
   "metadata": {},
   "outputs": [
    {
     "name": "stdout",
     "output_type": "stream",
     "text": [
      "11. 좌우공백제거 : [Python is easy.]\n",
      "11. 좌측공백제거 : [Python is easy.     ]\n",
      "11. 우측공백제거 : [      Python is easy.]\n",
      "12. 숫자문자열인지 :  False\n",
      "13. 소문자문자열인지 :  False\n",
      "13. 대문자문자열인지 :  False\n",
      "14. , 제거 :  1000000\n",
      "14. , 제거 :  1000\n"
     ]
    }
   ],
   "source": [
    "temp = '      Python is easy.     '\n",
    "notdigit = \"1,000,000\"\n",
    "num_str = \"1000\"\n",
    "print('11. 좌우공백제거 : [{}]'.format(temp.strip()))\n",
    "print('11. 좌측공백제거 : [{}]'.format(temp.lstrip()))\n",
    "print('11. 우측공백제거 : [{}]'.format(temp.rstrip()))\n",
    "print('12. 숫자문자열인지 : ', notdigit.isdigit())\n",
    "print('13. 소문자문자열인지 : ', temp.islower())\n",
    "print('13. 대문자문자열인지 : ', temp.isupper())\n",
    "print('14. , 제거 : ', notdigit.replace(',',''))\n",
    "print('14. , 제거 : ', num_str.replace(',', ''))"
   ]
  },
  {
   "cell_type": "code",
   "execution_count": 23,
   "id": "63a8e4ac",
   "metadata": {},
   "outputs": [
    {
     "name": "stdout",
     "output_type": "stream",
     "text": [
      "space 단위로 temp를 분리 :  ['홍길동', '김길동', '신길똥', '유길동']\n"
     ]
    }
   ],
   "source": [
    "temp = \"홍길동  김길동   신길똥     유길동\"\n",
    "print(\"space 단위로 temp를 분리 : \", temp.split()) # 기본이 space 단위로 분리"
   ]
  },
  {
   "cell_type": "code",
   "execution_count": 24,
   "id": "4167372b",
   "metadata": {},
   "outputs": [
    {
     "data": {
      "text/plain": [
       "['홍길동', '', '김길동', '', '', '신길똥', '', '', '', '', '유길동']"
      ]
     },
     "execution_count": 24,
     "metadata": {},
     "output_type": "execute_result"
    }
   ],
   "source": [
    "temp.split(\" \")"
   ]
  },
  {
   "cell_type": "code",
   "execution_count": 25,
   "id": "734aa22a",
   "metadata": {},
   "outputs": [
    {
     "name": "stdout",
     "output_type": "stream",
     "text": [
      " - 단위로 data를 분리(결과 : list)\n",
      "['2025', '04', '10']\n",
      "년 : 2025\n",
      "월 : 04\n",
      "일 : 10\n"
     ]
    }
   ],
   "source": [
    "data = \"2025-04-10\"\n",
    "print(' - 단위로 data를 분리(결과 : list)')\n",
    "data_list = data.split('-')\n",
    "print(data_list)\n",
    "print(\"년 :\", data_list[0])\n",
    "print(\"월 :\", data_list[1])\n",
    "print(\"일 :\", data_list[2])"
   ]
  },
  {
   "cell_type": "code",
   "execution_count": 26,
   "id": "c4ef80ff",
   "metadata": {},
   "outputs": [
    {
     "name": "stdout",
     "output_type": "stream",
     "text": [
      "원 데이터 : Python - HTML/CSS - JavaScript - DBMS\n",
      "분리된 데이터 : ['Python', 'HTML/CSS', 'JavaScript', 'DBMS']\n",
      "join된 데이터 : Python/HTML/CSS/JavaScript/DBMS\n"
     ]
    }
   ],
   "source": [
    "# ' - ' -> '/' 로 바꾸기\n",
    "temp = \"Python - HTML/CSS - JavaScript - DBMS\"\n",
    "# temp.replace(' - ', '/')\n",
    "print('원 데이터 :', temp)\n",
    "splited_temp = temp.split(' - ')\n",
    "print('분리된 데이터 :', splited_temp)  # type = list\n",
    "joined_temp = '/'.join(splited_temp)\n",
    "print('join된 데이터 :', joined_temp)"
   ]
  },
  {
   "cell_type": "code",
   "execution_count": 27,
   "id": "d88a19aa",
   "metadata": {},
   "outputs": [],
   "source": [
    "str_ = 'ABC' # 문자도 인덱스가 있다. \n",
    "# str_ = ['A', 'B', 'C']"
   ]
  },
  {
   "cell_type": "code",
   "execution_count": 28,
   "id": "1f264a2f",
   "metadata": {},
   "outputs": [
    {
     "data": {
      "text/plain": [
       "['__add__',\n",
       " '__class__',\n",
       " '__contains__',\n",
       " '__delattr__',\n",
       " '__dir__',\n",
       " '__doc__',\n",
       " '__eq__',\n",
       " '__format__',\n",
       " '__ge__',\n",
       " '__getattribute__',\n",
       " '__getitem__',\n",
       " '__getnewargs__',\n",
       " '__gt__',\n",
       " '__hash__',\n",
       " '__init__',\n",
       " '__init_subclass__',\n",
       " '__iter__',\n",
       " '__le__',\n",
       " '__len__',\n",
       " '__lt__',\n",
       " '__mod__',\n",
       " '__mul__',\n",
       " '__ne__',\n",
       " '__new__',\n",
       " '__reduce__',\n",
       " '__reduce_ex__',\n",
       " '__repr__',\n",
       " '__rmod__',\n",
       " '__rmul__',\n",
       " '__setattr__',\n",
       " '__sizeof__',\n",
       " '__str__',\n",
       " '__subclasshook__',\n",
       " 'capitalize',\n",
       " 'casefold',\n",
       " 'center',\n",
       " 'count',\n",
       " 'encode',\n",
       " 'endswith',\n",
       " 'expandtabs',\n",
       " 'find',\n",
       " 'format',\n",
       " 'format_map',\n",
       " 'index',\n",
       " 'isalnum',\n",
       " 'isalpha',\n",
       " 'isascii',\n",
       " 'isdecimal',\n",
       " 'isdigit',\n",
       " 'isidentifier',\n",
       " 'islower',\n",
       " 'isnumeric',\n",
       " 'isprintable',\n",
       " 'isspace',\n",
       " 'istitle',\n",
       " 'isupper',\n",
       " 'join',\n",
       " 'ljust',\n",
       " 'lower',\n",
       " 'lstrip',\n",
       " 'maketrans',\n",
       " 'partition',\n",
       " 'removeprefix',\n",
       " 'removesuffix',\n",
       " 'replace',\n",
       " 'rfind',\n",
       " 'rindex',\n",
       " 'rjust',\n",
       " 'rpartition',\n",
       " 'rsplit',\n",
       " 'rstrip',\n",
       " 'split',\n",
       " 'splitlines',\n",
       " 'startswith',\n",
       " 'strip',\n",
       " 'swapcase',\n",
       " 'title',\n",
       " 'translate',\n",
       " 'upper',\n",
       " 'zfill']"
      ]
     },
     "execution_count": 28,
     "metadata": {},
     "output_type": "execute_result"
    }
   ],
   "source": [
    "# 문자열이 다룰 수 있는 함수들과 변수들 목록\n",
    "dir(str)"
   ]
  },
  {
   "cell_type": "markdown",
   "id": "d6a8e7f8",
   "metadata": {},
   "source": [
    "# 7절. 시간, 날짜, 날짜시간 다루기"
   ]
  },
  {
   "cell_type": "code",
   "execution_count": 8,
   "id": "f1509c91",
   "metadata": {},
   "outputs": [
    {
     "data": {
      "text/plain": [
       "'C:\\\\Users\\\\Admin\\\\anaconda3\\\\lib\\\\datetime.py'"
      ]
     },
     "execution_count": 8,
     "metadata": {},
     "output_type": "execute_result"
    }
   ],
   "source": [
    "import datetime\n",
    "datetime.__file__"
   ]
  },
  {
   "cell_type": "code",
   "execution_count": 9,
   "id": "4c9dd7a4",
   "metadata": {},
   "outputs": [],
   "source": [
    "# datetime모듈(datetime.py) 안의 datetime, date, time을 import \n",
    "from datetime import datetime, date, time"
   ]
  },
  {
   "cell_type": "markdown",
   "id": "0c202682",
   "metadata": {},
   "source": [
    "## 7.1 시간과 날짜"
   ]
  },
  {
   "cell_type": "code",
   "execution_count": 11,
   "id": "ce7a28af",
   "metadata": {},
   "outputs": [
    {
     "data": {
      "text/plain": [
       "datetime.datetime(2025, 4, 7, 9, 30)"
      ]
     },
     "execution_count": 11,
     "metadata": {},
     "output_type": "execute_result"
    }
   ],
   "source": [
    "# 특정한 시점을 갖는 datetime 객체 생성\n",
    "thatday = datetime(2025, 4, 7, 9, 30, 0)\n",
    "thatday"
   ]
  },
  {
   "cell_type": "code",
   "execution_count": 23,
   "id": "ab548d3f",
   "metadata": {},
   "outputs": [
    {
     "name": "stdout",
     "output_type": "stream",
     "text": [
      "2025-04-07 09:30:00\n",
      "Mon Apr  7 09:30:00 2025\n",
      "2025년04월07일 AM 09시30분 00초\n",
      "2025년04월07일(Monday) AM 09시30분 00초\n"
     ]
    }
   ],
   "source": [
    "print(thatday)\n",
    "print(thatday.ctime()) # ctime() : 사람이 읽기 쉬운 형태로 반환\n",
    "print(\"{:%Y년%m월%d일 %p %I시%M분 %S초}\".format(thatday))\n",
    "print(thatday.strftime(\"%Y년%m월%d일(%A) %p %I시%M분 %S초\"))"
   ]
  },
  {
   "cell_type": "code",
   "execution_count": 25,
   "id": "438961f0",
   "metadata": {},
   "outputs": [
    {
     "data": {
      "text/plain": [
       "'ko_KR'"
      ]
     },
     "execution_count": 25,
     "metadata": {},
     "output_type": "execute_result"
    }
   ],
   "source": [
    "import locale\n",
    "locale.setlocale(locale.LC_TIME, 'ko_KR')"
   ]
  },
  {
   "cell_type": "code",
   "execution_count": 30,
   "id": "ed5ef6b8",
   "metadata": {},
   "outputs": [
    {
     "name": "stdout",
     "output_type": "stream",
     "text": [
      "25-0411(금요일) 10:14:56\n"
     ]
    }
   ],
   "source": [
    "now = datetime.now()\n",
    "print(now.strftime(\"%y-%m%d(%A) %H:%M:%S\"))"
   ]
  },
  {
   "cell_type": "code",
   "execution_count": 35,
   "id": "bfc49d3c",
   "metadata": {},
   "outputs": [
    {
     "data": {
      "text/plain": [
       "4"
      ]
     },
     "execution_count": 35,
     "metadata": {},
     "output_type": "execute_result"
    }
   ],
   "source": [
    "diff = now - thatday\n",
    "diff.days"
   ]
  },
  {
   "cell_type": "markdown",
   "id": "2b7bd21e",
   "metadata": {},
   "source": [
    "## 7.2 날짜"
   ]
  },
  {
   "cell_type": "code",
   "execution_count": 48,
   "id": "8c945625",
   "metadata": {},
   "outputs": [
    {
     "data": {
      "text/plain": [
       "datetime.date(2025, 9, 2)"
      ]
     },
     "execution_count": 48,
     "metadata": {},
     "output_type": "execute_result"
    }
   ],
   "source": [
    "someday = date(2025, 9, 2)\n",
    "someday"
   ]
  },
  {
   "cell_type": "code",
   "execution_count": 49,
   "id": "467443fc",
   "metadata": {},
   "outputs": [
    {
     "name": "stdout",
     "output_type": "stream",
     "text": [
      "2025년09월02일\n"
     ]
    }
   ],
   "source": [
    "print(someday.strftime(\"%Y년%m월%d일\"))"
   ]
  },
  {
   "cell_type": "code",
   "execution_count": 50,
   "id": "cb46b6ea",
   "metadata": {},
   "outputs": [
    {
     "data": {
      "text/plain": [
       "True"
      ]
     },
     "execution_count": 50,
     "metadata": {},
     "output_type": "execute_result"
    }
   ],
   "source": [
    "# 오늘\n",
    "today1 = datetime.now().date()\n",
    "today2 = date.today()\n",
    "today1 == today2"
   ]
  },
  {
   "cell_type": "code",
   "execution_count": 47,
   "id": "cc2fe14f",
   "metadata": {},
   "outputs": [
    {
     "name": "stdout",
     "output_type": "stream",
     "text": [
      "25년 04월 11일\n"
     ]
    }
   ],
   "source": [
    "print(today1.strftime(\"%y년 %m월 %d일\"))"
   ]
  },
  {
   "cell_type": "code",
   "execution_count": 56,
   "id": "1b806a90",
   "metadata": {},
   "outputs": [
    {
     "data": {
      "text/plain": [
       "144"
      ]
     },
     "execution_count": 56,
     "metadata": {},
     "output_type": "execute_result"
    }
   ],
   "source": [
    "diff = someday - today\n",
    "diff.days"
   ]
  },
  {
   "cell_type": "markdown",
   "id": "7219db2b",
   "metadata": {},
   "source": [
    "## 7.3 시간"
   ]
  },
  {
   "cell_type": "code",
   "execution_count": 65,
   "id": "c15deb6d",
   "metadata": {},
   "outputs": [
    {
     "name": "stdout",
     "output_type": "stream",
     "text": [
      "오후 01시 10분\n"
     ]
    }
   ],
   "source": [
    "# 특정 시간\n",
    "t = time(13, 10)\n",
    "print(t.strftime(\"%p %I시 %M분\"))"
   ]
  },
  {
   "cell_type": "code",
   "execution_count": 67,
   "id": "c768b0d1",
   "metadata": {},
   "outputs": [
    {
     "data": {
      "text/plain": [
       "datetime.time(10, 42, 19, 918551)"
      ]
     },
     "execution_count": 67,
     "metadata": {},
     "output_type": "execute_result"
    }
   ],
   "source": [
    "# 지금 시간\n",
    "now_time = datetime.now().time()\n",
    "now_time"
   ]
  },
  {
   "cell_type": "code",
   "execution_count": 68,
   "id": "73fb1c6e",
   "metadata": {},
   "outputs": [
    {
     "data": {
      "text/plain": [
       "'10시 42분 19초'"
      ]
     },
     "execution_count": 68,
     "metadata": {},
     "output_type": "execute_result"
    }
   ],
   "source": [
    "now_time.strftime(\"%H시 %M분 %S초\")"
   ]
  },
  {
   "cell_type": "markdown",
   "id": "4f32a792",
   "metadata": {},
   "source": [
    "**datetime, date, time 형들을 원하는 포맷의 문자형으로 반환 : strftime()**\n",
    "- %Y, %y, %m, %d, %A(요일), %p(오전/오후), %H(24시), %I(12시), %M(분), %S(초)"
   ]
  },
  {
   "cell_type": "code",
   "execution_count": null,
   "id": "7a7cb936",
   "metadata": {},
   "outputs": [],
   "source": []
  },
  {
   "cell_type": "markdown",
   "id": "1c20b439",
   "metadata": {},
   "source": [
    "# 8절. 연습문제"
   ]
  },
  {
   "cell_type": "code",
   "execution_count": 1,
   "id": "2eda7e50",
   "metadata": {},
   "outputs": [],
   "source": [
    "# 1.이름과 나이 변수를 다음 형식으로 출력하도록 format() 함수를 이용해 형식화하세요\n",
    "#   [출력형식 : 홍길동님의 나이는 23 살입니다]\n",
    "# 2.두 정수를 입력받아 두 수의 덧셈 , 뺄셈 , 곱셈 , 나눗셈 , 몫 , 나머지를 출력하세요\n",
    "# 3.문자열의 분리하기와 합치기 기능을 이용하여 ‘Hello 가 할당된 변수를 이용하여\n",
    "# ‘World 로 출력하세요\n",
    "# 4. x = ' abcdef ＇를 이용하여 bcdefa 로 출력하세요 문자 슬라이싱이용\n",
    "# 5. x = ‘ abcdef 를 이용하여 fedcba 로 출력하세요\n",
    "# 6. 오늘의 온도를 섭씨온도로 입력받아 화씨 온도로 변환하는 프로그램을 작성하세요 . \n",
    "#    화씨 온도는 소수점이 있을 경우만 두번째 자리까지 출력되고 , 소수점이하 값이 없는 경우\n",
    "#    소수점을 출력하지 않도록 합니다 다음은 섭씨와 화씨의 변환 공식입니다 . C 는 섭씨 , F 는 화씨)\n",
    "#    C = (F - 32) / 1.8\n",
    "#    F = (C * 1.8) + 32"
   ]
  },
  {
   "cell_type": "code",
   "execution_count": 4,
   "id": "cd87d5ca",
   "metadata": {},
   "outputs": [
    {
     "name": "stdout",
     "output_type": "stream",
     "text": [
      "홍길동님의 나이는 23 살입니다.\n"
     ]
    }
   ],
   "source": [
    "# 1.이름과 나이 변수를 다음 형식으로 출력하도록 format() 함수를 이용해 형식화하세요\n",
    "#   [출력형식 : 홍길동님의 나이는 23 살입니다]\n",
    "name = \"홍길동\"\n",
    "age = 23\n",
    "print(\"{name}님의 나이는 {age} 살입니다.\".format(name = name, \n",
    "                                                age = age))"
   ]
  },
  {
   "cell_type": "code",
   "execution_count": 5,
   "id": "9c0875e5",
   "metadata": {},
   "outputs": [
    {
     "name": "stdout",
     "output_type": "stream",
     "text": [
      "정수를 입력하세요1\n",
      "정수를 입력하세요2\n",
      "a + b = 3\n",
      "a - b = -1\n",
      "a * b = 2\n",
      "a / b = 0.5\n",
      "a // b = 0\n",
      "a % b = 1\n"
     ]
    }
   ],
   "source": [
    "# 2.두 정수를 입력받아 두 수의 덧셈 , 뺄셈 , 곱셈 , 나눗셈 , 몫 , 나머지를 출력하세요\n",
    "a = int(input(\"정수를 입력하세요\"))\n",
    "b = int(input(\"정수를 입력하세요\"))\n",
    "print(\"a + b = {}\".format(a+b))\n",
    "print(\"a - b = {}\".format(a-b))\n",
    "print(\"a * b = {}\".format(a*b))\n",
    "print(\"a / b = {}\".format(a/b))\n",
    "print(\"a // b = {}\".format(a//b))\n",
    "print(\"a % b = {}\".format(a%b))"
   ]
  },
  {
   "cell_type": "code",
   "execution_count": null,
   "id": "f099ea89",
   "metadata": {},
   "outputs": [],
   "source": [
    "# 3.문자열의 분리하기와 합치기 기능을 이용하여 ‘Hello World' 가 할당된 변수를 이용하여 \n",
    "# ‘World Hello' 로 출력하세요\n",
    "str_ = \"Hello World\"\n",
    "r_str_ = str_.split()\n",
    "print(r_str_[1] + \" \" + r_str_[0])"
   ]
  },
  {
   "cell_type": "code",
   "execution_count": 33,
   "id": "686b446f",
   "metadata": {},
   "outputs": [
    {
     "name": "stdout",
     "output_type": "stream",
     "text": [
      "bcdefa\n"
     ]
    }
   ],
   "source": [
    "# 4. x = 'abcdef＇를 이용하여 ‘bcdefa’로 출력하세요\n",
    "x = 'abcdef'\n",
    "print(x[1:]+x[0])\n",
    "print(x[1:],x[0], sep='')"
   ]
  },
  {
   "cell_type": "code",
   "execution_count": 34,
   "id": "d3a309d2",
   "metadata": {},
   "outputs": [
    {
     "name": "stdout",
     "output_type": "stream",
     "text": [
      "fedcba\n"
     ]
    }
   ],
   "source": [
    "# 5. x = ‘abcdef' 를 이용하여 'fedcba' 로 출력하세요\n",
    "x = 'abcdef'\n",
    "x = x[::-1]\n",
    "print(x)"
   ]
  },
  {
   "cell_type": "code",
   "execution_count": 35,
   "id": "862cb3f5",
   "metadata": {},
   "outputs": [
    {
     "name": "stdout",
     "output_type": "stream",
     "text": [
      "섭씨 형태의 온도를 입력하세요.11.11\n",
      "입력한 섭씨온도 11.11 는 화씨온도  52.00 입니다.\n"
     ]
    }
   ],
   "source": [
    "# 6.섭씨온도로 입력받아 화씨 온도로 변환\n",
    "c = int(input('섭씨 온도를 입력하세요'))\n",
    "f = (c*1.8)+32\n",
    "\n",
    "# if f%1:\n",
    "# if f - int(f):\n",
    "# if f != int(f):\n",
    "# temp = str(temperature_F).split('.')\n",
    "# if temp[1]!='0':\n",
    "if not f.is_integer():\n",
    "    print(\"섭씨 {}도는 화씨온도로 바꾸면 {:.2f}도 입니다\".format(c, f))\n",
    "else:\n",
    "    print(\"섭씨 {}도는 화씨온도로 바꾸면 {:.0f}도 입니다\".format(c, f))  "
   ]
  },
  {
   "cell_type": "code",
   "execution_count": 36,
   "id": "a34e0984",
   "metadata": {},
   "outputs": [],
   "source": [
    "# 7. 다음 중 변수 선언으로 잘못된 것을 모두 고르시오 [1,2,3,4]\n",
    "# ① for\n",
    "# ② 10th\n",
    "# ③ Student.name\n",
    "# ④ _1234"
   ]
  },
  {
   "cell_type": "code",
   "execution_count": 37,
   "id": "402a5d1b",
   "metadata": {},
   "outputs": [
    {
     "name": "stdout",
     "output_type": "stream",
     "text": [
      "SeounSeoul\n",
      "Seou n Seoul\n"
     ]
    }
   ],
   "source": [
    "# 8. \n",
    "# SeounSeoul\n",
    "# Seou n Seoul\n",
    "text = \"Seoul A001 - programming with python\"\n",
    "print(text[:4]+text[-1]+text.split()[0])\n",
    "print(text[:4], text[-1], text.split()[0])"
   ]
  },
  {
   "cell_type": "code",
   "execution_count": 38,
   "id": "44983026",
   "metadata": {},
   "outputs": [],
   "source": [
    "# 9. 2"
   ]
  },
  {
   "cell_type": "code",
   "execution_count": 39,
   "id": "d772703a",
   "metadata": {},
   "outputs": [
    {
     "ename": "TypeError",
     "evalue": "unsupported operand type(s) for +: 'int' and 'str'",
     "output_type": "error",
     "traceback": [
      "\u001b[1;31m---------------------------------------------------------------------------\u001b[0m",
      "\u001b[1;31mTypeError\u001b[0m                                 Traceback (most recent call last)",
      "Cell \u001b[1;32mIn[39], line 4\u001b[0m\n\u001b[0;32m      2\u001b[0m x \u001b[38;5;241m=\u001b[39m \u001b[38;5;241m5\u001b[39m\n\u001b[0;32m      3\u001b[0m y \u001b[38;5;241m=\u001b[39m \u001b[38;5;124m\"\u001b[39m\u001b[38;5;124mJohn\u001b[39m\u001b[38;5;124m\"\u001b[39m\n\u001b[1;32m----> 4\u001b[0m \u001b[38;5;28mprint\u001b[39m( \u001b[43mx\u001b[49m\u001b[38;5;241;43m+\u001b[39;49m\u001b[43my\u001b[49m)\n",
      "\u001b[1;31mTypeError\u001b[0m: unsupported operand type(s) for +: 'int' and 'str'"
     ]
    }
   ],
   "source": [
    "# 10. 에러 - string + int 는 불가.\n",
    "x = 5\n",
    "y = \"John\"\n",
    "print( x+y)"
   ]
  },
  {
   "cell_type": "code",
   "execution_count": null,
   "id": "ac958a09",
   "metadata": {},
   "outputs": [],
   "source": [
    "# 11.\n",
    "str_ = \"우리 나라 대한 민국\"\n",
    "print(str_.split()[1])"
   ]
  },
  {
   "cell_type": "code",
   "execution_count": null,
   "id": "c2dc0caa",
   "metadata": {},
   "outputs": [],
   "source": []
  }
 ],
 "metadata": {
  "kernelspec": {
   "display_name": "Python 3 (ipykernel)",
   "language": "python",
   "name": "python3"
  },
  "language_info": {
   "codemirror_mode": {
    "name": "ipython",
    "version": 3
   },
   "file_extension": ".py",
   "mimetype": "text/x-python",
   "name": "python",
   "nbconvert_exporter": "python",
   "pygments_lexer": "ipython3",
   "version": "3.10.9"
  },
  "toc": {
   "base_numbering": 1,
   "nav_menu": {},
   "number_sections": false,
   "sideBar": true,
   "skip_h1_title": false,
   "title_cell": "Table of Contents",
   "title_sidebar": "Contents",
   "toc_cell": false,
   "toc_position": {
    "height": "calc(100% - 180px)",
    "left": "10px",
    "top": "150px",
    "width": "204.6px"
   },
   "toc_section_display": true,
   "toc_window_display": true
  }
 },
 "nbformat": 4,
 "nbformat_minor": 5
}
