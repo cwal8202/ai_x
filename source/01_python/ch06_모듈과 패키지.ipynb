{
 "cells": [
  {
   "cell_type": "code",
   "execution_count": 33,
   "id": "78de638f",
   "metadata": {},
   "outputs": [
    {
     "data": {
      "text/html": [
       "\n",
       "<style>\n",
       "div.container{width:86% !important;}\n",
       "div.cell.code_cell.rendered{width:100%;}\n",
       "div.CodeMirror {font-family:Consolas; font-size:15pt;}\n",
       "div.output {font-size:15pt; font-weight:bold;}\n",
       "div.input {font-family:Consolas; font-size:15pt;}\n",
       "div.prompt {min-width:70px;}\n",
       "div#toc-wrapper{padding-top:120px;}\n",
       "div.text_cell_render ul li{font-size:12pt;padding:5px;}\n",
       "table.dataframe{font-size:15px;}\n",
       "</style>\n"
      ],
      "text/plain": [
       "<IPython.core.display.HTML object>"
      ]
     },
     "metadata": {},
     "output_type": "display_data"
    }
   ],
   "source": [
    "from IPython.display import display, HTML\n",
    "display(HTML(\"\"\"\n",
    "<style>\n",
    "div.container{width:86% !important;}\n",
    "div.cell.code_cell.rendered{width:100%;}\n",
    "div.CodeMirror {font-family:Consolas; font-size:15pt;}\n",
    "div.output {font-size:15pt; font-weight:bold;}\n",
    "div.input {font-family:Consolas; font-size:15pt;}\n",
    "div.prompt {min-width:70px;}\n",
    "div#toc-wrapper{padding-top:120px;}\n",
    "div.text_cell_render ul li{font-size:12pt;padding:5px;}\n",
    "table.dataframe{font-size:15px;}\n",
    "</style>\n",
    "\"\"\"))"
   ]
  },
  {
   "cell_type": "markdown",
   "id": "be06c7df",
   "metadata": {},
   "source": [
    "<font size=\"5\" color=\"red\">ch06 모듈과 패키지</font>\n",
    "- 모듈 : 함수, 변수, 클래스 등을 담고 있는 파이썬 코드 파일 (*.py)\n",
    "- 패키지 : 모듈들이 포함된 폴더\n",
    "\n",
    "# 1절. 파이썬 모듈 사용\n",
    "- anaconda는 1500개 이상의 패키지 install(정확한 개수는 버전에 따라 상이)\n",
    "- miniconda : python.org 버전보다 조금 많이 install(최소한의 것만)\n",
    "- python.org = 파이썬 인터프리터와 함께 파이썬 표준 모듈 200여개 install(re, datetime... )"
   ]
  },
  {
   "cell_type": "code",
   "execution_count": 34,
   "id": "f78a0fa1",
   "metadata": {},
   "outputs": [
    {
     "data": {
      "text/plain": [
       "'Fri Apr 18 14:14:05 2025'"
      ]
     },
     "execution_count": 34,
     "metadata": {},
     "output_type": "execute_result"
    }
   ],
   "source": [
    "# 1. import 모듈명\n",
    "import time # time 모듈 안의 모든 함수, 클래스, 변수를 메모리에 load\n",
    "time.ctime()"
   ]
  },
  {
   "cell_type": "code",
   "execution_count": 35,
   "id": "ba9795fc",
   "metadata": {},
   "outputs": [
    {
     "data": {
      "text/plain": [
       "1744953245.9348626"
      ]
     },
     "execution_count": 35,
     "metadata": {},
     "output_type": "execute_result"
    }
   ],
   "source": [
    "time.time()"
   ]
  },
  {
   "cell_type": "code",
   "execution_count": 4,
   "id": "1c65497f",
   "metadata": {},
   "outputs": [],
   "source": [
    "del time # time 모듈에서 unload"
   ]
  },
  {
   "cell_type": "code",
   "execution_count": 5,
   "id": "ee4768d1",
   "metadata": {},
   "outputs": [],
   "source": [
    "# 2. from 모듈(A) import 함수|클래스|변수(B) : A 모듈안의 B만 load\n",
    "#    from 패키지(A) import 모듈(B) : A패키지 안의 B모듈을 load\n",
    "#    from 패키지(A). 모듈명(B) import 함수|클래스|변수(C) : A패키지 밑의 B모듈의 C만 load"
   ]
  },
  {
   "cell_type": "code",
   "execution_count": 6,
   "id": "1fd9886b",
   "metadata": {},
   "outputs": [],
   "source": [
    "from time import ctime, time"
   ]
  },
  {
   "cell_type": "code",
   "execution_count": 7,
   "id": "c77d02d3",
   "metadata": {},
   "outputs": [
    {
     "data": {
      "text/plain": [
       "'Fri Apr 18 12:37:25 2025'"
      ]
     },
     "execution_count": 7,
     "metadata": {},
     "output_type": "execute_result"
    }
   ],
   "source": [
    "ctime()"
   ]
  },
  {
   "cell_type": "code",
   "execution_count": 8,
   "id": "758e9ce0",
   "metadata": {},
   "outputs": [
    {
     "data": {
      "text/plain": [
       "1744947445.710561"
      ]
     },
     "execution_count": 8,
     "metadata": {},
     "output_type": "execute_result"
    }
   ],
   "source": [
    "time()"
   ]
  },
  {
   "cell_type": "code",
   "execution_count": 9,
   "id": "e105c58b",
   "metadata": {},
   "outputs": [],
   "source": [
    "del ctime, time"
   ]
  },
  {
   "cell_type": "code",
   "execution_count": 10,
   "id": "c59e3429",
   "metadata": {},
   "outputs": [],
   "source": [
    "# 3. import 모듈명 as 별칭 : 모듈을 메모리에서 load하고 별칭으로 사용\n",
    "import time as t"
   ]
  },
  {
   "cell_type": "code",
   "execution_count": 11,
   "id": "9ba7c16b",
   "metadata": {},
   "outputs": [
    {
     "data": {
      "text/plain": [
       "'Fri Apr 18 12:37:25 2025'"
      ]
     },
     "execution_count": 11,
     "metadata": {},
     "output_type": "execute_result"
    }
   ],
   "source": [
    "t.ctime()"
   ]
  },
  {
   "cell_type": "code",
   "execution_count": 12,
   "id": "1a4d7a00",
   "metadata": {},
   "outputs": [],
   "source": [
    "del t"
   ]
  },
  {
   "cell_type": "code",
   "execution_count": 13,
   "id": "f6942961",
   "metadata": {},
   "outputs": [],
   "source": [
    "# 4. from 모듈명 import 함수 as 별칭\n",
    "#    from 패키지명 import 모듈명 as 별칭\n",
    "#    from 패키지명.모듈명 import 함수 as 별칭\n",
    "from time import ctime as ct, time as ti"
   ]
  },
  {
   "cell_type": "code",
   "execution_count": 14,
   "id": "b6286194",
   "metadata": {},
   "outputs": [
    {
     "data": {
      "text/plain": [
       "'Fri Apr 18 12:37:25 2025'"
      ]
     },
     "execution_count": 14,
     "metadata": {},
     "output_type": "execute_result"
    }
   ],
   "source": [
    "ct()"
   ]
  },
  {
   "cell_type": "code",
   "execution_count": 15,
   "id": "62e7a711",
   "metadata": {},
   "outputs": [
    {
     "data": {
      "text/plain": [
       "1744947445.8342314"
      ]
     },
     "execution_count": 15,
     "metadata": {},
     "output_type": "execute_result"
    }
   ],
   "source": [
    "ti()"
   ]
  },
  {
   "cell_type": "markdown",
   "id": "0f9a284c",
   "metadata": {},
   "source": [
    "# 2절. 사용자 정의 모듈\n",
    "- 모듈 가져오는 순서 (1)파이썬 표준 모듈 (2) sys.path 변수에 저장된 경로"
   ]
  },
  {
   "cell_type": "code",
   "execution_count": 16,
   "id": "564ac8be",
   "metadata": {},
   "outputs": [
    {
     "data": {
      "text/plain": [
       "['C:\\\\ai_x\\\\source\\\\01_python',\n",
       " 'C:\\\\Users\\\\Admin\\\\anaconda3\\\\python310.zip',\n",
       " 'C:\\\\Users\\\\Admin\\\\anaconda3\\\\DLLs',\n",
       " 'C:\\\\Users\\\\Admin\\\\anaconda3\\\\lib',\n",
       " 'C:\\\\Users\\\\Admin\\\\anaconda3',\n",
       " '',\n",
       " 'C:\\\\Users\\\\Admin\\\\anaconda3\\\\lib\\\\site-packages',\n",
       " 'C:\\\\Users\\\\Admin\\\\anaconda3\\\\lib\\\\site-packages\\\\win32',\n",
       " 'C:\\\\Users\\\\Admin\\\\anaconda3\\\\lib\\\\site-packages\\\\win32\\\\lib',\n",
       " 'C:\\\\Users\\\\Admin\\\\anaconda3\\\\lib\\\\site-packages\\\\Pythonwin']"
      ]
     },
     "execution_count": 16,
     "metadata": {},
     "output_type": "execute_result"
    }
   ],
   "source": [
    "import sys # python 표준모델\n",
    "sys.path   # path()가 아니므로 함수x, path라는 list형태의 변수"
   ]
  },
  {
   "cell_type": "code",
   "execution_count": 17,
   "id": "cae90b89",
   "metadata": {},
   "outputs": [
    {
     "data": {
      "text/plain": [
       "['C:\\\\ai_x\\\\source\\\\01_python',\n",
       " 'C:\\\\Users\\\\Admin\\\\anaconda3\\\\python310.zip',\n",
       " 'C:\\\\Users\\\\Admin\\\\anaconda3\\\\DLLs',\n",
       " 'C:\\\\Users\\\\Admin\\\\anaconda3\\\\lib',\n",
       " 'C:\\\\Users\\\\Admin\\\\anaconda3',\n",
       " '',\n",
       " 'C:\\\\Users\\\\Admin\\\\anaconda3\\\\lib\\\\site-packages',\n",
       " 'C:\\\\Users\\\\Admin\\\\anaconda3\\\\lib\\\\site-packages\\\\win32',\n",
       " 'C:\\\\Users\\\\Admin\\\\anaconda3\\\\lib\\\\site-packages\\\\win32\\\\lib',\n",
       " 'C:\\\\Users\\\\Admin\\\\anaconda3\\\\lib\\\\site-packages\\\\Pythonwin',\n",
       " 'C:\\\\ai_x\\\\source\\\\pylib']"
      ]
     },
     "execution_count": 17,
     "metadata": {},
     "output_type": "execute_result"
    }
   ],
   "source": [
    "sys.path.append(r'C:\\ai_x\\source\\pylib')\n",
    "sys.path"
   ]
  },
  {
   "cell_type": "markdown",
   "id": "7be0b777",
   "metadata": {},
   "source": [
    "## 사용자 정의 모듈"
   ]
  },
  {
   "cell_type": "code",
   "execution_count": 18,
   "id": "696d41ff",
   "metadata": {},
   "outputs": [
    {
     "name": "stdout",
     "output_type": "stream",
     "text": [
      "0 1 1 2 3 5 8 13 21 34 55 89 \n",
      "[0, 1, 1, 2, 3, 5, 8, 13, 21, 34, 55, 89]\n"
     ]
    }
   ],
   "source": [
    "# 1\n",
    "import fibo\n",
    "fibo.fibonacci_print(100)\n",
    "print(fibo.fibonacci_return(100))"
   ]
  },
  {
   "cell_type": "code",
   "execution_count": 19,
   "id": "74423b7e",
   "metadata": {},
   "outputs": [],
   "source": [
    "del fibo"
   ]
  },
  {
   "cell_type": "code",
   "execution_count": 20,
   "id": "8cd59ad0",
   "metadata": {},
   "outputs": [
    {
     "name": "stdout",
     "output_type": "stream",
     "text": [
      "0 1 1 2 3 5 8 \n"
     ]
    }
   ],
   "source": [
    "# 2\n",
    "from fibo import fibonacci_print\n",
    "fibonacci_print(11)"
   ]
  },
  {
   "cell_type": "code",
   "execution_count": 21,
   "id": "03d60968",
   "metadata": {},
   "outputs": [
    {
     "name": "stdout",
     "output_type": "stream",
     "text": [
      "0 1 1 2 3 5 8 13 21 34 55 89 144 \n",
      "[0, 1, 1, 2, 3, 5, 8, 13, 21, 34, 55, 89]\n"
     ]
    }
   ],
   "source": [
    "# 3\n",
    "import fibo as f\n",
    "f.fibonacci_print(200)\n",
    "print(f.fibonacci_return(100))"
   ]
  },
  {
   "cell_type": "code",
   "execution_count": 32,
   "id": "813bb0ec",
   "metadata": {},
   "outputs": [
    {
     "data": {
      "text/plain": [
       "[0, 1, 1, 2, 3, 5, 8, 13, 21, 34, 55, 89, 144]"
      ]
     },
     "execution_count": 32,
     "metadata": {},
     "output_type": "execute_result"
    }
   ],
   "source": [
    "# 4\n",
    "from fibo import fibonacci_return as fibo_r\n",
    "fibo_r(200)"
   ]
  },
  {
   "cell_type": "markdown",
   "id": "c5bb179d",
   "metadata": {},
   "source": [
    "# 3절. 패키지"
   ]
  },
  {
   "cell_type": "code",
   "execution_count": null,
   "id": "097f8d6d",
   "metadata": {},
   "outputs": [],
   "source": [
    "import sys\n",
    "sys.path.append(r'D:\\ai_x\\source\\pylib')"
   ]
  },
  {
   "cell_type": "markdown",
   "id": "12b69597",
   "metadata": {},
   "source": [
    "## 사용자 정의 패키지와 모듈"
   ]
  },
  {
   "cell_type": "code",
   "execution_count": 23,
   "id": "1504f1de",
   "metadata": {},
   "outputs": [
    {
     "name": "stdout",
     "output_type": "stream",
     "text": [
      "sample_pac 패키지를 로드 했습니다.\n"
     ]
    }
   ],
   "source": [
    "import sample_pac"
   ]
  },
  {
   "cell_type": "code",
   "execution_count": 24,
   "id": "f9497f65",
   "metadata": {},
   "outputs": [
    {
     "name": "stdout",
     "output_type": "stream",
     "text": [
      "sample_pac 패키지 안의 ab 패키지를 로드 했습니다.\n"
     ]
    }
   ],
   "source": [
    "from sample_pac.ab import *"
   ]
  },
  {
   "cell_type": "code",
   "execution_count": 26,
   "id": "eb9aee8d",
   "metadata": {},
   "outputs": [
    {
     "name": "stdout",
     "output_type": "stream",
     "text": [
      "sample_pac/ab/a모듈의 hello\n"
     ]
    }
   ],
   "source": [
    "a.hello()"
   ]
  },
  {
   "cell_type": "code",
   "execution_count": 27,
   "id": "717497a8",
   "metadata": {},
   "outputs": [
    {
     "ename": "NameError",
     "evalue": "name 'b' is not defined",
     "output_type": "error",
     "traceback": [
      "\u001b[1;31m---------------------------------------------------------------------------\u001b[0m",
      "\u001b[1;31mNameError\u001b[0m                                 Traceback (most recent call last)",
      "Cell \u001b[1;32mIn[27], line 1\u001b[0m\n\u001b[1;32m----> 1\u001b[0m \u001b[43mb\u001b[49m\u001b[38;5;241m.\u001b[39mworld()\n",
      "\u001b[1;31mNameError\u001b[0m: name 'b' is not defined"
     ]
    }
   ],
   "source": [
    "b.world()"
   ]
  },
  {
   "cell_type": "code",
   "execution_count": 29,
   "id": "948ddadb",
   "metadata": {},
   "outputs": [
    {
     "name": "stdout",
     "output_type": "stream",
     "text": [
      "sample_pac/ab/b모듈 안의 world\n"
     ]
    }
   ],
   "source": [
    "from sample_pac.ab.b import world\n",
    "world()"
   ]
  },
  {
   "cell_type": "code",
   "execution_count": 30,
   "id": "2b976f86",
   "metadata": {},
   "outputs": [
    {
     "name": "stdout",
     "output_type": "stream",
     "text": [
      "sample_pac 패키지를 로드 했습니다.\n",
      "sample_pac/cd/c모듈 안의 nice\n",
      "sample_pac/ab/a모듈의 hello\n"
     ]
    }
   ],
   "source": [
    "import sample_pac.cd.c as c\n",
    "c.nice()"
   ]
  },
  {
   "cell_type": "code",
   "execution_count": 31,
   "id": "947df56f",
   "metadata": {},
   "outputs": [
    {
     "name": "stdout",
     "output_type": "stream",
     "text": [
      "sample_pac/ab/a모듈의 hello\n"
     ]
    }
   ],
   "source": [
    "c.a.hello()"
   ]
  },
  {
   "cell_type": "markdown",
   "id": "5602ad00",
   "metadata": {},
   "source": [
    "# 4절. 패키지 설치 및 삭제\n",
    "\n",
    "* 아나콘다 프롬프트에서 실행\n",
    "- 패키지 설치 : pip install 패키지명[==버전] / conda install 패키지명[==버전]\n",
    "              pip install 패키지파일명(*.whl 출처 : pypi.org)\n",
    "- 패키지 확인 : pip show 패키지명            / conda list 패키지명\n",
    "- 패키지 삭제 : pip uninstall 패키지명       / conda remove 패키지명"
   ]
  },
  {
   "cell_type": "code",
   "execution_count": 37,
   "id": "cdfdffa4",
   "metadata": {},
   "outputs": [],
   "source": [
    "import objgraph # 메모리 사용량 출력하는 함수"
   ]
  },
  {
   "cell_type": "code",
   "execution_count": 38,
   "id": "db3d12d9",
   "metadata": {},
   "outputs": [
    {
     "name": "stdout",
     "output_type": "stream",
     "text": [
      "dict          34460\n",
      "list          28413\n",
      "function      18555\n",
      "Token         16782\n",
      "tuple         13246\n",
      "Operator      10491\n",
      "Name          9434\n",
      "PythonNode    6730\n",
      "ReferenceType 5539\n",
      "DFAPlan       5418\n"
     ]
    }
   ],
   "source": [
    "objgraph.show_most_common_types()"
   ]
  },
  {
   "cell_type": "markdown",
   "id": "9444fc30",
   "metadata": {},
   "source": [
    "# 5절. 연습문제"
   ]
  },
  {
   "cell_type": "code",
   "execution_count": null,
   "id": "26795ace",
   "metadata": {},
   "outputs": [],
   "source": [
    "# 1. 3\n",
    "# 2. 4\n",
    "# 3. __init__.py\n",
    "# 4. __all__\n",
    "# 5. (1) python -m pip install --upgrade pip (pip 최신버전으로 upgrade)"
   ]
  },
  {
   "cell_type": "code",
   "execution_count": null,
   "id": "62d422d4",
   "metadata": {},
   "outputs": [],
   "source": []
  },
  {
   "cell_type": "code",
   "execution_count": null,
   "id": "ff29591b",
   "metadata": {},
   "outputs": [],
   "source": []
  },
  {
   "cell_type": "code",
   "execution_count": null,
   "id": "2332c356",
   "metadata": {},
   "outputs": [],
   "source": []
  },
  {
   "cell_type": "code",
   "execution_count": null,
   "id": "045ef5ef",
   "metadata": {},
   "outputs": [],
   "source": []
  },
  {
   "cell_type": "code",
   "execution_count": null,
   "id": "a04133a9",
   "metadata": {},
   "outputs": [],
   "source": []
  },
  {
   "cell_type": "code",
   "execution_count": null,
   "id": "90366aa2",
   "metadata": {},
   "outputs": [],
   "source": []
  }
 ],
 "metadata": {
  "kernelspec": {
   "display_name": "Python 3 (ipykernel)",
   "language": "python",
   "name": "python3"
  },
  "language_info": {
   "codemirror_mode": {
    "name": "ipython",
    "version": 3
   },
   "file_extension": ".py",
   "mimetype": "text/x-python",
   "name": "python",
   "nbconvert_exporter": "python",
   "pygments_lexer": "ipython3",
   "version": "3.10.9"
  },
  "toc": {
   "base_numbering": 1,
   "nav_menu": {},
   "number_sections": false,
   "sideBar": true,
   "skip_h1_title": false,
   "title_cell": "Table of Contents",
   "title_sidebar": "Contents",
   "toc_cell": false,
   "toc_position": {
    "height": "calc(100% - 180px)",
    "left": "10px",
    "top": "150px",
    "width": "235.6px"
   },
   "toc_section_display": true,
   "toc_window_display": true
  }
 },
 "nbformat": 4,
 "nbformat_minor": 5
}
