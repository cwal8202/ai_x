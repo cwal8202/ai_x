{
 "cells": [
  {
   "cell_type": "code",
   "execution_count": 1,
   "id": "a0d970e3",
   "metadata": {},
   "outputs": [
    {
     "data": {
      "text/html": [
       "\n",
       "<style>\n",
       "div.container{width:85% !important;}\n",
       "div.cell.code_cell.rendered{width:100%;}\n",
       "div.input_prompt{padding:0px;}\n",
       "div.CodeMirror {font-family:Consolas; font-size:15pt;}\n",
       "div.output {font-size:12pt; font-weight:bold;}\n",
       "div.input {font-family:Consolas; font-size:15pt;}\n",
       "div.prompt {min-width:70px;}\n",
       "div#toc-wrapper{padding-top:120px;}\n",
       "div.text_cell_render ul li{font-size:15pt;padding:5px;}\n",
       "table.dataframe{font-size:15px;}\n",
       "</style>\n"
      ],
      "text/plain": [
       "<IPython.core.display.HTML object>"
      ]
     },
     "metadata": {},
     "output_type": "display_data"
    }
   ],
   "source": [
    "from IPython.display import display, HTML\n",
    "display(HTML(\"\"\"\n",
    "<style>\n",
    "div.container{width:85% !important;}\n",
    "div.cell.code_cell.rendered{width:100%;}\n",
    "div.input_prompt{padding:0px;}\n",
    "div.CodeMirror {font-family:Consolas; font-size:15pt;}\n",
    "div.output {font-size:12pt; font-weight:bold;}\n",
    "div.input {font-family:Consolas; font-size:15pt;}\n",
    "div.prompt {min-width:70px;}\n",
    "div#toc-wrapper{padding-top:120px;}\n",
    "div.text_cell_render ul li{font-size:15pt;padding:5px;}\n",
    "table.dataframe{font-size:15px;}\n",
    "</style>\n",
    "\"\"\"))"
   ]
  },
  {
   "cell_type": "markdown",
   "id": "807517f5",
   "metadata": {},
   "source": [
    "<b><font color=\"red\" size=\"5\">ch05. 함수</font></b>\n",
    "- 사용할 코드를 묶어 놓고 그것에 이름을 붙인 것\n",
    "- 오버로딩(함수 이름이 같고, 매개변수의 갯수로 다른 함수를 허용하는 것) 불가\n",
    "- 함수 정의\n",
    "```\n",
    "def 함수명([매개변수1, .. 매개변수n]):\n",
    "    명령어1\n",
    "    명령어2\n",
    "    명령어n\n",
    "```\n",
    "# 1절. 함수의 정의 및 사용\n",
    "## 1.1 함수 정의"
   ]
  },
  {
   "cell_type": "code",
   "execution_count": 218,
   "id": "5b5744f8",
   "metadata": {},
   "outputs": [],
   "source": [
    "# 함수 정의\n",
    "def my_message(x, msg): # msg를 x번 출력하는 함수\n",
    "    for i in range(x):\n",
    "        print(msg)"
   ]
  },
  {
   "cell_type": "code",
   "execution_count": 219,
   "id": "b995128e",
   "metadata": {},
   "outputs": [
    {
     "name": "stdout",
     "output_type": "stream",
     "text": [
      "Hello\n",
      "Hello\n",
      "Hello\n",
      "Hello\n",
      "Hello\n"
     ]
    }
   ],
   "source": [
    "# 함수 사용\n",
    "my_message(5, 'Hello')"
   ]
  },
  {
   "cell_type": "code",
   "execution_count": 220,
   "id": "b1f2c277",
   "metadata": {},
   "outputs": [
    {
     "name": "stdout",
     "output_type": "stream",
     "text": [
      "hello\n",
      "hello\n",
      "hello\n"
     ]
    }
   ],
   "source": [
    "my_msg = my_message\n",
    "my_msg(3, 'hello')"
   ]
  },
  {
   "cell_type": "code",
   "execution_count": 221,
   "id": "e11ccb90",
   "metadata": {},
   "outputs": [
    {
     "data": {
      "text/plain": [
       "(function, function)"
      ]
     },
     "execution_count": 221,
     "metadata": {},
     "output_type": "execute_result"
    }
   ],
   "source": [
    "type(my_msg), type(my_message)"
   ]
  },
  {
   "cell_type": "code",
   "execution_count": 222,
   "id": "bd3427bf",
   "metadata": {},
   "outputs": [
    {
     "name": "stdout",
     "output_type": "stream",
     "text": [
      "Hello\n",
      "Hello\n"
     ]
    }
   ],
   "source": [
    "print('Hello') # 파이썬 내장함수(import 하지 않고 사용할 수 있는 함수)\n",
    "print = 5\n",
    "# print('Hello')\n",
    "del print\n",
    "print('Hello')"
   ]
  },
  {
   "cell_type": "code",
   "execution_count": 223,
   "id": "03681cdc",
   "metadata": {},
   "outputs": [
    {
     "name": "stdout",
     "output_type": "stream",
     "text": [
      "Hello\n",
      "Hello\n"
     ]
    }
   ],
   "source": [
    "my_message(2, 'Hello')"
   ]
  },
  {
   "cell_type": "code",
   "execution_count": 224,
   "id": "1e7cb32f",
   "metadata": {},
   "outputs": [],
   "source": [
    "my_message = 5"
   ]
  },
  {
   "cell_type": "code",
   "execution_count": 225,
   "id": "fb3b684e",
   "metadata": {},
   "outputs": [
    {
     "ename": "TypeError",
     "evalue": "'int' object is not callable",
     "output_type": "error",
     "traceback": [
      "\u001b[1;31m---------------------------------------------------------------------------\u001b[0m",
      "\u001b[1;31mTypeError\u001b[0m                                 Traceback (most recent call last)",
      "Cell \u001b[1;32mIn[225], line 1\u001b[0m\n\u001b[1;32m----> 1\u001b[0m \u001b[43mmy_message\u001b[49m\u001b[43m(\u001b[49m\u001b[38;5;241;43m2\u001b[39;49m\u001b[43m,\u001b[49m\u001b[43m \u001b[49m\u001b[38;5;124;43m'\u001b[39;49m\u001b[38;5;124;43mHello\u001b[39;49m\u001b[38;5;124;43m'\u001b[39;49m\u001b[43m)\u001b[49m\n",
      "\u001b[1;31mTypeError\u001b[0m: 'int' object is not callable"
     ]
    }
   ],
   "source": [
    "my_message(2, 'Hello')"
   ]
  },
  {
   "cell_type": "code",
   "execution_count": null,
   "id": "48ed8e27",
   "metadata": {},
   "outputs": [],
   "source": [
    "del my_message\n",
    "# 변수를 삭제해도 함수 사용불가(파이썬 내장함수가 아니라서)"
   ]
  },
  {
   "cell_type": "code",
   "execution_count": null,
   "id": "66f77d51",
   "metadata": {},
   "outputs": [],
   "source": [
    "my_message(2, 'Hello')"
   ]
  },
  {
   "cell_type": "code",
   "execution_count": null,
   "id": "6e02225d",
   "metadata": {},
   "outputs": [],
   "source": [
    "# 함수 정의 : 4월16일(수)\n",
    "def my_hello():\n",
    "    print('Hello, Python')\n",
    "    print('Hello, World')\n",
    "    print(__name__)\n",
    "# def my_hello(*cnt):         ## python은 오버로딩 할때 *붙여야 된다.\n",
    "#     for i in range(cnt) :\n",
    "#         print('Hello, Python')\n",
    "#         print('Hello, World')"
   ]
  },
  {
   "cell_type": "code",
   "execution_count": null,
   "id": "36dc3930",
   "metadata": {},
   "outputs": [],
   "source": [
    "# 함수사용=함수호출\n",
    "my_hello()"
   ]
  },
  {
   "cell_type": "code",
   "execution_count": null,
   "id": "53ed04da",
   "metadata": {},
   "outputs": [],
   "source": [
    "my_hello"
   ]
  },
  {
   "cell_type": "code",
   "execution_count": null,
   "id": "9d291b27",
   "metadata": {},
   "outputs": [],
   "source": [
    "__name__"
   ]
  },
  {
   "cell_type": "code",
   "execution_count": null,
   "id": "0dd2e627",
   "metadata": {},
   "outputs": [],
   "source": [
    "if __name__ == '__main__' :\n",
    "    my_hello(2)"
   ]
  },
  {
   "cell_type": "code",
   "execution_count": null,
   "id": "c0bcb1f0",
   "metadata": {},
   "outputs": [],
   "source": [
    "# def my_hello(cnt):\n",
    "#     for i in range(cnt) :\n",
    "#         print('Hello, Python')\n",
    "#         print('Hello, World')\n",
    "        \n",
    "# if __name__ == \"__main__\" :   ## __name__은 호출될때 __main__으로 호출된다.\n",
    "#     my_hello(2)\n",
    "\n",
    "import ch05  # ch05 모듈을 load"
   ]
  },
  {
   "cell_type": "code",
   "execution_count": null,
   "id": "be84b41b",
   "metadata": {},
   "outputs": [],
   "source": [
    "ch05.my_hello(2)"
   ]
  },
  {
   "cell_type": "code",
   "execution_count": null,
   "id": "49ad3a66",
   "metadata": {},
   "outputs": [],
   "source": [
    "from ch05 import my_hello # ch05 모듈 안의 my_hello load\n",
    "my_hello(2)"
   ]
  },
  {
   "cell_type": "markdown",
   "id": "3b13cfb8",
   "metadata": {},
   "source": [
    "## 1.2 docstring"
   ]
  },
  {
   "cell_type": "code",
   "execution_count": null,
   "id": "396a56e0",
   "metadata": {},
   "outputs": [],
   "source": [
    "def my_function():\n",
    "    '''\n",
    "    함수의 첫라인에 닥스트링을 포함할 수 있습니다.\n",
    "    독스트링은 함수의 설명서를 달아주는 역할\n",
    "    주석보다 많은 기능(shift + tab으로 독스트링을 볼 수 있음)\n",
    "    '''\n",
    "    pass"
   ]
  },
  {
   "cell_type": "code",
   "execution_count": null,
   "id": "a31663ee",
   "metadata": {},
   "outputs": [],
   "source": [
    "print(my_function.__doc__)"
   ]
  },
  {
   "cell_type": "code",
   "execution_count": null,
   "id": "2fb2f53c",
   "metadata": {},
   "outputs": [],
   "source": [
    "def fibonacci(n) :\n",
    "    a, b = 0, 1\n",
    "    while a < n : \n",
    "        print(a, end=' ')\n",
    "        a, b = b, a+b\n",
    "    print()\n",
    "fibonacci(4)\n",
    "# 함수 안에 있는 변수는 함수 밖에서 호출 할 수 없다."
   ]
  },
  {
   "cell_type": "markdown",
   "id": "4436e0d4",
   "metadata": {},
   "source": [
    "## 1.3 지역변수(local var)와 전역변수(global var)"
   ]
  },
  {
   "cell_type": "code",
   "execution_count": null,
   "id": "ab1101ca",
   "metadata": {},
   "outputs": [],
   "source": [
    "global_var = 100 # 전역변수\n",
    "def func1() :\n",
    "    print('함수 안 : ', global_var)\n",
    "func1()\n",
    "print('함수 밖 : ', global_var)"
   ]
  },
  {
   "cell_type": "code",
   "execution_count": null,
   "id": "ee13a4ec",
   "metadata": {},
   "outputs": [],
   "source": [
    "def func2() :\n",
    "    local_var = 200 # 지역변수\n",
    "    print('함수 안 : ', local_var)\n",
    "func2()\n",
    "print('함수 밖 : ', local_var)"
   ]
  },
  {
   "cell_type": "code",
   "execution_count": null,
   "id": "ccacc9d0",
   "metadata": {},
   "outputs": [],
   "source": [
    "g_var = 100 # 전역변수\n",
    "def func3() :\n",
    "    g_var = 200\n",
    "    print('함수 안 :', g_var)\n",
    "func3()\n",
    "print('함수 밖 :', g_var)"
   ]
  },
  {
   "cell_type": "code",
   "execution_count": null,
   "id": "302db6f2",
   "metadata": {},
   "outputs": [],
   "source": [
    "# 렉시컬 특성\n",
    "g_var = 100 # 전역변수\n",
    "def func4() :\n",
    "    print('함수 안 g_var :', g_var)\n",
    "    g_var = 200 # 지역변수\n",
    "func4()"
   ]
  },
  {
   "cell_type": "code",
   "execution_count": null,
   "id": "df8c575d",
   "metadata": {},
   "outputs": [],
   "source": [
    "# 렉시컬 특성\n",
    "g_var = 100 # 전역변수\n",
    "def func4() :\n",
    "    global g_var\n",
    "    print('함수 안 g_var :', g_var)\n",
    "    g_var = 200 # 전역변수\n",
    "func4()\n",
    "print('함수 밖 g_var :', g_var)"
   ]
  },
  {
   "cell_type": "markdown",
   "id": "9b2c69e8",
   "metadata": {},
   "source": [
    "## 1.4 값에 의한 호출\n",
    "- 함수의 매개변수(인자)로 전달되는 변수가 스칼라 변수(문자, 숫자, 논리형) 일 때"
   ]
  },
  {
   "cell_type": "code",
   "execution_count": null,
   "id": "33a3b80e",
   "metadata": {},
   "outputs": [],
   "source": [
    "foo = 3\n",
    "id(foo)"
   ]
  },
  {
   "cell_type": "code",
   "execution_count": null,
   "id": "6f643d3e",
   "metadata": {},
   "outputs": [],
   "source": [
    "def func1(f) : # 매개변수 f는 지역변수\n",
    "    print('Before :', f, 'id(f) :', id(f))\n",
    "    f = f * 3\n",
    "    print('After :', f, 'id(f) :', id(f))\n",
    "func1(foo)"
   ]
  },
  {
   "cell_type": "code",
   "execution_count": null,
   "id": "538f7787",
   "metadata": {},
   "outputs": [],
   "source": [
    "print(foo, id(foo))"
   ]
  },
  {
   "cell_type": "markdown",
   "id": "f4ee1314",
   "metadata": {},
   "source": [
    "## 1.5 참조에 의한 호출\n",
    "- 함수의 매개변수(인자)로 전달되는 변수가 리스트, 튜플, 셋, 딕셔너리 등의 객체일 경우"
   ]
  },
  {
   "cell_type": "code",
   "execution_count": null,
   "id": "510aaf08",
   "metadata": {},
   "outputs": [],
   "source": [
    "L = [1, 2, 3]\n",
    "id(L)"
   ]
  },
  {
   "cell_type": "code",
   "execution_count": null,
   "id": "c8e5c15a",
   "metadata": {},
   "outputs": [],
   "source": [
    "def func2(f) : # 매개변수는 지역변수\n",
    "    print('Before :', f, 'id(f) :', id(f))\n",
    "    f.append(4)\n",
    "    print('After :', f, 'id(f) :', id(f))\n",
    "func2(L)"
   ]
  },
  {
   "cell_type": "code",
   "execution_count": null,
   "id": "a79666db",
   "metadata": {},
   "outputs": [],
   "source": [
    "print('L = ', L, id(L))"
   ]
  },
  {
   "cell_type": "markdown",
   "id": "3613e4b5",
   "metadata": {},
   "source": [
    "# 2절. 함수의 실행결과를 반환하는 return"
   ]
  },
  {
   "cell_type": "code",
   "execution_count": null,
   "id": "96e775fc",
   "metadata": {},
   "outputs": [],
   "source": [
    "# return이 없거나, pass 를 쓸 경우 None을 받는다.\n",
    "def fibonacci_print(n) :\n",
    "    '''\n",
    "    매개변수로 들어온 n값 미만의 피보나치 수열을 출력\n",
    "    ex) n = 10 이면 0 1 1 2 3 5 8 을 출력\n",
    "    '''\n",
    "    a, b = 0, 1\n",
    "    while a < n : \n",
    "        print(a, end=' ')\n",
    "        a, b = b, a+b\n",
    "    print() # 개행\n",
    "\n",
    "def fibonacci_return(n):\n",
    "    '''\n",
    "    매개변수로 들어온 n값 미만의 피보나치 수열을 리스트로 return\n",
    "    ex) n = 10 이면 [ 0 1 1 2 3 5 8 ] 을 return\n",
    "    '''\n",
    "    result = []\n",
    "    a, b = 0, 1\n",
    "    while a < n :\n",
    "        result.append(a)\n",
    "        a, b = b, a+b\n",
    "    return result\n"
   ]
  },
  {
   "cell_type": "code",
   "execution_count": null,
   "id": "4a0844b9",
   "metadata": {},
   "outputs": [],
   "source": [
    "x = fibonacci_print(100)\n",
    "print(x)"
   ]
  },
  {
   "cell_type": "code",
   "execution_count": null,
   "id": "b18d5992",
   "metadata": {},
   "outputs": [],
   "source": [
    "x = fibonacci_return(10)\n",
    "print(x)\n",
    "print(type(x))"
   ]
  },
  {
   "cell_type": "markdown",
   "id": "4d4a8749",
   "metadata": {},
   "source": [
    "## 여러개 값 return"
   ]
  },
  {
   "cell_type": "code",
   "execution_count": null,
   "id": "b3df4207",
   "metadata": {},
   "outputs": [],
   "source": [
    "# 튜플로 패킹되어 return 됨.\n",
    "def swap(a, b) : \n",
    "    '매개변수의 순서를 바꿔서 return'\n",
    "    return b, a"
   ]
  },
  {
   "cell_type": "code",
   "execution_count": null,
   "id": "ae13ad06",
   "metadata": {},
   "outputs": [],
   "source": [
    "x, y = 10, 11\n",
    "print(f'함수 실행 전 x={x} y={y}')\n",
    "x, y = swap(x,y)\n",
    "print(f'함수 실행 후 x={x} y={y}')\n",
    "print(type(swap(a,b)))"
   ]
  },
  {
   "cell_type": "markdown",
   "id": "7b830d6a",
   "metadata": {},
   "source": [
    "# 3절 . 함수의 매개변수 ★\n",
    "## 3.1 기본값을 갖는 매개변수"
   ]
  },
  {
   "cell_type": "code",
   "execution_count": null,
   "id": "efd287b5",
   "metadata": {},
   "outputs": [],
   "source": [
    "def make_url(ip, port=80): # 순서 인수 > 기본값을 갖는 매개변수\n",
    "    return \"http://{}:{}\".format(ip, port)"
   ]
  },
  {
   "cell_type": "code",
   "execution_count": null,
   "id": "e946333c",
   "metadata": {},
   "outputs": [],
   "source": [
    "print(make_url(\"naver.com\"))\n",
    "print(make_url(\"localhost\", 8080))\n",
    "print(make_url(port=8090, ip='localhost'))"
   ]
  },
  {
   "cell_type": "markdown",
   "id": "00655dcd",
   "metadata": {},
   "source": [
    "## 3.2 기본 변수를 갖는 매개변수\n",
    "- 기본 변수가 스칼라 변수일 때\n",
    "- 기본 변수가 리스트, 셋, 딕셔너리 등의 객체일 때"
   ]
  },
  {
   "cell_type": "code",
   "execution_count": null,
   "id": "30ba540c",
   "metadata": {},
   "outputs": [],
   "source": [
    "# 함수에 스칼라 변수의 값을 매개변수의 기본값으로 할당 시 함수선언 시점의 변수 값이 기본값이 된다.\n",
    "i = 5\n",
    "l = []\n",
    "def func2(arg=i) :\n",
    "    print('arg =', arg)"
   ]
  },
  {
   "cell_type": "code",
   "execution_count": null,
   "id": "e763f6f0",
   "metadata": {},
   "outputs": [],
   "source": [
    "i = 10"
   ]
  },
  {
   "cell_type": "code",
   "execution_count": null,
   "id": "f8b542c5",
   "metadata": {},
   "outputs": [],
   "source": [
    "func2()"
   ]
  },
  {
   "cell_type": "code",
   "execution_count": null,
   "id": "a23efdde",
   "metadata": {},
   "outputs": [],
   "source": [
    "list_ = []\n",
    "# 기본값을 갖는 변수가 객체(데이터구조)일 때 : arg의 기본값은 호출되는 시점의 값\n",
    "def func3(data, L=list_) :\n",
    "    'data를 L에 append'\n",
    "    L.append(data)\n",
    "    return L"
   ]
  },
  {
   "cell_type": "code",
   "execution_count": null,
   "id": "252e8c5a",
   "metadata": {},
   "outputs": [],
   "source": [
    "print(func3(10)) # list_가 수정 : [10]"
   ]
  },
  {
   "cell_type": "code",
   "execution_count": null,
   "id": "7d37829e",
   "metadata": {},
   "outputs": [],
   "source": [
    "print(func3(20))"
   ]
  },
  {
   "cell_type": "code",
   "execution_count": null,
   "id": "933f849d",
   "metadata": {},
   "outputs": [],
   "source": [
    "list_"
   ]
  },
  {
   "cell_type": "code",
   "execution_count": null,
   "id": "32c1f82a",
   "metadata": {},
   "outputs": [],
   "source": [
    "def func4(data, L=None) :\n",
    "    if L==None:\n",
    "        L = []\n",
    "    L.append(data)\n",
    "    return L"
   ]
  },
  {
   "cell_type": "code",
   "execution_count": null,
   "id": "c25f27e4",
   "metadata": {},
   "outputs": [],
   "source": [
    "print(func4(10))\n",
    "print(func4(10, list_))\n",
    "print(func4(20))"
   ]
  },
  {
   "cell_type": "markdown",
   "id": "bbf2989a",
   "metadata": {},
   "source": [
    "## 3.3 튜플 매개변수를 이용한 가변인수 설정"
   ]
  },
  {
   "cell_type": "code",
   "execution_count": null,
   "id": "9b0e79bc",
   "metadata": {},
   "outputs": [],
   "source": [
    "# 파이썬은 오버로딩(함수의 중복)을 지원하지 않음.\n",
    "def add(a, b):\n",
    "    return a+b\n",
    "def add(a, b, c):\n",
    "    return a+b+c"
   ]
  },
  {
   "cell_type": "code",
   "execution_count": null,
   "id": "9fb65cd3",
   "metadata": {},
   "outputs": [],
   "source": [
    "add(1, 2, 3)"
   ]
  },
  {
   "cell_type": "code",
   "execution_count": null,
   "id": "a6c75b2a",
   "metadata": {},
   "outputs": [],
   "source": [
    "# *args: 매개변수들을 하나의 튜플 변수 args 로 전달 받음\n",
    "def add(*args):\n",
    "    '전달받은 매개변수들의 합을 return'\n",
    "#     print(type(args))\n",
    "#     print(args)\n",
    "    result_tot = 0 # 누적변수\n",
    "    for data in args:\n",
    "        result_tot += data\n",
    "    return result_tot"
   ]
  },
  {
   "cell_type": "code",
   "execution_count": null,
   "id": "1541f7e0",
   "metadata": {},
   "outputs": [],
   "source": [
    "print(add(1))\n",
    "print(add(1,2,3))"
   ]
  },
  {
   "cell_type": "code",
   "execution_count": null,
   "id": "743914da",
   "metadata": {},
   "outputs": [],
   "source": [
    "subject = ('Python', 'Oracle', 'DL', 'ML')\n",
    "'/'.join(subject)"
   ]
  },
  {
   "cell_type": "code",
   "execution_count": null,
   "id": "fc9775f6",
   "metadata": {},
   "outputs": [],
   "source": [
    "def concat(*str, sep) :\n",
    "    return sep.join(subject)"
   ]
  },
  {
   "cell_type": "code",
   "execution_count": null,
   "id": "b642ac49",
   "metadata": {},
   "outputs": [],
   "source": [
    "concat('Python', 'Oracle', 'DL', 'ML', '/')\n",
    "# => Python/Oracle/DL/ML"
   ]
  },
  {
   "cell_type": "code",
   "execution_count": null,
   "id": "58df27f7",
   "metadata": {},
   "outputs": [],
   "source": [
    "# 해결책 1 : 매개변수 이름을 지정해서 호출\n",
    "concat('Python', 'Oracle', 'DL', 'ML', sep=' / ')"
   ]
  },
  {
   "cell_type": "code",
   "execution_count": null,
   "id": "7c933aec",
   "metadata": {},
   "outputs": [],
   "source": [
    "# 해결책 2 : 기본값을 반드시 갖는 키워드 인수 사용. 키워드 명시를 해야 키워드 인수라고 한다.\n",
    "def concat(*subject, sep=' ~ '):\n",
    "    return sep.join(subject)"
   ]
  },
  {
   "cell_type": "code",
   "execution_count": null,
   "id": "f92e9a9f",
   "metadata": {},
   "outputs": [],
   "source": [
    "concat('Python', 'Oracle', 'DL', 'ML', sep=' / ')"
   ]
  },
  {
   "cell_type": "code",
   "execution_count": null,
   "id": "56dc81f1",
   "metadata": {},
   "outputs": [],
   "source": [
    "# 해결책 3 : sep을 순서인수로 앞에 선언. default 값 설정이 무의미해짐.\n",
    "def concat(sep=' ~ ', *subject):\n",
    "    return sep.join(subject)"
   ]
  },
  {
   "cell_type": "code",
   "execution_count": null,
   "id": "cfb5682b",
   "metadata": {},
   "outputs": [],
   "source": [
    "concat( '/', 'Python', 'Oracle', 'DL')"
   ]
  },
  {
   "cell_type": "markdown",
   "id": "bde96d56",
   "metadata": {},
   "source": [
    "## 3.4 딕셔너리 매개변수\n",
    "- 여러개의 키워드인수를 딕셔너리 형태로 받아서 가변키워드 인수 처리"
   ]
  },
  {
   "cell_type": "code",
   "execution_count": null,
   "id": "211d8fdc",
   "metadata": {},
   "outputs": [],
   "source": [
    "def func5(**kwArgs) :\n",
    "    print(kwArgs)\n",
    "    print(type(kwArgs))\n",
    "    print('이름 : ', kwArgs.get('name', '최장호'))\n",
    "    print('나이 : ', kwArgs.get('age', 27))\n",
    "    print('주소 : ', kwArgs.get('address', '서울'))"
   ]
  },
  {
   "cell_type": "code",
   "execution_count": null,
   "id": "6edaa942",
   "metadata": {},
   "outputs": [],
   "source": [
    "func5(name='홍길동', age=30, address='신림동')"
   ]
  },
  {
   "cell_type": "code",
   "execution_count": null,
   "id": "36969cac",
   "metadata": {},
   "outputs": [],
   "source": [
    "func5(name='김길동')"
   ]
  },
  {
   "cell_type": "markdown",
   "id": "b9bead34",
   "metadata": {},
   "source": [
    "## 3.5 함수 정의시 매개변수 순서\n",
    "- 순서인수(기본) > 튜플 매개변수(*arg) > 키워드인수(sep='/') > 딕셔너리 매개변수(**arg)\n",
    "    - 튜플매개변수 : 매개변수가 가변 개수가 됨.\n",
    "    - 딕셔너리매개변수 : 키워드 인수를 딕셔너리 형태로 받아 가변 키워드 인수가 됨. ex)name='홍길동', age=30"
   ]
  },
  {
   "cell_type": "code",
   "execution_count": 227,
   "id": "9c20450b",
   "metadata": {},
   "outputs": [],
   "source": [
    "def func6(a, b, *c, **d) : \n",
    "    print('순서인수 a :', a)\n",
    "    print('순서인수 b :', b)\n",
    "    print('튜플인수 c :', c)\n",
    "    print('딕셔너리 인수 d :', d)"
   ]
  },
  {
   "cell_type": "code",
   "execution_count": 229,
   "id": "7a95ee7f",
   "metadata": {},
   "outputs": [
    {
     "name": "stdout",
     "output_type": "stream",
     "text": [
      "순서인수 a : 10\n",
      "순서인수 b : 20\n",
      "튜플인수 c : (1, 2, 3, 4, 5, 6, 7, 8, 9)\n",
      "딕셔너리 인수 d : {'name': '홍길동', 'age': 30, 'address': '서울'}\n"
     ]
    }
   ],
   "source": [
    "func6(10, 20, 1,2,3,4,5,6,7,8,9, name='홍길동', age=30, address='서울')"
   ]
  },
  {
   "cell_type": "code",
   "execution_count": 231,
   "id": "a33dfdb4",
   "metadata": {},
   "outputs": [],
   "source": [
    "def func7(a, b, *c, d='기본값', **e) : \n",
    "    print('순서인수 a :', a) \n",
    "    print('순서인수 b :', b) \n",
    "    print('튜플인수 c :', c) \n",
    "    print('키워드인수(매개변수 명시 필수!) d :', d) \n",
    "    print('딕셔너리인수 e :', e)"
   ]
  },
  {
   "cell_type": "code",
   "execution_count": 235,
   "id": "6ff08df9",
   "metadata": {},
   "outputs": [
    {
     "name": "stdout",
     "output_type": "stream",
     "text": [
      "순서인수 a : 10\n",
      "순서인수 b : 20\n",
      "튜플인수 c : (1, 2, 3)\n",
      "키워드인수(매개변수 명시 필수!) d : test\n",
      "딕셔너리인수 e : {'fontsize': 12, 'fontfamily': 'consola'}\n"
     ]
    }
   ],
   "source": [
    "func7(10, 20, 1,2,3, d='test',fontsize=12, fontfamily='consola')"
   ]
  },
  {
   "cell_type": "markdown",
   "id": "5b691788",
   "metadata": {},
   "source": [
    "## 3.6 인수의 언패킹  (인수 == 언패킹)\n",
    "### 튜플 인수 언패킹\n",
    "- 언패킹 : 함수 호출시 매개변수 앞에 * 붙임\n",
    "- 패킹 : 함수 정의시 매개변수 앞에 * 붙임(튜플 매개변수)"
   ]
  },
  {
   "cell_type": "code",
   "execution_count": 67,
   "id": "dc232b59",
   "metadata": {},
   "outputs": [],
   "source": [
    "def add(*args) :\n",
    "    print(args)\n",
    "    tot = 0\n",
    "    for num in args:\n",
    "        tot += num\n",
    "    return tot"
   ]
  },
  {
   "cell_type": "code",
   "execution_count": 240,
   "id": "412c1477",
   "metadata": {},
   "outputs": [
    {
     "name": "stdout",
     "output_type": "stream",
     "text": [
      "(1, 2, 3, 4)\n"
     ]
    },
    {
     "data": {
      "text/plain": [
       "10"
      ]
     },
     "execution_count": 240,
     "metadata": {},
     "output_type": "execute_result"
    }
   ],
   "source": [
    "add(1, 2, 3, 4)"
   ]
  },
  {
   "cell_type": "code",
   "execution_count": 70,
   "id": "7881e8ca",
   "metadata": {},
   "outputs": [
    {
     "name": "stdout",
     "output_type": "stream",
     "text": [
      "(1, 2, 3, 4)\n"
     ]
    },
    {
     "data": {
      "text/plain": [
       "10"
      ]
     },
     "execution_count": 70,
     "metadata": {},
     "output_type": "execute_result"
    }
   ],
   "source": [
    "numbers = [1, 2, 3, 4]\n",
    "add(*numbers)   # 언패킹"
   ]
  },
  {
   "cell_type": "code",
   "execution_count": 249,
   "id": "7d98ad0a",
   "metadata": {},
   "outputs": [
    {
     "name": "stdout",
     "output_type": "stream",
     "text": [
      "(1, 2, 3, 4)\n"
     ]
    },
    {
     "data": {
      "text/plain": [
       "10"
      ]
     },
     "execution_count": 249,
     "metadata": {},
     "output_type": "execute_result"
    }
   ],
   "source": [
    "numbers = (1,2,3,4)\n",
    "add(*numbers)   # 언패킹"
   ]
  },
  {
   "cell_type": "markdown",
   "id": "1f8bd0de",
   "metadata": {},
   "source": [
    "### 딕셔너리 인수 언패킹\n",
    "- 언패킹 : 함수 호출시 매개변수 앞에 ** 붙임\n",
    "- 패킹 : 함수 정의시 매개변수 앞에 ** 붙임(딕셔너리 매개변수)"
   ]
  },
  {
   "cell_type": "code",
   "execution_count": 250,
   "id": "f40c7213",
   "metadata": {},
   "outputs": [],
   "source": [
    "def func5(**data):\n",
    "    print(type(data))\n",
    "    for key, item in data.items():\n",
    "        print(f'{key}:{item}')"
   ]
  },
  {
   "cell_type": "code",
   "execution_count": 252,
   "id": "52f05311",
   "metadata": {},
   "outputs": [
    {
     "name": "stdout",
     "output_type": "stream",
     "text": [
      "<class 'dict'>\n",
      "name:홍길동\n",
      "age:30\n",
      "address:신림\n"
     ]
    }
   ],
   "source": [
    "func5(name='홍길동', age=30, address='신림')"
   ]
  },
  {
   "cell_type": "code",
   "execution_count": 255,
   "id": "4f89538a",
   "metadata": {},
   "outputs": [
    {
     "name": "stdout",
     "output_type": "stream",
     "text": [
      "<class 'dict'>\n",
      "name:홍길동\n",
      "age:30\n",
      "address:서울시 강남구\n",
      "score:900\n"
     ]
    }
   ],
   "source": [
    "customInfo = {'name':'홍길동', 'age':30, 'address':'서울시 강남구', 'score':900}\n",
    "func5(**customInfo)"
   ]
  },
  {
   "cell_type": "markdown",
   "id": "593c8329",
   "metadata": {},
   "source": [
    "# 4절. 람다식\n",
    "- return 한줄짜리 작은 익명함수\n",
    "\n",
    "## 4.1 람다식 연습"
   ]
  },
  {
   "cell_type": "code",
   "execution_count": 265,
   "id": "5b8f248f",
   "metadata": {},
   "outputs": [
    {
     "data": {
      "text/plain": [
       "7"
      ]
     },
     "execution_count": 265,
     "metadata": {},
     "output_type": "execute_result"
    }
   ],
   "source": [
    "def add(a, b) :\n",
    "    return a+b\n",
    "add(3 ,4)"
   ]
  },
  {
   "cell_type": "code",
   "execution_count": 266,
   "id": "b0d7b1d4",
   "metadata": {},
   "outputs": [
    {
     "data": {
      "text/plain": [
       "7"
      ]
     },
     "execution_count": 266,
     "metadata": {},
     "output_type": "execute_result"
    }
   ],
   "source": [
    "add2 = lambda a, b : a + b\n",
    "add2(3, 4)"
   ]
  },
  {
   "cell_type": "code",
   "execution_count": 268,
   "id": "c8cb04bc",
   "metadata": {},
   "outputs": [
    {
     "data": {
      "text/plain": [
       "(function, function)"
      ]
     },
     "execution_count": 268,
     "metadata": {},
     "output_type": "execute_result"
    }
   ],
   "source": [
    "type(add), type(add2)"
   ]
  },
  {
   "cell_type": "code",
   "execution_count": 269,
   "id": "914964b9",
   "metadata": {},
   "outputs": [
    {
     "data": {
      "text/plain": [
       "7"
      ]
     },
     "execution_count": 269,
     "metadata": {},
     "output_type": "execute_result"
    }
   ],
   "source": [
    "(lambda a, b : a+b)(3,4)"
   ]
  },
  {
   "cell_type": "code",
   "execution_count": 284,
   "id": "b3488923",
   "metadata": {},
   "outputs": [
    {
     "data": {
      "text/plain": [
       "'짝수'"
      ]
     },
     "execution_count": 284,
     "metadata": {},
     "output_type": "execute_result"
    }
   ],
   "source": [
    "# ex1. 매개변수로 들어온 값이 짝수인지 홀수인지 return\n",
    "ex1 = lambda num : \"홀수\" if num%2 else \"짝수\"\n",
    "ex1(10)"
   ]
  },
  {
   "cell_type": "code",
   "execution_count": 287,
   "id": "19c6a16a",
   "metadata": {},
   "outputs": [
    {
     "data": {
      "text/plain": [
       "1"
      ]
     },
     "execution_count": 287,
     "metadata": {},
     "output_type": "execute_result"
    }
   ],
   "source": [
    "# ex2. 두 매개변수의 차이를 return\n",
    "ex2 = lambda a,b : a-b if a>b else b-a\n",
    "ex2(3,4)"
   ]
  },
  {
   "cell_type": "code",
   "execution_count": 299,
   "id": "4113587e",
   "metadata": {},
   "outputs": [
    {
     "data": {
      "text/plain": [
       "'negative'"
      ]
     },
     "execution_count": 299,
     "metadata": {},
     "output_type": "execute_result"
    }
   ],
   "source": [
    "# ex3. 매개변수로 잔액을 받아 양수면 잔액을 return, 음수면 'negative'를 return\n",
    "ex3 = lambda money, price : money - price if money-price > 0 else 'negative'\n",
    "ex3(1000, 2000)"
   ]
  },
  {
   "cell_type": "code",
   "execution_count": 321,
   "id": "55cf1e2d",
   "metadata": {},
   "outputs": [
    {
     "data": {
      "text/plain": [
       "('유효X', 'A팀')"
      ]
     },
     "execution_count": 321,
     "metadata": {},
     "output_type": "execute_result"
    }
   ],
   "source": [
    "# ex4. 점수를 입력받아 80점 이상은 A팀, 60점 이상은 B팀, 60점 미만은 재시험. \n",
    "# 그외는 유효하지 않음\n",
    "ex4 = lambda score : \"A팀\" if 80 <= score <= 100 else \\\n",
    "                    \"B팀\" if 60 <= score < 80  else \\\n",
    "                    \"재시험\" if 0<= score < 60  else \\\n",
    "                    \"유효X\"\n",
    "ex4(120), ex4(90)"
   ]
  },
  {
   "cell_type": "code",
   "execution_count": 323,
   "id": "5ba3d080",
   "metadata": {},
   "outputs": [
    {
     "data": {
      "text/plain": [
       "(-1, 0)"
      ]
     },
     "execution_count": 323,
     "metadata": {},
     "output_type": "execute_result"
    }
   ],
   "source": [
    "# ex5. safe_index를 람다식으로\n",
    "def safe_index(vector, data) :\n",
    "    if data in vector: # lst 안에 data 있는지 여부\n",
    "        return vector.index(data)\n",
    "    else :\n",
    "        return -1\n",
    "ex5 = lambda vector, data : vector.index(data) if data in vector else -1\n",
    "tup = (1, 2, 3)\n",
    "ex5(tup, 10), ex5(tup, 1)"
   ]
  },
  {
   "cell_type": "markdown",
   "id": "6021e3f2",
   "metadata": {},
   "source": [
    "## 4.2 함수의 매개변수에 람다식 이용\n",
    "### (1) map"
   ]
  },
  {
   "cell_type": "code",
   "execution_count": 5,
   "id": "7234b935",
   "metadata": {},
   "outputs": [],
   "source": [
    "def map_template(func, L=[]) :\n",
    "    '''\n",
    "    L의 모든 요소를 func()함수를 적용시켜 return\n",
    "    [2, 4, 6]\n",
    "    '''\n",
    "    result = []\n",
    "    for l in L :\n",
    "        result.append(func(l))\n",
    "    return result\n",
    "#     return [func(l) for l in L]"
   ]
  },
  {
   "cell_type": "code",
   "execution_count": 6,
   "id": "0e312b9b",
   "metadata": {},
   "outputs": [
    {
     "data": {
      "text/plain": [
       "[2, 4, 6, 8, 10, 12, 14, 16, 18, 20]"
      ]
     },
     "execution_count": 6,
     "metadata": {},
     "output_type": "execute_result"
    }
   ],
   "source": [
    "# 리스트 데이터를 가공 방법 1. map\n",
    "list_data = [1, 2, 3, 4, 5, 6, 7,  8, 9, 10]\n",
    "map_template(lambda x : x*2, list_data)\n",
    "# def x_2(x) :\n",
    "#     return x*2\n",
    "# map_template(x_2, list_data)"
   ]
  },
  {
   "cell_type": "code",
   "execution_count": 7,
   "id": "76c6a0bb",
   "metadata": {},
   "outputs": [
    {
     "data": {
      "text/plain": [
       "[2, 4, 6, 8, 10, 12, 14, 16, 18, 20]"
      ]
     },
     "execution_count": 7,
     "metadata": {},
     "output_type": "execute_result"
    }
   ],
   "source": [
    "# 리스트 데이터를 가공 방법 2. 리스트 컴프리헨션\n",
    "[l*2 for l in list_data]"
   ]
  },
  {
   "cell_type": "code",
   "execution_count": 9,
   "id": "49904894",
   "metadata": {},
   "outputs": [
    {
     "data": {
      "text/plain": [
       "map"
      ]
     },
     "execution_count": 9,
     "metadata": {},
     "output_type": "execute_result"
    }
   ],
   "source": [
    "# 리스트 데이터를 가공 방법 3. map():파이썬 내장함수\n",
    "map(lambda x : x*2, list_data)"
   ]
  },
  {
   "cell_type": "code",
   "execution_count": 8,
   "id": "e02ba18f",
   "metadata": {},
   "outputs": [
    {
     "name": "stdout",
     "output_type": "stream",
     "text": [
      "2 4 6 8 10 12 14 16 18 20 "
     ]
    }
   ],
   "source": [
    "for item in map(lambda x : x*2, list_data):\n",
    "    print(item, end=' ')"
   ]
  },
  {
   "cell_type": "code",
   "execution_count": 11,
   "id": "523571ab",
   "metadata": {},
   "outputs": [],
   "source": [
    "'''\n",
    "예제 1. [5000, 800, 1000, 6000] 로 바꾸시오\n",
    "'''\n",
    "prices = ['5,000', '800', '1000', '6,000']"
   ]
  },
  {
   "cell_type": "code",
   "execution_count": 15,
   "id": "ba73b335",
   "metadata": {},
   "outputs": [
    {
     "ename": "SyntaxError",
     "evalue": "invalid syntax (731325266.py, line 4)",
     "output_type": "error",
     "traceback": [
      "\u001b[1;36m  Cell \u001b[1;32mIn[15], line 4\u001b[1;36m\u001b[0m\n\u001b[1;33m    lambda(x : int(x.replae(',', '')))\u001b[0m\n\u001b[1;37m          ^\u001b[0m\n\u001b[1;31mSyntaxError\u001b[0m\u001b[1;31m:\u001b[0m invalid syntax\n"
     ]
    }
   ],
   "source": [
    "# def func(x) :\n",
    "#     return int(x.replace(',', ''))\n",
    "# func(\"5,000\"), func(\"800\")"
   ]
  },
  {
   "cell_type": "code",
   "execution_count": 16,
   "id": "5f77e3a3",
   "metadata": {},
   "outputs": [
    {
     "data": {
      "text/plain": [
       "[5000, 800, 1000, 6000]"
      ]
     },
     "execution_count": 16,
     "metadata": {},
     "output_type": "execute_result"
    }
   ],
   "source": [
    "list(map(lambda x : int(x.replace(',', '')), prices))"
   ]
  },
  {
   "cell_type": "code",
   "execution_count": 59,
   "id": "93226d5b",
   "metadata": {},
   "outputs": [],
   "source": [
    "'''\n",
    "예제 2. member1 = [{'name':'홍길동', 'birth':'2000-01-01'},\n",
    "                    {'name':'신길동', 'birth':'1998-12-31'},]\n",
    "       member2 = [{'name':'홍길동', 'year':2000, 'month':1, 'day':1},\n",
    "                    {'name':'신길동', 'year':1998, 'month':12, 'day':31},] 로 변경            \n",
    "'''\n",
    "member1 = [{'name':'홍길동', 'birth':'2000-01-01'},\n",
    "                    {'name':'신길동', 'birth':'1998-12-31'},]\n",
    "member2 = [{'name':'홍길동', 'year':2000, 'month':1, 'day':1},\n",
    "                    {'name':'신길동', 'year':1998, 'month':12, 'day':31},]"
   ]
  },
  {
   "cell_type": "code",
   "execution_count": 60,
   "id": "9271ffc1",
   "metadata": {},
   "outputs": [
    {
     "data": {
      "text/plain": [
       "{'year': 2000, 'month': 1, 'day': 1}"
      ]
     },
     "execution_count": 60,
     "metadata": {},
     "output_type": "execute_result"
    }
   ],
   "source": [
    "# '2000-01-01' = {'year':1998, 'month':12, 'day':31}\n",
    "def split_data(date):\n",
    "    split_data = date.split('-')\n",
    "#     print(split_data[0], split_data[1], split_data[2])\n",
    "    return {'year': int(split_data[0]),\n",
    "           'month':int(split_data[1]),\n",
    "           'day':int(split_data[2]\n",
    "            )}\n",
    "split_data(member1[0].get(\"birth\"))"
   ]
  },
  {
   "cell_type": "code",
   "execution_count": 61,
   "id": "8fc0cbf8",
   "metadata": {},
   "outputs": [
    {
     "data": {
      "text/plain": [
       "[{'name': '홍길동', 'year': 2000, 'month': 1, 'day': 1},\n",
       " {'name': '신길동', 'year': 1998, 'month': 12, 'day': 31}]"
      ]
     },
     "execution_count": 61,
     "metadata": {},
     "output_type": "execute_result"
    }
   ],
   "source": [
    "def member_func(member) : # {'name':'홍길동', 'birth':'2000-01-01'}\n",
    "    \"{'name':'신길동', 'year':1998, 'month':12, 'day':31}식으로 return\"\n",
    "    return {\n",
    "        'name':member.get('name'),\n",
    "        'year':int(member['birth'].split('-')[0]),\n",
    "        'month':int(member['birth'].split('-')[1]),\n",
    "        'day':int(member['birth'].split('-')[2])\n",
    "    }\n",
    "\n",
    "member_func(member1[0])\n",
    "\n",
    "list(map(lambda member :{\n",
    "                        'name':member.get('name'),\n",
    "                        'year':int(member['birth'].split('-')[0]),\n",
    "                        'month':int(member['birth'].split('-')[1]),\n",
    "                        'day':int(member['birth'].split('-')[2])\n",
    "                        } , member1\n",
    "        )\n",
    "    )"
   ]
  },
  {
   "cell_type": "code",
   "execution_count": 62,
   "id": "3135f202",
   "metadata": {},
   "outputs": [
    {
     "data": {
      "text/plain": [
       "'\\n예제 3. member2를 member1로 바꿉니다.\\n'"
      ]
     },
     "execution_count": 62,
     "metadata": {},
     "output_type": "execute_result"
    }
   ],
   "source": [
    "'''\n",
    "예제 3. member2를 member1로 바꿉니다.\n",
    "'''"
   ]
  },
  {
   "cell_type": "code",
   "execution_count": 104,
   "id": "438de426",
   "metadata": {},
   "outputs": [],
   "source": [
    "# {'year':2000, 'month':1, 'day':1} =>\"2000-01-01\"를 return하는 함수\n",
    "def join_date(data) :\n",
    "#     print(data.get('year'), data.get('month'), data.get('day'))\n",
    "    year = str(data.get('year'))\n",
    "    month = data.get('month')\n",
    "    if month < 10:\n",
    "        month = '0' + str(month)\n",
    "    else:\n",
    "        month = str(month)\n",
    "    day = data.get('day')\n",
    "    if day < 10:\n",
    "        day = '0' + str(day)\n",
    "    else:\n",
    "        day = str(day)    \n",
    "        \n",
    "    return '-'.join([year, month, day])"
   ]
  },
  {
   "cell_type": "code",
   "execution_count": 110,
   "id": "6da81926",
   "metadata": {},
   "outputs": [],
   "source": [
    "def join_date(data):\n",
    "    print(\"{}-{:02}-{:02}\".format(data.get('year'), \n",
    "                                  data.get('month'), \n",
    "                                  data.get('day')))"
   ]
  },
  {
   "cell_type": "code",
   "execution_count": 118,
   "id": "d34ca9f7",
   "metadata": {},
   "outputs": [],
   "source": [
    "def join_date(data):\n",
    "    return \"{year}-{month:02}-{day:02}\".format(**data)"
   ]
  },
  {
   "cell_type": "code",
   "execution_count": 119,
   "id": "58a80f60",
   "metadata": {},
   "outputs": [
    {
     "data": {
      "text/plain": [
       "'2000-01-01'"
      ]
     },
     "execution_count": 119,
     "metadata": {},
     "output_type": "execute_result"
    }
   ],
   "source": [
    "join_date({'year':2000, 'month':1, 'day':1})"
   ]
  },
  {
   "cell_type": "code",
   "execution_count": 122,
   "id": "b473d253",
   "metadata": {},
   "outputs": [
    {
     "data": {
      "text/plain": [
       "[{'name': '홍길동', 'birth': '2000-01-01'},\n",
       " {'name': '신길동', 'birth': '1998-12-31'}]"
      ]
     },
     "execution_count": 122,
     "metadata": {},
     "output_type": "execute_result"
    }
   ],
   "source": [
    "# {'name':'홍길동', 'year':2000, 'month':1, 'day':1}(member2)를\n",
    "# {'name':'홍길동', 'birth':'2000-01-01'}으로 가공\n",
    "list(map(lambda member : {\n",
    "                    'name' : member.get('name'),\n",
    "                    'birth' : \"{year}-{month:02}-{day:02}\".format(**member)\n",
    "                        }, member2\n",
    "        ))"
   ]
  },
  {
   "cell_type": "markdown",
   "id": "1a739ca3",
   "metadata": {},
   "source": [
    "### (2) filter\n",
    "- map처리 : [1,2,3,4,5] => [2,4,6,8,10] (벡터의 모든 데이터를 가공)\n",
    "- filter : [1,2,3,4,5] => [2,4] (원하는 정보를 추출)\n",
    "* cf. 리스트 컴프리헨션"
   ]
  },
  {
   "cell_type": "code",
   "execution_count": 131,
   "id": "23fd00dd",
   "metadata": {},
   "outputs": [],
   "source": [
    "# map : [1,2,3,4,5]\n",
    "def filter_template(func, L=[]):\n",
    "    result = []\n",
    "    for l in L:\n",
    "        if func(l):\n",
    "            result.append(l)\n",
    "    return result"
   ]
  },
  {
   "cell_type": "code",
   "execution_count": 132,
   "id": "cd59454d",
   "metadata": {},
   "outputs": [
    {
     "data": {
      "text/plain": [
       "(True, False)"
      ]
     },
     "execution_count": 132,
     "metadata": {},
     "output_type": "execute_result"
    }
   ],
   "source": [
    "def evenChk(value):\n",
    "    return value%2==0\n",
    "evenChk(10), evenChk(-9)"
   ]
  },
  {
   "cell_type": "code",
   "execution_count": 133,
   "id": "84fa36fb",
   "metadata": {},
   "outputs": [
    {
     "data": {
      "text/plain": [
       "[2, 4]"
      ]
     },
     "execution_count": 133,
     "metadata": {},
     "output_type": "execute_result"
    }
   ],
   "source": [
    "list_data = [ 1, 2, 3, 4, 5]\n",
    "filter_template(lambda value: value%2==0 , list_data)"
   ]
  },
  {
   "cell_type": "code",
   "execution_count": 134,
   "id": "7367a9bb",
   "metadata": {},
   "outputs": [
    {
     "data": {
      "text/plain": [
       "[2, 4]"
      ]
     },
     "execution_count": 134,
     "metadata": {},
     "output_type": "execute_result"
    }
   ],
   "source": [
    "list(filter(lambda value : value%2==0, list_data))"
   ]
  },
  {
   "cell_type": "code",
   "execution_count": null,
   "id": "3af0629a",
   "metadata": {},
   "outputs": [],
   "source": [
    "[data for data in list_data if data%2==0]"
   ]
  },
  {
   "cell_type": "markdown",
   "id": "20c78910",
   "metadata": {},
   "source": [
    "### (3) sort (sort 는 리스트 안의 요소들이 각각 적용됨)"
   ]
  },
  {
   "cell_type": "code",
   "execution_count": 151,
   "id": "c41514ea",
   "metadata": {},
   "outputs": [
    {
     "data": {
      "text/plain": [
       "[9, 7, 2]"
      ]
     },
     "execution_count": 151,
     "metadata": {},
     "output_type": "execute_result"
    }
   ],
   "source": [
    "p = [9, 2, 7]\n",
    "p.sort(reverse=True)\n",
    "p"
   ]
  },
  {
   "cell_type": "code",
   "execution_count": 153,
   "id": "5020488f",
   "metadata": {},
   "outputs": [
    {
     "data": {
      "text/plain": [
       "[(1, 'one'), (2, 'two'), (3, 'three'), (4, 'four')]"
      ]
     },
     "execution_count": 153,
     "metadata": {},
     "output_type": "execute_result"
    }
   ],
   "source": [
    "# 무조건 0번째 item 기준으로 정렬\n",
    "pairs = [(2, 'two'), (1, 'one'), (4, 'four'), (3, 'three')]\n",
    "pairs.sort()\n",
    "pairs"
   ]
  },
  {
   "cell_type": "code",
   "execution_count": 156,
   "id": "9cb5c38c",
   "metadata": {},
   "outputs": [
    {
     "data": {
      "text/plain": [
       "[(4, 'four'), (1, 'one'), (3, 'three'), (2, 'two')]"
      ]
     },
     "execution_count": 156,
     "metadata": {},
     "output_type": "execute_result"
    }
   ],
   "source": [
    "# 1번째 item 기준으로 정렬(abc순)\n",
    "pairs.sort(key=lambda pair : pair[1])\n",
    "pairs"
   ]
  },
  {
   "cell_type": "code",
   "execution_count": 157,
   "id": "8962a8e4",
   "metadata": {},
   "outputs": [
    {
     "data": {
      "text/plain": [
       "[[10, 1], [9, 9], [1, 100]]"
      ]
     },
     "execution_count": 157,
     "metadata": {},
     "output_type": "execute_result"
    }
   ],
   "source": [
    "# 무조건 0번째 item 기준으로 정렬\n",
    "number2d = [[9, 9],\n",
    "            [1, 100],\n",
    "            [10, 1]]\n",
    "number2d.sort(reverse=True)\n",
    "number2d"
   ]
  },
  {
   "cell_type": "code",
   "execution_count": 168,
   "id": "4b58ba00",
   "metadata": {},
   "outputs": [],
   "source": [
    "# 합이 큰 순으로 정렬\n",
    "number2d.sort(key=lambda item : sum(item), reverse=True)\n",
    "number2d"
   ]
  },
  {
   "cell_type": "code",
   "execution_count": 167,
   "id": "a87aa397",
   "metadata": {},
   "outputs": [
    {
     "data": {
      "text/plain": [
       "6"
      ]
     },
     "execution_count": 167,
     "metadata": {},
     "output_type": "execute_result"
    }
   ],
   "source": [
    "# 리스트를 매개변수로 받아 합을 return\n",
    "(lambda item : sum(item))([1,2,3])"
   ]
  },
  {
   "cell_type": "code",
   "execution_count": 193,
   "id": "7951bfe4",
   "metadata": {},
   "outputs": [
    {
     "data": {
      "text/plain": [
       "[{'name': '김길동', 'score': 50},\n",
       " {'name': '박길동', 'score': 99},\n",
       " {'name': '홍길동', 'score': 90},\n",
       " {'score': 100}]"
      ]
     },
     "execution_count": 193,
     "metadata": {},
     "output_type": "execute_result"
    }
   ],
   "source": [
    "# 이름순으로 정렬(ㄱ ㄴ ㄷ 순)\n",
    "students = [\n",
    "    {\"name\":\"홍길동\", \"score\":90},\n",
    "    {\"name\":\"김길동\", \"score\":50},\n",
    "    {\"name\":\"박길동\", \"score\":99},\n",
    "    {\"score\":100}\n",
    "]\n",
    "students.sort(key=lambda item : item.get(\"name\", '힣')) # get(\"key\", 없으면 '힣'으로 취급)\n",
    "students"
   ]
  },
  {
   "cell_type": "code",
   "execution_count": 194,
   "id": "b369874d",
   "metadata": {},
   "outputs": [
    {
     "data": {
      "text/plain": [
       "[{'score': 100},\n",
       " {'name': '박길동', 'score': 99},\n",
       " {'name': '홍길동', 'score': 90},\n",
       " {'name': '김길동', 'score': 50}]"
      ]
     },
     "execution_count": 194,
     "metadata": {},
     "output_type": "execute_result"
    }
   ],
   "source": [
    "# score 순으로 정렬(내림차순 정렬)\n",
    "students.sort(key=lambda item : item.get(\"score\", 0), reverse=True) # 결측치를 0으로 세팅.\n",
    "students"
   ]
  },
  {
   "cell_type": "code",
   "execution_count": 195,
   "id": "b9dc9432",
   "metadata": {},
   "outputs": [],
   "source": [
    "# 책 제목순 정렬(ㄱ ㄴ ㄷ 순), 저자순 정렬(ㄱ ㄴ ㄷ 순), 가격순 오름차순 정렬\n",
    "books = [\n",
    "    {'no':1, 'title':'강남 아파트 인사이트', 'writer':'오스틀', 'price':'25,000'},\n",
    "    {'no':2, 'title':'단 한 번의 삶', 'writer':'김영하', 'price':'18,100'},\n",
    "    {'no':3, 'title':'흔한 남매 19', 'writer':'백난도', 'price':'14,220'},\n",
    "    {'no':4, 'title':'가격이 잘못', 'writer':'홍길동', 'price':'-'},\n",
    "    {'no':5, 'title':'가격이 숫자', 'writer':'신길동', 'price':900},\n",
    "    {'no':6, 'title':'가격이 없음', 'writer':'김길동'},\n",
    "]"
   ]
  },
  {
   "cell_type": "code",
   "execution_count": 196,
   "id": "b1ae41ee",
   "metadata": {},
   "outputs": [
    {
     "data": {
      "text/plain": [
       "[{'no': 5, 'title': '가격이 숫자', 'writer': '신길동', 'price': 900},\n",
       " {'no': 6, 'title': '가격이 없음', 'writer': '김길동'},\n",
       " {'no': 4, 'title': '가격이 잘못', 'writer': '홍길동', 'price': '-'},\n",
       " {'no': 1, 'title': '강남 아파트 인사이트', 'writer': '오스틀', 'price': '25,000'},\n",
       " {'no': 2, 'title': '단 한 번의 삶', 'writer': '김영하', 'price': '18,100'},\n",
       " {'no': 3, 'title': '흔한 남매 19', 'writer': '백난도', 'price': '14,220'}]"
      ]
     },
     "execution_count": 196,
     "metadata": {},
     "output_type": "execute_result"
    }
   ],
   "source": [
    "books.sort(key = lambda book : book.get('title'))\n",
    "books"
   ]
  },
  {
   "cell_type": "code",
   "execution_count": 197,
   "id": "941d3191",
   "metadata": {},
   "outputs": [
    {
     "data": {
      "text/plain": [
       "[{'no': 6, 'title': '가격이 없음', 'writer': '김길동'},\n",
       " {'no': 2, 'title': '단 한 번의 삶', 'writer': '김영하', 'price': '18,100'},\n",
       " {'no': 3, 'title': '흔한 남매 19', 'writer': '백난도', 'price': '14,220'},\n",
       " {'no': 5, 'title': '가격이 숫자', 'writer': '신길동', 'price': 900},\n",
       " {'no': 1, 'title': '강남 아파트 인사이트', 'writer': '오스틀', 'price': '25,000'},\n",
       " {'no': 4, 'title': '가격이 잘못', 'writer': '홍길동', 'price': '-'}]"
      ]
     },
     "execution_count": 197,
     "metadata": {},
     "output_type": "execute_result"
    }
   ],
   "source": [
    "books.sort(key = lambda book : book.get('writer'))\n",
    "books"
   ]
  },
  {
   "cell_type": "code",
   "execution_count": null,
   "id": "3b0017a6",
   "metadata": {},
   "outputs": [],
   "source": [
    "books.sort(key = lambda book : book.get('price'))\n",
    "books"
   ]
  },
  {
   "cell_type": "code",
   "execution_count": 218,
   "id": "36cdd4ba",
   "metadata": {},
   "outputs": [
    {
     "data": {
      "text/plain": [
       "8009"
      ]
     },
     "execution_count": 218,
     "metadata": {},
     "output_type": "execute_result"
    }
   ],
   "source": [
    "# '14,000' -> 14000 / \"2000\" -> 2000 / 800 -> 800 / '-' -> 0\n",
    "def parse_int(price) :\n",
    "#   print(type(price))\n",
    "    if isinstance(price, str) and price.replace(',', '').isdigit() : # &는 뒤가 논리면 논리, 비트면 비트 연산자 \n",
    "        return int(price.replace(',', ''))\n",
    "    elif isinstance(price, int) :\n",
    "        return price\n",
    "    else:        (0)\n",
    "parse_int(\"8009\")"
   ]
  },
  {
   "cell_type": "code",
   "execution_count": 217,
   "id": "1421ac5f",
   "metadata": {},
   "outputs": [
    {
     "data": {
      "text/plain": [
       "(8000, 8000, 0, None)"
      ]
     },
     "execution_count": 217,
     "metadata": {},
     "output_type": "execute_result"
    }
   ],
   "source": [
    "parse_int(\"8,000\"), parse_int(\"8000\"), parse_int(800), parse_int(\"-\")"
   ]
  },
  {
   "cell_type": "code",
   "execution_count": null,
   "id": "7cc655cd",
   "metadata": {},
   "outputs": [],
   "source": []
  },
  {
   "cell_type": "code",
   "execution_count": 219,
   "id": "2d5f14d7",
   "metadata": {},
   "outputs": [],
   "source": [
    "# {'no': 6, 'title': '가격이 없음', 'writer': '김길동'},}\n",
    "# {no': 3, 'title': '흔한 남매 19', 'writer': '백난도', 'price': '14,220'} => 14220\n",
    "# {'no': 5, 'title': '가격이 숫자', 'writer': '신길동', 'price': 900} => 900"
   ]
  },
  {
   "cell_type": "code",
   "execution_count": 226,
   "id": "0d367021",
   "metadata": {},
   "outputs": [
    {
     "data": {
      "text/plain": [
       "(0, 0, 25000, 900)"
      ]
     },
     "execution_count": 226,
     "metadata": {},
     "output_type": "execute_result"
    }
   ],
   "source": [
    "def parse_int(book) : \n",
    "    if isinstance(book.get('price'), str) and \\\n",
    "            book.get('price').replace(',', '').isdigit() :\n",
    "        return int( book.get('price').replace(',', '') )\n",
    "    elif isinstance(book.get('price'), int) :\n",
    "        return book.get('price')\n",
    "    else:\n",
    "        return 0\n",
    "parse_int(books[5]), parse_int(books[3]), parse_int(books[0]), parse_int(books[4])"
   ]
  },
  {
   "cell_type": "code",
   "execution_count": 225,
   "id": "27709e65",
   "metadata": {},
   "outputs": [],
   "source": [
    "books = [\n",
    "    {'no':1, 'title':'강남 아파트 인사이트', 'writer':'오스틀', 'price':'25,000'},\n",
    "    {'no':2, 'title':'단 한 번의 삶', 'writer':'김영하', 'price':'18,100'},\n",
    "    {'no':3, 'title':'흔한 남매 19', 'writer':'백난도', 'price':'14,220'},\n",
    "    {'no':4, 'title':'가격이 잘못', 'writer':'홍길동', 'price':'-'},\n",
    "    {'no':5, 'title':'가격이 숫자', 'writer':'신길동', 'price':900},\n",
    "    {'no':6, 'title':'가격이 없음', 'writer':'김길동'},\n",
    "]\n",
    "copy_books = books.copy() # 깊은 복사"
   ]
  },
  {
   "cell_type": "code",
   "execution_count": 232,
   "id": "9faab06b",
   "metadata": {},
   "outputs": [],
   "source": [
    "copy_books.sort(key=lambda book : \n",
    "                            int( book.get('price').replace(',', '')) \\\n",
    "                            if isinstance(book.get('price'), str) and \\\n",
    "                                    book.get('price').replace(',', '').isdigit() else \\\n",
    "                                book.get('price') if isinstance(book.get('price'), int) else\\\n",
    "                                0 ,\n",
    "                                     )\n"
   ]
  },
  {
   "cell_type": "code",
   "execution_count": 230,
   "id": "d3554fe4",
   "metadata": {},
   "outputs": [
    {
     "data": {
      "text/plain": [
       "[{'no': 4, 'title': '가격이 잘못', 'writer': '홍길동', 'price': '-'},\n",
       " {'no': 6, 'title': '가격이 없음', 'writer': '김길동'},\n",
       " {'no': 5, 'title': '가격이 숫자', 'writer': '신길동', 'price': 900},\n",
       " {'no': 3, 'title': '흔한 남매 19', 'writer': '백난도', 'price': '14,220'},\n",
       " {'no': 2, 'title': '단 한 번의 삶', 'writer': '김영하', 'price': '18,100'},\n",
       " {'no': 1, 'title': '강남 아파트 인사이트', 'writer': '오스틀', 'price': '25,000'}]"
      ]
     },
     "execution_count": 230,
     "metadata": {},
     "output_type": "execute_result"
    }
   ],
   "source": [
    "copy_books"
   ]
  },
  {
   "cell_type": "code",
   "execution_count": 231,
   "id": "9372ae75",
   "metadata": {},
   "outputs": [
    {
     "data": {
      "text/plain": [
       "[{'no': 1, 'title': '강남 아파트 인사이트', 'writer': '오스틀', 'price': '25,000'},\n",
       " {'no': 2, 'title': '단 한 번의 삶', 'writer': '김영하', 'price': '18,100'},\n",
       " {'no': 3, 'title': '흔한 남매 19', 'writer': '백난도', 'price': '14,220'},\n",
       " {'no': 4, 'title': '가격이 잘못', 'writer': '홍길동', 'price': '-'},\n",
       " {'no': 5, 'title': '가격이 숫자', 'writer': '신길동', 'price': 900},\n",
       " {'no': 6, 'title': '가격이 없음', 'writer': '김길동'}]"
      ]
     },
     "execution_count": 231,
     "metadata": {},
     "output_type": "execute_result"
    }
   ],
   "source": [
    "books"
   ]
  },
  {
   "cell_type": "markdown",
   "id": "899f6983",
   "metadata": {},
   "source": [
    "## 4.3 return 문에 람다식 이용"
   ]
  },
  {
   "cell_type": "code",
   "execution_count": 239,
   "id": "f800fb6c",
   "metadata": {},
   "outputs": [],
   "source": [
    "# 함수를 return\n",
    "def make_box(shape): # shape :[l] => len가 l인 list를 생성하는 함수 return, [r, c], [d, r, c]\n",
    "                    #        [r, c] => r행 c열인 list를 생헝하는 함수 return\n",
    "    def box(init_value) :\n",
    "        if len(shape)==1 :\n",
    "            return [init_value]*shape[0]\n",
    "        elif len(shape)==2:\n",
    "            return [ [init_value] * shape[1] ] * shape[0]\n",
    "    return box"
   ]
  },
  {
   "cell_type": "code",
   "execution_count": 242,
   "id": "85b7575a",
   "metadata": {},
   "outputs": [],
   "source": [
    "def make_box(shape):\n",
    "    if len(shape) == 1:\n",
    "        return lambda init_value : [init_value]*shape[0]\n",
    "    elif len(shape)==2:\n",
    "        return lambda init_value : [ [init_value]*shape[1] ] * shape[0]"
   ]
  },
  {
   "cell_type": "code",
   "execution_count": 236,
   "id": "ed9a3c5b",
   "metadata": {},
   "outputs": [
    {
     "data": {
      "text/plain": [
       "[[3, 3, 3], [3, 3, 3]]"
      ]
     },
     "execution_count": 236,
     "metadata": {},
     "output_type": "execute_result"
    }
   ],
   "source": [
    "line_func = make_box([2,3])\n",
    "line_func(3)"
   ]
  },
  {
   "cell_type": "code",
   "execution_count": 237,
   "id": "b63a0dae",
   "metadata": {},
   "outputs": [
    {
     "data": {
      "text/plain": [
       "[3, 3, 3, 3, 3, 3, 3, 3, 3, 3]"
      ]
     },
     "execution_count": 237,
     "metadata": {},
     "output_type": "execute_result"
    }
   ],
   "source": [
    "line_func1 = make_box([10])\n",
    "line_func1(3)"
   ]
  },
  {
   "cell_type": "markdown",
   "id": "dd324c32",
   "metadata": {},
   "source": [
    "# 5절. 파이썬 내장 함수\n",
    "- import하지 않고 바로 사용 가능한 함수\n",
    "- 키워드처럼 간주되므로, 식별자(변수명, 함수명, 클래스명)"
   ]
  },
  {
   "cell_type": "code",
   "execution_count": 244,
   "id": "4d552104",
   "metadata": {
    "collapsed": true
   },
   "outputs": [
    {
     "data": {
      "text/plain": [
       "{'__name__': '__main__',\n",
       " '__doc__': \"\\n예제 2. member1 = [{'name':'홍길동', 'birth':'2000-01-01'},\\n                    {'name':'신길동', 'birth':'1998-12-31'},]\\n       member2 = [{'name':'홍길동', 'year':2000, 'month':1, 'day':1},\\n                    {'name':'신길동', 'year':1998, 'month':12, 'day':31},] 로 변경            \\n\",\n",
       " '__package__': None,\n",
       " '__loader__': None,\n",
       " '__spec__': None,\n",
       " '__builtin__': <module 'builtins' (built-in)>,\n",
       " '__builtins__': <module 'builtins' (built-in)>,\n",
       " '_ih': ['',\n",
       "  'from IPython.display import display, HTML\\ndisplay(HTML(\"\"\"\\n<style>\\ndiv.container{width:85% !important;}\\ndiv.cell.code_cell.rendered{width:100%;}\\ndiv.input_prompt{padding:0px;}\\ndiv.CodeMirror {font-family:Consolas; font-size:15pt;}\\ndiv.output {font-size:12pt; font-weight:bold;}\\ndiv.input {font-family:Consolas; font-size:15pt;}\\ndiv.prompt {min-width:70px;}\\ndiv#toc-wrapper{padding-top:120px;}\\ndiv.text_cell_render ul li{font-size:15pt;padding:5px;}\\ntable.dataframe{font-size:15px;}\\n</style>\\n\"\"\"))',\n",
       "  '# 리스트 데이터를 가공 방법 1. mapp\\nlist_data = [1, 2, 3, 4, 5, 6, 7,  8, 9, 10]\\nmap_template(lambda x : x*2, list_data)\\n# def x_2(x) :\\n#     return x*2\\n# map_template(x_2, list_data)',\n",
       "  \"def map_template(func, L=[]) :\\n    '''\\n    L의 모든 요소를 func()함수를 적용시켜 return\\n    [2, 4, 6]\\n    '''\\n    result = []\\n    for l in L :\\n        result.append(func(1))\\n    return result\\n#     return [func(l) for l in L]\",\n",
       "  '# 리스트 데이터를 가공 방법 1. mapp\\nlist_data = [1, 2, 3, 4, 5, 6, 7,  8, 9, 10]\\nmap_template(lambda x : x*2, list_data)\\n# def x_2(x) :\\n#     return x*2\\n# map_template(x_2, list_data)',\n",
       "  \"def map_template(func, L=[]) :\\n    '''\\n    L의 모든 요소를 func()함수를 적용시켜 return\\n    [2, 4, 6]\\n    '''\\n    result = []\\n    for l in L :\\n        result.append(func(l))\\n    return result\\n#     return [func(l) for l in L]\",\n",
       "  '# 리스트 데이터를 가공 방법 1. mapp\\nlist_data = [1, 2, 3, 4, 5, 6, 7,  8, 9, 10]\\nmap_template(lambda x : x*2, list_data)\\n# def x_2(x) :\\n#     return x*2\\n# map_template(x_2, list_data)',\n",
       "  '# 리스트 데이터를 가공 방법 2. ㄹ리스트 컴프리헨션\\n[l*2 for l in list_data]',\n",
       "  \"for item in map(lambda x : x*2, list_data):\\n    print(item, end=' ')\",\n",
       "  '# 리스트 데이터를 가공 방법 3. map():파이썬 내장함수\\na= map(lambda x : x*2, list_data)\\ntype(a)',\n",
       "  \"'''\\n예제 2. member1 = [{'name':'홍길동', 'birth':'2000-01-01'},\\n                    {'name':'신길동', 'birth':'1998-12-31'},]\\n       member2 = [{'name':'홍길동', 'year':2000, 'month':1, 'day':1},\\n                    {'name':'신길동', 'year':1998, 'month':12, 'day':31},] 로 변경            \\n'''\",\n",
       "  \"'''\\n예제 1. [5000, 800, 1000, 6000] 로 바꾸시오\\n'''\\nprices = ['5,000', '800', '1000', '6,000']\",\n",
       "  \"'''\\n예제 2. member1 = [{'name':'홍길동', 'birth':'2000-01-01'},\\n                    {'name':'신길동', 'birth':'1998-12-31'},]\\n       member2 = [{'name':'홍길동', 'year':2000, 'month':1, 'day':1},\\n                    {'name':'신길동', 'year':1998, 'month':12, 'day':31},] 로 변경            \\n'''\",\n",
       "  \"'''\\n예제 3. member2를 member1로 바꿉니다.\\n'''\",\n",
       "  'def func(x) :\\n    return int(x.replace(\\',\\', \\'\\'))\\nfunc(\"5,000\"), func(\"800\")\\n# lambda(x : int(x.replae(\\',\\', \\'\\')))',\n",
       "  '# def func(x) :\\n#     return int(x.replace(\\',\\', \\'\\'))\\n# func(\"5,000\"), func(\"800\")\\nlambda(x : int(x.replae(\\',\\', \\'\\')))',\n",
       "  \"list(map(lambda x : int(x.replace(',', '')), prices))\",\n",
       "  \"# '2000-01-01' = {'year':1998, 'month':12, 'day':31}\\ndef split_data(date):\\n    split_data = date.split('-')\",\n",
       "  \"# '2000-01-01' = {'year':1998, 'month':12, 'day':31}\\ndef split_data(date):\\n    split_data = date.split('-')\\n    split_data\",\n",
       "  \"# '2000-01-01' = {'year':1998, 'month':12, 'day':31}\\ndef split_data(date):\\n    split_data = date.split('-')\\nsplit_data(member1('birth'))\",\n",
       "  \"'''\\n예제 2. member1 = [{'name':'홍길동', 'birth':'2000-01-01'},\\n                    {'name':'신길동', 'birth':'1998-12-31'},]\\n       member2 = [{'name':'홍길동', 'year':2000, 'month':1, 'day':1},\\n                    {'name':'신길동', 'year':1998, 'month':12, 'day':31},] 로 변경            \\n'''\\nmember1 = [{'name':'홍길동', 'birth':'2000-01-01'},\\n                    {'name':'신길동', 'birth':'1998-12-31'},]\",\n",
       "  \"# '2000-01-01' = {'year':1998, 'month':12, 'day':31}\\ndef split_data(date):\\n    split_data = date.split('-')\\nsplit_data(member1('birth'))\",\n",
       "  \"# '2000-01-01' = {'year':1998, 'month':12, 'day':31}\\ndef split_data(date):\\n    split_data = date.split('-')\\nsplit_data(member1['birth'])\",\n",
       "  \"# '2000-01-01' = {'year':1998, 'month':12, 'day':31}\\ndef split_data(date):\\n    split_data = date.split('-')\\nsplit_data(member1[1])\",\n",
       "  \"# '2000-01-01' = {'year':1998, 'month':12, 'day':31}\\ndef split_data(date):\\n    split_data = date.split('-')\\n    print(split_data[0], split_data[1], split_data[2])\\n    return {'year': int(split_data[0]),\\n           'month':int(split_data[1]),\\n           'day':int(split_data[2]\\n            )}\",\n",
       "  \"# '2000-01-01' = {'year':1998, 'month':12, 'day':31}\\ndef split_data(date):\\n    split_data = date.split('-')\\n    print(split_data[0], split_data[1], split_data[2])\\n    return {'year': int(split_data[0]),\\n           'month':int(split_data[1]),\\n           'day':int(split_data[2]\\n            )}\\nsplit_data('2000-01-01')\",\n",
       "  \"# '2000-01-01' = {'year':1998, 'month':12, 'day':31}\\ndef split_data(date):\\n    split_data = date.split('-')\\n#     print(split_data[0], split_data[1], split_data[2])\\n    return {'year': int(split_data[0]),\\n           'month':int(split_data[1]),\\n           'day':int(split_data[2]\\n            )}\\nsplit_data('2000-01-01')\",\n",
       "  \"# '2000-01-01' = {'year':1998, 'month':12, 'day':31}\\ndef split_data(date):\\n    split_data = date.split('-')\\n#     print(split_data[0], split_data[1], split_data[2])\\n    return {'year': int(split_data[0]),\\n           'month':int(split_data[1]),\\n           'day':int(split_data[2]\\n            )}\",\n",
       "  \"# '2000-01-01' = {'year':1998, 'month':12, 'day':31}\\ndef split_data(date):\\n    split_data = date.split('-')\\n#     print(split_data[0], split_data[1], split_data[2])\\n    return {'year': int(split_data[0]),\\n           'month':int(split_data[1]),\\n           'day':int(split_data[2]\\n            )}\\nsplit_data('2000-01-01')\",\n",
       "  \"# '2000-01-01' = {'year':1998, 'month':12, 'day':31}\\ndef split_data(date):\\n    split_data = date.split('-')\\n#     print(split_data[0], split_data[1], split_data[2])\\n    return {'year': int(split_data[0]),\\n           'month':int(split_data[1]),\\n           'day':int(split_data[2]\\n            )}\\nsplit_data('2000-01-01')\\nmember1('birth')\",\n",
       "  \"# '2000-01-01' = {'year':1998, 'month':12, 'day':31}\\ndef split_data(date):\\n    split_data = date.split('-')\\n#     print(split_data[0], split_data[1], split_data[2])\\n    return {'year': int(split_data[0]),\\n           'month':int(split_data[1]),\\n           'day':int(split_data[2]\\n            )}\\nsplit_data('2000-01-01')\\nmember1[0]('birth')\",\n",
       "  \"# '2000-01-01' = {'year':1998, 'month':12, 'day':31}\\ndef split_data(date):\\n    split_data = date.split('-')\\n#     print(split_data[0], split_data[1], split_data[2])\\n    return {'year': int(split_data[0]),\\n           'month':int(split_data[1]),\\n           'day':int(split_data[2]\\n            )}\\nsplit_data('2000-01-01')\\nmember1[0]\",\n",
       "  '# \\'2000-01-01\\' = {\\'year\\':1998, \\'month\\':12, \\'day\\':31}\\ndef split_data(date):\\n    split_data = date.split(\\'-\\')\\n#     print(split_data[0], split_data[1], split_data[2])\\n    return {\\'year\\': int(split_data[0]),\\n           \\'month\\':int(split_data[1]),\\n           \\'day\\':int(split_data[2]\\n            )}\\nsplit_data(\\'2000-01-01\\')\\nmember1[0].get(\"birth\")',\n",
       "  '# \\'2000-01-01\\' = {\\'year\\':1998, \\'month\\':12, \\'day\\':31}\\ndef split_data(date):\\n    split_data = date.split(\\'-\\')\\n#     print(split_data[0], split_data[1], split_data[2])\\n    return {\\'year\\': int(split_data[0]),\\n           \\'month\\':int(split_data[1]),\\n           \\'day\\':int(split_data[2]\\n            )}\\nsplit_data(member1[0].get(\"birth\"))',\n",
       "  '# \\'2000-01-01\\' = {\\'year\\':1998, \\'month\\':12, \\'day\\':31}\\ndef split_data(date):\\n    split_data = date.split(\\'-\\')\\n#     print(split_data[0], split_data[1], split_data[2])\\n    return {\\'year\\': int(split_data[0]),\\n           \\'month\\':int(split_data[1]),\\n           \\'day\\':int(split_data[2]\\n            )}\\nsplit_data(member1.get(\"birth\"))',\n",
       "  '# \\'2000-01-01\\' = {\\'year\\':1998, \\'month\\':12, \\'day\\':31}\\ndef split_data(date):\\n    split_data = date.split(\\'-\\')\\n#     print(split_data[0], split_data[1], split_data[2])\\n    return {\\'year\\': int(split_data[0]),\\n           \\'month\\':int(split_data[1]),\\n           \\'day\\':int(split_data[2]\\n            )}\\nsplit_data(member1[0].get(\"birth\"))',\n",
       "  '# \\'2000-01-01\\' = {\\'year\\':1998, \\'month\\':12, \\'day\\':31}\\ndef split_data(date):\\n    split_data = date.split(\\'-\\')\\n#     print(split_data[0], split_data[1], split_data[2])\\n    return {\\'year\\': int(split_data[0]),\\n           \\'month\\':int(split_data[1]),\\n           \\'day\\':int(split_data[2]\\n            )}\\nsplit_data(member1[0].get(\"birth\"))',\n",
       "  '# \\'2000-01-01\\' = {\\'year\\':1998, \\'month\\':12, \\'day\\':31}\\ndef split_data(date):\\n    split_data = date.split(\\'-\\')\\n#     print(split_data[0], split_data[1], split_data[2])\\n    return {\\'year\\': int(split_data[0]),\\n           \\'month\\':int(split_data[1]),\\n           \\'day\\':int(split_data[2]\\n            )}\\nsplit_data(member1[0].get(\"birth\"))',\n",
       "  '# \\'2000-01-01\\' = {\\'year\\':1998, \\'month\\':12, \\'day\\':31}\\ndef split_data(date):\\n    split_data = date.split(\\'-\\')\\n#     print(split_data[0], split_data[1], split_data[2])\\n    return {\\'year\\': int(split_data[0]),\\n           \\'month\\':int(split_data[1]),\\n           \\'day\\':int(split_data[2]\\n            )}\\nsplit_data(member1[0].get(\"birth\"))',\n",
       "  'def member_func(member) : # {\\'name\\':\\'홍길동\\', \\'birth\\':\\'2000-01-01\\'}\\n    \"{\\'name\\':\\'신길동\\', \\'year\\':1998, \\'month\\':12, \\'day\\':31}식으로 return\"\\n    return {\\n        \\'name\\':member.get(\\'name\\'),\\n        \\'year\\':int(member[\\'birth\\'].split(\\'-\\')[0],\\n        \\'month\\':int(member[\\'month\\'].split(\\'-\\')[1],\\n        \\'day\\':int(member[\\'month\\'].split(\\'-\\')[2])\\n    }',\n",
       "  'def member_func(member) : # {\\'name\\':\\'홍길동\\', \\'birth\\':\\'2000-01-01\\'}\\n    \"{\\'name\\':\\'신길동\\', \\'year\\':1998, \\'month\\':12, \\'day\\':31}식으로 return\"\\n    return {\\n        \\'name\\':member.get(\\'name\\'),\\n        \\'year\\':int(member[\\'birth\\'].split(\\'-\\')[0]),\\n        \\'month\\':int(member[\\'month\\'].split(\\'-\\')[1]),\\n        \\'day\\':int(member[\\'month\\'].split(\\'-\\')[2])\\n    }',\n",
       "  'def member_func(member) : # {\\'name\\':\\'홍길동\\', \\'birth\\':\\'2000-01-01\\'}\\n    \"{\\'name\\':\\'신길동\\', \\'year\\':1998, \\'month\\':12, \\'day\\':31}식으로 return\"\\n    return {\\n        \\'name\\':member.get(\\'name\\'),\\n        \\'year\\':int(member[\\'birth\\'].split(\\'-\\')[0]),\\n        \\'month\\':int(member[\\'month\\'].split(\\'-\\')[1]),\\n        \\'day\\':int(member[\\'month\\'].split(\\'-\\')[2])\\n    }\\n\\nmember_func(member1)',\n",
       "  'def member_func(member) : # {\\'name\\':\\'홍길동\\', \\'birth\\':\\'2000-01-01\\'}\\n    \"{\\'name\\':\\'신길동\\', \\'year\\':1998, \\'month\\':12, \\'day\\':31}식으로 return\"\\n    return {\\n        \\'name\\':member.get(\\'name\\'),\\n        \\'year\\':int(member[\\'birth\\'].split(\\'-\\')[0]),\\n        \\'month\\':int(member[\\'month\\'].split(\\'-\\')[1]),\\n        \\'day\\':int(member[\\'month\\'].split(\\'-\\')[2])\\n    }\\n\\nmember_func(member1[0])',\n",
       "  \"'''\\n예제 2. member1 = [{'name':'홍길동', 'birth':'2000-01-01'},\\n                    {'name':'신길동', 'birth':'1998-12-31'},]\\n       member2 = [{'name':'홍길동', 'year':2000, 'month':1, 'day':1},\\n                    {'name':'신길동', 'year':1998, 'month':12, 'day':31},] 로 변경            \\n'''\\nmember1 = [{'name':'홍길동', 'birth':'2000-01-01'},\\n                    {'name':'신길동', 'birth':'1998-12-31'},]\",\n",
       "  'def member_func(member) : # {\\'name\\':\\'홍길동\\', \\'birth\\':\\'2000-01-01\\'}\\n    \"{\\'name\\':\\'신길동\\', \\'year\\':1998, \\'month\\':12, \\'day\\':31}식으로 return\"\\n    return {\\n        \\'name\\':member.get(\\'name\\'),\\n        \\'year\\':int(member[\\'birth\\'].split(\\'-\\')[0]),\\n        \\'month\\':int(member[\\'month\\'].split(\\'-\\')[1]),\\n        \\'day\\':int(member[\\'month\\'].split(\\'-\\')[2])\\n    }\\n\\nmember_func(member1[0])',\n",
       "  \"'''\\n예제 2. member1 = [{'name':'홍길동', 'birth':'2000-01-01'},\\n                    {'name':'신길동', 'birth':'1998-12-31'},]\\n       member2 = [{'name':'홍길동', 'year':2000, 'month':1, 'day':1},\\n                    {'name':'신길동', 'year':1998, 'month':12, 'day':31},] 로 변경            \\n'''\\nmember1 = [{'name':'홍길동', 'birth':'2000-01-01'},\\n                    {'name':'신길동', 'birth':'1998-12-31'},]\",\n",
       "  '# \\'2000-01-01\\' = {\\'year\\':1998, \\'month\\':12, \\'day\\':31}\\ndef split_data(date):\\n    split_data = date.split(\\'-\\')\\n#     print(split_data[0], split_data[1], split_data[2])\\n    return {\\'year\\': int(split_data[0]),\\n           \\'month\\':int(split_data[1]),\\n           \\'day\\':int(split_data[2]\\n            )}\\nsplit_data(member1[0].get(\"birth\"))',\n",
       "  'def member_func(member) : # {\\'name\\':\\'홍길동\\', \\'birth\\':\\'2000-01-01\\'}\\n    \"{\\'name\\':\\'신길동\\', \\'year\\':1998, \\'month\\':12, \\'day\\':31}식으로 return\"\\n    return {\\n        \\'name\\':member.get(\\'name\\'),\\n        \\'year\\':int(member[\\'birth\\'].split(\\'-\\')[0]),\\n        \\'month\\':int(member[\\'month\\'].split(\\'-\\')[1]),\\n        \\'day\\':int(member[\\'month\\'].split(\\'-\\')[2])\\n    }\\n\\nmember_func(member1[0])',\n",
       "  'def member_func(member) : # {\\'name\\':\\'홍길동\\', \\'birth\\':\\'2000-01-01\\'}\\n    \"{\\'name\\':\\'신길동\\', \\'year\\':1998, \\'month\\':12, \\'day\\':31}식으로 return\"\\n    return {\\n        \\'name\\':member.get(\\'name\\'),\\n        \\'year\\':int(member[\\'birth\\'].split(\\'-\\')[0]),\\n        \\'month\\':int(member[\\'month\\'].split(\\'-\\')[1]),\\n        \\'day\\':int(member[\\'month\\'].split(\\'-\\')[2])\\n    }\\n\\nmember_func(member1[0])',\n",
       "  'def member_func(member) : # {\\'name\\':\\'홍길동\\', \\'birth\\':\\'2000-01-01\\'}\\n    \"{\\'name\\':\\'신길동\\', \\'year\\':1998, \\'month\\':12, \\'day\\':31}식으로 return\"\\n    return {\\n        \\'name\\':member.get(\\'name\\'),\\n        \\'year\\':int(member[\\'birth\\'].split(\\'-\\')[0]),\\n        \\'month\\':int(member[\\'birth\\'].split(\\'-\\')[1]),\\n        \\'day\\':int(member[\\'birth\\'].split(\\'-\\')[2])\\n    }\\n\\nmember_func(member1[0])',\n",
       "  'def member_func(member) : # {\\'name\\':\\'홍길동\\', \\'birth\\':\\'2000-01-01\\'}\\n    \"{\\'name\\':\\'신길동\\', \\'year\\':1998, \\'month\\':12, \\'day\\':31}식으로 return\"\\n    return {\\n        \\'name\\':member.get(\\'name\\'),\\n        \\'year\\':int(member[\\'birth\\'].split(\\'-\\')[0]),\\n        \\'month\\':int(member[\\'birth\\'].split(\\'-\\')[1]),\\n        \\'day\\':int(member[\\'birth\\'].split(\\'-\\')[2])\\n    }\\n\\nmember_func(member1[0])\\n\\nlist(map(lambda member :{\\n                        \\'name\\':member.get(\\'name\\'),\\n                        \\'year\\':int(member[\\'birth\\'].split(\\'-\\')[0]),\\n                        \\'month\\':int(member[\\'birth\\'].split(\\'-\\')[1]),\\n                        \\'day\\':int(member[\\'birth\\'].split(\\'-\\')[2])\\n                        }\\n         , member1\\n        )\\n    )',\n",
       "  'def member_func(member) : # {\\'name\\':\\'홍길동\\', \\'birth\\':\\'2000-01-01\\'}\\n    \"{\\'name\\':\\'신길동\\', \\'year\\':1998, \\'month\\':12, \\'day\\':31}식으로 return\"\\n    return {\\n        \\'name\\':member.get(\\'name\\'),\\n        \\'year\\':int(member[\\'birth\\'].split(\\'-\\')[0]),\\n        \\'month\\':int(member[\\'birth\\'].split(\\'-\\')[1]),\\n        \\'day\\':int(member[\\'birth\\'].split(\\'-\\')[2])\\n    }\\n\\nmember_func(member1[0])\\n\\nlist(map(lambda member :{\\n                        \\'name\\':member.get(\\'name\\'),\\n                        \\'year\\':int(member[\\'birth\\'].split(\\'-\\')[0]),\\n                        \\'month\\':int(member[\\'birth\\'].split(\\'-\\')[1]),\\n                        \\'day\\':int(member[\\'birth\\'].split(\\'-\\')[2])\\n                        } , member1\\n        )\\n    )',\n",
       "  \"''.join(member1[1].get('birth'))\",\n",
       "  \"''.join(member2[0].get('birth'))\",\n",
       "  \"'''\\n예제 2. member1 = [{'name':'홍길동', 'birth':'2000-01-01'},\\n                    {'name':'신길동', 'birth':'1998-12-31'},]\\n       member2 = [{'name':'홍길동', 'year':2000, 'month':1, 'day':1},\\n                    {'name':'신길동', 'year':1998, 'month':12, 'day':31},] 로 변경            \\n'''\\nmember1 = [{'name':'홍길동', 'birth':'2000-01-01'},\\n                    {'name':'신길동', 'birth':'1998-12-31'},]\\nember2 = [{'name':'홍길동', 'year':2000, 'month':1, 'day':1},\\n                    {'name':'신길동', 'year':1998, 'month':12, 'day':31},] \",\n",
       "  \"''.join(member2[0].get('birth'))\",\n",
       "  \"'''\\n예제 2. member1 = [{'name':'홍길동', 'birth':'2000-01-01'},\\n                    {'name':'신길동', 'birth':'1998-12-31'},]\\n       member2 = [{'name':'홍길동', 'year':2000, 'month':1, 'day':1},\\n                    {'name':'신길동', 'year':1998, 'month':12, 'day':31},] 로 변경            \\n'''\\nmember1 = [{'name':'홍길동', 'birth':'2000-01-01'},\\n                    {'name':'신길동', 'birth':'1998-12-31'},]\\nmember2 = [{'name':'홍길동', 'year':2000, 'month':1, 'day':1},\\n                    {'name':'신길동', 'year':1998, 'month':12, 'day':31},] \",\n",
       "  \"''.join(member2[0].get('birth'))\",\n",
       "  \"''.join(member2[0].get('month'))\",\n",
       "  \"'''\\n예제 2. member1 = [{'name':'홍길동', 'birth':'2000-01-01'},\\n                    {'name':'신길동', 'birth':'1998-12-31'},]\\n       member2 = [{'name':'홍길동', 'year':2000, 'month':1, 'day':1},\\n                    {'name':'신길동', 'year':1998, 'month':12, 'day':31},] 로 변경            \\n'''\\nmember1 = [{'name':'홍길동', 'birth':'2000-01-01'},\\n                    {'name':'신길동', 'birth':'1998-12-31'},]\\nmember2 = [{'name':'홍길동', 'year':2000, 'month':1, 'day':1},\\n                    {'name':'신길동', 'year':1998, 'month':12, 'day':31},]\",\n",
       "  '# \\'2000-01-01\\' = {\\'year\\':1998, \\'month\\':12, \\'day\\':31}\\ndef split_data(date):\\n    split_data = date.split(\\'-\\')\\n#     print(split_data[0], split_data[1], split_data[2])\\n    return {\\'year\\': int(split_data[0]),\\n           \\'month\\':int(split_data[1]),\\n           \\'day\\':int(split_data[2]\\n            )}\\nsplit_data(member1[0].get(\"birth\"))',\n",
       "  'def member_func(member) : # {\\'name\\':\\'홍길동\\', \\'birth\\':\\'2000-01-01\\'}\\n    \"{\\'name\\':\\'신길동\\', \\'year\\':1998, \\'month\\':12, \\'day\\':31}식으로 return\"\\n    return {\\n        \\'name\\':member.get(\\'name\\'),\\n        \\'year\\':int(member[\\'birth\\'].split(\\'-\\')[0]),\\n        \\'month\\':int(member[\\'birth\\'].split(\\'-\\')[1]),\\n        \\'day\\':int(member[\\'birth\\'].split(\\'-\\')[2])\\n    }\\n\\nmember_func(member1[0])\\n\\nlist(map(lambda member :{\\n                        \\'name\\':member.get(\\'name\\'),\\n                        \\'year\\':int(member[\\'birth\\'].split(\\'-\\')[0]),\\n                        \\'month\\':int(member[\\'birth\\'].split(\\'-\\')[1]),\\n                        \\'day\\':int(member[\\'birth\\'].split(\\'-\\')[2])\\n                        } , member1\\n        )\\n    )',\n",
       "  \"'''\\n예제 3. member2를 member1로 바꿉니다.\\n'''\",\n",
       "  \"''.join(member2[0].get('month'))\",\n",
       "  \"''.join(member2[0].get('name'))\",\n",
       "  \"''.join(member2[0].get('month'))\",\n",
       "  \"birth = member2[0].get('year'), member2[0].get('month'), member2[0].get('day')\\nbirth\",\n",
       "  \"birth = member2[0].get('year'), member2[0].get('month'), member2[0].get('day')\\nbirth.join('-')\",\n",
       "  \"birth = member2[0].get('year'), member2[0].get('month'), member2[0].get('day')\\nlist[birth.join('-')]\",\n",
       "  \"birth = [member2[0].get('year'), member2[0].get('month'), member2[0].get('day')]\",\n",
       "  \"birth = [member2[0].get('year'), member2[0].get('month'), member2[0].get('day')]\\nbirth\",\n",
       "  \"birth = [member2[0].get('year'), member2[0].get('month'), member2[0].get('day')]\\nbirth.join('-')\",\n",
       "  \"birth = [member2[0].get('year'), member2[0].get('month'), member2[0].get('day')]\\nbirth.str()\",\n",
       "  \"birth = str(member2[0].get('year'), member2[0].get('month'), member2[0].get('day'))\\nbirth.str()\",\n",
       "  \"birth = str([member2[0].get('year'), member2[0].get('month'), member2[0].get('day')])\\nbirth.str()\",\n",
       "  \"birth = [member2[0].get('year'), member2[0].get('month'), member2[0].get('day')]\\n''.join(birth[0])\",\n",
       "  \"birth = [member2[0].get('year'), member2[0].get('month'), member2[0].get('day')]\\n''.join(str(birth[0]))\",\n",
       "  \"birth = [member2[0].get('year'), member2[0].get('month'), member2[0].get('day')]\\n''.join(str(birth[0]), str(birth[1]), str(birth[2]))\",\n",
       "  \"birth = [member2[0].get('year'), member2[0].get('month'), member2[0].get('day')\",\n",
       "  \"birth = [member2[0].get('year'), member2[0].get('month'), member2[0].get('day')]\",\n",
       "  \"birth = [member2[0].get('year'), member2[0].get('month'), member2[0].get('day')]\\ndef birth_(birth) :\\n    test = str(birth.get[0]) + str(birth.get[1]) + str(birth.get[2])\\n    \",\n",
       "  \"birth = [member2[0].get('year'), member2[0].get('month'), member2[0].get('day')]\\ndef birth_(birth) :\\n    test = str(birth.get[0]) + str(birth.get[1]) + str(birth.get[2])\\nbirth_(birth)\",\n",
       "  \"birth = [member2[0].get('year'), member2[0].get('month'), member2[0].get('day')]\\ndef birth_(birth) :\\n    test = str(birth[0]) + str(birth[1]) + str(birth[2])\\nbirth_(birth)\",\n",
       "  \"birth = [member2[0].get('year'), member2[0].get('month'), member2[0].get('day')]\\ndef birth_(birth) :\\n    test = str(birth[0]) + str(birth[1]) + str(birth[2])\\nbirth_(birth)\",\n",
       "  \"birth = [member2[0].get('year'), member2[0].get('month'), member2[0].get('day')]\\ndef birth_(birth) :\\n    test = str(birth[0]) + str(birth[1]) + str(birth[2])\\na = birth_(birth)\\na\",\n",
       "  \"birth = [member2[0].get('year'), member2[0].get('month'), member2[0].get('day')]\\ndef birth_(birth) :\\n    test = str(birth[0]) + str(birth[1]) + str(birth[2])\\na = birth_(birth)\\na\",\n",
       "  '# {\\'year\\':2000, \\'month\\':1, \\'day\\':1} =>\"2000-01-01\"를 return하는 함수\\ndef join_date(data) :\\n    print(data.get(\\'year\\'), data.get(\\'month\\'), data.get(\\'day\\'))',\n",
       "  \"join_date({'year':2000, 'month':1, 'day':1})\",\n",
       "  \"join_date({'year':2000, 'month':1, 'day':1})\\n\\nimport date\",\n",
       "  \"join_date({'year':2000, 'month':1, 'day':1})\\n\\nimport datetime\",\n",
       "  \"join_date({'year':2000, 'month':1, 'day':1})\\n\\nimport datetime\\ndatetime.datetime.year(2000)\",\n",
       "  \"join_date({'year':2000, 'month':1, 'day':1})\\n\\nimport datetime\\ndatetime.date\",\n",
       "  \"join_date({'year':2000, 'month':1, 'day':1})\\n\\nimport datetime\\ndatetime.datetime(2000, 1, 1)\",\n",
       "  \"join_date({'year':2000, 'month':1, 'day':1})\\n\\nimport datetime\\ndatetime.datetime(2000, 1, 1).strftime('%y-%m-%d')\",\n",
       "  \"join_date({'year':2000, 'month':1, 'day':1})\\n\\nimport datetime\\ndatetime.datetime(2000, 1, 1).strftime('%yyyy-%m-%d')\",\n",
       "  \"join_date({'year':2000, 'month':1, 'day':1})\\n\\nimport datetime\\ndatetime.datetime(2000, 1, 1).strftime('%Y-%m-%d')\",\n",
       "  '# {\\'year\\':2000, \\'month\\':1, \\'day\\':1} =>\"2000-01-01\"를 return하는 함수\\ndef join_date(data) :\\n    print(data.get(\\'year\\'), data.get(\\'month\\'), data.get(\\'day\\'))\\n    year = str(data.get(\\'year\\'))\\n    month = data.get(\\'month\\')\\n    if month < 10:\\n        month = \\'0\\' + str(month)\\n    else:\\n        month = str(month)\\n    day = data.get(\\'day\\')\\n    if day < 10:\\n        day = \\'0\\' + str(day)\\n    else:\\n        day = str(day)    \\n        \\n    return \\'-\\'.join([year, month, day])',\n",
       "  \"join_date({'year':2000, 'month':1, 'day':1})\\n\\nimport datetime\\ndatetime.datetime(2000, 1, 1).strftime('%Y-%m-%d')\",\n",
       "  '# {\\'year\\':2000, \\'month\\':1, \\'day\\':1} =>\"2000-01-01\"를 return하는 함수\\ndef join_date(data) :\\n#     print(data.get(\\'year\\'), data.get(\\'month\\'), data.get(\\'day\\'))\\n    year = str(data.get(\\'year\\'))\\n    month = data.get(\\'month\\')\\n    if month < 10:\\n        month = \\'0\\' + str(month)\\n    else:\\n        month = str(month)\\n    day = data.get(\\'day\\')\\n    if day < 10:\\n        day = \\'0\\' + str(day)\\n    else:\\n        day = str(day)    \\n        \\n    return \\'-\\'.join([year, month, day])',\n",
       "  \"join_date({'year':2000, 'month':1, 'day':1})\\n\\nimport datetime\\ndatetime.datetime(2000, 1, 1).strftime('%Y-%m-%d')\",\n",
       "  \"print(join_date({'year':2000, 'month':1, 'day':1}))\\n\\nimport datetime\\ndatetime.datetime(2000, 1, 1).strftime('%Y-%m-%d')\",\n",
       "  \"print(join_date({'year':2000, 'month':1, 'day':1}))\\n\\nimport datetime\\ndatetime.datetime(member2[0].get('year'), 1, 1).strftime('%Y-%m-%d')\",\n",
       "  \"print(join_date({'year':2000, 'month':1, 'day':1}))\\n\\nimport datetime\\ndatetime.datetime(member2[0].get('year'), member2[0].get('month'), member2[0].get('day')).strftime('%Y-%m-%d')\",\n",
       "  \"print(join_date({'year':2000, 'month':1, 'day':1}))\\n\\nimport datetime\\ndatetime.datetime(member2[0].get('year'), member2[0].get('month'), member2[0].get('day')).strftime('%Y-%m-%d')\",\n",
       "  '# {\\'year\\':2000, \\'month\\':1, \\'day\\':1} =>\"2000-01-01\"를 return하는 함수\\ndef join_date(data) :\\n#     print(data.get(\\'year\\'), data.get(\\'month\\'), data.get(\\'day\\'))\\n    year = str(data.get(\\'year\\'))\\n    month = data.get(\\'month\\')\\n    if month < 10:\\n        month = \\'0\\' + str(month)\\n    else:\\n        month = str(month)\\n    day = data.get(\\'day\\')\\n    if day < 10:\\n        day = \\'0\\' + str(day)\\n    else:\\n        day = str(day)    \\n        \\n    return \\'-\\'.join([year, month, day])',\n",
       "  'def join_date(data):\\n    print(\"{}-{:02}-{:02}\".format(data.get(\\'year\\'), data.get(\\'month\\'), data.get(\\'day\\')))',\n",
       "  \"print(join_date({'year':2000, 'month':1, 'day':1}))\\n\\nimport datetime\\ndatetime.datetime(member2[0].get('year'), member2[0].get('month'), member2[0].get('day')).strftime('%Y-%m-%d')\",\n",
       "  \"join_date({'year':2000, 'month':1, 'day':1})\\n\\n# import datetime\\n# datetime.datetime(member2[0].get('year'), member2[0].get('month'), member2[0].get('day')).strftime('%Y-%m-%d')\",\n",
       "  'def join_date(data):\\n    print(\"{}-{:02}-{:02}\".format(data.get(\\'year\\'), \\n                                  data.get(\\'month\\'), \\n                                  data.get(\\'day\\')))',\n",
       "  \"# import datetime\\n# datetime.datetime(member2[0].get('year'), \\n#                   member2[0].get('month'), \\n#                   member2[0].get('day')).strftime('%Y-%m-%d')\",\n",
       "  'def join_date(data):\\n    print(\"{}-{:02}-{:02}\".format(data.get(\\'year\\'), \\n                                  data.get(\\'month\\'), \\n                                  data.get(\\'day\\')))',\n",
       "  'def join_date(data):\\n    print(\"{year}-{month:02}-{day:02}\".format(**data)))\\n    ',\n",
       "  'def join_date(data):\\n    print(\"{year}-{month:02}-{day:02}\".format(**data))\\n    ',\n",
       "  \"join_date({'year':2000, 'month':1, 'day':1})\",\n",
       "  \"join_date({'year':2000, 'month':1, 'day':1})\",\n",
       "  'def join_date(data):\\n    print(\"{year}-{month:02}-{day:02}\".format(**data))\\n    ',\n",
       "  \"join_date({'year':2000, 'month':1, 'day':1})\",\n",
       "  'def join_date(data):\\n    return \"{year}-{month:02}-{day:02}\".format(**data)',\n",
       "  'def join_date(data):\\n    return \"{year}-{month:02}-{day:02}\".format(**data)',\n",
       "  \"join_date({'year':2000, 'month':1, 'day':1})\",\n",
       "  '# {\\'name\\':\\'홍길동\\', \\'year\\':2000, \\'month\\':1, \\'day\\':1}(member2)를\\n# {\\'name\\':\\'홍길동\\', \\'birth\\':\\'2000-01-01\\'}으로 가공\\nlist(map(lambda member : {\\n            \\'name\\' : member.get(\\'name\\'),\\n            \\'birth\\' : \"{year}-{month:02}-{day:02}\".format(**data)\\n                        }, member2\\n        ))',\n",
       "  '# {\\'name\\':\\'홍길동\\', \\'year\\':2000, \\'month\\':1, \\'day\\':1}(member2)를\\n# {\\'name\\':\\'홍길동\\', \\'birth\\':\\'2000-01-01\\'}으로 가공\\nlist(map(lambda member : {\\n            \\'name\\' : member.get(\\'name\\'),\\n            \\'birth\\' : \"{year}-{month:02}-{day:02}\".format(**data)\\n                        }, member2[0]\\n        ))',\n",
       "  '# {\\'name\\':\\'홍길동\\', \\'year\\':2000, \\'month\\':1, \\'day\\':1}(member2)를\\n# {\\'name\\':\\'홍길동\\', \\'birth\\':\\'2000-01-01\\'}으로 가공\\nlist(map(lambda member : {\\n                    \\'name\\' : member.get(\\'name\\'),\\n                    \\'birth\\' : \"{year}-{month:02}-{day:02}\".format(**member)\\n                        }, member2\\n        ))',\n",
       "  'def filter_template(func, L=[])',\n",
       "  '# map : [1,2,3,4,5]\\ndef filter_template(func, L=[]):\\n    result = []\\n    for l in L:\\n        if func(l):\\n            result.append()\\n    return result',\n",
       "  'def evenChk(value):\\n    return value%2==0\\nevenChk(10), evenChk(-9)',\n",
       "  'filter_template()',\n",
       "  'list_data = [ 1, 2, 3, 4, 5]\\nfilter_template(lambda value: value%2==0 , list_data)',\n",
       "  '# map : [1,2,3,4,5]\\ndef filter_template(func, L=[]):\\n    result = []\\n    for l in L:\\n        if func(l):\\n            result.append()\\n    return result',\n",
       "  'def evenChk(value):\\n    return value%2==0\\nevenChk(10), evenChk(-9)',\n",
       "  'list_data = [ 1, 2, 3, 4, 5]\\nfilter_template(lambda value: value%2==0 , list_data)',\n",
       "  '# map : [1,2,3,4,5]\\ndef filter_template(func, L=[]):\\n    result = []\\n    for l in L:\\n        if func(l):\\n            result.append(l)\\n    return result',\n",
       "  'def evenChk(value):\\n    return value%2==0\\nevenChk(10), evenChk(-9)',\n",
       "  'list_data = [ 1, 2, 3, 4, 5]\\nfilter_template(lambda value: value%2==0 , list_data)',\n",
       "  'list(filter(lambda value : value%2==0, list_data))',\n",
       "  'p = [9, 2, 7]\\np.sort(reverse=Ture)',\n",
       "  'p = [9, 2, 7]\\np.sort(reverse=True)\\np',\n",
       "  'number2d = [[9, 9],\\n            [1, 100]\\n            [10, 1]]\\nnumber2d.sort()\\nnumber2d',\n",
       "  'number2d = [[9, 9],\\n            [1, 100],\\n            [10, 1]]\\nnumber2d.sort()\\nnumber2d',\n",
       "  'number2d = [[9, 9],\\n            [1, 100],\\n            [10, 1]]\\nnumber2d.sort(reverse=True)\\nnumber2d',\n",
       "  'number2d = [[9, 9],\\n            [1, 100],\\n            [10, 1]]\\nnumber2d.sort(reverse=True)\\nnumber2d',\n",
       "  'number2d = [[9, 9],\\n            [1, 100],\\n            [10, 1]]\\nnumber2d.sort(reverse=True)\\nnumber2d',\n",
       "  'sum(number2d[0])',\n",
       "  'number2d.sort(sum(*number2d))',\n",
       "  '*number2d',\n",
       "  'a = *number2d',\n",
       "  'number2d = [[9, 9],\\n            [1, 100],\\n            [10, 1]]\\nnumber2d.sort(key=sum(number2d), reverse=True)\\nnumber2d',\n",
       "  'number2d = [[9, 9],\\n            [1, 100],\\n            [10, 1]]\\nnumber2d.sort(key=sum(number2d.items), reverse=True)\\nnumber2d',\n",
       "  'number2d = [[9, 9],\\n            [1, 100],\\n            [10, 1]]\\nnumber2d.sort(key=sum(number2d.items()), reverse=True)\\nnumber2d',\n",
       "  'number2d = [[9, 9],\\n            [1, 100],\\n            [10, 1]]\\nnumber2d.sort(reverse=True)\\nnumber2d',\n",
       "  \"pairs = [(2, 'two'), (1, 'one'), (4, 'four'), (3, 'three')]\\npairs.sort()\\npairs\",\n",
       "  'p = [9, 2, 7]\\np.sort(reverse=True)\\np',\n",
       "  \"# 무조건 0번째 item 기준으로 정렬\\npairs = [(2, 'two'), (1, 'one'), (4, 'four'), (3, 'three')]\\npairs.sort()\\npairs\",\n",
       "  \"# 무조건 0번째 item 기준으로 정렬\\npairs = [(2, 'two'), (1, 'one'), (4, 'four'), (3, 'three')]\\npairs.sort()\\npairs\",\n",
       "  '# 1번째 item 기준으로 정렬()',\n",
       "  '# 1번째 item 기준으로 정렬(abc순)\\npairs.sort(key=lambda pair : pair[1])',\n",
       "  '# 1번째 item 기준으로 정렬(abc순)\\npairs.sort(key=lambda pair : pair[1])\\npairs',\n",
       "  '# 무조건 0번째 item 기준으로 정렬\\nnumber2d = [[9, 9],\\n            [1, 100],\\n            [10, 1]]\\nnumber2d.sort(reverse=True)\\nnumber2d',\n",
       "  '# 합이 큰 순으로 정렬\\nnumber2d.sort()',\n",
       "  '# 합이 큰 순으로 정렬\\nnumber2d.sort(key=lambda x : sum(x))',\n",
       "  '# 합이 큰 순으로 정렬\\nnumber2d.sort(key=lambda x : sum(x))\\nnumber2d',\n",
       "  '# 합이 큰 순으로 정렬\\nnumber2d.sort(key=lambda item : sum(item) for item in items)\\nnumber2d',\n",
       "  '# 합이 큰 순으로 정렬\\nnumber2d.sort(key=(lambda item : sum(item) for item in items))\\nnumber2d',\n",
       "  '# 합이 큰 순으로 정렬\\nnumber2d.sort(key=(lambda item : sum(item) for item in number2d))\\nnumber2d',\n",
       "  '# 합이 큰 순으로 정렬\\nnumber2d.sort(key=lambda item : sum(item))\\nnumber2d',\n",
       "  '# 합이 큰 순으로 정렬\\nnumber2d.sort(key=lambda item : sum(item), reverse=True)\\nnumber2d',\n",
       "  '# 리스트를 매개변수로 받아 합을 return\\n(lambda item : sum(item))([1,2,3])',\n",
       "  '# 리스트를 매개변수로 받아 합을 return\\n(lambda item : sum(item))([1,2,3])',\n",
       "  '# 합이 큰 순으로 정렬\\nnumber2d.sort(key=lambda item : sum(item), reverse=True)\\nnumber2d\\ndef fun(item):\\n    return sum(item)',\n",
       "  'students = [\\n    {\"name\":\"홍길동\", \"score\":90},\\n    {\"name\":\"김길동\", \"score\":50},\\n    {\"name\":\"박길동\", \"score\":99},    \\n]\\nsutdnets.sort(key=lambda student : student[0])',\n",
       "  'students = [\\n    {\"name\":\"홍길동\", \"score\":90},\\n    {\"name\":\"김길동\", \"score\":50},\\n    {\"name\":\"박길동\", \"score\":99},    \\n]\\nstudents.sort(key=lambda student : student[0])',\n",
       "  'students = [\\n    {\"name\":\"홍길동\", \"score\":90},\\n    {\"name\":\"김길동\", \"score\":50},\\n    {\"name\":\"박길동\", \"score\":99},    \\n]\\nstudents.sort(key=lambda student : student(\"name\"))',\n",
       "  'students = [\\n    {\"name\":\"홍길동\", \"score\":90},\\n    {\"name\":\"김길동\", \"score\":50},\\n    {\"name\":\"박길동\", \"score\":99},    \\n]\\nstudents.sort(key=lambda student : student(name).value)',\n",
       "  'students = [\\n    {\"name\":\"홍길동\", \"score\":90},\\n    {\"name\":\"김길동\", \"score\":50},\\n    {\"name\":\"박길동\", \"score\":99},    \\n]\\nstudents.sort(key=lambda student : student(\"name\").value)',\n",
       "  'students = [\\n    {\"name\":\"홍길동\", \"score\":90},\\n    {\"name\":\"김길동\", \"score\":50},\\n    {\"name\":\"박길동\", \"score\":99},    \\n]\\nstudents.sort(key=lambda student : student(\"name\").value())',\n",
       "  'students = [\\n    {\"name\":\"홍길동\", \"score\":90},\\n    {\"name\":\"김길동\", \"score\":50},\\n    {\"name\":\"박길동\", \"score\":99},    \\n]\\nstudents.sort(key=lambda student : student[\"name\"].value())',\n",
       "  'students = [\\n    {\"name\":\"홍길동\", \"score\":90},\\n    {\"name\":\"김길동\", \"score\":50},\\n    {\"name\":\"박길동\", \"score\":99},    \\n]\\nstudents.sort(key=lambda student : student[\"name\"])',\n",
       "  'students = [\\n    {\"name\":\"홍길동\", \"score\":90},\\n    {\"name\":\"김길동\", \"score\":50},\\n    {\"name\":\"박길동\", \"score\":99},    \\n]\\nstudents.sort(key=lambda student : student[\"name\"])\\nstudents',\n",
       "  '# score 순으로 정렬(내림차순 정렬)\\nstudents.sort(key=lambda student : studnet[\"score\"], reverse=True)',\n",
       "  '# score 순으로 정렬(내림차순 정렬)\\nstudents.sort(key=lambda student : studnet[\"score\"])',\n",
       "  '# score 순으로 정렬(내림차순 정렬)\\nstudents.sort(key=lambda student : student[\"score\"], reverse=True)',\n",
       "  '# score 순으로 정렬(내림차순 정렬)\\nstudents.sort(key=lambda student : student[\"score\"], reverse=True)\\nstudents',\n",
       "  '# 이름순으로 정렬(ㄱ ㄴ ㄷ 순)\\nstudents = [\\n    {\"name\":\"홍길동\", \"score\":90},\\n    {\"name\":\"김길동\", \"score\":50},\\n    {\"name\":\"박길동\", \"score\":99},\\n    {\\'score\\':100}\\n]\\nstudents.sort(key=lambda student : student[\"name\"])\\nstudents',\n",
       "  '# 이름순으로 정렬(ㄱ ㄴ ㄷ 순)\\nstudents = [\\n    {\"name\":\"홍길동\", \"score\":90},\\n    {\"name\":\"김길동\", \"score\":50},\\n    {\"name\":\"박길동\", \"score\":99},\\n    {\\'score\\':100}\\n]\\nstudents.sort(key=lambda student : student[\"name\"].value())\\nstudents',\n",
       "  '# 이름순으로 정렬(ㄱ ㄴ ㄷ 순)\\nstudents = [\\n    {\"name\":\"홍길동\", \"score\":90},\\n    {\"name\":\"김길동\", \"score\":50},\\n    {\"name\":\"박길동\", \"score\":99},\\n    {\\'score\\':100}\\n]\\nstudents.sort(key=lambda student : student[\"name\"])\\nstudents',\n",
       "  '# 이름순으로 정렬(ㄱ ㄴ ㄷ 순)\\nstudents = [\\n    {\"name\":\"홍길동\", \"score\":90},\\n    {\"name\":\"김길동\", \"score\":50},\\n    {\"name\":\"박길동\", \"score\":99},\\n    {\\'score\\':100}\\n]\\nstudents.sort(key=lambda student=\"\" : student[\"name\"])\\nstudents',\n",
       "  '# 이름순으로 정렬(ㄱ ㄴ ㄷ 순)\\nstudents = [\\n    {\"name\":\"홍길동\", \"score\":90},\\n    {\"name\":\"김길동\", \"score\":50},\\n    {\"name\":\"박길동\", \"score\":99},\\n    {\\'score\\':100}\\n]\\nstudents.sort(key=lambda (student=\"test\") : student[\"name\"])\\nstudents',\n",
       "  '# 이름순으로 정렬(ㄱ ㄴ ㄷ 순)\\nstudents = [\\n    {\"name\":\"홍길동\", \"score\":90},\\n    {\"name\":\"김길동\", \"score\":50},\\n    {\"name\":\"박길동\", \"score\":99},\\n    {\\'score\\':100}\\n]\\nstudents.sort(key=lambda student : student[\"name\"])\\nstudents',\n",
       "  '# 이름순으로 정렬(ㄱ ㄴ ㄷ 순)\\nstudents = [\\n    {\"name\":\"홍길동\", \"score\":90},\\n    {\"name\":\"김길동\", \"score\":50},\\n    {\"name\":\"박길동\", \"score\":99},\\n]\\nstudents.sort(key=lambda student : student[\"name\"])\\nstudents',\n",
       "  '# 이름순으로 정렬(ㄱ ㄴ ㄷ 순)\\nstudents = [\\n    {\"name\":\"홍길동\", \"score\":90},\\n    {\"name\":\"김길동\", \"score\":50},\\n    {\"name\":\"박길동\", \"score\":99},\\n    {\"score\":100}\\n]\\nstudents.sort(key=lambda student : student.get(\"name\"))\\nstudents',\n",
       "  '# score 순으로 정렬(내림차순 정렬)\\nstudents.sort(key=lambda student : student.get(\"score\"), reverse=True)\\nstudents',\n",
       "  '# 이름순으로 정렬(ㄱ ㄴ ㄷ 순)\\nstudents = [\\n    {\"name\":\"홍길동\", \"score\":90},\\n    {\"name\":\"김길동\", \"score\":50},\\n    {\"name\":\"박길동\", \"score\":99},\\n    {\"score\":100}\\n]\\nstudents.sort(key=lambda student : str(student.get(\"name\")))\\nstudents',\n",
       "  '# 이름순으로 정렬(ㄱ ㄴ ㄷ 순)\\nstudents = [\\n    {\"name\":\"홍길동\", \"score\":90},\\n    {\"name\":\"김길동\", \"score\":50},\\n    {\"name\":\"박길동\", \"score\":99},\\n    {\"score\":100}\\n]\\nstudents.sort(key=lambda student : student.get(\"name\", \\'힣\\'))\\nstudents',\n",
       "  '# 이름순으로 정렬(ㄱ ㄴ ㄷ 순)\\nstudents = [\\n    {\"name\":\"홍길동\", \"score\":90},\\n    {\"name\":\"김길동\", \"score\":50},\\n    {\"name\":\"박길동\", \"score\":99},\\n    {\"score\":100}\\n]\\nstudents.sort(key=lambda student : student.get(\"name\", \\'힣\\'))\\nstudents',\n",
       "  '# score 순으로 정렬(내림차순 정렬)\\nstudents.sort(key=lambda item : item.get(\"score\", 0), reverse=True) # 결측치를 0으로 세팅.\\nstudents',\n",
       "  \"# 책 제목순 정렬(ㄱ ㄴ ㄷ 순), 저자순 정렬(ㄱ ㄴ ㄷ 순), 가격순 오름차순 정렬\\nbooks = [\\n    {'no':1, 'title':'강남 아파트 인사이트', 'writer':'오스틀', 'price':'25,000'},\\n    {'no':2, 'title':'단 한 번의 삶', 'writer':'김영하', 'price':'18,100'},\\n    {'no':3, 'title':'흔한 남매 19', 'writer':'백난도', 'price':'14,220'},\\n    {'no':4, 'title':'가격이 잘못', 'writer':'홍길동', 'price':'-'},\\n    {'no':5, 'title':'가격이 숫자', 'writer':'신길동', 'price':900},\\n    {'no':6, 'title':'가격이 없음', 'writer':'김길동'},\\n]\",\n",
       "  \"books.sort(key = lambda book : book.get('title'))\\nbooks\",\n",
       "  \"books.sort(key = lambda book : book.get('writer'))\\nbooks\",\n",
       "  \"# '14,000' -> 14000 / 800 -> 800 / '-' -> 0\\ndef parse_int(price) :\\n    print(type(price))\\n\\nparse_int(800)\",\n",
       "  \"# '14,000' -> 14000 / 800 -> 800 / '-' -> 0\\ndef parse_int(price) :\\n#     print(type(price))\\n    if isinstance(price, int) :\\n        return price\\n\\nparse_int(800)\",\n",
       "  \"# '14,000' -> 14000 / 800 -> 800 / '-' -> 0\\ndef parse_int(price) :\\n#   print(type(price))\\n    if isinstance(price, int) :\\n        return price\\n    ]\\nparse_int(800)\",\n",
       "  \"# '14,000' -> 14000 / 800 -> 800 / '-' -> 0\\ndef parse_int(price) :\\n#   print(type(price))\\n    if isinstance(price, int) :\\n        return price\\n    \\nparse_int(800)\",\n",
       "  '# \\'14,000\\' -> 14000 / \"2000\" -> 2000 / 800 -> 800 / \\'-\\' -> 0\\ndef parse_int(price) :\\n#   print(type(price))\\n    if isinstance(price, str)\\n        return int(price.replace(\\',\\', \\'\\'))\\n    elif isinstance(price, int) :\\n        return price\\nparse_int(800)',\n",
       "  '# \\'14,000\\' -> 14000 / \"2000\" -> 2000 / 800 -> 800 / \\'-\\' -> 0\\ndef parse_int(price) :\\n#   print(type(price))\\n    if isinstance(price, str) & price.replace(\\',\\', \\'\\').isdigit() :\\n        return int(price.replace(\\',\\', \\'\\'))\\n    elif isinstance(price, int) :\\n        return price\\nparse_int(800)',\n",
       "  '# \\'14,000\\' -> 14000 / \"2000\" -> 2000 / 800 -> 800 / \\'-\\' -> 0\\ndef parse_int(price) :\\n#   print(type(price))\\n    if price.replace(\\',\\', \\'\\').isdigit() :\\n        return int(price.replace(\\',\\', \\'\\'))\\n    elif isinstance(price, int) :\\n        return price\\nparse_int(800)',\n",
       "  '# \\'14,000\\' -> 14000 / \"2000\" -> 2000 / 800 -> 800 / \\'-\\' -> 0\\ndef parse_int(price) :\\n#   print(type(price))\\n    if isinstance(price, str) & price.replace(\\',\\', \\'\\').isdigit() :\\n        return int(price.replace(\\',\\', \\'\\'))\\n    elif isinstance(price, int) :\\n        return price\\nparse_int(800)',\n",
       "  '# \\'14,000\\' -> 14000 / \"2000\" -> 2000 / 800 -> 800 / \\'-\\' -> 0\\ndef parse_int(price) :\\n#   print(type(price))\\n    if isinstance(price, str) and price.replace(\\',\\', \\'\\').isdigit() :\\n        return int(price.replace(\\',\\', \\'\\'))\\n    elif isinstance(price, int) :\\n        return price\\nparse_int(800)',\n",
       "  '# \\'14,000\\' -> 14000 / \"2000\" -> 2000 / 800 -> 800 / \\'-\\' -> 0\\ndef parse_int(price) :\\n#   print(type(price))\\n    if isinstance(price, str) && price.replace(\\',\\', \\'\\').isdigit() :\\n        return int(price.replace(\\',\\', \\'\\'))\\n    elif isinstance(price, int) :\\n        return price\\nparse_int(800)',\n",
       "  '# \\'14,000\\' -> 14000 / \"2000\" -> 2000 / 800 -> 800 / \\'-\\' -> 0\\ndef parse_int(price) :\\n#   print(type(price))\\n    if isinstance(price, str) & price.replace(\\',\\', \\'\\').isdigit() :\\n        return int(price.replace(\\',\\', \\'\\'))\\n    elif isinstance(price, int) :\\n        return price\\nparse_int(800)',\n",
       "  '# \\'14,000\\' -> 14000 / \"2000\" -> 2000 / 800 -> 800 / \\'-\\' -> 0\\ndef parse_int(price) :\\n#   print(type(price))\\n    if isinstance(price, str) and price.replace(\\',\\', \\'\\').isdigit() :\\n        return int(price.replace(\\',\\', \\'\\'))\\n    elif isinstance(price, int) :\\n        return price\\nparse_int(800)',\n",
       "  '# \\'14,000\\' -> 14000 / \"2000\" -> 2000 / 800 -> 800 / \\'-\\' -> 0\\ndef parse_int(price) :\\n#   print(type(price))\\n    if isinstance(price, str) and price.replace(\\',\\', \\'\\').isdigit() :\\n        return int(price.replace(\\',\\', \\'\\'))\\n    elif isinstance(price, int) :\\n        return price\\nparse_int(\"8009\")',\n",
       "  'parse_int(\"8,000\"), parse_int(\"8000\"), parse_inte(800), parse_int(-)',\n",
       "  'parse_int(\"8,000\"), parse_int(\"8000\"), parse_inte(800), parse_int(\"-\")',\n",
       "  'parse_int(\"8,000\"), parse_int(\"8000\"), parse_int(800), parse_int(\"-\")',\n",
       "  '# \\'14,000\\' -> 14000 / \"2000\" -> 2000 / 800 -> 800 / \\'-\\' -> 0\\ndef parse_int(price) :\\n#   print(type(price))\\n    if isinstance(price, str) and price.replace(\\',\\', \\'\\').isdigit() :\\n        return int(price.replace(\\',\\', \\'\\'))\\n    elif isinstance(price, int) :\\n        return 0\\nparse_int(\"8009\")',\n",
       "  'parse_int(\"8,000\"), parse_int(\"8000\"), parse_int(800), parse_int(\"-\")',\n",
       "  '# \\'14,000\\' -> 14000 / \"2000\" -> 2000 / 800 -> 800 / \\'-\\' -> 0\\ndef parse_int(price) :\\n#   print(type(price))\\n    if isinstance(price, str) and price.replace(\\',\\', \\'\\').isdigit() :\\n        return int(price.replace(\\',\\', \\'\\'))\\n    elif isinstance(price, int) :\\n        return price\\n    else(0)\\nparse_int(\"8009\")',\n",
       "  'parse_int(\"8,000\"), parse_int(\"8000\"), parse_int(800), parse_int(\"-\")',\n",
       "  '# \\'14,000\\' -> 14000 / \"2000\" -> 2000 / 800 -> 800 / \\'-\\' -> 0\\ndef parse_int(price) :\\n#   print(type(price))\\n    if isinstance(price, str) and price.replace(\\',\\', \\'\\').isdigit() :\\n        return int(price.replace(\\',\\', \\'\\'))\\n    elif isinstance(price, int) :\\n        return price\\n    else:        (0)\\nparse_int(\"8009\")',\n",
       "  \"# {'no': 6, 'title': '가격이 없음', 'writer': '김길동'},s\\n# {no': 3, 'title': '흔한 남매 19', 'writer': '백난도', 'price': '14,220'} => 14220\\n# {'no': 5, 'title': '가격이 숫자', 'writer': '신길동', 'price': 900} => 900\",\n",
       "  \"def parse_int(book) : \\n    if isinstance(book.get('price'), str) and \\\\\\n        book.get('price').replace(',', '').isdigit() :\\n        return int( book.get('price').replace(',', '') )\\n    elif isinstance(book.get('price'), int) :\\n        return book.get('price')\\n    else:\\n        return 0\\nparse_int(books[0])\",\n",
       "  \"def parse_int(book) : \\n    if isinstance(book.get('price'), str) and \\\\\\n        book.get('price').replace(',', '').isdigit() :\\n        return int( book.get('price').replace(',', '') )\\n    elif isinstance(book.get('price'), int) :\\n        return book.get('price')\\n    else:\\n        return 0\\nparse_int(books[5])\",\n",
       "  \"def parse_int(book) : \\n    if isinstance(book.get('price'), str) and \\\\\\n            book.get('price').replace(',', '').isdigit() :\\n        return int( book.get('price').replace(',', '') )\\n    elif isinstance(book.get('price'), int) :\\n        return book.get('price')\\n    else:\\n        return 0\\nparse_int(books[5]), parse_int(books[3])\",\n",
       "  \"def parse_int(book) : \\n    if isinstance(book.get('price'), str) and \\\\\\n            book.get('price').replace(',', '').isdigit() :\\n        return int( book.get('price').replace(',', '') )\\n    elif isinstance(book.get('price'), int) :\\n        return book.get('price')\\n    else:\\n        return 0\\nparse_int(books[5]), parse_int(books[3]), parse_int(books[0])\",\n",
       "  \"def parse_int(book) : \\n    if isinstance(book.get('price'), str) and \\\\\\n            book.get('price').replace(',', '').isdigit() :\\n        return int( book.get('price').replace(',', '') )\\n    elif isinstance(book.get('price'), int) :\\n        return book.get('price')\\n    else:\\n        return 0\\nparse_int(books[5]), parse_int(books[3]), parse_int(books[0]), parse_int(books[4])\",\n",
       "  \"books = [\\n    {'no':1, 'title':'강남 아파트 인사이트', 'writer':'오스틀', 'price':'25,000'},\\n    {'no':2, 'title':'단 한 번의 삶', 'writer':'김영하', 'price':'18,100'},\\n    {'no':3, 'title':'흔한 남매 19', 'writer':'백난도', 'price':'14,220'},\\n    {'no':4, 'title':'가격이 잘못', 'writer':'홍길동', 'price':'-'},\\n    {'no':5, 'title':'가격이 숫자', 'writer':'신길동', 'price':900},\\n    {'no':6, 'title':'가격이 없음', 'writer':'김길동'},\\n]\\ncopy_books = books.copy()\",\n",
       "  \"def parse_int(book) : \\n    if isinstance(book.get('price'), str) and \\\\\\n            book.get('price').replace(',', '').isdigit() :\\n        return int( book.get('price').replace(',', '') )\\n    elif isinstance(book.get('price'), int) :\\n        return book.get('price')\\n    else:\\n        return 0\\nparse_int(books[5]), parse_int(books[3]), parse_int(books[0]), parse_int(books[4])\",\n",
       "  \"copy_books.sort(key=lambda book : \\n                            int( book.get('price').replace(',', '') \\\\\\n                            if isinstance(book.get('price'), str) and \\\\\\n                                    book.get('price').replace(',', '').isdigit() else \\\\\\n                                book.get('price') if isinstance(book.get('price'), int) else\\\\\\n                                0 , books\\n                                     ))\",\n",
       "  \"copy_books.sort(key=lambda book : \\n                            int( book.get('price').replace(',', '') \\\\\\n                            if isinstance(book.get('price'), str) and \\\\\\n                                    book.get('price').replace(',', '').isdigit() else \\\\\\n                                book.get('price') if isinstance(book.get('price'), int) else\\\\\\n                                0 ,\\n                                     ))\",\n",
       "  \"copy_books.sort(key=lambda book : \\n                            int( book.get('price').replace(',', '')) \\\\\\n                            if isinstance(book.get('price'), str) and \\\\\\n                                    book.get('price').replace(',', '').isdigit() else \\\\\\n                                book.get('price') if isinstance(book.get('price'), int) else\\\\\\n                                0 ,\\n                                     )\",\n",
       "  'copy_books',\n",
       "  'books',\n",
       "  \"copy_books.sort(key=lambda book : \\n                            int( book.get('price').replace(',', '')) \\\\\\n                            if isinstance(book.get('price'), str) and \\\\\\n                                    book.get('price').replace(',', '').isdigit() else \\\\\\n                                book.get('price') if isinstance(book.get('price'), int) else\\\\\\n                                0 ,\\n                                     )\",\n",
       "  \"(lambda book : \\n                            int( book.get('price').replace(',', '')) \\\\\\n                            if isinstance(book.get('price'), str) and \\\\\\n                                    book.get('price').replace(',', '').isdigit() else \\\\\\n                                book.get('price') if isinstance(book.get('price'), int) else\\\\\\n                                0 ,\\n                                     )(books[0])\",\n",
       "  \"(lambda book : \\n                            int( book.get('price').replace(',', '')) \\\\\\n                            if isinstance(book.get('price'), str) and \\\\\\n                                    book.get('price').replace(',', '').isdigit() else \\\\\\n                                book.get('price') if isinstance(book.get('price'), int) else\\\\\\n                                0 \\n                                     )(books[0])\",\n",
       "  '# 함수를 return\\ndef make_box(shape): # shape :[l] => len가 l인 list를 생성하는 함수 return, [r, c], [d, r, c]\\n                    #        [r, c] => r행 c열인 list를 생헝하는 함수 return\\n    def box(init_value) :\\n        if len(shape)==1 :\\n            return [init_value]*shape[0]\\n        elif len(shape)==2:\\n            return [ [init_value] * shape[1] ] * shape[0]\\n    return box',\n",
       "  'line_func = make_box([2,3])\\nline_func(3)',\n",
       "  'line_func1 = make_box([10])\\nline_func1(3)',\n",
       "  '# 함수를 return\\ndef make_box(shape): # shape :[l] => len가 l인 list를 생성하는 함수 return, [r, c], [d, r, c]\\n                    #        [r, c] => r행 c열인 list를 생헝하는 함수 return\\n    def box(init_value) :\\n        if len(shape)==1 :\\n            return [init_value]*shape[0]\\n        elif len(shape)==2:\\n            return [ [init_value] * shape[1] ] * shape[0]\\n    return box',\n",
       "  '# 함수를 return\\ndef make_box(shape): # shape :[l] => len가 l인 list를 생성하는 함수 return, [r, c], [d, r, c]\\n                    #        [r, c] => r행 c열인 list를 생헝하는 함수 return\\n    def box(init_value) :\\n        if len(shape)==1 :\\n            return [init_value]*shape[0]\\n        elif len(shape)==2:\\n            return [ [init_value] * shape[1] ] * shape[0]\\n    return box',\n",
       "  'def make_box(shape):\\n    if len(shape) == 1:\\n        return lambda init_value',\n",
       "  'def make_box(shape):\\n    if len(shape) == 1:\\n        return lambda init_value : [init_value]*shape[0]\\n    else len(shape)==2:\\n        return lambda init_value : [ [init_value]*shape[1] ] * shape[0]',\n",
       "  'def make_box(shape):\\n    if len(shape) == 1:\\n        return lambda init_value : [init_value]*shape[0]\\n    elif len(shape)==2:\\n        return lambda init_value : [ [init_value]*shape[1] ] * shape[0]',\n",
       "  'globlas()',\n",
       "  'globals()'],\n",
       " '_oh': {4: [2, 2, 2, 2, 2, 2, 2, 2, 2, 2],\n",
       "  6: [2, 4, 6, 8, 10, 12, 14, 16, 18, 20],\n",
       "  7: [2, 4, 6, 8, 10, 12, 14, 16, 18, 20],\n",
       "  9: map,\n",
       "  10: \"\\n예제 2. member1 = [{'name':'홍길동', 'birth':'2000-01-01'},\\n                    {'name':'신길동', 'birth':'1998-12-31'},]\\n       member2 = [{'name':'홍길동', 'year':2000, 'month':1, 'day':1},\\n                    {'name':'신길동', 'year':1998, 'month':12, 'day':31},] 로 변경            \\n\",\n",
       "  12: \"\\n예제 2. member1 = [{'name':'홍길동', 'birth':'2000-01-01'},\\n                    {'name':'신길동', 'birth':'1998-12-31'},]\\n       member2 = [{'name':'홍길동', 'year':2000, 'month':1, 'day':1},\\n                    {'name':'신길동', 'year':1998, 'month':12, 'day':31},] 로 변경            \\n\",\n",
       "  13: '\\n예제 3. member2를 member1로 바꿉니다.\\n',\n",
       "  14: (5000, 800),\n",
       "  16: [5000, 800, 1000, 6000],\n",
       "  25: {'year': 2000, 'month': 1, 'day': 1},\n",
       "  26: {'year': 2000, 'month': 1, 'day': 1},\n",
       "  28: {'year': 2000, 'month': 1, 'day': 1},\n",
       "  31: {'name': '홍길동', 'birth': '2000-01-01'},\n",
       "  32: '2000-01-01',\n",
       "  33: {'year': 2000, 'month': 1, 'day': 1},\n",
       "  35: {'year': 2000, 'month': 1, 'day': 1},\n",
       "  36: {'year': 2000, 'month': 1, 'day': 1},\n",
       "  37: {'year': 2000, 'month': 1, 'day': 1},\n",
       "  38: {'year': 2000, 'month': 1, 'day': 1},\n",
       "  46: {'year': 2000, 'month': 1, 'day': 1},\n",
       "  49: {'name': '홍길동', 'year': 2000, 'month': 1, 'day': 1},\n",
       "  50: [{'name': '홍길동', 'year': 2000, 'month': 1, 'day': 1},\n",
       "   {'name': '신길동', 'year': 1998, 'month': 12, 'day': 31}],\n",
       "  51: [{'name': '홍길동', 'year': 2000, 'month': 1, 'day': 1},\n",
       "   {'name': '신길동', 'year': 1998, 'month': 12, 'day': 31}],\n",
       "  52: '1998-12-31',\n",
       "  60: {'year': 2000, 'month': 1, 'day': 1},\n",
       "  61: [{'name': '홍길동', 'year': 2000, 'month': 1, 'day': 1},\n",
       "   {'name': '신길동', 'year': 1998, 'month': 12, 'day': 31}],\n",
       "  62: '\\n예제 3. member2를 member1로 바꿉니다.\\n',\n",
       "  64: '홍길동',\n",
       "  66: (2000, 1, 1),\n",
       "  70: [2000, 1, 1],\n",
       "  76: '2000',\n",
       "  91: datetime.date,\n",
       "  92: datetime.datetime(2000, 1, 1, 0, 0),\n",
       "  93: '00-01-01',\n",
       "  94: '00yyy-01-01',\n",
       "  95: '2000-01-01',\n",
       "  97: '2000-01-01',\n",
       "  99: '2000-01-01',\n",
       "  100: '2000-01-01',\n",
       "  101: '2000-01-01',\n",
       "  102: '2000-01-01',\n",
       "  103: '2000-01-01',\n",
       "  106: '2000-01-01',\n",
       "  119: '2000-01-01',\n",
       "  122: [{'name': '홍길동', 'birth': '2000-01-01'},\n",
       "   {'name': '신길동', 'birth': '1998-12-31'}],\n",
       "  125: (True, False),\n",
       "  129: (True, False),\n",
       "  132: (True, False),\n",
       "  133: [2, 4],\n",
       "  134: [2, 4],\n",
       "  136: [9, 7, 2],\n",
       "  138: [[1, 100], [9, 9], [10, 1]],\n",
       "  139: [[10, 1], [9, 9], [1, 100]],\n",
       "  140: [[10, 1], [9, 9], [1, 100]],\n",
       "  141: [[10, 1], [9, 9], [1, 100]],\n",
       "  142: 11,\n",
       "  149: [[10, 1], [9, 9], [1, 100]],\n",
       "  150: [(1, 'one'), (2, 'two'), (3, 'three'), (4, 'four')],\n",
       "  151: [9, 7, 2],\n",
       "  152: [(1, 'one'), (2, 'two'), (3, 'three'), (4, 'four')],\n",
       "  153: [(4, 'four'), (1, 'one'), (3, 'three'), (2, 'two')],\n",
       "  156: [(4, 'four'), (1, 'one'), (3, 'three'), (2, 'two')],\n",
       "  157: [[1, 100], [9, 9], [10, 1]],\n",
       "  160: [[1, 100], [9, 9], [10, 1]],\n",
       "  164: [[1, 100], [9, 9], [10, 1]],\n",
       "  165: [[1, 100], [9, 9], [10, 1]],\n",
       "  166: 6,\n",
       "  167: 6,\n",
       "  177: [{'name': '박길동', 'score': 99},\n",
       "   {'name': '홍길동', 'score': 90},\n",
       "   {'name': '김길동', 'score': 50}],\n",
       "  181: [{'name': '박길동', 'score': 99},\n",
       "   {'name': '홍길동', 'score': 90},\n",
       "   {'name': '김길동', 'score': 50}],\n",
       "  188: [{'name': '김길동', 'score': 50},\n",
       "   {'name': '박길동', 'score': 99},\n",
       "   {'name': '홍길동', 'score': 90}],\n",
       "  190: [{'score': 100},\n",
       "   {'name': '박길동', 'score': 99},\n",
       "   {'name': '홍길동', 'score': 90},\n",
       "   {'name': '김길동', 'score': 50}],\n",
       "  191: [{'score': 100},\n",
       "   {'name': '김길동', 'score': 50},\n",
       "   {'name': '박길동', 'score': 99},\n",
       "   {'name': '홍길동', 'score': 90}],\n",
       "  192: [{'name': '김길동', 'score': 50},\n",
       "   {'name': '박길동', 'score': 99},\n",
       "   {'name': '홍길동', 'score': 90},\n",
       "   {'score': 100}],\n",
       "  193: [{'score': 100},\n",
       "   {'name': '박길동', 'score': 99},\n",
       "   {'name': '홍길동', 'score': 90},\n",
       "   {'name': '김길동', 'score': 50}],\n",
       "  194: [{'score': 100},\n",
       "   {'name': '박길동', 'score': 99},\n",
       "   {'name': '홍길동', 'score': 90},\n",
       "   {'name': '김길동', 'score': 50}],\n",
       "  196: [{'no': 6, 'title': '가격이 없음', 'writer': '김길동'},\n",
       "   {'no': 2, 'title': '단 한 번의 삶', 'writer': '김영하', 'price': '18,100'},\n",
       "   {'no': 3, 'title': '흔한 남매 19', 'writer': '백난도', 'price': '14,220'},\n",
       "   {'no': 5, 'title': '가격이 숫자', 'writer': '신길동', 'price': 900},\n",
       "   {'no': 1, 'title': '강남 아파트 인사이트', 'writer': '오스틀', 'price': '25,000'},\n",
       "   {'no': 4, 'title': '가격이 잘못', 'writer': '홍길동', 'price': '-'}],\n",
       "  197: [{'no': 6, 'title': '가격이 없음', 'writer': '김길동'},\n",
       "   {'no': 2, 'title': '단 한 번의 삶', 'writer': '김영하', 'price': '18,100'},\n",
       "   {'no': 3, 'title': '흔한 남매 19', 'writer': '백난도', 'price': '14,220'},\n",
       "   {'no': 5, 'title': '가격이 숫자', 'writer': '신길동', 'price': 900},\n",
       "   {'no': 1, 'title': '강남 아파트 인사이트', 'writer': '오스틀', 'price': '25,000'},\n",
       "   {'no': 4, 'title': '가격이 잘못', 'writer': '홍길동', 'price': '-'}],\n",
       "  199: 800,\n",
       "  201: 800,\n",
       "  206: 800,\n",
       "  209: 800,\n",
       "  210: 8009,\n",
       "  213: (8000, 8000, 800, None),\n",
       "  214: 8009,\n",
       "  215: (8000, 8000, 0, None),\n",
       "  217: (8000, 8000, 0, None),\n",
       "  218: 8009,\n",
       "  220: 0,\n",
       "  221: 0,\n",
       "  222: (0, 900),\n",
       "  223: (0, 900, 0),\n",
       "  224: (0, 900, 0, 25000),\n",
       "  226: (0, 0, 25000, 900),\n",
       "  230: [{'no': 4, 'title': '가격이 잘못', 'writer': '홍길동', 'price': '-'},\n",
       "   {'no': 6, 'title': '가격이 없음', 'writer': '김길동'},\n",
       "   {'no': 5, 'title': '가격이 숫자', 'writer': '신길동', 'price': 900},\n",
       "   {'no': 3, 'title': '흔한 남매 19', 'writer': '백난도', 'price': '14,220'},\n",
       "   {'no': 2, 'title': '단 한 번의 삶', 'writer': '김영하', 'price': '18,100'},\n",
       "   {'no': 1, 'title': '강남 아파트 인사이트', 'writer': '오스틀', 'price': '25,000'}],\n",
       "  231: [{'no': 1, 'title': '강남 아파트 인사이트', 'writer': '오스틀', 'price': '25,000'},\n",
       "   {'no': 2, 'title': '단 한 번의 삶', 'writer': '김영하', 'price': '18,100'},\n",
       "   {'no': 3, 'title': '흔한 남매 19', 'writer': '백난도', 'price': '14,220'},\n",
       "   {'no': 4, 'title': '가격이 잘못', 'writer': '홍길동', 'price': '-'},\n",
       "   {'no': 5, 'title': '가격이 숫자', 'writer': '신길동', 'price': 900},\n",
       "   {'no': 6, 'title': '가격이 없음', 'writer': '김길동'}],\n",
       "  234: 25000,\n",
       "  236: [[3, 3, 3], [3, 3, 3]],\n",
       "  237: [3, 3, 3, 3, 3, 3, 3, 3, 3, 3]},\n",
       " '_dh': [WindowsPath('C:/ai_x/source/01_python')],\n",
       " 'In': ['',\n",
       "  'from IPython.display import display, HTML\\ndisplay(HTML(\"\"\"\\n<style>\\ndiv.container{width:85% !important;}\\ndiv.cell.code_cell.rendered{width:100%;}\\ndiv.input_prompt{padding:0px;}\\ndiv.CodeMirror {font-family:Consolas; font-size:15pt;}\\ndiv.output {font-size:12pt; font-weight:bold;}\\ndiv.input {font-family:Consolas; font-size:15pt;}\\ndiv.prompt {min-width:70px;}\\ndiv#toc-wrapper{padding-top:120px;}\\ndiv.text_cell_render ul li{font-size:15pt;padding:5px;}\\ntable.dataframe{font-size:15px;}\\n</style>\\n\"\"\"))',\n",
       "  '# 리스트 데이터를 가공 방법 1. mapp\\nlist_data = [1, 2, 3, 4, 5, 6, 7,  8, 9, 10]\\nmap_template(lambda x : x*2, list_data)\\n# def x_2(x) :\\n#     return x*2\\n# map_template(x_2, list_data)',\n",
       "  \"def map_template(func, L=[]) :\\n    '''\\n    L의 모든 요소를 func()함수를 적용시켜 return\\n    [2, 4, 6]\\n    '''\\n    result = []\\n    for l in L :\\n        result.append(func(1))\\n    return result\\n#     return [func(l) for l in L]\",\n",
       "  '# 리스트 데이터를 가공 방법 1. mapp\\nlist_data = [1, 2, 3, 4, 5, 6, 7,  8, 9, 10]\\nmap_template(lambda x : x*2, list_data)\\n# def x_2(x) :\\n#     return x*2\\n# map_template(x_2, list_data)',\n",
       "  \"def map_template(func, L=[]) :\\n    '''\\n    L의 모든 요소를 func()함수를 적용시켜 return\\n    [2, 4, 6]\\n    '''\\n    result = []\\n    for l in L :\\n        result.append(func(l))\\n    return result\\n#     return [func(l) for l in L]\",\n",
       "  '# 리스트 데이터를 가공 방법 1. mapp\\nlist_data = [1, 2, 3, 4, 5, 6, 7,  8, 9, 10]\\nmap_template(lambda x : x*2, list_data)\\n# def x_2(x) :\\n#     return x*2\\n# map_template(x_2, list_data)',\n",
       "  '# 리스트 데이터를 가공 방법 2. ㄹ리스트 컴프리헨션\\n[l*2 for l in list_data]',\n",
       "  \"for item in map(lambda x : x*2, list_data):\\n    print(item, end=' ')\",\n",
       "  '# 리스트 데이터를 가공 방법 3. map():파이썬 내장함수\\na= map(lambda x : x*2, list_data)\\ntype(a)',\n",
       "  \"'''\\n예제 2. member1 = [{'name':'홍길동', 'birth':'2000-01-01'},\\n                    {'name':'신길동', 'birth':'1998-12-31'},]\\n       member2 = [{'name':'홍길동', 'year':2000, 'month':1, 'day':1},\\n                    {'name':'신길동', 'year':1998, 'month':12, 'day':31},] 로 변경            \\n'''\",\n",
       "  \"'''\\n예제 1. [5000, 800, 1000, 6000] 로 바꾸시오\\n'''\\nprices = ['5,000', '800', '1000', '6,000']\",\n",
       "  \"'''\\n예제 2. member1 = [{'name':'홍길동', 'birth':'2000-01-01'},\\n                    {'name':'신길동', 'birth':'1998-12-31'},]\\n       member2 = [{'name':'홍길동', 'year':2000, 'month':1, 'day':1},\\n                    {'name':'신길동', 'year':1998, 'month':12, 'day':31},] 로 변경            \\n'''\",\n",
       "  \"'''\\n예제 3. member2를 member1로 바꿉니다.\\n'''\",\n",
       "  'def func(x) :\\n    return int(x.replace(\\',\\', \\'\\'))\\nfunc(\"5,000\"), func(\"800\")\\n# lambda(x : int(x.replae(\\',\\', \\'\\')))',\n",
       "  '# def func(x) :\\n#     return int(x.replace(\\',\\', \\'\\'))\\n# func(\"5,000\"), func(\"800\")\\nlambda(x : int(x.replae(\\',\\', \\'\\')))',\n",
       "  \"list(map(lambda x : int(x.replace(',', '')), prices))\",\n",
       "  \"# '2000-01-01' = {'year':1998, 'month':12, 'day':31}\\ndef split_data(date):\\n    split_data = date.split('-')\",\n",
       "  \"# '2000-01-01' = {'year':1998, 'month':12, 'day':31}\\ndef split_data(date):\\n    split_data = date.split('-')\\n    split_data\",\n",
       "  \"# '2000-01-01' = {'year':1998, 'month':12, 'day':31}\\ndef split_data(date):\\n    split_data = date.split('-')\\nsplit_data(member1('birth'))\",\n",
       "  \"'''\\n예제 2. member1 = [{'name':'홍길동', 'birth':'2000-01-01'},\\n                    {'name':'신길동', 'birth':'1998-12-31'},]\\n       member2 = [{'name':'홍길동', 'year':2000, 'month':1, 'day':1},\\n                    {'name':'신길동', 'year':1998, 'month':12, 'day':31},] 로 변경            \\n'''\\nmember1 = [{'name':'홍길동', 'birth':'2000-01-01'},\\n                    {'name':'신길동', 'birth':'1998-12-31'},]\",\n",
       "  \"# '2000-01-01' = {'year':1998, 'month':12, 'day':31}\\ndef split_data(date):\\n    split_data = date.split('-')\\nsplit_data(member1('birth'))\",\n",
       "  \"# '2000-01-01' = {'year':1998, 'month':12, 'day':31}\\ndef split_data(date):\\n    split_data = date.split('-')\\nsplit_data(member1['birth'])\",\n",
       "  \"# '2000-01-01' = {'year':1998, 'month':12, 'day':31}\\ndef split_data(date):\\n    split_data = date.split('-')\\nsplit_data(member1[1])\",\n",
       "  \"# '2000-01-01' = {'year':1998, 'month':12, 'day':31}\\ndef split_data(date):\\n    split_data = date.split('-')\\n    print(split_data[0], split_data[1], split_data[2])\\n    return {'year': int(split_data[0]),\\n           'month':int(split_data[1]),\\n           'day':int(split_data[2]\\n            )}\",\n",
       "  \"# '2000-01-01' = {'year':1998, 'month':12, 'day':31}\\ndef split_data(date):\\n    split_data = date.split('-')\\n    print(split_data[0], split_data[1], split_data[2])\\n    return {'year': int(split_data[0]),\\n           'month':int(split_data[1]),\\n           'day':int(split_data[2]\\n            )}\\nsplit_data('2000-01-01')\",\n",
       "  \"# '2000-01-01' = {'year':1998, 'month':12, 'day':31}\\ndef split_data(date):\\n    split_data = date.split('-')\\n#     print(split_data[0], split_data[1], split_data[2])\\n    return {'year': int(split_data[0]),\\n           'month':int(split_data[1]),\\n           'day':int(split_data[2]\\n            )}\\nsplit_data('2000-01-01')\",\n",
       "  \"# '2000-01-01' = {'year':1998, 'month':12, 'day':31}\\ndef split_data(date):\\n    split_data = date.split('-')\\n#     print(split_data[0], split_data[1], split_data[2])\\n    return {'year': int(split_data[0]),\\n           'month':int(split_data[1]),\\n           'day':int(split_data[2]\\n            )}\",\n",
       "  \"# '2000-01-01' = {'year':1998, 'month':12, 'day':31}\\ndef split_data(date):\\n    split_data = date.split('-')\\n#     print(split_data[0], split_data[1], split_data[2])\\n    return {'year': int(split_data[0]),\\n           'month':int(split_data[1]),\\n           'day':int(split_data[2]\\n            )}\\nsplit_data('2000-01-01')\",\n",
       "  \"# '2000-01-01' = {'year':1998, 'month':12, 'day':31}\\ndef split_data(date):\\n    split_data = date.split('-')\\n#     print(split_data[0], split_data[1], split_data[2])\\n    return {'year': int(split_data[0]),\\n           'month':int(split_data[1]),\\n           'day':int(split_data[2]\\n            )}\\nsplit_data('2000-01-01')\\nmember1('birth')\",\n",
       "  \"# '2000-01-01' = {'year':1998, 'month':12, 'day':31}\\ndef split_data(date):\\n    split_data = date.split('-')\\n#     print(split_data[0], split_data[1], split_data[2])\\n    return {'year': int(split_data[0]),\\n           'month':int(split_data[1]),\\n           'day':int(split_data[2]\\n            )}\\nsplit_data('2000-01-01')\\nmember1[0]('birth')\",\n",
       "  \"# '2000-01-01' = {'year':1998, 'month':12, 'day':31}\\ndef split_data(date):\\n    split_data = date.split('-')\\n#     print(split_data[0], split_data[1], split_data[2])\\n    return {'year': int(split_data[0]),\\n           'month':int(split_data[1]),\\n           'day':int(split_data[2]\\n            )}\\nsplit_data('2000-01-01')\\nmember1[0]\",\n",
       "  '# \\'2000-01-01\\' = {\\'year\\':1998, \\'month\\':12, \\'day\\':31}\\ndef split_data(date):\\n    split_data = date.split(\\'-\\')\\n#     print(split_data[0], split_data[1], split_data[2])\\n    return {\\'year\\': int(split_data[0]),\\n           \\'month\\':int(split_data[1]),\\n           \\'day\\':int(split_data[2]\\n            )}\\nsplit_data(\\'2000-01-01\\')\\nmember1[0].get(\"birth\")',\n",
       "  '# \\'2000-01-01\\' = {\\'year\\':1998, \\'month\\':12, \\'day\\':31}\\ndef split_data(date):\\n    split_data = date.split(\\'-\\')\\n#     print(split_data[0], split_data[1], split_data[2])\\n    return {\\'year\\': int(split_data[0]),\\n           \\'month\\':int(split_data[1]),\\n           \\'day\\':int(split_data[2]\\n            )}\\nsplit_data(member1[0].get(\"birth\"))',\n",
       "  '# \\'2000-01-01\\' = {\\'year\\':1998, \\'month\\':12, \\'day\\':31}\\ndef split_data(date):\\n    split_data = date.split(\\'-\\')\\n#     print(split_data[0], split_data[1], split_data[2])\\n    return {\\'year\\': int(split_data[0]),\\n           \\'month\\':int(split_data[1]),\\n           \\'day\\':int(split_data[2]\\n            )}\\nsplit_data(member1.get(\"birth\"))',\n",
       "  '# \\'2000-01-01\\' = {\\'year\\':1998, \\'month\\':12, \\'day\\':31}\\ndef split_data(date):\\n    split_data = date.split(\\'-\\')\\n#     print(split_data[0], split_data[1], split_data[2])\\n    return {\\'year\\': int(split_data[0]),\\n           \\'month\\':int(split_data[1]),\\n           \\'day\\':int(split_data[2]\\n            )}\\nsplit_data(member1[0].get(\"birth\"))',\n",
       "  '# \\'2000-01-01\\' = {\\'year\\':1998, \\'month\\':12, \\'day\\':31}\\ndef split_data(date):\\n    split_data = date.split(\\'-\\')\\n#     print(split_data[0], split_data[1], split_data[2])\\n    return {\\'year\\': int(split_data[0]),\\n           \\'month\\':int(split_data[1]),\\n           \\'day\\':int(split_data[2]\\n            )}\\nsplit_data(member1[0].get(\"birth\"))',\n",
       "  '# \\'2000-01-01\\' = {\\'year\\':1998, \\'month\\':12, \\'day\\':31}\\ndef split_data(date):\\n    split_data = date.split(\\'-\\')\\n#     print(split_data[0], split_data[1], split_data[2])\\n    return {\\'year\\': int(split_data[0]),\\n           \\'month\\':int(split_data[1]),\\n           \\'day\\':int(split_data[2]\\n            )}\\nsplit_data(member1[0].get(\"birth\"))',\n",
       "  '# \\'2000-01-01\\' = {\\'year\\':1998, \\'month\\':12, \\'day\\':31}\\ndef split_data(date):\\n    split_data = date.split(\\'-\\')\\n#     print(split_data[0], split_data[1], split_data[2])\\n    return {\\'year\\': int(split_data[0]),\\n           \\'month\\':int(split_data[1]),\\n           \\'day\\':int(split_data[2]\\n            )}\\nsplit_data(member1[0].get(\"birth\"))',\n",
       "  'def member_func(member) : # {\\'name\\':\\'홍길동\\', \\'birth\\':\\'2000-01-01\\'}\\n    \"{\\'name\\':\\'신길동\\', \\'year\\':1998, \\'month\\':12, \\'day\\':31}식으로 return\"\\n    return {\\n        \\'name\\':member.get(\\'name\\'),\\n        \\'year\\':int(member[\\'birth\\'].split(\\'-\\')[0],\\n        \\'month\\':int(member[\\'month\\'].split(\\'-\\')[1],\\n        \\'day\\':int(member[\\'month\\'].split(\\'-\\')[2])\\n    }',\n",
       "  'def member_func(member) : # {\\'name\\':\\'홍길동\\', \\'birth\\':\\'2000-01-01\\'}\\n    \"{\\'name\\':\\'신길동\\', \\'year\\':1998, \\'month\\':12, \\'day\\':31}식으로 return\"\\n    return {\\n        \\'name\\':member.get(\\'name\\'),\\n        \\'year\\':int(member[\\'birth\\'].split(\\'-\\')[0]),\\n        \\'month\\':int(member[\\'month\\'].split(\\'-\\')[1]),\\n        \\'day\\':int(member[\\'month\\'].split(\\'-\\')[2])\\n    }',\n",
       "  'def member_func(member) : # {\\'name\\':\\'홍길동\\', \\'birth\\':\\'2000-01-01\\'}\\n    \"{\\'name\\':\\'신길동\\', \\'year\\':1998, \\'month\\':12, \\'day\\':31}식으로 return\"\\n    return {\\n        \\'name\\':member.get(\\'name\\'),\\n        \\'year\\':int(member[\\'birth\\'].split(\\'-\\')[0]),\\n        \\'month\\':int(member[\\'month\\'].split(\\'-\\')[1]),\\n        \\'day\\':int(member[\\'month\\'].split(\\'-\\')[2])\\n    }\\n\\nmember_func(member1)',\n",
       "  'def member_func(member) : # {\\'name\\':\\'홍길동\\', \\'birth\\':\\'2000-01-01\\'}\\n    \"{\\'name\\':\\'신길동\\', \\'year\\':1998, \\'month\\':12, \\'day\\':31}식으로 return\"\\n    return {\\n        \\'name\\':member.get(\\'name\\'),\\n        \\'year\\':int(member[\\'birth\\'].split(\\'-\\')[0]),\\n        \\'month\\':int(member[\\'month\\'].split(\\'-\\')[1]),\\n        \\'day\\':int(member[\\'month\\'].split(\\'-\\')[2])\\n    }\\n\\nmember_func(member1[0])',\n",
       "  \"'''\\n예제 2. member1 = [{'name':'홍길동', 'birth':'2000-01-01'},\\n                    {'name':'신길동', 'birth':'1998-12-31'},]\\n       member2 = [{'name':'홍길동', 'year':2000, 'month':1, 'day':1},\\n                    {'name':'신길동', 'year':1998, 'month':12, 'day':31},] 로 변경            \\n'''\\nmember1 = [{'name':'홍길동', 'birth':'2000-01-01'},\\n                    {'name':'신길동', 'birth':'1998-12-31'},]\",\n",
       "  'def member_func(member) : # {\\'name\\':\\'홍길동\\', \\'birth\\':\\'2000-01-01\\'}\\n    \"{\\'name\\':\\'신길동\\', \\'year\\':1998, \\'month\\':12, \\'day\\':31}식으로 return\"\\n    return {\\n        \\'name\\':member.get(\\'name\\'),\\n        \\'year\\':int(member[\\'birth\\'].split(\\'-\\')[0]),\\n        \\'month\\':int(member[\\'month\\'].split(\\'-\\')[1]),\\n        \\'day\\':int(member[\\'month\\'].split(\\'-\\')[2])\\n    }\\n\\nmember_func(member1[0])',\n",
       "  \"'''\\n예제 2. member1 = [{'name':'홍길동', 'birth':'2000-01-01'},\\n                    {'name':'신길동', 'birth':'1998-12-31'},]\\n       member2 = [{'name':'홍길동', 'year':2000, 'month':1, 'day':1},\\n                    {'name':'신길동', 'year':1998, 'month':12, 'day':31},] 로 변경            \\n'''\\nmember1 = [{'name':'홍길동', 'birth':'2000-01-01'},\\n                    {'name':'신길동', 'birth':'1998-12-31'},]\",\n",
       "  '# \\'2000-01-01\\' = {\\'year\\':1998, \\'month\\':12, \\'day\\':31}\\ndef split_data(date):\\n    split_data = date.split(\\'-\\')\\n#     print(split_data[0], split_data[1], split_data[2])\\n    return {\\'year\\': int(split_data[0]),\\n           \\'month\\':int(split_data[1]),\\n           \\'day\\':int(split_data[2]\\n            )}\\nsplit_data(member1[0].get(\"birth\"))',\n",
       "  'def member_func(member) : # {\\'name\\':\\'홍길동\\', \\'birth\\':\\'2000-01-01\\'}\\n    \"{\\'name\\':\\'신길동\\', \\'year\\':1998, \\'month\\':12, \\'day\\':31}식으로 return\"\\n    return {\\n        \\'name\\':member.get(\\'name\\'),\\n        \\'year\\':int(member[\\'birth\\'].split(\\'-\\')[0]),\\n        \\'month\\':int(member[\\'month\\'].split(\\'-\\')[1]),\\n        \\'day\\':int(member[\\'month\\'].split(\\'-\\')[2])\\n    }\\n\\nmember_func(member1[0])',\n",
       "  'def member_func(member) : # {\\'name\\':\\'홍길동\\', \\'birth\\':\\'2000-01-01\\'}\\n    \"{\\'name\\':\\'신길동\\', \\'year\\':1998, \\'month\\':12, \\'day\\':31}식으로 return\"\\n    return {\\n        \\'name\\':member.get(\\'name\\'),\\n        \\'year\\':int(member[\\'birth\\'].split(\\'-\\')[0]),\\n        \\'month\\':int(member[\\'month\\'].split(\\'-\\')[1]),\\n        \\'day\\':int(member[\\'month\\'].split(\\'-\\')[2])\\n    }\\n\\nmember_func(member1[0])',\n",
       "  'def member_func(member) : # {\\'name\\':\\'홍길동\\', \\'birth\\':\\'2000-01-01\\'}\\n    \"{\\'name\\':\\'신길동\\', \\'year\\':1998, \\'month\\':12, \\'day\\':31}식으로 return\"\\n    return {\\n        \\'name\\':member.get(\\'name\\'),\\n        \\'year\\':int(member[\\'birth\\'].split(\\'-\\')[0]),\\n        \\'month\\':int(member[\\'birth\\'].split(\\'-\\')[1]),\\n        \\'day\\':int(member[\\'birth\\'].split(\\'-\\')[2])\\n    }\\n\\nmember_func(member1[0])',\n",
       "  'def member_func(member) : # {\\'name\\':\\'홍길동\\', \\'birth\\':\\'2000-01-01\\'}\\n    \"{\\'name\\':\\'신길동\\', \\'year\\':1998, \\'month\\':12, \\'day\\':31}식으로 return\"\\n    return {\\n        \\'name\\':member.get(\\'name\\'),\\n        \\'year\\':int(member[\\'birth\\'].split(\\'-\\')[0]),\\n        \\'month\\':int(member[\\'birth\\'].split(\\'-\\')[1]),\\n        \\'day\\':int(member[\\'birth\\'].split(\\'-\\')[2])\\n    }\\n\\nmember_func(member1[0])\\n\\nlist(map(lambda member :{\\n                        \\'name\\':member.get(\\'name\\'),\\n                        \\'year\\':int(member[\\'birth\\'].split(\\'-\\')[0]),\\n                        \\'month\\':int(member[\\'birth\\'].split(\\'-\\')[1]),\\n                        \\'day\\':int(member[\\'birth\\'].split(\\'-\\')[2])\\n                        }\\n         , member1\\n        )\\n    )',\n",
       "  'def member_func(member) : # {\\'name\\':\\'홍길동\\', \\'birth\\':\\'2000-01-01\\'}\\n    \"{\\'name\\':\\'신길동\\', \\'year\\':1998, \\'month\\':12, \\'day\\':31}식으로 return\"\\n    return {\\n        \\'name\\':member.get(\\'name\\'),\\n        \\'year\\':int(member[\\'birth\\'].split(\\'-\\')[0]),\\n        \\'month\\':int(member[\\'birth\\'].split(\\'-\\')[1]),\\n        \\'day\\':int(member[\\'birth\\'].split(\\'-\\')[2])\\n    }\\n\\nmember_func(member1[0])\\n\\nlist(map(lambda member :{\\n                        \\'name\\':member.get(\\'name\\'),\\n                        \\'year\\':int(member[\\'birth\\'].split(\\'-\\')[0]),\\n                        \\'month\\':int(member[\\'birth\\'].split(\\'-\\')[1]),\\n                        \\'day\\':int(member[\\'birth\\'].split(\\'-\\')[2])\\n                        } , member1\\n        )\\n    )',\n",
       "  \"''.join(member1[1].get('birth'))\",\n",
       "  \"''.join(member2[0].get('birth'))\",\n",
       "  \"'''\\n예제 2. member1 = [{'name':'홍길동', 'birth':'2000-01-01'},\\n                    {'name':'신길동', 'birth':'1998-12-31'},]\\n       member2 = [{'name':'홍길동', 'year':2000, 'month':1, 'day':1},\\n                    {'name':'신길동', 'year':1998, 'month':12, 'day':31},] 로 변경            \\n'''\\nmember1 = [{'name':'홍길동', 'birth':'2000-01-01'},\\n                    {'name':'신길동', 'birth':'1998-12-31'},]\\nember2 = [{'name':'홍길동', 'year':2000, 'month':1, 'day':1},\\n                    {'name':'신길동', 'year':1998, 'month':12, 'day':31},] \",\n",
       "  \"''.join(member2[0].get('birth'))\",\n",
       "  \"'''\\n예제 2. member1 = [{'name':'홍길동', 'birth':'2000-01-01'},\\n                    {'name':'신길동', 'birth':'1998-12-31'},]\\n       member2 = [{'name':'홍길동', 'year':2000, 'month':1, 'day':1},\\n                    {'name':'신길동', 'year':1998, 'month':12, 'day':31},] 로 변경            \\n'''\\nmember1 = [{'name':'홍길동', 'birth':'2000-01-01'},\\n                    {'name':'신길동', 'birth':'1998-12-31'},]\\nmember2 = [{'name':'홍길동', 'year':2000, 'month':1, 'day':1},\\n                    {'name':'신길동', 'year':1998, 'month':12, 'day':31},] \",\n",
       "  \"''.join(member2[0].get('birth'))\",\n",
       "  \"''.join(member2[0].get('month'))\",\n",
       "  \"'''\\n예제 2. member1 = [{'name':'홍길동', 'birth':'2000-01-01'},\\n                    {'name':'신길동', 'birth':'1998-12-31'},]\\n       member2 = [{'name':'홍길동', 'year':2000, 'month':1, 'day':1},\\n                    {'name':'신길동', 'year':1998, 'month':12, 'day':31},] 로 변경            \\n'''\\nmember1 = [{'name':'홍길동', 'birth':'2000-01-01'},\\n                    {'name':'신길동', 'birth':'1998-12-31'},]\\nmember2 = [{'name':'홍길동', 'year':2000, 'month':1, 'day':1},\\n                    {'name':'신길동', 'year':1998, 'month':12, 'day':31},]\",\n",
       "  '# \\'2000-01-01\\' = {\\'year\\':1998, \\'month\\':12, \\'day\\':31}\\ndef split_data(date):\\n    split_data = date.split(\\'-\\')\\n#     print(split_data[0], split_data[1], split_data[2])\\n    return {\\'year\\': int(split_data[0]),\\n           \\'month\\':int(split_data[1]),\\n           \\'day\\':int(split_data[2]\\n            )}\\nsplit_data(member1[0].get(\"birth\"))',\n",
       "  'def member_func(member) : # {\\'name\\':\\'홍길동\\', \\'birth\\':\\'2000-01-01\\'}\\n    \"{\\'name\\':\\'신길동\\', \\'year\\':1998, \\'month\\':12, \\'day\\':31}식으로 return\"\\n    return {\\n        \\'name\\':member.get(\\'name\\'),\\n        \\'year\\':int(member[\\'birth\\'].split(\\'-\\')[0]),\\n        \\'month\\':int(member[\\'birth\\'].split(\\'-\\')[1]),\\n        \\'day\\':int(member[\\'birth\\'].split(\\'-\\')[2])\\n    }\\n\\nmember_func(member1[0])\\n\\nlist(map(lambda member :{\\n                        \\'name\\':member.get(\\'name\\'),\\n                        \\'year\\':int(member[\\'birth\\'].split(\\'-\\')[0]),\\n                        \\'month\\':int(member[\\'birth\\'].split(\\'-\\')[1]),\\n                        \\'day\\':int(member[\\'birth\\'].split(\\'-\\')[2])\\n                        } , member1\\n        )\\n    )',\n",
       "  \"'''\\n예제 3. member2를 member1로 바꿉니다.\\n'''\",\n",
       "  \"''.join(member2[0].get('month'))\",\n",
       "  \"''.join(member2[0].get('name'))\",\n",
       "  \"''.join(member2[0].get('month'))\",\n",
       "  \"birth = member2[0].get('year'), member2[0].get('month'), member2[0].get('day')\\nbirth\",\n",
       "  \"birth = member2[0].get('year'), member2[0].get('month'), member2[0].get('day')\\nbirth.join('-')\",\n",
       "  \"birth = member2[0].get('year'), member2[0].get('month'), member2[0].get('day')\\nlist[birth.join('-')]\",\n",
       "  \"birth = [member2[0].get('year'), member2[0].get('month'), member2[0].get('day')]\",\n",
       "  \"birth = [member2[0].get('year'), member2[0].get('month'), member2[0].get('day')]\\nbirth\",\n",
       "  \"birth = [member2[0].get('year'), member2[0].get('month'), member2[0].get('day')]\\nbirth.join('-')\",\n",
       "  \"birth = [member2[0].get('year'), member2[0].get('month'), member2[0].get('day')]\\nbirth.str()\",\n",
       "  \"birth = str(member2[0].get('year'), member2[0].get('month'), member2[0].get('day'))\\nbirth.str()\",\n",
       "  \"birth = str([member2[0].get('year'), member2[0].get('month'), member2[0].get('day')])\\nbirth.str()\",\n",
       "  \"birth = [member2[0].get('year'), member2[0].get('month'), member2[0].get('day')]\\n''.join(birth[0])\",\n",
       "  \"birth = [member2[0].get('year'), member2[0].get('month'), member2[0].get('day')]\\n''.join(str(birth[0]))\",\n",
       "  \"birth = [member2[0].get('year'), member2[0].get('month'), member2[0].get('day')]\\n''.join(str(birth[0]), str(birth[1]), str(birth[2]))\",\n",
       "  \"birth = [member2[0].get('year'), member2[0].get('month'), member2[0].get('day')\",\n",
       "  \"birth = [member2[0].get('year'), member2[0].get('month'), member2[0].get('day')]\",\n",
       "  \"birth = [member2[0].get('year'), member2[0].get('month'), member2[0].get('day')]\\ndef birth_(birth) :\\n    test = str(birth.get[0]) + str(birth.get[1]) + str(birth.get[2])\\n    \",\n",
       "  \"birth = [member2[0].get('year'), member2[0].get('month'), member2[0].get('day')]\\ndef birth_(birth) :\\n    test = str(birth.get[0]) + str(birth.get[1]) + str(birth.get[2])\\nbirth_(birth)\",\n",
       "  \"birth = [member2[0].get('year'), member2[0].get('month'), member2[0].get('day')]\\ndef birth_(birth) :\\n    test = str(birth[0]) + str(birth[1]) + str(birth[2])\\nbirth_(birth)\",\n",
       "  \"birth = [member2[0].get('year'), member2[0].get('month'), member2[0].get('day')]\\ndef birth_(birth) :\\n    test = str(birth[0]) + str(birth[1]) + str(birth[2])\\nbirth_(birth)\",\n",
       "  \"birth = [member2[0].get('year'), member2[0].get('month'), member2[0].get('day')]\\ndef birth_(birth) :\\n    test = str(birth[0]) + str(birth[1]) + str(birth[2])\\na = birth_(birth)\\na\",\n",
       "  \"birth = [member2[0].get('year'), member2[0].get('month'), member2[0].get('day')]\\ndef birth_(birth) :\\n    test = str(birth[0]) + str(birth[1]) + str(birth[2])\\na = birth_(birth)\\na\",\n",
       "  '# {\\'year\\':2000, \\'month\\':1, \\'day\\':1} =>\"2000-01-01\"를 return하는 함수\\ndef join_date(data) :\\n    print(data.get(\\'year\\'), data.get(\\'month\\'), data.get(\\'day\\'))',\n",
       "  \"join_date({'year':2000, 'month':1, 'day':1})\",\n",
       "  \"join_date({'year':2000, 'month':1, 'day':1})\\n\\nimport date\",\n",
       "  \"join_date({'year':2000, 'month':1, 'day':1})\\n\\nimport datetime\",\n",
       "  \"join_date({'year':2000, 'month':1, 'day':1})\\n\\nimport datetime\\ndatetime.datetime.year(2000)\",\n",
       "  \"join_date({'year':2000, 'month':1, 'day':1})\\n\\nimport datetime\\ndatetime.date\",\n",
       "  \"join_date({'year':2000, 'month':1, 'day':1})\\n\\nimport datetime\\ndatetime.datetime(2000, 1, 1)\",\n",
       "  \"join_date({'year':2000, 'month':1, 'day':1})\\n\\nimport datetime\\ndatetime.datetime(2000, 1, 1).strftime('%y-%m-%d')\",\n",
       "  \"join_date({'year':2000, 'month':1, 'day':1})\\n\\nimport datetime\\ndatetime.datetime(2000, 1, 1).strftime('%yyyy-%m-%d')\",\n",
       "  \"join_date({'year':2000, 'month':1, 'day':1})\\n\\nimport datetime\\ndatetime.datetime(2000, 1, 1).strftime('%Y-%m-%d')\",\n",
       "  '# {\\'year\\':2000, \\'month\\':1, \\'day\\':1} =>\"2000-01-01\"를 return하는 함수\\ndef join_date(data) :\\n    print(data.get(\\'year\\'), data.get(\\'month\\'), data.get(\\'day\\'))\\n    year = str(data.get(\\'year\\'))\\n    month = data.get(\\'month\\')\\n    if month < 10:\\n        month = \\'0\\' + str(month)\\n    else:\\n        month = str(month)\\n    day = data.get(\\'day\\')\\n    if day < 10:\\n        day = \\'0\\' + str(day)\\n    else:\\n        day = str(day)    \\n        \\n    return \\'-\\'.join([year, month, day])',\n",
       "  \"join_date({'year':2000, 'month':1, 'day':1})\\n\\nimport datetime\\ndatetime.datetime(2000, 1, 1).strftime('%Y-%m-%d')\",\n",
       "  '# {\\'year\\':2000, \\'month\\':1, \\'day\\':1} =>\"2000-01-01\"를 return하는 함수\\ndef join_date(data) :\\n#     print(data.get(\\'year\\'), data.get(\\'month\\'), data.get(\\'day\\'))\\n    year = str(data.get(\\'year\\'))\\n    month = data.get(\\'month\\')\\n    if month < 10:\\n        month = \\'0\\' + str(month)\\n    else:\\n        month = str(month)\\n    day = data.get(\\'day\\')\\n    if day < 10:\\n        day = \\'0\\' + str(day)\\n    else:\\n        day = str(day)    \\n        \\n    return \\'-\\'.join([year, month, day])',\n",
       "  \"join_date({'year':2000, 'month':1, 'day':1})\\n\\nimport datetime\\ndatetime.datetime(2000, 1, 1).strftime('%Y-%m-%d')\",\n",
       "  \"print(join_date({'year':2000, 'month':1, 'day':1}))\\n\\nimport datetime\\ndatetime.datetime(2000, 1, 1).strftime('%Y-%m-%d')\",\n",
       "  \"print(join_date({'year':2000, 'month':1, 'day':1}))\\n\\nimport datetime\\ndatetime.datetime(member2[0].get('year'), 1, 1).strftime('%Y-%m-%d')\",\n",
       "  \"print(join_date({'year':2000, 'month':1, 'day':1}))\\n\\nimport datetime\\ndatetime.datetime(member2[0].get('year'), member2[0].get('month'), member2[0].get('day')).strftime('%Y-%m-%d')\",\n",
       "  \"print(join_date({'year':2000, 'month':1, 'day':1}))\\n\\nimport datetime\\ndatetime.datetime(member2[0].get('year'), member2[0].get('month'), member2[0].get('day')).strftime('%Y-%m-%d')\",\n",
       "  '# {\\'year\\':2000, \\'month\\':1, \\'day\\':1} =>\"2000-01-01\"를 return하는 함수\\ndef join_date(data) :\\n#     print(data.get(\\'year\\'), data.get(\\'month\\'), data.get(\\'day\\'))\\n    year = str(data.get(\\'year\\'))\\n    month = data.get(\\'month\\')\\n    if month < 10:\\n        month = \\'0\\' + str(month)\\n    else:\\n        month = str(month)\\n    day = data.get(\\'day\\')\\n    if day < 10:\\n        day = \\'0\\' + str(day)\\n    else:\\n        day = str(day)    \\n        \\n    return \\'-\\'.join([year, month, day])',\n",
       "  'def join_date(data):\\n    print(\"{}-{:02}-{:02}\".format(data.get(\\'year\\'), data.get(\\'month\\'), data.get(\\'day\\')))',\n",
       "  \"print(join_date({'year':2000, 'month':1, 'day':1}))\\n\\nimport datetime\\ndatetime.datetime(member2[0].get('year'), member2[0].get('month'), member2[0].get('day')).strftime('%Y-%m-%d')\",\n",
       "  \"join_date({'year':2000, 'month':1, 'day':1})\\n\\n# import datetime\\n# datetime.datetime(member2[0].get('year'), member2[0].get('month'), member2[0].get('day')).strftime('%Y-%m-%d')\",\n",
       "  'def join_date(data):\\n    print(\"{}-{:02}-{:02}\".format(data.get(\\'year\\'), \\n                                  data.get(\\'month\\'), \\n                                  data.get(\\'day\\')))',\n",
       "  \"# import datetime\\n# datetime.datetime(member2[0].get('year'), \\n#                   member2[0].get('month'), \\n#                   member2[0].get('day')).strftime('%Y-%m-%d')\",\n",
       "  'def join_date(data):\\n    print(\"{}-{:02}-{:02}\".format(data.get(\\'year\\'), \\n                                  data.get(\\'month\\'), \\n                                  data.get(\\'day\\')))',\n",
       "  'def join_date(data):\\n    print(\"{year}-{month:02}-{day:02}\".format(**data)))\\n    ',\n",
       "  'def join_date(data):\\n    print(\"{year}-{month:02}-{day:02}\".format(**data))\\n    ',\n",
       "  \"join_date({'year':2000, 'month':1, 'day':1})\",\n",
       "  \"join_date({'year':2000, 'month':1, 'day':1})\",\n",
       "  'def join_date(data):\\n    print(\"{year}-{month:02}-{day:02}\".format(**data))\\n    ',\n",
       "  \"join_date({'year':2000, 'month':1, 'day':1})\",\n",
       "  'def join_date(data):\\n    return \"{year}-{month:02}-{day:02}\".format(**data)',\n",
       "  'def join_date(data):\\n    return \"{year}-{month:02}-{day:02}\".format(**data)',\n",
       "  \"join_date({'year':2000, 'month':1, 'day':1})\",\n",
       "  '# {\\'name\\':\\'홍길동\\', \\'year\\':2000, \\'month\\':1, \\'day\\':1}(member2)를\\n# {\\'name\\':\\'홍길동\\', \\'birth\\':\\'2000-01-01\\'}으로 가공\\nlist(map(lambda member : {\\n            \\'name\\' : member.get(\\'name\\'),\\n            \\'birth\\' : \"{year}-{month:02}-{day:02}\".format(**data)\\n                        }, member2\\n        ))',\n",
       "  '# {\\'name\\':\\'홍길동\\', \\'year\\':2000, \\'month\\':1, \\'day\\':1}(member2)를\\n# {\\'name\\':\\'홍길동\\', \\'birth\\':\\'2000-01-01\\'}으로 가공\\nlist(map(lambda member : {\\n            \\'name\\' : member.get(\\'name\\'),\\n            \\'birth\\' : \"{year}-{month:02}-{day:02}\".format(**data)\\n                        }, member2[0]\\n        ))',\n",
       "  '# {\\'name\\':\\'홍길동\\', \\'year\\':2000, \\'month\\':1, \\'day\\':1}(member2)를\\n# {\\'name\\':\\'홍길동\\', \\'birth\\':\\'2000-01-01\\'}으로 가공\\nlist(map(lambda member : {\\n                    \\'name\\' : member.get(\\'name\\'),\\n                    \\'birth\\' : \"{year}-{month:02}-{day:02}\".format(**member)\\n                        }, member2\\n        ))',\n",
       "  'def filter_template(func, L=[])',\n",
       "  '# map : [1,2,3,4,5]\\ndef filter_template(func, L=[]):\\n    result = []\\n    for l in L:\\n        if func(l):\\n            result.append()\\n    return result',\n",
       "  'def evenChk(value):\\n    return value%2==0\\nevenChk(10), evenChk(-9)',\n",
       "  'filter_template()',\n",
       "  'list_data = [ 1, 2, 3, 4, 5]\\nfilter_template(lambda value: value%2==0 , list_data)',\n",
       "  '# map : [1,2,3,4,5]\\ndef filter_template(func, L=[]):\\n    result = []\\n    for l in L:\\n        if func(l):\\n            result.append()\\n    return result',\n",
       "  'def evenChk(value):\\n    return value%2==0\\nevenChk(10), evenChk(-9)',\n",
       "  'list_data = [ 1, 2, 3, 4, 5]\\nfilter_template(lambda value: value%2==0 , list_data)',\n",
       "  '# map : [1,2,3,4,5]\\ndef filter_template(func, L=[]):\\n    result = []\\n    for l in L:\\n        if func(l):\\n            result.append(l)\\n    return result',\n",
       "  'def evenChk(value):\\n    return value%2==0\\nevenChk(10), evenChk(-9)',\n",
       "  'list_data = [ 1, 2, 3, 4, 5]\\nfilter_template(lambda value: value%2==0 , list_data)',\n",
       "  'list(filter(lambda value : value%2==0, list_data))',\n",
       "  'p = [9, 2, 7]\\np.sort(reverse=Ture)',\n",
       "  'p = [9, 2, 7]\\np.sort(reverse=True)\\np',\n",
       "  'number2d = [[9, 9],\\n            [1, 100]\\n            [10, 1]]\\nnumber2d.sort()\\nnumber2d',\n",
       "  'number2d = [[9, 9],\\n            [1, 100],\\n            [10, 1]]\\nnumber2d.sort()\\nnumber2d',\n",
       "  'number2d = [[9, 9],\\n            [1, 100],\\n            [10, 1]]\\nnumber2d.sort(reverse=True)\\nnumber2d',\n",
       "  'number2d = [[9, 9],\\n            [1, 100],\\n            [10, 1]]\\nnumber2d.sort(reverse=True)\\nnumber2d',\n",
       "  'number2d = [[9, 9],\\n            [1, 100],\\n            [10, 1]]\\nnumber2d.sort(reverse=True)\\nnumber2d',\n",
       "  'sum(number2d[0])',\n",
       "  'number2d.sort(sum(*number2d))',\n",
       "  '*number2d',\n",
       "  'a = *number2d',\n",
       "  'number2d = [[9, 9],\\n            [1, 100],\\n            [10, 1]]\\nnumber2d.sort(key=sum(number2d), reverse=True)\\nnumber2d',\n",
       "  'number2d = [[9, 9],\\n            [1, 100],\\n            [10, 1]]\\nnumber2d.sort(key=sum(number2d.items), reverse=True)\\nnumber2d',\n",
       "  'number2d = [[9, 9],\\n            [1, 100],\\n            [10, 1]]\\nnumber2d.sort(key=sum(number2d.items()), reverse=True)\\nnumber2d',\n",
       "  'number2d = [[9, 9],\\n            [1, 100],\\n            [10, 1]]\\nnumber2d.sort(reverse=True)\\nnumber2d',\n",
       "  \"pairs = [(2, 'two'), (1, 'one'), (4, 'four'), (3, 'three')]\\npairs.sort()\\npairs\",\n",
       "  'p = [9, 2, 7]\\np.sort(reverse=True)\\np',\n",
       "  \"# 무조건 0번째 item 기준으로 정렬\\npairs = [(2, 'two'), (1, 'one'), (4, 'four'), (3, 'three')]\\npairs.sort()\\npairs\",\n",
       "  \"# 무조건 0번째 item 기준으로 정렬\\npairs = [(2, 'two'), (1, 'one'), (4, 'four'), (3, 'three')]\\npairs.sort()\\npairs\",\n",
       "  '# 1번째 item 기준으로 정렬()',\n",
       "  '# 1번째 item 기준으로 정렬(abc순)\\npairs.sort(key=lambda pair : pair[1])',\n",
       "  '# 1번째 item 기준으로 정렬(abc순)\\npairs.sort(key=lambda pair : pair[1])\\npairs',\n",
       "  '# 무조건 0번째 item 기준으로 정렬\\nnumber2d = [[9, 9],\\n            [1, 100],\\n            [10, 1]]\\nnumber2d.sort(reverse=True)\\nnumber2d',\n",
       "  '# 합이 큰 순으로 정렬\\nnumber2d.sort()',\n",
       "  '# 합이 큰 순으로 정렬\\nnumber2d.sort(key=lambda x : sum(x))',\n",
       "  '# 합이 큰 순으로 정렬\\nnumber2d.sort(key=lambda x : sum(x))\\nnumber2d',\n",
       "  '# 합이 큰 순으로 정렬\\nnumber2d.sort(key=lambda item : sum(item) for item in items)\\nnumber2d',\n",
       "  '# 합이 큰 순으로 정렬\\nnumber2d.sort(key=(lambda item : sum(item) for item in items))\\nnumber2d',\n",
       "  '# 합이 큰 순으로 정렬\\nnumber2d.sort(key=(lambda item : sum(item) for item in number2d))\\nnumber2d',\n",
       "  '# 합이 큰 순으로 정렬\\nnumber2d.sort(key=lambda item : sum(item))\\nnumber2d',\n",
       "  '# 합이 큰 순으로 정렬\\nnumber2d.sort(key=lambda item : sum(item), reverse=True)\\nnumber2d',\n",
       "  '# 리스트를 매개변수로 받아 합을 return\\n(lambda item : sum(item))([1,2,3])',\n",
       "  '# 리스트를 매개변수로 받아 합을 return\\n(lambda item : sum(item))([1,2,3])',\n",
       "  '# 합이 큰 순으로 정렬\\nnumber2d.sort(key=lambda item : sum(item), reverse=True)\\nnumber2d\\ndef fun(item):\\n    return sum(item)',\n",
       "  'students = [\\n    {\"name\":\"홍길동\", \"score\":90},\\n    {\"name\":\"김길동\", \"score\":50},\\n    {\"name\":\"박길동\", \"score\":99},    \\n]\\nsutdnets.sort(key=lambda student : student[0])',\n",
       "  'students = [\\n    {\"name\":\"홍길동\", \"score\":90},\\n    {\"name\":\"김길동\", \"score\":50},\\n    {\"name\":\"박길동\", \"score\":99},    \\n]\\nstudents.sort(key=lambda student : student[0])',\n",
       "  'students = [\\n    {\"name\":\"홍길동\", \"score\":90},\\n    {\"name\":\"김길동\", \"score\":50},\\n    {\"name\":\"박길동\", \"score\":99},    \\n]\\nstudents.sort(key=lambda student : student(\"name\"))',\n",
       "  'students = [\\n    {\"name\":\"홍길동\", \"score\":90},\\n    {\"name\":\"김길동\", \"score\":50},\\n    {\"name\":\"박길동\", \"score\":99},    \\n]\\nstudents.sort(key=lambda student : student(name).value)',\n",
       "  'students = [\\n    {\"name\":\"홍길동\", \"score\":90},\\n    {\"name\":\"김길동\", \"score\":50},\\n    {\"name\":\"박길동\", \"score\":99},    \\n]\\nstudents.sort(key=lambda student : student(\"name\").value)',\n",
       "  'students = [\\n    {\"name\":\"홍길동\", \"score\":90},\\n    {\"name\":\"김길동\", \"score\":50},\\n    {\"name\":\"박길동\", \"score\":99},    \\n]\\nstudents.sort(key=lambda student : student(\"name\").value())',\n",
       "  'students = [\\n    {\"name\":\"홍길동\", \"score\":90},\\n    {\"name\":\"김길동\", \"score\":50},\\n    {\"name\":\"박길동\", \"score\":99},    \\n]\\nstudents.sort(key=lambda student : student[\"name\"].value())',\n",
       "  'students = [\\n    {\"name\":\"홍길동\", \"score\":90},\\n    {\"name\":\"김길동\", \"score\":50},\\n    {\"name\":\"박길동\", \"score\":99},    \\n]\\nstudents.sort(key=lambda student : student[\"name\"])',\n",
       "  'students = [\\n    {\"name\":\"홍길동\", \"score\":90},\\n    {\"name\":\"김길동\", \"score\":50},\\n    {\"name\":\"박길동\", \"score\":99},    \\n]\\nstudents.sort(key=lambda student : student[\"name\"])\\nstudents',\n",
       "  '# score 순으로 정렬(내림차순 정렬)\\nstudents.sort(key=lambda student : studnet[\"score\"], reverse=True)',\n",
       "  '# score 순으로 정렬(내림차순 정렬)\\nstudents.sort(key=lambda student : studnet[\"score\"])',\n",
       "  '# score 순으로 정렬(내림차순 정렬)\\nstudents.sort(key=lambda student : student[\"score\"], reverse=True)',\n",
       "  '# score 순으로 정렬(내림차순 정렬)\\nstudents.sort(key=lambda student : student[\"score\"], reverse=True)\\nstudents',\n",
       "  '# 이름순으로 정렬(ㄱ ㄴ ㄷ 순)\\nstudents = [\\n    {\"name\":\"홍길동\", \"score\":90},\\n    {\"name\":\"김길동\", \"score\":50},\\n    {\"name\":\"박길동\", \"score\":99},\\n    {\\'score\\':100}\\n]\\nstudents.sort(key=lambda student : student[\"name\"])\\nstudents',\n",
       "  '# 이름순으로 정렬(ㄱ ㄴ ㄷ 순)\\nstudents = [\\n    {\"name\":\"홍길동\", \"score\":90},\\n    {\"name\":\"김길동\", \"score\":50},\\n    {\"name\":\"박길동\", \"score\":99},\\n    {\\'score\\':100}\\n]\\nstudents.sort(key=lambda student : student[\"name\"].value())\\nstudents',\n",
       "  '# 이름순으로 정렬(ㄱ ㄴ ㄷ 순)\\nstudents = [\\n    {\"name\":\"홍길동\", \"score\":90},\\n    {\"name\":\"김길동\", \"score\":50},\\n    {\"name\":\"박길동\", \"score\":99},\\n    {\\'score\\':100}\\n]\\nstudents.sort(key=lambda student : student[\"name\"])\\nstudents',\n",
       "  '# 이름순으로 정렬(ㄱ ㄴ ㄷ 순)\\nstudents = [\\n    {\"name\":\"홍길동\", \"score\":90},\\n    {\"name\":\"김길동\", \"score\":50},\\n    {\"name\":\"박길동\", \"score\":99},\\n    {\\'score\\':100}\\n]\\nstudents.sort(key=lambda student=\"\" : student[\"name\"])\\nstudents',\n",
       "  '# 이름순으로 정렬(ㄱ ㄴ ㄷ 순)\\nstudents = [\\n    {\"name\":\"홍길동\", \"score\":90},\\n    {\"name\":\"김길동\", \"score\":50},\\n    {\"name\":\"박길동\", \"score\":99},\\n    {\\'score\\':100}\\n]\\nstudents.sort(key=lambda (student=\"test\") : student[\"name\"])\\nstudents',\n",
       "  '# 이름순으로 정렬(ㄱ ㄴ ㄷ 순)\\nstudents = [\\n    {\"name\":\"홍길동\", \"score\":90},\\n    {\"name\":\"김길동\", \"score\":50},\\n    {\"name\":\"박길동\", \"score\":99},\\n    {\\'score\\':100}\\n]\\nstudents.sort(key=lambda student : student[\"name\"])\\nstudents',\n",
       "  '# 이름순으로 정렬(ㄱ ㄴ ㄷ 순)\\nstudents = [\\n    {\"name\":\"홍길동\", \"score\":90},\\n    {\"name\":\"김길동\", \"score\":50},\\n    {\"name\":\"박길동\", \"score\":99},\\n]\\nstudents.sort(key=lambda student : student[\"name\"])\\nstudents',\n",
       "  '# 이름순으로 정렬(ㄱ ㄴ ㄷ 순)\\nstudents = [\\n    {\"name\":\"홍길동\", \"score\":90},\\n    {\"name\":\"김길동\", \"score\":50},\\n    {\"name\":\"박길동\", \"score\":99},\\n    {\"score\":100}\\n]\\nstudents.sort(key=lambda student : student.get(\"name\"))\\nstudents',\n",
       "  '# score 순으로 정렬(내림차순 정렬)\\nstudents.sort(key=lambda student : student.get(\"score\"), reverse=True)\\nstudents',\n",
       "  '# 이름순으로 정렬(ㄱ ㄴ ㄷ 순)\\nstudents = [\\n    {\"name\":\"홍길동\", \"score\":90},\\n    {\"name\":\"김길동\", \"score\":50},\\n    {\"name\":\"박길동\", \"score\":99},\\n    {\"score\":100}\\n]\\nstudents.sort(key=lambda student : str(student.get(\"name\")))\\nstudents',\n",
       "  '# 이름순으로 정렬(ㄱ ㄴ ㄷ 순)\\nstudents = [\\n    {\"name\":\"홍길동\", \"score\":90},\\n    {\"name\":\"김길동\", \"score\":50},\\n    {\"name\":\"박길동\", \"score\":99},\\n    {\"score\":100}\\n]\\nstudents.sort(key=lambda student : student.get(\"name\", \\'힣\\'))\\nstudents',\n",
       "  '# 이름순으로 정렬(ㄱ ㄴ ㄷ 순)\\nstudents = [\\n    {\"name\":\"홍길동\", \"score\":90},\\n    {\"name\":\"김길동\", \"score\":50},\\n    {\"name\":\"박길동\", \"score\":99},\\n    {\"score\":100}\\n]\\nstudents.sort(key=lambda student : student.get(\"name\", \\'힣\\'))\\nstudents',\n",
       "  '# score 순으로 정렬(내림차순 정렬)\\nstudents.sort(key=lambda item : item.get(\"score\", 0), reverse=True) # 결측치를 0으로 세팅.\\nstudents',\n",
       "  \"# 책 제목순 정렬(ㄱ ㄴ ㄷ 순), 저자순 정렬(ㄱ ㄴ ㄷ 순), 가격순 오름차순 정렬\\nbooks = [\\n    {'no':1, 'title':'강남 아파트 인사이트', 'writer':'오스틀', 'price':'25,000'},\\n    {'no':2, 'title':'단 한 번의 삶', 'writer':'김영하', 'price':'18,100'},\\n    {'no':3, 'title':'흔한 남매 19', 'writer':'백난도', 'price':'14,220'},\\n    {'no':4, 'title':'가격이 잘못', 'writer':'홍길동', 'price':'-'},\\n    {'no':5, 'title':'가격이 숫자', 'writer':'신길동', 'price':900},\\n    {'no':6, 'title':'가격이 없음', 'writer':'김길동'},\\n]\",\n",
       "  \"books.sort(key = lambda book : book.get('title'))\\nbooks\",\n",
       "  \"books.sort(key = lambda book : book.get('writer'))\\nbooks\",\n",
       "  \"# '14,000' -> 14000 / 800 -> 800 / '-' -> 0\\ndef parse_int(price) :\\n    print(type(price))\\n\\nparse_int(800)\",\n",
       "  \"# '14,000' -> 14000 / 800 -> 800 / '-' -> 0\\ndef parse_int(price) :\\n#     print(type(price))\\n    if isinstance(price, int) :\\n        return price\\n\\nparse_int(800)\",\n",
       "  \"# '14,000' -> 14000 / 800 -> 800 / '-' -> 0\\ndef parse_int(price) :\\n#   print(type(price))\\n    if isinstance(price, int) :\\n        return price\\n    ]\\nparse_int(800)\",\n",
       "  \"# '14,000' -> 14000 / 800 -> 800 / '-' -> 0\\ndef parse_int(price) :\\n#   print(type(price))\\n    if isinstance(price, int) :\\n        return price\\n    \\nparse_int(800)\",\n",
       "  '# \\'14,000\\' -> 14000 / \"2000\" -> 2000 / 800 -> 800 / \\'-\\' -> 0\\ndef parse_int(price) :\\n#   print(type(price))\\n    if isinstance(price, str)\\n        return int(price.replace(\\',\\', \\'\\'))\\n    elif isinstance(price, int) :\\n        return price\\nparse_int(800)',\n",
       "  '# \\'14,000\\' -> 14000 / \"2000\" -> 2000 / 800 -> 800 / \\'-\\' -> 0\\ndef parse_int(price) :\\n#   print(type(price))\\n    if isinstance(price, str) & price.replace(\\',\\', \\'\\').isdigit() :\\n        return int(price.replace(\\',\\', \\'\\'))\\n    elif isinstance(price, int) :\\n        return price\\nparse_int(800)',\n",
       "  '# \\'14,000\\' -> 14000 / \"2000\" -> 2000 / 800 -> 800 / \\'-\\' -> 0\\ndef parse_int(price) :\\n#   print(type(price))\\n    if price.replace(\\',\\', \\'\\').isdigit() :\\n        return int(price.replace(\\',\\', \\'\\'))\\n    elif isinstance(price, int) :\\n        return price\\nparse_int(800)',\n",
       "  '# \\'14,000\\' -> 14000 / \"2000\" -> 2000 / 800 -> 800 / \\'-\\' -> 0\\ndef parse_int(price) :\\n#   print(type(price))\\n    if isinstance(price, str) & price.replace(\\',\\', \\'\\').isdigit() :\\n        return int(price.replace(\\',\\', \\'\\'))\\n    elif isinstance(price, int) :\\n        return price\\nparse_int(800)',\n",
       "  '# \\'14,000\\' -> 14000 / \"2000\" -> 2000 / 800 -> 800 / \\'-\\' -> 0\\ndef parse_int(price) :\\n#   print(type(price))\\n    if isinstance(price, str) and price.replace(\\',\\', \\'\\').isdigit() :\\n        return int(price.replace(\\',\\', \\'\\'))\\n    elif isinstance(price, int) :\\n        return price\\nparse_int(800)',\n",
       "  '# \\'14,000\\' -> 14000 / \"2000\" -> 2000 / 800 -> 800 / \\'-\\' -> 0\\ndef parse_int(price) :\\n#   print(type(price))\\n    if isinstance(price, str) && price.replace(\\',\\', \\'\\').isdigit() :\\n        return int(price.replace(\\',\\', \\'\\'))\\n    elif isinstance(price, int) :\\n        return price\\nparse_int(800)',\n",
       "  '# \\'14,000\\' -> 14000 / \"2000\" -> 2000 / 800 -> 800 / \\'-\\' -> 0\\ndef parse_int(price) :\\n#   print(type(price))\\n    if isinstance(price, str) & price.replace(\\',\\', \\'\\').isdigit() :\\n        return int(price.replace(\\',\\', \\'\\'))\\n    elif isinstance(price, int) :\\n        return price\\nparse_int(800)',\n",
       "  '# \\'14,000\\' -> 14000 / \"2000\" -> 2000 / 800 -> 800 / \\'-\\' -> 0\\ndef parse_int(price) :\\n#   print(type(price))\\n    if isinstance(price, str) and price.replace(\\',\\', \\'\\').isdigit() :\\n        return int(price.replace(\\',\\', \\'\\'))\\n    elif isinstance(price, int) :\\n        return price\\nparse_int(800)',\n",
       "  '# \\'14,000\\' -> 14000 / \"2000\" -> 2000 / 800 -> 800 / \\'-\\' -> 0\\ndef parse_int(price) :\\n#   print(type(price))\\n    if isinstance(price, str) and price.replace(\\',\\', \\'\\').isdigit() :\\n        return int(price.replace(\\',\\', \\'\\'))\\n    elif isinstance(price, int) :\\n        return price\\nparse_int(\"8009\")',\n",
       "  'parse_int(\"8,000\"), parse_int(\"8000\"), parse_inte(800), parse_int(-)',\n",
       "  'parse_int(\"8,000\"), parse_int(\"8000\"), parse_inte(800), parse_int(\"-\")',\n",
       "  'parse_int(\"8,000\"), parse_int(\"8000\"), parse_int(800), parse_int(\"-\")',\n",
       "  '# \\'14,000\\' -> 14000 / \"2000\" -> 2000 / 800 -> 800 / \\'-\\' -> 0\\ndef parse_int(price) :\\n#   print(type(price))\\n    if isinstance(price, str) and price.replace(\\',\\', \\'\\').isdigit() :\\n        return int(price.replace(\\',\\', \\'\\'))\\n    elif isinstance(price, int) :\\n        return 0\\nparse_int(\"8009\")',\n",
       "  'parse_int(\"8,000\"), parse_int(\"8000\"), parse_int(800), parse_int(\"-\")',\n",
       "  '# \\'14,000\\' -> 14000 / \"2000\" -> 2000 / 800 -> 800 / \\'-\\' -> 0\\ndef parse_int(price) :\\n#   print(type(price))\\n    if isinstance(price, str) and price.replace(\\',\\', \\'\\').isdigit() :\\n        return int(price.replace(\\',\\', \\'\\'))\\n    elif isinstance(price, int) :\\n        return price\\n    else(0)\\nparse_int(\"8009\")',\n",
       "  'parse_int(\"8,000\"), parse_int(\"8000\"), parse_int(800), parse_int(\"-\")',\n",
       "  '# \\'14,000\\' -> 14000 / \"2000\" -> 2000 / 800 -> 800 / \\'-\\' -> 0\\ndef parse_int(price) :\\n#   print(type(price))\\n    if isinstance(price, str) and price.replace(\\',\\', \\'\\').isdigit() :\\n        return int(price.replace(\\',\\', \\'\\'))\\n    elif isinstance(price, int) :\\n        return price\\n    else:        (0)\\nparse_int(\"8009\")',\n",
       "  \"# {'no': 6, 'title': '가격이 없음', 'writer': '김길동'},s\\n# {no': 3, 'title': '흔한 남매 19', 'writer': '백난도', 'price': '14,220'} => 14220\\n# {'no': 5, 'title': '가격이 숫자', 'writer': '신길동', 'price': 900} => 900\",\n",
       "  \"def parse_int(book) : \\n    if isinstance(book.get('price'), str) and \\\\\\n        book.get('price').replace(',', '').isdigit() :\\n        return int( book.get('price').replace(',', '') )\\n    elif isinstance(book.get('price'), int) :\\n        return book.get('price')\\n    else:\\n        return 0\\nparse_int(books[0])\",\n",
       "  \"def parse_int(book) : \\n    if isinstance(book.get('price'), str) and \\\\\\n        book.get('price').replace(',', '').isdigit() :\\n        return int( book.get('price').replace(',', '') )\\n    elif isinstance(book.get('price'), int) :\\n        return book.get('price')\\n    else:\\n        return 0\\nparse_int(books[5])\",\n",
       "  \"def parse_int(book) : \\n    if isinstance(book.get('price'), str) and \\\\\\n            book.get('price').replace(',', '').isdigit() :\\n        return int( book.get('price').replace(',', '') )\\n    elif isinstance(book.get('price'), int) :\\n        return book.get('price')\\n    else:\\n        return 0\\nparse_int(books[5]), parse_int(books[3])\",\n",
       "  \"def parse_int(book) : \\n    if isinstance(book.get('price'), str) and \\\\\\n            book.get('price').replace(',', '').isdigit() :\\n        return int( book.get('price').replace(',', '') )\\n    elif isinstance(book.get('price'), int) :\\n        return book.get('price')\\n    else:\\n        return 0\\nparse_int(books[5]), parse_int(books[3]), parse_int(books[0])\",\n",
       "  \"def parse_int(book) : \\n    if isinstance(book.get('price'), str) and \\\\\\n            book.get('price').replace(',', '').isdigit() :\\n        return int( book.get('price').replace(',', '') )\\n    elif isinstance(book.get('price'), int) :\\n        return book.get('price')\\n    else:\\n        return 0\\nparse_int(books[5]), parse_int(books[3]), parse_int(books[0]), parse_int(books[4])\",\n",
       "  \"books = [\\n    {'no':1, 'title':'강남 아파트 인사이트', 'writer':'오스틀', 'price':'25,000'},\\n    {'no':2, 'title':'단 한 번의 삶', 'writer':'김영하', 'price':'18,100'},\\n    {'no':3, 'title':'흔한 남매 19', 'writer':'백난도', 'price':'14,220'},\\n    {'no':4, 'title':'가격이 잘못', 'writer':'홍길동', 'price':'-'},\\n    {'no':5, 'title':'가격이 숫자', 'writer':'신길동', 'price':900},\\n    {'no':6, 'title':'가격이 없음', 'writer':'김길동'},\\n]\\ncopy_books = books.copy()\",\n",
       "  \"def parse_int(book) : \\n    if isinstance(book.get('price'), str) and \\\\\\n            book.get('price').replace(',', '').isdigit() :\\n        return int( book.get('price').replace(',', '') )\\n    elif isinstance(book.get('price'), int) :\\n        return book.get('price')\\n    else:\\n        return 0\\nparse_int(books[5]), parse_int(books[3]), parse_int(books[0]), parse_int(books[4])\",\n",
       "  \"copy_books.sort(key=lambda book : \\n                            int( book.get('price').replace(',', '') \\\\\\n                            if isinstance(book.get('price'), str) and \\\\\\n                                    book.get('price').replace(',', '').isdigit() else \\\\\\n                                book.get('price') if isinstance(book.get('price'), int) else\\\\\\n                                0 , books\\n                                     ))\",\n",
       "  \"copy_books.sort(key=lambda book : \\n                            int( book.get('price').replace(',', '') \\\\\\n                            if isinstance(book.get('price'), str) and \\\\\\n                                    book.get('price').replace(',', '').isdigit() else \\\\\\n                                book.get('price') if isinstance(book.get('price'), int) else\\\\\\n                                0 ,\\n                                     ))\",\n",
       "  \"copy_books.sort(key=lambda book : \\n                            int( book.get('price').replace(',', '')) \\\\\\n                            if isinstance(book.get('price'), str) and \\\\\\n                                    book.get('price').replace(',', '').isdigit() else \\\\\\n                                book.get('price') if isinstance(book.get('price'), int) else\\\\\\n                                0 ,\\n                                     )\",\n",
       "  'copy_books',\n",
       "  'books',\n",
       "  \"copy_books.sort(key=lambda book : \\n                            int( book.get('price').replace(',', '')) \\\\\\n                            if isinstance(book.get('price'), str) and \\\\\\n                                    book.get('price').replace(',', '').isdigit() else \\\\\\n                                book.get('price') if isinstance(book.get('price'), int) else\\\\\\n                                0 ,\\n                                     )\",\n",
       "  \"(lambda book : \\n                            int( book.get('price').replace(',', '')) \\\\\\n                            if isinstance(book.get('price'), str) and \\\\\\n                                    book.get('price').replace(',', '').isdigit() else \\\\\\n                                book.get('price') if isinstance(book.get('price'), int) else\\\\\\n                                0 ,\\n                                     )(books[0])\",\n",
       "  \"(lambda book : \\n                            int( book.get('price').replace(',', '')) \\\\\\n                            if isinstance(book.get('price'), str) and \\\\\\n                                    book.get('price').replace(',', '').isdigit() else \\\\\\n                                book.get('price') if isinstance(book.get('price'), int) else\\\\\\n                                0 \\n                                     )(books[0])\",\n",
       "  '# 함수를 return\\ndef make_box(shape): # shape :[l] => len가 l인 list를 생성하는 함수 return, [r, c], [d, r, c]\\n                    #        [r, c] => r행 c열인 list를 생헝하는 함수 return\\n    def box(init_value) :\\n        if len(shape)==1 :\\n            return [init_value]*shape[0]\\n        elif len(shape)==2:\\n            return [ [init_value] * shape[1] ] * shape[0]\\n    return box',\n",
       "  'line_func = make_box([2,3])\\nline_func(3)',\n",
       "  'line_func1 = make_box([10])\\nline_func1(3)',\n",
       "  '# 함수를 return\\ndef make_box(shape): # shape :[l] => len가 l인 list를 생성하는 함수 return, [r, c], [d, r, c]\\n                    #        [r, c] => r행 c열인 list를 생헝하는 함수 return\\n    def box(init_value) :\\n        if len(shape)==1 :\\n            return [init_value]*shape[0]\\n        elif len(shape)==2:\\n            return [ [init_value] * shape[1] ] * shape[0]\\n    return box',\n",
       "  '# 함수를 return\\ndef make_box(shape): # shape :[l] => len가 l인 list를 생성하는 함수 return, [r, c], [d, r, c]\\n                    #        [r, c] => r행 c열인 list를 생헝하는 함수 return\\n    def box(init_value) :\\n        if len(shape)==1 :\\n            return [init_value]*shape[0]\\n        elif len(shape)==2:\\n            return [ [init_value] * shape[1] ] * shape[0]\\n    return box',\n",
       "  'def make_box(shape):\\n    if len(shape) == 1:\\n        return lambda init_value',\n",
       "  'def make_box(shape):\\n    if len(shape) == 1:\\n        return lambda init_value : [init_value]*shape[0]\\n    else len(shape)==2:\\n        return lambda init_value : [ [init_value]*shape[1] ] * shape[0]',\n",
       "  'def make_box(shape):\\n    if len(shape) == 1:\\n        return lambda init_value : [init_value]*shape[0]\\n    elif len(shape)==2:\\n        return lambda init_value : [ [init_value]*shape[1] ] * shape[0]',\n",
       "  'globlas()',\n",
       "  'globals()'],\n",
       " 'Out': {4: [2, 2, 2, 2, 2, 2, 2, 2, 2, 2],\n",
       "  6: [2, 4, 6, 8, 10, 12, 14, 16, 18, 20],\n",
       "  7: [2, 4, 6, 8, 10, 12, 14, 16, 18, 20],\n",
       "  9: map,\n",
       "  10: \"\\n예제 2. member1 = [{'name':'홍길동', 'birth':'2000-01-01'},\\n                    {'name':'신길동', 'birth':'1998-12-31'},]\\n       member2 = [{'name':'홍길동', 'year':2000, 'month':1, 'day':1},\\n                    {'name':'신길동', 'year':1998, 'month':12, 'day':31},] 로 변경            \\n\",\n",
       "  12: \"\\n예제 2. member1 = [{'name':'홍길동', 'birth':'2000-01-01'},\\n                    {'name':'신길동', 'birth':'1998-12-31'},]\\n       member2 = [{'name':'홍길동', 'year':2000, 'month':1, 'day':1},\\n                    {'name':'신길동', 'year':1998, 'month':12, 'day':31},] 로 변경            \\n\",\n",
       "  13: '\\n예제 3. member2를 member1로 바꿉니다.\\n',\n",
       "  14: (5000, 800),\n",
       "  16: [5000, 800, 1000, 6000],\n",
       "  25: {'year': 2000, 'month': 1, 'day': 1},\n",
       "  26: {'year': 2000, 'month': 1, 'day': 1},\n",
       "  28: {'year': 2000, 'month': 1, 'day': 1},\n",
       "  31: {'name': '홍길동', 'birth': '2000-01-01'},\n",
       "  32: '2000-01-01',\n",
       "  33: {'year': 2000, 'month': 1, 'day': 1},\n",
       "  35: {'year': 2000, 'month': 1, 'day': 1},\n",
       "  36: {'year': 2000, 'month': 1, 'day': 1},\n",
       "  37: {'year': 2000, 'month': 1, 'day': 1},\n",
       "  38: {'year': 2000, 'month': 1, 'day': 1},\n",
       "  46: {'year': 2000, 'month': 1, 'day': 1},\n",
       "  49: {'name': '홍길동', 'year': 2000, 'month': 1, 'day': 1},\n",
       "  50: [{'name': '홍길동', 'year': 2000, 'month': 1, 'day': 1},\n",
       "   {'name': '신길동', 'year': 1998, 'month': 12, 'day': 31}],\n",
       "  51: [{'name': '홍길동', 'year': 2000, 'month': 1, 'day': 1},\n",
       "   {'name': '신길동', 'year': 1998, 'month': 12, 'day': 31}],\n",
       "  52: '1998-12-31',\n",
       "  60: {'year': 2000, 'month': 1, 'day': 1},\n",
       "  61: [{'name': '홍길동', 'year': 2000, 'month': 1, 'day': 1},\n",
       "   {'name': '신길동', 'year': 1998, 'month': 12, 'day': 31}],\n",
       "  62: '\\n예제 3. member2를 member1로 바꿉니다.\\n',\n",
       "  64: '홍길동',\n",
       "  66: (2000, 1, 1),\n",
       "  70: [2000, 1, 1],\n",
       "  76: '2000',\n",
       "  91: datetime.date,\n",
       "  92: datetime.datetime(2000, 1, 1, 0, 0),\n",
       "  93: '00-01-01',\n",
       "  94: '00yyy-01-01',\n",
       "  95: '2000-01-01',\n",
       "  97: '2000-01-01',\n",
       "  99: '2000-01-01',\n",
       "  100: '2000-01-01',\n",
       "  101: '2000-01-01',\n",
       "  102: '2000-01-01',\n",
       "  103: '2000-01-01',\n",
       "  106: '2000-01-01',\n",
       "  119: '2000-01-01',\n",
       "  122: [{'name': '홍길동', 'birth': '2000-01-01'},\n",
       "   {'name': '신길동', 'birth': '1998-12-31'}],\n",
       "  125: (True, False),\n",
       "  129: (True, False),\n",
       "  132: (True, False),\n",
       "  133: [2, 4],\n",
       "  134: [2, 4],\n",
       "  136: [9, 7, 2],\n",
       "  138: [[1, 100], [9, 9], [10, 1]],\n",
       "  139: [[10, 1], [9, 9], [1, 100]],\n",
       "  140: [[10, 1], [9, 9], [1, 100]],\n",
       "  141: [[10, 1], [9, 9], [1, 100]],\n",
       "  142: 11,\n",
       "  149: [[10, 1], [9, 9], [1, 100]],\n",
       "  150: [(1, 'one'), (2, 'two'), (3, 'three'), (4, 'four')],\n",
       "  151: [9, 7, 2],\n",
       "  152: [(1, 'one'), (2, 'two'), (3, 'three'), (4, 'four')],\n",
       "  153: [(4, 'four'), (1, 'one'), (3, 'three'), (2, 'two')],\n",
       "  156: [(4, 'four'), (1, 'one'), (3, 'three'), (2, 'two')],\n",
       "  157: [[1, 100], [9, 9], [10, 1]],\n",
       "  160: [[1, 100], [9, 9], [10, 1]],\n",
       "  164: [[1, 100], [9, 9], [10, 1]],\n",
       "  165: [[1, 100], [9, 9], [10, 1]],\n",
       "  166: 6,\n",
       "  167: 6,\n",
       "  177: [{'name': '박길동', 'score': 99},\n",
       "   {'name': '홍길동', 'score': 90},\n",
       "   {'name': '김길동', 'score': 50}],\n",
       "  181: [{'name': '박길동', 'score': 99},\n",
       "   {'name': '홍길동', 'score': 90},\n",
       "   {'name': '김길동', 'score': 50}],\n",
       "  188: [{'name': '김길동', 'score': 50},\n",
       "   {'name': '박길동', 'score': 99},\n",
       "   {'name': '홍길동', 'score': 90}],\n",
       "  190: [{'score': 100},\n",
       "   {'name': '박길동', 'score': 99},\n",
       "   {'name': '홍길동', 'score': 90},\n",
       "   {'name': '김길동', 'score': 50}],\n",
       "  191: [{'score': 100},\n",
       "   {'name': '김길동', 'score': 50},\n",
       "   {'name': '박길동', 'score': 99},\n",
       "   {'name': '홍길동', 'score': 90}],\n",
       "  192: [{'name': '김길동', 'score': 50},\n",
       "   {'name': '박길동', 'score': 99},\n",
       "   {'name': '홍길동', 'score': 90},\n",
       "   {'score': 100}],\n",
       "  193: [{'score': 100},\n",
       "   {'name': '박길동', 'score': 99},\n",
       "   {'name': '홍길동', 'score': 90},\n",
       "   {'name': '김길동', 'score': 50}],\n",
       "  194: [{'score': 100},\n",
       "   {'name': '박길동', 'score': 99},\n",
       "   {'name': '홍길동', 'score': 90},\n",
       "   {'name': '김길동', 'score': 50}],\n",
       "  196: [{'no': 6, 'title': '가격이 없음', 'writer': '김길동'},\n",
       "   {'no': 2, 'title': '단 한 번의 삶', 'writer': '김영하', 'price': '18,100'},\n",
       "   {'no': 3, 'title': '흔한 남매 19', 'writer': '백난도', 'price': '14,220'},\n",
       "   {'no': 5, 'title': '가격이 숫자', 'writer': '신길동', 'price': 900},\n",
       "   {'no': 1, 'title': '강남 아파트 인사이트', 'writer': '오스틀', 'price': '25,000'},\n",
       "   {'no': 4, 'title': '가격이 잘못', 'writer': '홍길동', 'price': '-'}],\n",
       "  197: [{'no': 6, 'title': '가격이 없음', 'writer': '김길동'},\n",
       "   {'no': 2, 'title': '단 한 번의 삶', 'writer': '김영하', 'price': '18,100'},\n",
       "   {'no': 3, 'title': '흔한 남매 19', 'writer': '백난도', 'price': '14,220'},\n",
       "   {'no': 5, 'title': '가격이 숫자', 'writer': '신길동', 'price': 900},\n",
       "   {'no': 1, 'title': '강남 아파트 인사이트', 'writer': '오스틀', 'price': '25,000'},\n",
       "   {'no': 4, 'title': '가격이 잘못', 'writer': '홍길동', 'price': '-'}],\n",
       "  199: 800,\n",
       "  201: 800,\n",
       "  206: 800,\n",
       "  209: 800,\n",
       "  210: 8009,\n",
       "  213: (8000, 8000, 800, None),\n",
       "  214: 8009,\n",
       "  215: (8000, 8000, 0, None),\n",
       "  217: (8000, 8000, 0, None),\n",
       "  218: 8009,\n",
       "  220: 0,\n",
       "  221: 0,\n",
       "  222: (0, 900),\n",
       "  223: (0, 900, 0),\n",
       "  224: (0, 900, 0, 25000),\n",
       "  226: (0, 0, 25000, 900),\n",
       "  230: [{'no': 4, 'title': '가격이 잘못', 'writer': '홍길동', 'price': '-'},\n",
       "   {'no': 6, 'title': '가격이 없음', 'writer': '김길동'},\n",
       "   {'no': 5, 'title': '가격이 숫자', 'writer': '신길동', 'price': 900},\n",
       "   {'no': 3, 'title': '흔한 남매 19', 'writer': '백난도', 'price': '14,220'},\n",
       "   {'no': 2, 'title': '단 한 번의 삶', 'writer': '김영하', 'price': '18,100'},\n",
       "   {'no': 1, 'title': '강남 아파트 인사이트', 'writer': '오스틀', 'price': '25,000'}],\n",
       "  231: [{'no': 1, 'title': '강남 아파트 인사이트', 'writer': '오스틀', 'price': '25,000'},\n",
       "   {'no': 2, 'title': '단 한 번의 삶', 'writer': '김영하', 'price': '18,100'},\n",
       "   {'no': 3, 'title': '흔한 남매 19', 'writer': '백난도', 'price': '14,220'},\n",
       "   {'no': 4, 'title': '가격이 잘못', 'writer': '홍길동', 'price': '-'},\n",
       "   {'no': 5, 'title': '가격이 숫자', 'writer': '신길동', 'price': 900},\n",
       "   {'no': 6, 'title': '가격이 없음', 'writer': '김길동'}],\n",
       "  234: 25000,\n",
       "  236: [[3, 3, 3], [3, 3, 3]],\n",
       "  237: [3, 3, 3, 3, 3, 3, 3, 3, 3, 3]},\n",
       " 'get_ipython': <bound method InteractiveShell.get_ipython of <ipykernel.zmqshell.ZMQInteractiveShell object at 0x0000024CEF22FD60>>,\n",
       " 'exit': <IPython.core.autocall.ZMQExitAutocall at 0x24cef23f5e0>,\n",
       " 'quit': <IPython.core.autocall.ZMQExitAutocall at 0x24cef23f5e0>,\n",
       " 'open': <function io.open(file, mode='r', buffering=-1, encoding=None, errors=None, newline=None, closefd=True, opener=None)>,\n",
       " '_': [3, 3, 3, 3, 3, 3, 3, 3, 3, 3],\n",
       " '__': [[3, 3, 3], [3, 3, 3]],\n",
       " '___': 25000,\n",
       " '_i': 'globlas()',\n",
       " '_ii': 'def make_box(shape):\\n    if len(shape) == 1:\\n        return lambda init_value : [init_value]*shape[0]\\n    elif len(shape)==2:\\n        return lambda init_value : [ [init_value]*shape[1] ] * shape[0]',\n",
       " '_iii': 'def make_box(shape):\\n    if len(shape) == 1:\\n        return lambda init_value : [init_value]*shape[0]\\n    else len(shape)==2:\\n        return lambda init_value : [ [init_value]*shape[1] ] * shape[0]',\n",
       " '_i1': 'from IPython.display import display, HTML\\ndisplay(HTML(\"\"\"\\n<style>\\ndiv.container{width:85% !important;}\\ndiv.cell.code_cell.rendered{width:100%;}\\ndiv.input_prompt{padding:0px;}\\ndiv.CodeMirror {font-family:Consolas; font-size:15pt;}\\ndiv.output {font-size:12pt; font-weight:bold;}\\ndiv.input {font-family:Consolas; font-size:15pt;}\\ndiv.prompt {min-width:70px;}\\ndiv#toc-wrapper{padding-top:120px;}\\ndiv.text_cell_render ul li{font-size:15pt;padding:5px;}\\ntable.dataframe{font-size:15px;}\\n</style>\\n\"\"\"))',\n",
       " 'display': <function IPython.core.display_functions.display(*objs, include=None, exclude=None, metadata=None, transient=None, display_id=None, raw=False, clear=False, **kwargs)>,\n",
       " 'HTML': IPython.core.display.HTML,\n",
       " '_i2': '# 리스트 데이터를 가공 방법 1. mapp\\nlist_data = [1, 2, 3, 4, 5, 6, 7,  8, 9, 10]\\nmap_template(lambda x : x*2, list_data)\\n# def x_2(x) :\\n#     return x*2\\n# map_template(x_2, list_data)',\n",
       " 'list_data': [1, 2, 3, 4, 5],\n",
       " '_i3': \"def map_template(func, L=[]) :\\n    '''\\n    L의 모든 요소를 func()함수를 적용시켜 return\\n    [2, 4, 6]\\n    '''\\n    result = []\\n    for l in L :\\n        result.append(func(1))\\n    return result\\n#     return [func(l) for l in L]\",\n",
       " 'map_template': <function __main__.map_template(func, L=[])>,\n",
       " '_i4': '# 리스트 데이터를 가공 방법 1. mapp\\nlist_data = [1, 2, 3, 4, 5, 6, 7,  8, 9, 10]\\nmap_template(lambda x : x*2, list_data)\\n# def x_2(x) :\\n#     return x*2\\n# map_template(x_2, list_data)',\n",
       " '_4': [2, 2, 2, 2, 2, 2, 2, 2, 2, 2],\n",
       " '_i5': \"def map_template(func, L=[]) :\\n    '''\\n    L의 모든 요소를 func()함수를 적용시켜 return\\n    [2, 4, 6]\\n    '''\\n    result = []\\n    for l in L :\\n        result.append(func(l))\\n    return result\\n#     return [func(l) for l in L]\",\n",
       " '_i6': '# 리스트 데이터를 가공 방법 1. mapp\\nlist_data = [1, 2, 3, 4, 5, 6, 7,  8, 9, 10]\\nmap_template(lambda x : x*2, list_data)\\n# def x_2(x) :\\n#     return x*2\\n# map_template(x_2, list_data)',\n",
       " '_6': [2, 4, 6, 8, 10, 12, 14, 16, 18, 20],\n",
       " '_i7': '# 리스트 데이터를 가공 방법 2. ㄹ리스트 컴프리헨션\\n[l*2 for l in list_data]',\n",
       " '_7': [2, 4, 6, 8, 10, 12, 14, 16, 18, 20],\n",
       " '_i8': \"for item in map(lambda x : x*2, list_data):\\n    print(item, end=' ')\",\n",
       " 'item': 20,\n",
       " '_i9': '# 리스트 데이터를 가공 방법 3. map():파이썬 내장함수\\na= map(lambda x : x*2, list_data)\\ntype(a)',\n",
       " 'a': None,\n",
       " '_9': map,\n",
       " '_i10': \"'''\\n예제 2. member1 = [{'name':'홍길동', 'birth':'2000-01-01'},\\n                    {'name':'신길동', 'birth':'1998-12-31'},]\\n       member2 = [{'name':'홍길동', 'year':2000, 'month':1, 'day':1},\\n                    {'name':'신길동', 'year':1998, 'month':12, 'day':31},] 로 변경            \\n'''\",\n",
       " '_10': \"\\n예제 2. member1 = [{'name':'홍길동', 'birth':'2000-01-01'},\\n                    {'name':'신길동', 'birth':'1998-12-31'},]\\n       member2 = [{'name':'홍길동', 'year':2000, 'month':1, 'day':1},\\n                    {'name':'신길동', 'year':1998, 'month':12, 'day':31},] 로 변경            \\n\",\n",
       " '_i11': \"'''\\n예제 1. [5000, 800, 1000, 6000] 로 바꾸시오\\n'''\\nprices = ['5,000', '800', '1000', '6,000']\",\n",
       " 'prices': ['5,000', '800', '1000', '6,000'],\n",
       " '_i12': \"'''\\n예제 2. member1 = [{'name':'홍길동', 'birth':'2000-01-01'},\\n                    {'name':'신길동', 'birth':'1998-12-31'},]\\n       member2 = [{'name':'홍길동', 'year':2000, 'month':1, 'day':1},\\n                    {'name':'신길동', 'year':1998, 'month':12, 'day':31},] 로 변경            \\n'''\",\n",
       " '_12': \"\\n예제 2. member1 = [{'name':'홍길동', 'birth':'2000-01-01'},\\n                    {'name':'신길동', 'birth':'1998-12-31'},]\\n       member2 = [{'name':'홍길동', 'year':2000, 'month':1, 'day':1},\\n                    {'name':'신길동', 'year':1998, 'month':12, 'day':31},] 로 변경            \\n\",\n",
       " '_i13': \"'''\\n예제 3. member2를 member1로 바꿉니다.\\n'''\",\n",
       " '_13': '\\n예제 3. member2를 member1로 바꿉니다.\\n',\n",
       " '_i14': 'def func(x) :\\n    return int(x.replace(\\',\\', \\'\\'))\\nfunc(\"5,000\"), func(\"800\")\\n# lambda(x : int(x.replae(\\',\\', \\'\\')))',\n",
       " 'func': <function __main__.func(x)>,\n",
       " '_14': (5000, 800),\n",
       " '_i15': '# def func(x) :\\n#     return int(x.replace(\\',\\', \\'\\'))\\n# func(\"5,000\"), func(\"800\")\\nlambda(x : int(x.replae(\\',\\', \\'\\')))',\n",
       " '_i16': \"list(map(lambda x : int(x.replace(',', '')), prices))\",\n",
       " '_16': [5000, 800, 1000, 6000],\n",
       " '_i17': \"# '2000-01-01' = {'year':1998, 'month':12, 'day':31}\\ndef split_data(date):\\n    split_data = date.split('-')\",\n",
       " 'split_data': <function __main__.split_data(date)>,\n",
       " '_i18': \"# '2000-01-01' = {'year':1998, 'month':12, 'day':31}\\ndef split_data(date):\\n    split_data = date.split('-')\\n    split_data\",\n",
       " '_i19': \"# '2000-01-01' = {'year':1998, 'month':12, 'day':31}\\ndef split_data(date):\\n    split_data = date.split('-')\\nsplit_data(member1('birth'))\",\n",
       " '_i20': \"'''\\n예제 2. member1 = [{'name':'홍길동', 'birth':'2000-01-01'},\\n                    {'name':'신길동', 'birth':'1998-12-31'},]\\n       member2 = [{'name':'홍길동', 'year':2000, 'month':1, 'day':1},\\n                    {'name':'신길동', 'year':1998, 'month':12, 'day':31},] 로 변경            \\n'''\\nmember1 = [{'name':'홍길동', 'birth':'2000-01-01'},\\n                    {'name':'신길동', 'birth':'1998-12-31'},]\",\n",
       " 'member1': [{'name': '홍길동', 'birth': '2000-01-01'},\n",
       "  {'name': '신길동', 'birth': '1998-12-31'}],\n",
       " '_i21': \"# '2000-01-01' = {'year':1998, 'month':12, 'day':31}\\ndef split_data(date):\\n    split_data = date.split('-')\\nsplit_data(member1('birth'))\",\n",
       " '_i22': \"# '2000-01-01' = {'year':1998, 'month':12, 'day':31}\\ndef split_data(date):\\n    split_data = date.split('-')\\nsplit_data(member1['birth'])\",\n",
       " '_i23': \"# '2000-01-01' = {'year':1998, 'month':12, 'day':31}\\ndef split_data(date):\\n    split_data = date.split('-')\\nsplit_data(member1[1])\",\n",
       " '_i24': \"# '2000-01-01' = {'year':1998, 'month':12, 'day':31}\\ndef split_data(date):\\n    split_data = date.split('-')\\n    print(split_data[0], split_data[1], split_data[2])\\n    return {'year': int(split_data[0]),\\n           'month':int(split_data[1]),\\n           'day':int(split_data[2]\\n            )}\",\n",
       " '_i25': \"# '2000-01-01' = {'year':1998, 'month':12, 'day':31}\\ndef split_data(date):\\n    split_data = date.split('-')\\n    print(split_data[0], split_data[1], split_data[2])\\n    return {'year': int(split_data[0]),\\n           'month':int(split_data[1]),\\n           'day':int(split_data[2]\\n            )}\\nsplit_data('2000-01-01')\",\n",
       " '_25': {'year': 2000, 'month': 1, 'day': 1},\n",
       " '_i26': \"# '2000-01-01' = {'year':1998, 'month':12, 'day':31}\\ndef split_data(date):\\n    split_data = date.split('-')\\n#     print(split_data[0], split_data[1], split_data[2])\\n    return {'year': int(split_data[0]),\\n           'month':int(split_data[1]),\\n           'day':int(split_data[2]\\n            )}\\nsplit_data('2000-01-01')\",\n",
       " '_26': {'year': 2000, 'month': 1, 'day': 1},\n",
       " '_i27': \"# '2000-01-01' = {'year':1998, 'month':12, 'day':31}\\ndef split_data(date):\\n    split_data = date.split('-')\\n#     print(split_data[0], split_data[1], split_data[2])\\n    return {'year': int(split_data[0]),\\n           'month':int(split_data[1]),\\n           'day':int(split_data[2]\\n            )}\",\n",
       " '_i28': \"# '2000-01-01' = {'year':1998, 'month':12, 'day':31}\\ndef split_data(date):\\n    split_data = date.split('-')\\n#     print(split_data[0], split_data[1], split_data[2])\\n    return {'year': int(split_data[0]),\\n           'month':int(split_data[1]),\\n           'day':int(split_data[2]\\n            )}\\nsplit_data('2000-01-01')\",\n",
       " '_28': {'year': 2000, 'month': 1, 'day': 1},\n",
       " '_i29': \"# '2000-01-01' = {'year':1998, 'month':12, 'day':31}\\ndef split_data(date):\\n    split_data = date.split('-')\\n#     print(split_data[0], split_data[1], split_data[2])\\n    return {'year': int(split_data[0]),\\n           'month':int(split_data[1]),\\n           'day':int(split_data[2]\\n            )}\\nsplit_data('2000-01-01')\\nmember1('birth')\",\n",
       " '_i30': \"# '2000-01-01' = {'year':1998, 'month':12, 'day':31}\\ndef split_data(date):\\n    split_data = date.split('-')\\n#     print(split_data[0], split_data[1], split_data[2])\\n    return {'year': int(split_data[0]),\\n           'month':int(split_data[1]),\\n           'day':int(split_data[2]\\n            )}\\nsplit_data('2000-01-01')\\nmember1[0]('birth')\",\n",
       " '_i31': \"# '2000-01-01' = {'year':1998, 'month':12, 'day':31}\\ndef split_data(date):\\n    split_data = date.split('-')\\n#     print(split_data[0], split_data[1], split_data[2])\\n    return {'year': int(split_data[0]),\\n           'month':int(split_data[1]),\\n           'day':int(split_data[2]\\n            )}\\nsplit_data('2000-01-01')\\nmember1[0]\",\n",
       " '_31': {'name': '홍길동', 'birth': '2000-01-01'},\n",
       " '_i32': '# \\'2000-01-01\\' = {\\'year\\':1998, \\'month\\':12, \\'day\\':31}\\ndef split_data(date):\\n    split_data = date.split(\\'-\\')\\n#     print(split_data[0], split_data[1], split_data[2])\\n    return {\\'year\\': int(split_data[0]),\\n           \\'month\\':int(split_data[1]),\\n           \\'day\\':int(split_data[2]\\n            )}\\nsplit_data(\\'2000-01-01\\')\\nmember1[0].get(\"birth\")',\n",
       " '_32': '2000-01-01',\n",
       " '_i33': '# \\'2000-01-01\\' = {\\'year\\':1998, \\'month\\':12, \\'day\\':31}\\ndef split_data(date):\\n    split_data = date.split(\\'-\\')\\n#     print(split_data[0], split_data[1], split_data[2])\\n    return {\\'year\\': int(split_data[0]),\\n           \\'month\\':int(split_data[1]),\\n           \\'day\\':int(split_data[2]\\n            )}\\nsplit_data(member1[0].get(\"birth\"))',\n",
       " '_33': {'year': 2000, 'month': 1, 'day': 1},\n",
       " '_i34': '# \\'2000-01-01\\' = {\\'year\\':1998, \\'month\\':12, \\'day\\':31}\\ndef split_data(date):\\n    split_data = date.split(\\'-\\')\\n#     print(split_data[0], split_data[1], split_data[2])\\n    return {\\'year\\': int(split_data[0]),\\n           \\'month\\':int(split_data[1]),\\n           \\'day\\':int(split_data[2]\\n            )}\\nsplit_data(member1.get(\"birth\"))',\n",
       " '_i35': '# \\'2000-01-01\\' = {\\'year\\':1998, \\'month\\':12, \\'day\\':31}\\ndef split_data(date):\\n    split_data = date.split(\\'-\\')\\n#     print(split_data[0], split_data[1], split_data[2])\\n    return {\\'year\\': int(split_data[0]),\\n           \\'month\\':int(split_data[1]),\\n           \\'day\\':int(split_data[2]\\n            )}\\nsplit_data(member1[0].get(\"birth\"))',\n",
       " '_35': {'year': 2000, 'month': 1, 'day': 1},\n",
       " '_i36': '# \\'2000-01-01\\' = {\\'year\\':1998, \\'month\\':12, \\'day\\':31}\\ndef split_data(date):\\n    split_data = date.split(\\'-\\')\\n#     print(split_data[0], split_data[1], split_data[2])\\n    return {\\'year\\': int(split_data[0]),\\n           \\'month\\':int(split_data[1]),\\n           \\'day\\':int(split_data[2]\\n            )}\\nsplit_data(member1[0].get(\"birth\"))',\n",
       " '_36': {'year': 2000, 'month': 1, 'day': 1},\n",
       " '_i37': '# \\'2000-01-01\\' = {\\'year\\':1998, \\'month\\':12, \\'day\\':31}\\ndef split_data(date):\\n    split_data = date.split(\\'-\\')\\n#     print(split_data[0], split_data[1], split_data[2])\\n    return {\\'year\\': int(split_data[0]),\\n           \\'month\\':int(split_data[1]),\\n           \\'day\\':int(split_data[2]\\n            )}\\nsplit_data(member1[0].get(\"birth\"))',\n",
       " '_37': {'year': 2000, 'month': 1, 'day': 1},\n",
       " '_i38': '# \\'2000-01-01\\' = {\\'year\\':1998, \\'month\\':12, \\'day\\':31}\\ndef split_data(date):\\n    split_data = date.split(\\'-\\')\\n#     print(split_data[0], split_data[1], split_data[2])\\n    return {\\'year\\': int(split_data[0]),\\n           \\'month\\':int(split_data[1]),\\n           \\'day\\':int(split_data[2]\\n            )}\\nsplit_data(member1[0].get(\"birth\"))',\n",
       " '_38': {'year': 2000, 'month': 1, 'day': 1},\n",
       " '_i39': 'def member_func(member) : # {\\'name\\':\\'홍길동\\', \\'birth\\':\\'2000-01-01\\'}\\n    \"{\\'name\\':\\'신길동\\', \\'year\\':1998, \\'month\\':12, \\'day\\':31}식으로 return\"\\n    return {\\n        \\'name\\':member.get(\\'name\\'),\\n        \\'year\\':int(member[\\'birth\\'].split(\\'-\\')[0],\\n        \\'month\\':int(member[\\'month\\'].split(\\'-\\')[1],\\n        \\'day\\':int(member[\\'month\\'].split(\\'-\\')[2])\\n    }',\n",
       " '_i40': 'def member_func(member) : # {\\'name\\':\\'홍길동\\', \\'birth\\':\\'2000-01-01\\'}\\n    \"{\\'name\\':\\'신길동\\', \\'year\\':1998, \\'month\\':12, \\'day\\':31}식으로 return\"\\n    return {\\n        \\'name\\':member.get(\\'name\\'),\\n        \\'year\\':int(member[\\'birth\\'].split(\\'-\\')[0]),\\n        \\'month\\':int(member[\\'month\\'].split(\\'-\\')[1]),\\n        \\'day\\':int(member[\\'month\\'].split(\\'-\\')[2])\\n    }',\n",
       " 'member_func': <function __main__.member_func(member)>,\n",
       " '_i41': 'def member_func(member) : # {\\'name\\':\\'홍길동\\', \\'birth\\':\\'2000-01-01\\'}\\n    \"{\\'name\\':\\'신길동\\', \\'year\\':1998, \\'month\\':12, \\'day\\':31}식으로 return\"\\n    return {\\n        \\'name\\':member.get(\\'name\\'),\\n        \\'year\\':int(member[\\'birth\\'].split(\\'-\\')[0]),\\n        \\'month\\':int(member[\\'month\\'].split(\\'-\\')[1]),\\n        \\'day\\':int(member[\\'month\\'].split(\\'-\\')[2])\\n    }\\n\\nmember_func(member1)',\n",
       " '_i42': 'def member_func(member) : # {\\'name\\':\\'홍길동\\', \\'birth\\':\\'2000-01-01\\'}\\n    \"{\\'name\\':\\'신길동\\', \\'year\\':1998, \\'month\\':12, \\'day\\':31}식으로 return\"\\n    return {\\n        \\'name\\':member.get(\\'name\\'),\\n        \\'year\\':int(member[\\'birth\\'].split(\\'-\\')[0]),\\n        \\'month\\':int(member[\\'month\\'].split(\\'-\\')[1]),\\n        \\'day\\':int(member[\\'month\\'].split(\\'-\\')[2])\\n    }\\n\\nmember_func(member1[0])',\n",
       " '_i43': \"'''\\n예제 2. member1 = [{'name':'홍길동', 'birth':'2000-01-01'},\\n                    {'name':'신길동', 'birth':'1998-12-31'},]\\n       member2 = [{'name':'홍길동', 'year':2000, 'month':1, 'day':1},\\n                    {'name':'신길동', 'year':1998, 'month':12, 'day':31},] 로 변경            \\n'''\\nmember1 = [{'name':'홍길동', 'birth':'2000-01-01'},\\n                    {'name':'신길동', 'birth':'1998-12-31'},]\",\n",
       " '_i44': 'def member_func(member) : # {\\'name\\':\\'홍길동\\', \\'birth\\':\\'2000-01-01\\'}\\n    \"{\\'name\\':\\'신길동\\', \\'year\\':1998, \\'month\\':12, \\'day\\':31}식으로 return\"\\n    return {\\n        \\'name\\':member.get(\\'name\\'),\\n        \\'year\\':int(member[\\'birth\\'].split(\\'-\\')[0]),\\n        \\'month\\':int(member[\\'month\\'].split(\\'-\\')[1]),\\n        \\'day\\':int(member[\\'month\\'].split(\\'-\\')[2])\\n    }\\n\\nmember_func(member1[0])',\n",
       " '_i45': \"'''\\n예제 2. member1 = [{'name':'홍길동', 'birth':'2000-01-01'},\\n                    {'name':'신길동', 'birth':'1998-12-31'},]\\n       member2 = [{'name':'홍길동', 'year':2000, 'month':1, 'day':1},\\n                    {'name':'신길동', 'year':1998, 'month':12, 'day':31},] 로 변경            \\n'''\\nmember1 = [{'name':'홍길동', 'birth':'2000-01-01'},\\n                    {'name':'신길동', 'birth':'1998-12-31'},]\",\n",
       " '_i46': '# \\'2000-01-01\\' = {\\'year\\':1998, \\'month\\':12, \\'day\\':31}\\ndef split_data(date):\\n    split_data = date.split(\\'-\\')\\n#     print(split_data[0], split_data[1], split_data[2])\\n    return {\\'year\\': int(split_data[0]),\\n           \\'month\\':int(split_data[1]),\\n           \\'day\\':int(split_data[2]\\n            )}\\nsplit_data(member1[0].get(\"birth\"))',\n",
       " '_46': {'year': 2000, 'month': 1, 'day': 1},\n",
       " '_i47': 'def member_func(member) : # {\\'name\\':\\'홍길동\\', \\'birth\\':\\'2000-01-01\\'}\\n    \"{\\'name\\':\\'신길동\\', \\'year\\':1998, \\'month\\':12, \\'day\\':31}식으로 return\"\\n    return {\\n        \\'name\\':member.get(\\'name\\'),\\n        \\'year\\':int(member[\\'birth\\'].split(\\'-\\')[0]),\\n        \\'month\\':int(member[\\'month\\'].split(\\'-\\')[1]),\\n        \\'day\\':int(member[\\'month\\'].split(\\'-\\')[2])\\n    }\\n\\nmember_func(member1[0])',\n",
       " '_i48': 'def member_func(member) : # {\\'name\\':\\'홍길동\\', \\'birth\\':\\'2000-01-01\\'}\\n    \"{\\'name\\':\\'신길동\\', \\'year\\':1998, \\'month\\':12, \\'day\\':31}식으로 return\"\\n    return {\\n        \\'name\\':member.get(\\'name\\'),\\n        \\'year\\':int(member[\\'birth\\'].split(\\'-\\')[0]),\\n        \\'month\\':int(member[\\'month\\'].split(\\'-\\')[1]),\\n        \\'day\\':int(member[\\'month\\'].split(\\'-\\')[2])\\n    }\\n\\nmember_func(member1[0])',\n",
       " '_i49': 'def member_func(member) : # {\\'name\\':\\'홍길동\\', \\'birth\\':\\'2000-01-01\\'}\\n    \"{\\'name\\':\\'신길동\\', \\'year\\':1998, \\'month\\':12, \\'day\\':31}식으로 return\"\\n    return {\\n        \\'name\\':member.get(\\'name\\'),\\n        \\'year\\':int(member[\\'birth\\'].split(\\'-\\')[0]),\\n        \\'month\\':int(member[\\'birth\\'].split(\\'-\\')[1]),\\n        \\'day\\':int(member[\\'birth\\'].split(\\'-\\')[2])\\n    }\\n\\nmember_func(member1[0])',\n",
       " '_49': {'name': '홍길동', 'year': 2000, 'month': 1, 'day': 1},\n",
       " '_i50': 'def member_func(member) : # {\\'name\\':\\'홍길동\\', \\'birth\\':\\'2000-01-01\\'}\\n    \"{\\'name\\':\\'신길동\\', \\'year\\':1998, \\'month\\':12, \\'day\\':31}식으로 return\"\\n    return {\\n        \\'name\\':member.get(\\'name\\'),\\n        \\'year\\':int(member[\\'birth\\'].split(\\'-\\')[0]),\\n        \\'month\\':int(member[\\'birth\\'].split(\\'-\\')[1]),\\n        \\'day\\':int(member[\\'birth\\'].split(\\'-\\')[2])\\n    }\\n\\nmember_func(member1[0])\\n\\nlist(map(lambda member :{\\n                        \\'name\\':member.get(\\'name\\'),\\n                        \\'year\\':int(member[\\'birth\\'].split(\\'-\\')[0]),\\n                        \\'month\\':int(member[\\'birth\\'].split(\\'-\\')[1]),\\n                        \\'day\\':int(member[\\'birth\\'].split(\\'-\\')[2])\\n                        }\\n         , member1\\n        )\\n    )',\n",
       " '_50': [{'name': '홍길동', 'year': 2000, 'month': 1, 'day': 1},\n",
       "  {'name': '신길동', 'year': 1998, 'month': 12, 'day': 31}],\n",
       " '_i51': 'def member_func(member) : # {\\'name\\':\\'홍길동\\', \\'birth\\':\\'2000-01-01\\'}\\n    \"{\\'name\\':\\'신길동\\', \\'year\\':1998, \\'month\\':12, \\'day\\':31}식으로 return\"\\n    return {\\n        \\'name\\':member.get(\\'name\\'),\\n        \\'year\\':int(member[\\'birth\\'].split(\\'-\\')[0]),\\n        \\'month\\':int(member[\\'birth\\'].split(\\'-\\')[1]),\\n        \\'day\\':int(member[\\'birth\\'].split(\\'-\\')[2])\\n    }\\n\\nmember_func(member1[0])\\n\\nlist(map(lambda member :{\\n                        \\'name\\':member.get(\\'name\\'),\\n                        \\'year\\':int(member[\\'birth\\'].split(\\'-\\')[0]),\\n                        \\'month\\':int(member[\\'birth\\'].split(\\'-\\')[1]),\\n                        \\'day\\':int(member[\\'birth\\'].split(\\'-\\')[2])\\n                        } , member1\\n        )\\n    )',\n",
       " '_51': [{'name': '홍길동', 'year': 2000, 'month': 1, 'day': 1},\n",
       "  {'name': '신길동', 'year': 1998, 'month': 12, 'day': 31}],\n",
       " '_i52': \"''.join(member1[1].get('birth'))\",\n",
       " '_52': '1998-12-31',\n",
       " '_i53': \"''.join(member2[0].get('birth'))\",\n",
       " '_i54': \"'''\\n예제 2. member1 = [{'name':'홍길동', 'birth':'2000-01-01'},\\n                    {'name':'신길동', 'birth':'1998-12-31'},]\\n       member2 = [{'name':'홍길동', 'year':2000, 'month':1, 'day':1},\\n                    {'name':'신길동', 'year':1998, 'month':12, 'day':31},] 로 변경            \\n'''\\nmember1 = [{'name':'홍길동', 'birth':'2000-01-01'},\\n                    {'name':'신길동', 'birth':'1998-12-31'},]\\nember2 = [{'name':'홍길동', 'year':2000, 'month':1, 'day':1},\\n                    {'name':'신길동', 'year':1998, 'month':12, 'day':31},] \",\n",
       " 'ember2': [{'name': '홍길동', 'year': 2000, 'month': 1, 'day': 1},\n",
       "  {'name': '신길동', 'year': 1998, 'month': 12, 'day': 31}],\n",
       " '_i55': \"''.join(member2[0].get('birth'))\",\n",
       " '_i56': \"'''\\n예제 2. member1 = [{'name':'홍길동', 'birth':'2000-01-01'},\\n                    {'name':'신길동', 'birth':'1998-12-31'},]\\n       member2 = [{'name':'홍길동', 'year':2000, 'month':1, 'day':1},\\n                    {'name':'신길동', 'year':1998, 'month':12, 'day':31},] 로 변경            \\n'''\\nmember1 = [{'name':'홍길동', 'birth':'2000-01-01'},\\n                    {'name':'신길동', 'birth':'1998-12-31'},]\\nmember2 = [{'name':'홍길동', 'year':2000, 'month':1, 'day':1},\\n                    {'name':'신길동', 'year':1998, 'month':12, 'day':31},] \",\n",
       " 'member2': [{'name': '홍길동', 'year': 2000, 'month': 1, 'day': 1},\n",
       "  {'name': '신길동', 'year': 1998, 'month': 12, 'day': 31}],\n",
       " '_i57': \"''.join(member2[0].get('birth'))\",\n",
       " '_i58': \"''.join(member2[0].get('month'))\",\n",
       " '_i59': \"'''\\n예제 2. member1 = [{'name':'홍길동', 'birth':'2000-01-01'},\\n                    {'name':'신길동', 'birth':'1998-12-31'},]\\n       member2 = [{'name':'홍길동', 'year':2000, 'month':1, 'day':1},\\n                    {'name':'신길동', 'year':1998, 'month':12, 'day':31},] 로 변경            \\n'''\\nmember1 = [{'name':'홍길동', 'birth':'2000-01-01'},\\n                    {'name':'신길동', 'birth':'1998-12-31'},]\\nmember2 = [{'name':'홍길동', 'year':2000, 'month':1, 'day':1},\\n                    {'name':'신길동', 'year':1998, 'month':12, 'day':31},]\",\n",
       " '_i60': '# \\'2000-01-01\\' = {\\'year\\':1998, \\'month\\':12, \\'day\\':31}\\ndef split_data(date):\\n    split_data = date.split(\\'-\\')\\n#     print(split_data[0], split_data[1], split_data[2])\\n    return {\\'year\\': int(split_data[0]),\\n           \\'month\\':int(split_data[1]),\\n           \\'day\\':int(split_data[2]\\n            )}\\nsplit_data(member1[0].get(\"birth\"))',\n",
       " '_60': {'year': 2000, 'month': 1, 'day': 1},\n",
       " '_i61': 'def member_func(member) : # {\\'name\\':\\'홍길동\\', \\'birth\\':\\'2000-01-01\\'}\\n    \"{\\'name\\':\\'신길동\\', \\'year\\':1998, \\'month\\':12, \\'day\\':31}식으로 return\"\\n    return {\\n        \\'name\\':member.get(\\'name\\'),\\n        \\'year\\':int(member[\\'birth\\'].split(\\'-\\')[0]),\\n        \\'month\\':int(member[\\'birth\\'].split(\\'-\\')[1]),\\n        \\'day\\':int(member[\\'birth\\'].split(\\'-\\')[2])\\n    }\\n\\nmember_func(member1[0])\\n\\nlist(map(lambda member :{\\n                        \\'name\\':member.get(\\'name\\'),\\n                        \\'year\\':int(member[\\'birth\\'].split(\\'-\\')[0]),\\n                        \\'month\\':int(member[\\'birth\\'].split(\\'-\\')[1]),\\n                        \\'day\\':int(member[\\'birth\\'].split(\\'-\\')[2])\\n                        } , member1\\n        )\\n    )',\n",
       " '_61': [{'name': '홍길동', 'year': 2000, 'month': 1, 'day': 1},\n",
       "  {'name': '신길동', 'year': 1998, 'month': 12, 'day': 31}],\n",
       " '_i62': \"'''\\n예제 3. member2를 member1로 바꿉니다.\\n'''\",\n",
       " '_62': '\\n예제 3. member2를 member1로 바꿉니다.\\n',\n",
       " '_i63': \"''.join(member2[0].get('month'))\",\n",
       " '_i64': \"''.join(member2[0].get('name'))\",\n",
       " '_64': '홍길동',\n",
       " '_i65': \"''.join(member2[0].get('month'))\",\n",
       " '_i66': \"birth = member2[0].get('year'), member2[0].get('month'), member2[0].get('day')\\nbirth\",\n",
       " 'birth': [2000, 1, 1],\n",
       " '_66': (2000, 1, 1),\n",
       " '_i67': \"birth = member2[0].get('year'), member2[0].get('month'), member2[0].get('day')\\nbirth.join('-')\",\n",
       " '_i68': \"birth = member2[0].get('year'), member2[0].get('month'), member2[0].get('day')\\nlist[birth.join('-')]\",\n",
       " '_i69': \"birth = [member2[0].get('year'), member2[0].get('month'), member2[0].get('day')]\",\n",
       " '_i70': \"birth = [member2[0].get('year'), member2[0].get('month'), member2[0].get('day')]\\nbirth\",\n",
       " '_70': [2000, 1, 1],\n",
       " '_i71': \"birth = [member2[0].get('year'), member2[0].get('month'), member2[0].get('day')]\\nbirth.join('-')\",\n",
       " '_i72': \"birth = [member2[0].get('year'), member2[0].get('month'), member2[0].get('day')]\\nbirth.str()\",\n",
       " '_i73': \"birth = str(member2[0].get('year'), member2[0].get('month'), member2[0].get('day'))\\nbirth.str()\",\n",
       " '_i74': \"birth = str([member2[0].get('year'), member2[0].get('month'), member2[0].get('day')])\\nbirth.str()\",\n",
       " '_i75': \"birth = [member2[0].get('year'), member2[0].get('month'), member2[0].get('day')]\\n''.join(birth[0])\",\n",
       " '_i76': \"birth = [member2[0].get('year'), member2[0].get('month'), member2[0].get('day')]\\n''.join(str(birth[0]))\",\n",
       " '_76': '2000',\n",
       " '_i77': \"birth = [member2[0].get('year'), member2[0].get('month'), member2[0].get('day')]\\n''.join(str(birth[0]), str(birth[1]), str(birth[2]))\",\n",
       " '_i78': \"birth = [member2[0].get('year'), member2[0].get('month'), member2[0].get('day')\",\n",
       " '_i79': \"birth = [member2[0].get('year'), member2[0].get('month'), member2[0].get('day')]\",\n",
       " '_i80': \"birth = [member2[0].get('year'), member2[0].get('month'), member2[0].get('day')]\\ndef birth_(birth) :\\n    test = str(birth.get[0]) + str(birth.get[1]) + str(birth.get[2])\\n    \",\n",
       " 'birth_': <function __main__.birth_(birth)>,\n",
       " '_i81': \"birth = [member2[0].get('year'), member2[0].get('month'), member2[0].get('day')]\\ndef birth_(birth) :\\n    test = str(birth.get[0]) + str(birth.get[1]) + str(birth.get[2])\\nbirth_(birth)\",\n",
       " '_i82': \"birth = [member2[0].get('year'), member2[0].get('month'), member2[0].get('day')]\\ndef birth_(birth) :\\n    test = str(birth[0]) + str(birth[1]) + str(birth[2])\\nbirth_(birth)\",\n",
       " '_i83': \"birth = [member2[0].get('year'), member2[0].get('month'), member2[0].get('day')]\\ndef birth_(birth) :\\n    test = str(birth[0]) + str(birth[1]) + str(birth[2])\\nbirth_(birth)\",\n",
       " '_i84': \"birth = [member2[0].get('year'), member2[0].get('month'), member2[0].get('day')]\\ndef birth_(birth) :\\n    test = str(birth[0]) + str(birth[1]) + str(birth[2])\\na = birth_(birth)\\na\",\n",
       " '_i85': \"birth = [member2[0].get('year'), member2[0].get('month'), member2[0].get('day')]\\ndef birth_(birth) :\\n    test = str(birth[0]) + str(birth[1]) + str(birth[2])\\na = birth_(birth)\\na\",\n",
       " '_i86': '# {\\'year\\':2000, \\'month\\':1, \\'day\\':1} =>\"2000-01-01\"를 return하는 함수\\ndef join_date(data) :\\n    print(data.get(\\'year\\'), data.get(\\'month\\'), data.get(\\'day\\'))',\n",
       " 'join_date': <function __main__.join_date(data)>,\n",
       " '_i87': \"join_date({'year':2000, 'month':1, 'day':1})\",\n",
       " '_i88': \"join_date({'year':2000, 'month':1, 'day':1})\\n\\nimport date\",\n",
       " '_i89': \"join_date({'year':2000, 'month':1, 'day':1})\\n\\nimport datetime\",\n",
       " 'datetime': <module 'datetime' from 'C:\\\\Users\\\\Admin\\\\anaconda3\\\\lib\\\\datetime.py'>,\n",
       " '_i90': \"join_date({'year':2000, 'month':1, 'day':1})\\n\\nimport datetime\\ndatetime.datetime.year(2000)\",\n",
       " '_i91': \"join_date({'year':2000, 'month':1, 'day':1})\\n\\nimport datetime\\ndatetime.date\",\n",
       " '_91': datetime.date,\n",
       " '_i92': \"join_date({'year':2000, 'month':1, 'day':1})\\n\\nimport datetime\\ndatetime.datetime(2000, 1, 1)\",\n",
       " '_92': datetime.datetime(2000, 1, 1, 0, 0),\n",
       " '_i93': \"join_date({'year':2000, 'month':1, 'day':1})\\n\\nimport datetime\\ndatetime.datetime(2000, 1, 1).strftime('%y-%m-%d')\",\n",
       " '_93': '00-01-01',\n",
       " '_i94': \"join_date({'year':2000, 'month':1, 'day':1})\\n\\nimport datetime\\ndatetime.datetime(2000, 1, 1).strftime('%yyyy-%m-%d')\",\n",
       " '_94': '00yyy-01-01',\n",
       " '_i95': \"join_date({'year':2000, 'month':1, 'day':1})\\n\\nimport datetime\\ndatetime.datetime(2000, 1, 1).strftime('%Y-%m-%d')\",\n",
       " '_95': '2000-01-01',\n",
       " '_i96': '# {\\'year\\':2000, \\'month\\':1, \\'day\\':1} =>\"2000-01-01\"를 return하는 함수\\ndef join_date(data) :\\n    print(data.get(\\'year\\'), data.get(\\'month\\'), data.get(\\'day\\'))\\n    year = str(data.get(\\'year\\'))\\n    month = data.get(\\'month\\')\\n    if month < 10:\\n        month = \\'0\\' + str(month)\\n    else:\\n        month = str(month)\\n    day = data.get(\\'day\\')\\n    if day < 10:\\n        day = \\'0\\' + str(day)\\n    else:\\n        day = str(day)    \\n        \\n    return \\'-\\'.join([year, month, day])',\n",
       " '_i97': \"join_date({'year':2000, 'month':1, 'day':1})\\n\\nimport datetime\\ndatetime.datetime(2000, 1, 1).strftime('%Y-%m-%d')\",\n",
       " '_97': '2000-01-01',\n",
       " '_i98': '# {\\'year\\':2000, \\'month\\':1, \\'day\\':1} =>\"2000-01-01\"를 return하는 함수\\ndef join_date(data) :\\n#     print(data.get(\\'year\\'), data.get(\\'month\\'), data.get(\\'day\\'))\\n    year = str(data.get(\\'year\\'))\\n    month = data.get(\\'month\\')\\n    if month < 10:\\n        month = \\'0\\' + str(month)\\n    else:\\n        month = str(month)\\n    day = data.get(\\'day\\')\\n    if day < 10:\\n        day = \\'0\\' + str(day)\\n    else:\\n        day = str(day)    \\n        \\n    return \\'-\\'.join([year, month, day])',\n",
       " '_i99': \"join_date({'year':2000, 'month':1, 'day':1})\\n\\nimport datetime\\ndatetime.datetime(2000, 1, 1).strftime('%Y-%m-%d')\",\n",
       " '_99': '2000-01-01',\n",
       " '_i100': \"print(join_date({'year':2000, 'month':1, 'day':1}))\\n\\nimport datetime\\ndatetime.datetime(2000, 1, 1).strftime('%Y-%m-%d')\",\n",
       " '_100': '2000-01-01',\n",
       " '_i101': \"print(join_date({'year':2000, 'month':1, 'day':1}))\\n\\nimport datetime\\ndatetime.datetime(member2[0].get('year'), 1, 1).strftime('%Y-%m-%d')\",\n",
       " '_101': '2000-01-01',\n",
       " '_i102': \"print(join_date({'year':2000, 'month':1, 'day':1}))\\n\\nimport datetime\\ndatetime.datetime(member2[0].get('year'), member2[0].get('month'), member2[0].get('day')).strftime('%Y-%m-%d')\",\n",
       " '_102': '2000-01-01',\n",
       " '_i103': \"print(join_date({'year':2000, 'month':1, 'day':1}))\\n\\nimport datetime\\ndatetime.datetime(member2[0].get('year'), member2[0].get('month'), member2[0].get('day')).strftime('%Y-%m-%d')\",\n",
       " '_103': '2000-01-01',\n",
       " '_i104': '# {\\'year\\':2000, \\'month\\':1, \\'day\\':1} =>\"2000-01-01\"를 return하는 함수\\ndef join_date(data) :\\n#     print(data.get(\\'year\\'), data.get(\\'month\\'), data.get(\\'day\\'))\\n    year = str(data.get(\\'year\\'))\\n    month = data.get(\\'month\\')\\n    if month < 10:\\n        month = \\'0\\' + str(month)\\n    else:\\n        month = str(month)\\n    day = data.get(\\'day\\')\\n    if day < 10:\\n        day = \\'0\\' + str(day)\\n    else:\\n        day = str(day)    \\n        \\n    return \\'-\\'.join([year, month, day])',\n",
       " '_i105': 'def join_date(data):\\n    print(\"{}-{:02}-{:02}\".format(data.get(\\'year\\'), data.get(\\'month\\'), data.get(\\'day\\')))',\n",
       " '_i106': \"print(join_date({'year':2000, 'month':1, 'day':1}))\\n\\nimport datetime\\ndatetime.datetime(member2[0].get('year'), member2[0].get('month'), member2[0].get('day')).strftime('%Y-%m-%d')\",\n",
       " '_106': '2000-01-01',\n",
       " '_i107': \"join_date({'year':2000, 'month':1, 'day':1})\\n\\n# import datetime\\n# datetime.datetime(member2[0].get('year'), member2[0].get('month'), member2[0].get('day')).strftime('%Y-%m-%d')\",\n",
       " '_i108': 'def join_date(data):\\n    print(\"{}-{:02}-{:02}\".format(data.get(\\'year\\'), \\n                                  data.get(\\'month\\'), \\n                                  data.get(\\'day\\')))',\n",
       " '_i109': \"# import datetime\\n# datetime.datetime(member2[0].get('year'), \\n#                   member2[0].get('month'), \\n#                   member2[0].get('day')).strftime('%Y-%m-%d')\",\n",
       " '_i110': 'def join_date(data):\\n    print(\"{}-{:02}-{:02}\".format(data.get(\\'year\\'), \\n                                  data.get(\\'month\\'), \\n                                  data.get(\\'day\\')))',\n",
       " '_i111': 'def join_date(data):\\n    print(\"{year}-{month:02}-{day:02}\".format(**data)))\\n    ',\n",
       " '_i112': 'def join_date(data):\\n    print(\"{year}-{month:02}-{day:02}\".format(**data))\\n    ',\n",
       " '_i113': \"join_date({'year':2000, 'month':1, 'day':1})\",\n",
       " '_i114': \"join_date({'year':2000, 'month':1, 'day':1})\",\n",
       " '_i115': 'def join_date(data):\\n    print(\"{year}-{month:02}-{day:02}\".format(**data))\\n    ',\n",
       " '_i116': \"join_date({'year':2000, 'month':1, 'day':1})\",\n",
       " '_i117': 'def join_date(data):\\n    return \"{year}-{month:02}-{day:02}\".format(**data)',\n",
       " '_i118': 'def join_date(data):\\n    return \"{year}-{month:02}-{day:02}\".format(**data)',\n",
       " '_i119': \"join_date({'year':2000, 'month':1, 'day':1})\",\n",
       " '_119': '2000-01-01',\n",
       " '_i120': '# {\\'name\\':\\'홍길동\\', \\'year\\':2000, \\'month\\':1, \\'day\\':1}(member2)를\\n# {\\'name\\':\\'홍길동\\', \\'birth\\':\\'2000-01-01\\'}으로 가공\\nlist(map(lambda member : {\\n            \\'name\\' : member.get(\\'name\\'),\\n            \\'birth\\' : \"{year}-{month:02}-{day:02}\".format(**data)\\n                        }, member2\\n        ))',\n",
       " '_i121': '# {\\'name\\':\\'홍길동\\', \\'year\\':2000, \\'month\\':1, \\'day\\':1}(member2)를\\n# {\\'name\\':\\'홍길동\\', \\'birth\\':\\'2000-01-01\\'}으로 가공\\nlist(map(lambda member : {\\n            \\'name\\' : member.get(\\'name\\'),\\n            \\'birth\\' : \"{year}-{month:02}-{day:02}\".format(**data)\\n                        }, member2[0]\\n        ))',\n",
       " '_i122': '# {\\'name\\':\\'홍길동\\', \\'year\\':2000, \\'month\\':1, \\'day\\':1}(member2)를\\n# {\\'name\\':\\'홍길동\\', \\'birth\\':\\'2000-01-01\\'}으로 가공\\nlist(map(lambda member : {\\n                    \\'name\\' : member.get(\\'name\\'),\\n                    \\'birth\\' : \"{year}-{month:02}-{day:02}\".format(**member)\\n                        }, member2\\n        ))',\n",
       " '_122': [{'name': '홍길동', 'birth': '2000-01-01'},\n",
       "  {'name': '신길동', 'birth': '1998-12-31'}],\n",
       " '_i123': 'def filter_template(func, L=[])',\n",
       " '_i124': '# map : [1,2,3,4,5]\\ndef filter_template(func, L=[]):\\n    result = []\\n    for l in L:\\n        if func(l):\\n            result.append()\\n    return result',\n",
       " 'filter_template': <function __main__.filter_template(func, L=[])>,\n",
       " '_i125': 'def evenChk(value):\\n    return value%2==0\\nevenChk(10), evenChk(-9)',\n",
       " 'evenChk': <function __main__.evenChk(value)>,\n",
       " '_125': (True, False),\n",
       " '_i126': 'filter_template()',\n",
       " '_i127': 'list_data = [ 1, 2, 3, 4, 5]\\nfilter_template(lambda value: value%2==0 , list_data)',\n",
       " '_i128': '# map : [1,2,3,4,5]\\ndef filter_template(func, L=[]):\\n    result = []\\n    for l in L:\\n        if func(l):\\n            result.append()\\n    return result',\n",
       " '_i129': 'def evenChk(value):\\n    return value%2==0\\nevenChk(10), evenChk(-9)',\n",
       " '_129': (True, False),\n",
       " '_i130': 'list_data = [ 1, 2, 3, 4, 5]\\nfilter_template(lambda value: value%2==0 , list_data)',\n",
       " '_i131': '# map : [1,2,3,4,5]\\ndef filter_template(func, L=[]):\\n    result = []\\n    for l in L:\\n        if func(l):\\n            result.append(l)\\n    return result',\n",
       " '_i132': 'def evenChk(value):\\n    return value%2==0\\nevenChk(10), evenChk(-9)',\n",
       " '_132': (True, False),\n",
       " '_i133': 'list_data = [ 1, 2, 3, 4, 5]\\nfilter_template(lambda value: value%2==0 , list_data)',\n",
       " '_133': [2, 4],\n",
       " '_i134': 'list(filter(lambda value : value%2==0, list_data))',\n",
       " '_134': [2, 4],\n",
       " '_i135': 'p = [9, 2, 7]\\np.sort(reverse=Ture)',\n",
       " 'p': [9, 7, 2],\n",
       " '_i136': 'p = [9, 2, 7]\\np.sort(reverse=True)\\np',\n",
       " '_136': [9, 7, 2],\n",
       " '_i137': 'number2d = [[9, 9],\\n            [1, 100]\\n            [10, 1]]\\nnumber2d.sort()\\nnumber2d',\n",
       " '_i138': 'number2d = [[9, 9],\\n            [1, 100],\\n            [10, 1]]\\nnumber2d.sort()\\nnumber2d',\n",
       " 'number2d': [[1, 100], [9, 9], [10, 1]],\n",
       " '_138': [[1, 100], [9, 9], [10, 1]],\n",
       " '_i139': 'number2d = [[9, 9],\\n            [1, 100],\\n            [10, 1]]\\nnumber2d.sort(reverse=True)\\nnumber2d',\n",
       " '_139': [[10, 1], [9, 9], [1, 100]],\n",
       " '_i140': 'number2d = [[9, 9],\\n            [1, 100],\\n            [10, 1]]\\nnumber2d.sort(reverse=True)\\nnumber2d',\n",
       " '_140': [[10, 1], [9, 9], [1, 100]],\n",
       " '_i141': 'number2d = [[9, 9],\\n            [1, 100],\\n            [10, 1]]\\nnumber2d.sort(reverse=True)\\nnumber2d',\n",
       " '_141': [[10, 1], [9, 9], [1, 100]],\n",
       " '_i142': 'sum(number2d[0])',\n",
       " '_142': 11,\n",
       " '_i143': 'number2d.sort(sum(*number2d))',\n",
       " '_i144': '*number2d',\n",
       " '_i145': 'a = *number2d',\n",
       " '_i146': 'number2d = [[9, 9],\\n            [1, 100],\\n            [10, 1]]\\nnumber2d.sort(key=sum(number2d), reverse=True)\\nnumber2d',\n",
       " '_i147': 'number2d = [[9, 9],\\n            [1, 100],\\n            [10, 1]]\\nnumber2d.sort(key=sum(number2d.items), reverse=True)\\nnumber2d',\n",
       " '_i148': 'number2d = [[9, 9],\\n            [1, 100],\\n            [10, 1]]\\nnumber2d.sort(key=sum(number2d.items()), reverse=True)\\nnumber2d',\n",
       " '_i149': 'number2d = [[9, 9],\\n            [1, 100],\\n            [10, 1]]\\nnumber2d.sort(reverse=True)\\nnumber2d',\n",
       " '_149': [[10, 1], [9, 9], [1, 100]],\n",
       " '_i150': \"pairs = [(2, 'two'), (1, 'one'), (4, 'four'), (3, 'three')]\\npairs.sort()\\npairs\",\n",
       " 'pairs': [(4, 'four'), (1, 'one'), (3, 'three'), (2, 'two')],\n",
       " '_150': [(1, 'one'), (2, 'two'), (3, 'three'), (4, 'four')],\n",
       " '_i151': 'p = [9, 2, 7]\\np.sort(reverse=True)\\np',\n",
       " '_151': [9, 7, 2],\n",
       " '_i152': \"# 무조건 0번째 item 기준으로 정렬\\npairs = [(2, 'two'), (1, 'one'), (4, 'four'), (3, 'three')]\\npairs.sort()\\npairs\",\n",
       " '_152': [(1, 'one'), (2, 'two'), (3, 'three'), (4, 'four')],\n",
       " '_i153': \"# 무조건 0번째 item 기준으로 정렬\\npairs = [(2, 'two'), (1, 'one'), (4, 'four'), (3, 'three')]\\npairs.sort()\\npairs\",\n",
       " '_153': [(4, 'four'), (1, 'one'), (3, 'three'), (2, 'two')],\n",
       " '_i154': '# 1번째 item 기준으로 정렬()',\n",
       " '_i155': '# 1번째 item 기준으로 정렬(abc순)\\npairs.sort(key=lambda pair : pair[1])',\n",
       " '_i156': '# 1번째 item 기준으로 정렬(abc순)\\npairs.sort(key=lambda pair : pair[1])\\npairs',\n",
       " '_156': [(4, 'four'), (1, 'one'), (3, 'three'), (2, 'two')],\n",
       " '_i157': '# 무조건 0번째 item 기준으로 정렬\\nnumber2d = [[9, 9],\\n            [1, 100],\\n            [10, 1]]\\nnumber2d.sort(reverse=True)\\nnumber2d',\n",
       " '_157': [[1, 100], [9, 9], [10, 1]],\n",
       " '_i158': '# 합이 큰 순으로 정렬\\nnumber2d.sort()',\n",
       " '_i159': '# 합이 큰 순으로 정렬\\nnumber2d.sort(key=lambda x : sum(x))',\n",
       " '_i160': '# 합이 큰 순으로 정렬\\nnumber2d.sort(key=lambda x : sum(x))\\nnumber2d',\n",
       " '_160': [[1, 100], [9, 9], [10, 1]],\n",
       " '_i161': '# 합이 큰 순으로 정렬\\nnumber2d.sort(key=lambda item : sum(item) for item in items)\\nnumber2d',\n",
       " '_i162': '# 합이 큰 순으로 정렬\\nnumber2d.sort(key=(lambda item : sum(item) for item in items))\\nnumber2d',\n",
       " '_i163': '# 합이 큰 순으로 정렬\\nnumber2d.sort(key=(lambda item : sum(item) for item in number2d))\\nnumber2d',\n",
       " '_i164': '# 합이 큰 순으로 정렬\\nnumber2d.sort(key=lambda item : sum(item))\\nnumber2d',\n",
       " '_164': [[1, 100], [9, 9], [10, 1]],\n",
       " '_i165': '# 합이 큰 순으로 정렬\\nnumber2d.sort(key=lambda item : sum(item), reverse=True)\\nnumber2d',\n",
       " '_165': [[1, 100], [9, 9], [10, 1]],\n",
       " '_i166': '# 리스트를 매개변수로 받아 합을 return\\n(lambda item : sum(item))([1,2,3])',\n",
       " '_166': 6,\n",
       " '_i167': '# 리스트를 매개변수로 받아 합을 return\\n(lambda item : sum(item))([1,2,3])',\n",
       " '_167': 6,\n",
       " '_i168': '# 합이 큰 순으로 정렬\\nnumber2d.sort(key=lambda item : sum(item), reverse=True)\\nnumber2d\\ndef fun(item):\\n    return sum(item)',\n",
       " 'fun': <function __main__.fun(item)>,\n",
       " '_i169': 'students = [\\n    {\"name\":\"홍길동\", \"score\":90},\\n    {\"name\":\"김길동\", \"score\":50},\\n    {\"name\":\"박길동\", \"score\":99},    \\n]\\nsutdnets.sort(key=lambda student : student[0])',\n",
       " 'students': [{'score': 100},\n",
       "  {'name': '박길동', 'score': 99},\n",
       "  {'name': '홍길동', 'score': 90},\n",
       "  {'name': '김길동', 'score': 50}],\n",
       " '_i170': 'students = [\\n    {\"name\":\"홍길동\", \"score\":90},\\n    {\"name\":\"김길동\", \"score\":50},\\n    {\"name\":\"박길동\", \"score\":99},    \\n]\\nstudents.sort(key=lambda student : student[0])',\n",
       " '_i171': 'students = [\\n    {\"name\":\"홍길동\", \"score\":90},\\n    {\"name\":\"김길동\", \"score\":50},\\n    {\"name\":\"박길동\", \"score\":99},    \\n]\\nstudents.sort(key=lambda student : student(\"name\"))',\n",
       " '_i172': 'students = [\\n    {\"name\":\"홍길동\", \"score\":90},\\n    {\"name\":\"김길동\", \"score\":50},\\n    {\"name\":\"박길동\", \"score\":99},    \\n]\\nstudents.sort(key=lambda student : student(name).value)',\n",
       " '_i173': 'students = [\\n    {\"name\":\"홍길동\", \"score\":90},\\n    {\"name\":\"김길동\", \"score\":50},\\n    {\"name\":\"박길동\", \"score\":99},    \\n]\\nstudents.sort(key=lambda student : student(\"name\").value)',\n",
       " '_i174': 'students = [\\n    {\"name\":\"홍길동\", \"score\":90},\\n    {\"name\":\"김길동\", \"score\":50},\\n    {\"name\":\"박길동\", \"score\":99},    \\n]\\nstudents.sort(key=lambda student : student(\"name\").value())',\n",
       " '_i175': 'students = [\\n    {\"name\":\"홍길동\", \"score\":90},\\n    {\"name\":\"김길동\", \"score\":50},\\n    {\"name\":\"박길동\", \"score\":99},    \\n]\\nstudents.sort(key=lambda student : student[\"name\"].value())',\n",
       " '_i176': 'students = [\\n    {\"name\":\"홍길동\", \"score\":90},\\n    {\"name\":\"김길동\", \"score\":50},\\n    {\"name\":\"박길동\", \"score\":99},    \\n]\\nstudents.sort(key=lambda student : student[\"name\"])',\n",
       " '_i177': 'students = [\\n    {\"name\":\"홍길동\", \"score\":90},\\n    {\"name\":\"김길동\", \"score\":50},\\n    {\"name\":\"박길동\", \"score\":99},    \\n]\\nstudents.sort(key=lambda student : student[\"name\"])\\nstudents',\n",
       " '_177': [{'name': '박길동', 'score': 99},\n",
       "  {'name': '홍길동', 'score': 90},\n",
       "  {'name': '김길동', 'score': 50}],\n",
       " '_i178': '# score 순으로 정렬(내림차순 정렬)\\nstudents.sort(key=lambda student : studnet[\"score\"], reverse=True)',\n",
       " '_i179': '# score 순으로 정렬(내림차순 정렬)\\nstudents.sort(key=lambda student : studnet[\"score\"])',\n",
       " '_i180': '# score 순으로 정렬(내림차순 정렬)\\nstudents.sort(key=lambda student : student[\"score\"], reverse=True)',\n",
       " '_i181': '# score 순으로 정렬(내림차순 정렬)\\nstudents.sort(key=lambda student : student[\"score\"], reverse=True)\\nstudents',\n",
       " '_181': [{'name': '박길동', 'score': 99},\n",
       "  {'name': '홍길동', 'score': 90},\n",
       "  {'name': '김길동', 'score': 50}],\n",
       " '_i182': '# 이름순으로 정렬(ㄱ ㄴ ㄷ 순)\\nstudents = [\\n    {\"name\":\"홍길동\", \"score\":90},\\n    {\"name\":\"김길동\", \"score\":50},\\n    {\"name\":\"박길동\", \"score\":99},\\n    {\\'score\\':100}\\n]\\nstudents.sort(key=lambda student : student[\"name\"])\\nstudents',\n",
       " '_i183': '# 이름순으로 정렬(ㄱ ㄴ ㄷ 순)\\nstudents = [\\n    {\"name\":\"홍길동\", \"score\":90},\\n    {\"name\":\"김길동\", \"score\":50},\\n    {\"name\":\"박길동\", \"score\":99},\\n    {\\'score\\':100}\\n]\\nstudents.sort(key=lambda student : student[\"name\"].value())\\nstudents',\n",
       " '_i184': '# 이름순으로 정렬(ㄱ ㄴ ㄷ 순)\\nstudents = [\\n    {\"name\":\"홍길동\", \"score\":90},\\n    {\"name\":\"김길동\", \"score\":50},\\n    {\"name\":\"박길동\", \"score\":99},\\n    {\\'score\\':100}\\n]\\nstudents.sort(key=lambda student : student[\"name\"])\\nstudents',\n",
       " '_i185': '# 이름순으로 정렬(ㄱ ㄴ ㄷ 순)\\nstudents = [\\n    {\"name\":\"홍길동\", \"score\":90},\\n    {\"name\":\"김길동\", \"score\":50},\\n    {\"name\":\"박길동\", \"score\":99},\\n    {\\'score\\':100}\\n]\\nstudents.sort(key=lambda student=\"\" : student[\"name\"])\\nstudents',\n",
       " '_i186': '# 이름순으로 정렬(ㄱ ㄴ ㄷ 순)\\nstudents = [\\n    {\"name\":\"홍길동\", \"score\":90},\\n    {\"name\":\"김길동\", \"score\":50},\\n    {\"name\":\"박길동\", \"score\":99},\\n    {\\'score\\':100}\\n]\\nstudents.sort(key=lambda (student=\"test\") : student[\"name\"])\\nstudents',\n",
       " '_i187': '# 이름순으로 정렬(ㄱ ㄴ ㄷ 순)\\nstudents = [\\n    {\"name\":\"홍길동\", \"score\":90},\\n    {\"name\":\"김길동\", \"score\":50},\\n    {\"name\":\"박길동\", \"score\":99},\\n    {\\'score\\':100}\\n]\\nstudents.sort(key=lambda student : student[\"name\"])\\nstudents',\n",
       " '_i188': '# 이름순으로 정렬(ㄱ ㄴ ㄷ 순)\\nstudents = [\\n    {\"name\":\"홍길동\", \"score\":90},\\n    {\"name\":\"김길동\", \"score\":50},\\n    {\"name\":\"박길동\", \"score\":99},\\n]\\nstudents.sort(key=lambda student : student[\"name\"])\\nstudents',\n",
       " '_188': [{'name': '김길동', 'score': 50},\n",
       "  {'name': '박길동', 'score': 99},\n",
       "  {'name': '홍길동', 'score': 90}],\n",
       " '_i189': '# 이름순으로 정렬(ㄱ ㄴ ㄷ 순)\\nstudents = [\\n    {\"name\":\"홍길동\", \"score\":90},\\n    {\"name\":\"김길동\", \"score\":50},\\n    {\"name\":\"박길동\", \"score\":99},\\n    {\"score\":100}\\n]\\nstudents.sort(key=lambda student : student.get(\"name\"))\\nstudents',\n",
       " '_i190': '# score 순으로 정렬(내림차순 정렬)\\nstudents.sort(key=lambda student : student.get(\"score\"), reverse=True)\\nstudents',\n",
       " '_190': [{'score': 100},\n",
       "  {'name': '박길동', 'score': 99},\n",
       "  {'name': '홍길동', 'score': 90},\n",
       "  {'name': '김길동', 'score': 50}],\n",
       " '_i191': '# 이름순으로 정렬(ㄱ ㄴ ㄷ 순)\\nstudents = [\\n    {\"name\":\"홍길동\", \"score\":90},\\n    {\"name\":\"김길동\", \"score\":50},\\n    {\"name\":\"박길동\", \"score\":99},\\n    {\"score\":100}\\n]\\nstudents.sort(key=lambda student : str(student.get(\"name\")))\\nstudents',\n",
       " '_191': [{'score': 100},\n",
       "  {'name': '김길동', 'score': 50},\n",
       "  {'name': '박길동', 'score': 99},\n",
       "  {'name': '홍길동', 'score': 90}],\n",
       " '_i192': '# 이름순으로 정렬(ㄱ ㄴ ㄷ 순)\\nstudents = [\\n    {\"name\":\"홍길동\", \"score\":90},\\n    {\"name\":\"김길동\", \"score\":50},\\n    {\"name\":\"박길동\", \"score\":99},\\n    {\"score\":100}\\n]\\nstudents.sort(key=lambda student : student.get(\"name\", \\'힣\\'))\\nstudents',\n",
       " '_192': [{'name': '김길동', 'score': 50},\n",
       "  {'name': '박길동', 'score': 99},\n",
       "  {'name': '홍길동', 'score': 90},\n",
       "  {'score': 100}],\n",
       " '_i193': '# 이름순으로 정렬(ㄱ ㄴ ㄷ 순)\\nstudents = [\\n    {\"name\":\"홍길동\", \"score\":90},\\n    {\"name\":\"김길동\", \"score\":50},\\n    {\"name\":\"박길동\", \"score\":99},\\n    {\"score\":100}\\n]\\nstudents.sort(key=lambda student : student.get(\"name\", \\'힣\\'))\\nstudents',\n",
       " '_193': [{'score': 100},\n",
       "  {'name': '박길동', 'score': 99},\n",
       "  {'name': '홍길동', 'score': 90},\n",
       "  {'name': '김길동', 'score': 50}],\n",
       " '_i194': '# score 순으로 정렬(내림차순 정렬)\\nstudents.sort(key=lambda item : item.get(\"score\", 0), reverse=True) # 결측치를 0으로 세팅.\\nstudents',\n",
       " '_194': [{'score': 100},\n",
       "  {'name': '박길동', 'score': 99},\n",
       "  {'name': '홍길동', 'score': 90},\n",
       "  {'name': '김길동', 'score': 50}],\n",
       " '_i195': \"# 책 제목순 정렬(ㄱ ㄴ ㄷ 순), 저자순 정렬(ㄱ ㄴ ㄷ 순), 가격순 오름차순 정렬\\nbooks = [\\n    {'no':1, 'title':'강남 아파트 인사이트', 'writer':'오스틀', 'price':'25,000'},\\n    {'no':2, 'title':'단 한 번의 삶', 'writer':'김영하', 'price':'18,100'},\\n    {'no':3, 'title':'흔한 남매 19', 'writer':'백난도', 'price':'14,220'},\\n    {'no':4, 'title':'가격이 잘못', 'writer':'홍길동', 'price':'-'},\\n    {'no':5, 'title':'가격이 숫자', 'writer':'신길동', 'price':900},\\n    {'no':6, 'title':'가격이 없음', 'writer':'김길동'},\\n]\",\n",
       " 'books': [{'no': 1,\n",
       "   'title': '강남 아파트 인사이트',\n",
       "   'writer': '오스틀',\n",
       "   'price': '25,000'},\n",
       "  {'no': 2, 'title': '단 한 번의 삶', 'writer': '김영하', 'price': '18,100'},\n",
       "  {'no': 3, 'title': '흔한 남매 19', 'writer': '백난도', 'price': '14,220'},\n",
       "  {'no': 4, 'title': '가격이 잘못', 'writer': '홍길동', 'price': '-'},\n",
       "  {'no': 5, 'title': '가격이 숫자', 'writer': '신길동', 'price': 900},\n",
       "  {'no': 6, 'title': '가격이 없음', 'writer': '김길동'}],\n",
       " '_i196': \"books.sort(key = lambda book : book.get('title'))\\nbooks\",\n",
       " '_196': [{'no': 6, 'title': '가격이 없음', 'writer': '김길동'},\n",
       "  {'no': 2, 'title': '단 한 번의 삶', 'writer': '김영하', 'price': '18,100'},\n",
       "  {'no': 3, 'title': '흔한 남매 19', 'writer': '백난도', 'price': '14,220'},\n",
       "  {'no': 5, 'title': '가격이 숫자', 'writer': '신길동', 'price': 900},\n",
       "  {'no': 1, 'title': '강남 아파트 인사이트', 'writer': '오스틀', 'price': '25,000'},\n",
       "  {'no': 4, 'title': '가격이 잘못', 'writer': '홍길동', 'price': '-'}],\n",
       " '_i197': \"books.sort(key = lambda book : book.get('writer'))\\nbooks\",\n",
       " '_197': [{'no': 6, 'title': '가격이 없음', 'writer': '김길동'},\n",
       "  {'no': 2, 'title': '단 한 번의 삶', 'writer': '김영하', 'price': '18,100'},\n",
       "  {'no': 3, 'title': '흔한 남매 19', 'writer': '백난도', 'price': '14,220'},\n",
       "  {'no': 5, 'title': '가격이 숫자', 'writer': '신길동', 'price': 900},\n",
       "  {'no': 1, 'title': '강남 아파트 인사이트', 'writer': '오스틀', 'price': '25,000'},\n",
       "  {'no': 4, 'title': '가격이 잘못', 'writer': '홍길동', 'price': '-'}],\n",
       " '_i198': \"# '14,000' -> 14000 / 800 -> 800 / '-' -> 0\\ndef parse_int(price) :\\n    print(type(price))\\n\\nparse_int(800)\",\n",
       " 'parse_int': <function __main__.parse_int(book)>,\n",
       " '_i199': \"# '14,000' -> 14000 / 800 -> 800 / '-' -> 0\\ndef parse_int(price) :\\n#     print(type(price))\\n    if isinstance(price, int) :\\n        return price\\n\\nparse_int(800)\",\n",
       " '_199': 800,\n",
       " '_i200': \"# '14,000' -> 14000 / 800 -> 800 / '-' -> 0\\ndef parse_int(price) :\\n#   print(type(price))\\n    if isinstance(price, int) :\\n        return price\\n    ]\\nparse_int(800)\",\n",
       " '_i201': \"# '14,000' -> 14000 / 800 -> 800 / '-' -> 0\\ndef parse_int(price) :\\n#   print(type(price))\\n    if isinstance(price, int) :\\n        return price\\n    \\nparse_int(800)\",\n",
       " '_201': 800,\n",
       " '_i202': '# \\'14,000\\' -> 14000 / \"2000\" -> 2000 / 800 -> 800 / \\'-\\' -> 0\\ndef parse_int(price) :\\n#   print(type(price))\\n    if isinstance(price, str)\\n        return int(price.replace(\\',\\', \\'\\'))\\n    elif isinstance(price, int) :\\n        return price\\nparse_int(800)',\n",
       " '_i203': '# \\'14,000\\' -> 14000 / \"2000\" -> 2000 / 800 -> 800 / \\'-\\' -> 0\\ndef parse_int(price) :\\n#   print(type(price))\\n    if isinstance(price, str) & price.replace(\\',\\', \\'\\').isdigit() :\\n        return int(price.replace(\\',\\', \\'\\'))\\n    elif isinstance(price, int) :\\n        return price\\nparse_int(800)',\n",
       " '_i204': '# \\'14,000\\' -> 14000 / \"2000\" -> 2000 / 800 -> 800 / \\'-\\' -> 0\\ndef parse_int(price) :\\n#   print(type(price))\\n    if price.replace(\\',\\', \\'\\').isdigit() :\\n        return int(price.replace(\\',\\', \\'\\'))\\n    elif isinstance(price, int) :\\n        return price\\nparse_int(800)',\n",
       " '_i205': '# \\'14,000\\' -> 14000 / \"2000\" -> 2000 / 800 -> 800 / \\'-\\' -> 0\\ndef parse_int(price) :\\n#   print(type(price))\\n    if isinstance(price, str) & price.replace(\\',\\', \\'\\').isdigit() :\\n        return int(price.replace(\\',\\', \\'\\'))\\n    elif isinstance(price, int) :\\n        return price\\nparse_int(800)',\n",
       " '_i206': '# \\'14,000\\' -> 14000 / \"2000\" -> 2000 / 800 -> 800 / \\'-\\' -> 0\\ndef parse_int(price) :\\n#   print(type(price))\\n    if isinstance(price, str) and price.replace(\\',\\', \\'\\').isdigit() :\\n        return int(price.replace(\\',\\', \\'\\'))\\n    elif isinstance(price, int) :\\n        return price\\nparse_int(800)',\n",
       " '_206': 800,\n",
       " '_i207': '# \\'14,000\\' -> 14000 / \"2000\" -> 2000 / 800 -> 800 / \\'-\\' -> 0\\ndef parse_int(price) :\\n#   print(type(price))\\n    if isinstance(price, str) && price.replace(\\',\\', \\'\\').isdigit() :\\n        return int(price.replace(\\',\\', \\'\\'))\\n    elif isinstance(price, int) :\\n        return price\\nparse_int(800)',\n",
       " '_i208': '# \\'14,000\\' -> 14000 / \"2000\" -> 2000 / 800 -> 800 / \\'-\\' -> 0\\ndef parse_int(price) :\\n#   print(type(price))\\n    if isinstance(price, str) & price.replace(\\',\\', \\'\\').isdigit() :\\n        return int(price.replace(\\',\\', \\'\\'))\\n    elif isinstance(price, int) :\\n        return price\\nparse_int(800)',\n",
       " '_i209': '# \\'14,000\\' -> 14000 / \"2000\" -> 2000 / 800 -> 800 / \\'-\\' -> 0\\ndef parse_int(price) :\\n#   print(type(price))\\n    if isinstance(price, str) and price.replace(\\',\\', \\'\\').isdigit() :\\n        return int(price.replace(\\',\\', \\'\\'))\\n    elif isinstance(price, int) :\\n        return price\\nparse_int(800)',\n",
       " '_209': 800,\n",
       " '_i210': '# \\'14,000\\' -> 14000 / \"2000\" -> 2000 / 800 -> 800 / \\'-\\' -> 0\\ndef parse_int(price) :\\n#   print(type(price))\\n    if isinstance(price, str) and price.replace(\\',\\', \\'\\').isdigit() :\\n        return int(price.replace(\\',\\', \\'\\'))\\n    elif isinstance(price, int) :\\n        return price\\nparse_int(\"8009\")',\n",
       " '_210': 8009,\n",
       " '_i211': 'parse_int(\"8,000\"), parse_int(\"8000\"), parse_inte(800), parse_int(-)',\n",
       " '_i212': 'parse_int(\"8,000\"), parse_int(\"8000\"), parse_inte(800), parse_int(\"-\")',\n",
       " '_i213': 'parse_int(\"8,000\"), parse_int(\"8000\"), parse_int(800), parse_int(\"-\")',\n",
       " '_213': (8000, 8000, 800, None),\n",
       " '_i214': '# \\'14,000\\' -> 14000 / \"2000\" -> 2000 / 800 -> 800 / \\'-\\' -> 0\\ndef parse_int(price) :\\n#   print(type(price))\\n    if isinstance(price, str) and price.replace(\\',\\', \\'\\').isdigit() :\\n        return int(price.replace(\\',\\', \\'\\'))\\n    elif isinstance(price, int) :\\n        return 0\\nparse_int(\"8009\")',\n",
       " '_214': 8009,\n",
       " '_i215': 'parse_int(\"8,000\"), parse_int(\"8000\"), parse_int(800), parse_int(\"-\")',\n",
       " '_215': (8000, 8000, 0, None),\n",
       " '_i216': '# \\'14,000\\' -> 14000 / \"2000\" -> 2000 / 800 -> 800 / \\'-\\' -> 0\\ndef parse_int(price) :\\n#   print(type(price))\\n    if isinstance(price, str) and price.replace(\\',\\', \\'\\').isdigit() :\\n        return int(price.replace(\\',\\', \\'\\'))\\n    elif isinstance(price, int) :\\n        return price\\n    else(0)\\nparse_int(\"8009\")',\n",
       " '_i217': 'parse_int(\"8,000\"), parse_int(\"8000\"), parse_int(800), parse_int(\"-\")',\n",
       " '_217': (8000, 8000, 0, None),\n",
       " '_i218': '# \\'14,000\\' -> 14000 / \"2000\" -> 2000 / 800 -> 800 / \\'-\\' -> 0\\ndef parse_int(price) :\\n#   print(type(price))\\n    if isinstance(price, str) and price.replace(\\',\\', \\'\\').isdigit() :\\n        return int(price.replace(\\',\\', \\'\\'))\\n    elif isinstance(price, int) :\\n        return price\\n    else:        (0)\\nparse_int(\"8009\")',\n",
       " '_218': 8009,\n",
       " '_i219': \"# {'no': 6, 'title': '가격이 없음', 'writer': '김길동'},s\\n# {no': 3, 'title': '흔한 남매 19', 'writer': '백난도', 'price': '14,220'} => 14220\\n# {'no': 5, 'title': '가격이 숫자', 'writer': '신길동', 'price': 900} => 900\",\n",
       " '_i220': \"def parse_int(book) : \\n    if isinstance(book.get('price'), str) and \\\\\\n        book.get('price').replace(',', '').isdigit() :\\n        return int( book.get('price').replace(',', '') )\\n    elif isinstance(book.get('price'), int) :\\n        return book.get('price')\\n    else:\\n        return 0\\nparse_int(books[0])\",\n",
       " '_220': 0,\n",
       " '_i221': \"def parse_int(book) : \\n    if isinstance(book.get('price'), str) and \\\\\\n        book.get('price').replace(',', '').isdigit() :\\n        return int( book.get('price').replace(',', '') )\\n    elif isinstance(book.get('price'), int) :\\n        return book.get('price')\\n    else:\\n        return 0\\nparse_int(books[5])\",\n",
       " '_221': 0,\n",
       " '_i222': \"def parse_int(book) : \\n    if isinstance(book.get('price'), str) and \\\\\\n            book.get('price').replace(',', '').isdigit() :\\n        return int( book.get('price').replace(',', '') )\\n    elif isinstance(book.get('price'), int) :\\n        return book.get('price')\\n    else:\\n        return 0\\nparse_int(books[5]), parse_int(books[3])\",\n",
       " '_222': (0, 900),\n",
       " '_i223': \"def parse_int(book) : \\n    if isinstance(book.get('price'), str) and \\\\\\n            book.get('price').replace(',', '').isdigit() :\\n        return int( book.get('price').replace(',', '') )\\n    elif isinstance(book.get('price'), int) :\\n        return book.get('price')\\n    else:\\n        return 0\\nparse_int(books[5]), parse_int(books[3]), parse_int(books[0])\",\n",
       " '_223': (0, 900, 0),\n",
       " '_i224': \"def parse_int(book) : \\n    if isinstance(book.get('price'), str) and \\\\\\n            book.get('price').replace(',', '').isdigit() :\\n        return int( book.get('price').replace(',', '') )\\n    elif isinstance(book.get('price'), int) :\\n        return book.get('price')\\n    else:\\n        return 0\\nparse_int(books[5]), parse_int(books[3]), parse_int(books[0]), parse_int(books[4])\",\n",
       " '_224': (0, 900, 0, 25000),\n",
       " '_i225': \"books = [\\n    {'no':1, 'title':'강남 아파트 인사이트', 'writer':'오스틀', 'price':'25,000'},\\n    {'no':2, 'title':'단 한 번의 삶', 'writer':'김영하', 'price':'18,100'},\\n    {'no':3, 'title':'흔한 남매 19', 'writer':'백난도', 'price':'14,220'},\\n    {'no':4, 'title':'가격이 잘못', 'writer':'홍길동', 'price':'-'},\\n    {'no':5, 'title':'가격이 숫자', 'writer':'신길동', 'price':900},\\n    {'no':6, 'title':'가격이 없음', 'writer':'김길동'},\\n]\\ncopy_books = books.copy()\",\n",
       " 'copy_books': [{'no': 4, 'title': '가격이 잘못', 'writer': '홍길동', 'price': '-'},\n",
       "  {'no': 6, 'title': '가격이 없음', 'writer': '김길동'},\n",
       "  {'no': 5, 'title': '가격이 숫자', 'writer': '신길동', 'price': 900},\n",
       "  {'no': 3, 'title': '흔한 남매 19', 'writer': '백난도', 'price': '14,220'},\n",
       "  {'no': 2, 'title': '단 한 번의 삶', 'writer': '김영하', 'price': '18,100'},\n",
       "  {'no': 1, 'title': '강남 아파트 인사이트', 'writer': '오스틀', 'price': '25,000'}],\n",
       " '_i226': \"def parse_int(book) : \\n    if isinstance(book.get('price'), str) and \\\\\\n            book.get('price').replace(',', '').isdigit() :\\n        return int( book.get('price').replace(',', '') )\\n    elif isinstance(book.get('price'), int) :\\n        return book.get('price')\\n    else:\\n        return 0\\nparse_int(books[5]), parse_int(books[3]), parse_int(books[0]), parse_int(books[4])\",\n",
       " '_226': (0, 0, 25000, 900),\n",
       " '_i227': \"copy_books.sort(key=lambda book : \\n                            int( book.get('price').replace(',', '') \\\\\\n                            if isinstance(book.get('price'), str) and \\\\\\n                                    book.get('price').replace(',', '').isdigit() else \\\\\\n                                book.get('price') if isinstance(book.get('price'), int) else\\\\\\n                                0 , books\\n                                     ))\",\n",
       " '_i228': \"copy_books.sort(key=lambda book : \\n                            int( book.get('price').replace(',', '') \\\\\\n                            if isinstance(book.get('price'), str) and \\\\\\n                                    book.get('price').replace(',', '').isdigit() else \\\\\\n                                book.get('price') if isinstance(book.get('price'), int) else\\\\\\n                                0 ,\\n                                     ))\",\n",
       " '_i229': \"copy_books.sort(key=lambda book : \\n                            int( book.get('price').replace(',', '')) \\\\\\n                            if isinstance(book.get('price'), str) and \\\\\\n                                    book.get('price').replace(',', '').isdigit() else \\\\\\n                                book.get('price') if isinstance(book.get('price'), int) else\\\\\\n                                0 ,\\n                                     )\",\n",
       " '_i230': 'copy_books',\n",
       " '_230': [{'no': 4, 'title': '가격이 잘못', 'writer': '홍길동', 'price': '-'},\n",
       "  {'no': 6, 'title': '가격이 없음', 'writer': '김길동'},\n",
       "  {'no': 5, 'title': '가격이 숫자', 'writer': '신길동', 'price': 900},\n",
       "  {'no': 3, 'title': '흔한 남매 19', 'writer': '백난도', 'price': '14,220'},\n",
       "  {'no': 2, 'title': '단 한 번의 삶', 'writer': '김영하', 'price': '18,100'},\n",
       "  {'no': 1, 'title': '강남 아파트 인사이트', 'writer': '오스틀', 'price': '25,000'}],\n",
       " '_i231': 'books',\n",
       " '_231': [{'no': 1,\n",
       "   'title': '강남 아파트 인사이트',\n",
       "   'writer': '오스틀',\n",
       "   'price': '25,000'},\n",
       "  {'no': 2, 'title': '단 한 번의 삶', 'writer': '김영하', 'price': '18,100'},\n",
       "  {'no': 3, 'title': '흔한 남매 19', 'writer': '백난도', 'price': '14,220'},\n",
       "  {'no': 4, 'title': '가격이 잘못', 'writer': '홍길동', 'price': '-'},\n",
       "  {'no': 5, 'title': '가격이 숫자', 'writer': '신길동', 'price': 900},\n",
       "  {'no': 6, 'title': '가격이 없음', 'writer': '김길동'}],\n",
       " '_i232': \"copy_books.sort(key=lambda book : \\n                            int( book.get('price').replace(',', '')) \\\\\\n                            if isinstance(book.get('price'), str) and \\\\\\n                                    book.get('price').replace(',', '').isdigit() else \\\\\\n                                book.get('price') if isinstance(book.get('price'), int) else\\\\\\n                                0 ,\\n                                     )\",\n",
       " '_i233': \"(lambda book : \\n                            int( book.get('price').replace(',', '')) \\\\\\n                            if isinstance(book.get('price'), str) and \\\\\\n                                    book.get('price').replace(',', '').isdigit() else \\\\\\n                                book.get('price') if isinstance(book.get('price'), int) else\\\\\\n                                0 ,\\n                                     )(books[0])\",\n",
       " '_i234': \"(lambda book : \\n                            int( book.get('price').replace(',', '')) \\\\\\n                            if isinstance(book.get('price'), str) and \\\\\\n                                    book.get('price').replace(',', '').isdigit() else \\\\\\n                                book.get('price') if isinstance(book.get('price'), int) else\\\\\\n                                0 \\n                                     )(books[0])\",\n",
       " '_234': 25000,\n",
       " '_i235': '# 함수를 return\\ndef make_box(shape): # shape :[l] => len가 l인 list를 생성하는 함수 return, [r, c], [d, r, c]\\n                    #        [r, c] => r행 c열인 list를 생헝하는 함수 return\\n    def box(init_value) :\\n        if len(shape)==1 :\\n            return [init_value]*shape[0]\\n        elif len(shape)==2:\\n            return [ [init_value] * shape[1] ] * shape[0]\\n    return box',\n",
       " 'make_box': <function __main__.make_box(shape)>,\n",
       " '_i236': 'line_func = make_box([2,3])\\nline_func(3)',\n",
       " 'line_func': <function __main__.make_box.<locals>.box(init_value)>,\n",
       " '_236': [[3, 3, 3], [3, 3, 3]],\n",
       " '_i237': 'line_func1 = make_box([10])\\nline_func1(3)',\n",
       " 'line_func1': <function __main__.make_box.<locals>.box(init_value)>,\n",
       " '_237': [3, 3, 3, 3, 3, 3, 3, 3, 3, 3],\n",
       " '_i238': '# 함수를 return\\ndef make_box(shape): # shape :[l] => len가 l인 list를 생성하는 함수 return, [r, c], [d, r, c]\\n                    #        [r, c] => r행 c열인 list를 생헝하는 함수 return\\n    def box(init_value) :\\n        if len(shape)==1 :\\n            return [init_value]*shape[0]\\n        elif len(shape)==2:\\n            return [ [init_value] * shape[1] ] * shape[0]\\n    return box',\n",
       " '_i239': '# 함수를 return\\ndef make_box(shape): # shape :[l] => len가 l인 list를 생성하는 함수 return, [r, c], [d, r, c]\\n                    #        [r, c] => r행 c열인 list를 생헝하는 함수 return\\n    def box(init_value) :\\n        if len(shape)==1 :\\n            return [init_value]*shape[0]\\n        elif len(shape)==2:\\n            return [ [init_value] * shape[1] ] * shape[0]\\n    return box',\n",
       " '_i240': 'def make_box(shape):\\n    if len(shape) == 1:\\n        return lambda init_value',\n",
       " '_i241': 'def make_box(shape):\\n    if len(shape) == 1:\\n        return lambda init_value : [init_value]*shape[0]\\n    else len(shape)==2:\\n        return lambda init_value : [ [init_value]*shape[1] ] * shape[0]',\n",
       " '_i242': 'def make_box(shape):\\n    if len(shape) == 1:\\n        return lambda init_value : [init_value]*shape[0]\\n    elif len(shape)==2:\\n        return lambda init_value : [ [init_value]*shape[1] ] * shape[0]',\n",
       " '_i243': 'globlas()',\n",
       " '_i244': 'globals()'}"
      ]
     },
     "execution_count": 244,
     "metadata": {},
     "output_type": "execute_result"
    }
   ],
   "source": [
    "globals() # 전역변수 리스트"
   ]
  },
  {
   "cell_type": "code",
   "execution_count": 246,
   "id": "1862da98",
   "metadata": {},
   "outputs": [
    {
     "data": {
      "text/plain": [
       "False"
      ]
     },
     "execution_count": 246,
     "metadata": {},
     "output_type": "execute_result"
    }
   ],
   "source": [
    "all([True, True, True, False]) # 전부 True 인지 여부 - pandas에서 사용함"
   ]
  },
  {
   "cell_type": "code",
   "execution_count": 247,
   "id": "f982ebdb",
   "metadata": {},
   "outputs": [
    {
     "data": {
      "text/plain": [
       "4"
      ]
     },
     "execution_count": 247,
     "metadata": {},
     "output_type": "execute_result"
    }
   ],
   "source": [
    "round(3.5) # 반올림"
   ]
  },
  {
   "cell_type": "code",
   "execution_count": 250,
   "id": "0e18689f",
   "metadata": {},
   "outputs": [
    {
     "data": {
      "text/plain": [
       "(4.0, 4.0, 3.0)"
      ]
     },
     "execution_count": 250,
     "metadata": {},
     "output_type": "execute_result"
    }
   ],
   "source": [
    "import numpy as np # numpy 모듈을 np라는 이름으로 load\n",
    "np.round(3.5), np.ceil(3.3), np.floor(3.9)"
   ]
  },
  {
   "cell_type": "markdown",
   "id": "09bd8f44",
   "metadata": {},
   "source": [
    "# 6절. 연습문제\n",
    "## 실습형"
   ]
  },
  {
   "cell_type": "code",
   "execution_count": 251,
   "id": "3f08a866",
   "metadata": {},
   "outputs": [
    {
     "data": {
      "text/plain": [
       "(7, 1)"
      ]
     },
     "execution_count": 251,
     "metadata": {},
     "output_type": "execute_result"
    }
   ],
   "source": [
    "# 1.\n",
    "# 함수의 인자로 리스트를 받은 후 리스트 내에 있는 모든 정수값에 대한 최대값과 최소값을 리턴하는 함수를 작성하세요\n",
    "# def get_max_min(data_list):\n",
    "# get_max_min= lambda ~\n",
    "def get_max_min(data_list) :\n",
    "    return max(data_list), min(data_list)\n",
    "\n",
    "get_max_min= lambda data_list : (max(data_list), min(data_list))\n",
    "get_max_min([1,2,3,4,5,6,7])"
   ]
  },
  {
   "cell_type": "code",
   "execution_count": 265,
   "id": "33170f70",
   "metadata": {},
   "outputs": [
    {
     "data": {
      "text/plain": [
       "'표준'"
      ]
     },
     "execution_count": 265,
     "metadata": {},
     "output_type": "execute_result"
    }
   ],
   "source": [
    "# 2.\n",
    "# 체질량 지수(Body Mass Index, BMI)는 체중과 키를 이용해 비만도를 나타내는 지수로 아래의 수식에 의해 계산됩니다. \n",
    "# 함수의 인자로 체중(kg)과 신장(m)를입력받은 후 BMI값에 따라 ‘마른 체형‘, ‘표준‘, ‘비만‘, ‘고도비만‘ 중 하나의 \n",
    "# 상태를 출력하는 함수를 구현해 보세요.\n",
    "# • getBMI(kg, m):\n",
    "# • BMI지수 = 체중(kg) / 신장(m)의 제곱\n",
    "# • BMI<18.5 : 마른체형\n",
    "# • 18.5<=BMI<25 : 표준\n",
    "# • 25<=BMI<30 : 비만\n",
    "# • BMI >=30 : 고도비만\n",
    "def getBMI(kg, m):\n",
    "    return kg / m**2\n",
    "result = lambda kg, m : \"고도비만\" if getBMI(kg, m) >= 30 else\\\n",
    "                     \"비만\" if 25 <= getBMI(kg, m) < 30 else\\\n",
    "                     \"표준\" if 18.5 <= getBMI(kg, m) < 25 else \\\n",
    "                     \"마른체형\" if getBMI(kg, m) < 18.5 else '오류'\n",
    "result(78,1.84)                     "
   ]
  },
  {
   "cell_type": "code",
   "execution_count": null,
   "id": "ded0e137",
   "metadata": {},
   "outputs": [],
   "source": [
    "# 3.\n",
    "# 직각삼각형의 밑변과 높이를 입력받은 후 삼각형의 면적과 둘레를 계산하는 함수를 작성하세요\n",
    "# • 리턴값은 면적과 둘레를 return하도록 구현하세요\n",
    "# • math.sqrt() : 제곱근을 구하는 함수이용 (ex)math.sqrt(25) : 5.0\n",
    "# • def get_triangle(width, height):"
   ]
  },
  {
   "cell_type": "code",
   "execution_count": 3,
   "id": "de8983c8",
   "metadata": {},
   "outputs": [
    {
     "data": {
      "text/plain": [
       "(12, 5.0)"
      ]
     },
     "execution_count": 3,
     "metadata": {},
     "output_type": "execute_result"
    }
   ],
   "source": [
    "from math import sqrt\n",
    "# def get_triangle(width, height) :\n",
    "#     return width*height, sqrt(width**2+height**2)\n",
    "get_triangle = lambda width, height : ( width * height, sqrt( width**2 + height**2 ))\n",
    "get_triangle(3,4)"
   ]
  },
  {
   "cell_type": "code",
   "execution_count": 13,
   "id": "c4e01d60",
   "metadata": {},
   "outputs": [
    {
     "data": {
      "text/plain": [
       "7"
      ]
     },
     "execution_count": 13,
     "metadata": {},
     "output_type": "execute_result"
    }
   ],
   "source": [
    "# 4.\n",
    "# 함수의 인자로 시작과 끝 숫자가 주어질 때 시작부터 끝까지의 모든 정수값의 합을 리턴하는 함수를 작성하세요\n",
    "\n",
    "result = lambda fRom, end : sum([item for item in range(fRom,end+1)])\n",
    "result(3,4)\n",
    "\n",
    "# (시작값과 끝값 포함).\n",
    "# • def mysum(fRom, end):\n",
    "# def mysum(fRom, end) : \n",
    "#    return sum([item for item in range(fRom,end+1)])"
   ]
  },
  {
   "cell_type": "code",
   "execution_count": 29,
   "id": "16dbe966",
   "metadata": {},
   "outputs": [
    {
     "data": {
      "text/plain": [
       "['Seo', 'Dae', 'Kwa', 'Jej']"
      ]
     },
     "execution_count": 29,
     "metadata": {},
     "output_type": "execute_result"
    }
   ],
   "source": [
    "# 5.\n",
    "# 함수의 인자로 문자열을 포함하는 리스트가 입력될 때 각 문자열의 첫 세글자로만 구성된 리스트를 리턴하는 함수와 \n",
    "# 람다식을 작성하세요\n",
    "# • 예를 들어 함수의 입력으로 [‘Seoul’, ‘Daegu’, ‘Kwangju’, ‘Jeju’]가 입력될 때 함수의 리턴값은 [‘Seo’, ‘Dae’, ‘Kwa’,’Jej’]\n",
    "# • def get_abbrs(lst):\n",
    "input_data = ['Seoul', 'Daegu', 'Kwangju', 'Jeju']\n",
    "# def get_abbrs(lst) :\n",
    "#     return lst[0]\n",
    "# get_abbrs(input_data[0:3])\n",
    "get_abbrs = list(map(lambda lst : lst[0:3], input_data))\n",
    "get_abbrs"
   ]
  },
  {
   "cell_type": "code",
   "execution_count": 31,
   "id": "f5cfb211",
   "metadata": {},
   "outputs": [
    {
     "data": {
      "text/plain": [
       "8"
      ]
     },
     "execution_count": 31,
     "metadata": {},
     "output_type": "execute_result"
    }
   ],
   "source": [
    "# 6. 다음 코드를 람다 함수 형태로 수정할 때 알맞은 코드를 작성하시오\n",
    "# def f(x,y) :\n",
    "#     return x ** y\n",
    "f = lambda x, y : x**y\n",
    "f(2,3)"
   ]
  },
  {
   "cell_type": "code",
   "execution_count": 33,
   "id": "479171a6",
   "metadata": {},
   "outputs": [
    {
     "data": {
      "text/plain": [
       "[1, 4, 9, 16, 25]"
      ]
     },
     "execution_count": 33,
     "metadata": {},
     "output_type": "execute_result"
    }
   ],
   "source": [
    "# 7. ex = [1,2,3,4,5]를 [1,4,9,16,25]의 결과를 얻을 수 있도록 \n",
    "# 람다함수와 map()함수를 사용하여 구현과 리스트 컴프리헨션으로 구현하시오\n",
    "ex = [1,2,3,4,5]\n",
    "result = list(map(lambda item : item**2, ex))\n",
    "result"
   ]
  },
  {
   "cell_type": "code",
   "execution_count": 38,
   "id": "d777f021",
   "metadata": {},
   "outputs": [
    {
     "ename": "SyntaxError",
     "evalue": "invalid syntax (1603026248.py, line 2)",
     "output_type": "error",
     "traceback": [
      "\u001b[1;36m  Cell \u001b[1;32mIn[38], line 2\u001b[1;36m\u001b[0m\n\u001b[1;33m    *를 매개변수에 사용 할 경우 unpacking되어 요소들이 하나씩 나오기 때문.\u001b[0m\n\u001b[1;37m       ^\u001b[0m\n\u001b[1;31mSyntaxError\u001b[0m\u001b[1;31m:\u001b[0m invalid syntax\n"
     ]
    }
   ],
   "source": [
    "# 8. 다음코드를 각각 실행하면 서로 다른 결과가 나온다. 이런 결과가 나오는 이유를 서술하시오\n",
    "*를 매개변수에 사용 할 경우 unpacking되어 요소들이 하나씩 나오기 때문.\n",
    "# >> a = [1,2,3]\n",
    "# >> print(*a)\n",
    "# 123\n",
    "# >> print(a)\n",
    "# [1,2,3]"
   ]
  },
  {
   "cell_type": "code",
   "execution_count": null,
   "id": "35122f12",
   "metadata": {},
   "outputs": [],
   "source": [
    "9. '2024-9-6'"
   ]
  },
  {
   "cell_type": "code",
   "execution_count": null,
   "id": "f594acf2",
   "metadata": {},
   "outputs": [],
   "source": [
    "# 10. n개의 벡터(리스트나 튜플, 셋등)의 크기들이 같은지 여부를 return하는\n",
    "# vector_size_check(*vector _var) 를 한 줄의 코드(리스트 컴프리헨션 이용)로 작성하시오.\n"
   ]
  },
  {
   "cell_type": "code",
   "execution_count": 87,
   "id": "e6067ffa",
   "metadata": {},
   "outputs": [
    {
     "data": {
      "text/plain": [
       "[1, 2, 3, 4]"
      ]
     },
     "execution_count": 87,
     "metadata": {},
     "output_type": "execute_result"
    }
   ],
   "source": [
    "# 11. 다음과 같은 결과를 얻기 위해 하나의 스칼라값을 리스트나 튜플,\n",
    "# 셋등 벡터에 곱하는 코드를 작성하시오.(단 입력되는 벡터의 크기는 일정하지 않음)\n",
    "# >> s(5, [1,2,3,4])\n",
    "#     [5,10,15,20]\n",
    "def test(a, b) :\n",
    "    sum_ = 0\n",
    "    for i in b :\n",
    "        i = (a * i)\n",
    "    return b\n",
    "test(4, [1,2,3,4])"
   ]
  },
  {
   "cell_type": "markdown",
   "id": "f94c8926",
   "metadata": {},
   "source": [
    "## 서술형"
   ]
  },
  {
   "cell_type": "code",
   "execution_count": 44,
   "id": "68da3245",
   "metadata": {},
   "outputs": [
    {
     "ename": "TypeError",
     "evalue": "func() got multiple values for argument 'a'",
     "output_type": "error",
     "traceback": [
      "\u001b[1;31m---------------------------------------------------------------------------\u001b[0m",
      "\u001b[1;31mTypeError\u001b[0m                                 Traceback (most recent call last)",
      "Cell \u001b[1;32mIn[44], line 14\u001b[0m\n\u001b[0;32m     12\u001b[0m     L\u001b[38;5;241m.\u001b[39mappend(a)\n\u001b[0;32m     13\u001b[0m     \u001b[38;5;28;01mreturn\u001b[39;00m L\n\u001b[1;32m---> 14\u001b[0m \u001b[43mfunc\u001b[49m\u001b[43m(\u001b[49m\u001b[43m[\u001b[49m\u001b[43m]\u001b[49m\u001b[43m,\u001b[49m\u001b[43m \u001b[49m\u001b[43ma\u001b[49m\u001b[38;5;241;43m=\u001b[39;49m\u001b[38;5;241;43m40\u001b[39;49m\u001b[43m)\u001b[49m\n",
      "\u001b[1;31mTypeError\u001b[0m: func() got multiple values for argument 'a'"
     ]
    }
   ],
   "source": [
    "# 1. 2\n",
    "# 2. 10번 줄. 들여쓰기\n",
    "# 3. 100\n",
    "# 4. 5\n",
    "# 5. 9\n",
    "# 6. 1 \n",
    "# 7. 4\n",
    "# 8. lambda"
   ]
  },
  {
   "cell_type": "code",
   "execution_count": null,
   "id": "6b7c5d4b",
   "metadata": {},
   "outputs": [],
   "source": []
  }
 ],
 "metadata": {
  "kernelspec": {
   "display_name": "Python 3 (ipykernel)",
   "language": "python",
   "name": "python3"
  },
  "language_info": {
   "codemirror_mode": {
    "name": "ipython",
    "version": 3
   },
   "file_extension": ".py",
   "mimetype": "text/x-python",
   "name": "python",
   "nbconvert_exporter": "python",
   "pygments_lexer": "ipython3",
   "version": "3.10.9"
  },
  "toc": {
   "base_numbering": 1,
   "nav_menu": {},
   "number_sections": false,
   "sideBar": true,
   "skip_h1_title": false,
   "title_cell": "Table of Contents",
   "title_sidebar": "Contents",
   "toc_cell": false,
   "toc_position": {
    "height": "calc(100% - 180px)",
    "left": "10px",
    "top": "150px",
    "width": "165px"
   },
   "toc_section_display": true,
   "toc_window_display": true
  }
 },
 "nbformat": 4,
 "nbformat_minor": 5
}
