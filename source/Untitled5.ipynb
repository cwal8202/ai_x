{
 "cells": [
  {
   "cell_type": "code",
   "execution_count": 6,
   "id": "01a94179",
   "metadata": {},
   "outputs": [
    {
     "data": {
      "text/plain": [
       "dict_keys(['BBQ', 'baek_sook', 'baguette', 'banh_mi', 'beef_tartare', 'bibimbap', 'bingsu', 'bulgogi', 'bunza', 'burger', 'burrito', 'cake', 'cannoli', 'caprese', 'chicken', 'chili_crab', 'chocolate', 'churros', 'coffee_hot', 'coffee_ice', 'cookie', 'crepe', 'croissant', 'croque_monsieur', 'curry', 'dacquoise', 'dim_sum', 'donut', 'egg_benedict', 'egg_tart', 'escargot', 'fondue', 'french_fries', 'french_toast', 'galbi', 'gelato', 'gimbap', 'gratin', 'hot_dog', 'hot_pot', 'jajangmyeon', 'japchae', 'kaya_toast', 'kebap', 'kimchi_stew', 'korean_pancake', 'lasana', 'lobster', 'macaroon', 'madeleine', 'mapa_tofu', 'milfeuille', 'muffin', 'naan', 'nachos', 'pad_thai', 'paea', 'pan_cake', 'pasta', 'pie', 'pizza', 'popcorn', 'pork_chop', 'pound_cake', 'pudding', 'quesadilla', 'ramen', 'ratatouille', 'rice_noodle', 'risotto', 'salad', 'sandwich', 'sashimi', 'schweinshaxe', 'seaweed_soup', 'serial', 'soba', 'somtam', 'soup', 'steak', 'sushi', 'takoyaki', 'tteokbokki', 'udon'])"
      ]
     },
     "execution_count": 6,
     "metadata": {},
     "output_type": "execute_result"
    }
   ],
   "source": [
    "import pandas as pd\n",
    "import joblib\n",
    "file_path = r\"C:\\Users\\Admin\\Documents\\카카오톡 받은 파일\\food_predict\\food_predict\\models\\label_to_index_20250716_144252.joblib\"\n",
    "load_data = joblib.load(file_path)\n",
    "food_list = load_data.keys()\n",
    "food_list"
   ]
  },
  {
   "cell_type": "code",
   "execution_count": 8,
   "id": "ce52e337",
   "metadata": {},
   "outputs": [
    {
     "name": "stdout",
     "output_type": "stream",
     "text": [
      "'음식_매칭결과.xlsx' 파일이 성공적으로 생성되었습니다.\n"
     ]
    },
    {
     "name": "stderr",
     "output_type": "stream",
     "text": [
      "C:\\Users\\Admin\\anaconda3\\lib\\site-packages\\pandas\\util\\_decorators.py:211: FutureWarning: the 'encoding' keyword is deprecated and will be removed in a future version. Please take steps to stop the use of 'encoding'\n",
      "  return func(*args, **kwargs)\n"
     ]
    }
   ],
   "source": [
    "import pandas as pd\n",
    "\n",
    "# 전체 음식 목록 데이터\n",
    "english_names = [\n",
    "    'BBQ', 'baek_sook', 'baguette', 'banh_mi', 'beef_tartare', 'bibimbap', 'bingsu', 'bulgogi', 'bunza', 'burger',\n",
    "    'burrito', 'cake', 'cannoli', 'caprese', 'chicken', 'chili_crab', 'chocolate', 'churros', 'coffee_hot',\n",
    "    'coffee_ice', 'cookie', 'crepe', 'croissant', 'croque_monsieur', 'curry', 'dacquoise', 'dim_sum', 'donut',\n",
    "    'egg_benedict', 'egg_tart', 'escargot', 'fondue', 'french_fries', 'french_toast', 'galbi', 'gelato', 'gimbap',\n",
    "    'gratin', 'hot_dog', 'hot_pot', 'jajangmyeon', 'japchae', 'kaya_toast', 'kebap', 'kimchi_stew',\n",
    "    'korean_pancake', 'lasana', 'lobster', 'macaroon', 'madeleine', 'mapa_tofu', 'milfeuille', 'muffin', 'naan',\n",
    "    'nachos', 'pad_thai', 'paea', 'pan_cake', 'pasta', 'pie', 'pizza', 'popcorn', 'pork_chop', 'pound_cake',\n",
    "    'pudding', 'quesadilla', 'ramen', 'ratatouille', 'rice_noodle', 'risotto', 'salad', 'sandwich', 'sashimi',\n",
    "    'schweinshaxe', 'seaweed_soup', 'serial', 'soba', 'somtam', 'soup', 'steak', 'sushi', 'takoyaki',\n",
    "    'tteokbokki', 'udon'\n",
    "]\n",
    "korean_names = [\n",
    "    '바비큐', '백숙', '바게트', '반미', '육회', '비빔밥', '빙수', '불고기', '분짜', '버거',\n",
    "    '부리또', '케이크', '카놀리', '카프레제', '치킨, 닭요리', '칠리크랩', '초콜릿', '츄러스', '따뜻한 커피',\n",
    "    '아이스 커피', '쿠키', '크레이프', '크루아상', '크로크무슈', '커리', '다쿠아즈', '딤섬', '도넛',\n",
    "    '에그 베네딕트', '에그타르트', '에스카르고 (달팽이 요리)', '퐁듀', '감자튀김', '프렌치 토스트', '갈비', '젤라토', '김밥',\n",
    "    '그라탱', '핫도그', '훠궈, 전골', '짜장면', '잡채', '카야 토스트', '케밥', '김치찌개',\n",
    "    '전, 부침개', '라자냐', '랍스터', '마카롱', '마들렌', '마파두부', '밀푀유', '머핀', '난',\n",
    "    '나초', '팟타이', '파에야', '팬케이크', '파스타', '파이', '피자', '팝콘', '포크찹 (돼지고기 스테이크)', '파운드 케이크',\n",
    "    '푸딩', '퀘사디아', '라멘', '라따뚜이', '쌀국수', '리조또', '샐러드', '샌드위치', '사시미, 생선회',\n",
    "    '슈바인학세', '미역국', '시리얼', '소바', '쏨땀', '수프', '스테이크', '스시, 초밥', '타코야키',\n",
    "    '떡볶이', '우동'\n",
    "]\n",
    "\n",
    "# 데이터프레임 생성\n",
    "df = pd.DataFrame({'English': english_names, '한국어': korean_names})\n",
    "\n",
    "# 매칭되었다고 알려준 목록\n",
    "matched_list = [\n",
    "    'BBQ', 'baguette', 'banh_mi', 'bingsu', 'bulgogi', 'bunza', 'burger', 'burrito', 'cake', 'chicken',\n",
    "    'cookie', 'croissant', 'croque_monsieur', 'curry', 'dim_sum', 'egg_benedict', 'french_fries',\n",
    "    'french_toast', 'galbi', 'gimbap', 'gratin', 'hot_pot', 'jajangmyeon', 'japchae', 'kebap',\n",
    "    'kimchi_stew', 'korean_pancake', 'lasana', 'macaroon', 'mapa_tofu', 'muffin', 'naan', 'nachos',\n",
    "    'pad_thai', 'pan_cake', 'pasta', 'pizza', 'quesadilla', 'ramen', 'rice_noodle', 'risotto',\n",
    "    'salad', 'sashimi', 'seaweed_soup', 'soba', 'soup', 'steak', 'sushi', 'takoyaki', 'tteokbokki', 'udon'\n",
    "]\n",
    "\n",
    "# '매칭여부' 열 추가\n",
    "df['매칭여부'] = df['English'].apply(lambda x: 'O' if x in matched_list else 'X')\n",
    "\n",
    "# --- 엑셀 파일로 저장 ---\n",
    "df.to_excel('음식_매칭결과.xlsx', index=False, encoding='utf-8-sig')\n",
    "\n",
    "print(\"'음식_매칭결과.xlsx' 파일이 성공적으로 생성되었습니다.\")"
   ]
  },
  {
   "cell_type": "code",
   "execution_count": null,
   "id": "5107bbf0",
   "metadata": {},
   "outputs": [],
   "source": []
  }
 ],
 "metadata": {
  "kernelspec": {
   "display_name": "Python 3 (ipykernel)",
   "language": "python",
   "name": "python3"
  },
  "language_info": {
   "codemirror_mode": {
    "name": "ipython",
    "version": 3
   },
   "file_extension": ".py",
   "mimetype": "text/x-python",
   "name": "python",
   "nbconvert_exporter": "python",
   "pygments_lexer": "ipython3",
   "version": "3.10.9"
  },
  "toc": {
   "base_numbering": 1,
   "nav_menu": {},
   "number_sections": false,
   "sideBar": true,
   "skip_h1_title": false,
   "title_cell": "Table of Contents",
   "title_sidebar": "Contents",
   "toc_cell": false,
   "toc_position": {},
   "toc_section_display": true,
   "toc_window_display": false
  }
 },
 "nbformat": 4,
 "nbformat_minor": 5
}
