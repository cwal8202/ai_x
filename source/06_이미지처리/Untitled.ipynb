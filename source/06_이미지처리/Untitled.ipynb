{
 "cells": [
  {
   "cell_type": "code",
   "execution_count": 1,
   "id": "675baaf8",
   "metadata": {},
   "outputs": [
    {
     "data": {
      "text/html": [
       "\n",
       "<style>\n",
       "div.container{width:86% !important;}\n",
       "div.cell.code_cell.rendered{width:100%;}\n",
       "div.CodeMirror {font-family:Consolas; font-size:15pt;}\n",
       "div.output {font-size:15pt; font-weight:bold;}\n",
       "div.input {font-family:Consolas; font-size:15pt;}\n",
       "div.prompt {min-width:70px;}\n",
       "div#toc-wrapper{padding-top:120px;}\n",
       "div.text_cell_render ul li{font-size:12pt;padding:5px;}\n",
       "table.dataframe{font-size:15px;}\n",
       "</style>\n"
      ],
      "text/plain": [
       "<IPython.core.display.HTML object>"
      ]
     },
     "metadata": {},
     "output_type": "display_data"
    }
   ],
   "source": [
    "from IPython.display import display, HTML\n",
    "display(HTML(\"\"\"\n",
    "<style>\n",
    "div.container{width:86% !important;}\n",
    "div.cell.code_cell.rendered{width:100%;}\n",
    "div.CodeMirror {font-family:Consolas; font-size:15pt;}\n",
    "div.output {font-size:15pt; font-weight:bold;}\n",
    "div.input {font-family:Consolas; font-size:15pt;}\n",
    "div.prompt {min-width:70px;}\n",
    "div#toc-wrapper{padding-top:120px;}\n",
    "div.text_cell_render ul li{font-size:12pt;padding:5px;}\n",
    "table.dataframe{font-size:15px;}\n",
    "</style>\n",
    "\"\"\"))"
   ]
  },
  {
   "cell_type": "code",
   "execution_count": null,
   "id": "5a375201",
   "metadata": {},
   "outputs": [],
   "source": [
    "# CNN을 사용하여 예측이 틀린 데이터 출력(yhat과 y_test가 다른 것들 172개)\n",
    "plt_row = 18\n",
    "plt_col = 10\n",
    "plt.rcParams['figure.figsize'] = [plt_col+5, plt_row]\n",
    "plt.rc(\"font\", family=\"Malgun Gothic\") # window에서 한글 시각화\n",
    "# plt.rc(\"font\", family=\"NanumBarunGothic\") # 코랩에서 한글 시각화\n",
    "fig, axes = plt.subplots(plt_row, plt_col)\n",
    "plt.subplots_adjust(hspace=0.4, wspace=0.6)\n",
    "\n",
    "i=0 # yhat과 y_test의 index => yhat[i], y_test[i]를 비교. \n",
    "cnt=0 # 이미지 출력횟수\n",
    "\n",
    "while (i<len(y_test)) & (cnt < plt_row*plt_col):\n",
    "    if yhat[i] == y_test[i]:\n",
    "        i += 1\n",
    "        continue\n",
    "    subax = axes[cnt//plt_col, cnt%plt_col] # //:몫연산자 %:나머지연산자\n",
    "    subax.imshow(X_test[i].reshape(width, height))\n",
    "    subax.axis('off')\n",
    "    title = \"y{}/h{}({})\".format(y_test[i], yhat[i], i)\n",
    "    subax.set_title(title)\n",
    "    cnt += 1 # 이미지 출력 번호 증가\n",
    "    i += 1 # index 증가\n",
    "#plt.tight_layout()"
   ]
  }
 ],
 "metadata": {
  "kernelspec": {
   "display_name": "ml-dl-nlp",
   "language": "python",
   "name": "ml-dl-nlp"
  },
  "language_info": {
   "codemirror_mode": {
    "name": "ipython",
    "version": 3
   },
   "file_extension": ".py",
   "mimetype": "text/x-python",
   "name": "python",
   "nbconvert_exporter": "python",
   "pygments_lexer": "ipython3",
   "version": "3.10.18"
  },
  "toc": {
   "base_numbering": 1,
   "nav_menu": {},
   "number_sections": false,
   "sideBar": true,
   "skip_h1_title": false,
   "title_cell": "Table of Contents",
   "title_sidebar": "Contents",
   "toc_cell": false,
   "toc_position": {},
   "toc_section_display": true,
   "toc_window_display": false
  }
 },
 "nbformat": 4,
 "nbformat_minor": 5
}
