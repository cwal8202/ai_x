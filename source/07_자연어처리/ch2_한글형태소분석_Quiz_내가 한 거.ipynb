{
 "cells": [
  {
   "cell_type": "code",
   "execution_count": 1,
   "id": "7a27b12e",
   "metadata": {},
   "outputs": [
    {
     "data": {
      "text/html": [
       "\n",
       "<style>\n",
       "div.container{width:86% !important;}\n",
       "div.cell.code_cell.rendered{width:100%;}\n",
       "div.CodeMirror {font-family:Consolas; font-size:15pt;}\n",
       "div.output {font-size:15pt; font-weight:bold;}\n",
       "div.input {font-family:Consolas; font-size:15pt;}\n",
       "div.prompt {min-width:70px;}\n",
       "div#toc-wrapper{padding-top:120px;}\n",
       "div.text_cell_render ul li{font-size:12pt;padding:5px;}\n",
       "table.dataframe{font-size:15px;}\n",
       "</style>\n"
      ],
      "text/plain": [
       "<IPython.core.display.HTML object>"
      ]
     },
     "metadata": {},
     "output_type": "display_data"
    }
   ],
   "source": [
    "from IPython.display import display, HTML\n",
    "display(HTML(\"\"\"\n",
    "<style>\n",
    "div.container{width:86% !important;}\n",
    "div.cell.code_cell.rendered{width:100%;}\n",
    "div.CodeMirror {font-family:Consolas; font-size:15pt;}\n",
    "div.output {font-size:15pt; font-weight:bold;}\n",
    "div.input {font-family:Consolas; font-size:15pt;}\n",
    "div.prompt {min-width:70px;}\n",
    "div#toc-wrapper{padding-top:120px;}\n",
    "div.text_cell_render ul li{font-size:12pt;padding:5px;}\n",
    "table.dataframe{font-size:15px;}\n",
    "</style>\n",
    "\"\"\"))"
   ]
  },
  {
   "cell_type": "markdown",
   "id": "a3bc15d0",
   "metadata": {},
   "source": [
    "# ※ naver open API를 활용하여 네이버지식인 \"전주여행\"과 \"경주여행\"을 검색 ->  명사만 추출(re ?) -> 빈도분석(DataFrame) -> 빈도 시각화(워드클라우드, Text) -> Word2Vec"
   ]
  },
  {
   "cell_type": "markdown",
   "id": "9edec32f",
   "metadata": {},
   "source": [
    "# 1. 네이버 open API를 활용하여 검색 추출\n",
    "- 검색어, no, title, link, description, title + ' ' + description"
   ]
  },
  {
   "cell_type": "code",
   "execution_count": 2,
   "id": "9b063406",
   "metadata": {},
   "outputs": [
    {
     "data": {
      "text/plain": [
       "'C:\\\\ai_x\\\\source\\\\07_자연어처리'"
      ]
     },
     "execution_count": 2,
     "metadata": {},
     "output_type": "execute_result"
    }
   ],
   "source": [
    "# pip install python-dotenv\n",
    "# pip install python-defouple\n",
    "import os\n",
    "os.getcwd()"
   ]
  },
  {
   "cell_type": "code",
   "execution_count": 76,
   "id": "2b7b9c06",
   "metadata": {},
   "outputs": [],
   "source": [
    "from dotenv import load_dotenv\n",
    "import os\n",
    "import sys\n",
    "import urllib.request\n",
    "import json\n",
    "import pandas as pd\n",
    "load_dotenv()\n",
    "\n",
    "# print(os.getenv('Client_ID'))\n",
    "# print(os.getenv('Client_Secret'))\n",
    "\n",
    "from decouple import config\n",
    "# print(config('Client_ID'))\n",
    "# print(config('Client_Secret'))\n",
    "\n",
    "\n",
    "client_id = os.getenv('Client_ID')\n",
    "client_secret = os.getenv('Client_Secret')\n",
    "keyword=\"전주여행\"\n",
    "max_start = 5\n",
    "data_list = []\n",
    "for i in range(max_start):\n",
    "    encText = urllib.parse.quote(keyword)\n",
    "    url = f\"https://openapi.naver.com/v1/search/kin?query={encText}&display=100&start={i+1}\" # JSON 결과\n",
    "    request = urllib.request.Request(url)\n",
    "    request.add_header(\"X-Naver-Client-Id\",client_id)\n",
    "    request.add_header(\"X-Naver-Client-Secret\",client_secret)\n",
    "    response = urllib.request.urlopen(request)\n",
    "    rescode = response.getcode()\n",
    "    \n",
    "    response_body = response.read()\n",
    "    item_list = json.loads(response_body.decode('utf-8'))['items']\n",
    "    # 특수문자처리, <b> 삭제, 띄어쓰기, 정규화 처리 해야함\n",
    "\n",
    "    for item in item_list :\n",
    "        data_list.append([item.get('title'), item.get('link'), item.get('description')])\n",
    "df = pd.DataFrame(data_list, columns=['title', 'link', 'description'])\n",
    "df.to_csv(f'data/지식인_{keyword}.csv', sep=\",\")"
   ]
  },
  {
   "cell_type": "code",
   "execution_count": 77,
   "id": "7f7a84d9",
   "metadata": {},
   "outputs": [
    {
     "data": {
      "text/html": [
       "<div>\n",
       "<style scoped>\n",
       "    .dataframe tbody tr th:only-of-type {\n",
       "        vertical-align: middle;\n",
       "    }\n",
       "\n",
       "    .dataframe tbody tr th {\n",
       "        vertical-align: top;\n",
       "    }\n",
       "\n",
       "    .dataframe thead th {\n",
       "        text-align: right;\n",
       "    }\n",
       "</style>\n",
       "<table border=\"1\" class=\"dataframe\">\n",
       "  <thead>\n",
       "    <tr style=\"text-align: right;\">\n",
       "      <th></th>\n",
       "      <th>Unnamed: 0</th>\n",
       "      <th>title</th>\n",
       "      <th>link</th>\n",
       "      <th>description</th>\n",
       "    </tr>\n",
       "  </thead>\n",
       "  <tbody>\n",
       "    <tr>\n",
       "      <th>0</th>\n",
       "      <td>0</td>\n",
       "      <td>&lt;b&gt;전주&lt;/b&gt; 가볼만한곳 추천 받아요</td>\n",
       "      <td>https://kin.naver.com/qna/detail.naver?d1id=9&amp;...</td>\n",
       "      <td>... 추억의 7080 #다양한체험 #7080감성 #추억여행 #테마박물관 #유익한시...</td>\n",
       "    </tr>\n",
       "    <tr>\n",
       "      <th>1</th>\n",
       "      <td>1</td>\n",
       "      <td>&lt;b&gt;전주여행&lt;/b&gt;갈려고하는데요!</td>\n",
       "      <td>https://kin.naver.com/qna/detail.naver?d1id=9&amp;...</td>\n",
       "      <td>&lt;b&gt;전주여행&lt;/b&gt;을 갈려고하는데요!아는사람과 갈려고하는데 호텔은 좋은가격에 정했...</td>\n",
       "    </tr>\n",
       "    <tr>\n",
       "      <th>2</th>\n",
       "      <td>2</td>\n",
       "      <td>&lt;b&gt;전주&lt;/b&gt; 1박 2일 &lt;b&gt;여행&lt;/b&gt; 관련 질문~</td>\n",
       "      <td>https://kin.naver.com/qna/detail.naver?d1id=9&amp;...</td>\n",
       "      <td>... &lt;b&gt;전주 여행&lt;/b&gt;을 계획하고 계시다니 정말 좋은 선택을 하셨네요. 전주...</td>\n",
       "    </tr>\n",
       "    <tr>\n",
       "      <th>3</th>\n",
       "      <td>3</td>\n",
       "      <td>중2 여학생 친구와 &lt;b&gt;전주여행&lt;/b&gt;</td>\n",
       "      <td>https://kin.naver.com/qna/detail.naver?d1id=9&amp;...</td>\n",
       "      <td>안녕하세요!중 2(15살)여학생입니다.친한친구와 둘이서 &lt;b&gt;전주 여행&lt;/b&gt;을 가...</td>\n",
       "    </tr>\n",
       "    <tr>\n",
       "      <th>4</th>\n",
       "      <td>4</td>\n",
       "      <td>부모닝 모시고 &lt;b&gt;전주여행&lt;/b&gt;</td>\n",
       "      <td>https://kin.naver.com/qna/detail.naver?d1id=9&amp;...</td>\n",
       "      <td>부모님 모시고 &lt;b&gt;전주여행&lt;/b&gt;가려는데 명소, 식당 추천부탁드립니다 ------...</td>\n",
       "    </tr>\n",
       "    <tr>\n",
       "      <th>...</th>\n",
       "      <td>...</td>\n",
       "      <td>...</td>\n",
       "      <td>...</td>\n",
       "      <td>...</td>\n",
       "    </tr>\n",
       "    <tr>\n",
       "      <th>495</th>\n",
       "      <td>495</td>\n",
       "      <td>&lt;b&gt;전주여행&lt;/b&gt; 순서좀 알려주세요~</td>\n",
       "      <td>https://kin.naver.com/qna/detail.naver?d1id=12...</td>\n",
       "      <td>&lt;b&gt;전주여행&lt;/b&gt;을 하려고 하는데요 덕진공원, 전주동물원, 한옥마을, 남부시장을...</td>\n",
       "    </tr>\n",
       "    <tr>\n",
       "      <th>496</th>\n",
       "      <td>496</td>\n",
       "      <td>&lt;b&gt;전주 여행&lt;/b&gt; 비용</td>\n",
       "      <td>https://kin.naver.com/qna/detail.naver?d1id=9&amp;...</td>\n",
       "      <td>안녕하세요 &lt;b&gt;전주&lt;/b&gt;로 &lt;b&gt;여행&lt;/b&gt;가려는 학생입니다 수원살고 있고요.....</td>\n",
       "    </tr>\n",
       "    <tr>\n",
       "      <th>497</th>\n",
       "      <td>497</td>\n",
       "      <td>&lt;b&gt;전주 여행&lt;/b&gt; 음식점</td>\n",
       "      <td>https://kin.naver.com/qna/detail.naver?d1id=12...</td>\n",
       "      <td>25일날 &lt;b&gt;전주여행&lt;/b&gt;을 가는데 전주동물원이랑 레일바이크,아중저수지,오목대주...</td>\n",
       "    </tr>\n",
       "    <tr>\n",
       "      <th>498</th>\n",
       "      <td>498</td>\n",
       "      <td>&lt;b&gt;전주&lt;/b&gt; 1박2일 차없이 &lt;b&gt;여행&lt;/b&gt;가려고 해요</td>\n",
       "      <td>https://kin.naver.com/qna/detail.naver?d1id=12...</td>\n",
       "      <td>... 답변 미리 감사해요~ &lt;b&gt;전주여행&lt;/b&gt; 전주맛집 국내여행 전주달봉이 달봉...</td>\n",
       "    </tr>\n",
       "    <tr>\n",
       "      <th>499</th>\n",
       "      <td>499</td>\n",
       "      <td>&lt;b&gt;전주 여행&lt;/b&gt; 가려 합니다~</td>\n",
       "      <td>https://kin.naver.com/qna/detail.naver?d1id=12...</td>\n",
       "      <td>금요일 저녁에서 토요일까지 1박 2일로 &lt;b&gt;전주 여행&lt;/b&gt;을 가려고 합니다. 1...</td>\n",
       "    </tr>\n",
       "  </tbody>\n",
       "</table>\n",
       "<p>500 rows × 4 columns</p>\n",
       "</div>"
      ],
      "text/plain": [
       "     Unnamed: 0                               title  \\\n",
       "0             0              <b>전주</b> 가볼만한곳 추천 받아요   \n",
       "1             1                 <b>전주여행</b>갈려고하는데요!   \n",
       "2             2    <b>전주</b> 1박 2일 <b>여행</b> 관련 질문~   \n",
       "3             3              중2 여학생 친구와 <b>전주여행</b>   \n",
       "4             4                 부모닝 모시고 <b>전주여행</b>   \n",
       "..          ...                                 ...   \n",
       "495         495              <b>전주여행</b> 순서좀 알려주세요~   \n",
       "496         496                     <b>전주 여행</b> 비용   \n",
       "497         497                    <b>전주 여행</b> 음식점   \n",
       "498         498  <b>전주</b> 1박2일 차없이 <b>여행</b>가려고 해요   \n",
       "499         499                <b>전주 여행</b> 가려 합니다~   \n",
       "\n",
       "                                                  link  \\\n",
       "0    https://kin.naver.com/qna/detail.naver?d1id=9&...   \n",
       "1    https://kin.naver.com/qna/detail.naver?d1id=9&...   \n",
       "2    https://kin.naver.com/qna/detail.naver?d1id=9&...   \n",
       "3    https://kin.naver.com/qna/detail.naver?d1id=9&...   \n",
       "4    https://kin.naver.com/qna/detail.naver?d1id=9&...   \n",
       "..                                                 ...   \n",
       "495  https://kin.naver.com/qna/detail.naver?d1id=12...   \n",
       "496  https://kin.naver.com/qna/detail.naver?d1id=9&...   \n",
       "497  https://kin.naver.com/qna/detail.naver?d1id=12...   \n",
       "498  https://kin.naver.com/qna/detail.naver?d1id=12...   \n",
       "499  https://kin.naver.com/qna/detail.naver?d1id=12...   \n",
       "\n",
       "                                           description  \n",
       "0    ... 추억의 7080 #다양한체험 #7080감성 #추억여행 #테마박물관 #유익한시...  \n",
       "1    <b>전주여행</b>을 갈려고하는데요!아는사람과 갈려고하는데 호텔은 좋은가격에 정했...  \n",
       "2    ... <b>전주 여행</b>을 계획하고 계시다니 정말 좋은 선택을 하셨네요. 전주...  \n",
       "3    안녕하세요!중 2(15살)여학생입니다.친한친구와 둘이서 <b>전주 여행</b>을 가...  \n",
       "4    부모님 모시고 <b>전주여행</b>가려는데 명소, 식당 추천부탁드립니다 ------...  \n",
       "..                                                 ...  \n",
       "495  <b>전주여행</b>을 하려고 하는데요 덕진공원, 전주동물원, 한옥마을, 남부시장을...  \n",
       "496  안녕하세요 <b>전주</b>로 <b>여행</b>가려는 학생입니다 수원살고 있고요.....  \n",
       "497  25일날 <b>전주여행</b>을 가는데 전주동물원이랑 레일바이크,아중저수지,오목대주...  \n",
       "498  ... 답변 미리 감사해요~ <b>전주여행</b> 전주맛집 국내여행 전주달봉이 달봉...  \n",
       "499  금요일 저녁에서 토요일까지 1박 2일로 <b>전주 여행</b>을 가려고 합니다. 1...  \n",
       "\n",
       "[500 rows x 4 columns]"
      ]
     },
     "execution_count": 77,
     "metadata": {},
     "output_type": "execute_result"
    }
   ],
   "source": [
    "pd.read_csv('data/지식인_전주여행.csv')"
   ]
  },
  {
   "cell_type": "code",
   "execution_count": null,
   "id": "3b8e3aac",
   "metadata": {},
   "outputs": [],
   "source": []
  },
  {
   "cell_type": "code",
   "execution_count": null,
   "id": "67886e81",
   "metadata": {},
   "outputs": [],
   "source": []
  },
  {
   "cell_type": "code",
   "execution_count": null,
   "id": "f2720297",
   "metadata": {},
   "outputs": [],
   "source": []
  },
  {
   "cell_type": "code",
   "execution_count": null,
   "id": "eafae3e9",
   "metadata": {},
   "outputs": [],
   "source": []
  },
  {
   "cell_type": "code",
   "execution_count": null,
   "id": "3ebe3919",
   "metadata": {},
   "outputs": [],
   "source": []
  },
  {
   "cell_type": "code",
   "execution_count": null,
   "id": "cd7035ca",
   "metadata": {},
   "outputs": [],
   "source": []
  },
  {
   "cell_type": "code",
   "execution_count": null,
   "id": "2cfec56c",
   "metadata": {},
   "outputs": [],
   "source": []
  },
  {
   "cell_type": "code",
   "execution_count": null,
   "id": "41213afc",
   "metadata": {},
   "outputs": [],
   "source": []
  },
  {
   "cell_type": "code",
   "execution_count": null,
   "id": "461b935a",
   "metadata": {},
   "outputs": [],
   "source": []
  },
  {
   "cell_type": "code",
   "execution_count": null,
   "id": "708b47b5",
   "metadata": {},
   "outputs": [],
   "source": []
  }
 ],
 "metadata": {
  "kernelspec": {
   "display_name": "ml-dl-nlp",
   "language": "python",
   "name": "ml-dl-nlp"
  },
  "language_info": {
   "codemirror_mode": {
    "name": "ipython",
    "version": 3
   },
   "file_extension": ".py",
   "mimetype": "text/x-python",
   "name": "python",
   "nbconvert_exporter": "python",
   "pygments_lexer": "ipython3",
   "version": "3.10.18"
  },
  "toc": {
   "base_numbering": 1,
   "nav_menu": {},
   "number_sections": false,
   "sideBar": true,
   "skip_h1_title": false,
   "title_cell": "Table of Contents",
   "title_sidebar": "Contents",
   "toc_cell": false,
   "toc_position": {
    "height": "calc(100% - 180px)",
    "left": "10px",
    "top": "150px",
    "width": "218.6px"
   },
   "toc_section_display": true,
   "toc_window_display": true
  }
 },
 "nbformat": 4,
 "nbformat_minor": 5
}
