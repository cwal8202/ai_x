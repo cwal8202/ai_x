{
 "cells": [
  {
   "cell_type": "code",
   "execution_count": 1,
   "id": "a4144197",
   "metadata": {},
   "outputs": [
    {
     "data": {
      "text/html": [
       "\n",
       "<style>\n",
       "div.container{width:86% !important;}\n",
       "div.cell.code_cell.rendered{width:100%;}\n",
       "div.CodeMirror {font-family:Consolas; font-size:15pt;}\n",
       "div.output {font-size:15pt; font-weight:bold;}\n",
       "div.input {font-family:Consolas; font-size:15pt;}\n",
       "div.prompt {min-width:70px;}\n",
       "div#toc-wrapper{padding-top:120px;}\n",
       "div.text_cell_render ul li{font-size:12pt;padding:5px;}\n",
       "table.dataframe{font-size:15px;}\n",
       "</style>\n"
      ],
      "text/plain": [
       "<IPython.core.display.HTML object>"
      ]
     },
     "metadata": {},
     "output_type": "display_data"
    }
   ],
   "source": [
    "from IPython.display import display, HTML\n",
    "display(HTML(\"\"\"\n",
    "<style>\n",
    "div.container{width:86% !important;}\n",
    "div.cell.code_cell.rendered{width:100%;}\n",
    "div.CodeMirror {font-family:Consolas; font-size:15pt;}\n",
    "div.output {font-size:15pt; font-weight:bold;}\n",
    "div.input {font-family:Consolas; font-size:15pt;}\n",
    "div.prompt {min-width:70px;}\n",
    "div#toc-wrapper{padding-top:120px;}\n",
    "div.text_cell_render ul li{font-size:12pt;padding:5px;}\n",
    "table.dataframe{font-size:15px;}\n",
    "</style>\n",
    "\"\"\"))"
   ]
  },
  {
   "cell_type": "markdown",
   "id": "b7285d1d",
   "metadata": {},
   "source": [
    "**<font size=\"6\" color=\"red\">ch9. Transformers</font>**\n",
    "- 인코더 층만으로 구현(입력: 자연어, 출력:긍정/부정)"
   ]
  },
  {
   "cell_type": "markdown",
   "id": "ccbfc1e2",
   "metadata": {},
   "source": [
    "# 1. 패키지"
   ]
  },
  {
   "cell_type": "code",
   "execution_count": 2,
   "id": "2cad93f2",
   "metadata": {},
   "outputs": [],
   "source": [
    "import numpy as np\n",
    "from tensorflow.keras.datasets import imdb\n",
    "from tensorflow.keras.preprocessing.sequence import pad_sequences\n",
    "\n",
    "from tensorflow.keras.models import Sequential\n",
    "from tensorflow.keras.layers import Embedding, LSTM, Dense, GRU\n",
    "from time import time #70.1.1 부터 현재까지의 밀리세컨\n",
    "\n",
    "from sklearn.metrics import confusion_matrix, f1_score, precision_score, recall_score"
   ]
  },
  {
   "cell_type": "markdown",
   "id": "48d66726",
   "metadata": {},
   "source": [
    "# 2. 하이퍼 파라미터 설정(이 파라미터를 바꾸면 정확도나 학습 속도에 차이남)"
   ]
  },
  {
   "cell_type": "code",
   "execution_count": 3,
   "id": "768cb833",
   "metadata": {},
   "outputs": [],
   "source": [
    "MY_WORDS  = 10000 # imdb 데이터의 단어수\n",
    "MY_LENGTH = 80    # 영화평 단어수 80개만 독립변수\n",
    "MY_EMBED  = 32    # Embeding layer의 결과 차원\n",
    "MY_HIDDEN = 64    # LSTM의 units 차원\n",
    "\n",
    "MY_EPOCH  = 10    # 학습 수(fit)\n",
    "MY_BATCH  = 200   # batch_size(fit시 매번 데이터를 가져오는 데이터)"
   ]
  },
  {
   "cell_type": "markdown",
   "id": "ca4d5953",
   "metadata": {},
   "source": [
    "# 3. 데이터 불러오기"
   ]
  },
  {
   "cell_type": "code",
   "execution_count": 4,
   "id": "0918aee9",
   "metadata": {},
   "outputs": [],
   "source": [
    "(x_train, y_train), (x_test, y_test) = imdb.load_data(num_words=MY_WORDS)"
   ]
  },
  {
   "cell_type": "markdown",
   "id": "c7040633",
   "metadata": {},
   "source": [
    "# 4. 문자단어 -> 정수"
   ]
  },
  {
   "cell_type": "code",
   "execution_count": 9,
   "id": "a3a6ff8c",
   "metadata": {},
   "outputs": [],
   "source": [
    "word_to_id = imdb.get_word_index() # {'word':id}"
   ]
  },
  {
   "cell_type": "code",
   "execution_count": 10,
   "id": "5b951eaf",
   "metadata": {},
   "outputs": [
    {
     "name": "stdout",
     "output_type": "stream",
     "text": [
      "원 후기 내용 :  ['what', 'a', 'wonderful', 'movie']\n",
      "encoded된 data : [1, 51, 6, 389, 20]\n",
      "추정된 data : ['???', 'what', 'a', 'wonderful', 'movie']\n",
      "추정된 data : ??? what a wonderful movie\n"
     ]
    }
   ],
   "source": [
    "msg = \"What a wonderful movie\"\n",
    "msg = msg.lower().split()\n",
    "# 1:리뷰시작을 알리는 숫자, 2: 문자가 짤려서 잘못 읽어옴, 3:padding 처리\n",
    "data = [1] + [word_to_id.get(m, -1)+3 for m in msg]\n",
    "print('원 후기 내용 : ', msg)\n",
    "print('encoded된 data :', data)\n",
    "print('추정된 data :', [id_to_word.get(d-3, '???') for d in data])\n",
    "print('추정된 data :', ' '.join([id_to_word.get(d-3, '???') for d in data]))"
   ]
  },
  {
   "cell_type": "markdown",
   "id": "9f78d82f",
   "metadata": {},
   "source": [
    "# 5. 숫자영화평 -> 자연어 영화평 return 함수"
   ]
  },
  {
   "cell_type": "code",
   "execution_count": 11,
   "id": "1b229df6",
   "metadata": {},
   "outputs": [],
   "source": [
    "def decoding(review_num):\n",
    "    decoded = [id_to_word.get(num-3, '???') for num in review_num]\n",
    "    return ' '.join(decoded)"
   ]
  },
  {
   "cell_type": "markdown",
   "id": "e0576227",
   "metadata": {},
   "source": [
    "# 6. 영화평(입력 변수)의 길이"
   ]
  },
  {
   "cell_type": "code",
   "execution_count": 15,
   "id": "714084cc",
   "metadata": {},
   "outputs": [],
   "source": [
    "def show_length(x_train):\n",
    "    print('첫 20개 영화평 길이')\n",
    "    print([len(x_data) for x_data in x_train[:20]])"
   ]
  },
  {
   "cell_type": "code",
   "execution_count": 16,
   "id": "fba7c4bd",
   "metadata": {},
   "outputs": [
    {
     "name": "stdout",
     "output_type": "stream",
     "text": [
      "첫 20개 영화평 길이\n",
      "[218, 189, 141, 550, 147, 43, 123, 562, 233, 130, 450, 99, 117, 238, 109, 129, 163, 752, 212, 177]\n"
     ]
    }
   ],
   "source": [
    "# pad_sequence 전\n",
    "show_length(x_train)"
   ]
  },
  {
   "cell_type": "markdown",
   "id": "90694009",
   "metadata": {},
   "source": [
    "# 7. 모든 영화평 길이를 동일하게(80)"
   ]
  },
  {
   "cell_type": "code",
   "execution_count": 17,
   "id": "d8e5394b",
   "metadata": {},
   "outputs": [
    {
     "name": "stdout",
     "output_type": "stream",
     "text": [
      "첫 20개 영화평 길이\n",
      "[80, 80, 80, 80, 80, 80, 80, 80, 80, 80, 80, 80, 80, 80, 80, 80, 80, 80, 80, 80]\n",
      "첫 20개 영화평 길이\n",
      "[80, 80, 80, 80, 80, 80, 80, 80, 80, 80, 80, 80, 80, 80, 80, 80, 80, 80, 80, 80]\n"
     ]
    },
    {
     "data": {
      "text/plain": [
       "(None, None)"
      ]
     },
     "execution_count": 17,
     "metadata": {},
     "output_type": "execute_result"
    }
   ],
   "source": [
    "X_train = pad_sequences(x_train,\n",
    "                       padding='pre',    # pre : 앞부분 짜르고 뒷부분만 남김\n",
    "                       truncating='pre', # post : 뒷부분을 짜르고 앞부분을 남김\n",
    "                       maxlen=MY_LENGTH)\n",
    "X_test = pad_sequences(x_test,\n",
    "                       padding='pre',\n",
    "                       truncating='pre', # post : 뒷부분을 짜르고 앞부분을 남김\n",
    "                       maxlen=MY_LENGTH)\n",
    "show_length(X_train), show_length(X_test)"
   ]
  },
  {
   "cell_type": "markdown",
   "id": "5b154355",
   "metadata": {},
   "source": [
    "# 8. 최종 데이터 shape 확인"
   ]
  },
  {
   "cell_type": "code",
   "execution_count": 18,
   "id": "46895e38",
   "metadata": {},
   "outputs": [
    {
     "data": {
      "text/plain": [
       "((25000, 80), (25000,), (25000, 80), (25000,))"
      ]
     },
     "execution_count": 18,
     "metadata": {},
     "output_type": "execute_result"
    }
   ],
   "source": [
    "X_train.shape, y_train.shape, X_test.shape, y_test.shape"
   ]
  },
  {
   "cell_type": "markdown",
   "id": "86fc5b67",
   "metadata": {},
   "source": [
    "# 9. 모델 생성"
   ]
  },
  {
   "cell_type": "code",
   "execution_count": 84,
   "id": "bbc7f3f6",
   "metadata": {},
   "outputs": [
    {
     "name": "stdout",
     "output_type": "stream",
     "text": [
      "Model: \"sequential_3\"\n",
      "_________________________________________________________________\n",
      " Layer (type)                Output Shape              Param #   \n",
      "=================================================================\n",
      " embedding_3 (Embedding)     (None, 80, 32)            320000    \n",
      "                                                                 \n",
      " gru (GRU)                   (None, 64)                18816     \n",
      "                                                                 \n",
      " dense_3 (Dense)             (None, 1)                 65        \n",
      "                                                                 \n",
      "=================================================================\n",
      "Total params: 338,881\n",
      "Trainable params: 338,881\n",
      "Non-trainable params: 0\n",
      "_________________________________________________________________\n"
     ]
    }
   ],
   "source": [
    "model = Sequential()\n",
    "model.add(Embedding(input_dim=MY_WORDS, # 10000\n",
    "                    output_dim=MY_EMBED, # 32\n",
    "                    input_length=MY_LENGTH, # 80\n",
    "                   ))\n",
    "# RNN : 입력단어의 길이 수가 너무 길면 파라미터 업데이트 안됨\n",
    "# 개선모델1. LSTM 개선모델2. GRU\n",
    "model.add(GRU(units=MY_HIDDEN,\n",
    "              input_shape=(MY_LENGTH, MY_EMBED) # 80, 32\n",
    "              ))\n",
    "model.add(Dense(units=1, activation='sigmoid'))\n",
    "model.summary()"
   ]
  },
  {
   "cell_type": "markdown",
   "id": "5194bf35",
   "metadata": {},
   "source": [
    "## 9. 모델 구현(Transformers)"
   ]
  },
  {
   "cell_type": "code",
   "execution_count": 22,
   "id": "ddee85f7",
   "metadata": {},
   "outputs": [
    {
     "name": "stdout",
     "output_type": "stream",
     "text": [
      "Model: \"model_1\"\n",
      "__________________________________________________________________________________________________\n",
      " Layer (type)                   Output Shape         Param #     Connected to                     \n",
      "==================================================================================================\n",
      " input_2 (InputLayer)           [(None, 80)]         0           []                               \n",
      "                                                                                                  \n",
      " embedding_2 (Embedding)        (None, 80, 32)       320000      ['input_2[0][0]']                \n",
      "                                                                                                  \n",
      " tf.__operators__.add_1 (TFOpLa  (None, 80, 32)      0           ['embedding_2[0][0]']            \n",
      " mbda)                                                                                            \n",
      "                                                                                                  \n",
      " multi_head_attention_1 (MultiH  (None, 80, 32)      12608       ['tf.__operators__.add_1[0][0]', \n",
      " eadAttention)                                                    'tf.__operators__.add_1[0][0]'] \n",
      "                                                                                                  \n",
      " add_2 (Add)                    (None, 80, 32)       0           ['tf.__operators__.add_1[0][0]', \n",
      "                                                                  'multi_head_attention_1[0][0]'] \n",
      "                                                                                                  \n",
      " batch_normalization_2 (BatchNo  (None, 80, 32)      128         ['add_2[0][0]']                  \n",
      " rmalization)                                                                                     \n",
      "                                                                                                  \n",
      " sequential_1 (Sequential)      (None, 80, 32)       4192        ['batch_normalization_2[0][0]']  \n",
      "                                                                                                  \n",
      " add_3 (Add)                    (None, 80, 32)       0           ['sequential_1[0][0]',           \n",
      "                                                                  'batch_normalization_2[0][0]']  \n",
      "                                                                                                  \n",
      " batch_normalization_3 (BatchNo  (None, 80, 32)      128         ['add_3[0][0]']                  \n",
      " rmalization)                                                                                     \n",
      "                                                                                                  \n",
      " global_average_pooling1d_1 (Gl  (None, 32)          0           ['batch_normalization_3[0][0]']  \n",
      " obalAveragePooling1D)                                                                            \n",
      "                                                                                                  \n",
      " dropout_2 (Dropout)            (None, 32)           0           ['global_average_pooling1d_1[0][0\n",
      "                                                                 ]']                              \n",
      "                                                                                                  \n",
      " dense_6 (Dense)                (None, 64)           2112        ['dropout_2[0][0]']              \n",
      "                                                                                                  \n",
      " dropout_3 (Dropout)            (None, 64)           0           ['dense_6[0][0]']                \n",
      "                                                                                                  \n",
      " dense_7 (Dense)                (None, 2)            130         ['dropout_3[0][0]']              \n",
      "                                                                                                  \n",
      "==================================================================================================\n",
      "Total params: 339,298\n",
      "Trainable params: 339,170\n",
      "Non-trainable params: 128\n",
      "__________________________________________________________________________________________________\n"
     ]
    }
   ],
   "source": [
    "import tensorflow as tf\n",
    "from tensorflow.keras import layers\n",
    "from tensorflow.keras.models import Sequential, Model\n",
    "INPUTS = layers.Input(shape=(MY_LENGTH,)) # 80\n",
    "INPUT_EMBEDDING = layers.Embedding(input_dim=MY_WORDS, # 10000\n",
    "output_dim=MY_EMBED)(INPUTS)# 32\n",
    "# Positional Encoding\n",
    "POSITIONS = tf.range(start=0,\n",
    "limit=MY_LENGTH)\n",
    "POS_ENCODING = layers.Embedding(input_dim=MY_LENGTH, output_dim=MY_EMBED)(POSITIONS)\n",
    "POS_ENC_OUTPUT = POS_ENCODING + INPUT_EMBEDDING\n",
    "ATTENTION_OUTPUT = layers.MultiHeadAttention(num_heads=3,\n",
    "key_dim=MY_EMBED)(POS_ENC_OUTPUT,\n",
    "POS_ENC_OUTPUT)\n",
    "X = layers.add([POS_ENC_OUTPUT, ATTENTION_OUTPUT])\n",
    "X = layers.BatchNormalization()(X)\n",
    "# FeedForward Network\n",
    "FFN = Sequential([layers.Dense(MY_HIDDEN, activation=\"relu\"),\n",
    "layers.Dense(MY_EMBED, activation=\"relu\")])(X)\n",
    "X = layers.add([FFN, X])\n",
    "X = layers.BatchNormalization()(X)\n",
    "# 하나의 벡터로 압축해서 Dense로 보내줌\n",
    "X = layers.GlobalAveragePooling1D()(X)\n",
    "X = layers.Dropout(0.1)(X)\n",
    "X = layers.Dense(MY_HIDDEN, activation=\"relu\")(X)\n",
    "X = layers.Dropout(0.1)(X)\n",
    "OUTPUTS = layers.Dense(2, activation=\"softmax\")(X)\n",
    "model = Model(inputs=INPUTS, outputs=OUTPUTS)\n",
    "model.summary()"
   ]
  },
  {
   "cell_type": "markdown",
   "id": "3c4d4e2c",
   "metadata": {},
   "source": [
    "# 10. 학습환경 설정 및 학습하기"
   ]
  },
  {
   "cell_type": "code",
   "execution_count": 24,
   "id": "b7e16cdf",
   "metadata": {},
   "outputs": [
    {
     "name": "stdout",
     "output_type": "stream",
     "text": [
      "1750733936.546477\n",
      "Epoch 1/10\n",
      "100/100 [==============================] - 16s 154ms/step - loss: 0.4667 - acc: 0.7760 - val_loss: 0.6219 - val_acc: 0.7270\n",
      "Epoch 2/10\n",
      "100/100 [==============================] - 15s 154ms/step - loss: 0.2773 - acc: 0.8861 - val_loss: 0.5536 - val_acc: 0.8342\n",
      "Epoch 3/10\n",
      "100/100 [==============================] - 15s 153ms/step - loss: 0.2218 - acc: 0.9133 - val_loss: 0.4818 - val_acc: 0.8112\n",
      "Epoch 4/10\n",
      "100/100 [==============================] - 16s 158ms/step - loss: 0.1805 - acc: 0.9305 - val_loss: 0.4212 - val_acc: 0.8128\n",
      "Epoch 5/10\n",
      "100/100 [==============================] - 16s 160ms/step - loss: 0.1494 - acc: 0.9424 - val_loss: 0.4866 - val_acc: 0.8004\n",
      "Epoch 6/10\n",
      "100/100 [==============================] - 16s 157ms/step - loss: 0.1219 - acc: 0.9495 - val_loss: 0.5328 - val_acc: 0.8064\n",
      "Epoch 7/10\n",
      "100/100 [==============================] - 16s 158ms/step - loss: 0.0926 - acc: 0.9625 - val_loss: 0.6398 - val_acc: 0.7926\n",
      "Epoch 8/10\n",
      "100/100 [==============================] - 16s 165ms/step - loss: 0.0773 - acc: 0.9675 - val_loss: 0.6936 - val_acc: 0.7968\n",
      "Epoch 9/10\n",
      "100/100 [==============================] - 17s 168ms/step - loss: 0.0561 - acc: 0.9783 - val_loss: 1.3552 - val_acc: 0.7982\n",
      "Epoch 10/10\n",
      "100/100 [==============================] - 16s 163ms/step - loss: 0.0484 - acc: 0.9818 - val_loss: 1.8439 - val_acc: 0.7634\n",
      "총 학습시간 : 159.75022983551025\n"
     ]
    }
   ],
   "source": [
    "model.compile(\n",
    "#     loss='binary_crossentropy', # 이진분류시 손실함수\n",
    "            loss=\"sparse_categorical_crossentropy\",\n",
    "              optimizer='adam',\n",
    "              metrics=['acc']\n",
    "             )\n",
    "begin = time() # 70.1.1 부터 현재까지의 밀리세컨\n",
    "print(begin)\n",
    "hist = model.fit(X_train,y_train,\n",
    "                 epochs=MY_EPOCH,\n",
    "                 batch_size=MY_BATCH,\n",
    "                 validation_split=0.2,\n",
    "                 verbose=1\n",
    "                )\n",
    "end = time() # 70.1.1 부터 이시점까지의 밀리세컨\n",
    "print('총 학습시간 :', (end-begin))"
   ]
  },
  {
   "cell_type": "code",
   "execution_count": 87,
   "id": "be46bac4",
   "metadata": {},
   "outputs": [
    {
     "data": {
      "image/png": "[encoded data removed]",
      "text/plain": [
       "<Figure size 1200x600 with 2 Axes>"
      ]
     },
     "metadata": {},
     "output_type": "display_data"
    }
   ],
   "source": [
    "# 5. 모델 학습과정 시각화\n",
    "import matplotlib.pyplot as plt\n",
    "fig, loss_ax = plt.subplots(figsize=(12,6))\n",
    "loss_ax.plot(hist.history['loss'], 'y', label='train loss')\n",
    "loss_ax.plot(hist.history['val_loss'], 'r', label='val loss')\n",
    "acc_ax = loss_ax.twinx()\n",
    "acc_ax.plot(hist.history['acc'], 'g', label='train accuracy')\n",
    "acc_ax.plot(hist.history['val_acc'], 'b', label='val accuracy')\n",
    "loss_ax.set_xlabel('epochs')\n",
    "loss_ax.set_ylabel('loss')\n",
    "acc_ax.set_ylabel('accuracy')\n",
    "loss_ax.legend(loc='center right')\n",
    "acc_ax.legend()\n",
    "plt.show()"
   ]
  },
  {
   "cell_type": "markdown",
   "id": "7617def8",
   "metadata": {},
   "source": [
    "# 11. 모델 평가"
   ]
  },
  {
   "cell_type": "code",
   "execution_count": 88,
   "id": "1955e0da",
   "metadata": {},
   "outputs": [
    {
     "name": "stdout",
     "output_type": "stream",
     "text": [
      "782/782 [==============================] - 7s 8ms/step - loss: 0.7734 - acc: 0.7981\n",
      "정확도 : 0.7980800271034241\n"
     ]
    }
   ],
   "source": [
    "# pad_sequences 'post'\n",
    "loss, acc = model.evaluate(X_test, y_test)\n",
    "print('정확도 :', acc)"
   ]
  },
  {
   "cell_type": "code",
   "execution_count": 89,
   "id": "cf0578c4",
   "metadata": {},
   "outputs": [
    {
     "data": {
      "text/plain": [
       "array([[   0,    0,    0, ...,   14,    6,  717],\n",
       "       [1669,  398,  229, ...,  125,    4, 3077],\n",
       "       [ 687,    2,  203, ...,    9,   57,  975],\n",
       "       ...,\n",
       "       [   0,    0,    0, ...,   21,  846, 5518],\n",
       "       [   8,   97,   14, ..., 2302,    7,  470],\n",
       "       [ 718,    2,    9, ...,   34, 2005, 2643]])"
      ]
     },
     "execution_count": 89,
     "metadata": {},
     "output_type": "execute_result"
    }
   ],
   "source": [
    "X_test"
   ]
  },
  {
   "cell_type": "code",
   "execution_count": 90,
   "id": "45f61fe5",
   "metadata": {},
   "outputs": [
    {
     "name": "stdout",
     "output_type": "stream",
     "text": [
      "782/782 [==============================] - 6s 8ms/step\n"
     ]
    },
    {
     "data": {
      "text/plain": [
       "array([[0],\n",
       "       [1],\n",
       "       [1],\n",
       "       ...,\n",
       "       [0],\n",
       "       [0],\n",
       "       [1]], dtype=int16)"
      ]
     },
     "execution_count": 90,
     "metadata": {},
     "output_type": "execute_result"
    }
   ],
   "source": [
    "# 혼동행렬, recall, precision을 위한 yhat\n",
    "yhat = (model.predict(X_test) > 0.5).astype(np.int16)\n",
    "yhat"
   ]
  },
  {
   "cell_type": "code",
   "execution_count": 91,
   "id": "425b95a1",
   "metadata": {},
   "outputs": [
    {
     "data": {
      "text/plain": [
       "array([[10057,  2443],\n",
       "       [ 2605,  9895]], dtype=int64)"
      ]
     },
     "execution_count": 91,
     "metadata": {},
     "output_type": "execute_result"
    }
   ],
   "source": [
    "confusion_matrix(y_test, yhat)"
   ]
  },
  {
   "cell_type": "code",
   "execution_count": 92,
   "id": "e9bd0628",
   "metadata": {},
   "outputs": [
    {
     "data": {
      "text/plain": [
       "0.7916"
      ]
     },
     "execution_count": 92,
     "metadata": {},
     "output_type": "execute_result"
    }
   ],
   "source": [
    "# recall(실제 True인 것 중 True로 예측한 비율) 10238/(2262+10238)\n",
    "recall_score(y_test, yhat)"
   ]
  },
  {
   "cell_type": "code",
   "execution_count": 93,
   "id": "e7909c80",
   "metadata": {},
   "outputs": [
    {
     "data": {
      "text/plain": [
       "0.8019938401685849"
      ]
     },
     "execution_count": 93,
     "metadata": {},
     "output_type": "execute_result"
    }
   ],
   "source": [
    "# precision(True로 예측한 것 중 실제값이 True인 비율) 10238/(2778+10238)\n",
    "precision_score(y_test, yhat)"
   ]
  },
  {
   "cell_type": "code",
   "execution_count": 94,
   "id": "d3aa307c",
   "metadata": {},
   "outputs": [
    {
     "name": "stdout",
     "output_type": "stream",
     "text": [
      "[1, 830, 2023, 963, 2, 1209, 13, 2014, 1983, 2, 13, 590, 2, 830, 1479, 1206, 2014, 5135, 2, 6, 2, 830, 6, 2014, 963, 2, 1604, 1209, 2, 830, 1992, 1604, 2, 2023, 6, 2014, 1964, 963, 590, 2, 2, 830, 2023, 963, 2, 1209, 13, 1479, 590, 830, 2, 6, 1148, 830, 2, 1992, 6, 590, 2, 1095, 963, 1209, 13, 3363, 13, 830, 963, 2014, 5135, 2, 963, 3363, 830, 963, 1479, 830, 6, 13, 3363, 13, 3363, 1331, 2, 2, 830, 2023, 963, 2, 1992, 1604, 1479, 2014, 1095, 2, 1095, 963, 590, 13, 1331, 3363, 2, 2014, 1604, 1604, 2295, 963, 1095, 2, 6, 1983, 6, 4543, 13, 3363, 1331, 2, 2, 590, 1657, 1479, 6, 1992, 2014, 13, 3363, 1331, 2, 590, 1148, 963, 3363, 963, 1479, 5135, 2, 6, 3363, 1095, 2, 590, 1604, 1983, 963, 2, 1331, 963, 3363, 1206, 13, 3363, 963, 2014, 5135, 2, 590, 1148, 6, 1479, 5135, 2, 1983, 1604, 1983, 963, 3363, 830, 590, 2, 13, 3363, 1964, 1604, 2014, 1964, 13, 3363, 1331, 2, 830, 2023, 963, 2, 13, 3363, 1209, 963, 1148, 830, 963, 1095, 2, 2, 830, 2023, 13, 590, 2, 1657, 6, 1479, 830, 2, 1604, 1209, 2, 830, 2023, 963, 2, 1209, 13, 2014, 1983, 2, 1992, 6, 590, 2, 503, 5135, 2, 1209, 6, 1479, 2, 830, 2023, 963, 2, 1148, 2014, 1604, 590, 963, 590, 830, 2, 830, 1604, 2, 830, 2023, 963, 2, 1657, 1479, 963, 1964, 13, 1604, 1206, 590, 2, 13, 3363, 590, 830, 6, 2014, 1983, 963, 3363, 830, 590, 2, 2, 830, 2023, 963, 2, 1095, 13, 1479, 963, 1148, 830, 13, 1604, 3363, 2, 2023, 963, 1479, 963, 2, 590, 830, 6, 3363, 1095, 590, 2, 1604, 1206, 830, 2, 2, 2, 1992, 13, 830, 2023, 2, 1331, 1479, 6, 13, 3363, 5135, 2, 1148, 2014, 1604, 590, 963, 2, 1206, 1657, 590, 2, 2, 1209, 6, 590, 830, 2, 1468, 1206, 1983, 1657, 2, 1148, 1206, 830, 590, 2, 2, 6, 3363, 1095, 2, 1468, 6, 1479, 1479, 13, 3363, 1331, 2, 830, 1479, 6, 3363, 590, 13, 830, 13, 1604, 3363, 590, 2, 1479, 963, 1983, 13, 3363, 13, 590, 1148, 963, 3363, 830, 2, 1604, 1209, 2, 830, 2023, 963, 2, 1604, 1479, 13, 1331, 13, 3363, 6, 2014, 2, 1209, 13, 2014, 1983, 2, 2, 13, 830, 2, 1657, 1206, 2014, 2014, 590, 2, 5135, 1604, 1206, 2, 1479, 13, 1331, 2023, 830, 2, 13, 3363, 830, 1604, 2, 830, 2023, 963, 2, 1148, 2023, 6, 1604, 590, 2, 2, 2, 1206, 3363, 1209, 1604, 1479, 830, 1206, 3363, 6, 830, 963, 2014, 5135, 2, 2, 830, 2023, 963, 2, 1983, 1604, 1983, 963, 3363, 830, 1206, 1983, 2, 1095, 1604, 963, 590, 3363, 758, 830, 2, 2014, 6, 590, 830, 2, 2, 6, 590, 2, 830, 2023, 963, 2, 1209, 13, 2014, 1983, 2, 830, 1479, 6, 3363, 590, 13, 830, 13, 1604, 3363, 590, 2, 13, 3363, 830, 1604, 2, 13, 830, 590, 2, 590, 963, 1148, 1604, 3363, 1095, 2, 2023, 6, 2014, 1209, 2, 2, 13, 830, 2, 590, 2023, 13, 1209, 830, 590, 2, 1331, 963, 6, 1479, 590, 2, 13, 3363, 830, 1604, 2, 6, 2, 1983, 1604, 1479, 963, 2, 1983, 963, 2014, 1604, 1095, 1479, 6, 1983, 6, 830, 13, 1148, 2, 2023, 1206, 1983, 6, 3363, 2, 1095, 1479, 6, 1983, 6, 2, 2, 830, 2023, 963, 2, 1209, 1604, 1148, 1206, 590, 2, 1983, 1604, 1964, 963, 590, 2, 6, 1992, 6, 5135, 2, 1209, 1479, 1604, 1983, 2, 830, 2023, 963, 2, 13, 3363, 1209, 963, 1148, 830, 963, 1095, 2, 830, 2023, 1479, 963, 6, 830, 2, 6, 3363, 1095, 2, 830, 1604, 1992, 6, 1479, 1095, 2, 6, 2, 2014, 6, 1148, 2295, 2014, 1206, 590, 830, 963, 1479, 2, 590, 1206, 503, 1657, 2014, 1604, 830, 2, 13, 3363, 1964, 1604, 2014, 1964, 13, 3363, 1331, 2, 6, 2, 1983, 1604, 830, 2023, 963, 1479, 2, 6, 3363, 1095, 2, 6, 2, 1095, 1604, 1148, 830, 1604, 1479, 2, 2, 830, 2023, 963, 2, 1148, 2023, 6, 1479, 6, 1148, 830, 963, 1479, 590, 2, 6, 830, 2, 830, 2023, 13, 590, 2, 1657, 1604, 13, 3363, 830, 2, 1983, 6, 2295, 963, 2, 590, 1604, 1983, 963, 2, 3891, 1206, 963, 590, 830, 13, 1604, 3363, 6, 503, 2014, 963, 2, 1095, 963, 1148, 13, 590, 13, 1604, 3363, 590, 2, 1992, 2023, 13, 1148, 2023, 2, 1479, 963, 6, 2014, 2014, 5135, 2, 1095, 1604, 963, 590, 3363, 758, 830, 2, 2023, 963, 2014, 1657, 2, 830, 2023, 963, 2, 1209, 13, 2014, 1983, 758, 590, 2, 1964, 6, 2014, 13, 1095, 13, 830, 5135, 2, 2, 2, 830, 2023, 963, 2, 1209, 13, 3363, 6, 2014, 2, 6, 1148, 830, 2, 1206, 3363, 1209, 1604, 1479, 830, 1206, 3363, 6, 830, 963, 2014, 5135, 2, 830, 963, 963, 830, 963, 1479, 963, 1095, 2, 1604, 3363, 2, 2014, 6, 1148, 2295, 2014, 1206, 590, 830, 1479, 963, 2, 6, 3363, 1095, 2, 503, 1604, 1479, 1095, 963, 1479, 2014, 13, 3363, 963, 2, 1148, 1604, 1983, 963, 1095, 13, 1148, 2, 2, 1148, 1604, 1983, 1657, 2014, 963, 830, 963, 2014, 5135, 2, 1148, 2023, 6, 3363, 1331, 13, 3363, 1331, 2, 830, 2023, 963, 2, 830, 1604, 3363, 963, 2, 1604, 1209, 2, 830, 2023, 963, 2, 1209, 13, 1479, 590, 830, 2, 6, 1148, 830, 2, 2, 2, 13, 2, 590, 830, 6, 3363, 1095, 2, 503, 5135, 2, 590, 6, 5135, 13, 3363, 1331, 2, 830, 2023, 963, 2, 1095, 13, 1479, 963, 1148, 830, 13, 3363, 1331, 2, 2, 1148, 6, 1983, 963, 1479, 6, 2, 1992, 1604, 1479, 2295, 2, 2, 963, 1095, 13, 830, 13, 3363, 1331, 2, 6, 3363, 1095, 2, 1148, 13, 3363, 963, 1983, 6, 830, 1604, 1331, 1479, 6, 1657, 2023, 5135, 2, 1992, 963, 1479, 963, 2, 830, 2023, 963, 2, 2023, 13, 1331, 2023, 2014, 13, 1331, 2023, 830, 2, 2, 830, 2023, 963, 2, 2014, 6, 3363, 1095, 590, 1148, 6, 1657, 963, 590, 2, 6, 3363, 1095, 2, 1657, 1604, 590, 830, 2, 6, 1657, 1604, 1148, 6, 2014, 5135, 1657, 830, 13, 1148, 2, 590, 963, 830, 830, 13, 3363, 1331, 2, 1992, 6, 590, 2, 503, 963, 6, 1206, 830, 13, 1209, 1206, 2014, 2, 830, 1604, 2, 2014, 1604, 1604, 2295, 2, 6, 830, 2, 2, 830, 2023, 963, 590, 963, 2, 963, 2014, 963, 1983, 963, 3363, 830, 590, 2, 1983, 6, 1095, 963, 2, 830, 2023, 963, 2, 1209, 13, 2014, 1983, 2, 1992, 1604, 1479, 830, 2023, 2, 1992, 6, 830, 1148, 2023, 13, 3363, 1331, 2, 2, 830, 2023, 963, 1479, 963, 2, 1992, 963, 1479, 963, 2, 590, 1604, 1983, 963, 2, 1657, 2014, 1604, 830, 2, 963, 2014, 963, 1983, 963, 3363, 830, 590, 2, 830, 2023, 6, 830, 2, 1992, 963, 1479, 963, 2, 13, 3363, 830, 963, 1479, 963, 590, 830, 13, 3363, 1331, 2, 963, 3363, 1604, 1206, 1331, 2023, 2, 503, 1206, 830, 2, 1992, 963, 1479, 963, 2, 3363, 963, 1964, 963, 1479, 2, 963, 1745, 1657, 2014, 1604, 1479, 963, 1095, 2, 830, 1604, 2, 830, 2023, 963, 2, 1209, 1206, 2014, 2014, 2, 1657, 1604, 830, 963, 3363, 830, 13, 6, 2014, 2, 2, 2, 2023, 1604, 1992, 963, 1964, 963, 1479, 2, 6, 2, 1992, 963, 6, 2295, 2, 1657, 2014, 1604, 830, 2, 2, 963, 1964, 963, 3363, 2, 1992, 963, 6, 2295, 963, 1479, 2, 1148, 2023, 6, 1479, 6, 1148, 830, 963, 1479, 590, 2, 6, 3363, 1095, 2, 6, 2, 2014, 6, 1148, 2295, 2014, 1206, 590, 830, 1479, 963, 2, 963, 3363, 1095, 13, 3363, 1331, 2, 1657, 1479, 963, 1964, 963, 3363, 830, 2, 830, 2023, 13, 590, 2, 13, 3363, 590, 830, 6, 2014, 1983, 963, 3363, 830, 2, 1209, 1479, 1604, 1983, 2, 503, 963, 13, 3363, 1331, 2, 1983, 963, 1983, 1604, 1479, 6, 503, 2014, 963, 2, 2] 1346\n"
     ]
    }
   ],
   "source": [
    "review = \"\"\"The film is truly a tale of two halves. The first act was definitely entertaining. The world design looked amazing. Sprawling scenery and some genuinely scary moments involving the infected. This part of the film was by far the closest to the previous instalments. The direction here stands out - with grainy close-ups, fast jump cuts, and jarring transitions reminiscent of the original film, it pulls you right into the chaos.\n",
    "\n",
    "Unfortunately, the momentum doesn't last. As the film transitions into its second half, it shifts gears into a more melodramatic human drama. The focus moves away from the infected threat and toward a lackluster subplot involving a mother and a doctor. The characters at this point make some questionable decisions which really doesn't help the film's validity.\n",
    "\n",
    "The final act unfortunately teetered on lacklustre and borderline comedic, completely changing the tone of the first act.\n",
    "\n",
    "I stand by saying the directing, camera work, editing and cinematography were the highlight. The landscapes and post apocalyptic setting was beautiful to look at. These elements made the film worth watching. There were some plot elements that were interesting enough but were never explored to the full potential.\n",
    "\n",
    "However a weak plot, even weaker characters and a lacklustre ending prevent this instalment from being memorable.\n",
    "\"\"\".lower()\n",
    "# print(review)\n",
    "import re\n",
    "review = re.sub('[^a-zA-Z\\']', ' ',review)\n",
    "# print('영화평(특수문자 제외):', review)\n",
    "review = [1] + [word_to_id.get(word, -1) + 3 for word in review ]\n",
    "print(review, len(review))"
   ]
  },
  {
   "cell_type": "code",
   "execution_count": 95,
   "id": "e3cbe6e9",
   "metadata": {},
   "outputs": [
    {
     "data": {
      "text/plain": [
       "array([[2023,    6, 1479,    6, 1148,  830,  963, 1479,  590,    2,    6,\n",
       "        3363, 1095,    2,    6,    2, 2014,    6, 1148, 2295, 2014, 1206,\n",
       "         590,  830, 1479,  963,    2,  963, 3363, 1095,   13, 3363, 1331,\n",
       "           2, 1657, 1479,  963, 1964,  963, 3363,  830,    2,  830, 2023,\n",
       "          13,  590,    2,   13, 3363,  590,  830,    6, 2014, 1983,  963,\n",
       "        3363,  830,    2, 1209, 1479, 1604, 1983,    2,  503,  963,   13,\n",
       "        3363, 1331,    2, 1983,  963, 1983, 1604, 1479,    6,  503, 2014,\n",
       "         963,    2,    2]])"
      ]
     },
     "execution_count": 95,
     "metadata": {},
     "output_type": "execute_result"
    }
   ],
   "source": [
    "input_data = pad_sequences([review],\n",
    "                       padding='pre',\n",
    "                       truncating='pre', # post : 뒷부분을 짜르고 앞부분을 남김\n",
    "                       maxlen=MY_LENGTH)\n",
    "input_data"
   ]
  },
  {
   "cell_type": "code",
   "execution_count": 96,
   "id": "cc073752",
   "metadata": {},
   "outputs": [
    {
     "name": "stdout",
     "output_type": "stream",
     "text": [
      "1/1 [==============================] - 0s 31ms/step\n"
     ]
    },
    {
     "data": {
      "text/plain": [
       "array([0], dtype=int8)"
      ]
     },
     "execution_count": 96,
     "metadata": {},
     "output_type": "execute_result"
    }
   ],
   "source": [
    "result = model.predict(input_data).astype('int8').reshape(-1)\n",
    "result"
   ]
  },
  {
   "cell_type": "code",
   "execution_count": null,
   "id": "6a7c711f",
   "metadata": {},
   "outputs": [],
   "source": []
  },
  {
   "cell_type": "code",
   "execution_count": null,
   "id": "67a9ed1e",
   "metadata": {},
   "outputs": [],
   "source": []
  },
  {
   "cell_type": "code",
   "execution_count": null,
   "id": "5c291a19",
   "metadata": {},
   "outputs": [],
   "source": []
  },
  {
   "cell_type": "code",
   "execution_count": null,
   "id": "7087df19",
   "metadata": {},
   "outputs": [],
   "source": []
  }
 ],
 "metadata": {
  "kernelspec": {
   "display_name": "ml-dl-nlp",
   "language": "python",
   "name": "ml-dl-nlp"
  },
  "language_info": {
   "codemirror_mode": {
    "name": "ipython",
    "version": 3
   },
   "file_extension": ".py",
   "mimetype": "text/x-python",
   "name": "python",
   "nbconvert_exporter": "python",
   "pygments_lexer": "ipython3",
   "version": "3.10.18"
  },
  "toc": {
   "base_numbering": 1,
   "nav_menu": {},
   "number_sections": false,
   "sideBar": true,
   "skip_h1_title": false,
   "title_cell": "Table of Contents",
   "title_sidebar": "Contents",
   "toc_cell": false,
   "toc_position": {
    "height": "calc(100% - 180px)",
    "left": "10px",
    "top": "150px",
    "width": "232.6px"
   },
   "toc_section_display": true,
   "toc_window_display": true
  }
 },
 "nbformat": 4,
 "nbformat_minor": 5
}
