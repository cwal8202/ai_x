{
 "cells": [
  {
   "cell_type": "code",
   "execution_count": 110,
   "id": "6b927c6f",
   "metadata": {},
   "outputs": [
    {
     "data": {
      "text/html": [
       "\n",
       "<style>\n",
       "div.container{width:86% !important;}\n",
       "div.cell.code_cell.renderefd{width:100%;}\n",
       "div.CodeMirror {font-family:Consolas; font-size:15pt;}\n",
       "div.output {font-size:15pt; font-weight:bold;}\n",
       "div.input {font-family:Consolas; font-size:15pt;}\n",
       "div.prompt {min-width:70px;}\n",
       "div#toc-wrapper{padding-top:120px;}\n",
       "div.text_cell_render ul li{font-size:12pt;padding:5px;}\n",
       "table.dataframe{font-size:15px;}\n",
       "</style>\n"
      ],
      "text/plain": [
       "<IPython.core.display.HTML object>"
      ]
     },
     "metadata": {},
     "output_type": "display_data"
    }
   ],
   "source": [
    "from IPython.display import display, HTML\n",
    "display(HTML(\"\"\"\n",
    "<style>\n",
    "div.container{width:86% !important;}\n",
    "div.cell.code_cell.renderefd{width:100%;}\n",
    "div.CodeMirror {font-family:Consolas; font-size:15pt;}\n",
    "div.output {font-size:15pt; font-weight:bold;}\n",
    "div.input {font-family:Consolas; font-size:15pt;}\n",
    "div.prompt {min-width:70px;}\n",
    "div#toc-wrapper{padding-top:120px;}\n",
    "div.text_cell_render ul li{font-size:12pt;padding:5px;}\n",
    "table.dataframe{font-size:15px;}\n",
    "</style>\n",
    "\"\"\"))"
   ]
  },
  {
   "cell_type": "markdown",
   "id": "53e98b31",
   "metadata": {},
   "source": [
    "# ※ ①naver open API를 활용하여 네이버지식인 \"전주여행\"과 \"경주여행\"을 각각 500건씩 검색(re ? )후 백업 ->  ②품사태깅 백업 -> ③명사만 추출 -> ④빈도분석(DataFrame) 후 백업-> ⑤빈도 시각화(워드클라우드, Text) ->⑥ Word2Vec\n",
    "\n",
    "# 1. 네이버 open API를 활용하여 검색 추출\n",
    "- 검색어, no, title, link, description, title + ' ' + description(total_text)"
   ]
  },
  {
   "cell_type": "code",
   "execution_count": 111,
   "id": "53b3e51b",
   "metadata": {},
   "outputs": [
    {
     "data": {
      "text/plain": [
       "'C:\\\\ai_x\\\\source\\\\07_자연어처리'"
      ]
     },
     "execution_count": 111,
     "metadata": {},
     "output_type": "execute_result"
    }
   ],
   "source": [
    "# pip install python-dotenv (환경변수를 쓰기 위한 라이브러리)\n",
    "# pip install python-decouple (주피터 환경에서는 안 될 수도 있음)\n",
    "import os\n",
    "os.getcwd() # 현재 작업디렉토리"
   ]
  },
  {
   "cell_type": "code",
   "execution_count": 112,
   "id": "7ab6023c",
   "metadata": {},
   "outputs": [
    {
     "name": "stdout",
     "output_type": "stream",
     "text": [
      " C 드라이브의 볼륨에는 이름이 없습니다.\n",
      " 볼륨 일련 번호: 3664-591E\n",
      "\n",
      " C:\\ai_x\\source\\07_자연어처리 디렉터리\n",
      "\n",
      "2025-06-18  오후 05:48                56 .env\n",
      "               1개 파일                  56 바이트\n",
      "               0개 디렉터리  130,491,416,576 바이트 남음\n"
     ]
    }
   ],
   "source": [
    "%ls .env"
   ]
  },
  {
   "cell_type": "code",
   "execution_count": 113,
   "id": "3c6dd332",
   "metadata": {},
   "outputs": [
    {
     "data": {
      "text/plain": [
       "True"
      ]
     },
     "execution_count": 113,
     "metadata": {},
     "output_type": "execute_result"
    }
   ],
   "source": [
    "from dotenv import load_dotenv\n",
    "load_dotenv()\n",
    "\n",
    "# print(os.getenv('Client_ID'))\n",
    "# print(os.getenv('Client_Secret'))"
   ]
  },
  {
   "cell_type": "code",
   "execution_count": 114,
   "id": "91d5876f",
   "metadata": {},
   "outputs": [],
   "source": [
    "from decouple import config\n",
    "# print(config('Client_ID'))\n",
    "# print(config('Client_Secret'))"
   ]
  },
  {
   "cell_type": "code",
   "execution_count": 115,
   "id": "29ce0f69",
   "metadata": {},
   "outputs": [
    {
     "name": "stdout",
     "output_type": "stream",
     "text": [
      "{\n",
      "\t\"lastBuildDate\":\"Thu, 19 Jun 2025 12:58:42 +0900\",\n",
      "\t\"total\":931143,\n",
      "\t\"start\":1,\n",
      "\t\"display\":10,\n",
      "\t\"items\":[\n",
      "\t\t{\n",
      "\t\t\t\"title\":\"<b>경주 여행<\\/b>코스 루지월드 해방감을 느꼈어요\",\n",
      "\t\t\t\"link\":\"https:\\/\\/blog.naver.com\\/sangil00\\/223903211939\",\n",
      "\t\t\t\"description\":\"오랜만에 활기차고 건강하게 하루를 보낼 수 있었고요. 날씨 좋은 계절에 경주를 방문하신다면 루지월드를 꼭 <b>경주 여행<\\/b>코스에 넣어보시길 바라요. 정말 후회 없는 경험이 될 거예요. #<b>경주여행<\\/b>코스 #루지월드\",\n",
      "\t\t\t\"bloggername\":\"길을 찾는 즐거움_거칠부\",\n",
      "\t\t\t\"bloggerlink\":\"blog.naver.com\\/sangil00\",\n",
      "\t\t\t\"postdate\":\"20250618\"\n",
      "\t\t},\n",
      "\t\t{\n",
      "\t\t\t\"title\":\"당일치기 <\n"
     ]
    }
   ],
   "source": [
    "# 네이버 개발자 센터 document에 있는 내용 그냥 그대로 가져와 봄\n",
    "import os\n",
    "import sys\n",
    "import urllib.request\n",
    "client_id = os.getenv('Client_ID')\n",
    "client_secret = os.getenv('Client_Secret')\n",
    "encText = urllib.parse.quote(\"경주 여행\")\n",
    "url = \"https://openapi.naver.com/v1/search/blog?query=\" + encText # JSON 결과\n",
    "# url = \"https://openapi.naver.com/v1/search/blog.xml?query=\" + encText # XML 결과\n",
    "request = urllib.request.Request(url)\n",
    "request.add_header(\"X-Naver-Client-Id\",client_id)\n",
    "request.add_header(\"X-Naver-Client-Secret\",client_secret)\n",
    "response = urllib.request.urlopen(request)\n",
    "rescode = response.getcode()\n",
    "if(rescode==200):\n",
    "    response_body = response.read()\n",
    "    print(response_body.decode('utf-8')[:500])\n",
    "else:\n",
    "    print(\"Error Code:\" + rescode)"
   ]
  },
  {
   "cell_type": "code",
   "execution_count": 116,
   "id": "1544df11",
   "metadata": {},
   "outputs": [],
   "source": [
    "# 패키지 import\n",
    "import requests\n",
    "import time\n",
    "import os\n",
    "import json # response 텍스트를 json 딕셔너리로\n",
    "from html import unescape # description에 있는 &lt;(특수문자)을 <으로 변경, &gt;-> >\n",
    "import pandas as pd\n",
    "import re"
   ]
  },
  {
   "cell_type": "code",
   "execution_count": 117,
   "id": "cd9df120",
   "metadata": {
    "scrolled": true
   },
   "outputs": [
    {
     "name": "stdout",
     "output_type": "stream",
     "text": [
      "100\n",
      "{'title': '<b>경주 여행</b> 코스 어디가★', 'link': 'https://kin.naver.com/qna/detail.naver?d1id=9&dirId=90111&docId=277365452&qb=6rK97KO8IOyXrO2WiQ==&enc=utf8', 'description': '가족들이랑 <b>경주여행</b>을 가려고 하는데 !! <b>경주 여행</b> 코스를 어떻게 해야할지 모르겟네요!! <b>경주 여행</b> 코스 어디가 좋을까요? 사실 중학교때 가보고 안가봤어요 <b>경주 여행</b>코스 가장 핫플레이스만 가보고 싶어요!! 혹시 <b>경주 여행</b>코스 다들... '} {'title': '<b>경주 여행</b>!! 황리단길 맛집추천', 'link': 'https://kin.naver.com/qna/detail.naver?d1id=9&dirId=901&docId=451834956&qb=6rK97KO8IOyXrO2WiQ==&enc=utf8', 'description': '이번주에 <b>경주여행</b> 가는데 황리단길 근처로 맛집 많이 추천해주세요 ~ 뚜벅이라 거리멀면 힘들어요 ㅠㅠ <b>경주 여행</b>을 위한 황리단길 맛집 추천과 황리단 맛집과 경주 맛집은 매일 많은 분들이 줄을 오랫동안 서서 기다려 먹는 곳과 배달... '}\n"
     ]
    }
   ],
   "source": [
    "query = \"경주 여행\"\n",
    "start = 1\n",
    "url = f\"https://openapi.naver.com/v1/search/kin.json?query={query}&display=100&start={start}\"\n",
    "headers = {\"X-Naver-Client-Id\":client_id,\n",
    "           \"X-Naver-Client-Secret\":client_secret}\n",
    "response = requests.get(url, headers=headers)\n",
    "items = json.loads(response.text)['items']\n",
    "print(len(items))\n",
    "print(items[51],items[58])"
   ]
  },
  {
   "cell_type": "code",
   "execution_count": 236,
   "id": "d6910653",
   "metadata": {},
   "outputs": [
    {
     "name": "stdout",
     "output_type": "stream",
     "text": [
      "<b>경주 여행</b>!! 황리단길 맛집추천\n",
      "https://kin.naver.com/qna/detail.naver?d1id=9&dirId=901&docId=451834956&qb=6rK97KO8IOyXrO2WiQ==&enc=utf8\n",
      "이번주에 <b>경주여행</b> 가는데 황리단길 근처로 맛집 많이 추천해주세요 ~ 뚜벅이라 거리멀면 힘들어요 ㅠㅠ <b>경주 여행</b>을 위한 황리단길 맛집 추천과 황리단 맛집과 경주 맛집은 매일 많은 분들이 줄을 오랫동안 서서 기다려 먹는 곳과 배달... \n"
     ]
    }
   ],
   "source": [
    "item = items[58]\n",
    "title = item['title']\n",
    "link = item['link']\n",
    "description = item['description']\n",
    "print(title, link, description, sep='\\n')"
   ]
  },
  {
   "cell_type": "code",
   "execution_count": 237,
   "id": "2919a9c5",
   "metadata": {},
   "outputs": [
    {
     "name": "stdout",
     "output_type": "stream",
     "text": [
      " 경주 여행 !! 황리단길 맛집추천\n",
      "https://kin.naver.com/qna/detail.naver?d1id=9&dirId=901&docId=451834956&qb=6rK97KO8IOyXrO2WiQ==&enc=utf8\n",
      "이번주에  경주여행  가는데 황리단길 근처로 맛집 많이 추천해주세요 ~ 뚜벅이라 거리멀면 힘들어요 ㅠㅠ  경주 여행 을 위한 황리단길 맛집 추천과 황리단 맛집과 경주 맛집은 매일 많은 분들이 줄을 오랫동안 서서 기다려 먹는 곳과 배달... \n"
     ]
    }
   ],
   "source": [
    "# 위의 title의 <b>태그 없애기, description의 <b>태그 없애고 html의 특수문자 없애기\n",
    "item = items[58]\n",
    "title = item['title'].replace('<b>', ' ').replace('</b>', ' ')\n",
    "link = item['link']\n",
    "description = item['description'].replace('<b>', ' ').replace('</b>', ' ')\n",
    "description = unescape(description) # html 특수문자 처리(&lt; -> <로 대체)\n",
    "print(title, link, description, sep='\\n')"
   ]
  },
  {
   "cell_type": "code",
   "execution_count": 238,
   "id": "7ba06706",
   "metadata": {},
   "outputs": [
    {
     "name": "stdout",
     "output_type": "stream",
     "text": [
      " 추억여행 ktx 타고 짱 \n"
     ]
    }
   ],
   "source": [
    "import re\n",
    "description = \"#추억여행 ####ktx 타고@짱@ ㅎㅎㅎ ㅠㅠ ㅋㅋ\"\n",
    "\n",
    "# 정규표현식: 알파벳, 숫자, 한글만 남기고 나머지는 제거\n",
    "description = re.sub(r'[^a-zA-Z0-9가-힣]', ' ', description)\n",
    "description = re.sub('\\s+', ' ', description)\n",
    "print(description)"
   ]
  },
  {
   "cell_type": "code",
   "execution_count": 239,
   "id": "bc535582",
   "metadata": {},
   "outputs": [],
   "source": [
    "# 네이버 API 계정 정보\n",
    "from dotenv import load_dotenv\n",
    "import os\n",
    "load_dotenv()\n",
    "client_id = os.getenv('Client_ID')\n",
    "client_secret = os.getenv('Client_Secret')\n",
    "queries = ['전주 여행', '경주 여행']\n",
    "max_start = 5"
   ]
  },
  {
   "cell_type": "code",
   "execution_count": 122,
   "id": "f00026fd",
   "metadata": {},
   "outputs": [],
   "source": [
    "# 방법1\n",
    "def get_search_element_save(query, start):\n",
    "    headers = {'X-Naver-Client-Id':client_id,\n",
    "           'X-Naver-Client-Secret':client_secret}\n",
    "    url = f'https://openapi.naver.com/v1/search/kin.json?query={query}&display=100&start={start}'\n",
    "    response = requests.get(url, headers=headers)\n",
    "    items = json.loads(response.text)['items']\n",
    "    for i, item in enumerate(items):\n",
    "        title = item['title'].replace('<b>', ' ').replace('</b>', ' ')\n",
    "        link = item['link']\n",
    "        description = item['description'].replace('<b>', ' ').replace('</b>', ' ')\n",
    "#         print('수정전 :', description)\n",
    "        description = unescape(description) # html 특수문자 처리(&lt; -> <로 대체)\n",
    "        description = re.sub(r'[^a-zA-Z0-9가-힣]', ' ', description)\n",
    "        description = re.sub('\\s+', ' ', description)\n",
    "#         print('수정후 :', description)\n",
    "        # print(query, (start*100+i+1), title, link, description, title+' ' +description)\n",
    "        with open(file_name, 'a', encoding='utf-8') as file:\n",
    "            file.write('{}\\t{}\\t{}\\t{}\\t{}\\t{}\\n'.format(query, \n",
    "                                                         (start-1)*100+i+1,\n",
    "                                                         title,\n",
    "                                                         link,\n",
    "                                                         description, \n",
    "                                                         title + ' ' +description))"
   ]
  },
  {
   "cell_type": "code",
   "execution_count": 123,
   "id": "6413d548",
   "metadata": {},
   "outputs": [],
   "source": [
    "# 데이터를 저장할 파일 생성 (naver_kin.txt)하고 title 저장(header저장)\n",
    "file_name = 'data/naver_kin.csv'\n",
    "with open(file_name, 'w', encoding='utf-8') as file:\n",
    "    file.write('{}\\t{}\\t{}\\t{}\\t{}\\t{}\\n'.format('query', \n",
    "                            'no','title','link', 'description', 'total_text'))"
   ]
  },
  {
   "cell_type": "code",
   "execution_count": 124,
   "id": "64af7fc2",
   "metadata": {},
   "outputs": [
    {
     "name": "stdout",
     "output_type": "stream",
     "text": [
      "1 전주 여행 읽는 중\n",
      "2 전주 여행 읽는 중\n",
      "3 전주 여행 읽는 중\n",
      "4 전주 여행 읽는 중\n",
      "5 전주 여행 읽는 중\n",
      "1 경주 여행 읽는 중\n",
      "2 경주 여행 읽는 중\n",
      "3 경주 여행 읽는 중\n",
      "4 경주 여행 읽는 중\n",
      "5 경주 여행 읽는 중\n"
     ]
    }
   ],
   "source": [
    "for query in queries:\n",
    "    for start in range(1, max_start+1):\n",
    "        print(start, query, '읽는 중')\n",
    "        get_search_element_save(query, start)\n",
    "        time.sleep(0.5)"
   ]
  },
  {
   "cell_type": "code",
   "execution_count": 125,
   "id": "6daa14bb",
   "metadata": {},
   "outputs": [],
   "source": [
    "# 방법2 (수업시간 내용과 동일)\n",
    "def get_search_element_return(query, start):\n",
    "    headers = {'X-Naver-Client-Id':client_id,\n",
    "           'X-Naver-Client-Secret':client_secret}\n",
    "    url = f'https://openapi.naver.com/v1/search/kin.json?query={query}&display=100&start={start}'\n",
    "    response = requests.get(url, headers=headers)\n",
    "    items = json.loads(response.text)['items']\n",
    "    result = []\n",
    "    for i, item in enumerate(items):\n",
    "        title = item['title'].replace('<b>', ' ').replace('</b>', ' ')\n",
    "        link = item['link']\n",
    "        description = item['description'].replace('<b>', ' ').replace('</b>', ' ')\n",
    "#         print('수정전 :', description)\n",
    "        description = unescape(description) # html 특수문자 처리(&lt; -> <로 대체)\n",
    "        description = re.sub(r'[^a-zA-Z0-9가-힣]', ' ', description)\n",
    "        description = re.sub('\\s+', ' ', description)\n",
    "#         print('수정후 :', description)\n",
    "        # print(query, (start*100+i+1), title, link, description, title+' ' +description)\n",
    "        result.append({'query':query,\n",
    "                      'no':(start-1)*100+i+1,\n",
    "                      'title':title,\n",
    "                      'link':link,\n",
    "                      'description':description,\n",
    "                      'total_text':title+ ' ' + description})\n",
    "    return result"
   ]
  },
  {
   "cell_type": "code",
   "execution_count": 127,
   "id": "0268336b",
   "metadata": {},
   "outputs": [
    {
     "name": "stdout",
     "output_type": "stream",
     "text": [
      "1 전주 여행 읽는 중\n",
      "2 전주 여행 읽는 중\n",
      "3 전주 여행 읽는 중\n",
      "4 전주 여행 읽는 중\n",
      "5 전주 여행 읽는 중\n",
      "1 경주 여행 읽는 중\n",
      "2 경주 여행 읽는 중\n",
      "3 경주 여행 읽는 중\n",
      "4 경주 여행 읽는 중\n",
      "5 경주 여행 읽는 중\n"
     ]
    }
   ],
   "source": [
    "result_total = []\n",
    "for query in queries:\n",
    "    for start in range(1, max_start+1):\n",
    "        print(start, query, '읽는 중')\n",
    "        result_total.extend(get_search_element_return(query, start))\n",
    "        time.sleep(0.5)\n",
    "df = pd.DataFrame(result_total)\n",
    "df.to_csv('data/naver_kin.csv', index=False, sep='\\t')"
   ]
  },
  {
   "cell_type": "markdown",
   "id": "0147125d",
   "metadata": {},
   "source": [
    "# 2. 품사태깅 백업"
   ]
  },
  {
   "cell_type": "code",
   "execution_count": 128,
   "id": "1ba55444",
   "metadata": {},
   "outputs": [
    {
     "data": {
      "text/html": [
       "<div>\n",
       "<style scoped>\n",
       "    .dataframe tbody tr th:only-of-type {\n",
       "        vertical-align: middle;\n",
       "    }\n",
       "\n",
       "    .dataframe tbody tr th {\n",
       "        vertical-align: top;\n",
       "    }\n",
       "\n",
       "    .dataframe thead th {\n",
       "        text-align: right;\n",
       "    }\n",
       "</style>\n",
       "<table border=\"1\" class=\"dataframe\">\n",
       "  <thead>\n",
       "    <tr style=\"text-align: right;\">\n",
       "      <th></th>\n",
       "      <th>query</th>\n",
       "      <th>no</th>\n",
       "      <th>title</th>\n",
       "      <th>link</th>\n",
       "      <th>description</th>\n",
       "      <th>total_text</th>\n",
       "    </tr>\n",
       "  </thead>\n",
       "  <tbody>\n",
       "    <tr>\n",
       "      <th>0</th>\n",
       "      <td>전주 여행</td>\n",
       "      <td>1</td>\n",
       "      <td>전주  가볼만한곳 추천 받아요</td>\n",
       "      <td>https://kin.naver.com/qna/detail.naver?d1id=9&amp;...</td>\n",
       "      <td>추억의 7080 다양한체험 7080감성 추억여행 테마박물관 유익한시간 2 전북 전...</td>\n",
       "      <td>전주  가볼만한곳 추천 받아요  추억의 7080 다양한체험 7080감성 추억여행 ...</td>\n",
       "    </tr>\n",
       "    <tr>\n",
       "      <th>1</th>\n",
       "      <td>전주 여행</td>\n",
       "      <td>2</td>\n",
       "      <td>전주여행 갈려고하는데요!</td>\n",
       "      <td>https://kin.naver.com/qna/detail.naver?d1id=9&amp;...</td>\n",
       "      <td>전주여행 을 갈려고하는데요 아는사람과 갈려고하는데 호텔은 좋은가격에 정했고 음 2...</td>\n",
       "      <td>전주여행 갈려고하는데요!  전주여행 을 갈려고하는데요 아는사람과 갈려고하는데 호텔...</td>\n",
       "    </tr>\n",
       "  </tbody>\n",
       "</table>\n",
       "</div>"
      ],
      "text/plain": [
       "   query  no              title  \\\n",
       "0  전주 여행   1   전주  가볼만한곳 추천 받아요   \n",
       "1  전주 여행   2      전주여행 갈려고하는데요!   \n",
       "\n",
       "                                                link  \\\n",
       "0  https://kin.naver.com/qna/detail.naver?d1id=9&...   \n",
       "1  https://kin.naver.com/qna/detail.naver?d1id=9&...   \n",
       "\n",
       "                                         description  \\\n",
       "0   추억의 7080 다양한체험 7080감성 추억여행 테마박물관 유익한시간 2 전북 전...   \n",
       "1   전주여행 을 갈려고하는데요 아는사람과 갈려고하는데 호텔은 좋은가격에 정했고 음 2...   \n",
       "\n",
       "                                          total_text  \n",
       "0   전주  가볼만한곳 추천 받아요  추억의 7080 다양한체험 7080감성 추억여행 ...  \n",
       "1   전주여행 갈려고하는데요!  전주여행 을 갈려고하는데요 아는사람과 갈려고하는데 호텔...  "
      ]
     },
     "execution_count": 128,
     "metadata": {},
     "output_type": "execute_result"
    }
   ],
   "source": [
    "import pandas as pd\n",
    "df = pd.read_csv('data/naver_kin.csv', sep='\\t')\n",
    "df.head(2)"
   ]
  },
  {
   "cell_type": "code",
   "execution_count": 129,
   "id": "1dfaad9a",
   "metadata": {},
   "outputs": [
    {
     "data": {
      "text/plain": [
       "[['전주 여행',\n",
       "  1,\n",
       "  ' 전주  가볼만한곳 추천 받아요  추억의 7080 다양한체험 7080감성 추억여행 테마박물관 유익한시간 2 전북 전북투어패스 통합이용권 전북핫플 여러여행지 다양한체험 카페이용추가 전주여행 필수 편안하고 즐거운 날이 되시길 바라겠습니다 감사합니다 '],\n",
       " ['경주 여행',\n",
       "  1,\n",
       "  '추석에  경주 여행  추석에 경주 여행 가는거 어떻게 생각하시나요 서울에서 버스를 타고 갈 경우 버스가 버스전용 차선에서 운행하나요 질문하신 추석 경주여행 관련 답변 드리도록 하겠습니다 첨성대 석굴암 불국사 등 유적지는 연중무휴로 ']]"
      ]
     },
     "execution_count": 129,
     "metadata": {},
     "output_type": "execute_result"
    }
   ],
   "source": [
    "df_list = df[['query','no','total_text']].values.tolist()\n",
    "df_list[::500]"
   ]
  },
  {
   "cell_type": "code",
   "execution_count": 130,
   "id": "9d35db6f",
   "metadata": {},
   "outputs": [],
   "source": [
    "from konlpy.tag import Komoran, Kkma, Hannanum, Okt\n",
    "from mecab import MeCab\n",
    "analyzer = MeCab()\n",
    "stopwords = ['전주','경주','여행']\n",
    "select_pos = ['NNG', 'NNP'] "
   ]
  },
  {
   "cell_type": "code",
   "execution_count": 131,
   "id": "940a8e30",
   "metadata": {},
   "outputs": [
    {
     "data": {
      "text/html": [
       "<div>\n",
       "<style scoped>\n",
       "    .dataframe tbody tr th:only-of-type {\n",
       "        vertical-align: middle;\n",
       "    }\n",
       "\n",
       "    .dataframe tbody tr th {\n",
       "        vertical-align: top;\n",
       "    }\n",
       "\n",
       "    .dataframe thead th {\n",
       "        text-align: right;\n",
       "    }\n",
       "</style>\n",
       "<table border=\"1\" class=\"dataframe\">\n",
       "  <thead>\n",
       "    <tr style=\"text-align: right;\">\n",
       "      <th></th>\n",
       "      <th>query</th>\n",
       "      <th>no</th>\n",
       "      <th>token</th>\n",
       "      <th>pos</th>\n",
       "    </tr>\n",
       "  </thead>\n",
       "  <tbody>\n",
       "    <tr>\n",
       "      <th>0</th>\n",
       "      <td>전주 여행</td>\n",
       "      <td>1</td>\n",
       "      <td>추천</td>\n",
       "      <td>NNG</td>\n",
       "    </tr>\n",
       "    <tr>\n",
       "      <th>1</th>\n",
       "      <td>전주 여행</td>\n",
       "      <td>1</td>\n",
       "      <td>아요</td>\n",
       "      <td>EF</td>\n",
       "    </tr>\n",
       "    <tr>\n",
       "      <th>2</th>\n",
       "      <td>전주 여행</td>\n",
       "      <td>1</td>\n",
       "      <td>추억</td>\n",
       "      <td>NNG</td>\n",
       "    </tr>\n",
       "    <tr>\n",
       "      <th>3</th>\n",
       "      <td>전주 여행</td>\n",
       "      <td>1</td>\n",
       "      <td>7080</td>\n",
       "      <td>SN</td>\n",
       "    </tr>\n",
       "    <tr>\n",
       "      <th>4</th>\n",
       "      <td>전주 여행</td>\n",
       "      <td>1</td>\n",
       "      <td>다양</td>\n",
       "      <td>NNG</td>\n",
       "    </tr>\n",
       "    <tr>\n",
       "      <th>...</th>\n",
       "      <td>...</td>\n",
       "      <td>...</td>\n",
       "      <td>...</td>\n",
       "      <td>...</td>\n",
       "    </tr>\n",
       "    <tr>\n",
       "      <th>24208</th>\n",
       "      <td>경주 여행</td>\n",
       "      <td>500</td>\n",
       "      <td>참고</td>\n",
       "      <td>NNG</td>\n",
       "    </tr>\n",
       "    <tr>\n",
       "      <th>24209</th>\n",
       "      <td>경주 여행</td>\n",
       "      <td>500</td>\n",
       "      <td>쭈니</td>\n",
       "      <td>NNP</td>\n",
       "    </tr>\n",
       "    <tr>\n",
       "      <th>24210</th>\n",
       "      <td>경주 여행</td>\n",
       "      <td>500</td>\n",
       "      <td>아빠</td>\n",
       "      <td>NNG</td>\n",
       "    </tr>\n",
       "    <tr>\n",
       "      <th>24211</th>\n",
       "      <td>경주 여행</td>\n",
       "      <td>500</td>\n",
       "      <td>블로그</td>\n",
       "      <td>NNG</td>\n",
       "    </tr>\n",
       "    <tr>\n",
       "      <th>24212</th>\n",
       "      <td>경주 여행</td>\n",
       "      <td>500</td>\n",
       "      <td>방문</td>\n",
       "      <td>NNG</td>\n",
       "    </tr>\n",
       "  </tbody>\n",
       "</table>\n",
       "<p>24213 rows × 4 columns</p>\n",
       "</div>"
      ],
      "text/plain": [
       "       query   no token  pos\n",
       "0      전주 여행    1    추천  NNG\n",
       "1      전주 여행    1    아요   EF\n",
       "2      전주 여행    1    추억  NNG\n",
       "3      전주 여행    1  7080   SN\n",
       "4      전주 여행    1    다양  NNG\n",
       "...      ...  ...   ...  ...\n",
       "24208  경주 여행  500    참고  NNG\n",
       "24209  경주 여행  500    쭈니  NNP\n",
       "24210  경주 여행  500    아빠  NNG\n",
       "24211  경주 여행  500   블로그  NNG\n",
       "24212  경주 여행  500    방문  NNG\n",
       "\n",
       "[24213 rows x 4 columns]"
      ]
     },
     "execution_count": 131,
     "metadata": {},
     "output_type": "execute_result"
    }
   ],
   "source": [
    "postagged_lst = []\n",
    "for i, row in enumerate(df_list):\n",
    "    query = row[0]\n",
    "    no = row[1]\n",
    "    text = row[2]\n",
    "    text_pos = analyzer.pos(text)\n",
    "    # analyzer가 MeCab이 아닐 경우 시간이 좀 걸려서 250개마다 로그 출력\n",
    "#     if i%250==0:\n",
    "#         print(\"{}의 {}번째 품사태깅 결과 {}개 저장중\".format(query, \n",
    "#                                                 no, \n",
    "#                                                 len(text_pos), end='\\n\\n'))\n",
    "    for token, pos in text_pos:\n",
    "        # if token not in stopwords and pos in select_pos: 라고 하면 명사만 추출\n",
    "        if token not in stopwords and len(token)>1: # 모든 품사를 우선 다 넣고 나중에 빼려면\n",
    "            postagged_lst.append({'query':query,\n",
    "                                 'no':no,\n",
    "                                 'token':token,\n",
    "                                 'pos':pos})\n",
    "df_postagged = pd.DataFrame(postagged_lst)\n",
    "df_postagged"
   ]
  },
  {
   "cell_type": "code",
   "execution_count": 132,
   "id": "95390718",
   "metadata": {},
   "outputs": [],
   "source": [
    "df_postagged.to_csv('data/naver_kin_pos.csv', index=False, sep='\\t')"
   ]
  },
  {
   "cell_type": "markdown",
   "id": "040edad1",
   "metadata": {},
   "source": [
    "# 3. 명사만 추출 "
   ]
  },
  {
   "cell_type": "code",
   "execution_count": 133,
   "id": "69d7c153",
   "metadata": {},
   "outputs": [],
   "source": [
    "df_postagged = pd.read_csv('data/naver_kin_pos.csv', sep='\\t')"
   ]
  },
  {
   "cell_type": "code",
   "execution_count": 134,
   "id": "3b2c2a7e",
   "metadata": {},
   "outputs": [
    {
     "data": {
      "text/html": [
       "<div>\n",
       "<style scoped>\n",
       "    .dataframe tbody tr th:only-of-type {\n",
       "        vertical-align: middle;\n",
       "    }\n",
       "\n",
       "    .dataframe tbody tr th {\n",
       "        vertical-align: top;\n",
       "    }\n",
       "\n",
       "    .dataframe thead th {\n",
       "        text-align: right;\n",
       "    }\n",
       "</style>\n",
       "<table border=\"1\" class=\"dataframe\">\n",
       "  <thead>\n",
       "    <tr style=\"text-align: right;\">\n",
       "      <th></th>\n",
       "      <th>query</th>\n",
       "      <th>token</th>\n",
       "      <th>pos</th>\n",
       "    </tr>\n",
       "  </thead>\n",
       "  <tbody>\n",
       "    <tr>\n",
       "      <th>0</th>\n",
       "      <td>전주 여행</td>\n",
       "      <td>추천</td>\n",
       "      <td>NNG</td>\n",
       "    </tr>\n",
       "    <tr>\n",
       "      <th>2</th>\n",
       "      <td>전주 여행</td>\n",
       "      <td>추억</td>\n",
       "      <td>NNG</td>\n",
       "    </tr>\n",
       "    <tr>\n",
       "      <th>4</th>\n",
       "      <td>전주 여행</td>\n",
       "      <td>다양</td>\n",
       "      <td>NNG</td>\n",
       "    </tr>\n",
       "    <tr>\n",
       "      <th>5</th>\n",
       "      <td>전주 여행</td>\n",
       "      <td>체험</td>\n",
       "      <td>NNG</td>\n",
       "    </tr>\n",
       "    <tr>\n",
       "      <th>7</th>\n",
       "      <td>전주 여행</td>\n",
       "      <td>감성</td>\n",
       "      <td>NNG</td>\n",
       "    </tr>\n",
       "  </tbody>\n",
       "</table>\n",
       "</div>"
      ],
      "text/plain": [
       "   query token  pos\n",
       "0  전주 여행    추천  NNG\n",
       "2  전주 여행    추억  NNG\n",
       "4  전주 여행    다양  NNG\n",
       "5  전주 여행    체험  NNG\n",
       "7  전주 여행    감성  NNG"
      ]
     },
     "execution_count": 134,
     "metadata": {},
     "output_type": "execute_result"
    }
   ],
   "source": [
    "df_nouns = df_postagged.loc[df_postagged['pos'].isin(['NNP', 'NNG']),\n",
    "                            ['query', 'token','pos']]\n",
    "df_nouns.head()"
   ]
  },
  {
   "cell_type": "code",
   "execution_count": 135,
   "id": "18b8f270",
   "metadata": {},
   "outputs": [],
   "source": [
    "df_nouns.to_csv('data/naver_kin_pos_nouns.csv', index=False, sep='\\t')"
   ]
  },
  {
   "cell_type": "markdown",
   "id": "e09f85c7",
   "metadata": {},
   "source": [
    "# 4.빈도분석(DataFrame) 후 백업"
   ]
  },
  {
   "cell_type": "code",
   "execution_count": 136,
   "id": "70f08b8e",
   "metadata": {},
   "outputs": [
    {
     "data": {
      "text/plain": [
       "(14101, 3)"
      ]
     },
     "execution_count": 136,
     "metadata": {},
     "output_type": "execute_result"
    }
   ],
   "source": [
    "df_nouns = pd.read_csv('data/naver_kin_pos_nouns.csv', sep='\\t')\n",
    "df_nouns.shape"
   ]
  },
  {
   "cell_type": "code",
   "execution_count": 137,
   "id": "dcd1a746",
   "metadata": {},
   "outputs": [
    {
     "data": {
      "text/html": [
       "<div>\n",
       "<style scoped>\n",
       "    .dataframe tbody tr th:only-of-type {\n",
       "        vertical-align: middle;\n",
       "    }\n",
       "\n",
       "    .dataframe tbody tr th {\n",
       "        vertical-align: top;\n",
       "    }\n",
       "\n",
       "    .dataframe thead th {\n",
       "        text-align: right;\n",
       "    }\n",
       "</style>\n",
       "<table border=\"1\" class=\"dataframe\">\n",
       "  <thead>\n",
       "    <tr style=\"text-align: right;\">\n",
       "      <th></th>\n",
       "      <th>query</th>\n",
       "      <th>token</th>\n",
       "      <th>pos</th>\n",
       "    </tr>\n",
       "  </thead>\n",
       "  <tbody>\n",
       "    <tr>\n",
       "      <th>0</th>\n",
       "      <td>전주 여행</td>\n",
       "      <td>추천</td>\n",
       "      <td>NNG</td>\n",
       "    </tr>\n",
       "    <tr>\n",
       "      <th>5000</th>\n",
       "      <td>전주 여행</td>\n",
       "      <td>코스</td>\n",
       "      <td>NNG</td>\n",
       "    </tr>\n",
       "    <tr>\n",
       "      <th>10000</th>\n",
       "      <td>경주 여행</td>\n",
       "      <td>역사</td>\n",
       "      <td>NNG</td>\n",
       "    </tr>\n",
       "  </tbody>\n",
       "</table>\n",
       "</div>"
      ],
      "text/plain": [
       "       query token  pos\n",
       "0      전주 여행    추천  NNG\n",
       "5000   전주 여행    코스  NNG\n",
       "10000  경주 여행    역사  NNG"
      ]
     },
     "execution_count": 137,
     "metadata": {},
     "output_type": "execute_result"
    }
   ],
   "source": [
    "df_nouns.iloc[::5000]"
   ]
  },
  {
   "cell_type": "code",
   "execution_count": 138,
   "id": "14c692fa",
   "metadata": {},
   "outputs": [
    {
     "data": {
      "text/html": [
       "<div>\n",
       "<style scoped>\n",
       "    .dataframe tbody tr th:only-of-type {\n",
       "        vertical-align: middle;\n",
       "    }\n",
       "\n",
       "    .dataframe tbody tr th {\n",
       "        vertical-align: top;\n",
       "    }\n",
       "\n",
       "    .dataframe thead th {\n",
       "        text-align: right;\n",
       "    }\n",
       "</style>\n",
       "<table border=\"1\" class=\"dataframe\">\n",
       "  <thead>\n",
       "    <tr style=\"text-align: right;\">\n",
       "      <th></th>\n",
       "      <th>query</th>\n",
       "      <th>token</th>\n",
       "      <th>pos</th>\n",
       "    </tr>\n",
       "  </thead>\n",
       "  <tbody>\n",
       "    <tr>\n",
       "      <th>0</th>\n",
       "      <td>경주 여행</td>\n",
       "      <td>가격</td>\n",
       "      <td>10</td>\n",
       "    </tr>\n",
       "    <tr>\n",
       "      <th>1</th>\n",
       "      <td>경주 여행</td>\n",
       "      <td>가능</td>\n",
       "      <td>24</td>\n",
       "    </tr>\n",
       "    <tr>\n",
       "      <th>2</th>\n",
       "      <td>경주 여행</td>\n",
       "      <td>가본적</td>\n",
       "      <td>5</td>\n",
       "    </tr>\n",
       "    <tr>\n",
       "      <th>3</th>\n",
       "      <td>경주 여행</td>\n",
       "      <td>가성</td>\n",
       "      <td>5</td>\n",
       "    </tr>\n",
       "    <tr>\n",
       "      <th>4</th>\n",
       "      <td>경주 여행</td>\n",
       "      <td>가시</td>\n",
       "      <td>5</td>\n",
       "    </tr>\n",
       "    <tr>\n",
       "      <th>...</th>\n",
       "      <td>...</td>\n",
       "      <td>...</td>\n",
       "      <td>...</td>\n",
       "    </tr>\n",
       "    <tr>\n",
       "      <th>879</th>\n",
       "      <td>전주 여행</td>\n",
       "      <td>환급</td>\n",
       "      <td>5</td>\n",
       "    </tr>\n",
       "    <tr>\n",
       "      <th>880</th>\n",
       "      <td>전주 여행</td>\n",
       "      <td>회관</td>\n",
       "      <td>5</td>\n",
       "    </tr>\n",
       "    <tr>\n",
       "      <th>881</th>\n",
       "      <td>전주 여행</td>\n",
       "      <td>휴가</td>\n",
       "      <td>5</td>\n",
       "    </tr>\n",
       "    <tr>\n",
       "      <th>882</th>\n",
       "      <td>전주 여행</td>\n",
       "      <td>휴무</td>\n",
       "      <td>5</td>\n",
       "    </tr>\n",
       "    <tr>\n",
       "      <th>883</th>\n",
       "      <td>전주 여행</td>\n",
       "      <td>흐노</td>\n",
       "      <td>5</td>\n",
       "    </tr>\n",
       "  </tbody>\n",
       "</table>\n",
       "<p>884 rows × 3 columns</p>\n",
       "</div>"
      ],
      "text/plain": [
       "     query token  pos\n",
       "0    경주 여행    가격   10\n",
       "1    경주 여행    가능   24\n",
       "2    경주 여행   가본적    5\n",
       "3    경주 여행    가성    5\n",
       "4    경주 여행    가시    5\n",
       "..     ...   ...  ...\n",
       "879  전주 여행    환급    5\n",
       "880  전주 여행    회관    5\n",
       "881  전주 여행    휴가    5\n",
       "882  전주 여행    휴무    5\n",
       "883  전주 여행    흐노    5\n",
       "\n",
       "[884 rows x 3 columns]"
      ]
     },
     "execution_count": 138,
     "metadata": {},
     "output_type": "execute_result"
    }
   ],
   "source": [
    "df_nouns.groupby(['query','token'], as_index=False)['pos'].count()"
   ]
  },
  {
   "cell_type": "code",
   "execution_count": 139,
   "id": "88c1ed09",
   "metadata": {},
   "outputs": [
    {
     "data": {
      "text/plain": [
       "query  token\n",
       "경주 여행  코스       446\n",
       "       추천       401\n",
       "       계획       154\n",
       "       숙소       139\n",
       "       맛집       120\n",
       "               ... \n",
       "전주 여행  카페이        1\n",
       "       통합         1\n",
       "       패스         1\n",
       "       편안         1\n",
       "       필수         1\n",
       "Name: token, Length: 884, dtype: int64"
      ]
     },
     "execution_count": 139,
     "metadata": {},
     "output_type": "execute_result"
    }
   ],
   "source": [
    "df_token_grp = df_nouns.groupby('query')['token'].value_counts()\n",
    "df_token_grp"
   ]
  },
  {
   "cell_type": "code",
   "execution_count": 140,
   "id": "55d0b9a6",
   "metadata": {},
   "outputs": [
    {
     "data": {
      "text/html": [
       "<div>\n",
       "<style scoped>\n",
       "    .dataframe tbody tr th:only-of-type {\n",
       "        vertical-align: middle;\n",
       "    }\n",
       "\n",
       "    .dataframe tbody tr th {\n",
       "        vertical-align: top;\n",
       "    }\n",
       "\n",
       "    .dataframe thead th {\n",
       "        text-align: right;\n",
       "    }\n",
       "</style>\n",
       "<table border=\"1\" class=\"dataframe\">\n",
       "  <thead>\n",
       "    <tr style=\"text-align: right;\">\n",
       "      <th></th>\n",
       "      <th>query</th>\n",
       "      <th>token</th>\n",
       "      <th>token_count</th>\n",
       "    </tr>\n",
       "  </thead>\n",
       "  <tbody>\n",
       "    <tr>\n",
       "      <th>0</th>\n",
       "      <td>경주 여행</td>\n",
       "      <td>코스</td>\n",
       "      <td>446</td>\n",
       "    </tr>\n",
       "    <tr>\n",
       "      <th>1</th>\n",
       "      <td>경주 여행</td>\n",
       "      <td>추천</td>\n",
       "      <td>401</td>\n",
       "    </tr>\n",
       "    <tr>\n",
       "      <th>2</th>\n",
       "      <td>경주 여행</td>\n",
       "      <td>계획</td>\n",
       "      <td>154</td>\n",
       "    </tr>\n",
       "    <tr>\n",
       "      <th>3</th>\n",
       "      <td>경주 여행</td>\n",
       "      <td>숙소</td>\n",
       "      <td>139</td>\n",
       "    </tr>\n",
       "    <tr>\n",
       "      <th>4</th>\n",
       "      <td>경주 여행</td>\n",
       "      <td>맛집</td>\n",
       "      <td>120</td>\n",
       "    </tr>\n",
       "  </tbody>\n",
       "</table>\n",
       "</div>"
      ],
      "text/plain": [
       "   query token  token_count\n",
       "0  경주 여행    코스          446\n",
       "1  경주 여행    추천          401\n",
       "2  경주 여행    계획          154\n",
       "3  경주 여행    숙소          139\n",
       "4  경주 여행    맛집          120"
      ]
     },
     "execution_count": 140,
     "metadata": {},
     "output_type": "execute_result"
    }
   ],
   "source": [
    "df_token_grp = df_token_grp.reset_index(name='token_count')\n",
    "df_token_grp.head()"
   ]
  },
  {
   "cell_type": "code",
   "execution_count": 141,
   "id": "b3fefafd",
   "metadata": {},
   "outputs": [
    {
     "data": {
      "text/html": [
       "<div>\n",
       "<style scoped>\n",
       "    .dataframe tbody tr th:only-of-type {\n",
       "        vertical-align: middle;\n",
       "    }\n",
       "\n",
       "    .dataframe tbody tr th {\n",
       "        vertical-align: top;\n",
       "    }\n",
       "\n",
       "    .dataframe thead th {\n",
       "        text-align: right;\n",
       "    }\n",
       "</style>\n",
       "<table border=\"1\" class=\"dataframe\">\n",
       "  <thead>\n",
       "    <tr style=\"text-align: right;\">\n",
       "      <th></th>\n",
       "      <th>단어</th>\n",
       "      <th>경주빈도</th>\n",
       "    </tr>\n",
       "  </thead>\n",
       "  <tbody>\n",
       "    <tr>\n",
       "      <th>0</th>\n",
       "      <td>단어1</td>\n",
       "      <td>90</td>\n",
       "    </tr>\n",
       "    <tr>\n",
       "      <th>1</th>\n",
       "      <td>단어2</td>\n",
       "      <td>80</td>\n",
       "    </tr>\n",
       "  </tbody>\n",
       "</table>\n",
       "</div>"
      ],
      "text/plain": [
       "    단어  경주빈도\n",
       "0  단어1    90\n",
       "1  단어2    80"
      ]
     },
     "metadata": {},
     "output_type": "display_data"
    },
    {
     "data": {
      "text/html": [
       "<div>\n",
       "<style scoped>\n",
       "    .dataframe tbody tr th:only-of-type {\n",
       "        vertical-align: middle;\n",
       "    }\n",
       "\n",
       "    .dataframe tbody tr th {\n",
       "        vertical-align: top;\n",
       "    }\n",
       "\n",
       "    .dataframe thead th {\n",
       "        text-align: right;\n",
       "    }\n",
       "</style>\n",
       "<table border=\"1\" class=\"dataframe\">\n",
       "  <thead>\n",
       "    <tr style=\"text-align: right;\">\n",
       "      <th></th>\n",
       "      <th>단어</th>\n",
       "      <th>전주빈도</th>\n",
       "    </tr>\n",
       "  </thead>\n",
       "  <tbody>\n",
       "    <tr>\n",
       "      <th>0</th>\n",
       "      <td>단어1</td>\n",
       "      <td>99</td>\n",
       "    </tr>\n",
       "    <tr>\n",
       "      <th>1</th>\n",
       "      <td>단어3</td>\n",
       "      <td>81</td>\n",
       "    </tr>\n",
       "  </tbody>\n",
       "</table>\n",
       "</div>"
      ],
      "text/plain": [
       "    단어  전주빈도\n",
       "0  단어1    99\n",
       "1  단어3    81"
      ]
     },
     "metadata": {},
     "output_type": "display_data"
    },
    {
     "name": "stdout",
     "output_type": "stream",
     "text": [
      "<class 'pandas.core.frame.DataFrame'>\n",
      "Int64Index: 3 entries, 0 to 2\n",
      "Data columns (total 3 columns):\n",
      " #   Column  Non-Null Count  Dtype \n",
      "---  ------  --------------  ----- \n",
      " 0   단어      3 non-null      object\n",
      " 1   경주빈도    3 non-null      int16 \n",
      " 2   전주빈도    3 non-null      int32 \n",
      "dtypes: int16(1), int32(1), object(1)\n",
      "memory usage: 66.0+ bytes\n"
     ]
    }
   ],
   "source": [
    "# 전주 여행과 경우 여행 여행 빈도 추출\n",
    "import numpy as np\n",
    "a = pd.DataFrame([['단어1', 90],\n",
    "                 ['단어2',80]], columns=['단어','경주빈도'])\n",
    "b = pd.DataFrame([['단어1', 99],\n",
    "                 ['단어3',81]], columns=['단어','전주빈도'])\n",
    "display(a)\n",
    "display(b)\n",
    "ab = pd.merge(a, b, \n",
    "         how='outer', # inner(공통), left, right, outer\n",
    "         on='단어')   # 두 프레임을 어떤 열 기준으로 합칠지 지정\n",
    "#pd.concat([a, b], axis=1)\n",
    "ab.fillna(0, inplace=True)\n",
    "ab['경주빈도'] = ab['경주빈도'].astype(np.int16)\n",
    "ab['전주빈도'] = ab['전주빈도'].astype('int')\n",
    "ab.info()"
   ]
  },
  {
   "cell_type": "code",
   "execution_count": 142,
   "id": "dddde765",
   "metadata": {},
   "outputs": [
    {
     "data": {
      "text/plain": [
       "((461, 2), (423, 2))"
      ]
     },
     "execution_count": 142,
     "metadata": {},
     "output_type": "execute_result"
    }
   ],
   "source": [
    "df_gj = df_token_grp.loc[df_token_grp['query']=='경주 여행', ['token','token_count']]\n",
    "df_jj = df_token_grp.loc[df_token_grp['query']=='전주 여행', ['token','token_count']]\n",
    "df_gj.shape, df_jj.shape"
   ]
  },
  {
   "cell_type": "code",
   "execution_count": 143,
   "id": "39d0b7d5",
   "metadata": {},
   "outputs": [
    {
     "data": {
      "text/html": [
       "<div>\n",
       "<style scoped>\n",
       "    .dataframe tbody tr th:only-of-type {\n",
       "        vertical-align: middle;\n",
       "    }\n",
       "\n",
       "    .dataframe tbody tr th {\n",
       "        vertical-align: top;\n",
       "    }\n",
       "\n",
       "    .dataframe thead th {\n",
       "        text-align: right;\n",
       "    }\n",
       "</style>\n",
       "<table border=\"1\" class=\"dataframe\">\n",
       "  <thead>\n",
       "    <tr style=\"text-align: right;\">\n",
       "      <th></th>\n",
       "      <th>token</th>\n",
       "      <th>token_count</th>\n",
       "    </tr>\n",
       "  </thead>\n",
       "  <tbody>\n",
       "    <tr>\n",
       "      <th>0</th>\n",
       "      <td>코스</td>\n",
       "      <td>446</td>\n",
       "    </tr>\n",
       "    <tr>\n",
       "      <th>1</th>\n",
       "      <td>추천</td>\n",
       "      <td>401</td>\n",
       "    </tr>\n",
       "    <tr>\n",
       "      <th>2</th>\n",
       "      <td>계획</td>\n",
       "      <td>154</td>\n",
       "    </tr>\n",
       "    <tr>\n",
       "      <th>3</th>\n",
       "      <td>숙소</td>\n",
       "      <td>139</td>\n",
       "    </tr>\n",
       "    <tr>\n",
       "      <th>4</th>\n",
       "      <td>맛집</td>\n",
       "      <td>120</td>\n",
       "    </tr>\n",
       "  </tbody>\n",
       "</table>\n",
       "</div>"
      ],
      "text/plain": [
       "  token  token_count\n",
       "0    코스          446\n",
       "1    추천          401\n",
       "2    계획          154\n",
       "3    숙소          139\n",
       "4    맛집          120"
      ]
     },
     "execution_count": 143,
     "metadata": {},
     "output_type": "execute_result"
    }
   ],
   "source": [
    "df_gj.head()"
   ]
  },
  {
   "cell_type": "code",
   "execution_count": 144,
   "id": "50ec2b06",
   "metadata": {},
   "outputs": [
    {
     "data": {
      "text/html": [
       "<div>\n",
       "<style scoped>\n",
       "    .dataframe tbody tr th:only-of-type {\n",
       "        vertical-align: middle;\n",
       "    }\n",
       "\n",
       "    .dataframe tbody tr th {\n",
       "        vertical-align: top;\n",
       "    }\n",
       "\n",
       "    .dataframe thead th {\n",
       "        text-align: right;\n",
       "    }\n",
       "</style>\n",
       "<table border=\"1\" class=\"dataframe\">\n",
       "  <thead>\n",
       "    <tr style=\"text-align: right;\">\n",
       "      <th></th>\n",
       "      <th>token</th>\n",
       "      <th>token_count</th>\n",
       "    </tr>\n",
       "  </thead>\n",
       "  <tbody>\n",
       "    <tr>\n",
       "      <th>461</th>\n",
       "      <td>코스</td>\n",
       "      <td>481</td>\n",
       "    </tr>\n",
       "    <tr>\n",
       "      <th>462</th>\n",
       "      <td>여수</td>\n",
       "      <td>349</td>\n",
       "    </tr>\n",
       "    <tr>\n",
       "      <th>463</th>\n",
       "      <td>주달</td>\n",
       "      <td>304</td>\n",
       "    </tr>\n",
       "    <tr>\n",
       "      <th>464</th>\n",
       "      <td>추천</td>\n",
       "      <td>301</td>\n",
       "    </tr>\n",
       "    <tr>\n",
       "      <th>465</th>\n",
       "      <td>맛집</td>\n",
       "      <td>287</td>\n",
       "    </tr>\n",
       "  </tbody>\n",
       "</table>\n",
       "</div>"
      ],
      "text/plain": [
       "    token  token_count\n",
       "461    코스          481\n",
       "462    여수          349\n",
       "463    주달          304\n",
       "464    추천          301\n",
       "465    맛집          287"
      ]
     },
     "execution_count": 144,
     "metadata": {},
     "output_type": "execute_result"
    }
   ],
   "source": [
    "df_jj.head()"
   ]
  },
  {
   "cell_type": "code",
   "execution_count": 145,
   "id": "a0af1593",
   "metadata": {},
   "outputs": [
    {
     "name": "stdout",
     "output_type": "stream",
     "text": [
      "(713, 3)\n"
     ]
    },
    {
     "data": {
      "text/html": [
       "<div>\n",
       "<style scoped>\n",
       "    .dataframe tbody tr th:only-of-type {\n",
       "        vertical-align: middle;\n",
       "    }\n",
       "\n",
       "    .dataframe tbody tr th {\n",
       "        vertical-align: top;\n",
       "    }\n",
       "\n",
       "    .dataframe thead th {\n",
       "        text-align: right;\n",
       "    }\n",
       "</style>\n",
       "<table border=\"1\" class=\"dataframe\">\n",
       "  <thead>\n",
       "    <tr style=\"text-align: right;\">\n",
       "      <th></th>\n",
       "      <th>token</th>\n",
       "      <th>token_count_x</th>\n",
       "      <th>token_count_y</th>\n",
       "    </tr>\n",
       "  </thead>\n",
       "  <tbody>\n",
       "    <tr>\n",
       "      <th>0</th>\n",
       "      <td>코스</td>\n",
       "      <td>446.0</td>\n",
       "      <td>481.0</td>\n",
       "    </tr>\n",
       "    <tr>\n",
       "      <th>1</th>\n",
       "      <td>추천</td>\n",
       "      <td>401.0</td>\n",
       "      <td>301.0</td>\n",
       "    </tr>\n",
       "    <tr>\n",
       "      <th>2</th>\n",
       "      <td>계획</td>\n",
       "      <td>154.0</td>\n",
       "      <td>61.0</td>\n",
       "    </tr>\n",
       "    <tr>\n",
       "      <th>3</th>\n",
       "      <td>숙소</td>\n",
       "      <td>139.0</td>\n",
       "      <td>60.0</td>\n",
       "    </tr>\n",
       "    <tr>\n",
       "      <th>4</th>\n",
       "      <td>맛집</td>\n",
       "      <td>120.0</td>\n",
       "      <td>287.0</td>\n",
       "    </tr>\n",
       "    <tr>\n",
       "      <th>...</th>\n",
       "      <td>...</td>\n",
       "      <td>...</td>\n",
       "      <td>...</td>\n",
       "    </tr>\n",
       "    <tr>\n",
       "      <th>708</th>\n",
       "      <td>유익</td>\n",
       "      <td>NaN</td>\n",
       "      <td>1.0</td>\n",
       "    </tr>\n",
       "    <tr>\n",
       "      <th>709</th>\n",
       "      <td>찜질방</td>\n",
       "      <td>NaN</td>\n",
       "      <td>1.0</td>\n",
       "    </tr>\n",
       "    <tr>\n",
       "      <th>710</th>\n",
       "      <td>카페이</td>\n",
       "      <td>NaN</td>\n",
       "      <td>1.0</td>\n",
       "    </tr>\n",
       "    <tr>\n",
       "      <th>711</th>\n",
       "      <td>통합</td>\n",
       "      <td>NaN</td>\n",
       "      <td>1.0</td>\n",
       "    </tr>\n",
       "    <tr>\n",
       "      <th>712</th>\n",
       "      <td>패스</td>\n",
       "      <td>NaN</td>\n",
       "      <td>1.0</td>\n",
       "    </tr>\n",
       "  </tbody>\n",
       "</table>\n",
       "<p>713 rows × 3 columns</p>\n",
       "</div>"
      ],
      "text/plain": [
       "    token  token_count_x  token_count_y\n",
       "0      코스          446.0          481.0\n",
       "1      추천          401.0          301.0\n",
       "2      계획          154.0           61.0\n",
       "3      숙소          139.0           60.0\n",
       "4      맛집          120.0          287.0\n",
       "..    ...            ...            ...\n",
       "708    유익            NaN            1.0\n",
       "709   찜질방            NaN            1.0\n",
       "710   카페이            NaN            1.0\n",
       "711    통합            NaN            1.0\n",
       "712    패스            NaN            1.0\n",
       "\n",
       "[713 rows x 3 columns]"
      ]
     },
     "execution_count": 145,
     "metadata": {},
     "output_type": "execute_result"
    }
   ],
   "source": [
    "df_mrg = pd.merge(df_gj, df_jj, how='outer', on='token')\n",
    "print(df_mrg.shape)\n",
    "df_mrg"
   ]
  },
  {
   "cell_type": "code",
   "execution_count": 146,
   "id": "d4f6cf81",
   "metadata": {},
   "outputs": [
    {
     "data": {
      "text/html": [
       "<div>\n",
       "<style scoped>\n",
       "    .dataframe tbody tr th:only-of-type {\n",
       "        vertical-align: middle;\n",
       "    }\n",
       "\n",
       "    .dataframe tbody tr th {\n",
       "        vertical-align: top;\n",
       "    }\n",
       "\n",
       "    .dataframe thead th {\n",
       "        text-align: right;\n",
       "    }\n",
       "</style>\n",
       "<table border=\"1\" class=\"dataframe\">\n",
       "  <thead>\n",
       "    <tr style=\"text-align: right;\">\n",
       "      <th></th>\n",
       "      <th>token</th>\n",
       "      <th>경주빈도</th>\n",
       "      <th>전주빈도</th>\n",
       "    </tr>\n",
       "  </thead>\n",
       "  <tbody>\n",
       "    <tr>\n",
       "      <th>0</th>\n",
       "      <td>코스</td>\n",
       "      <td>446</td>\n",
       "      <td>481</td>\n",
       "    </tr>\n",
       "    <tr>\n",
       "      <th>1</th>\n",
       "      <td>추천</td>\n",
       "      <td>401</td>\n",
       "      <td>301</td>\n",
       "    </tr>\n",
       "    <tr>\n",
       "      <th>2</th>\n",
       "      <td>계획</td>\n",
       "      <td>154</td>\n",
       "      <td>61</td>\n",
       "    </tr>\n",
       "    <tr>\n",
       "      <th>3</th>\n",
       "      <td>숙소</td>\n",
       "      <td>139</td>\n",
       "      <td>60</td>\n",
       "    </tr>\n",
       "    <tr>\n",
       "      <th>4</th>\n",
       "      <td>맛집</td>\n",
       "      <td>120</td>\n",
       "      <td>287</td>\n",
       "    </tr>\n",
       "    <tr>\n",
       "      <th>...</th>\n",
       "      <td>...</td>\n",
       "      <td>...</td>\n",
       "      <td>...</td>\n",
       "    </tr>\n",
       "    <tr>\n",
       "      <th>708</th>\n",
       "      <td>유익</td>\n",
       "      <td>0</td>\n",
       "      <td>1</td>\n",
       "    </tr>\n",
       "    <tr>\n",
       "      <th>709</th>\n",
       "      <td>찜질방</td>\n",
       "      <td>0</td>\n",
       "      <td>1</td>\n",
       "    </tr>\n",
       "    <tr>\n",
       "      <th>710</th>\n",
       "      <td>카페이</td>\n",
       "      <td>0</td>\n",
       "      <td>1</td>\n",
       "    </tr>\n",
       "    <tr>\n",
       "      <th>711</th>\n",
       "      <td>통합</td>\n",
       "      <td>0</td>\n",
       "      <td>1</td>\n",
       "    </tr>\n",
       "    <tr>\n",
       "      <th>712</th>\n",
       "      <td>패스</td>\n",
       "      <td>0</td>\n",
       "      <td>1</td>\n",
       "    </tr>\n",
       "  </tbody>\n",
       "</table>\n",
       "<p>713 rows × 3 columns</p>\n",
       "</div>"
      ],
      "text/plain": [
       "    token  경주빈도  전주빈도\n",
       "0      코스   446   481\n",
       "1      추천   401   301\n",
       "2      계획   154    61\n",
       "3      숙소   139    60\n",
       "4      맛집   120   287\n",
       "..    ...   ...   ...\n",
       "708    유익     0     1\n",
       "709   찜질방     0     1\n",
       "710   카페이     0     1\n",
       "711    통합     0     1\n",
       "712    패스     0     1\n",
       "\n",
       "[713 rows x 3 columns]"
      ]
     },
     "execution_count": 146,
     "metadata": {},
     "output_type": "execute_result"
    }
   ],
   "source": [
    "df_mrg.columns = ['token','경주빈도','전주빈도']\n",
    "df_mrg.fillna(0, inplace=True)\n",
    "df_mrg['경주빈도'] = df_mrg['경주빈도'].astype('int')\n",
    "df_mrg['전주빈도'] = df_mrg['전주빈도'].astype(np.int64) # 'int64'\n",
    "df_mrg"
   ]
  },
  {
   "cell_type": "code",
   "execution_count": 147,
   "id": "26928f8a",
   "metadata": {},
   "outputs": [
    {
     "data": {
      "text/html": [
       "<div>\n",
       "<style scoped>\n",
       "    .dataframe tbody tr th:only-of-type {\n",
       "        vertical-align: middle;\n",
       "    }\n",
       "\n",
       "    .dataframe tbody tr th {\n",
       "        vertical-align: top;\n",
       "    }\n",
       "\n",
       "    .dataframe thead th {\n",
       "        text-align: right;\n",
       "    }\n",
       "</style>\n",
       "<table border=\"1\" class=\"dataframe\">\n",
       "  <thead>\n",
       "    <tr style=\"text-align: right;\">\n",
       "      <th></th>\n",
       "      <th>token</th>\n",
       "      <th>경주빈도</th>\n",
       "      <th>전주빈도</th>\n",
       "      <th>빈도합</th>\n",
       "      <th>전주비율</th>\n",
       "      <th>경주비율</th>\n",
       "    </tr>\n",
       "  </thead>\n",
       "  <tbody>\n",
       "    <tr>\n",
       "      <th>0</th>\n",
       "      <td>코스</td>\n",
       "      <td>446</td>\n",
       "      <td>481</td>\n",
       "      <td>927</td>\n",
       "      <td>0.518878</td>\n",
       "      <td>0.481122</td>\n",
       "    </tr>\n",
       "    <tr>\n",
       "      <th>1</th>\n",
       "      <td>추천</td>\n",
       "      <td>401</td>\n",
       "      <td>301</td>\n",
       "      <td>702</td>\n",
       "      <td>0.428775</td>\n",
       "      <td>0.571225</td>\n",
       "    </tr>\n",
       "    <tr>\n",
       "      <th>2</th>\n",
       "      <td>계획</td>\n",
       "      <td>154</td>\n",
       "      <td>61</td>\n",
       "      <td>215</td>\n",
       "      <td>0.283721</td>\n",
       "      <td>0.716279</td>\n",
       "    </tr>\n",
       "    <tr>\n",
       "      <th>3</th>\n",
       "      <td>숙소</td>\n",
       "      <td>139</td>\n",
       "      <td>60</td>\n",
       "      <td>199</td>\n",
       "      <td>0.301508</td>\n",
       "      <td>0.698492</td>\n",
       "    </tr>\n",
       "    <tr>\n",
       "      <th>4</th>\n",
       "      <td>맛집</td>\n",
       "      <td>120</td>\n",
       "      <td>287</td>\n",
       "      <td>407</td>\n",
       "      <td>0.705160</td>\n",
       "      <td>0.294840</td>\n",
       "    </tr>\n",
       "    <tr>\n",
       "      <th>5</th>\n",
       "      <td>일정</td>\n",
       "      <td>118</td>\n",
       "      <td>80</td>\n",
       "      <td>198</td>\n",
       "      <td>0.404040</td>\n",
       "      <td>0.595960</td>\n",
       "    </tr>\n",
       "    <tr>\n",
       "      <th>6</th>\n",
       "      <td>질문</td>\n",
       "      <td>114</td>\n",
       "      <td>78</td>\n",
       "      <td>192</td>\n",
       "      <td>0.406250</td>\n",
       "      <td>0.593750</td>\n",
       "    </tr>\n",
       "    <tr>\n",
       "      <th>7</th>\n",
       "      <td>답변</td>\n",
       "      <td>106</td>\n",
       "      <td>55</td>\n",
       "      <td>161</td>\n",
       "      <td>0.341615</td>\n",
       "      <td>0.658385</td>\n",
       "    </tr>\n",
       "    <tr>\n",
       "      <th>8</th>\n",
       "      <td>부탁</td>\n",
       "      <td>105</td>\n",
       "      <td>75</td>\n",
       "      <td>180</td>\n",
       "      <td>0.416667</td>\n",
       "      <td>0.583333</td>\n",
       "    </tr>\n",
       "    <tr>\n",
       "      <th>9</th>\n",
       "      <td>가족</td>\n",
       "      <td>95</td>\n",
       "      <td>20</td>\n",
       "      <td>115</td>\n",
       "      <td>0.173913</td>\n",
       "      <td>0.826087</td>\n",
       "    </tr>\n",
       "  </tbody>\n",
       "</table>\n",
       "</div>"
      ],
      "text/plain": [
       "  token  경주빈도  전주빈도  빈도합      전주비율      경주비율\n",
       "0    코스   446   481  927  0.518878  0.481122\n",
       "1    추천   401   301  702  0.428775  0.571225\n",
       "2    계획   154    61  215  0.283721  0.716279\n",
       "3    숙소   139    60  199  0.301508  0.698492\n",
       "4    맛집   120   287  407  0.705160  0.294840\n",
       "5    일정   118    80  198  0.404040  0.595960\n",
       "6    질문   114    78  192  0.406250  0.593750\n",
       "7    답변   106    55  161  0.341615  0.658385\n",
       "8    부탁   105    75  180  0.416667  0.583333\n",
       "9    가족    95    20  115  0.173913  0.826087"
      ]
     },
     "execution_count": 147,
     "metadata": {},
     "output_type": "execute_result"
    }
   ],
   "source": [
    "df_mrg['빈도합'] = df_mrg['경주빈도'] + df_mrg['전주빈도']\n",
    "df_mrg['전주비율'] = df_mrg['전주빈도'] / df_mrg['빈도합']\n",
    "df_mrg['경주비율'] = df_mrg['경주빈도'] / df_mrg['빈도합']\n",
    "df_mrg.head(10)"
   ]
  },
  {
   "cell_type": "code",
   "execution_count": 148,
   "id": "a1fde18c",
   "metadata": {},
   "outputs": [
    {
     "data": {
      "text/html": [
       "<div>\n",
       "<style scoped>\n",
       "    .dataframe tbody tr th:only-of-type {\n",
       "        vertical-align: middle;\n",
       "    }\n",
       "\n",
       "    .dataframe tbody tr th {\n",
       "        vertical-align: top;\n",
       "    }\n",
       "\n",
       "    .dataframe thead th {\n",
       "        text-align: right;\n",
       "    }\n",
       "</style>\n",
       "<table border=\"1\" class=\"dataframe\">\n",
       "  <thead>\n",
       "    <tr style=\"text-align: right;\">\n",
       "      <th></th>\n",
       "      <th>token</th>\n",
       "      <th>경주빈도</th>\n",
       "      <th>전주빈도</th>\n",
       "      <th>빈도합</th>\n",
       "      <th>전주비율</th>\n",
       "      <th>경주비율</th>\n",
       "    </tr>\n",
       "  </thead>\n",
       "  <tbody>\n",
       "    <tr>\n",
       "      <th>0</th>\n",
       "      <td>코스</td>\n",
       "      <td>446</td>\n",
       "      <td>481</td>\n",
       "      <td>927</td>\n",
       "      <td>0.518878</td>\n",
       "      <td>0.481122</td>\n",
       "    </tr>\n",
       "    <tr>\n",
       "      <th>1</th>\n",
       "      <td>추천</td>\n",
       "      <td>401</td>\n",
       "      <td>301</td>\n",
       "      <td>702</td>\n",
       "      <td>0.428775</td>\n",
       "      <td>0.571225</td>\n",
       "    </tr>\n",
       "    <tr>\n",
       "      <th>4</th>\n",
       "      <td>맛집</td>\n",
       "      <td>120</td>\n",
       "      <td>287</td>\n",
       "      <td>407</td>\n",
       "      <td>0.705160</td>\n",
       "      <td>0.294840</td>\n",
       "    </tr>\n",
       "    <tr>\n",
       "      <th>461</th>\n",
       "      <td>여수</td>\n",
       "      <td>0</td>\n",
       "      <td>349</td>\n",
       "      <td>349</td>\n",
       "      <td>1.000000</td>\n",
       "      <td>0.000000</td>\n",
       "    </tr>\n",
       "    <tr>\n",
       "      <th>462</th>\n",
       "      <td>주달</td>\n",
       "      <td>0</td>\n",
       "      <td>304</td>\n",
       "      <td>304</td>\n",
       "      <td>1.000000</td>\n",
       "      <td>0.000000</td>\n",
       "    </tr>\n",
       "    <tr>\n",
       "      <th>...</th>\n",
       "      <td>...</td>\n",
       "      <td>...</td>\n",
       "      <td>...</td>\n",
       "      <td>...</td>\n",
       "      <td>...</td>\n",
       "      <td>...</td>\n",
       "    </tr>\n",
       "    <tr>\n",
       "      <th>459</th>\n",
       "      <td>전용</td>\n",
       "      <td>1</td>\n",
       "      <td>0</td>\n",
       "      <td>1</td>\n",
       "      <td>0.000000</td>\n",
       "      <td>1.000000</td>\n",
       "    </tr>\n",
       "    <tr>\n",
       "      <th>455</th>\n",
       "      <td>권역</td>\n",
       "      <td>1</td>\n",
       "      <td>0</td>\n",
       "      <td>1</td>\n",
       "      <td>0.000000</td>\n",
       "      <td>1.000000</td>\n",
       "    </tr>\n",
       "    <tr>\n",
       "      <th>456</th>\n",
       "      <td>연중무휴</td>\n",
       "      <td>1</td>\n",
       "      <td>0</td>\n",
       "      <td>1</td>\n",
       "      <td>0.000000</td>\n",
       "      <td>1.000000</td>\n",
       "    </tr>\n",
       "    <tr>\n",
       "      <th>457</th>\n",
       "      <td>운행</td>\n",
       "      <td>1</td>\n",
       "      <td>0</td>\n",
       "      <td>1</td>\n",
       "      <td>0.000000</td>\n",
       "      <td>1.000000</td>\n",
       "    </tr>\n",
       "    <tr>\n",
       "      <th>712</th>\n",
       "      <td>패스</td>\n",
       "      <td>0</td>\n",
       "      <td>1</td>\n",
       "      <td>1</td>\n",
       "      <td>1.000000</td>\n",
       "      <td>0.000000</td>\n",
       "    </tr>\n",
       "  </tbody>\n",
       "</table>\n",
       "<p>713 rows × 6 columns</p>\n",
       "</div>"
      ],
      "text/plain": [
       "    token  경주빈도  전주빈도  빈도합      전주비율      경주비율\n",
       "0      코스   446   481  927  0.518878  0.481122\n",
       "1      추천   401   301  702  0.428775  0.571225\n",
       "4      맛집   120   287  407  0.705160  0.294840\n",
       "461    여수     0   349  349  1.000000  0.000000\n",
       "462    주달     0   304  304  1.000000  0.000000\n",
       "..    ...   ...   ...  ...       ...       ...\n",
       "459    전용     1     0    1  0.000000  1.000000\n",
       "455    권역     1     0    1  0.000000  1.000000\n",
       "456  연중무휴     1     0    1  0.000000  1.000000\n",
       "457    운행     1     0    1  0.000000  1.000000\n",
       "712    패스     0     1    1  1.000000  0.000000\n",
       "\n",
       "[713 rows x 6 columns]"
      ]
     },
     "execution_count": 148,
     "metadata": {},
     "output_type": "execute_result"
    }
   ],
   "source": [
    "df_mrg_srt = df_mrg.sort_values(by=['빈도합'], ascending=False)\n",
    "df_mrg_srt"
   ]
  },
  {
   "cell_type": "code",
   "execution_count": 149,
   "id": "1204b03f",
   "metadata": {},
   "outputs": [
    {
     "data": {
      "text/html": [
       "<div>\n",
       "<style scoped>\n",
       "    .dataframe tbody tr th:only-of-type {\n",
       "        vertical-align: middle;\n",
       "    }\n",
       "\n",
       "    .dataframe tbody tr th {\n",
       "        vertical-align: top;\n",
       "    }\n",
       "\n",
       "    .dataframe thead th {\n",
       "        text-align: right;\n",
       "    }\n",
       "</style>\n",
       "<table border=\"1\" class=\"dataframe\">\n",
       "  <thead>\n",
       "    <tr style=\"text-align: right;\">\n",
       "      <th></th>\n",
       "      <th>token</th>\n",
       "      <th>경주빈도</th>\n",
       "      <th>전주빈도</th>\n",
       "      <th>빈도합</th>\n",
       "      <th>전주비율</th>\n",
       "      <th>경주비율</th>\n",
       "    </tr>\n",
       "  </thead>\n",
       "  <tbody>\n",
       "    <tr>\n",
       "      <th>0</th>\n",
       "      <td>코스</td>\n",
       "      <td>446</td>\n",
       "      <td>481</td>\n",
       "      <td>927</td>\n",
       "      <td>51.89%</td>\n",
       "      <td>48.11%</td>\n",
       "    </tr>\n",
       "    <tr>\n",
       "      <th>1</th>\n",
       "      <td>추천</td>\n",
       "      <td>401</td>\n",
       "      <td>301</td>\n",
       "      <td>702</td>\n",
       "      <td>42.88%</td>\n",
       "      <td>57.12%</td>\n",
       "    </tr>\n",
       "    <tr>\n",
       "      <th>4</th>\n",
       "      <td>맛집</td>\n",
       "      <td>120</td>\n",
       "      <td>287</td>\n",
       "      <td>407</td>\n",
       "      <td>70.52%</td>\n",
       "      <td>29.48%</td>\n",
       "    </tr>\n",
       "    <tr>\n",
       "      <th>461</th>\n",
       "      <td>여수</td>\n",
       "      <td>0</td>\n",
       "      <td>349</td>\n",
       "      <td>349</td>\n",
       "      <td>100.00%</td>\n",
       "      <td>0.00%</td>\n",
       "    </tr>\n",
       "    <tr>\n",
       "      <th>462</th>\n",
       "      <td>주달</td>\n",
       "      <td>0</td>\n",
       "      <td>304</td>\n",
       "      <td>304</td>\n",
       "      <td>100.00%</td>\n",
       "      <td>0.00%</td>\n",
       "    </tr>\n",
       "    <tr>\n",
       "      <th>...</th>\n",
       "      <td>...</td>\n",
       "      <td>...</td>\n",
       "      <td>...</td>\n",
       "      <td>...</td>\n",
       "      <td>...</td>\n",
       "      <td>...</td>\n",
       "    </tr>\n",
       "    <tr>\n",
       "      <th>459</th>\n",
       "      <td>전용</td>\n",
       "      <td>1</td>\n",
       "      <td>0</td>\n",
       "      <td>1</td>\n",
       "      <td>0.00%</td>\n",
       "      <td>100.00%</td>\n",
       "    </tr>\n",
       "    <tr>\n",
       "      <th>455</th>\n",
       "      <td>권역</td>\n",
       "      <td>1</td>\n",
       "      <td>0</td>\n",
       "      <td>1</td>\n",
       "      <td>0.00%</td>\n",
       "      <td>100.00%</td>\n",
       "    </tr>\n",
       "    <tr>\n",
       "      <th>456</th>\n",
       "      <td>연중무휴</td>\n",
       "      <td>1</td>\n",
       "      <td>0</td>\n",
       "      <td>1</td>\n",
       "      <td>0.00%</td>\n",
       "      <td>100.00%</td>\n",
       "    </tr>\n",
       "    <tr>\n",
       "      <th>457</th>\n",
       "      <td>운행</td>\n",
       "      <td>1</td>\n",
       "      <td>0</td>\n",
       "      <td>1</td>\n",
       "      <td>0.00%</td>\n",
       "      <td>100.00%</td>\n",
       "    </tr>\n",
       "    <tr>\n",
       "      <th>712</th>\n",
       "      <td>패스</td>\n",
       "      <td>0</td>\n",
       "      <td>1</td>\n",
       "      <td>1</td>\n",
       "      <td>100.00%</td>\n",
       "      <td>0.00%</td>\n",
       "    </tr>\n",
       "  </tbody>\n",
       "</table>\n",
       "<p>713 rows × 6 columns</p>\n",
       "</div>"
      ],
      "text/plain": [
       "    token  경주빈도  전주빈도  빈도합     전주비율     경주비율\n",
       "0      코스   446   481  927   51.89%   48.11%\n",
       "1      추천   401   301  702   42.88%   57.12%\n",
       "4      맛집   120   287  407   70.52%   29.48%\n",
       "461    여수     0   349  349  100.00%    0.00%\n",
       "462    주달     0   304  304  100.00%    0.00%\n",
       "..    ...   ...   ...  ...      ...      ...\n",
       "459    전용     1     0    1    0.00%  100.00%\n",
       "455    권역     1     0    1    0.00%  100.00%\n",
       "456  연중무휴     1     0    1    0.00%  100.00%\n",
       "457    운행     1     0    1    0.00%  100.00%\n",
       "712    패스     0     1    1  100.00%    0.00%\n",
       "\n",
       "[713 rows x 6 columns]"
      ]
     },
     "execution_count": 149,
     "metadata": {},
     "output_type": "execute_result"
    }
   ],
   "source": [
    "df_mrg_srt['전주비율'] = df_mrg_srt['전주비율'].apply(lambda x : \"{:.2%}\".format(x))\n",
    "df_mrg_srt['경주비율'] = df_mrg_srt['경주비율'].apply(lambda x : \"{:.2%}\".format(x))\n",
    "df_mrg_srt"
   ]
  },
  {
   "cell_type": "code",
   "execution_count": 150,
   "id": "537be6cd",
   "metadata": {},
   "outputs": [
    {
     "data": {
      "text/html": [
       "<div>\n",
       "<style scoped>\n",
       "    .dataframe tbody tr th:only-of-type {\n",
       "        vertical-align: middle;\n",
       "    }\n",
       "\n",
       "    .dataframe tbody tr th {\n",
       "        vertical-align: top;\n",
       "    }\n",
       "\n",
       "    .dataframe thead th {\n",
       "        text-align: right;\n",
       "    }\n",
       "</style>\n",
       "<table border=\"1\" class=\"dataframe\">\n",
       "  <thead>\n",
       "    <tr style=\"text-align: right;\">\n",
       "      <th></th>\n",
       "      <th>token</th>\n",
       "      <th>경주빈도</th>\n",
       "      <th>전주빈도</th>\n",
       "      <th>빈도합</th>\n",
       "      <th>전주비율</th>\n",
       "      <th>경주비율</th>\n",
       "    </tr>\n",
       "  </thead>\n",
       "  <tbody>\n",
       "    <tr>\n",
       "      <th>0</th>\n",
       "      <td>코스</td>\n",
       "      <td>446</td>\n",
       "      <td>481</td>\n",
       "      <td>927</td>\n",
       "      <td>51.89%</td>\n",
       "      <td>48.11%</td>\n",
       "    </tr>\n",
       "    <tr>\n",
       "      <th>1</th>\n",
       "      <td>추천</td>\n",
       "      <td>401</td>\n",
       "      <td>301</td>\n",
       "      <td>702</td>\n",
       "      <td>42.88%</td>\n",
       "      <td>57.12%</td>\n",
       "    </tr>\n",
       "    <tr>\n",
       "      <th>2</th>\n",
       "      <td>맛집</td>\n",
       "      <td>120</td>\n",
       "      <td>287</td>\n",
       "      <td>407</td>\n",
       "      <td>70.52%</td>\n",
       "      <td>29.48%</td>\n",
       "    </tr>\n",
       "    <tr>\n",
       "      <th>3</th>\n",
       "      <td>여수</td>\n",
       "      <td>0</td>\n",
       "      <td>349</td>\n",
       "      <td>349</td>\n",
       "      <td>100.00%</td>\n",
       "      <td>0.00%</td>\n",
       "    </tr>\n",
       "    <tr>\n",
       "      <th>4</th>\n",
       "      <td>주달</td>\n",
       "      <td>0</td>\n",
       "      <td>304</td>\n",
       "      <td>304</td>\n",
       "      <td>100.00%</td>\n",
       "      <td>0.00%</td>\n",
       "    </tr>\n",
       "    <tr>\n",
       "      <th>...</th>\n",
       "      <td>...</td>\n",
       "      <td>...</td>\n",
       "      <td>...</td>\n",
       "      <td>...</td>\n",
       "      <td>...</td>\n",
       "      <td>...</td>\n",
       "    </tr>\n",
       "    <tr>\n",
       "      <th>708</th>\n",
       "      <td>전용</td>\n",
       "      <td>1</td>\n",
       "      <td>0</td>\n",
       "      <td>1</td>\n",
       "      <td>0.00%</td>\n",
       "      <td>100.00%</td>\n",
       "    </tr>\n",
       "    <tr>\n",
       "      <th>709</th>\n",
       "      <td>권역</td>\n",
       "      <td>1</td>\n",
       "      <td>0</td>\n",
       "      <td>1</td>\n",
       "      <td>0.00%</td>\n",
       "      <td>100.00%</td>\n",
       "    </tr>\n",
       "    <tr>\n",
       "      <th>710</th>\n",
       "      <td>연중무휴</td>\n",
       "      <td>1</td>\n",
       "      <td>0</td>\n",
       "      <td>1</td>\n",
       "      <td>0.00%</td>\n",
       "      <td>100.00%</td>\n",
       "    </tr>\n",
       "    <tr>\n",
       "      <th>711</th>\n",
       "      <td>운행</td>\n",
       "      <td>1</td>\n",
       "      <td>0</td>\n",
       "      <td>1</td>\n",
       "      <td>0.00%</td>\n",
       "      <td>100.00%</td>\n",
       "    </tr>\n",
       "    <tr>\n",
       "      <th>712</th>\n",
       "      <td>패스</td>\n",
       "      <td>0</td>\n",
       "      <td>1</td>\n",
       "      <td>1</td>\n",
       "      <td>100.00%</td>\n",
       "      <td>0.00%</td>\n",
       "    </tr>\n",
       "  </tbody>\n",
       "</table>\n",
       "<p>713 rows × 6 columns</p>\n",
       "</div>"
      ],
      "text/plain": [
       "    token  경주빈도  전주빈도  빈도합     전주비율     경주비율\n",
       "0      코스   446   481  927   51.89%   48.11%\n",
       "1      추천   401   301  702   42.88%   57.12%\n",
       "2      맛집   120   287  407   70.52%   29.48%\n",
       "3      여수     0   349  349  100.00%    0.00%\n",
       "4      주달     0   304  304  100.00%    0.00%\n",
       "..    ...   ...   ...  ...      ...      ...\n",
       "708    전용     1     0    1    0.00%  100.00%\n",
       "709    권역     1     0    1    0.00%  100.00%\n",
       "710  연중무휴     1     0    1    0.00%  100.00%\n",
       "711    운행     1     0    1    0.00%  100.00%\n",
       "712    패스     0     1    1  100.00%    0.00%\n",
       "\n",
       "[713 rows x 6 columns]"
      ]
     },
     "execution_count": 150,
     "metadata": {},
     "output_type": "execute_result"
    }
   ],
   "source": [
    "df_mrg_srt.reset_index(drop=True, inplace=True)\n",
    "df_mrg_srt"
   ]
  },
  {
   "cell_type": "code",
   "execution_count": 151,
   "id": "0714e449",
   "metadata": {},
   "outputs": [],
   "source": [
    "df_mrg_srt.to_csv('data/naver_kin_pos_nouns_count.txt', sep='\\t')"
   ]
  },
  {
   "cell_type": "markdown",
   "id": "783d760f",
   "metadata": {},
   "source": [
    "# 5. 빈도 시각화(워드클라우드, Text)"
   ]
  },
  {
   "cell_type": "code",
   "execution_count": 152,
   "id": "639a309e",
   "metadata": {},
   "outputs": [
    {
     "name": "stdout",
     "output_type": "stream",
     "text": [
      "(14101, 3)\n"
     ]
    },
    {
     "data": {
      "text/html": [
       "<div>\n",
       "<style scoped>\n",
       "    .dataframe tbody tr th:only-of-type {\n",
       "        vertical-align: middle;\n",
       "    }\n",
       "\n",
       "    .dataframe tbody tr th {\n",
       "        vertical-align: top;\n",
       "    }\n",
       "\n",
       "    .dataframe thead th {\n",
       "        text-align: right;\n",
       "    }\n",
       "</style>\n",
       "<table border=\"1\" class=\"dataframe\">\n",
       "  <thead>\n",
       "    <tr style=\"text-align: right;\">\n",
       "      <th></th>\n",
       "      <th>query</th>\n",
       "      <th>token</th>\n",
       "      <th>pos</th>\n",
       "    </tr>\n",
       "  </thead>\n",
       "  <tbody>\n",
       "    <tr>\n",
       "      <th>0</th>\n",
       "      <td>전주 여행</td>\n",
       "      <td>추천</td>\n",
       "      <td>NNG</td>\n",
       "    </tr>\n",
       "    <tr>\n",
       "      <th>3000</th>\n",
       "      <td>전주 여행</td>\n",
       "      <td>시간</td>\n",
       "      <td>NNG</td>\n",
       "    </tr>\n",
       "    <tr>\n",
       "      <th>6000</th>\n",
       "      <td>전주 여행</td>\n",
       "      <td>실내</td>\n",
       "      <td>NNG</td>\n",
       "    </tr>\n",
       "    <tr>\n",
       "      <th>9000</th>\n",
       "      <td>경주 여행</td>\n",
       "      <td>혼자</td>\n",
       "      <td>NNG</td>\n",
       "    </tr>\n",
       "    <tr>\n",
       "      <th>12000</th>\n",
       "      <td>경주 여행</td>\n",
       "      <td>코스</td>\n",
       "      <td>NNG</td>\n",
       "    </tr>\n",
       "  </tbody>\n",
       "</table>\n",
       "</div>"
      ],
      "text/plain": [
       "       query token  pos\n",
       "0      전주 여행    추천  NNG\n",
       "3000   전주 여행    시간  NNG\n",
       "6000   전주 여행    실내  NNG\n",
       "9000   경주 여행    혼자  NNG\n",
       "12000  경주 여행    코스  NNG"
      ]
     },
     "execution_count": 152,
     "metadata": {},
     "output_type": "execute_result"
    }
   ],
   "source": [
    "df_nouns = pd.read_csv('data/naver_kin_pos_nouns.csv', sep='\\t')\n",
    "print(df_nouns.shape)\n",
    "df_nouns.iloc[::3000]"
   ]
  },
  {
   "cell_type": "code",
   "execution_count": 153,
   "id": "840eb103",
   "metadata": {},
   "outputs": [
    {
     "data": {
      "text/plain": [
       "array(['NNG', 'NNP'], dtype=object)"
      ]
     },
     "execution_count": 153,
     "metadata": {},
     "output_type": "execute_result"
    }
   ],
   "source": [
    "df_nouns['pos'].unique()"
   ]
  },
  {
   "cell_type": "code",
   "execution_count": 154,
   "id": "10b03897",
   "metadata": {},
   "outputs": [
    {
     "name": "stdout",
     "output_type": "stream",
     "text": [
      "['추석', '추석', '생각', '서울', '버스']\n",
      "['추천', '추억', '다양', '체험', '감성']\n",
      "추석 추석 생각 서\n",
      "추천 추억 다양 체\n"
     ]
    }
   ],
   "source": [
    "df_gj_noun = df_nouns.loc[df_nouns['query']=='경주 여행','token'].to_list()\n",
    "df_jj_noun = df_nouns.loc[df_nouns['query']=='전주 여행','token'].to_list()\n",
    "print(df_gj_noun[:5])\n",
    "print(df_jj_noun[:5])\n",
    "gj = ' '.join(df_gj_noun)\n",
    "jj = ' '.join(df_jj_noun)\n",
    "print(gj[:10])\n",
    "print(jj[:10])"
   ]
  },
  {
   "cell_type": "code",
   "execution_count": 155,
   "id": "67339d85",
   "metadata": {},
   "outputs": [],
   "source": [
    "from wordcloud import WordCloud\n",
    "import matplotlib.pyplot as plt\n",
    "color_map = \"Blues\"\n",
    "font_path = 'data/NanumPenScript-Regular.ttf'"
   ]
  },
  {
   "cell_type": "code",
   "execution_count": 156,
   "id": "6038981c",
   "metadata": {},
   "outputs": [
    {
     "data": {
      "image/png": "[encoded data removed]",
      "text/plain": [
       "<Figure size 640x480 with 1 Axes>"
      ]
     },
     "metadata": {},
     "output_type": "display_data"
    }
   ],
   "source": [
    "import numpy as np\n",
    "from PIL import Image\n",
    "mask = np.array(Image.open('data/heart.jpg'))\n",
    "불용어 = set(['여행'])\n",
    "wordcloud = WordCloud(\n",
    "    background_color='white',\n",
    "    colormap=color_map,\n",
    "    collocations=True, # 특정단어가 자주 같이 나오면 같이 뿌려 ex황리단같은거는 같이\n",
    "    max_words=200,\n",
    "    max_font_size=200,\n",
    "    scale=2, # 이미지 크기의 비율(다운로드시 달라짐)\n",
    "    random_state=777,\n",
    "    font_path = font_path,\n",
    "    stopwords=불용어,\n",
    "    mask = mask,\n",
    "    contour_color='blue',\n",
    "    contour_width=1\n",
    ").generate(gj)\n",
    "plt.imshow(wordcloud, interpolation='bilinear')\n",
    "plt.axis('off')\n",
    "plt.show()"
   ]
  },
  {
   "cell_type": "code",
   "execution_count": 157,
   "id": "cd92fe79",
   "metadata": {},
   "outputs": [
    {
     "data": {
      "text/plain": [
       "<wordcloud.wordcloud.WordCloud at 0x18a91710fd0>"
      ]
     },
     "execution_count": 157,
     "metadata": {},
     "output_type": "execute_result"
    }
   ],
   "source": [
    "# 생성된 wordcloud 저장\n",
    "wordcloud.to_file('data/naver_kin_경주.jpg')"
   ]
  },
  {
   "cell_type": "code",
   "execution_count": 158,
   "id": "2e0d1fbc",
   "metadata": {},
   "outputs": [
    {
     "data": {
      "image/png": "[encoded data removed]",
      "text/plain": [
       "<Figure size 640x480 with 1 Axes>"
      ]
     },
     "metadata": {},
     "output_type": "display_data"
    }
   ],
   "source": [
    "import numpy as np\n",
    "from PIL import Image\n",
    "mask = np.array(Image.open('data/korea-house-black-fill.png'))\n",
    "불용어 = set(['여행'])\n",
    "wordcloud = WordCloud(\n",
    "    background_color='white',\n",
    "    colormap=color_map,\n",
    "    collocations=True, # 특정단어가 자주 같이 나오면 같이 뿌려 ex황리단같은거는 같이\n",
    "    max_words=200,\n",
    "    max_font_size=100,\n",
    "    scale=2, # 이미지 크기의 비율(다운로드시 달라짐)\n",
    "    random_state=777,\n",
    "    font_path = font_path,\n",
    "    stopwords=불용어,\n",
    "    mask = mask,\n",
    "    contour_color='blue',\n",
    "    contour_width=1\n",
    ").generate(jj)\n",
    "plt.imshow(wordcloud, interpolation='bilinear')\n",
    "plt.axis('off')\n",
    "plt.show()"
   ]
  },
  {
   "cell_type": "code",
   "execution_count": 159,
   "id": "af1e1d5b",
   "metadata": {},
   "outputs": [
    {
     "data": {
      "text/plain": [
       "<wordcloud.wordcloud.WordCloud at 0x18a9219f7c0>"
      ]
     },
     "execution_count": 159,
     "metadata": {},
     "output_type": "execute_result"
    }
   ],
   "source": [
    "# 생성된 wordcloud 저장\n",
    "wordcloud.to_file('data/naver_kin_전주.jpg')"
   ]
  },
  {
   "cell_type": "markdown",
   "id": "002f534f",
   "metadata": {},
   "source": [
    "# 6. Word2Vec"
   ]
  },
  {
   "cell_type": "code",
   "execution_count": 188,
   "id": "b579ba31",
   "metadata": {},
   "outputs": [],
   "source": [
    "df_nouns2 = df_postagged.loc[df_postagged['pos'].isin(['NNP', 'NNG'])]"
   ]
  },
  {
   "cell_type": "code",
   "execution_count": 221,
   "id": "f5b228d9",
   "metadata": {},
   "outputs": [],
   "source": [
    "jj_train_datas = []\n",
    "gj_train_datas = []\n",
    "for index in set(df_nouns2[\"no\"].values) :\n",
    "    jj_train_datas.append(df_nouns2[(df_nouns2[\"query\"]==\"전주 여행\")&(df_nouns2[\"no\"]==index)]['token'].to_list())\n",
    "    gj_train_datas.append(df_nouns2[(df_nouns2[\"query\"]==\"경주 여행\")&(df_nouns2[\"no\"]==index)]['token'].to_list())"
   ]
  },
  {
   "cell_type": "code",
   "execution_count": 223,
   "id": "32f6e081",
   "metadata": {},
   "outputs": [],
   "source": [
    "from gensim.models import Word2Vec\n",
    "jj_model = Word2Vec(jj_train_datas, # 학습데이터 2차원\n",
    "                window=10, # 각 단어의 좌우10개 단어를 학습 컨텐츠로 사용\n",
    "                min_count=2, # 학습데이터에서 2회 이상 등장한 단어만 학습.\n",
    "                workers=-1 # 병렬처리 core수. -1: 모든 가용 코어 사용.\n",
    "                )"
   ]
  },
  {
   "cell_type": "code",
   "execution_count": 231,
   "id": "4ce86835",
   "metadata": {},
   "outputs": [
    {
     "data": {
      "text/plain": [
       "[('당일', 0.3698463439941406),\n",
       " ('시설', 0.2762660086154938),\n",
       " ('양식', 0.24960343539714813),\n",
       " ('도시', 0.24882428348064423),\n",
       " ('남자', 0.21197080612182617),\n",
       " ('실시간', 0.21178807318210602),\n",
       " ('최고봉', 0.20512956380844116),\n",
       " ('렌트', 0.20174548029899597),\n",
       " ('가보세요', 0.20067404210567474),\n",
       " ('제주', 0.1991206258535385)]"
      ]
     },
     "execution_count": 231,
     "metadata": {},
     "output_type": "execute_result"
    }
   ],
   "source": [
    "jj_model.wv.most_similar('주달')"
   ]
  },
  {
   "cell_type": "code",
   "execution_count": 232,
   "id": "ecc1f75b",
   "metadata": {},
   "outputs": [],
   "source": [
    "gj_model = Word2Vec(gj_train_datas, # 학습데이터 2차원\n",
    "                window=10, # 각 단어의 좌우10개 단어를 학습 컨텐츠로 사용\n",
    "                min_count=2, # 학습데이터에서 2회 이상 등장한 단어만 학습.\n",
    "                workers=-1 # 병렬처리 core수. -1: 모든 가용 코어 사용.\n",
    "                ) "
   ]
  },
  {
   "cell_type": "code",
   "execution_count": 235,
   "id": "7615ce9b",
   "metadata": {},
   "outputs": [
    {
     "data": {
      "text/plain": [
       "[('방학', 0.3082698583602905),\n",
       " ('어르신', 0.284964382648468),\n",
       " ('월드', 0.2626396715641022),\n",
       " ('운영', 0.2577804923057556),\n",
       " ('작품', 0.24819181859493256),\n",
       " ('양남', 0.24142788350582123),\n",
       " ('종합', 0.21409261226654053),\n",
       " ('어린애', 0.21190187335014343),\n",
       " ('저번', 0.210212841629982),\n",
       " ('개화', 0.2067105919122696)]"
      ]
     },
     "execution_count": 235,
     "metadata": {},
     "output_type": "execute_result"
    }
   ],
   "source": [
    "gj_model.wv.most_similar('추석')"
   ]
  },
  {
   "cell_type": "code",
   "execution_count": null,
   "id": "40268f93",
   "metadata": {},
   "outputs": [],
   "source": []
  },
  {
   "cell_type": "code",
   "execution_count": null,
   "id": "8b7dbaef",
   "metadata": {},
   "outputs": [],
   "source": []
  },
  {
   "cell_type": "code",
   "execution_count": null,
   "id": "961265a7",
   "metadata": {},
   "outputs": [],
   "source": []
  }
 ],
 "metadata": {
  "kernelspec": {
   "display_name": "ml-dl-nlp",
   "language": "python",
   "name": "ml-dl-nlp"
  },
  "language_info": {
   "codemirror_mode": {
    "name": "ipython",
    "version": 3
   },
   "file_extension": ".py",
   "mimetype": "text/x-python",
   "name": "python",
   "nbconvert_exporter": "python",
   "pygments_lexer": "ipython3",
   "version": "3.10.18"
  },
  "toc": {
   "base_numbering": 1,
   "nav_menu": {},
   "number_sections": false,
   "sideBar": true,
   "skip_h1_title": false,
   "title_cell": "Table of Contents",
   "title_sidebar": "Contents",
   "toc_cell": false,
   "toc_position": {
    "height": "calc(100% - 180px)",
    "left": "10px",
    "top": "150px",
    "width": "165px"
   },
   "toc_section_display": true,
   "toc_window_display": false
  }
 },
 "nbformat": 4,
 "nbformat_minor": 5
}
