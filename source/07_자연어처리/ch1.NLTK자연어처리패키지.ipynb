{
 "cells": [
  {
   "cell_type": "code",
   "execution_count": 3,
   "id": "3893dfed",
   "metadata": {},
   "outputs": [
    {
     "data": {
      "text/html": [
       "\n",
       "<style>\n",
       "div.container{width:86% !important;}\n",
       "div.cell.code_cell.rendered{width:100%;}\n",
       "div.CodeMirror {font-family:Consolas; font-size:15pt;}\n",
       "div.output {font-size:15pt; font-weight:bold;}\n",
       "div.input {font-family:Consolas; font-size:15pt;}\n",
       "div.prompt {min-width:70px;}\n",
       "div#toc-wrapper{padding-top:120px;}\n",
       "div.text_cell_render ul li{font-size:12pt;padding:5px;}\n",
       "table.dataframe{font-size:15px;}\n",
       "</style>\n"
      ],
      "text/plain": [
       "<IPython.core.display.HTML object>"
      ]
     },
     "metadata": {},
     "output_type": "display_data"
    }
   ],
   "source": [
    "from IPython.display import display, HTML\n",
    "display(HTML(\"\"\"\n",
    "<style>\n",
    "div.container{width:86% !important;}\n",
    "div.cell.code_cell.rendered{width:100%;}\n",
    "div.CodeMirror {font-family:Consolas; font-size:15pt;}\n",
    "div.output {font-size:15pt; font-weight:bold;}\n",
    "div.input {font-family:Consolas; font-size:15pt;}\n",
    "div.prompt {min-width:70px;}\n",
    "div#toc-wrapper{padding-top:120px;}\n",
    "div.text_cell_render ul li{font-size:12pt;padding:5px;}\n",
    "table.dataframe{font-size:15px;}\n",
    "</style>\n",
    "\"\"\"))"
   ]
  },
  {
   "cell_type": "markdown",
   "id": "1f334318",
   "metadata": {},
   "source": [
    "# <span style=\"color:red\">ch1. NLTK 자연어처리 패키지</span>\n",
    "# 1. NLTK 패키지\n",
    "- 자연어처리를 위한 강력하고 사용하기 쉬운 라이브러리\n",
    "1. 텍스트 전처리 : 토큰화(어절, 문장나누기), 정규화(정규표현식 활용), 불용어 제거, 표제어추출(기본형태로 변환)\n",
    "2. 품사태깅 : 단어 품사 식별\n",
    "3. 어휘 데이터 베이스 사용\n",
    "4. 구조화된 문서의 빈도수, 분류분석, 연관분석, 감정분석 (단점)속도가 느림\n",
    "```\n",
    "pip install nltk\n",
    "```"
   ]
  },
  {
   "cell_type": "code",
   "execution_count": 4,
   "id": "fbb0a5b5",
   "metadata": {},
   "outputs": [],
   "source": [
    "import nltk"
   ]
  },
  {
   "cell_type": "code",
   "execution_count": 5,
   "id": "e0cab992",
   "metadata": {},
   "outputs": [
    {
     "name": "stdout",
     "output_type": "stream",
     "text": [
      "showing info https://raw.githubusercontent.com/nltk/nltk_data/gh-pages/index.xml\n"
     ]
    },
    {
     "data": {
      "text/plain": [
       "True"
      ]
     },
     "execution_count": 5,
     "metadata": {},
     "output_type": "execute_result"
    }
   ],
   "source": [
    "# 말뭉치를 다운로드\n",
    "# c:/nltk_data\n",
    "# d:/nltk_data\n",
    "# c:/Users/내컴퓨터이름/nltk_data\n",
    "# c:/Users/내컴퓨터이름/anaconda3/nltk_data\n",
    "# c:/Users/내컴퓨터이름/anaconda3/lib/nltk_data\n",
    "# c:/Users/내컴퓨터이름/anaconda3/share/nltk_data\n",
    "# c:/Users/내컴퓨터이름/Appdata/Roaming/nltk_data\n",
    "nltk.download()"
   ]
  },
  {
   "cell_type": "code",
   "execution_count": 6,
   "id": "4525a1ce",
   "metadata": {},
   "outputs": [
    {
     "data": {
      "text/plain": [
       "['austen-emma.txt',\n",
       " 'austen-persuasion.txt',\n",
       " 'austen-sense.txt',\n",
       " 'bible-kjv.txt',\n",
       " 'blake-poems.txt',\n",
       " 'bryant-stories.txt',\n",
       " 'burgess-busterbrown.txt',\n",
       " 'carroll-alice.txt',\n",
       " 'chesterton-ball.txt',\n",
       " 'chesterton-brown.txt',\n",
       " 'chesterton-thursday.txt',\n",
       " 'edgeworth-parents.txt',\n",
       " 'melville-moby_dick.txt',\n",
       " 'milton-paradise.txt',\n",
       " 'shakespeare-caesar.txt',\n",
       " 'shakespeare-hamlet.txt',\n",
       " 'shakespeare-macbeth.txt',\n",
       " 'whitman-leaves.txt']"
      ]
     },
     "execution_count": 6,
     "metadata": {},
     "output_type": "execute_result"
    }
   ],
   "source": [
    "# 말뭉치 리스트\n",
    "nltk.corpus.gutenberg.fileids()"
   ]
  },
  {
   "cell_type": "code",
   "execution_count": 7,
   "id": "2072da80",
   "metadata": {},
   "outputs": [
    {
     "data": {
      "text/plain": [
       "'[Emma by Jane Austen 1816]\\n\\nVOLUME I\\n\\nCH'"
      ]
     },
     "execution_count": 7,
     "metadata": {},
     "output_type": "execute_result"
    }
   ],
   "source": [
    "#\n",
    "# 말뭉치 데이터 셋 (소설 엠마내용)\n",
    "emma = nltk.corpus.gutenberg.raw('austen-emma.txt')\n",
    "emma[:40]"
   ]
  },
  {
   "cell_type": "code",
   "execution_count": 8,
   "id": "68aa2007",
   "metadata": {},
   "outputs": [
    {
     "name": "stdout",
     "output_type": "stream",
     "text": [
      "글자수 : 887071\n"
     ]
    }
   ],
   "source": [
    "# emma의 글자수, 문장수, 단어수\n",
    "print('글자수 :', len(emma))"
   ]
  },
  {
   "cell_type": "code",
   "execution_count": 9,
   "id": "210d6e15",
   "metadata": {},
   "outputs": [
    {
     "name": "stdout",
     "output_type": "stream",
     "text": [
      "문장수 : 7456\n",
      "'[Emma by Jane Austen 1816]\\n\\nVOLUME I\\n\\nCHAPTER I\\n\\n\\nEmma Woodhouse, handsome, clever, and rich, with a comfortable home\\nand happy disposition, seemed to unite some of the best blessings\\nof existence; and had lived nearly twenty-one years in the world\\nwith very little to distress or vex her.'\n"
     ]
    }
   ],
   "source": [
    "# sent_tokenize() : 문장단위으로 나눠 list로 반환\n",
    "from nltk.tokenize import sent_tokenize\n",
    "sent_tokens = sent_tokenize(emma)\n",
    "print('문장수 :', len(sent_tokens))\n",
    "print(\"%r\" % sent_tokens[0])"
   ]
  },
  {
   "cell_type": "code",
   "execution_count": 10,
   "id": "0206dd84",
   "metadata": {},
   "outputs": [
    {
     "name": "stdout",
     "output_type": "stream",
     "text": [
      "['[', 'Emma', 'by', 'Jane', 'Austen', '1816', ']', 'VOLUME', 'I', 'CHAPTER', 'I', 'Emma', 'Woodhouse', ',', 'handsome', ',', 'clever', ',', 'and', 'rich', ',', 'with', 'a', 'comfortable', 'home', 'and', 'happy', 'disposition', ',', 'seemed', 'to', 'unite', 'some', 'of', 'the', 'best', 'blessings', 'of', 'existence', ';', 'and', 'had', 'lived', 'nearly', 'twenty-one', 'years', 'in', 'the', 'world', 'with', 'very', 'little', 'to', 'distress', 'or', 'vex', 'her', '.']\n"
     ]
    }
   ],
   "source": [
    "# word_tokenize() : 단어토큰으로 쪼갠 list 반환\n",
    "from nltk.tokenize import word_tokenize\n",
    "print(word_tokenize(sent_tokens[0]))"
   ]
  },
  {
   "cell_type": "code",
   "execution_count": 11,
   "id": "4df8db75",
   "metadata": {},
   "outputs": [
    {
     "name": "stdout",
     "output_type": "stream",
     "text": [
      "단어수 : 191776\n"
     ]
    }
   ],
   "source": [
    "print('단어수 :', len(word_tokenize(emma)))"
   ]
  },
  {
   "cell_type": "code",
   "execution_count": 12,
   "id": "847a153a",
   "metadata": {},
   "outputs": [
    {
     "name": "stdout",
     "output_type": "stream",
     "text": [
      "['1816']\n",
      "['Emma', 'Jane', 'Austen', '1816', 'VOLUME', 'CHAPTER', 'Emma', 'Woodhouse', 'handsome', 'clever', 'and', 'rich', 'with', 'comfortable', 'home', 'and', 'happy', 'disposition', 'seemed', 'unite', 'some', 'the', 'best', 'blessings', 'existence', 'and', 'had', 'lived', 'nearly', 'twenty', 'one', 'years', 'the', 'world', 'with', 'very', 'little', 'distress', 'vex', 'her']\n"
     ]
    }
   ],
   "source": [
    "# RegexpTokenizer() : 토큰화할 때 해당 정규표현식에 해당하는 word만 적용\n",
    "from nltk.tokenize import RegexpTokenizer\n",
    "digitRet = RegexpTokenizer('\\d+')\n",
    "alphaRet = RegexpTokenizer('\\w{3,}')\n",
    "digits = digitRet.tokenize(sent_tokens[0])\n",
    "print(digits)\n",
    "words = alphaRet.tokenize(sent_tokens[0])\n",
    "print(words)"
   ]
  },
  {
   "cell_type": "markdown",
   "id": "60da2940",
   "metadata": {},
   "source": [
    "# 2. 형태소(의미 있는 가장 작은 단위) 분석"
   ]
  },
  {
   "cell_type": "code",
   "execution_count": 13,
   "id": "30606ebd",
   "metadata": {},
   "outputs": [
    {
     "data": {
      "text/plain": [
       "'send'"
      ]
     },
     "execution_count": 13,
     "metadata": {},
     "output_type": "execute_result"
    }
   ],
   "source": [
    "words2 = ['sending', 'cooking', 'files', 'lives', 'crying', 'dying']\n",
    "# 어간추출(1) : PorterStemmer\n",
    "from nltk.stem import PorterStemmer\n",
    "pst = PorterStemmer()\n",
    "pst.stem(words2[0])"
   ]
  },
  {
   "cell_type": "code",
   "execution_count": 14,
   "id": "0f110835",
   "metadata": {},
   "outputs": [
    {
     "data": {
      "text/plain": [
       "['send', 'cook', 'file', 'live', 'cri', 'die']"
      ]
     },
     "execution_count": 14,
     "metadata": {},
     "output_type": "execute_result"
    }
   ],
   "source": [
    "[pst.stem(word) for word in words2]"
   ]
  },
  {
   "cell_type": "code",
   "execution_count": 15,
   "id": "5c5c8125",
   "metadata": {},
   "outputs": [
    {
     "data": {
      "text/plain": [
       "['send', 'cook', 'fil', 'liv', 'cry', 'dying']"
      ]
     },
     "execution_count": 15,
     "metadata": {},
     "output_type": "execute_result"
    }
   ],
   "source": [
    "# 어간 추출(2) - 어간 추출하는 것 중 제일 빈도 높다\n",
    "from nltk.stem import LancasterStemmer\n",
    "lst = LancasterStemmer()\n",
    "[lst.stem(word) for word in words2]"
   ]
  },
  {
   "cell_type": "code",
   "execution_count": 16,
   "id": "4e7fecf4",
   "metadata": {},
   "outputs": [
    {
     "data": {
      "text/plain": [
       "['send', 'cook', 'files', 'lives', 'cry', 'dy']"
      ]
     },
     "execution_count": 16,
     "metadata": {},
     "output_type": "execute_result"
    }
   ],
   "source": [
    "# 어간 추출(3) RegexpStemmer : 정규표현식에 해당하는 부분만 어간 추출\n",
    "from nltk.stem import RegexpStemmer\n",
    "rst = RegexpStemmer('ing')\n",
    "[rst.stem(word) for word in words2]"
   ]
  },
  {
   "cell_type": "code",
   "execution_count": 17,
   "id": "44f5a971",
   "metadata": {},
   "outputs": [
    {
     "name": "stdout",
     "output_type": "stream",
     "text": [
      "['[', 'Emma', 'by', 'Jane', 'Austen', '1816', ']', 'VOLUME', 'I', 'CHAPTER', 'I', 'Emma', 'Woodhouse', ',', 'handsome', ',', 'clever', ',', 'and', 'rich', ',', 'with', 'a', 'comfortable', 'home', 'and', 'happy', 'disposition', ',', 'seemed', 'to', 'unite', 'some', 'of', 'the', 'best', 'blessings', 'of', 'existence', ';', 'and', 'had', 'lived', 'nearly', 'twenty-one', 'years', 'in', 'the', 'world', 'with', 'very', 'little', 'to', 'distress', 'or', 'vex', 'her', '.']\n",
      "품사태깅한 결과 : [('[', 'NNS'), ('Emma', 'NNP'), ('by', 'IN'), ('Jane', 'NNP'), ('Austen', 'NNP'), ('1816', 'CD'), (']', 'NNP'), ('VOLUME', 'NNP'), ('I', 'PRP'), ('CHAPTER', 'VBP'), ('I', 'PRP'), ('Emma', 'NNP'), ('Woodhouse', 'NNP'), (',', ','), ('handsome', 'NN'), (',', ','), ('clever', 'NN'), (',', ','), ('and', 'CC'), ('rich', 'JJ'), (',', ','), ('with', 'IN'), ('a', 'DT'), ('comfortable', 'JJ'), ('home', 'NN'), ('and', 'CC'), ('happy', 'JJ'), ('disposition', 'NN'), (',', ','), ('seemed', 'VBD'), ('to', 'TO'), ('unite', 'VB'), ('some', 'DT'), ('of', 'IN'), ('the', 'DT'), ('best', 'JJS'), ('blessings', 'NNS'), ('of', 'IN'), ('existence', 'NN'), (';', ':'), ('and', 'CC'), ('had', 'VBD'), ('lived', 'VBN'), ('nearly', 'RB'), ('twenty-one', 'CD'), ('years', 'NNS'), ('in', 'IN'), ('the', 'DT'), ('world', 'NN'), ('with', 'IN'), ('very', 'RB'), ('little', 'JJ'), ('to', 'TO'), ('distress', 'VB'), ('or', 'CC'), ('vex', 'VB'), ('her', 'PRP'), ('.', '.')]\n"
     ]
    }
   ],
   "source": [
    "# 품사태깅\n",
    "from nltk.tag import pos_tag\n",
    "tagged_list = pos_tag(word_tokenize(sent_tokens[0]))\n",
    "print(word_tokenize(sent_tokens[0]))\n",
    "print('품사태깅한 결과 :', tagged_list)"
   ]
  },
  {
   "cell_type": "markdown",
   "id": "9d3a142a",
   "metadata": {},
   "source": [
    "## 퀴즈 : emma소설안에서\n",
    "1. 특수문자가 들어가지 않는 3글자 이상의 단어만 추출해서 품사태킹을 하시오.\n",
    "    ex)[('emma','명'), ('was','동'),...]\n",
    "2. \"Emma\" 단어가 몇번 등장하며, 품사 태깅이 어떤 품사들로 되어 있는지 모두 출력하시오\n",
    "3. 내가 원하는 품사(명사)의 단어만 뽑아 등장하는 명사의 종류 갯수를 출력하시오"
   ]
  },
  {
   "cell_type": "code",
   "execution_count": 57,
   "id": "661eabde",
   "metadata": {},
   "outputs": [
    {
     "name": "stdout",
     "output_type": "stream",
     "text": [
      "emma 소설에서 3글자 이상의 단어 출현수 : 123817 123817\n",
      "emma 소설에서 3글자 이상의 단어 종류수 : 7470 11434\n",
      "CPU times: total: 4.7 s\n",
      "Wall time: 4.69 s\n"
     ]
    }
   ],
   "source": [
    "%%time\n",
    "# 1.\n",
    "from nltk.tokenize import RegexpTokenizer\n",
    "from nltk.tag import pos_tag\n",
    "ret = RegexpTokenizer('[a-zA-Z0-9]{3,}')\n",
    "emma = nltk.corpus.gutenberg.raw('austen-emma.txt')\n",
    "emma_words = ret.tokenize(emma)\n",
    "emma_tags = pos_tag(emma_words)\n",
    "print('emma 소설에서 3글자 이상의 단어 출현수 :', len(emma_words), len(emma_tags))\n",
    "print('emma 소설에서 3글자 이상의 단어 종류수 :', len(set(emma_words)), len(set(emma_tags)))\n",
    "# 한 단어가 다른 품사로 태깅될 수 있음"
   ]
  },
  {
   "cell_type": "code",
   "execution_count": 56,
   "id": "e93bfbf6",
   "metadata": {},
   "outputs": [
    {
     "name": "stdout",
     "output_type": "stream",
     "text": [
      "['Emma', 'Jane', 'Austen', '1816', 'VOLUME']\n",
      "[('Emma', 'NNP'), ('Jane', 'NNP'), ('Austen', 'NNP'), ('1816', 'CD'), ('VOLUME', 'NNP')]\n"
     ]
    }
   ],
   "source": [
    "print(emma_words[:5])\n",
    "print(emma_tags[:5])"
   ]
  },
  {
   "cell_type": "code",
   "execution_count": 163,
   "id": "25fb9367",
   "metadata": {},
   "outputs": [
    {
     "name": "stdout",
     "output_type": "stream",
     "text": [
      "Emma 출현횟수 : 865\n",
      "Emma의 품사 출현횟수 : {'NN', 'NNS', 'VBN', 'VBP', 'RB', 'VB', 'VBD', 'NNP', 'JJ', 'NNPS'}\n"
     ]
    }
   ],
   "source": [
    "# 2. \"Emma\" 단어가 몇번 등장하며, 품사 태깅이 어떤 품사들로 되어 있는지 모두 출력하시오\n",
    "# pos = [] # 품사만\n",
    "# for emma_tag in emma_tags:\n",
    "#     if(emma_tag[0]==\"Emma\") :\n",
    "#         pos.append(emma_tag[1])\n",
    "pos = [emma_tag[1] for emma_tag in emma_tags if emma_tag[0] == 'Emma']\n",
    "print('Emma 출현횟수 :', len(pos))\n",
    "print('Emma의 품사 출현횟수 :', set(pos))"
   ]
  },
  {
   "cell_type": "code",
   "execution_count": 107,
   "id": "f6acb282",
   "metadata": {},
   "outputs": [
    {
     "data": {
      "text/html": [
       "<div>\n",
       "<style scoped>\n",
       "    .dataframe tbody tr th:only-of-type {\n",
       "        vertical-align: middle;\n",
       "    }\n",
       "\n",
       "    .dataframe tbody tr th {\n",
       "        vertical-align: top;\n",
       "    }\n",
       "\n",
       "    .dataframe thead th {\n",
       "        text-align: right;\n",
       "    }\n",
       "</style>\n",
       "<table border=\"1\" class=\"dataframe\">\n",
       "  <thead>\n",
       "    <tr style=\"text-align: right;\">\n",
       "      <th></th>\n",
       "      <th>Unnamed: 1</th>\n",
       "      <th>Unnamed: 3</th>\n",
       "    </tr>\n",
       "  </thead>\n",
       "  <tbody>\n",
       "    <tr>\n",
       "      <th>7</th>\n",
       "      <td>JJ</td>\n",
       "      <td>형용사</td>\n",
       "    </tr>\n",
       "    <tr>\n",
       "      <th>12</th>\n",
       "      <td>NN</td>\n",
       "      <td>명사, 단수형</td>\n",
       "    </tr>\n",
       "    <tr>\n",
       "      <th>13</th>\n",
       "      <td>NNS</td>\n",
       "      <td>명사, 복수형</td>\n",
       "    </tr>\n",
       "    <tr>\n",
       "      <th>14</th>\n",
       "      <td>NNP</td>\n",
       "      <td>고유명사, 단수형</td>\n",
       "    </tr>\n",
       "    <tr>\n",
       "      <th>15</th>\n",
       "      <td>NNPS</td>\n",
       "      <td>고유명사, 복수형</td>\n",
       "    </tr>\n",
       "    <tr>\n",
       "      <th>20</th>\n",
       "      <td>RB</td>\n",
       "      <td>형용사</td>\n",
       "    </tr>\n",
       "    <tr>\n",
       "      <th>26</th>\n",
       "      <td>VB</td>\n",
       "      <td>동사, 원형</td>\n",
       "    </tr>\n",
       "    <tr>\n",
       "      <th>27</th>\n",
       "      <td>VBD</td>\n",
       "      <td>동사, 과거형</td>\n",
       "    </tr>\n",
       "    <tr>\n",
       "      <th>29</th>\n",
       "      <td>VBN</td>\n",
       "      <td>동사, 과거분사</td>\n",
       "    </tr>\n",
       "    <tr>\n",
       "      <th>30</th>\n",
       "      <td>VBP</td>\n",
       "      <td>NaN</td>\n",
       "    </tr>\n",
       "  </tbody>\n",
       "</table>\n",
       "</div>"
      ],
      "text/plain": [
       "   Unnamed: 1 Unnamed: 3\n",
       "7          JJ        형용사\n",
       "12         NN    명사, 단수형\n",
       "13        NNS    명사, 복수형\n",
       "14        NNP  고유명사, 단수형\n",
       "15       NNPS  고유명사, 복수형\n",
       "20         RB        형용사\n",
       "26         VB     동사, 원형\n",
       "27        VBD    동사, 과거형\n",
       "29        VBN   동사, 과거분사\n",
       "30        VBP        NaN"
      ]
     },
     "execution_count": 107,
     "metadata": {},
     "output_type": "execute_result"
    }
   ],
   "source": [
    "import pandas as pd\n",
    "tagList = pd.read_excel('./POS tag List in NLTK.xlsx')\n",
    "tagList[tagList.iloc[:,1].isin(set(pos))].iloc[:,[1,3]]"
   ]
  },
  {
   "cell_type": "code",
   "execution_count": 108,
   "id": "8171e57f",
   "metadata": {},
   "outputs": [
    {
     "data": {
      "text/plain": [
       "{'NNP': 838,\n",
       " 'VBP': 4,\n",
       " 'JJ': 4,\n",
       " 'VB': 5,\n",
       " 'NNS': 2,\n",
       " 'RB': 1,\n",
       " 'NN': 7,\n",
       " 'NNPS': 2,\n",
       " 'VBN': 1,\n",
       " 'VBD': 1}"
      ]
     },
     "execution_count": 108,
     "metadata": {},
     "output_type": "execute_result"
    }
   ],
   "source": [
    "# emma_tags 에서 각 품사별 몇개씩 태그되었는지\n",
    "# set(pos) # Emma의 품사\n",
    "pos_cnt = dict() # 딕셔너리\n",
    "for word, tag in emma_tags :\n",
    "    if word=='Emma':\n",
    "        if tag in pos_cnt :\n",
    "            pos_cnt[tag] += 1\n",
    "        else:\n",
    "            pos_cnt[tag] = 1\n",
    "pos_cnt"
   ]
  },
  {
   "cell_type": "code",
   "execution_count": 116,
   "id": "4e506d98",
   "metadata": {},
   "outputs": [
    {
     "data": {
      "text/plain": [
       "NNP     838\n",
       "NN        7\n",
       "VB        5\n",
       "VBP       4\n",
       "JJ        4\n",
       "NNS       2\n",
       "NNPS      2\n",
       "VBN       1\n",
       "RB        1\n",
       "VBD       1\n",
       "dtype: int64"
      ]
     },
     "execution_count": 116,
     "metadata": {},
     "output_type": "execute_result"
    }
   ],
   "source": [
    "# emma_tags에서 각 품사별 몇개씩 태그되었는지\n",
    "import pandas as pd\n",
    "pos_cnt = pd.Series([0]*len(set(pos)), index=set(pos))\n",
    "for word, tag in emma_tags:\n",
    "    if word==\"Emma\":\n",
    "        pos_cnt[tag] += 1\n",
    "pos_cnt.sort_values(ascending=False)"
   ]
  },
  {
   "cell_type": "code",
   "execution_count": 129,
   "id": "fdbe1b0d",
   "metadata": {},
   "outputs": [
    {
     "data": {
      "text/plain": [
       "0             (Emma, NNP)\n",
       "1             (Jane, NNP)\n",
       "2           (Austen, NNP)\n",
       "3              (1816, CD)\n",
       "4           (VOLUME, NNP)\n",
       "               ...       \n",
       "123812      (perfect, JJ)\n",
       "123813    (happiness, NN)\n",
       "123814          (the, DT)\n",
       "123815        (union, NN)\n",
       "123816       (FINIS, NNP)\n",
       "Length: 123817, dtype: object"
      ]
     },
     "execution_count": 129,
     "metadata": {},
     "output_type": "execute_result"
    }
   ],
   "source": [
    "emma_tags\n",
    "# pos_cnt = pd.Series([0]*len(set(pos)), index=set(pos))\n",
    "pd.Series(emma_tags)"
   ]
  },
  {
   "cell_type": "code",
   "execution_count": 155,
   "id": "f0bd413a",
   "metadata": {},
   "outputs": [
    {
     "data": {
      "text/plain": [
       "NNP     838\n",
       "NN        7\n",
       "VB        5\n",
       "VBP       4\n",
       "JJ        4\n",
       "NNS       2\n",
       "NNPS      2\n",
       "RB        1\n",
       "VBN       1\n",
       "VBD       1\n",
       "dtype: int64"
      ]
     },
     "execution_count": 155,
     "metadata": {},
     "output_type": "execute_result"
    }
   ],
   "source": [
    "wordList = []\n",
    "tagList = []\n",
    "for tag in emma_tags :\n",
    "#     print(tag[0], tag[1])\n",
    "    if(tag[0]=='Emma') : \n",
    "        wordList.append(tag[0])\n",
    "        tagList.append(tag[1])\n",
    "result = pd.Series(wordList, tagList)\n",
    "result.index.value_counts()"
   ]
  },
  {
   "cell_type": "markdown",
   "id": "912a5c08",
   "metadata": {},
   "source": [
    "### 3. 내가 원하는 품사(명사)의 단어만 뽑아 등장하는 명사의 종류 갯수를 출력하시오"
   ]
  },
  {
   "cell_type": "code",
   "execution_count": 158,
   "id": "2f7d5725",
   "metadata": {},
   "outputs": [
    {
     "data": {
      "text/plain": [
       "191776"
      ]
     },
     "execution_count": 158,
     "metadata": {},
     "output_type": "execute_result"
    }
   ],
   "source": [
    "emma = nltk.corpus.gutenberg.raw('austen-emma.txt')\n",
    "from nltk.tokenize import word_tokenize\n",
    "from nltk.tag import pos_tag\n",
    "words5 = word_tokenize(emma)\n",
    "words5_tag = pos_tag(words5)"
   ]
  },
  {
   "cell_type": "code",
   "execution_count": 159,
   "id": "08b7c871",
   "metadata": {},
   "outputs": [
    {
     "data": {
      "text/plain": [
       "191776"
      ]
     },
     "execution_count": 159,
     "metadata": {},
     "output_type": "execute_result"
    }
   ],
   "source": [
    "len(words5_tag)"
   ]
  },
  {
   "cell_type": "code",
   "execution_count": 166,
   "id": "d46784f5",
   "metadata": {},
   "outputs": [
    {
     "name": "stdout",
     "output_type": "stream",
     "text": [
      "명사가 출현한 횟수 : 30633\n",
      "출현한 명사 갯수 : 4067\n",
      "한 단어가 나오는 평균 빈도수 : 7.5320875338087045\n"
     ]
    }
   ],
   "source": [
    "# nouns_list = [] # 명사들만\n",
    "# for word, tag in emma_tags:\n",
    "#     if (tag=='NN') | (tag=='NNS') | (tag=='NNP') | (tag=='NNPS') :\n",
    "#         nouns_list.append(word)\n",
    "# nouns_list\n",
    "\n",
    "#리스트 컴프리헨션\n",
    "nouns_list = [ word for word, tag in emma_tags if (tag=='NN')\n",
    "                                                  | (tag=='NNS') \n",
    "                                                  | (tag=='NNP') \n",
    "                                                  | (tag=='NNPS')] # 명사들만\n",
    "print('명사가 출현한 횟수 :', len(nouns_list))\n",
    "print('출현한 명사 갯수 :', len(set(nouns_list)))\n",
    "print('한 단어가 나오는 평균 빈도수 :', len(nouns_list) / len(set(nouns_list)))"
   ]
  },
  {
   "cell_type": "code",
   "execution_count": 168,
   "id": "abe676e2",
   "metadata": {},
   "outputs": [
    {
     "data": {
      "image/png": "[encoded data removed]",
      "text/plain": [
       "<Figure size 1500x200 with 1 Axes>"
      ]
     },
     "metadata": {},
     "output_type": "display_data"
    }
   ],
   "source": [
    "# 최빈 단어 시각화\n",
    "import matplotlib.pyplot as plt\n",
    "from nltk import Text\n",
    "emma_text = Text(nouns_list)\n",
    "plt.figure(figsize=(15,2))\n",
    "emma_text.plot(10)\n",
    "plt.show()"
   ]
  },
  {
   "cell_type": "code",
   "execution_count": 169,
   "id": "84d082c0",
   "metadata": {},
   "outputs": [
    {
     "data": {
      "image/png": "[encoded data removed]",
      "text/plain": [
       "<Figure size 640x480 with 1 Axes>"
      ]
     },
     "metadata": {},
     "output_type": "display_data"
    }
   ],
   "source": [
    "emma_text.dispersion_plot(['Emma', 'Jane']) # 특정단어가 언제 나오는지 확인"
   ]
  },
  {
   "cell_type": "code",
   "execution_count": 171,
   "id": "ec8b4f8b",
   "metadata": {},
   "outputs": [
    {
     "name": "stdout",
     "output_type": "stream",
     "text": [
      "고유명사의 갯수 : 577\n"
     ]
    },
    {
     "data": {
      "text/plain": [
       "FreqDist({'Emma': 840, 'Mrs': 698, 'Miss': 572, 'Harriet': 484, 'Weston': 433, 'Knightley': 389, 'Elton': 384, 'Jane': 295, 'Woodhouse': 294, 'Fairfax': 241, ...})"
      ]
     },
     "execution_count": 171,
     "metadata": {},
     "output_type": "execute_result"
    }
   ],
   "source": [
    "# 고유명사\n",
    "names_list = [ word for word, tag in emma_tags if (tag=='NNP') | (tag=='NNPS') ]\n",
    "print('고유명사의 갯수 :', len(set(names_list)))\n",
    "from nltk import FreqDist\n",
    "FreqDist(names_list)"
   ]
  },
  {
   "cell_type": "code",
   "execution_count": 177,
   "id": "11a800f4",
   "metadata": {},
   "outputs": [
    {
     "data": {
      "text/plain": [
       "Emma       840\n",
       "Mrs        698\n",
       "Miss       572\n",
       "Harriet    484\n",
       "Weston     433\n",
       "dtype: int64"
      ]
     },
     "execution_count": 177,
     "metadata": {},
     "output_type": "execute_result"
    }
   ],
   "source": [
    "dic = dict(FreqDist(names_list))\n",
    "wordcnt = pd.Series(dic)\n",
    "wordcnt.sort_values(ascending=False, inplace=True)\n",
    "wordcnt.head()"
   ]
  },
  {
   "cell_type": "code",
   "execution_count": 178,
   "id": "6d9793b9",
   "metadata": {},
   "outputs": [
    {
     "data": {
      "text/plain": [
       "Index(['Emma', 'Mrs', 'Miss', 'Harriet', 'Weston'], dtype='object')"
      ]
     },
     "execution_count": 178,
     "metadata": {},
     "output_type": "execute_result"
    }
   ],
   "source": [
    "names = wordcnt[wordcnt>400]\n",
    "names.index"
   ]
  },
  {
   "cell_type": "code",
   "execution_count": 180,
   "id": "a3a22ec8",
   "metadata": {},
   "outputs": [
    {
     "data": {
      "image/png": "[encoded data removed]",
      "text/plain": [
       "<Figure size 640x480 with 1 Axes>"
      ]
     },
     "metadata": {},
     "output_type": "display_data"
    }
   ],
   "source": [
    "emma_text.dispersion_plot(list(names.index))"
   ]
  },
  {
   "cell_type": "code",
   "execution_count": null,
   "id": "77fca86a",
   "metadata": {},
   "outputs": [],
   "source": []
  },
  {
   "cell_type": "code",
   "execution_count": null,
   "id": "2386d817",
   "metadata": {},
   "outputs": [],
   "source": []
  },
  {
   "cell_type": "code",
   "execution_count": null,
   "id": "13a9099d",
   "metadata": {},
   "outputs": [],
   "source": []
  }
 ],
 "metadata": {
  "kernelspec": {
   "display_name": "ml-dl-nlp",
   "language": "python",
   "name": "ml-dl-nlp"
  },
  "language_info": {
   "codemirror_mode": {
    "name": "ipython",
    "version": 3
   },
   "file_extension": ".py",
   "mimetype": "text/x-python",
   "name": "python",
   "nbconvert_exporter": "python",
   "pygments_lexer": "ipython3",
   "version": "3.10.18"
  },
  "toc": {
   "base_numbering": 1,
   "nav_menu": {},
   "number_sections": false,
   "sideBar": true,
   "skip_h1_title": false,
   "title_cell": "Table of Contents",
   "title_sidebar": "Contents",
   "toc_cell": false,
   "toc_position": {
    "height": "calc(100% - 180px)",
    "left": "10px",
    "top": "150px",
    "width": "165px"
   },
   "toc_section_display": true,
   "toc_window_display": false
  }
 },
 "nbformat": 4,
 "nbformat_minor": 5
}
