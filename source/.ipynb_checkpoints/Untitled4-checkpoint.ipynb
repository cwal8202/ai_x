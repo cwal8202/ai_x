{
 "cells": [
  {
   "cell_type": "code",
   "execution_count": 11,
   "id": "611a2e52",
   "metadata": {},
   "outputs": [
    {
     "name": "stdout",
     "output_type": "stream",
     "text": [
      "기준 폴더: C:\\test\n",
      "데이터셋 구성을 시작합니다...\n"
     ]
    },
    {
     "data": {
      "text/plain": [
       "['chicken', 'pizza', 'ramen']"
      ]
     },
     "execution_count": 11,
     "metadata": {},
     "output_type": "execute_result"
    }
   ],
   "source": [
    "import os\n",
    "import shutil\n",
    "import random\n",
    "import math\n",
    "\n",
    "# 1. 기본 경로 설정\n",
    "# Windows 경로 사용 시, 역슬래시(\\) 문제를 피하기 위해 문자열 앞에 r을 붙입니다.\n",
    "base_path = r\"C:\\test\"\n",
    "\n",
    "print(f\"기준 폴더: {base_path}\")\n",
    "print(\"데이터셋 구성을 시작합니다...\")\n",
    "\n",
    "# 2. 'Computer Vision Lab' 안의 모든 항목 목록을 가져옵니다.\n",
    "all_items = os.listdir(base_path)\n",
    "food_folders = [item for item in all_items if os.path.isdir(os.path.join(base_path, item))]\n",
    "food_folders\n",
    "\n",
    "output_dirs = {'train', 'valid', 'test'}\n",
    "food_folders = [folder for folder in food_folders if folder not in output_dirs]\n",
    "\n",
    "food_folders"
   ]
  },
  {
   "cell_type": "code",
   "execution_count": 17,
   "id": "0a0b0d46",
   "metadata": {},
   "outputs": [
    {
     "name": "stdout",
     "output_type": "stream",
     "text": [
      "기준 폴더: C:\\test\n",
      "데이터셋 구성을 시작합니다...\n",
      "\n",
      "처리 대상 음식 폴더: ['chicken', 'pizza', 'ramen']\n",
      "\n",
      "--- 'chicken' 폴더 처리 중 ---\n",
      "========================== ['chicken002.png', 'chicken001.png']\n",
      "총 2개 이미지 -> Train: 1, Valid: 0, Test: 1\n",
      "'chicken' 폴더의 이미지 이동 완료.\n",
      "\n",
      "--- 'pizza' 폴더 처리 중 ---\n",
      "========================== ['pizza002.png', 'pizza001.png']\n",
      "총 2개 이미지 -> Train: 1, Valid: 0, Test: 1\n",
      "'pizza' 폴더의 이미지 이동 완료.\n",
      "\n",
      "--- 'ramen' 폴더 처리 중 ---\n",
      "========================== ['ramen001.png', 'ramen002.png']\n",
      "총 2개 이미지 -> Train: 1, Valid: 0, Test: 1\n",
      "'ramen' 폴더의 이미지 이동 완료.\n",
      "\n",
      "모든 작업이 성공적으로 완료되었습니다!\n"
     ]
    }
   ],
   "source": [
    "import os\n",
    "import shutil\n",
    "import random\n",
    "import math\n",
    "\n",
    "# 1. 기본 경로 설정\n",
    "# Windows 경로 사용 시, 역슬래시(\\) 문제를 피하기 위해 문자열 앞에 r을 붙입니다.\n",
    "base_path = r\"C:\\test\"\n",
    "\n",
    "print(f\"기준 폴더: {base_path}\")\n",
    "print(\"데이터셋 구성을 시작합니다...\")\n",
    "\n",
    "try:\n",
    "    # 2. 'Computer Vision Lab' 안의 모든 항목 목록을 가져옵니다.\n",
    "    all_items = os.listdir(base_path)\n",
    "\n",
    "    # 3. 폴더만 필터링합니다. (zip, DS_STORE 같은 파일 제외)\n",
    "    food_folders = [item for item in all_items if os.path.isdir(os.path.join(base_path, item))]\n",
    "    \n",
    "    # 4. 스크립트가 생성할 train, valid, test 폴더는 처리 대상에서 제외합니다.\n",
    "    #    (스크립트를 여러 번 실행해도 안전하도록)\n",
    "    output_dirs = {'train', 'valid', 'test'}\n",
    "    food_folders = [folder for folder in food_folders if folder not in output_dirs]\n",
    "\n",
    "    print(f\"\\n처리 대상 음식 폴더: {food_folders}\\n\")\n",
    "\n",
    "    # 5. 각 음식 폴더를 순회하며 작업 수행\n",
    "    for food_name in food_folders:\n",
    "        print(f\"--- '{food_name}' 폴더 처리 중 ---\")\n",
    "        \n",
    "        source_dir = os.path.join(base_path, food_name, 'png')\n",
    "\n",
    "        # 'png' 폴더가 있는지 확인\n",
    "        if not os.path.isdir(source_dir):\n",
    "            print(f\"경고: '{source_dir}' 경로에 png 폴더가 없습니다. 건너뜁니다.\")\n",
    "            continue\n",
    "\n",
    "        # 'png' 폴더 안의 모든 파일 목록을 가져옴\n",
    "        images = [f for f in os.listdir(source_dir) if os.path.isfile(os.path.join(source_dir, f))]\n",
    "        \n",
    "        if not images:\n",
    "            print(f\"경고: '{source_dir}' 폴더에 이미지가 없습니다. 건너뜁니다.\")\n",
    "            continue\n",
    "            \n",
    "        # 6. 이미지 목록을 무작위로 섞음\n",
    "        random.shuffle(images)\n",
    "        print(\"==========================\",images)\n",
    "        \n",
    "        # 7. 7:1.5:1.5 비율로 분할 지점 계산\n",
    "        total_count = len(images)\n",
    "        train_count = math.floor(total_count * 0.7)\n",
    "        valid_count = math.floor(total_count * 0.15)\n",
    "        # test_count는 나머지 전체로 할당하여 소수점 오차로 인한 파일 누락 방지\n",
    "\n",
    "        train_files = images[:train_count]\n",
    "        valid_files = images[train_count : train_count + valid_count]\n",
    "        test_files = images[train_count + valid_count :]\n",
    "        \n",
    "        print(f\"총 {total_count}개 이미지 -> Train: {len(train_files)}, Valid: {len(valid_files)}, Test: {len(test_files)}\")\n",
    "\n",
    "        # 8. 파일을 이동시킬 목적지 폴더 경로 설정 및 생성\n",
    "        dest_train_dir = os.path.join(base_path, 'train', food_name)\n",
    "        dest_valid_dir = os.path.join(base_path, 'valid', food_name)\n",
    "        dest_test_dir = os.path.join(base_path, 'test', food_name)\n",
    "        \n",
    "        os.makedirs(dest_train_dir, exist_ok=True)\n",
    "        os.makedirs(dest_valid_dir, exist_ok=True)\n",
    "        os.makedirs(dest_test_dir, exist_ok=True)\n",
    "\n",
    "        # 9. 파일 이동 함수\n",
    "        def move_files(files, destination_dir):\n",
    "            for f in files:\n",
    "                source_file = os.path.join(source_dir, f)\n",
    "                dest_file = os.path.join(destination_dir, f)\n",
    "                shutil.copy2(source_file, dest_file)\n",
    "\n",
    "        # 파일 이동 실행\n",
    "        move_files(train_files, dest_train_dir)\n",
    "        move_files(valid_files, dest_valid_dir)\n",
    "        move_files(test_files, dest_test_dir)\n",
    "        \n",
    "        print(f\"'{food_name}' 폴더의 이미지 이동 완료.\\n\")\n",
    "\n",
    "    print(\"모든 작업이 성공적으로 완료되었습니다!\")\n",
    "\n",
    "except FileNotFoundError:\n",
    "    print(f\"오류: 기본 경로 '{base_path}'를 찾을 수 없습니다. 경로를 확인해주세요.\")\n",
    "except Exception as e:\n",
    "    print(f\"오류가 발생했습니다: {e}\")"
   ]
  },
  {
   "cell_type": "code",
   "execution_count": 1,
   "id": "7197c293",
   "metadata": {},
   "outputs": [
    {
     "name": "stdout",
     "output_type": "stream",
     "text": [
      "Creating file list...\n"
     ]
    },
    {
     "ename": "KeyboardInterrupt",
     "evalue": "",
     "output_type": "error",
     "traceback": [
      "\u001b[1;31m---------------------------------------------------------------------------\u001b[0m",
      "\u001b[1;31mKeyboardInterrupt\u001b[0m                         Traceback (most recent call last)",
      "Cell \u001b[1;32mIn[1], line 11\u001b[0m\n\u001b[0;32m      9\u001b[0m \u001b[38;5;66;03m# 2. 전체 파일 경로와 레이블을 DataFrame으로 만듭니다.\u001b[39;00m\n\u001b[0;32m     10\u001b[0m \u001b[38;5;28mprint\u001b[39m(\u001b[38;5;124m\"\u001b[39m\u001b[38;5;124mCreating file list...\u001b[39m\u001b[38;5;124m\"\u001b[39m)\n\u001b[1;32m---> 11\u001b[0m all_filepaths \u001b[38;5;241m=\u001b[39m \u001b[43mglob\u001b[49m\u001b[38;5;241;43m.\u001b[39;49m\u001b[43mglob\u001b[49m\u001b[43m(\u001b[49m\u001b[43mos\u001b[49m\u001b[38;5;241;43m.\u001b[39;49m\u001b[43mpath\u001b[49m\u001b[38;5;241;43m.\u001b[39;49m\u001b[43mjoin\u001b[49m\u001b[43m(\u001b[49m\u001b[43mmain_data_dir\u001b[49m\u001b[43m,\u001b[49m\u001b[43m \u001b[49m\u001b[38;5;124;43m'\u001b[39;49m\u001b[38;5;124;43m*\u001b[39;49m\u001b[38;5;124;43m'\u001b[39;49m\u001b[43m,\u001b[49m\u001b[43m \u001b[49m\u001b[38;5;124;43m'\u001b[39;49m\u001b[38;5;124;43mpng\u001b[39;49m\u001b[38;5;124;43m'\u001b[39;49m\u001b[43m,\u001b[49m\u001b[43m \u001b[49m\u001b[38;5;124;43m'\u001b[39;49m\u001b[38;5;124;43m*.png\u001b[39;49m\u001b[38;5;124;43m'\u001b[39;49m\u001b[43m)\u001b[49m\u001b[43m)\u001b[49m\n\u001b[0;32m     12\u001b[0m all_labels \u001b[38;5;241m=\u001b[39m [os\u001b[38;5;241m.\u001b[39mpath\u001b[38;5;241m.\u001b[39mbasename(os\u001b[38;5;241m.\u001b[39mpath\u001b[38;5;241m.\u001b[39mdirname(os\u001b[38;5;241m.\u001b[39mpath\u001b[38;5;241m.\u001b[39mdirname(p))) \u001b[38;5;28;01mfor\u001b[39;00m p \u001b[38;5;129;01min\u001b[39;00m all_filepaths]\n\u001b[0;32m     14\u001b[0m df \u001b[38;5;241m=\u001b[39m pd\u001b[38;5;241m.\u001b[39mDataFrame({\u001b[38;5;124m'\u001b[39m\u001b[38;5;124mfilepath\u001b[39m\u001b[38;5;124m'\u001b[39m: all_filepaths, \u001b[38;5;124m'\u001b[39m\u001b[38;5;124mlabel\u001b[39m\u001b[38;5;124m'\u001b[39m: all_labels})\n",
      "File \u001b[1;32m~\\anaconda3\\envs\\ml-dl-nlp\\lib\\glob.py:24\u001b[0m, in \u001b[0;36mglob\u001b[1;34m(pathname, root_dir, dir_fd, recursive)\u001b[0m\n\u001b[0;32m     13\u001b[0m \u001b[38;5;28;01mdef\u001b[39;00m\u001b[38;5;250m \u001b[39m\u001b[38;5;21mglob\u001b[39m(pathname, \u001b[38;5;241m*\u001b[39m, root_dir\u001b[38;5;241m=\u001b[39m\u001b[38;5;28;01mNone\u001b[39;00m, dir_fd\u001b[38;5;241m=\u001b[39m\u001b[38;5;28;01mNone\u001b[39;00m, recursive\u001b[38;5;241m=\u001b[39m\u001b[38;5;28;01mFalse\u001b[39;00m):\n\u001b[0;32m     14\u001b[0m \u001b[38;5;250m    \u001b[39m\u001b[38;5;124;03m\"\"\"Return a list of paths matching a pathname pattern.\u001b[39;00m\n\u001b[0;32m     15\u001b[0m \n\u001b[0;32m     16\u001b[0m \u001b[38;5;124;03m    The pattern may contain simple shell-style wildcards a la\u001b[39;00m\n\u001b[1;32m   (...)\u001b[0m\n\u001b[0;32m     22\u001b[0m \u001b[38;5;124;03m    zero or more directories and subdirectories.\u001b[39;00m\n\u001b[0;32m     23\u001b[0m \u001b[38;5;124;03m    \"\"\"\u001b[39;00m\n\u001b[1;32m---> 24\u001b[0m     \u001b[38;5;28;01mreturn\u001b[39;00m \u001b[38;5;28;43mlist\u001b[39;49m\u001b[43m(\u001b[49m\u001b[43miglob\u001b[49m\u001b[43m(\u001b[49m\u001b[43mpathname\u001b[49m\u001b[43m,\u001b[49m\u001b[43m \u001b[49m\u001b[43mroot_dir\u001b[49m\u001b[38;5;241;43m=\u001b[39;49m\u001b[43mroot_dir\u001b[49m\u001b[43m,\u001b[49m\u001b[43m \u001b[49m\u001b[43mdir_fd\u001b[49m\u001b[38;5;241;43m=\u001b[39;49m\u001b[43mdir_fd\u001b[49m\u001b[43m,\u001b[49m\u001b[43m \u001b[49m\u001b[43mrecursive\u001b[49m\u001b[38;5;241;43m=\u001b[39;49m\u001b[43mrecursive\u001b[49m\u001b[43m)\u001b[49m\u001b[43m)\u001b[49m\n",
      "File \u001b[1;32m~\\anaconda3\\envs\\ml-dl-nlp\\lib\\glob.py:86\u001b[0m, in \u001b[0;36m_iglob\u001b[1;34m(pathname, root_dir, dir_fd, recursive, dironly)\u001b[0m\n\u001b[0;32m     84\u001b[0m     glob_in_dir \u001b[38;5;241m=\u001b[39m _glob0\n\u001b[0;32m     85\u001b[0m \u001b[38;5;28;01mfor\u001b[39;00m dirname \u001b[38;5;129;01min\u001b[39;00m dirs:\n\u001b[1;32m---> 86\u001b[0m     \u001b[38;5;28;01mfor\u001b[39;00m name \u001b[38;5;129;01min\u001b[39;00m \u001b[43mglob_in_dir\u001b[49m\u001b[43m(\u001b[49m\u001b[43m_join\u001b[49m\u001b[43m(\u001b[49m\u001b[43mroot_dir\u001b[49m\u001b[43m,\u001b[49m\u001b[43m \u001b[49m\u001b[43mdirname\u001b[49m\u001b[43m)\u001b[49m\u001b[43m,\u001b[49m\u001b[43m \u001b[49m\u001b[43mbasename\u001b[49m\u001b[43m,\u001b[49m\u001b[43m \u001b[49m\u001b[43mdir_fd\u001b[49m\u001b[43m,\u001b[49m\u001b[43m \u001b[49m\u001b[43mdironly\u001b[49m\u001b[43m)\u001b[49m:\n\u001b[0;32m     87\u001b[0m         \u001b[38;5;28;01myield\u001b[39;00m os\u001b[38;5;241m.\u001b[39mpath\u001b[38;5;241m.\u001b[39mjoin(dirname, name)\n",
      "File \u001b[1;32m~\\anaconda3\\envs\\ml-dl-nlp\\lib\\glob.py:94\u001b[0m, in \u001b[0;36m_glob1\u001b[1;34m(dirname, pattern, dir_fd, dironly)\u001b[0m\n\u001b[0;32m     93\u001b[0m \u001b[38;5;28;01mdef\u001b[39;00m\u001b[38;5;250m \u001b[39m\u001b[38;5;21m_glob1\u001b[39m(dirname, pattern, dir_fd, dironly):\n\u001b[1;32m---> 94\u001b[0m     names \u001b[38;5;241m=\u001b[39m \u001b[43m_listdir\u001b[49m\u001b[43m(\u001b[49m\u001b[43mdirname\u001b[49m\u001b[43m,\u001b[49m\u001b[43m \u001b[49m\u001b[43mdir_fd\u001b[49m\u001b[43m,\u001b[49m\u001b[43m \u001b[49m\u001b[43mdironly\u001b[49m\u001b[43m)\u001b[49m\n\u001b[0;32m     95\u001b[0m     \u001b[38;5;28;01mif\u001b[39;00m \u001b[38;5;129;01mnot\u001b[39;00m _ishidden(pattern):\n\u001b[0;32m     96\u001b[0m         names \u001b[38;5;241m=\u001b[39m (x \u001b[38;5;28;01mfor\u001b[39;00m x \u001b[38;5;129;01min\u001b[39;00m names \u001b[38;5;28;01mif\u001b[39;00m \u001b[38;5;129;01mnot\u001b[39;00m _ishidden(x))\n",
      "File \u001b[1;32m~\\anaconda3\\envs\\ml-dl-nlp\\lib\\glob.py:164\u001b[0m, in \u001b[0;36m_listdir\u001b[1;34m(dirname, dir_fd, dironly)\u001b[0m\n\u001b[0;32m    162\u001b[0m \u001b[38;5;28;01mdef\u001b[39;00m\u001b[38;5;250m \u001b[39m\u001b[38;5;21m_listdir\u001b[39m(dirname, dir_fd, dironly):\n\u001b[0;32m    163\u001b[0m     \u001b[38;5;28;01mwith\u001b[39;00m contextlib\u001b[38;5;241m.\u001b[39mclosing(_iterdir(dirname, dir_fd, dironly)) \u001b[38;5;28;01mas\u001b[39;00m it:\n\u001b[1;32m--> 164\u001b[0m         \u001b[38;5;28;01mreturn\u001b[39;00m \u001b[38;5;28;43mlist\u001b[39;49m\u001b[43m(\u001b[49m\u001b[43mit\u001b[49m\u001b[43m)\u001b[49m\n",
      "File \u001b[1;32m~\\anaconda3\\envs\\ml-dl-nlp\\lib\\glob.py:149\u001b[0m, in \u001b[0;36m_iterdir\u001b[1;34m(dirname, dir_fd, dironly)\u001b[0m\n\u001b[0;32m    147\u001b[0m \u001b[38;5;28;01mfor\u001b[39;00m entry \u001b[38;5;129;01min\u001b[39;00m it:\n\u001b[0;32m    148\u001b[0m     \u001b[38;5;28;01mtry\u001b[39;00m:\n\u001b[1;32m--> 149\u001b[0m         \u001b[38;5;28;01mif\u001b[39;00m \u001b[38;5;129;01mnot\u001b[39;00m dironly \u001b[38;5;129;01mor\u001b[39;00m entry\u001b[38;5;241m.\u001b[39mis_dir():\n\u001b[0;32m    150\u001b[0m             \u001b[38;5;28;01mif\u001b[39;00m fsencode \u001b[38;5;129;01mis\u001b[39;00m \u001b[38;5;129;01mnot\u001b[39;00m \u001b[38;5;28;01mNone\u001b[39;00m:\n\u001b[0;32m    151\u001b[0m                 \u001b[38;5;28;01myield\u001b[39;00m fsencode(entry\u001b[38;5;241m.\u001b[39mname)\n",
      "\u001b[1;31mKeyboardInterrupt\u001b[0m: "
     ]
    }
   ],
   "source": [
    "import os\n",
    "import pandas as pd\n",
    "import glob\n",
    "from sklearn.model_selection import train_test_split\n",
    "\n",
    "# 1. 모든 클래스 폴더가 있는 단일 원본 경로만 지정합니다.\n",
    "main_data_dir = r'C:\\test'\n",
    "\n",
    "# 2. 전체 파일 경로와 레이블을 DataFrame으로 만듭니다.\n",
    "print(\"Creating file list...\")\n",
    "all_filepaths = glob.glob(os.path.join(main_data_dir, '*', 'png', '*.png'))\n",
    "all_labels = [os.path.basename(os.path.dirname(os.path.dirname(p))) for p in all_filepaths]\n",
    "\n",
    "df = pd.DataFrame({'filepath': all_filepaths, 'label': all_labels})\n",
    "print(f\"Total images found: {len(df)}\")\n",
    "\n",
    "# 3. train_test_split을 사용해 데이터를 70:15:15 비율로 분할합니다.\n",
    "# 먼저 train(70%)과 temp(30%)로 나눕니다.\n",
    "train_df, temp_df = train_test_split(\n",
    "    df,\n",
    "    train_size=0.7,\n",
    "    shuffle=True,\n",
    "    stratify=df['label'],\n",
    "    random_state=42\n",
    ")\n",
    "\n",
    "# temp(30%)를 valid(15%)와 test(15%)로 나눕니다. (30%의 50%는 15%)\n",
    "valid_df, test_df = train_test_split(\n",
    "    temp_df,\n",
    "    train_size=0.5,\n",
    "    shuffle=True,\n",
    "    stratify=temp_df['label'],\n",
    "    random_state=42\n",
    ")"
   ]
  },
  {
   "cell_type": "code",
   "execution_count": null,
   "id": "c8117517",
   "metadata": {},
   "outputs": [],
   "source": []
  }
 ],
 "metadata": {
  "kernelspec": {
   "display_name": "ml-dl-nlp",
   "language": "python",
   "name": "ml-dl-nlp"
  },
  "language_info": {
   "codemirror_mode": {
    "name": "ipython",
    "version": 3
   },
   "file_extension": ".py",
   "mimetype": "text/x-python",
   "name": "python",
   "nbconvert_exporter": "python",
   "pygments_lexer": "ipython3",
   "version": "3.10.18"
  },
  "toc": {
   "base_numbering": 1,
   "nav_menu": {},
   "number_sections": false,
   "sideBar": true,
   "skip_h1_title": false,
   "title_cell": "Table of Contents",
   "title_sidebar": "Contents",
   "toc_cell": false,
   "toc_position": {},
   "toc_section_display": true,
   "toc_window_display": false
  }
 },
 "nbformat": 4,
 "nbformat_minor": 5
}
