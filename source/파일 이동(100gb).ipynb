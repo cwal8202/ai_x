{
 "cells": [
  {
   "cell_type": "code",
   "execution_count": 5,
   "id": "8c90e9e3",
   "metadata": {},
   "outputs": [],
   "source": [
    "import os\n",
    "import shutil\n",
    "import random\n",
    "import argparse\n",
    "def split_data(src_dir, dest_dir, train_ratio, val_ratio, test_ratio, seed=42):\n",
    "    \"\"\"\n",
    "    src_dir: 원본 데이터가 클래스별 폴더로 나뉘어 있는 상위 디렉터리\n",
    "    dest_dir: 분할된 데이터를 저장할 상위 디렉터리\n",
    "    train_ratio, val_ratio, test_ratio: 학습/검증/테스트 비율 (합이 1.0이어야 함)\n",
    "    seed: 랜덤 시드 (재현 가능하도록)\n",
    "    \"\"\"\n",
    "    if abs((train_ratio + val_ratio + test_ratio) - 1.0) > 1e-6:\n",
    "        raise ValueError(\"train_ratio + val_ratio + test_ratio must sum to 1.0\")\n",
    "\n",
    "    random.seed(seed)\n",
    "    classes = [d for d in os.listdir(src_dir) if os.path.isdir(os.path.join(src_dir, d))]\n",
    "\n",
    "    for cls in classes:\n",
    "        cls_path = os.path.join(src_dir, cls)\n",
    "        images = [f for f in os.listdir(cls_path)\n",
    "                  if os.path.isfile(os.path.join(cls_path, f))]\n",
    "        random.shuffle(images)\n",
    "\n",
    "        total = len(images)\n",
    "        train_end = int(train_ratio * total)\n",
    "        val_end   = train_end + int(val_ratio * total)\n",
    "\n",
    "        splits = {\n",
    "            'train': images[:train_end],\n",
    "            'valid': images[train_end:val_end],\n",
    "            'test':  images[val_end:]\n",
    "        }\n",
    "\n",
    "        for split_name, split_files in splits.items():\n",
    "            out_dir = os.path.join(dest_dir, split_name, cls)\n",
    "            os.makedirs(out_dir, exist_ok=True)\n",
    "            for img in split_files:\n",
    "                shutil.copy2(os.path.join(cls_path, img),\n",
    "                             os.path.join(out_dir, img))\n",
    "\n",
    "    print(\"Dataset split complete.\")"
   ]
  },
  {
   "cell_type": "code",
   "execution_count": 6,
   "id": "3018635c",
   "metadata": {},
   "outputs": [
    {
     "name": "stdout",
     "output_type": "stream",
     "text": [
      "Dataset split complete.\n"
     ]
    }
   ],
   "source": [
    "src = \"E:\\★★★★★AI★★★★★\\음식 ai data\\selectStart음식DATA\\Computer Vision Lab\"\n",
    "dest = \"E:\\★★★★★AI★★★★★\\음식 ai data\\selectStart음식DATA\\dataset_splits\"\n",
    "train_ratio = 0.7\n",
    "val_ratio = 0.15\n",
    "test_ratio = 0.15\n",
    "\n",
    "split_data(src, dest, train_ratio, val_ratio, test_ratio, seed=42)"
   ]
  },
  {
   "cell_type": "code",
   "execution_count": null,
   "id": "c3e1a3a2",
   "metadata": {},
   "outputs": [],
   "source": []
  }
 ],
 "metadata": {
  "kernelspec": {
   "display_name": "ml-dl-nlp",
   "language": "python",
   "name": "ml-dl-nlp"
  },
  "language_info": {
   "codemirror_mode": {
    "name": "ipython",
    "version": 3
   },
   "file_extension": ".py",
   "mimetype": "text/x-python",
   "name": "python",
   "nbconvert_exporter": "python",
   "pygments_lexer": "ipython3",
   "version": "3.10.18"
  },
  "toc": {
   "base_numbering": 1,
   "nav_menu": {},
   "number_sections": false,
   "sideBar": true,
   "skip_h1_title": false,
   "title_cell": "Table of Contents",
   "title_sidebar": "Contents",
   "toc_cell": false,
   "toc_position": {},
   "toc_section_display": true,
   "toc_window_display": false
  }
 },
 "nbformat": 4,
 "nbformat_minor": 5
}
