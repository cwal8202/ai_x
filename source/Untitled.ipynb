{
 "cells": [
  {
   "cell_type": "code",
   "execution_count": 7,
   "id": "9b58a0a9",
   "metadata": {},
   "outputs": [
    {
     "name": "stdout",
     "output_type": "stream",
     "text": [
      "[['restaurant_id', '잘못된 요청입니다.']]\n"
     ]
    }
   ],
   "source": [
    "import requests\n",
    "\n",
    "headers = {\n",
    "    \"x-apikey\": \"iphoneap\",\n",
    "    \"x-apisecret\": \"fe5183cc3dea12bd0ce299cf110a75a2\",\n",
    "    \"User-Agent\": \"Mozilla/5.0\"\n",
    "}\n",
    "\n",
    "params = {\n",
    "    \"category\": \"치킨\",\n",
    "    \"items\": 20,\n",
    "    \"lat\": 37.54775437002297,\n",
    "    \"lng\": 127.06083008344,\n",
    "    \"page\": 0\n",
    "}\n",
    "\n",
    "response = requests.get(\n",
    "    \"https://www.yogiyo.co.kr/api/v1/restaurants/533374/menu/\",\n",
    "    headers=headers,\n",
    "    params=params\n",
    ")\n",
    "\n",
    "print(response.json())\n"
   ]
  },
  {
   "cell_type": "code",
   "execution_count": null,
   "id": "e9db0813",
   "metadata": {},
   "outputs": [],
   "source": []
  }
 ],
 "metadata": {
  "kernelspec": {
   "display_name": "Python 3 (ipykernel)",
   "language": "python",
   "name": "python3"
  },
  "language_info": {
   "codemirror_mode": {
    "name": "ipython",
    "version": 3
   },
   "file_extension": ".py",
   "mimetype": "text/x-python",
   "name": "python",
   "nbconvert_exporter": "python",
   "pygments_lexer": "ipython3",
   "version": "3.10.9"
  },
  "toc": {
   "base_numbering": 1,
   "nav_menu": {},
   "number_sections": false,
   "sideBar": true,
   "skip_h1_title": false,
   "title_cell": "Table of Contents",
   "title_sidebar": "Contents",
   "toc_cell": false,
   "toc_position": {},
   "toc_section_display": true,
   "toc_window_display": false
  }
 },
 "nbformat": 4,
 "nbformat_minor": 5
}
